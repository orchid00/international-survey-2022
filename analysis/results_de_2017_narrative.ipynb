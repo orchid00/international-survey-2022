{
 "cells": [
  {
   "cell_type": "markdown",
   "metadata": {},
   "source": [
    "# Importing modules"
   ]
  },
  {
   "cell_type": "code",
   "execution_count": null,
   "metadata": {
    "collapsed": true,
    "scrolled": true
   },
   "outputs": [],
   "source": [
    "import pandas as pd\n",
    "import numpy as np\n",
    "import matplotlib\n",
    "import matplotlib.pyplot as plt\n",
    "from IPython.display import display\n",
    "import IPython.core.display as di\n",
    "from IPython.core.interactiveshell import InteractiveShell\n",
    "from include.config import CleaningConfig, PlottingConfig, NotebookConfig\n",
    "from include.counting import get_count, get_percentage\n",
    "from include.plotting import get_plot, display_side_by_side\n",
    "from include.likertScalePlot import likert_scale\n",
    "from include.textCleaning import wordcloud"
   ]
  },
  {
   "cell_type": "code",
   "execution_count": null,
   "metadata": {
    "collapsed": true,
    "scrolled": true
   },
   "outputs": [],
   "source": [
    "pd.set_option('display.max_rows', 1000)\n",
    "pd.set_option('display.max_columns', 1000) \n",
    "InteractiveShell.ast_node_interactivity = \"all\" "
   ]
  },
  {
   "cell_type": "markdown",
   "metadata": {},
   "source": [
    "This text is used to hide the code cell when exported in html"
   ]
  },
  {
   "cell_type": "code",
   "execution_count": null,
   "metadata": {
    "collapsed": true,
    "scrolled": true
   },
   "outputs": [],
   "source": [
    "di.display_html('<script>jQuery(function() {if (jQuery(\"body.notebook_app\").length == 0) { jQuery(\".input_area\").toggle(); jQuery(\".prompt\").toggle();}});</script>', raw=True)"
   ]
  },
  {
   "cell_type": "code",
   "execution_count": null,
   "metadata": {
    "collapsed": true,
    "scrolled": true
   },
   "outputs": [],
   "source": [
    "get_ipython().magic('matplotlib inline')  # Activate that line to use in Jupyter \n",
    "matplotlib.rcParams['figure.figsize'] = (15.0, 8.0)"
   ]
  },
  {
   "cell_type": "markdown",
   "metadata": {},
   "source": [
    "# Load dataset\n",
    "To find the total number of participants, we took all submissions and then removed those from people who were outside the country (see question 1) and those from people who had not completed the first ten questions (i.e. those people who did not complete the first page of the survey)."
   ]
  },
  {
   "cell_type": "code",
   "execution_count": null,
   "metadata": {
    "collapsed": true,
    "scrolled": true
   },
   "outputs": [],
   "source": [
    "df =  pd.read_csv('./2017/de/data/cleaned_data.csv')"
   ]
  },
  {
   "cell_type": "code",
   "execution_count": null,
   "metadata": {
    "collapsed": true,
    "scrolled": true
   },
   "outputs": [],
   "source": [
    "print('The total number of particants in this study: {}'.format(len(df)))"
   ]
  },
  {
   "cell_type": "markdown",
   "metadata": {},
   "source": [
    "# Section 1. Social demographics\n",
    "In this section, we determine some information about the demographics of the respondents: language, gender, pay, educational level, age."
   ]
  },
  {
   "cell_type": "markdown",
   "metadata": {},
   "source": [
    "## Language\n",
    "This survey offered the possibility to choose in which language the questions were displayed. The participants had the choice between German and English. 70% of the participants chose to fill the survey in German."
   ]
  },
  {
   "cell_type": "code",
   "execution_count": null,
   "metadata": {
    "collapsed": true,
    "scrolled": true
   },
   "outputs": [],
   "source": [
    "v_to_count, filename  = get_count(df, ['startlanguage. Start language'], \"one choice\", \"../survey_creation/2017/de/listAnswers/languages.csv\", \"False\", \"./2017/de/output/\")"
   ]
  },
  {
   "cell_type": "code",
   "execution_count": null,
   "metadata": {
    "collapsed": true,
    "scrolled": true
   },
   "outputs": [],
   "source": [
    "perc_to_count = get_percentage(v_to_count, filename)"
   ]
  },
  {
   "cell_type": "code",
   "execution_count": null,
   "metadata": {
    "collapsed": true,
    "scrolled": true
   },
   "outputs": [],
   "source": [
    "display_side_by_side(v_to_count,perc_to_count)"
   ]
  },
  {
   "cell_type": "code",
   "execution_count": null,
   "metadata": {
    "collapsed": true,
    "scrolled": true
   },
   "outputs": [],
   "source": [
    "_ = get_plot(perc_to_count, \"one choice\")"
   ]
  },
  {
   "cell_type": "markdown",
   "metadata": {},
   "source": [
    "## Country of work\n",
    "The data was cleaned to remove all non-German respondents. "
   ]
  },
  {
   "cell_type": "code",
   "execution_count": null,
   "metadata": {
    "collapsed": true,
    "scrolled": true
   },
   "outputs": [],
   "source": [
    "v_to_count, filename  = get_count(df, ['socio1. In which country do you work?'], \"one choice\", \"./../survey_creation/2017/de/listAnswers/countries.csv\", \"False\", \"./2017/de/output/\")"
   ]
  },
  {
   "cell_type": "code",
   "execution_count": null,
   "metadata": {
    "collapsed": true,
    "scrolled": true
   },
   "outputs": [],
   "source": [
    "perc_to_count = get_percentage(v_to_count, filename)"
   ]
  },
  {
   "cell_type": "code",
   "execution_count": null,
   "metadata": {
    "collapsed": true,
    "scrolled": true
   },
   "outputs": [],
   "source": [
    "display_side_by_side(v_to_count,perc_to_count)"
   ]
  },
  {
   "cell_type": "code",
   "execution_count": null,
   "metadata": {
    "collapsed": true,
    "scrolled": true
   },
   "outputs": [],
   "source": [
    "_ = get_plot(perc_to_count, \"one choice\")"
   ]
  },
  {
   "cell_type": "markdown",
   "metadata": {},
   "source": [
    "## Qualifications\n",
    "The highest proportion of RSEs hold a *doctorate* (48%) as their highest qualification but only by a margin when compared to *master degree* (43%). The rest of the participants are splitted between *undergraduate degree* (5%), *Other* (2%) and *final secondary-school examinations, general qualification for university entrance* (2%). \n",
    "\n",
    "Most RSEs derive from a background in *Physics and Astronomy* (26%). Then the three mains background are *Computer Science* (17%), *Biological Sciences* (11%) and *Other* (11%). There is a significant reduction in numbers in the next most popular background *Geography & Environmental Sciences* (7%)."
   ]
  },
  {
   "cell_type": "markdown",
   "metadata": {},
   "source": [
    "### Education level"
   ]
  },
  {
   "cell_type": "code",
   "execution_count": null,
   "metadata": {
    "collapsed": true,
    "scrolled": true
   },
   "outputs": [],
   "source": [
    "v_to_count, filename  = get_count(df, ['edu1. What is the highest qualification you have obtained?'], \"one choice\", \"./../survey_creation/2017/de/listAnswers/education_de.csv\", \"False\", \"./2017/de/output/\")"
   ]
  },
  {
   "cell_type": "code",
   "execution_count": null,
   "metadata": {
    "collapsed": true,
    "scrolled": true
   },
   "outputs": [],
   "source": [
    "perc_to_count = get_percentage(v_to_count, filename)"
   ]
  },
  {
   "cell_type": "code",
   "execution_count": null,
   "metadata": {
    "collapsed": true,
    "scrolled": true
   },
   "outputs": [],
   "source": [
    "display_side_by_side(v_to_count,perc_to_count)"
   ]
  },
  {
   "cell_type": "code",
   "execution_count": null,
   "metadata": {
    "collapsed": true,
    "scrolled": true
   },
   "outputs": [],
   "source": [
    "_ = get_plot(perc_to_count, \"one choice\")"
   ]
  },
  {
   "cell_type": "markdown",
   "metadata": {},
   "source": [
    "### Field of qualification "
   ]
  },
  {
   "cell_type": "code",
   "execution_count": null,
   "metadata": {
    "collapsed": true,
    "scrolled": true
   },
   "outputs": [],
   "source": [
    "v_to_count, filename  = get_count(df, ['edu2. In which subject is your highest academic qualification?'], \"one choice\", \"./../survey_creation/2017/de/listAnswers/academic_field.csv\", \"False\", \"./2017/de/output/\")"
   ]
  },
  {
   "cell_type": "code",
   "execution_count": null,
   "metadata": {
    "collapsed": true,
    "scrolled": true
   },
   "outputs": [],
   "source": [
    "perc_to_count = get_percentage(v_to_count, filename)"
   ]
  },
  {
   "cell_type": "code",
   "execution_count": null,
   "metadata": {
    "collapsed": true,
    "scrolled": true
   },
   "outputs": [],
   "source": [
    "display_side_by_side(v_to_count,perc_to_count)"
   ]
  },
  {
   "cell_type": "code",
   "execution_count": null,
   "metadata": {
    "collapsed": true,
    "scrolled": true
   },
   "outputs": [],
   "source": [
    "_ = get_plot(perc_to_count, \"one choice\")"
   ]
  },
  {
   "cell_type": "markdown",
   "metadata": {},
   "source": [
    "## Gender\n",
    "Their is a clear gender imbalance in the RSE community in Germany. It is predominately *male* (83%). Only 13% of the participants describe their gender as *female*, while 4% *prefer not to say*. "
   ]
  },
  {
   "cell_type": "code",
   "execution_count": null,
   "metadata": {
    "collapsed": true,
    "scrolled": true
   },
   "outputs": [],
   "source": [
    "v_to_count, filename  = get_count(df, ['socio2. Please select your gender'], \"one choice\", \"./../survey_creation/2017/de/listAnswers/gender.csv\", \"False\", \"./2017/de/output/\")"
   ]
  },
  {
   "cell_type": "code",
   "execution_count": null,
   "metadata": {
    "collapsed": true,
    "scrolled": true
   },
   "outputs": [],
   "source": [
    "perc_to_count = get_percentage(v_to_count, filename)"
   ]
  },
  {
   "cell_type": "code",
   "execution_count": null,
   "metadata": {
    "collapsed": true,
    "scrolled": true
   },
   "outputs": [],
   "source": [
    "display_side_by_side(v_to_count,perc_to_count)"
   ]
  },
  {
   "cell_type": "code",
   "execution_count": null,
   "metadata": {
    "collapsed": true,
    "scrolled": true
   },
   "outputs": [],
   "source": [
    "_ = get_plot(perc_to_count, \"one choice\")"
   ]
  },
  {
   "cell_type": "markdown",
   "metadata": {},
   "source": [
    "## Age\n",
    "The majority of RSEs fall within the *25 to 34 years* (45%), and the next more important age range is *35 to 44 years* (39%). The representation of older or younger range is marginal compared to these two groups (17% in total, split in three age ranges)."
   ]
  },
  {
   "cell_type": "code",
   "execution_count": null,
   "metadata": {
    "collapsed": true,
    "scrolled": true
   },
   "outputs": [],
   "source": [
    "v_to_count, filename  = get_count(df, ['socio3. Please select your age'], \"one choice\", \"./../survey_creation/2017/de/listAnswers/age.csv\", \"True\", \"./2017/de/output/\")"
   ]
  },
  {
   "cell_type": "code",
   "execution_count": null,
   "metadata": {
    "collapsed": true,
    "scrolled": true
   },
   "outputs": [],
   "source": [
    "perc_to_count = get_percentage(v_to_count, filename)"
   ]
  },
  {
   "cell_type": "code",
   "execution_count": null,
   "metadata": {
    "collapsed": true,
    "scrolled": true
   },
   "outputs": [],
   "source": [
    "display_side_by_side(v_to_count,perc_to_count)"
   ]
  },
  {
   "cell_type": "code",
   "execution_count": null,
   "metadata": {
    "collapsed": true,
    "scrolled": true
   },
   "outputs": [],
   "source": [
    "_ = get_plot(perc_to_count, \"one choice\")"
   ]
  },
  {
   "cell_type": "markdown",
   "metadata": {},
   "source": [
    "## Salary\n",
    "\n",
    "We asked the participants to give us the range of salary they are paid. The most common salary in Germany for the participants is less than 27.499 euros (19%). However, almost half of the participants (42%), are concentred within three ranges of salary, spanning from 44.000 euros to 65.999 euros: 10% for the range between 44.000 ad 49.999 euros, 16% between 50.000 and 54.999 euros and 16% between 55.000 and 65.999 euros."
   ]
  },
  {
   "cell_type": "markdown",
   "metadata": {},
   "source": [
    "### Salary"
   ]
  },
  {
   "cell_type": "code",
   "execution_count": null,
   "metadata": {
    "collapsed": true,
    "scrolled": true
   },
   "outputs": [],
   "source": [
    "v_to_count, filename  = get_count(df, ['socio4. Please select the range of your salary'], \"one choice\", \"./../survey_creation/2017/de/listAnswers/salary.csv\", \"True\", \"./2017/de/output/\")"
   ]
  },
  {
   "cell_type": "code",
   "execution_count": null,
   "metadata": {
    "collapsed": true,
    "scrolled": true
   },
   "outputs": [],
   "source": [
    "perc_to_count = get_percentage(v_to_count, filename)"
   ]
  },
  {
   "cell_type": "code",
   "execution_count": null,
   "metadata": {
    "collapsed": true,
    "scrolled": true
   },
   "outputs": [],
   "source": [
    "display_side_by_side(v_to_count,perc_to_count)"
   ]
  },
  {
   "cell_type": "code",
   "execution_count": null,
   "metadata": {
    "collapsed": true,
    "scrolled": true
   },
   "outputs": [],
   "source": [
    "_ = get_plot(perc_to_count, \"one choice\")"
   ]
  },
  {
   "cell_type": "markdown",
   "metadata": {},
   "source": [
    "### collective bargaining agreement"
   ]
  },
  {
   "cell_type": "code",
   "execution_count": null,
   "metadata": {
    "collapsed": true,
    "scrolled": true
   },
   "outputs": [],
   "source": [
    "v_to_count, filename  = get_count(df, ['socio10de. Please select your renumeration group according to your collective bargaining agreement'], \"one choice\", \"./../survey_creation/2017/de/listAnswers/entgeltgruppe_de.csv\", \"True\", \"./2017/de/output/\")"
   ]
  },
  {
   "cell_type": "code",
   "execution_count": null,
   "metadata": {
    "collapsed": true,
    "scrolled": true
   },
   "outputs": [],
   "source": [
    "perc_to_count = get_percentage(v_to_count, filename)"
   ]
  },
  {
   "cell_type": "code",
   "execution_count": null,
   "metadata": {
    "collapsed": true,
    "scrolled": true
   },
   "outputs": [],
   "source": [
    "display_side_by_side(v_to_count,perc_to_count)"
   ]
  },
  {
   "cell_type": "code",
   "execution_count": null,
   "metadata": {
    "collapsed": true,
    "scrolled": true
   },
   "outputs": [],
   "source": [
    "_ = get_plot(perc_to_count, \"one choice\")"
   ]
  },
  {
   "cell_type": "markdown",
   "metadata": {},
   "source": [
    "## Professional qualifications"
   ]
  },
  {
   "cell_type": "code",
   "execution_count": null,
   "metadata": {
    "collapsed": true,
    "scrolled": true
   },
   "outputs": [],
   "source": [
    " wc = wordcloud(df, ['edu4. Do you hold any other professional qualifications?'])"
   ]
  },
  {
   "cell_type": "code",
   "execution_count": null,
   "metadata": {
    "collapsed": true,
    "scrolled": true
   },
   "outputs": [],
   "source": [
    " plt.imshow(wc, interpolation='bilinear')\n",
    " plt.axis(\"off\")"
   ]
  },
  {
   "cell_type": "markdown",
   "metadata": {},
   "source": [
    "# Questions about coding\n",
    "\n",
    "In this section we investigate the relationship between RSEs and the code they develop.\n",
    "\n",
    "As expected, the vast majority of RSEs (96%) write code. Also, more than the half of them (54%) are involved in software projects taht does not necessarily involve coding on their behalf.\n",
    "However, despite the majority of them writing code, only 47% consider themselves as *professional software developer*. This is a low number when we consider the average time of developing software (10 years) and that they are mainly developing software for others.\n",
    "\n",
    "Unsurprisingly, RSEs spend the majority of their time coding. The only other major call on their time is \"research\", so it would appear that their job title accurately describes their work. \"Teaching\" is the aspect of work with the least call on RSEs time: 54% of RSEs reported that they spent no time teaching."
   ]
  },
  {
   "cell_type": "markdown",
   "metadata": {},
   "source": [
    "### Do you write code as part of your job?"
   ]
  },
  {
   "cell_type": "code",
   "execution_count": null,
   "metadata": {
    "collapsed": true,
    "scrolled": true
   },
   "outputs": [],
   "source": [
    "v_to_count, filename  = get_count(df, ['rse1. Do you write code as part of your job?', 'rse4de. Are you involved and responsible for software projects with non-coding activities as part of your job, e.g. do you lead a software projects, design software architectures or UIs, testing, write documentation?'], \"y/n/na\", \"./../survey_creation/2017/de/listAnswers/.csv\", \"False\", \"./2017/de/output/\")"
   ]
  },
  {
   "cell_type": "code",
   "execution_count": null,
   "metadata": {
    "collapsed": true,
    "scrolled": true
   },
   "outputs": [],
   "source": [
    "perc_to_count = get_percentage(v_to_count, filename)"
   ]
  },
  {
   "cell_type": "code",
   "execution_count": null,
   "metadata": {
    "collapsed": true,
    "scrolled": true
   },
   "outputs": [],
   "source": [
    "display_side_by_side(v_to_count,perc_to_count)"
   ]
  },
  {
   "cell_type": "code",
   "execution_count": null,
   "metadata": {
    "collapsed": true,
    "scrolled": true
   },
   "outputs": [],
   "source": [
    "_ = get_plot(perc_to_count, \"y/n/na\")"
   ]
  },
  {
   "cell_type": "markdown",
   "metadata": {},
   "source": [
    "### Who uses the code that you write?"
   ]
  },
  {
   "cell_type": "code",
   "execution_count": null,
   "metadata": {
    "collapsed": true,
    "scrolled": true
   },
   "outputs": [],
   "source": [
    "v_to_count, filename  = get_count(df, ['rse3[SQ001]. Who uses the code that you write? []'], \"likert\", \"./../survey_creation/2017/de/listAnswers/likert_usage_5.csv\", \"False\", \"./2017/de/output/\")"
   ]
  },
  {
   "cell_type": "code",
   "execution_count": null,
   "metadata": {
    "collapsed": true,
    "scrolled": true
   },
   "outputs": [],
   "source": [
    "display(v_to_count) "
   ]
  },
  {
   "cell_type": "code",
   "execution_count": null,
   "metadata": {
    "collapsed": true,
    "scrolled": true
   },
   "outputs": [],
   "source": [
    "_ = get_plot(v_to_count, \"likert\")"
   ]
  },
  {
   "cell_type": "markdown",
   "metadata": {},
   "source": [
    "### Do you consider yourself a professional software developer?"
   ]
  },
  {
   "cell_type": "code",
   "execution_count": null,
   "metadata": {
    "collapsed": true,
    "scrolled": true
   },
   "outputs": [],
   "source": [
    "v_to_count, filename  = get_count(df, ['soft2can. Do you consider yourself a professional software developer?'], \"y/n/na\", \"./../survey_creation/2017/de/listAnswers/.csv\", \"False\", \"./2017/de/output/\")"
   ]
  },
  {
   "cell_type": "code",
   "execution_count": null,
   "metadata": {
    "collapsed": true,
    "scrolled": true
   },
   "outputs": [],
   "source": [
    "perc_to_count = get_percentage(v_to_count, filename)"
   ]
  },
  {
   "cell_type": "code",
   "execution_count": null,
   "metadata": {
    "collapsed": true,
    "scrolled": true
   },
   "outputs": [],
   "source": [
    "display_side_by_side(v_to_count,perc_to_count)"
   ]
  },
  {
   "cell_type": "code",
   "execution_count": null,
   "metadata": {
    "collapsed": true,
    "scrolled": true
   },
   "outputs": [],
   "source": [
    "_ = get_plot(perc_to_count, \"y/n/na\")"
   ]
  },
  {
   "cell_type": "markdown",
   "metadata": {},
   "source": [
    "### How many years of Software development experience do you have?"
   ]
  },
  {
   "cell_type": "code",
   "execution_count": null,
   "metadata": {
    "collapsed": true,
    "scrolled": true
   },
   "outputs": [],
   "source": [
    "v_to_count, filename  = get_count(df, ['soft1can. How many years of Software development experience do you have?'], \"freenumeric\", \"./../survey_creation/2017/de/listAnswers/.csv\", \"False\", \"./2017/de/output/\")"
   ]
  },
  {
   "cell_type": "code",
   "execution_count": null,
   "metadata": {
    "collapsed": true,
    "scrolled": true
   },
   "outputs": [],
   "source": [
    "_ = get_plot(v_to_count, \"freenumeric\")"
   ]
  },
  {
   "cell_type": "markdown",
   "metadata": {},
   "source": [
    "### In an average month, how much time do you spend on software development (Please rate your answer between 1 to 10. 1 Being none at all and 10 being All your time.)"
   ]
  },
  {
   "cell_type": "code",
   "execution_count": null,
   "metadata": {
    "collapsed": true,
    "scrolled": true
   },
   "outputs": [],
   "source": [
    "v_to_count, filename  = get_count(df, ['likert0[time1can]. [In an average month, how much time do you spend on software development]', 'likert0[time2can]. [In an average month, how much time do you spend on Research]', 'likert0[time3can]. [In an average month, how much time do you spend on Management]', 'likert0[time4can]. [In an average month, how much time do you spend on Teaching]', 'likert0[time5can]. [In an average month, how much time do you spend on Other activities]'], \"likert\", \"./../survey_creation/2017/de/listAnswers/likert_time_10.csv\", \"False\", \"./2017/de/output/\")"
   ]
  },
  {
   "cell_type": "code",
   "execution_count": null,
   "metadata": {
    "collapsed": true,
    "scrolled": true
   },
   "outputs": [],
   "source": [
    "display(v_to_count) "
   ]
  },
  {
   "cell_type": "code",
   "execution_count": null,
   "metadata": {
    "collapsed": true,
    "scrolled": true
   },
   "outputs": [],
   "source": [
    "_ = get_plot(v_to_count, \"likert\")"
   ]
  },
  {
   "cell_type": "markdown",
   "metadata": {},
   "source": [
    "# Questions about employment\n",
    "\n",
    "30% of RSEs work within a university. However, in Germany they have research centers which are different. In total, these account for 58%, with a majority of RSEs working in the *Helmholtz Association of German Research Centres* and for the *Max Plancks Society* (both accounting for 25% of the total of participants).\n",
    "\n",
    "At the question about the field where they work, the participants mainly answered *Computer Science*, followed by *Physics and Astronomy* and *Biological Sciences* (both 14%). These is the three main disciplines found in the question about education. "
   ]
  },
  {
   "cell_type": "markdown",
   "metadata": {},
   "source": [
    "### What type of organisation do you work for?"
   ]
  },
  {
   "cell_type": "code",
   "execution_count": null,
   "metadata": {
    "collapsed": true,
    "scrolled": true
   },
   "outputs": [],
   "source": [
    "v_to_count, filename  = get_count(df, ['currentEmp1. What type of organisation do you work for?'], \"one choice\", \"./../survey_creation/2017/de/listAnswers/type_organisation_de.csv\", \"False\", \"./2017/de/output/\")"
   ]
  },
  {
   "cell_type": "code",
   "execution_count": null,
   "metadata": {
    "collapsed": true,
    "scrolled": true
   },
   "outputs": [],
   "source": [
    "perc_to_count = get_percentage(v_to_count, filename)"
   ]
  },
  {
   "cell_type": "code",
   "execution_count": null,
   "metadata": {
    "collapsed": true,
    "scrolled": true
   },
   "outputs": [],
   "source": [
    "display_side_by_side(v_to_count,perc_to_count)"
   ]
  },
  {
   "cell_type": "code",
   "execution_count": null,
   "metadata": {
    "collapsed": true,
    "scrolled": true
   },
   "outputs": [],
   "source": [
    "_ = get_plot(perc_to_count, \"one choice\")"
   ]
  },
  {
   "cell_type": "markdown",
   "metadata": {},
   "source": [
    "### Which University do you work for?"
   ]
  },
  {
   "cell_type": "code",
   "execution_count": null,
   "metadata": {
    "collapsed": true,
    "scrolled": true
   },
   "outputs": [],
   "source": [
    "v_to_count, filename  = get_count(df, ['currentEmp2. Which University do you work for?'], \"one choice\", \"./../survey_creation/2017/de/listAnswers/universities_de.csv\", \"False\", \"./2017/de/output/\")"
   ]
  },
  {
   "cell_type": "code",
   "execution_count": null,
   "metadata": {
    "collapsed": true,
    "scrolled": true
   },
   "outputs": [],
   "source": [
    "perc_to_count = get_percentage(v_to_count, filename)"
   ]
  },
  {
   "cell_type": "code",
   "execution_count": null,
   "metadata": {
    "collapsed": true,
    "scrolled": true
   },
   "outputs": [],
   "source": [
    "display_side_by_side(v_to_count,perc_to_count)"
   ]
  },
  {
   "cell_type": "code",
   "execution_count": null,
   "metadata": {
    "collapsed": true,
    "scrolled": true
   },
   "outputs": [],
   "source": [
    "_ = get_plot(perc_to_count, \"one choice\")"
   ]
  },
  {
   "cell_type": "markdown",
   "metadata": {},
   "source": [
    "### Which Fraunhofer institute do you work for?"
   ]
  },
  {
   "cell_type": "code",
   "execution_count": null,
   "metadata": {
    "collapsed": true,
    "scrolled": true
   },
   "outputs": [],
   "source": [
    "v_to_count, filename  = get_count(df, ['currentEmp20de. Which Fraunhofer institute do you work for?'], \"one choice\", \"./../survey_creation/2017/de/listAnswers/fraunhofer_de.csv\", \"False\", \"./2017/de/output/\")"
   ]
  },
  {
   "cell_type": "code",
   "execution_count": null,
   "metadata": {
    "collapsed": true,
    "scrolled": true
   },
   "outputs": [],
   "source": [
    "perc_to_count = get_percentage(v_to_count, filename)"
   ]
  },
  {
   "cell_type": "code",
   "execution_count": null,
   "metadata": {
    "collapsed": true,
    "scrolled": true
   },
   "outputs": [],
   "source": [
    "display_side_by_side(v_to_count,perc_to_count)"
   ]
  },
  {
   "cell_type": "code",
   "execution_count": null,
   "metadata": {
    "collapsed": true,
    "scrolled": true
   },
   "outputs": [],
   "source": [
    "_ = get_plot(perc_to_count, \"one choice\")"
   ]
  },
  {
   "cell_type": "markdown",
   "metadata": {},
   "source": [
    "### Which Helmholtz institute do you work for?"
   ]
  },
  {
   "cell_type": "code",
   "execution_count": null,
   "metadata": {
    "collapsed": true,
    "scrolled": true
   },
   "outputs": [],
   "source": [
    "v_to_count, filename  = get_count(df, ['currentEmp21de. Which Helmholtz institute do you work for?'], \"one choice\", \"./../survey_creation/2017/de/listAnswers/hgf_de.csv\", \"False\", \"./2017/de/output/\")"
   ]
  },
  {
   "cell_type": "code",
   "execution_count": null,
   "metadata": {
    "collapsed": true,
    "scrolled": true
   },
   "outputs": [],
   "source": [
    "perc_to_count = get_percentage(v_to_count, filename)"
   ]
  },
  {
   "cell_type": "code",
   "execution_count": null,
   "metadata": {
    "collapsed": true,
    "scrolled": true
   },
   "outputs": [],
   "source": [
    "display_side_by_side(v_to_count,perc_to_count)"
   ]
  },
  {
   "cell_type": "code",
   "execution_count": null,
   "metadata": {
    "collapsed": true,
    "scrolled": true
   },
   "outputs": [],
   "source": [
    "_ = get_plot(perc_to_count, \"one choice\")"
   ]
  },
  {
   "cell_type": "markdown",
   "metadata": {},
   "source": [
    "### Which Leibniz institute do you work for?"
   ]
  },
  {
   "cell_type": "code",
   "execution_count": null,
   "metadata": {
    "collapsed": true,
    "scrolled": true
   },
   "outputs": [],
   "source": [
    "v_to_count, filename  = get_count(df, ['currentEmp22de. Which Leibniz institute do you work for?'], \"one choice\", \"./../survey_creation/2017/de/listAnswers/leibniz_de.csv\", \"False\", \"./2017/de/output/\")"
   ]
  },
  {
   "cell_type": "code",
   "execution_count": null,
   "metadata": {
    "collapsed": true,
    "scrolled": true
   },
   "outputs": [],
   "source": [
    "perc_to_count = get_percentage(v_to_count, filename)"
   ]
  },
  {
   "cell_type": "code",
   "execution_count": null,
   "metadata": {
    "collapsed": true,
    "scrolled": true
   },
   "outputs": [],
   "source": [
    "display_side_by_side(v_to_count,perc_to_count)"
   ]
  },
  {
   "cell_type": "code",
   "execution_count": null,
   "metadata": {
    "collapsed": true,
    "scrolled": true
   },
   "outputs": [],
   "source": [
    "_ = get_plot(perc_to_count, \"one choice\")"
   ]
  },
  {
   "cell_type": "markdown",
   "metadata": {},
   "source": [
    "### Which Max-Planck institute do you work for?"
   ]
  },
  {
   "cell_type": "code",
   "execution_count": null,
   "metadata": {
    "collapsed": true,
    "scrolled": true
   },
   "outputs": [],
   "source": [
    "v_to_count, filename  = get_count(df, ['currentEmp23de. Which Max-Planck institute do you work for?'], \"one choice\", \"./../survey_creation/2017/de/listAnswers/mpg_de.csv\", \"False\", \"./2017/de/output/\")"
   ]
  },
  {
   "cell_type": "code",
   "execution_count": null,
   "metadata": {
    "collapsed": true,
    "scrolled": true
   },
   "outputs": [],
   "source": [
    "perc_to_count = get_percentage(v_to_count, filename)"
   ]
  },
  {
   "cell_type": "code",
   "execution_count": null,
   "metadata": {
    "collapsed": true,
    "scrolled": true
   },
   "outputs": [],
   "source": [
    "display_side_by_side(v_to_count,perc_to_count)"
   ]
  },
  {
   "cell_type": "code",
   "execution_count": null,
   "metadata": {
    "collapsed": true,
    "scrolled": true
   },
   "outputs": [],
   "source": [
    "_ = get_plot(perc_to_count, \"one choice\")"
   ]
  },
  {
   "cell_type": "markdown",
   "metadata": {},
   "source": [
    "### Which University of Applied Sciences?"
   ]
  },
  {
   "cell_type": "code",
   "execution_count": null,
   "metadata": {
    "collapsed": true,
    "scrolled": true
   },
   "outputs": [],
   "source": [
    "v_to_count, filename  = get_count(df, ['currentEmp24de. Which University of Applied Sciences?'], \"one choice\", \"./../survey_creation/2017/de/listAnswers/fh_de.csv\", \"False\", \"./2017/de/output/\")"
   ]
  },
  {
   "cell_type": "code",
   "execution_count": null,
   "metadata": {
    "collapsed": true,
    "scrolled": true
   },
   "outputs": [],
   "source": [
    "perc_to_count = get_percentage(v_to_count, filename)"
   ]
  },
  {
   "cell_type": "code",
   "execution_count": null,
   "metadata": {
    "collapsed": true,
    "scrolled": true
   },
   "outputs": [],
   "source": [
    "display_side_by_side(v_to_count,perc_to_count)"
   ]
  },
  {
   "cell_type": "code",
   "execution_count": null,
   "metadata": {
    "collapsed": true,
    "scrolled": true
   },
   "outputs": [],
   "source": [
    "_ = get_plot(perc_to_count, \"one choice\")"
   ]
  },
  {
   "cell_type": "markdown",
   "metadata": {},
   "source": [
    "### What is your official job title?"
   ]
  },
  {
   "cell_type": "code",
   "execution_count": null,
   "metadata": {
    "collapsed": true,
    "scrolled": true
   },
   "outputs": [],
   "source": [
    " wc = wordcloud(df, ['currentEmp5. What is your official job title?'])"
   ]
  },
  {
   "cell_type": "code",
   "execution_count": null,
   "metadata": {
    "collapsed": true,
    "scrolled": true
   },
   "outputs": [],
   "source": [
    " plt.imshow(wc, interpolation='bilinear')\n",
    " plt.axis(\"off\")"
   ]
  },
  {
   "cell_type": "markdown",
   "metadata": {},
   "source": [
    "### Are you known in your group by a different job title? If so, please enter the job title you use"
   ]
  },
  {
   "cell_type": "code",
   "execution_count": null,
   "metadata": {
    "collapsed": true,
    "scrolled": true
   },
   "outputs": [],
   "source": [
    "number_of_different_title = df['currentEmp6. Are you known in your group by a different job title? If so, please enter the job title you use'].count()\n",
    "print('Number of participants with a different title: {}'.format(number_of_different_title))"
   ]
  },
  {
   "cell_type": "code",
   "execution_count": null,
   "metadata": {
    "collapsed": true,
    "scrolled": true
   },
   "outputs": [],
   "source": [
    " wc = wordcloud(df, ['currentEmp6. Are you known in your group by a different job title? If so, please enter the job title you use'])"
   ]
  },
  {
   "cell_type": "code",
   "execution_count": null,
   "metadata": {
    "collapsed": true,
    "scrolled": true
   },
   "outputs": [],
   "source": [
    " plt.imshow(wc, interpolation='bilinear')\n",
    " plt.axis(\"off\")"
   ]
  },
  {
   "cell_type": "markdown",
   "metadata": {},
   "source": [
    "### In which disciplines do you work (select as many as apply)"
   ]
  },
  {
   "cell_type": "code",
   "execution_count": null,
   "metadata": {
    "collapsed": true,
    "scrolled": true
   },
   "outputs": [],
   "source": [
    "v_to_count, filename  = get_count(df, ['currentEmp13[1]. In which disciplines do you work (select as many as apply) [Accounting & Finance]', 'currentEmp13[2]. In which disciplines do you work (select as many as apply) [Aeronautical & Manufacturing Engineering]', 'currentEmp13[3]. In which disciplines do you work (select as many as apply) [Agriculture & Forestry]', 'currentEmp13[4]. In which disciplines do you work (select as many as apply) [American Studies]', 'currentEmp13[5]. In which disciplines do you work (select as many as apply) [Anatomy & Physiology]', 'currentEmp13[6]. In which disciplines do you work (select as many as apply) [Anthropology]', 'currentEmp13[7]. In which disciplines do you work (select as many as apply) [Architecture]', 'currentEmp13[8]. In which disciplines do you work (select as many as apply) [Art & Design]', 'currentEmp13[9]. In which disciplines do you work (select as many as apply) [Biological Sciences]', 'currentEmp13[10]. In which disciplines do you work (select as many as apply) [Business & Management Studies]', 'currentEmp13[11]. In which disciplines do you work (select as many as apply) [Chemical Engineering]', 'currentEmp13[12]. In which disciplines do you work (select as many as apply) [Chemistry]', 'currentEmp13[13]. In which disciplines do you work (select as many as apply) [Civil Engineering]', 'currentEmp13[14]. In which disciplines do you work (select as many as apply) [Classics & Ancient History]', 'currentEmp13[15]. In which disciplines do you work (select as many as apply) [Communication & Media Studies]', 'currentEmp13[16]. In which disciplines do you work (select as many as apply) [Complementary Medicine]', 'currentEmp13[17]. In which disciplines do you work (select as many as apply) [Computer Science]', 'currentEmp13[18]. In which disciplines do you work (select as many as apply) [Counselling]', 'currentEmp13[19]. In which disciplines do you work (select as many as apply) [Criminology]', 'currentEmp13[20]. In which disciplines do you work (select as many as apply) [Dentistry]', 'currentEmp13[21]. In which disciplines do you work (select as many as apply) [East & South Asian Studies]', 'currentEmp13[22]. In which disciplines do you work (select as many as apply) [Economics]', 'currentEmp13[23]. In which disciplines do you work (select as many as apply) [Education]', 'currentEmp13[24]. In which disciplines do you work (select as many as apply) [Electrical & Electronic Engineering]', 'currentEmp13[25]. In which disciplines do you work (select as many as apply) [English]', 'currentEmp13[26]. In which disciplines do you work (select as many as apply) [Fashion]', 'currentEmp13[27]. In which disciplines do you work (select as many as apply) [Food Science]', 'currentEmp13[28]. In which disciplines do you work (select as many as apply) [French]', 'currentEmp13[29]. In which disciplines do you work (select as many as apply) [Geography & Environmental Sciences]', 'currentEmp13[30]. In which disciplines do you work (select as many as apply) [Geology]', 'currentEmp13[31]. In which disciplines do you work (select as many as apply) [General Engineering]', 'currentEmp13[32]. In which disciplines do you work (select as many as apply) [German]', 'currentEmp13[33]. In which disciplines do you work (select as many as apply) [History]', 'currentEmp13[34]. In which disciplines do you work (select as many as apply) [History of Art, Architecture & Design]', 'currentEmp13[35]. In which disciplines do you work (select as many as apply) [Hospitality, Leisure, Recreation & Tourism]', 'currentEmp13[36]. In which disciplines do you work (select as many as apply) [Iberian Languages/Hispanic Studies]', 'currentEmp13[37]. In which disciplines do you work (select as many as apply) [Land & Property Management]', 'currentEmp13[38]. In which disciplines do you work (select as many as apply) [Law]', 'currentEmp13[39]. In which disciplines do you work (select as many as apply) [Librarianship & Information Management]', 'currentEmp13[40]. In which disciplines do you work (select as many as apply) [Linguistics]', 'currentEmp13[41]. In which disciplines do you work (select as many as apply) [Marketing]', 'currentEmp13[42]. In which disciplines do you work (select as many as apply) [Materials Technology]', 'currentEmp13[43]. In which disciplines do you work (select as many as apply) [Mathematics]', 'currentEmp13[44]. In which disciplines do you work (select as many as apply) [Mechanical Engineering]', 'currentEmp13[45]. In which disciplines do you work (select as many as apply) [Medicine]', 'currentEmp13[46]. In which disciplines do you work (select as many as apply) [Middle Eastern and African Studies]', 'currentEmp13[47]. In which disciplines do you work (select as many as apply) [Music]', 'currentEmp13[48]. In which disciplines do you work (select as many as apply) [Nursing]', 'currentEmp13[49]. In which disciplines do you work (select as many as apply) [Ophthalmics]', 'currentEmp13[50]. In which disciplines do you work (select as many as apply) [Pharmacology & Pharmacy]', 'currentEmp13[51]. In which disciplines do you work (select as many as apply) [Philosophy]', 'currentEmp13[52]. In which disciplines do you work (select as many as apply) [Physics and Astronomy]', 'currentEmp13[53]. In which disciplines do you work (select as many as apply) [Physiotherapy]', 'currentEmp13[54]. In which disciplines do you work (select as many as apply) [Politics]', 'currentEmp13[55]. In which disciplines do you work (select as many as apply) [Psychology]', 'currentEmp13[56]. In which disciplines do you work (select as many as apply) [Robotics]', 'currentEmp13[57]. In which disciplines do you work (select as many as apply) [Russian & East European Languages]', 'currentEmp13[58]. In which disciplines do you work (select as many as apply) [Social Policy]', 'currentEmp13[59]. In which disciplines do you work (select as many as apply) [Social Work]', 'currentEmp13[60]. In which disciplines do you work (select as many as apply) [Sociology]', 'currentEmp13[61]. In which disciplines do you work (select as many as apply) [Sports Science]', 'currentEmp13[62]. In which disciplines do you work (select as many as apply) [Theology & Religious Studies]', 'currentEmp13[63]. In which disciplines do you work (select as many as apply) [Town & Country Planning and Landscape Design]', 'currentEmp13[64]. In which disciplines do you work (select as many as apply) [Veterinary Medicine]', 'currentEmp13[65]. In which disciplines do you work (select as many as apply) [Youth Work]'], \"multiple choices\", \"./../survey_creation/2017/de/listAnswers/academic_field.csv\", \"False\", \"./2017/de/output/\")"
   ]
  },
  {
   "cell_type": "code",
   "execution_count": null,
   "metadata": {
    "collapsed": true,
    "scrolled": true
   },
   "outputs": [],
   "source": [
    "perc_to_count = get_percentage(v_to_count, filename)"
   ]
  },
  {
   "cell_type": "code",
   "execution_count": null,
   "metadata": {
    "collapsed": true,
    "scrolled": true
   },
   "outputs": [],
   "source": [
    "display_side_by_side(v_to_count,perc_to_count)"
   ]
  },
  {
   "cell_type": "code",
   "execution_count": null,
   "metadata": {
    "collapsed": true,
    "scrolled": true
   },
   "outputs": [],
   "source": [
    "_ = get_plot(perc_to_count, \"multiple choices\")"
   ]
  },
  {
   "cell_type": "markdown",
   "metadata": {},
   "source": [
    "# Questions about the type of contract\n",
    "\n",
    "Type of contracts and funding are important to understand the situation of RSEs and if they have stable position in academia. \n",
    "A vast majority of participants have a full time job (78%) but it is often a fixed term position (34% as long as funding is available and 26% are funded by the Institution core funding). 27% of them do have a permanent position (the other types of contract are marginals). The average length of contract duration is more or less 5 years for the participants that does not have a permanent position. \n",
    "\n",
    "For the source of funding, 61% of the participants know the origin of them. The vast majority of the project for which the participants work  are funded by Federal and state governments (42%), the German Research Foundation (DFG) (34%), and by the European Union 10%. 5% of the participants claims they volunteer their time for working on the largest project. \n",
    "\n",
    "A question also asked about the funding about their effort as an RSE/equivalent. The top four funders remains the same. The Federal and state governments funds is funding 38% of the participants, the German Research Foundation 31% and the European Union 13% and 8% of the participants volunteer their time.\n",
    "\n",
    "The last question about the funding was about the previous project. This helps to see if the funders changed over the time for the participants. The answer is no, the three mains funders were exactly the same with only a slight variation in percentages, the Federal and state governments funded the project of 43% of the participants, while the German Research Foundation accounted for 31% and European Union for 11%.\n",
    "\n",
    "It is important to note that these percentages are not mutually exclusives as the participants had the option to choose several sources of funding for each question. "
   ]
  },
  {
   "cell_type": "markdown",
   "metadata": {},
   "source": [
    "### Do you work full time or part time"
   ]
  },
  {
   "cell_type": "code",
   "execution_count": null,
   "metadata": {
    "collapsed": true,
    "scrolled": true
   },
   "outputs": [],
   "source": [
    "v_to_count, filename  = get_count(df, ['currentEmp12. Do you work full time or part time'], \"one choice\", \"./../survey_creation/2017/de/listAnswers/type_hours.csv\", \"False\", \"./2017/de/output/\")"
   ]
  },
  {
   "cell_type": "code",
   "execution_count": null,
   "metadata": {
    "collapsed": true,
    "scrolled": true
   },
   "outputs": [],
   "source": [
    "perc_to_count = get_percentage(v_to_count, filename)"
   ]
  },
  {
   "cell_type": "code",
   "execution_count": null,
   "metadata": {
    "collapsed": true,
    "scrolled": true
   },
   "outputs": [],
   "source": [
    "display_side_by_side(v_to_count,perc_to_count)"
   ]
  },
  {
   "cell_type": "code",
   "execution_count": null,
   "metadata": {
    "collapsed": true,
    "scrolled": true
   },
   "outputs": [],
   "source": [
    "_ = get_plot(perc_to_count, \"one choice\")"
   ]
  },
  {
   "cell_type": "markdown",
   "metadata": {},
   "source": [
    "### What type of contract are you employed on?"
   ]
  },
  {
   "cell_type": "code",
   "execution_count": null,
   "metadata": {
    "collapsed": true,
    "scrolled": true
   },
   "outputs": [],
   "source": [
    "v_to_count, filename  = get_count(df, ['currentEmp10. What type of contract are you employed on?'], \"one choice\", \"./../survey_creation/2017/de/listAnswers/type_contract_de.csv\", \"False\", \"./2017/de/output/\")"
   ]
  },
  {
   "cell_type": "code",
   "execution_count": null,
   "metadata": {
    "collapsed": true,
    "scrolled": true
   },
   "outputs": [],
   "source": [
    "perc_to_count = get_percentage(v_to_count, filename)"
   ]
  },
  {
   "cell_type": "code",
   "execution_count": null,
   "metadata": {
    "collapsed": true,
    "scrolled": true
   },
   "outputs": [],
   "source": [
    "display_side_by_side(v_to_count,perc_to_count)"
   ]
  },
  {
   "cell_type": "code",
   "execution_count": null,
   "metadata": {
    "collapsed": true,
    "scrolled": true
   },
   "outputs": [],
   "source": [
    "_ = get_plot(perc_to_count, \"one choice\")"
   ]
  },
  {
   "cell_type": "markdown",
   "metadata": {},
   "source": [
    "### What is the duration (in years) of your current contract?"
   ]
  },
  {
   "cell_type": "code",
   "execution_count": null,
   "metadata": {
    "collapsed": true,
    "scrolled": true
   },
   "outputs": [],
   "source": [
    "# Cleaning some outliers\n",
    "duration_contract = df['currentEmp11. What is the duration (in years) of your current contract?'][(df['currentEmp11. What is the duration (in years) of your current contract?'] > -1) & (df['currentEmp11. What is the duration (in years) of your current contract?'] < 70)].to_frame()"
   ]
  },
  {
   "cell_type": "code",
   "execution_count": null,
   "metadata": {
    "collapsed": true,
    "scrolled": true
   },
   "outputs": [],
   "source": [
    "v_to_count, filename  = get_count(duration_contract, ['currentEmp11. What is the duration (in years) of your current contract?'], \"freenumeric\", \"./../survey_creation/2017/de/listAnswers/.csv\", \"False\", \"./2017/de/output/\")"
   ]
  },
  {
   "cell_type": "code",
   "execution_count": null,
   "metadata": {
    "collapsed": true,
    "scrolled": true
   },
   "outputs": [],
   "source": [
    "_ = get_plot(v_to_count, \"freenumeric\")"
   ]
  },
  {
   "cell_type": "markdown",
   "metadata": {},
   "source": [
    "### Do you know the source of the funding used to support you and your current, largest project?"
   ]
  },
  {
   "cell_type": "code",
   "execution_count": null,
   "metadata": {
    "collapsed": true,
    "scrolled": true
   },
   "outputs": [],
   "source": [
    "v_to_count, filename  = get_count(df, ['fund1. Do you know the source of the funding used to support you and your current, largest project?'], \"y/n/na\", \"./../survey_creation/2017/de/listAnswers/.csv\", \"False\", \"./2017/de/output/\")"
   ]
  },
  {
   "cell_type": "code",
   "execution_count": null,
   "metadata": {
    "collapsed": true,
    "scrolled": true
   },
   "outputs": [],
   "source": [
    "perc_to_count = get_percentage(v_to_count, filename)"
   ]
  },
  {
   "cell_type": "code",
   "execution_count": null,
   "metadata": {
    "collapsed": true,
    "scrolled": true
   },
   "outputs": [],
   "source": [
    "display_side_by_side(v_to_count,perc_to_count)"
   ]
  },
  {
   "cell_type": "code",
   "execution_count": null,
   "metadata": {
    "collapsed": true,
    "scrolled": true
   },
   "outputs": [],
   "source": [
    "_ = get_plot(perc_to_count, \"y/n/na\")"
   ]
  },
  {
   "cell_type": "markdown",
   "metadata": {},
   "source": [
    "### Which of the following sources are used to pay for your effort as an RSE/equivalent?"
   ]
  },
  {
   "cell_type": "code",
   "execution_count": null,
   "metadata": {
    "collapsed": true,
    "scrolled": true
   },
   "outputs": [],
   "source": [
    "v_to_count, filename  = get_count(df, ['fund2[1]. Which of the following sources are used to pay for your effort as an RSE/equivalent? [European Union (e.g. H2020, COST, EUREKA)]', 'fund2[2]. Which of the following sources are used to pay for your effort as an RSE/equivalent? [Federal and state governments (BMBF, BMWi, BMVg and other sections)]', 'fund2[3]. Which of the following sources are used to pay for your effort as an RSE/equivalent? [DFG, German Research Foundation]', 'fund2[4]. Which of the following sources are used to pay for your effort as an RSE/equivalent? [Foundations and conveyors (public and private, e.g. VolkswagenStiftung, Robert Bosch Stiftung, Klaus Tschira Stiftung, Stiftung Mercator)]', 'fund2[5]. Which of the following sources are used to pay for your effort as an RSE/equivalent? [Stifterverband]', 'fund2[6]. Which of the following sources are used to pay for your effort as an RSE/equivalent? [Associations and chambers]', 'fund2[7]. Which of the following sources are used to pay for your effort as an RSE/equivalent? [Membership]', 'fund2[8]. Which of the following sources are used to pay for your effort as an RSE/equivalent? [Crowdfunding (one-time)]', 'fund2[9]. Which of the following sources are used to pay for your effort as an RSE/equivalent? [Crowdfunding (recurring)]', 'fund2[10]. Which of the following sources are used to pay for your effort as an RSE/equivalent? [Industry support]', 'fund2[11]. Which of the following sources are used to pay for your effort as an RSE/equivalent? [Consulting & services]', 'fund2[12]. Which of the following sources are used to pay for your effort as an RSE/equivalent? [Venture capital]', 'fund2[13]. Which of the following sources are used to pay for your effort as an RSE/equivalent? [Dual license]', 'fund2[14]. Which of the following sources are used to pay for your effort as an RSE/equivalent? [Open core]', 'fund2[15]. Which of the following sources are used to pay for your effort as an RSE/equivalent? [Trademark licensing & franchising]', 'fund2[16]. Which of the following sources are used to pay for your effort as an RSE/equivalent? [I volunteer my time]'], \"multiple choices\", \"./../survey_creation/2017/de/listAnswers/funding_de.csv\", \"False\", \"./2017/de/output/\")"
   ]
  },
  {
   "cell_type": "code",
   "execution_count": null,
   "metadata": {
    "collapsed": true,
    "scrolled": true
   },
   "outputs": [],
   "source": [
    "perc_to_count = get_percentage(v_to_count, filename)"
   ]
  },
  {
   "cell_type": "code",
   "execution_count": null,
   "metadata": {
    "collapsed": true,
    "scrolled": true
   },
   "outputs": [],
   "source": [
    "display_side_by_side(v_to_count,perc_to_count)"
   ]
  },
  {
   "cell_type": "code",
   "execution_count": null,
   "metadata": {
    "collapsed": true,
    "scrolled": true
   },
   "outputs": [],
   "source": [
    "_ = get_plot(perc_to_count, \"multiple choices\")"
   ]
  },
  {
   "cell_type": "markdown",
   "metadata": {},
   "source": [
    "### Which of the following sources are used to fund your current, largest project?"
   ]
  },
  {
   "cell_type": "code",
   "execution_count": null,
   "metadata": {
    "collapsed": true,
    "scrolled": true
   },
   "outputs": [],
   "source": [
    "v_to_count, filename  = get_count(df, ['fund3[1]. Which of the following sources are used to fund your current, largest project? [European Union (e.g. H2020, COST, EUREKA)]', 'fund3[2]. Which of the following sources are used to fund your current, largest project? [Federal and state governments (BMBF, BMWi, BMVg and other sections)]', 'fund3[3]. Which of the following sources are used to fund your current, largest project? [DFG, German Research Foundation]', 'fund3[4]. Which of the following sources are used to fund your current, largest project? [Foundations and conveyors (public and private, e.g. VolkswagenStiftung, Robert Bosch Stiftung, Klaus Tschira Stiftung, Stiftung Mercator)]', 'fund3[5]. Which of the following sources are used to fund your current, largest project? [Stifterverband]', 'fund3[6]. Which of the following sources are used to fund your current, largest project? [Associations and chambers]', 'fund3[7]. Which of the following sources are used to fund your current, largest project? [Membership]', 'fund3[8]. Which of the following sources are used to fund your current, largest project? [Crowdfunding (one-time)]', 'fund3[9]. Which of the following sources are used to fund your current, largest project? [Crowdfunding (recurring)]', 'fund3[10]. Which of the following sources are used to fund your current, largest project? [Industry support]', 'fund3[11]. Which of the following sources are used to fund your current, largest project? [Consulting & services]', 'fund3[12]. Which of the following sources are used to fund your current, largest project? [Venture capital]', 'fund3[13]. Which of the following sources are used to fund your current, largest project? [Dual license]', 'fund3[14]. Which of the following sources are used to fund your current, largest project? [Open core]', 'fund3[15]. Which of the following sources are used to fund your current, largest project? [Trademark licensing & franchising]', 'fund3[16]. Which of the following sources are used to fund your current, largest project? [I volunteer my time]'], \"multiple choices\", \"./../survey_creation/2017/de/listAnswers/funding_de.csv\", \"False\", \"./2017/de/output/\")"
   ]
  },
  {
   "cell_type": "code",
   "execution_count": null,
   "metadata": {
    "collapsed": true,
    "scrolled": true
   },
   "outputs": [],
   "source": [
    "perc_to_count = get_percentage(v_to_count, filename)"
   ]
  },
  {
   "cell_type": "code",
   "execution_count": null,
   "metadata": {
    "collapsed": true,
    "scrolled": true
   },
   "outputs": [],
   "source": [
    "display_side_by_side(v_to_count,perc_to_count)"
   ]
  },
  {
   "cell_type": "code",
   "execution_count": null,
   "metadata": {
    "collapsed": true,
    "scrolled": true
   },
   "outputs": [],
   "source": [
    "_ = get_plot(perc_to_count, \"multiple choices\")"
   ]
  },
  {
   "cell_type": "markdown",
   "metadata": {},
   "source": [
    "### Which of the following sources were used to fund your current, largest project three years ago?"
   ]
  },
  {
   "cell_type": "code",
   "execution_count": null,
   "metadata": {
    "collapsed": true,
    "scrolled": true
   },
   "outputs": [],
   "source": [
    "v_to_count, filename  = get_count(df, ['fund4[1]. Which of the following sources were used to fund your current, largest project three years ago? [European Union (e.g. H2020, COST, EUREKA)]', 'fund4[2]. Which of the following sources were used to fund your current, largest project three years ago? [Federal and state governments (BMBF, BMWi, BMVg and other sections)]', 'fund4[3]. Which of the following sources were used to fund your current, largest project three years ago? [DFG, German Research Foundation]', 'fund4[4]. Which of the following sources were used to fund your current, largest project three years ago? [Foundations and conveyors (public and private, e.g. VolkswagenStiftung, Robert Bosch Stiftung, Klaus Tschira Stiftung, Stiftung Mercator)]', 'fund4[5]. Which of the following sources were used to fund your current, largest project three years ago? [Stifterverband]', 'fund4[6]. Which of the following sources were used to fund your current, largest project three years ago? [Associations and chambers]', 'fund4[7]. Which of the following sources were used to fund your current, largest project three years ago? [Membership]', 'fund4[8]. Which of the following sources were used to fund your current, largest project three years ago? [Crowdfunding (one-time)]', 'fund4[9]. Which of the following sources were used to fund your current, largest project three years ago? [Crowdfunding (recurring)]', 'fund4[10]. Which of the following sources were used to fund your current, largest project three years ago? [Industry support]', 'fund4[11]. Which of the following sources were used to fund your current, largest project three years ago? [Consulting & services]', 'fund4[12]. Which of the following sources were used to fund your current, largest project three years ago? [Venture capital]', 'fund4[13]. Which of the following sources were used to fund your current, largest project three years ago? [Dual license]', 'fund4[14]. Which of the following sources were used to fund your current, largest project three years ago? [Open core]', 'fund4[15]. Which of the following sources were used to fund your current, largest project three years ago? [Trademark licensing & franchising]', 'fund4[16]. Which of the following sources were used to fund your current, largest project three years ago? [I volunteer my time]'], \"multiple choices\", \"./../survey_creation/2017/de/listAnswers/funding_de.csv\", \"False\", \"./2017/de/output/\")"
   ]
  },
  {
   "cell_type": "code",
   "execution_count": null,
   "metadata": {
    "collapsed": true,
    "scrolled": true
   },
   "outputs": [],
   "source": [
    "perc_to_count = get_percentage(v_to_count, filename)"
   ]
  },
  {
   "cell_type": "code",
   "execution_count": null,
   "metadata": {
    "collapsed": true,
    "scrolled": true
   },
   "outputs": [],
   "source": [
    "display_side_by_side(v_to_count,perc_to_count)"
   ]
  },
  {
   "cell_type": "code",
   "execution_count": null,
   "metadata": {
    "collapsed": true,
    "scrolled": true
   },
   "outputs": [],
   "source": [
    "_ = get_plot(perc_to_count, \"multiple choices\")"
   ]
  },
  {
   "cell_type": "markdown",
   "metadata": {},
   "source": [
    "# Question about previous employment\n",
    "\n",
    "Several questions were about the participants previous job. The idea is to collect insight of their career and understand what are their motivation to be an RSE. \n",
    "\n",
    "More than a half of the participants worked in a university prior to their current position(54%). The others come from Max Planck Society (11%) or Other (10%).\n",
    "At least 10% shift career and moved from the private sector to academy. \n",
    "\n",
    "We asked the participants to rank the reasons why they chose their actual position among 8 different ones:\n",
    "* Desire to work in a research environment\n",
    "* Freedom to choose own working practices\n",
    "* Desire to advance research\n",
    "* I want to learn new skills\n",
    "* Opportunity to develop software\n",
    "* Flexible working hours\n",
    "* Ability to work across disciplines\n",
    "* Opportunity for career advancement\n",
    "* The salary \t\n",
    "\n",
    "It appears that the Desire to work in a research environment, the Freedom to choose own working practices and the desire to advance research are more often ranked as the first reasons than any others one. On the contrarious, the Opportunity for career advancement and the salary are the least common reasons for choosing a position as RSE. "
   ]
  },
  {
   "cell_type": "markdown",
   "metadata": {},
   "source": [
    "### Where was your previous job based?"
   ]
  },
  {
   "cell_type": "code",
   "execution_count": null,
   "metadata": {
    "collapsed": true,
    "scrolled": true
   },
   "outputs": [],
   "source": [
    "v_to_count, filename  = get_count(df, ['prevEmp1. Where was your previous job based?'], \"one choice\", \"./../survey_creation/2017/de/listAnswers/type_organisation_de.csv\", \"False\", \"./2017/de/output/\")"
   ]
  },
  {
   "cell_type": "code",
   "execution_count": null,
   "metadata": {
    "collapsed": true,
    "scrolled": true
   },
   "outputs": [],
   "source": [
    "perc_to_count = get_percentage(v_to_count, filename)"
   ]
  },
  {
   "cell_type": "code",
   "execution_count": null,
   "metadata": {
    "collapsed": true,
    "scrolled": true
   },
   "outputs": [],
   "source": [
    "display_side_by_side(v_to_count,perc_to_count)"
   ]
  },
  {
   "cell_type": "code",
   "execution_count": null,
   "metadata": {
    "collapsed": true,
    "scrolled": true
   },
   "outputs": [],
   "source": [
    "_ = get_plot(perc_to_count, \"one choice\")"
   ]
  },
  {
   "cell_type": "markdown",
   "metadata": {},
   "source": [
    "### Rank the following factors dependent on how strongly they influenced your decision to accept your current position"
   ]
  },
  {
   "cell_type": "code",
   "execution_count": null,
   "metadata": {
    "collapsed": true,
    "scrolled": true
   },
   "outputs": [],
   "source": [
    "v_to_count, filename  = get_count(df, ['prevEmp2[1]. Rank the following factors dependent on how strongly they influenced your decision to accept your current position [Rank 1]', 'prevEmp2[2]. Rank the following factors dependent on how strongly they influenced your decision to accept your current position [Rank 2]', 'prevEmp2[3]. Rank the following factors dependent on how strongly they influenced your decision to accept your current position [Rank 3]', 'prevEmp2[4]. Rank the following factors dependent on how strongly they influenced your decision to accept your current position [Rank 4]', 'prevEmp2[5]. Rank the following factors dependent on how strongly they influenced your decision to accept your current position [Rank 5]'], \"ranking\", \"./../survey_creation/2017/de/listAnswers/decision_job.csv\", \"False\", \"./2017/de/output/\")"
   ]
  },
  {
   "cell_type": "code",
   "execution_count": null,
   "metadata": {
    "collapsed": true,
    "scrolled": true
   },
   "outputs": [],
   "source": [
    "perc_to_count = get_percentage(v_to_count, filename)"
   ]
  },
  {
   "cell_type": "code",
   "execution_count": null,
   "metadata": {
    "collapsed": true,
    "scrolled": true
   },
   "outputs": [],
   "source": [
    "display_side_by_side(v_to_count,perc_to_count)"
   ]
  },
  {
   "cell_type": "code",
   "execution_count": null,
   "metadata": {
    "collapsed": true,
    "scrolled": true
   },
   "outputs": [],
   "source": [
    "_ = get_plot(perc_to_count, \"ranking\")"
   ]
  },
  {
   "cell_type": "markdown",
   "metadata": {},
   "source": [
    "# Collaboration and training\n",
    "\n",
    "RSEs do not work for themselves, their role involves writing code that is used by others (as seen in section 4), but the collaboration can take other forms. This is why we asked with whom the participants work with. Usually, they seems to be embedded in a stable group, 64% of them report to work with the same researchers, while a minority as a more flexible collaboration (36%).\n",
    "On the side of collaboration, we wanted to know if they were working within a stable group of researcher software. It is the case for 56% of them, while 44% do not have such group. \n",
    "\n",
    "Working for researchers or working within a research software group is different than working on the same project with other developers. We then ask how much software developers typically work on the same project as the participants. It appears that RSEs work more often as the sole developer (35%) on the project or in pair (32%). Being between 3 and 5 developers is not that uncommon (24%) but bigger projects than that are marginals.\n",
    "\n",
    "RSEs have programming skills that is not necessarily shared within their field. Therefore, they can train other researchers to develop some best practices or learn how to program more efficiently. 66% of them participate to such training. They are not teaching directly to students but transferring skills is an important aspect of their job. In average, they do training twice a year and according to the wordcloud, this training is more often under the form of workshop than traditional teaching. A type of training probably more adapted to teach computing skills. "
   ]
  },
  {
   "cell_type": "markdown",
   "metadata": {},
   "source": [
    "## Collaboration"
   ]
  },
  {
   "cell_type": "markdown",
   "metadata": {},
   "source": [
    "### Do you always work with the same researcher(s), or do you regularly change the researcher(s) you work with?"
   ]
  },
  {
   "cell_type": "code",
   "execution_count": null,
   "metadata": {
    "collapsed": true,
    "scrolled": true
   },
   "outputs": [],
   "source": [
    "v_to_count, filename  = get_count(df, ['currentWork1. Do you always work with the same researcher(s), or do you regularly change the researcher(s) you work with?'], \"one choice\", \"./../survey_creation/2017/de/listAnswers/work_researchers.csv\", \"False\", \"./2017/de/output/\")"
   ]
  },
  {
   "cell_type": "code",
   "execution_count": null,
   "metadata": {
    "collapsed": true,
    "scrolled": true
   },
   "outputs": [],
   "source": [
    "perc_to_count = get_percentage(v_to_count, filename)"
   ]
  },
  {
   "cell_type": "code",
   "execution_count": null,
   "metadata": {
    "collapsed": true,
    "scrolled": true
   },
   "outputs": [],
   "source": [
    "display_side_by_side(v_to_count,perc_to_count)"
   ]
  },
  {
   "cell_type": "code",
   "execution_count": null,
   "metadata": {
    "collapsed": true,
    "scrolled": true
   },
   "outputs": [],
   "source": [
    "_ = get_plot(perc_to_count, \"one choice\")"
   ]
  },
  {
   "cell_type": "markdown",
   "metadata": {},
   "source": [
    "### Do you work for a Research Software Group?"
   ]
  },
  {
   "cell_type": "code",
   "execution_count": null,
   "metadata": {
    "collapsed": true,
    "scrolled": true
   },
   "outputs": [],
   "source": [
    "v_to_count, filename  = get_count(df, ['currentWork2. Do you work for a Research Software Group?'], \"y/n/na\", \"./../survey_creation/2017/de/listAnswers/.csv\", \"False\", \"./2017/de/output/\")"
   ]
  },
  {
   "cell_type": "code",
   "execution_count": null,
   "metadata": {
    "collapsed": true,
    "scrolled": true
   },
   "outputs": [],
   "source": [
    "perc_to_count = get_percentage(v_to_count, filename)"
   ]
  },
  {
   "cell_type": "code",
   "execution_count": null,
   "metadata": {
    "collapsed": true,
    "scrolled": true
   },
   "outputs": [],
   "source": [
    "display_side_by_side(v_to_count,perc_to_count)"
   ]
  },
  {
   "cell_type": "code",
   "execution_count": null,
   "metadata": {
    "collapsed": true,
    "scrolled": true
   },
   "outputs": [],
   "source": [
    "_ = get_plot(perc_to_count, \"y/n/na\")"
   ]
  },
  {
   "cell_type": "markdown",
   "metadata": {},
   "source": [
    "### How many software projects are you currently involved in?"
   ]
  },
  {
   "cell_type": "code",
   "execution_count": null,
   "metadata": {
    "collapsed": true,
    "scrolled": true
   },
   "outputs": [],
   "source": [
    "v_to_count, filename  = get_count(df, ['proj1can. How many software projects are you currently involved in?'], \"freenumeric\", \"./../survey_creation/2017/de/listAnswers/.csv\", \"False\", \"./2017/de/output/\")"
   ]
  },
  {
   "cell_type": "code",
   "execution_count": null,
   "metadata": {
    "collapsed": true,
    "scrolled": true
   },
   "outputs": [],
   "source": [
    "_ = get_plot(v_to_count, \"freenumeric\")"
   ]
  },
  {
   "cell_type": "markdown",
   "metadata": {},
   "source": [
    "### How many software developers typically work on your projects?"
   ]
  },
  {
   "cell_type": "code",
   "execution_count": null,
   "metadata": {
    "collapsed": true,
    "scrolled": true
   },
   "outputs": [],
   "source": [
    "v_to_count, filename  = get_count(df, ['proj2can. How many software developers typically work on your projects?'], \"one choice\", \"./../survey_creation/2017/de/listAnswers/proj_how_many_de.csv\", \"True\", \"./2017/de/output/\")"
   ]
  },
  {
   "cell_type": "code",
   "execution_count": null,
   "metadata": {
    "collapsed": true,
    "scrolled": true
   },
   "outputs": [],
   "source": [
    "perc_to_count = get_percentage(v_to_count, filename)"
   ]
  },
  {
   "cell_type": "code",
   "execution_count": null,
   "metadata": {
    "collapsed": true,
    "scrolled": true
   },
   "outputs": [],
   "source": [
    "display_side_by_side(v_to_count,perc_to_count)"
   ]
  },
  {
   "cell_type": "code",
   "execution_count": null,
   "metadata": {
    "collapsed": true,
    "scrolled": true
   },
   "outputs": [],
   "source": [
    "_ = get_plot(perc_to_count, \"one choice\")"
   ]
  },
  {
   "cell_type": "markdown",
   "metadata": {},
   "source": [
    "## Training"
   ]
  },
  {
   "cell_type": "markdown",
   "metadata": {},
   "source": [
    "### Have you ever trained researchers in computational techniques?"
   ]
  },
  {
   "cell_type": "code",
   "execution_count": null,
   "metadata": {
    "collapsed": true,
    "scrolled": true
   },
   "outputs": [],
   "source": [
    "v_to_count, filename  = get_count(df, ['train1. Have you ever trained researchers in computational techniques?'], \"y/n/na\", \"./../survey_creation/2017/de/listAnswers/.csv\", \"False\", \"./2017/de/output/\")"
   ]
  },
  {
   "cell_type": "code",
   "execution_count": null,
   "metadata": {
    "collapsed": true,
    "scrolled": true
   },
   "outputs": [],
   "source": [
    "perc_to_count = get_percentage(v_to_count, filename)"
   ]
  },
  {
   "cell_type": "code",
   "execution_count": null,
   "metadata": {
    "collapsed": true,
    "scrolled": true
   },
   "outputs": [],
   "source": [
    "display_side_by_side(v_to_count,perc_to_count)"
   ]
  },
  {
   "cell_type": "code",
   "execution_count": null,
   "metadata": {
    "collapsed": true,
    "scrolled": true
   },
   "outputs": [],
   "source": [
    "_ = get_plot(perc_to_count, \"y/n/na\")"
   ]
  },
  {
   "cell_type": "markdown",
   "metadata": {},
   "source": [
    "### On average, how many times a year do you take part in providing training?"
   ]
  },
  {
   "cell_type": "code",
   "execution_count": null,
   "metadata": {
    "collapsed": true,
    "scrolled": true
   },
   "outputs": [],
   "source": [
    "v_to_count, filename  = get_count(df, ['train2. On average, how many times a year do you take part in providing training?'], \"freenumeric\", \"./../survey_creation/2017/de/listAnswers/.csv\", \"False\", \"./2017/de/output/\")"
   ]
  },
  {
   "cell_type": "code",
   "execution_count": null,
   "metadata": {
    "collapsed": true,
    "scrolled": true
   },
   "outputs": [],
   "source": [
    "_ = get_plot(v_to_count, \"freenumeric\")"
   ]
  },
  {
   "cell_type": "markdown",
   "metadata": {},
   "source": [
    "### What training programs are you involved with (comma separated list; for example, Software Carpentry, local university training, etc.)"
   ]
  },
  {
   "cell_type": "code",
   "execution_count": null,
   "metadata": {
    "collapsed": true,
    "scrolled": true
   },
   "outputs": [],
   "source": [
    " wc = wordcloud(df, ['train3. What training programs are you involved with (comma separated list; for example, Software Carpentry, local university training, etc.)'])"
   ]
  },
  {
   "cell_type": "code",
   "execution_count": null,
   "metadata": {
    "collapsed": true,
    "scrolled": true
   },
   "outputs": [],
   "source": [
    " plt.imshow(wc, interpolation='bilinear')\n",
    " plt.axis(\"off\")"
   ]
  },
  {
   "cell_type": "markdown",
   "metadata": {},
   "source": [
    "# Publications\n",
    "\n",
    "RSEs is an hybrid role between a researcher and a software developer. We investigated both of these aspects concerning publication and dissemination of their work, one on the traditional aspect of it (publications and conference) and on the more software aspect (open source and DOI). \n",
    "One essential aspect of career in academia is the publications and the conferences to gain recognition. However, the role of RSE being less about writing articles than creating the infrastructure and the software for the article to exists, there is some fear that they will fail to have recognition through the paper and conference.\n",
    "Our results support this idea, while for 83% of the participants, their software is used in published researches they are only 71% (among them) who are acknowledged in the publication.\n",
    "\n",
    "Among these participants, only 33% are generally named as main author for the paper. Among the 67% of those who are not main author, 78% are at least mentioned as co-authors. And among these last 22% of RSEs that are not mentioned as co-author or main author, 69% are at least generally acknowledged in the main text of the paper.\n",
    "On conference, the number of RSEs that present their work in conference is rather small, only 56%, when compared to the paper publications. \n",
    "\n",
    "Software also requires specific citations, and even if the way to do it properly is not standardise yet, it is another way for RSEs to be recognised in their role, but also giving recognition to others that develop software. In that perspective, we asked them *how do they reference software directly or the papers describing the software?*. Among the propositions they could choose, citing the specific version of the software is the most common way to cite it (43%), followed by paper about software or the software itself (32%) or software itself (25%). It is important to note that this question did not have a \"No\" as an option, therefore these numbers need to be put in perspective of the high number of none answer. Less than 20 % of people chose one of the options. RSEs do not seem to often cite the software they use. \n",
    "\n",
    "The other development practice is how the code is distributed and if the RSEs are releasing their work under open licence. \n",
    "We asked the participants if they have ever released their work under open source licence and 62% of them replied by the affirmative. However, as it could be considered as a small number, among these 62%, it is seems that the vast majority of them doing it all the time (42%). Therefore, as soon as the step to open source is done, it seems that RSEs seems a constant interest in it. However, they rarely use a Digital Object Identifier (DOI) to help to identify their software. only 18% of them are doing it. And the frequency of use of the DOI among them is much more variable than for the open licence. \n",
    " \n",
    "A last element about publications is the use of [ORCID](https://orcid.org/). It is an online service that allows to connect different publications and work with one identifier per researcher. Half of them are using the service.\n"
   ]
  },
  {
   "cell_type": "markdown",
   "metadata": {},
   "source": [
    "## Academic publications"
   ]
  },
  {
   "cell_type": "markdown",
   "metadata": {},
   "source": [
    "### Has your software contributed to research that has been published in a journal or at a conference?; In general, when your software contributes to a paper, are you acknowledged in that paper?; Are you generally named as the main author of the paper?; Are you generally named as a co-author of the paper?; Are you generally acknowledged in the main text of the paper?"
   ]
  },
  {
   "cell_type": "code",
   "execution_count": null,
   "metadata": {
    "collapsed": true,
    "scrolled": true
   },
   "outputs": [],
   "source": [
    "v_to_count, filename  = get_count(df, ['paper1. Has your software contributed to research that has been published in a journal or at a conference?', 'paper2. In general, when your software contributes to a paper, are you acknowledged in that paper?', 'paper3. Are you generally named as the main author of the paper?', 'paper4. Are you generally named as a co-author of the paper?', 'paper5. Are you generally acknowledged in the main text of the paper?'], \"y/n/na\", \"./../survey_creation/2017/de/listAnswers/.csv\", \"False\", \"./2017/de/output/\")"
   ]
  },
  {
   "cell_type": "code",
   "execution_count": null,
   "metadata": {
    "collapsed": true,
    "scrolled": true
   },
   "outputs": [],
   "source": [
    "perc_to_count = get_percentage(v_to_count, filename)"
   ]
  },
  {
   "cell_type": "code",
   "execution_count": null,
   "metadata": {
    "collapsed": true,
    "scrolled": true
   },
   "outputs": [],
   "source": [
    "display_side_by_side(v_to_count,perc_to_count)"
   ]
  },
  {
   "cell_type": "code",
   "execution_count": null,
   "metadata": {
    "collapsed": true,
    "scrolled": true
   },
   "outputs": [],
   "source": [
    "_ = get_plot(perc_to_count, \"y/n/na\")"
   ]
  },
  {
   "cell_type": "markdown",
   "metadata": {},
   "source": [
    "### Have you ever presented your software work at a conference or workshop?"
   ]
  },
  {
   "cell_type": "code",
   "execution_count": null,
   "metadata": {
    "collapsed": true,
    "scrolled": true
   },
   "outputs": [],
   "source": [
    "v_to_count, filename  = get_count(df, ['conf1can. Have you ever presented your software work at a conference or workshop?'], \"y/n/na\", \"./../survey_creation/2017/de/listAnswers/.csv\", \"False\", \"./2017/de/output/\")"
   ]
  },
  {
   "cell_type": "code",
   "execution_count": null,
   "metadata": {
    "collapsed": true,
    "scrolled": true
   },
   "outputs": [],
   "source": [
    "perc_to_count = get_percentage(v_to_count, filename)"
   ]
  },
  {
   "cell_type": "code",
   "execution_count": null,
   "metadata": {
    "collapsed": true,
    "scrolled": true
   },
   "outputs": [],
   "source": [
    "display_side_by_side(v_to_count,perc_to_count)"
   ]
  },
  {
   "cell_type": "code",
   "execution_count": null,
   "metadata": {
    "collapsed": true,
    "scrolled": true
   },
   "outputs": [],
   "source": [
    "_ = get_plot(perc_to_count, \"y/n/na\")"
   ]
  },
  {
   "cell_type": "markdown",
   "metadata": {},
   "source": [
    "### Which conference(s)/workshop(s) (comma separated list with FULLNAME (ACRONYM), ACRONYM, ...)"
   ]
  },
  {
   "cell_type": "code",
   "execution_count": null,
   "metadata": {
    "collapsed": true,
    "scrolled": true
   },
   "outputs": [],
   "source": [
    " wc = wordcloud(df, ['conf2can. Which conference(s)/workshop(s) (comma separated list with FULLNAME (ACRONYM), ACRONYM, ...)'])"
   ]
  },
  {
   "cell_type": "code",
   "execution_count": null,
   "metadata": {
    "collapsed": true,
    "scrolled": true
   },
   "outputs": [],
   "source": [
    " plt.imshow(wc, interpolation='bilinear')\n",
    " plt.axis(\"off\")"
   ]
  },
  {
   "cell_type": "markdown",
   "metadata": {},
   "source": [
    "### Do you reference software directly or the papers describing the software?"
   ]
  },
  {
   "cell_type": "code",
   "execution_count": null,
   "metadata": {
    "collapsed": true,
    "scrolled": true
   },
   "outputs": [],
   "source": [
    "v_to_count, filename  = get_count(df, ['open2de. Do you reference software directly or the papers describing the software?'], \"one choice\", \"./../survey_creation/2017/de/listAnswers/doi_topic_de.csv\", \"False\", \"./2017/de/output/\")"
   ]
  },
  {
   "cell_type": "code",
   "execution_count": null,
   "metadata": {
    "collapsed": true,
    "scrolled": true
   },
   "outputs": [],
   "source": [
    "perc_to_count = get_percentage(v_to_count, filename)"
   ]
  },
  {
   "cell_type": "code",
   "execution_count": null,
   "metadata": {
    "collapsed": true,
    "scrolled": true
   },
   "outputs": [],
   "source": [
    "display_side_by_side(v_to_count,perc_to_count)"
   ]
  },
  {
   "cell_type": "code",
   "execution_count": null,
   "metadata": {
    "collapsed": true,
    "scrolled": true
   },
   "outputs": [],
   "source": [
    "_ = get_plot(perc_to_count, \"one choice\")"
   ]
  },
  {
   "cell_type": "markdown",
   "metadata": {},
   "source": [
    "## Open source"
   ]
  },
  {
   "cell_type": "markdown",
   "metadata": {},
   "source": [
    "### Have you ever released your software under an open-source licence?"
   ]
  },
  {
   "cell_type": "code",
   "execution_count": null,
   "metadata": {
    "collapsed": true,
    "scrolled": true
   },
   "outputs": [],
   "source": [
    "v_to_count, filename  = get_count(df, ['open01can. Have you ever released your software under an open-source licence?'], \"y/n/na\", \"./../survey_creation/2017/de/listAnswers/.csv\", \"False\", \"./2017/de/output/\")"
   ]
  },
  {
   "cell_type": "code",
   "execution_count": null,
   "metadata": {
    "collapsed": true,
    "scrolled": true
   },
   "outputs": [],
   "source": [
    "perc_to_count = get_percentage(v_to_count, filename)"
   ]
  },
  {
   "cell_type": "code",
   "execution_count": null,
   "metadata": {
    "collapsed": true,
    "scrolled": true
   },
   "outputs": [],
   "source": [
    "display_side_by_side(v_to_count,perc_to_count)"
   ]
  },
  {
   "cell_type": "code",
   "execution_count": null,
   "metadata": {
    "collapsed": true,
    "scrolled": true
   },
   "outputs": [],
   "source": [
    "_ = get_plot(perc_to_count, \"y/n/na\")"
   ]
  },
  {
   "cell_type": "markdown",
   "metadata": {},
   "source": [
    "### How often do you release the software projects you've worked on under an open-source licence?"
   ]
  },
  {
   "cell_type": "code",
   "execution_count": null,
   "metadata": {
    "collapsed": true,
    "scrolled": true
   },
   "outputs": [],
   "source": [
    "v_to_count, filename  = get_count(df, [\"open1can[SQ001]. How often do you release the software projects you've worked on under an open-source licence? []\"], \"one choice\", \"./../survey_creation/2017/de/listAnswers/likert_time_10.csv\", \"True\", \"./2017/de/output/\")"
   ]
  },
  {
   "cell_type": "code",
   "execution_count": null,
   "metadata": {
    "collapsed": true,
    "scrolled": true
   },
   "outputs": [],
   "source": [
    "perc_to_count = get_percentage(v_to_count, filename)"
   ]
  },
  {
   "cell_type": "code",
   "execution_count": null,
   "metadata": {
    "collapsed": true,
    "scrolled": true
   },
   "outputs": [],
   "source": [
    "display_side_by_side(v_to_count,perc_to_count)"
   ]
  },
  {
   "cell_type": "code",
   "execution_count": null,
   "metadata": {
    "collapsed": true,
    "scrolled": true
   },
   "outputs": [],
   "source": [
    "_ = get_plot(perc_to_count, \"one choice\")"
   ]
  },
  {
   "cell_type": "markdown",
   "metadata": {},
   "source": [
    "### Have you ever used a Digital Object Identifier (DOI) to identify your software?"
   ]
  },
  {
   "cell_type": "code",
   "execution_count": null,
   "metadata": {
    "collapsed": true,
    "scrolled": true
   },
   "outputs": [],
   "source": [
    "v_to_count, filename  = get_count(df, ['open03can. Have you ever used a Digital Object Identifier (DOI) to identify your software?'], \"y/n/na\", \"./../survey_creation/2017/de/listAnswers/.csv\", \"False\", \"./2017/de/output/\")"
   ]
  },
  {
   "cell_type": "code",
   "execution_count": null,
   "metadata": {
    "collapsed": true,
    "scrolled": true
   },
   "outputs": [],
   "source": [
    "perc_to_count = get_percentage(v_to_count, filename)"
   ]
  },
  {
   "cell_type": "code",
   "execution_count": null,
   "metadata": {
    "collapsed": true,
    "scrolled": true
   },
   "outputs": [],
   "source": [
    "display_side_by_side(v_to_count,perc_to_count)"
   ]
  },
  {
   "cell_type": "code",
   "execution_count": null,
   "metadata": {
    "collapsed": true,
    "scrolled": true
   },
   "outputs": [],
   "source": [
    "_ = get_plot(perc_to_count, \"y/n/na\")"
   ]
  },
  {
   "cell_type": "markdown",
   "metadata": {},
   "source": [
    "### How often do you associate your software with a Digital Object Identifier (DOI)?"
   ]
  },
  {
   "cell_type": "code",
   "execution_count": null,
   "metadata": {
    "collapsed": true,
    "scrolled": true
   },
   "outputs": [],
   "source": [
    "v_to_count, filename  = get_count(df, ['open3can[SQ001]. How often do you associate your software with a Digital Object Identifier (DOI)? []'], \"one choice\", \"./../survey_creation/2017/de/listAnswers/likert_time_10.csv\", \"True\", \"./2017/de/output/\")"
   ]
  },
  {
   "cell_type": "code",
   "execution_count": null,
   "metadata": {
    "collapsed": true,
    "scrolled": true
   },
   "outputs": [],
   "source": [
    "perc_to_count = get_percentage(v_to_count, filename)"
   ]
  },
  {
   "cell_type": "code",
   "execution_count": null,
   "metadata": {
    "collapsed": true,
    "scrolled": true
   },
   "outputs": [],
   "source": [
    "display_side_by_side(v_to_count,perc_to_count)"
   ]
  },
  {
   "cell_type": "code",
   "execution_count": null,
   "metadata": {
    "collapsed": true,
    "scrolled": true
   },
   "outputs": [],
   "source": [
    "_ = get_plot(perc_to_count, \"one choice\")"
   ]
  },
  {
   "cell_type": "markdown",
   "metadata": {},
   "source": [
    "### Which (infrastructure) tools do you use if assigning DOIs (e.g. local library, Zenodo)?"
   ]
  },
  {
   "cell_type": "code",
   "execution_count": null,
   "metadata": {
    "collapsed": true,
    "scrolled": true
   },
   "outputs": [],
   "source": [
    " wc = wordcloud(df, ['open3de. Which (infrastructure) tools do you use if assigning DOIs (e.g. local library, Zenodo)?'])"
   ]
  },
  {
   "cell_type": "code",
   "execution_count": null,
   "metadata": {
    "collapsed": true,
    "scrolled": true
   },
   "outputs": [],
   "source": [
    " plt.imshow(wc, interpolation='bilinear')\n",
    " plt.axis(\"off\")"
   ]
  },
  {
   "cell_type": "markdown",
   "metadata": {},
   "source": [
    "### Do you have an ORCID ID?"
   ]
  },
  {
   "cell_type": "code",
   "execution_count": null,
   "metadata": {
    "collapsed": true,
    "scrolled": true
   },
   "outputs": [],
   "source": [
    "v_to_count, filename  = get_count(df, ['open1de. Do you have an ORCID ID?'], \"y/n/na\", \"./../survey_creation/2017/de/listAnswers/.csv\", \"False\", \"./2017/de/output/\")"
   ]
  },
  {
   "cell_type": "code",
   "execution_count": null,
   "metadata": {
    "collapsed": true,
    "scrolled": true
   },
   "outputs": [],
   "source": [
    "perc_to_count = get_percentage(v_to_count, filename)"
   ]
  },
  {
   "cell_type": "code",
   "execution_count": null,
   "metadata": {
    "collapsed": true,
    "scrolled": true
   },
   "outputs": [],
   "source": [
    "display_side_by_side(v_to_count,perc_to_count)"
   ]
  },
  {
   "cell_type": "code",
   "execution_count": null,
   "metadata": {
    "collapsed": true,
    "scrolled": true
   },
   "outputs": [],
   "source": [
    "_ = get_plot(perc_to_count, \"y/n/na\")"
   ]
  },
  {
   "cell_type": "markdown",
   "metadata": {},
   "source": [
    "# Sustainability and technical details\n",
    "\n",
    "This section comprises two subsections that focus on the technical and development aspects of the RSEs' work. They aim to understand good practices in developing software and which tools are important for for RSEs. \n",
    "\n",
    "Developing software requires a set of good practices to ensure the quality of the subsequents analysis as well as the robustness of the developped sofware, to name a few of important aspects. We wanted to see if the implementation of some simple but essential good practices were a reality. Three measures were created, the implementation of testing, the bus factor and the technical hand over plan.\n",
    "These metrics allows to see the importance of the RSEs role in their team but also if they are themselves implementing some practices that are used widely in industry but less in academic research.\n",
    "\n",
    "We asked the participants to choose any of the following testing methods:\n",
    "* Test engineers conduct testing\n",
    "* Developers conduct testing\n",
    "* Users conduct testing\n",
    "* No formal testing\n",
    "\n",
    "Obviously, the *test engineers conduct testing* is the most potential testing method but may not be possible in number of small projects while, no formal testing should not occur in any ideal scenario, regardless of the size of the project. Surprisingly, 15% of the participants confessed they were not implementing testing at all. It may seems a low number but we think it is still a high percentage considering the specific work of this population. When they are conducting testing, the RSEs seems to prefer (or only able to implement) *developer testing* (48% of them) or letting the users conduct the testing (33%), while the use of test engineers is marginal (4%).\n",
    "\n",
    "We chose two broad measures to provide an insight into sustainability: the bus factor and technical hand over planning. The bus factor is a measure of the number of developers who understand a specific software project and could, with only a cursory review of the project, maintain or extend the code. A project with a bus factor of 1 is completely reliant on only one developer. If this developer finds new employment, becomes ill or is hit by the titular bus, then the project will fail. A high bus factor provides some confidence that the project can be sustained even if a developer leaves. A technical hand over plan is used to introduce a new developer to a software project. These plans cover basic information, such as the licence and location of the software, a repository, a description of the software architecture, a summary of development plans and any other information that a new developer would need to understand the software. A project that has written (and maintained) a technical hand over plan can withstand the departure of a developer, even a key developer, significantly better than one without such a plan.\n",
    "\n",
    "On majority of the RSEs' projects the bus factor is 1 (57%), followed by a bus factor of 2 (27%). Higher bus factor is only marginal with only 8% of the projects having a bus factor of 3, 3% of a bus factor of 4 and 5 % a bus factor equal or higher than 5.\n",
    "These low numbers should be put in relation of the number of developer involved in the project (35 % of the projects with only one developer and 32 % with 2 developers). However, the presence of a technical plan, which can mitigate the low bus factor in the different projects is really low (19%) and presents a risk of project failures.\n",
    "\n",
    "\n",
    "On technical details we wanted to know which of the programming languages were mostly used by the RSEs. We give them a multi-choice list inspired by the [results](https://insights.stackoverflow.com/survey/2017#most-popular-technologies) published by Stackoverflow. Python and C++ are clearly the most used language with 18% and 10%. The rests of the languages that are higher than 5% are Javascript (9%), R (8%), C (8%), Java (7%), Matlab (7%), SQL (7%) and Fortran (6%).\n",
    "About which Operating System used by RSEs, a majority are using GNU/Linux (60%), while Windows and OS X have way less users (23 and 15%)."
   ]
  },
  {
   "cell_type": "markdown",
   "metadata": {},
   "source": [
    "## Good practices"
   ]
  },
  {
   "cell_type": "markdown",
   "metadata": {},
   "source": [
    "### In general, what sort of testing do you conduct on your software? (check all that apply)"
   ]
  },
  {
   "cell_type": "code",
   "execution_count": null,
   "metadata": {
    "collapsed": true,
    "scrolled": true
   },
   "outputs": [],
   "source": [
    "v_to_count, filename  = get_count(df, ['proj4can[1]. In general, what sort of testing do you conduct on your software? (check all that apply) [No formal testing]', 'proj4can[2]. In general, what sort of testing do you conduct on your software? (check all that apply) [Developers conduct testing]', 'proj4can[3]. In general, what sort of testing do you conduct on your software? (check all that apply) [Test engineers conduct testing]', 'proj4can[4]. In general, what sort of testing do you conduct on your software? (check all that apply) [Users conduct testing]'], \"multiple choices\", \"./../survey_creation/2017/de/listAnswers/testing.csv\", \"False\", \"./2017/de/output/\")"
   ]
  },
  {
   "cell_type": "code",
   "execution_count": null,
   "metadata": {
    "collapsed": true,
    "scrolled": true
   },
   "outputs": [],
   "source": [
    "perc_to_count = get_percentage(v_to_count, filename)"
   ]
  },
  {
   "cell_type": "code",
   "execution_count": null,
   "metadata": {
    "collapsed": true,
    "scrolled": true
   },
   "outputs": [],
   "source": [
    "display_side_by_side(v_to_count,perc_to_count)"
   ]
  },
  {
   "cell_type": "code",
   "execution_count": null,
   "metadata": {
    "collapsed": true,
    "scrolled": true
   },
   "outputs": [],
   "source": [
    "_ = get_plot(perc_to_count, \"multiple choices\")"
   ]
  },
  {
   "cell_type": "markdown",
   "metadata": {},
   "source": [
    "### What is the bus factor of your most important software project?"
   ]
  },
  {
   "cell_type": "code",
   "execution_count": null,
   "metadata": {
    "collapsed": true,
    "scrolled": true
   },
   "outputs": [],
   "source": [
    "v_to_count, filename  = get_count(df, ['stability1. What is the bus factor of your most important software project?'], \"one choice\", \"./../survey_creation/2017/de/listAnswers/bus_factor.csv\", \"True\", \"./2017/de/output/\")"
   ]
  },
  {
   "cell_type": "code",
   "execution_count": null,
   "metadata": {
    "collapsed": true,
    "scrolled": true
   },
   "outputs": [],
   "source": [
    "perc_to_count = get_percentage(v_to_count, filename)"
   ]
  },
  {
   "cell_type": "code",
   "execution_count": null,
   "metadata": {
    "collapsed": true,
    "scrolled": true
   },
   "outputs": [],
   "source": [
    "display_side_by_side(v_to_count,perc_to_count)"
   ]
  },
  {
   "cell_type": "code",
   "execution_count": null,
   "metadata": {
    "collapsed": true,
    "scrolled": true
   },
   "outputs": [],
   "source": [
    "_ = get_plot(perc_to_count, \"one choice\")"
   ]
  },
  {
   "cell_type": "markdown",
   "metadata": {},
   "source": [
    "### Is there a technical hand-over plan for your most important software project?"
   ]
  },
  {
   "cell_type": "code",
   "execution_count": null,
   "metadata": {
    "collapsed": true,
    "scrolled": true
   },
   "outputs": [],
   "source": [
    "v_to_count, filename  = get_count(df, ['stability2. Is there a technical hand-over plan for your most important software project?'], \"y/n/na\", \"./../survey_creation/2017/de/listAnswers/.csv\", \"False\", \"./2017/de/output/\")"
   ]
  },
  {
   "cell_type": "code",
   "execution_count": null,
   "metadata": {
    "collapsed": true,
    "scrolled": true
   },
   "outputs": [],
   "source": [
    "perc_to_count = get_percentage(v_to_count, filename)"
   ]
  },
  {
   "cell_type": "code",
   "execution_count": null,
   "metadata": {
    "collapsed": true,
    "scrolled": true
   },
   "outputs": [],
   "source": [
    "display_side_by_side(v_to_count,perc_to_count)"
   ]
  },
  {
   "cell_type": "code",
   "execution_count": null,
   "metadata": {
    "collapsed": true,
    "scrolled": true
   },
   "outputs": [],
   "source": [
    "_ = get_plot(perc_to_count, \"y/n/na\")"
   ]
  },
  {
   "cell_type": "markdown",
   "metadata": {},
   "source": [
    "## Technical details"
   ]
  },
  {
   "cell_type": "markdown",
   "metadata": {},
   "source": [
    "### What programming languages do you use at work? (Select as many as apply)"
   ]
  },
  {
   "cell_type": "code",
   "execution_count": null,
   "metadata": {
    "collapsed": true,
    "scrolled": true
   },
   "outputs": [],
   "source": [
    "v_to_count, filename  = get_count(df, ['tool4can[1]. What programming languages do you use at work? (Select as many as apply) [Assembly]', 'tool4can[2]. What programming languages do you use at work? (Select as many as apply) [C]', 'tool4can[3]. What programming languages do you use at work? (Select as many as apply) [C#]', 'tool4can[4]. What programming languages do you use at work? (Select as many as apply) [C++]', 'tool4can[5]. What programming languages do you use at work? (Select as many as apply) [Clojure]', 'tool4can[6]. What programming languages do you use at work? (Select as many as apply) [CoffeeScript]', 'tool4can[7]. What programming languages do you use at work? (Select as many as apply) [Common Lisp]', 'tool4can[8]. What programming languages do you use at work? (Select as many as apply) [Dart]', 'tool4can[9]. What programming languages do you use at work? (Select as many as apply) [Elixir]', 'tool4can[10]. What programming languages do you use at work? (Select as many as apply) [Erlang]', 'tool4can[11]. What programming languages do you use at work? (Select as many as apply) [F#]', 'tool4can[12]. What programming languages do you use at work? (Select as many as apply) [Fortran]', 'tool4can[13]. What programming languages do you use at work? (Select as many as apply) [Go]', 'tool4can[14]. What programming languages do you use at work? (Select as many as apply) [Groovy]', 'tool4can[15]. What programming languages do you use at work? (Select as many as apply) [Hack]', 'tool4can[16]. What programming languages do you use at work? (Select as many as apply) [Haskell]', 'tool4can[17]. What programming languages do you use at work? (Select as many as apply) [Java]', 'tool4can[18]. What programming languages do you use at work? (Select as many as apply) [JavaScript]', 'tool4can[19]. What programming languages do you use at work? (Select as many as apply) [Julia]', 'tool4can[20]. What programming languages do you use at work? (Select as many as apply) [Lua]', 'tool4can[21]. What programming languages do you use at work? (Select as many as apply) [Matlab]', 'tool4can[22]. What programming languages do you use at work? (Select as many as apply) [Objective-C]', 'tool4can[23]. What programming languages do you use at work? (Select as many as apply) [Perl]', 'tool4can[24]. What programming languages do you use at work? (Select as many as apply) [PHP]', 'tool4can[25]. What programming languages do you use at work? (Select as many as apply) [Python]', 'tool4can[26]. What programming languages do you use at work? (Select as many as apply) [R]', 'tool4can[27]. What programming languages do you use at work? (Select as many as apply) [Ruby]', 'tool4can[28]. What programming languages do you use at work? (Select as many as apply) [Rust]', 'tool4can[29]. What programming languages do you use at work? (Select as many as apply) [Scala]', 'tool4can[30]. What programming languages do you use at work? (Select as many as apply) [Smalltalk]', 'tool4can[31]. What programming languages do you use at work? (Select as many as apply) [SQL]', 'tool4can[32]. What programming languages do you use at work? (Select as many as apply) [Swift]', 'tool4can[33]. What programming languages do you use at work? (Select as many as apply) [TypeScript]', 'tool4can[34]. What programming languages do you use at work? (Select as many as apply) [VB.NET]', 'tool4can[35]. What programming languages do you use at work? (Select as many as apply) [VBA]', 'tool4can[36]. What programming languages do you use at work? (Select as many as apply) [Visual Basic]'], \"multiple choices\", \"./../survey_creation/2017/de/listAnswers/programing_language.csv\", \"False\", \"./2017/de/output/\")"
   ]
  },
  {
   "cell_type": "code",
   "execution_count": null,
   "metadata": {
    "collapsed": true,
    "scrolled": true
   },
   "outputs": [],
   "source": [
    "perc_to_count = get_percentage(v_to_count, filename)"
   ]
  },
  {
   "cell_type": "code",
   "execution_count": null,
   "metadata": {
    "collapsed": true,
    "scrolled": true
   },
   "outputs": [],
   "source": [
    "display_side_by_side(v_to_count,perc_to_count)"
   ]
  },
  {
   "cell_type": "code",
   "execution_count": null,
   "metadata": {
    "collapsed": true,
    "scrolled": true
   },
   "outputs": [],
   "source": [
    "_ = get_plot(perc_to_count, \"multiple choices\")"
   ]
  },
  {
   "cell_type": "markdown",
   "metadata": {},
   "source": [
    "### What Operating System do you prefer to use at work?"
   ]
  },
  {
   "cell_type": "code",
   "execution_count": null,
   "metadata": {
    "collapsed": true,
    "scrolled": true
   },
   "outputs": [],
   "source": [
    "v_to_count, filename  = get_count(df, ['tool2. What Operating System do you prefer to use at work?'], \"one choice\", \"./../survey_creation/2017/de/listAnswers/os.csv\", \"False\", \"./2017/de/output/\")"
   ]
  },
  {
   "cell_type": "code",
   "execution_count": null,
   "metadata": {
    "collapsed": true,
    "scrolled": true
   },
   "outputs": [],
   "source": [
    "perc_to_count = get_percentage(v_to_count, filename)"
   ]
  },
  {
   "cell_type": "code",
   "execution_count": null,
   "metadata": {
    "collapsed": true,
    "scrolled": true
   },
   "outputs": [],
   "source": [
    "display_side_by_side(v_to_count,perc_to_count)"
   ]
  },
  {
   "cell_type": "code",
   "execution_count": null,
   "metadata": {
    "collapsed": true,
    "scrolled": true
   },
   "outputs": [],
   "source": [
    "_ = get_plot(perc_to_count, \"one choice\")"
   ]
  },
  {
   "cell_type": "markdown",
   "metadata": {},
   "source": [
    "# Job satisfaction\n",
    "\n",
    "The job satisfaction is an essential pulse to take about the community. It helps to track the evolution and the current state of the RSEs within their role and to catch any sign of structural or organisational dysfunction that are translated into well-being. There are a lot of different metrics to measure the quality of a job on a personal and psychological level [4]. Several models exist to understand the link between different factors of job satisfaction and turnover intention [5]–[9]. Turnover intention is an important measure that is highly associated with the risk of employees leaving the organisation [7]. Job satisfaction is important in retaining RSEs. Perceived employability provides information on how workers values their own skills in regard of the market. To measure the different attitudes toward the RSE role, we used scales that have been created in [5], [6], [8], [9]. These are Likert scale [10], which are 5 point ordinal scales graduated from Strongly disagree to Strongly agree. Each scale is composed of several so called items (i.e. questions) that each measure one attitude.\n",
    "\n",
    "Beside these specific concepts we asked more general question about their satisfaction in their current position and their satisfaction with their career in general. To the range from *0 - Not at all satisfied* to *10 - Completely satisfied*, 79% of the participants answered more than 5 to the scale (which can be considered as a neutral position) to the question about their satisfaction about their current position. For the question about their satisfaction with their career in general (and using the same scale), 71% of the participants answered more than 5 to the scale. \n",
    "\n",
    "The specific questions about their job satisfaction reflect, in general, the same opinion as the two more generic questions. However, the granularity helps to identify a couple of issues that would not appears with generic questions:\n",
    "* *The feedback about the performance*: These questions ask if the RSEs feel that they receive enough information about their work and their performance. While they seems to have enough information about the purpose of their work and having access to sufficient data and information, they are less assertive about the feedback they receive from their colleagues and their supervisors. \n",
    "* *The turnover intention*: These questions aim to measure the desire to quit their current position. Overall, the participants are not willing to leave their position and are not necessarily searching for other job, even if the potential job would offer the same compensations.  \n",
    "* *The perceived employability*: This concept is linked to the previous one. People may not have the intention to leave their jobs, not because they like it, but because they fear they are not employable. This is not the case here, the participants consider themselves more often employable than not. \n",
    "* *The affective recognition*: This concept try to see if the participants receive positive feedback from their supervisors. Overall, again the participants report a positive relation with their supervisors. It means they are not systematic issues with direct management. \n",
    "\n",
    "* *Affective satisfaction*: Here, the concept measures how much the participants enjoy and like their job. The answers were positive and again, reflect the answers given at the more generic questions. \n",
    "\n",
    "* *The possibility of progression*: This question aims to study the possibility of evolution for the RSEs, if information is available and if they see a possibility of evolution within their current career. This is the only questions that clearly received negatives answers. To summarise, even if the RSEs have planned to be in this position, as a part of their career plan, the majority of them think they cannot be promoted in their current group, neither the information for such progression is easily accessible."
   ]
  },
  {
   "cell_type": "markdown",
   "metadata": {},
   "source": [
    "### In general, how satisfied are you with Your current position; In general, how satisfied are you with Your career"
   ]
  },
  {
   "cell_type": "code",
   "execution_count": null,
   "metadata": {
    "collapsed": true,
    "scrolled": true
   },
   "outputs": [],
   "source": [
    "v_to_count, filename  = get_count(df, ['likert3[satisgen1]. [In general, how satisfied are you with Your current position]', 'likert3[satisgen2]. [In general, how satisfied are you with Your career]'], \"likert\", \"./../survey_creation/2017/de/listAnswers/likert_satisfied_10.csv\", \"False\", \"./2017/de/output/\")"
   ]
  },
  {
   "cell_type": "code",
   "execution_count": null,
   "metadata": {
    "collapsed": true,
    "scrolled": true
   },
   "outputs": [],
   "source": [
    "perc_to_count = get_percentage(v_to_count, filename)"
   ]
  },
  {
   "cell_type": "code",
   "execution_count": null,
   "metadata": {
    "collapsed": true,
    "scrolled": true
   },
   "outputs": [],
   "source": [
    "display_side_by_side(v_to_count, perc_to_count)"
   ]
  },
  {
   "cell_type": "code",
   "execution_count": null,
   "metadata": {
    "collapsed": true,
    "scrolled": true
   },
   "outputs": [],
   "source": [
    "_ = get_plot(v_to_count, \"likert\")"
   ]
  },
  {
   "cell_type": "markdown",
   "metadata": {},
   "source": [
    "### Do you receive sufficient information on the results of your work?; Does your work give you the opportunity to check on how well you are doing your work?; In your work, do you have access to sufficient data and information?; Do you receive sufficient information on the purpose of your work?; Does your work provide you with direct feedback on how well you are doing your work?; Does your supervisor/line manager inform you about how well you are doing your work?; Do your colleagues inform you about how well you are doing your work?"
   ]
  },
  {
   "cell_type": "code",
   "execution_count": null,
   "metadata": {
    "collapsed": true,
    "scrolled": true
   },
   "outputs": [],
   "source": [
    "v_to_count, filename  = get_count(df, ['likert1[perfCheck1]. [Do you receive sufficient information on the results of your work?]', 'likert1[perfCheck2]. [Does your work give you the opportunity to check on how well you are doing your work?]', 'likert1[perfCheck3]. [In your work, do you have access to sufficient data and information?]', 'likert1[perfCheck4]. [Do you receive sufficient information on the purpose of your work?]', 'likert1[perfCheck5]. [Does your work provide you with direct feedback on how well you are doing your work?]', 'likert1[perfCheck6]. [Does your supervisor/line manager inform you about how well you are doing your work?]', 'likert1[perfCheck7]. [Do your colleagues inform you about how well you are doing your work?]'], \"likert\", \"./../survey_creation/2017/de/listAnswers/likert_time_10.csv\", \"False\", \"./2017/de/output/\")"
   ]
  },
  {
   "cell_type": "code",
   "execution_count": null,
   "metadata": {
    "collapsed": true,
    "scrolled": true
   },
   "outputs": [],
   "source": [
    "display(v_to_count) "
   ]
  },
  {
   "cell_type": "code",
   "execution_count": null,
   "metadata": {
    "collapsed": true,
    "scrolled": true
   },
   "outputs": [],
   "source": [
    "_ = get_plot(v_to_count, \"likert\")"
   ]
  },
  {
   "cell_type": "markdown",
   "metadata": {},
   "source": [
    "### How often do you feel frustrated when not given the opportunity to achieve your personal work-related goals?; How often do you look forward to another day at work?; How often do you consider leaving your job?; How often do dream about getting another job that will better suit your needs?"
   ]
  },
  {
   "cell_type": "code",
   "execution_count": null,
   "metadata": {
    "collapsed": true,
    "scrolled": true
   },
   "outputs": [],
   "source": [
    "v_to_count, filename  = get_count(df, ['likert1[turnOver1]. [How often do you feel frustrated when not given the opportunity to achieve your personal work-related goals?]', 'likert1[turnOver2]. [How often do you look forward to another day at work?]', 'likert1[turnOver3]. [How often do you consider leaving your job?]', 'likert1[turnOver4]. [How often do dream about getting another job that will better suit your needs?]'], \"likert\", \"./../survey_creation/2017/de/listAnswers/likert_time_10.csv\", \"False\", \"./2017/de/output/\")"
   ]
  },
  {
   "cell_type": "code",
   "execution_count": null,
   "metadata": {
    "collapsed": true,
    "scrolled": true
   },
   "outputs": [],
   "source": [
    "display(v_to_count) "
   ]
  },
  {
   "cell_type": "code",
   "execution_count": null,
   "metadata": {
    "collapsed": true,
    "scrolled": true
   },
   "outputs": [],
   "source": [
    "_ = get_plot(v_to_count, \"likert\")"
   ]
  },
  {
   "cell_type": "markdown",
   "metadata": {},
   "source": [
    "### My current job satisfies my personal needs; I would accept another job at the same compensation level if I was offered it"
   ]
  },
  {
   "cell_type": "code",
   "execution_count": null,
   "metadata": {
    "collapsed": true,
    "scrolled": true
   },
   "outputs": [],
   "source": [
    "v_to_count, filename  = get_count(df, ['likert2[turnOver5]. [My current job satisfies my personal needs]', 'likert2[turnOver6]. [I would accept another job at the same compensation level if I was offered it]'], \"likert\", \"./../survey_creation/2017/de/listAnswers/likert_agree.csv\", \"False\", \"./2017/de/output/\")"
   ]
  },
  {
   "cell_type": "code",
   "execution_count": null,
   "metadata": {
    "collapsed": true,
    "scrolled": true
   },
   "outputs": [],
   "source": [
    "display(v_to_count) "
   ]
  },
  {
   "cell_type": "code",
   "execution_count": null,
   "metadata": {
    "collapsed": true,
    "scrolled": true
   },
   "outputs": [],
   "source": [
    "_ = get_plot(v_to_count, \"likert\")"
   ]
  },
  {
   "cell_type": "markdown",
   "metadata": {},
   "source": [
    "### It would not be very difficult for me to get an equivalent job in a different organisation; I can think of a number of organisations that would probably offer me a job; My experience is in demand on the labour market; Given my qualifications and experience, getting a new job would not be very hard at all"
   ]
  },
  {
   "cell_type": "code",
   "execution_count": null,
   "metadata": {
    "collapsed": true,
    "scrolled": true
   },
   "outputs": [],
   "source": [
    "v_to_count, filename  = get_count(df, ['likert2[percEmp1]. [It would not be very difficult for me to get an equivalent job in a different organisation]', 'likert2[percEmp2]. [I can think of a number of organisations that would probably offer me a job]', 'likert2[percEmp3]. [My experience is in demand on the labour market]', 'likert2[percEmp4]. [Given my qualifications and experience, getting a new job would not be very hard at all]'], \"likert\", \"./../survey_creation/2017/de/listAnswers/likert_agree.csv\", \"False\", \"./2017/de/output/\")"
   ]
  },
  {
   "cell_type": "code",
   "execution_count": null,
   "metadata": {
    "collapsed": true,
    "scrolled": true
   },
   "outputs": [],
   "source": [
    "display(v_to_count) "
   ]
  },
  {
   "cell_type": "code",
   "execution_count": null,
   "metadata": {
    "collapsed": true,
    "scrolled": true
   },
   "outputs": [],
   "source": [
    "_ = get_plot(v_to_count, \"likert\")"
   ]
  },
  {
   "cell_type": "markdown",
   "metadata": {},
   "source": [
    "### I am satisfied with my supervisor/line manager's confidence in me; I am satisfied with a word of thanks from my supervisor/line manager; I am satisfied with the recognition I receive from my supervisor/line manager for doing my job; I am satisfied with the compliments from my supervisor/line manager concerning my work; I am satisfied with the encouragement from my supervisor/line manager while doing my job"
   ]
  },
  {
   "cell_type": "code",
   "execution_count": null,
   "metadata": {
    "collapsed": true,
    "scrolled": true
   },
   "outputs": [],
   "source": [
    "v_to_count, filename  = get_count(df, [\"likert2[affRec1]. [I am satisfied with my supervisor/line manager's confidence in me]\", 'likert2[affRec2]. [I am satisfied with a word of thanks from my supervisor/line manager]', 'likert2[affRec3]. [I am satisfied with the recognition I receive from my supervisor/line manager for doing my job]', 'likert2[affRec4]. [I am satisfied with the compliments from my supervisor/line manager concerning my work]', 'likert2[affRec5]. [I am satisfied with the encouragement from my supervisor/line manager while doing my job]'], \"likert\", \"./../survey_creation/2017/de/listAnswers/likert_agree.csv\", \"False\", \"./2017/de/output/\")"
   ]
  },
  {
   "cell_type": "code",
   "execution_count": null,
   "metadata": {
    "collapsed": true,
    "scrolled": true
   },
   "outputs": [],
   "source": [
    "display(v_to_count) "
   ]
  },
  {
   "cell_type": "code",
   "execution_count": null,
   "metadata": {
    "collapsed": true,
    "scrolled": true
   },
   "outputs": [],
   "source": [
    "_ = get_plot(v_to_count, \"likert\")"
   ]
  },
  {
   "cell_type": "markdown",
   "metadata": {},
   "source": [
    "### I find real enjoyment in my job; Most days I am enthusiastic about my job; I feel fairly well satisfied with my job; I like my job better than the average person"
   ]
  },
  {
   "cell_type": "code",
   "execution_count": null,
   "metadata": {
    "collapsed": true,
    "scrolled": true
   },
   "outputs": [],
   "source": [
    "v_to_count, filename  = get_count(df, ['likert2[affSat1]. [I find real enjoyment in my job]', 'likert2[affSat2]. [Most days I am enthusiastic about my job]', 'likert2[affSat3]. [I feel fairly well satisfied with my job]', 'likert2[affSat4]. [I like my job better than the average person]'], \"likert\", \"./../survey_creation/2017/de/listAnswers/likert_agree.csv\", \"False\", \"./2017/de/output/\")"
   ]
  },
  {
   "cell_type": "code",
   "execution_count": null,
   "metadata": {
    "collapsed": true,
    "scrolled": true
   },
   "outputs": [],
   "source": [
    "display(v_to_count) "
   ]
  },
  {
   "cell_type": "code",
   "execution_count": null,
   "metadata": {
    "collapsed": true,
    "scrolled": true
   },
   "outputs": [],
   "source": [
    "_ = get_plot(v_to_count, \"likert\")"
   ]
  },
  {
   "cell_type": "markdown",
   "metadata": {},
   "source": [
    "### It is likely that I will gain a promotion within my current group; The process I have to complete to gain a promotion is clear and understandable; There are many opportunities within my chosen career plan; My current position is an integral part of my career plan; It is likely that my next position will be an RSE role"
   ]
  },
  {
   "cell_type": "code",
   "execution_count": null,
   "metadata": {
    "collapsed": true,
    "scrolled": true
   },
   "outputs": [],
   "source": [
    "v_to_count, filename  = get_count(df, ['likert2[progRSE1]. [It is likely that I will gain a promotion within my current group]', 'likert2[progRSE2]. [The process I have to complete to gain a promotion is clear and understandable]', 'likert2[progRSE3]. [There are many opportunities within my chosen career plan]', 'likert2[progRSE4]. [My current position is an integral part of my career plan]', 'likert2[progRSE5]. [It is likely that my next position will be an RSE role]'], \"likert\", \"./../survey_creation/2017/de/listAnswers/likert_agree.csv\", \"False\", \"./2017/de/output/\")"
   ]
  },
  {
   "cell_type": "code",
   "execution_count": null,
   "metadata": {
    "collapsed": true,
    "scrolled": true
   },
   "outputs": [],
   "source": [
    "display(v_to_count) "
   ]
  },
  {
   "cell_type": "code",
   "execution_count": null,
   "metadata": {
    "collapsed": true,
    "scrolled": true
   },
   "outputs": [],
   "source": [
    "_ = get_plot(v_to_count, \"likert\")"
   ]
  },
  {
   "cell_type": "markdown",
   "metadata": {},
   "source": [
    "# Research Software Engineer\n",
    "\n",
    "This last section regroups different questions about RSEs in general, the specific skills for them, where they meet other RSEs and the prospect of a conference in Germany. We asked them *how* they acquired the skills to become an RSE but also *which* skills they would like to acquire to become a better RSE. The propositions are listed and a wordcloud is proposed to see which are the most frequent words.\n",
    "\n",
    "The term Research Software Engineer may not have a consensus everywhere. This is why in this survey asked the participants if they could think of another job title. When all the none answer, and the answers saying 'No', were filtered, it remained only 22 propositions that are detailed below. \n",
    "The last section was about the RSE network, specific to Germany. It appears that the network is not really efficient yet. First, to the question where they meet other RSE, only 29% of them chose between the different proposition, with a higher number in local RSE group (15%). Added to that, we asked if they were member of the [de-RSE initiative](http://www.de-rse.org/) but only 19% of them where. \n",
    "However, to the question to participate to a conference about software development in Germany, 78% of them answered 'Yes'. "
   ]
  },
  {
   "cell_type": "markdown",
   "metadata": {},
   "source": [
    "## Skills"
   ]
  },
  {
   "cell_type": "markdown",
   "metadata": {},
   "source": [
    "### How did you learn the skills you need to become an RSE?"
   ]
  },
  {
   "cell_type": "code",
   "execution_count": null,
   "metadata": {
    "collapsed": true,
    "scrolled": false
   },
   "outputs": [],
   "source": [
    "data = df['ukrse3. How did you learn the skills you need to become an RSE?'].dropna()\n",
    "skills = [z.strip() for i in data for z in i.split(',') if len(z.strip()) > 2]\n",
    "print('There is {} propositions'.format(len(skills)))\n",
    "for i in skills:\n",
    "    print(i)"
   ]
  },
  {
   "cell_type": "code",
   "execution_count": null,
   "metadata": {
    "collapsed": true,
    "scrolled": true
   },
   "outputs": [],
   "source": [
    "wc = wordcloud(df, ['ukrse3. How did you learn the skills you need to become an RSE?'])\n",
    "plt.imshow(wc, interpolation='bilinear')\n",
    "plt.axis(\"off\")"
   ]
  },
  {
   "cell_type": "markdown",
   "metadata": {},
   "source": [
    "### What three skills would you like to acquire or improve to help your work as a Research Software Engineer? The skills can be technical and non-technical."
   ]
  },
  {
   "cell_type": "code",
   "execution_count": null,
   "metadata": {
    "collapsed": true,
    "scrolled": false
   },
   "outputs": [],
   "source": [
    "data = df['skill2. What three skills would you like to acquire or improve to help your work as a Research Software Engineer? The skills can be technical and non-technical.'].dropna()\n",
    "skills = [z.strip()  for i in data for z in i.split(',') if len(z.strip()) > 2]\n",
    "print('There is {} propositions'.format(len(skills)))\n",
    "for i in skills:\n",
    "    print(i)"
   ]
  },
  {
   "cell_type": "code",
   "execution_count": null,
   "metadata": {
    "collapsed": true,
    "scrolled": true
   },
   "outputs": [],
   "source": [
    "wc = wordcloud(df, ['skill2. What three skills would you like to acquire or improve to help your work as a Research Software Engineer? The skills can be technical and non-technical.'])\n",
    "plt.imshow(wc, interpolation='bilinear')\n",
    "plt.axis(\"off\")"
   ]
  },
  {
   "cell_type": "markdown",
   "metadata": {},
   "source": [
    "### Do you know a better job title/role than RSE which summarizes all kinds of activities realated to academic software creation?"
   ]
  },
  {
   "cell_type": "code",
   "execution_count": null,
   "metadata": {
    "collapsed": true,
    "scrolled": true
   },
   "outputs": [],
   "source": [
    "different_titles = [i for i in df['ukrse11de. Do you know a better job title/role than RSE which summarizes all kinds of activities realated to academic software creation?'].dropna() if i.lower() not in ['nein', 'ni', 'no', '-'] ]\n",
    "print('There is {} propositions'.format(len(different_titles)))\n",
    "for i in different_titles:\n",
    "    print(i)"
   ]
  },
  {
   "cell_type": "code",
   "execution_count": null,
   "metadata": {
    "collapsed": true,
    "scrolled": true
   },
   "outputs": [],
   "source": [
    "wc = wordcloud(df, ['ukrse11de. Do you know a better job title/role than RSE which summarizes all kinds of activities realated to academic software creation?']) \n",
    "plt.axis(\"off\")\n",
    "plt.imshow(wc, interpolation='bilinear')\n"
   ]
  },
  {
   "cell_type": "markdown",
   "metadata": {},
   "source": [
    "## RSE Network"
   ]
  },
  {
   "cell_type": "markdown",
   "metadata": {},
   "source": [
    "### How do you meet other RSEs?"
   ]
  },
  {
   "cell_type": "code",
   "execution_count": null,
   "metadata": {
    "collapsed": true,
    "scrolled": true
   },
   "outputs": [],
   "source": [
    "v_to_count, filename  = get_count(df, ['ukrse2[1]. How do you meet other RSEs? [UK RSE Association (http://rse.ac.uk/)]', 'ukrse2[2]. How do you meet other RSEs? [DE-RSE Community (http://de-rse.org)]', 'ukrse2[3]. How do you meet other RSEs? [Local RSE group/network]', 'ukrse2[4]. How do you meet other RSEs? [N/A]'], \"multiple choices\", \"./../survey_creation/2017/de/listAnswers/ukrse_de.csv\", \"False\", \"./2017/de/output/\")"
   ]
  },
  {
   "cell_type": "code",
   "execution_count": null,
   "metadata": {
    "collapsed": true,
    "scrolled": true
   },
   "outputs": [],
   "source": [
    "perc_to_count = get_percentage(v_to_count, filename)"
   ]
  },
  {
   "cell_type": "code",
   "execution_count": null,
   "metadata": {
    "collapsed": true,
    "scrolled": true
   },
   "outputs": [],
   "source": [
    "display_side_by_side(v_to_count,perc_to_count)"
   ]
  },
  {
   "cell_type": "code",
   "execution_count": null,
   "metadata": {
    "collapsed": true,
    "scrolled": true
   },
   "outputs": [],
   "source": [
    "_ = get_plot(perc_to_count, \"multiple choices\")"
   ]
  },
  {
   "cell_type": "markdown",
   "metadata": {},
   "source": [
    "### Are you a member of the de-RSE initiative? (Members are people who have signed up to the de-RSE mailing list, http://www.de-rse.org/en/join.html)"
   ]
  },
  {
   "cell_type": "code",
   "execution_count": null,
   "metadata": {
    "collapsed": true,
    "scrolled": true
   },
   "outputs": [],
   "source": [
    "v_to_count, filename  = get_count(df, ['ukrse10de. Are you a member of the de-RSE initiative? (Members are people who have signed up to the de-RSE mailing list, http://www.de-rse.org/en/join.html)'], \"y/n/na\", \"./../survey_creation/2017/de/listAnswers/.csv\", \"False\", \"./2017/de/output/\")"
   ]
  },
  {
   "cell_type": "code",
   "execution_count": null,
   "metadata": {
    "collapsed": true,
    "scrolled": true
   },
   "outputs": [],
   "source": [
    "perc_to_count = get_percentage(v_to_count, filename)"
   ]
  },
  {
   "cell_type": "code",
   "execution_count": null,
   "metadata": {
    "collapsed": true,
    "scrolled": true
   },
   "outputs": [],
   "source": [
    "display_side_by_side(v_to_count,perc_to_count)"
   ]
  },
  {
   "cell_type": "code",
   "execution_count": null,
   "metadata": {
    "collapsed": true,
    "scrolled": true
   },
   "outputs": [],
   "source": [
    "_ = get_plot(perc_to_count, \"y/n/na\")"
   ]
  },
  {
   "cell_type": "markdown",
   "metadata": {},
   "source": [
    "### Would you like to visit a conference about software development in academia in Germany?; We may contact you for a possible conference announcement via email. If you allow then please add your email address here: https://goo.gl/WizV7d"
   ]
  },
  {
   "cell_type": "code",
   "execution_count": null,
   "metadata": {
    "collapsed": true,
    "scrolled": true
   },
   "outputs": [],
   "source": [
    "v_to_count, filename  = get_count(df, ['ukrse12de. Would you like to visit a conference about software development in academia in Germany?', 'ukrse13de. We may contact you for a possible conference announcement via email. If you allow then please add your email address here: https://goo.gl/WizV7d'], \"y/n/na\", \"./../survey_creation/2017/de/listAnswers/.csv\", \"False\", \"./2017/de/output/\")"
   ]
  },
  {
   "cell_type": "code",
   "execution_count": null,
   "metadata": {
    "collapsed": true,
    "scrolled": true
   },
   "outputs": [],
   "source": [
    "perc_to_count = get_percentage(v_to_count, filename)"
   ]
  },
  {
   "cell_type": "code",
   "execution_count": null,
   "metadata": {
    "collapsed": true,
    "scrolled": true
   },
   "outputs": [],
   "source": [
    "display_side_by_side(v_to_count,perc_to_count)"
   ]
  },
  {
   "cell_type": "code",
   "execution_count": null,
   "metadata": {
    "collapsed": true,
    "scrolled": true
   },
   "outputs": [],
   "source": [
    "_ = get_plot(perc_to_count, \"y/n/na\")"
   ]
  }
 ],
 "metadata": {
  "kernelspec": {
   "display_name": "Python 3",
   "language": "python",
   "name": "python3"
  },
  "language_info": {
   "codemirror_mode": {
    "name": "ipython",
    "version": 3
   },
   "file_extension": ".py",
   "mimetype": "text/x-python",
   "name": "python",
   "nbconvert_exporter": "python",
   "pygments_lexer": "ipython3",
   "version": "3.6.4"
  },
  "toc": {
   "colors": {
    "hover_highlight": "#DAA520",
    "navigate_num": "#000000",
    "navigate_text": "#333333",
    "running_highlight": "#FF0000",
    "selected_highlight": "#FFD700",
    "sidebar_border": "#EEEEEE",
    "wrapper_background": "#FFFFFF"
   },
   "moveMenuLeft": true,
   "nav_menu": {
    "height": "512px",
    "width": "252px"
   },
   "navigate_menu": true,
   "number_sections": true,
   "sideBar": true,
   "threshold": 4,
   "toc_cell": false,
   "toc_section_display": "block",
   "toc_window_display": false,
   "widenNotebook": false
  }
 },
 "nbformat": 4,
 "nbformat_minor": 2
}
