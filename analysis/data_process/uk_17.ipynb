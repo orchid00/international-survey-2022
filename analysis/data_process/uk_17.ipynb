{
 "cells": [
  {
   "cell_type": "markdown",
   "metadata": {},
   "source": [
    "# Section: Importing modules"
   ]
  },
  {
   "cell_type": "code",
   "execution_count": 12,
   "metadata": {
    "collapsed": true
   },
   "outputs": [],
   "source": [
    "import pandas as pd\n",
    "import numpy as np\n",
    "get_ipython().magic(\"matplotlib inline\")\n",
    "import matplotlib\n",
    "import matplotlib.pyplot as plt\n",
    "from uk_2017.config import CleaningConfig, PlottingConfig, NotebookConfig\n",
    "from uk_2017.plotting  import count_unique_value_single"
   ]
  },
  {
   "cell_type": "markdown",
   "metadata": {},
   "source": [
    "# Loading dataset"
   ]
  },
  {
   "cell_type": "code",
   "execution_count": 13,
   "metadata": {},
   "outputs": [],
   "source": [
    "df =  pd.read_csv('./uk_2017/dataset/cleaned_data.csv')"
   ]
  },
  {
   "cell_type": "markdown",
   "metadata": {},
   "source": [
    "## In which country do you work?"
   ]
  },
  {
   "cell_type": "code",
   "execution_count": 14,
   "metadata": {},
   "outputs": [
    {
     "data": {
      "text/plain": [
       "United Kingdom                  270\n",
       "Germany                          29\n",
       "United States                    19\n",
       "New Zealand                       9\n",
       "France                            5\n",
       "Switzerland                       3\n",
       "Australia                         3\n",
       "Netherlands                       3\n",
       "Ireland                           3\n",
       "South Africa                      2\n",
       "Thailand                          1\n",
       "Romania                           1\n",
       "Czech Republic                    1\n",
       "Spain                             1\n",
       "Italy                             1\n",
       "Tanzania, United Republic of      1\n",
       "Belgium                           1\n",
       "Norway                            1\n",
       "Austria                           1\n",
       "Afghanistan                       1\n",
       "Brazil                            1\n",
       "Sweden                            1\n",
       "Luxembourg                        1\n",
       "Name: socio1. In which country do you work?, dtype: int64"
      ]
     },
     "execution_count": 14,
     "metadata": {},
     "output_type": "execute_result"
    }
   ],
   "source": [
    "count_unique_value_single(df, \"socio1. In which country do you work?\")\n"
   ]
  },
  {
   "cell_type": "markdown",
   "metadata": {},
   "source": [
    "## What is the highest qualification you have obtained?"
   ]
  },
  {
   "cell_type": "markdown",
   "metadata": {},
   "source": [
    "## In which subject is your highest academic qualification?"
   ]
  },
  {
   "cell_type": "code",
   "execution_count": 15,
   "metadata": {},
   "outputs": [
    {
     "data": {
      "text/plain": [
       "Computer Science                            99\n",
       "Physics and Astronomy                       96\n",
       "Biological Sciences                         25\n",
       "Mathematics                                 23\n",
       "Chemistry                                   17\n",
       "Geography & Environmental Sciences          17\n",
       "Other                                       16\n",
       "Electrical & Electronic Engineering         12\n",
       "Mechanical Engineering                       8\n",
       "Civil Engineering                            7\n",
       "Linguistics                                  5\n",
       "Geology                                      4\n",
       "General Engineering                          3\n",
       "Psychology                                   3\n",
       "Materials Technology                         3\n",
       "English                                      2\n",
       "Aeronautical & Manufacturing Engineering     2\n",
       "Education                                    2\n",
       "Medicine                                     2\n",
       "Robotics                                     1\n",
       "Theology & Religious Studies                 1\n",
       "Art & Design                                 1\n",
       "Classics & Ancient History                   1\n",
       "Business & Management Studies                1\n",
       "History                                      1\n",
       "Anthropology                                 1\n",
       "Chemical Engineering                         1\n",
       "Name: edu2. In which subject is your highest academic qualification?, dtype: int64"
      ]
     },
     "execution_count": 15,
     "metadata": {},
     "output_type": "execute_result"
    }
   ],
   "source": [
    "count_unique_value_single(df, \"edu2. In which subject is your highest academic qualification?\")"
   ]
  },
  {
   "cell_type": "markdown",
   "metadata": {},
   "source": [
    "## Enter your academic subject"
   ]
  },
  {
   "cell_type": "code",
   "execution_count": 16,
   "metadata": {},
   "outputs": [
    {
     "data": {
      "text/plain": [
       "Geophysics                                                 2\n",
       "Molecular Biology                                          1\n",
       "Atmospheric science                                        1\n",
       "Medical Physics                                            1\n",
       "Data Science                                               1\n",
       "Underwater Acoustics/ Mathematical Physics                 1\n",
       "Evolutionary genomics                                      1\n",
       "Epidemiology                                               1\n",
       "statistics                                                 1\n",
       "Artificial Intelligence and Mathematics                    1\n",
       "Bioinformatics and Systems Biology                         1\n",
       "Digital/Computational history and philosophy of science    1\n",
       "Computer Systems Engineering                               1\n",
       "Oceanography                                               1\n",
       "Computational Science and Engineering                      1\n",
       "Name: edu3. Enter your academic subject, dtype: int64"
      ]
     },
     "execution_count": 16,
     "metadata": {},
     "output_type": "execute_result"
    }
   ],
   "source": [
    "count_unique_value_single(df, \"edu3. Enter your academic subject\")"
   ]
  },
  {
   "cell_type": "markdown",
   "metadata": {},
   "source": [
    "## Do you hold any other professional qualifications?"
   ]
  },
  {
   "cell_type": "code",
   "execution_count": 17,
   "metadata": {},
   "outputs": [
    {
     "data": {
      "text/plain": [
       "No                                                                                                          28\n",
       "no                                                                                                           8\n",
       "CEng                                                                                                         3\n",
       "NO                                                                                                           2\n",
       "MIET                                                                                                         2\n",
       "CPhys, FInstP                                                                                                1\n",
       "PRINCE2                                                                                                      1\n",
       "CELTA                                                                                                        1\n",
       "PG Cert Higher Education                                                                                     1\n",
       "Microsoft MVP                                                                                                1\n",
       "PRINCE2 Practitioner                                                                                         1\n",
       "CLD                                                                                                          1\n",
       "AWS CSA, PMP                                                                                                 1\n",
       "Fellow Royal Statistical Society                                                                             1\n",
       "MBCS, CMath MIMA CSci                                                                                        1\n",
       "Chartered Engineer (CEng), Fellow of the Higher Education Academy (FHEA)                                     1\n",
       "CITP, CPhys                                                                                                  1\n",
       "MSc,MSci,PGCE,PGDip,CPhys                                                                                    1\n",
       "PRINCE2 Practitioner, ITIL Foundation                                                                        1\n",
       "CChem, CSci                                                                                                  1\n",
       "ITIL                                                                                                         1\n",
       "I'm not sure what this question means                                                                        1\n",
       "Apple OSX certification                                                                                      1\n",
       "Librarianship                                                                                                1\n",
       "PRINCE practitioners                                                                                         1\n",
       "Graduate Statistician of Royal Statistical Society                                                           1\n",
       "DipABRSM (Diploma of the Royal Schools of Music)                                                             1\n",
       "Actuarial                                                                                                    1\n",
       "ITIL Foundation certified                                                                                    1\n",
       "ITIL Foundation Certificate in IT Services Management, MLSO (Medical Laboratory Scientific Officer)          1\n",
       "RHCE                                                                                                         1\n",
       "MIEEE, FRAS                                                                                                  1\n",
       "BCS Member; Chartered member of CILIP                                                                        1\n",
       "MBCS                                                                                                         1\n",
       "Certified LabVIEW Developer, Open University software and IT modules                                         1\n",
       "IT specialist                                                                                                1\n",
       "MRSC, MInstP, CChem, CSci                                                                                    1\n",
       "Fellow of the Higher Education Academy                                                                       1\n",
       "Associate Engineer in Information and Communication Systems                                                  1\n",
       "PG Diploma in Advanced Computing                                                                             1\n",
       "ESRI technical certification, Linux administration, C++ developer, Python developer, Javascript Deveoper     1\n",
       "Java Certified Developer,Management Diploma                                                                  1\n",
       "PhD in physics                                                                                               1\n",
       "PRINCE 2 practioner, linux LPI level 1                                                                       1\n",
       "MInstP                                                                                                       1\n",
       "PRINCE2 Foundation                                                                                           1\n",
       "Fellow of the higher education academy                                                                       1\n",
       "C.Phys                                                                                                       1\n",
       "Registered Clinical Scientist                                                                                1\n",
       "CEng, CPhys                                                                                                  1\n",
       "Name: edu4. Do you hold any professional qualifications?, dtype: int64"
      ]
     },
     "execution_count": 17,
     "metadata": {},
     "output_type": "execute_result"
    }
   ],
   "source": [
    "count_unique_value_single(df, \"edu4. Do you hold any professional qualifications?\")"
   ]
  },
  {
   "cell_type": "markdown",
   "metadata": {},
   "source": [
    "## Do you write code as part of your job?"
   ]
  },
  {
   "cell_type": "code",
   "execution_count": 18,
   "metadata": {},
   "outputs": [
    {
     "data": {
      "text/plain": [
       "Yes    350\n",
       "No       9\n",
       "Name: rse1. Do you write code as part of your job?, dtype: int64"
      ]
     },
     "execution_count": 18,
     "metadata": {},
     "output_type": "execute_result"
    }
   ],
   "source": [
    "count_unique_value_single(df, \"rse1. Do you write code as part of your job?\")"
   ]
  },
  {
   "cell_type": "markdown",
   "metadata": {},
   "source": [
    "## Who uses the code that you write?"
   ]
  },
  {
   "cell_type": "code",
   "execution_count": 19,
   "metadata": {},
   "outputs": [
    {
     "data": {
      "text/plain": [
       "5 - Mostly other people    100\n",
       "4                           82\n",
       "3                           61\n",
       "2                           48\n",
       "1                           45\n",
       "0 - Mostly me               14\n",
       "Name: rse3[SQ001]. Who uses the code that you write? [], dtype: int64"
      ]
     },
     "execution_count": 19,
     "metadata": {},
     "output_type": "execute_result"
    }
   ],
   "source": [
    "count_unique_value_single(df, \"rse3[SQ001]. Who uses the code that you write? []\")"
   ]
  },
  {
   "cell_type": "markdown",
   "metadata": {},
   "source": [
    "## Do you consider yourself a professional software developer?"
   ]
  },
  {
   "cell_type": "code",
   "execution_count": 20,
   "metadata": {},
   "outputs": [
    {
     "data": {
      "text/plain": [
       "Yes    208\n",
       "No     151\n",
       "Name: soft2can. Do you consider yourself a professional software developer?, dtype: int64"
      ]
     },
     "execution_count": 20,
     "metadata": {},
     "output_type": "execute_result"
    }
   ],
   "source": [
    "count_unique_value_single(df, \"soft2can. Do you consider yourself a professional software developer?\")"
   ]
  },
  {
   "cell_type": "markdown",
   "metadata": {},
   "source": [
    "## How many years of Software development experience do you have?"
   ]
  },
  {
   "cell_type": "code",
   "execution_count": 21,
   "metadata": {},
   "outputs": [
    {
     "data": {
      "text/plain": [
       "20.0    27\n",
       "10.0    23\n",
       "15.0    16\n",
       "5.0     14\n",
       "12.0    13\n",
       "7.0     13\n",
       "9.0     10\n",
       "8.0      8\n",
       "11.0     8\n",
       "17.0     8\n",
       "3.0      8\n",
       "25.0     8\n",
       "6.0      7\n",
       "4.0      6\n",
       "18.0     6\n",
       "30.0     5\n",
       "13.0     4\n",
       "14.0     4\n",
       "16.0     4\n",
       "19.0     3\n",
       "27.0     2\n",
       "21.0     2\n",
       "35.0     2\n",
       "2.0      2\n",
       "34.0     1\n",
       "24.0     1\n",
       "1.0      1\n",
       "40.0     1\n",
       "26.0     1\n",
       "Name: soft1can. How many years of software development experience do you have?, dtype: int64"
      ]
     },
     "execution_count": 21,
     "metadata": {},
     "output_type": "execute_result"
    }
   ],
   "source": [
    "count_unique_value_single(df, \"soft1can. How many years of software development experience do you have?\")"
   ]
  },
  {
   "cell_type": "markdown",
   "metadata": {},
   "source": [
    "## In an average month, how much time do you spend on software development (Please rate your answer between 1 to 10. 1 Being none at all and 10 being All your time.)"
   ]
  },
  {
   "cell_type": "markdown",
   "metadata": {},
   "source": [
    "## What type of organisation do you work for?"
   ]
  },
  {
   "cell_type": "code",
   "execution_count": 22,
   "metadata": {},
   "outputs": [
    {
     "data": {
      "text/plain": [
       "University - within an academic group    159\n",
       "National laboratory                       63\n",
       "University - within an IT service         28\n",
       "University - within an HPC group          27\n",
       "Government                                21\n",
       "Other                                     18\n",
       "Private company                           11\n",
       "NGO                                        9\n",
       "Name: currentEmp1. What type of organisation do you work for?, dtype: int64"
      ]
     },
     "execution_count": 22,
     "metadata": {},
     "output_type": "execute_result"
    }
   ],
   "source": [
    "count_unique_value_single(df, \"currentEmp1. What type of organisation do you work for?\")"
   ]
  },
  {
   "cell_type": "markdown",
   "metadata": {},
   "source": [
    "## Which University?"
   ]
  },
  {
   "cell_type": "markdown",
   "metadata": {},
   "source": [
    "## Please enter the university"
   ]
  },
  {
   "cell_type": "code",
   "execution_count": 24,
   "metadata": {},
   "outputs": [
    {
     "data": {
      "text/plain": [
       "Series([], Name: currentEmp3. Please enter the university, dtype: int64)"
      ]
     },
     "execution_count": 24,
     "metadata": {},
     "output_type": "execute_result"
    }
   ],
   "source": [
    "count_unique_value_single(df, \"currentEmp3. Please enter the university\")"
   ]
  },
  {
   "cell_type": "markdown",
   "metadata": {},
   "source": [
    "## Which organisation do you work for?"
   ]
  },
  {
   "cell_type": "code",
   "execution_count": 25,
   "metadata": {},
   "outputs": [
    {
     "data": {
      "text/plain": [
       "STFC                                                              13\n",
       "UKAEA                                                             10\n",
       "Met Office                                                         7\n",
       "EMBL-EBI                                                           6\n",
       "Earlham Institute                                                  3\n",
       "CCFE                                                               2\n",
       "The Alan Turing Institute                                          2\n",
       "UK Atomic Energy Authority                                         2\n",
       "ECMWF                                                              2\n",
       "CERN                                                               2\n",
       "Brookhaven National Laboratory                                     2\n",
       "Max-Planck-Gesellschaft                                            2\n",
       "NHS                                                                2\n",
       "John Innes Centre                                                  1\n",
       "National Institute For  Water And Atmospheric Research (NIWA)      1\n",
       "CORES Science and Engineering Limited                              1\n",
       "UKAEA/CCFE                                                         1\n",
       "Ninja Theory Ltd.                                                  1\n",
       "Sir Alister Hardy Foundation for Ocean Science                     1\n",
       "Cambridge Crystallographic Data Centre                             1\n",
       "Nansen Environmental and Remote Sensing Center                     1\n",
       "stfc                                                               1\n",
       "Cern                                                               1\n",
       "mundialis                                                          1\n",
       "CNRS                                                               1\n",
       "DIW                                                                1\n",
       "Max-Born-Institut                                                  1\n",
       "German Aerospace Center (DLR)                                      1\n",
       "AirNode                                                            1\n",
       "mario negri institute                                              1\n",
       "                                                                  ..\n",
       "German Aerospace Centre                                            1\n",
       "Netherlands  eScience Center                                       1\n",
       "STFC-RAL                                                           1\n",
       "IPFN/Portugal and UKAEA/UK                                         1\n",
       "GEOMAR                                                             1\n",
       "Max Planck Institute                                               1\n",
       "Max Planck Society                                                 1\n",
       "Science and Technology Facilities Council                          1\n",
       "University - within a RSE group                                    1\n",
       "University - within a core facility                                1\n",
       "Research Institute                                                 1\n",
       "NERC                                                               1\n",
       "National Institute for Water & Atmospheric Research                1\n",
       "Helmholtz Centre for Ocean Research                                1\n",
       "Plymouth Marine Laboratory                                         1\n",
       "James Hutton Institute                                             1\n",
       "National Institute of Water and Atmospheric Research Limited       1\n",
       "Institute of Plasma Physics of the CAS, Czech Republic             1\n",
       "NIWA                                                               1\n",
       "Diamond light source                                               1\n",
       "The James Hutton Institute                                         1\n",
       "Cisco Meraki                                                       1\n",
       "NPL                                                                1\n",
       "NZ National Institute of Water and Atmospheric Research (NIWA)     1\n",
       "Diamond Light Source                                               1\n",
       "National Institure For Water and Atmospheric Research (NIWA)       1\n",
       "UK Atomic Energy Authority (UKAEA)                                 1\n",
       "Software Sustainability Institute                                  1\n",
       "INRA, France                                                       1\n",
       "CSIR                                                               1\n",
       "Name: currentEmp4. Which organisation do you work for?, dtype: int64"
      ]
     },
     "execution_count": 25,
     "metadata": {},
     "output_type": "execute_result"
    }
   ],
   "source": [
    "count_unique_value_single(df, \"currentEmp4. Which organisation do you work for?\")"
   ]
  },
  {
   "cell_type": "markdown",
   "metadata": {},
   "source": [
    "## What is your official job title?"
   ]
  },
  {
   "cell_type": "code",
   "execution_count": 26,
   "metadata": {},
   "outputs": [
    {
     "data": {
      "text/plain": [
       "Research Associate                                                              19\n",
       "Research Software Engineer                                                      13\n",
       "Research Fellow                                                                  9\n",
       "Software Engineer                                                                6\n",
       "PhD Student                                                                      6\n",
       "Software Developer                                                               6\n",
       "Scientific Software Engineer                                                     6\n",
       "Senior Software Developer                                                        5\n",
       "Senior Software Engineer                                                         5\n",
       "Research Engineer                                                                4\n",
       "Computational Scientist                                                          4\n",
       "PhD student                                                                      4\n",
       "Lecturer                                                                         4\n",
       "Senior Research Fellow                                                           4\n",
       "Senior Research Software Engineer                                                3\n",
       "Applications Consultant                                                          3\n",
       "Computer Officer                                                                 3\n",
       "Research Assistant                                                               3\n",
       "Software Architect                                                               3\n",
       "Senior Research Software Developer                                               3\n",
       "Research assistant                                                               2\n",
       "Scientific Systems Manager                                                       2\n",
       "Post-doctoral research associate                                                 2\n",
       "Senior Lecturer                                                                  2\n",
       "Head of Research Software Development                                            2\n",
       "Senior Research Engineer                                                         2\n",
       "Professor                                                                        2\n",
       "Research Scientist                                                               2\n",
       "Wissenschaftlicher Mitarbeiter                                                   2\n",
       "PDRA                                                                             2\n",
       "                                                                                ..\n",
       "Reader                                                                           1\n",
       "Senior Scientific Computing Officer                                              1\n",
       "scientific software developer                                                    1\n",
       "Software Engineering Group Leader                                                1\n",
       "Unit Head                                                                        1\n",
       "climate scientist                                                                1\n",
       "CEO                                                                              1\n",
       "development assistant                                                            1\n",
       "Student                                                                          1\n",
       "sr systems engineer                                                              1\n",
       "Scientific Computing, Data Acquisition, Management and Analysis Group Leader     1\n",
       "BioImage Informatics Assistant                                                   1\n",
       "EPSRC Reserach Software Engineer Fellow                                          1\n",
       "computer technician                                                              1\n",
       "EngD student                                                                     1\n",
       "Post-doctoral CS researcher                                                      1\n",
       "Research engineer                                                                1\n",
       "Research scientist                                                               1\n",
       "Applied physicist                                                                1\n",
       "Devops engineer/systems administrator                                            1\n",
       "Design/development engineer                                                      1\n",
       "Senior Research Software Architect                                               1\n",
       "Senior Technical Researcher                                                      1\n",
       "Software developer                                                               1\n",
       "Scientific Programmer                                                            1\n",
       "Application Delivery Analyst/Manager I                                           1\n",
       "Senior Software Engineer (until very recently was 'Scientific Programmer')       1\n",
       "Senior computational scientist                                                   1\n",
       "wissenschaftlicher Mitarbeiter (i.e., Research Assistant?)                       1\n",
       "Senior Visualization Programmer                                                  1\n",
       "Name: currentEmp5. What is your official job title, dtype: int64"
      ]
     },
     "execution_count": 26,
     "metadata": {},
     "output_type": "execute_result"
    }
   ],
   "source": [
    "count_unique_value_single(df, \"currentEmp5. What is your official job title\")"
   ]
  },
  {
   "cell_type": "markdown",
   "metadata": {},
   "source": [
    "## Are you known in your group by a different job title? If so, please enter the job title you use"
   ]
  },
  {
   "cell_type": "code",
   "execution_count": 27,
   "metadata": {},
   "outputs": [
    {
     "data": {
      "text/plain": [
       "Research Software Engineer                                                                                               9\n",
       "No                                                                                                                       6\n",
       "Research Fellow                                                                                                          3\n",
       "Postdoc                                                                                                                  3\n",
       "Researcher                                                                                                               2\n",
       "Bioinformatician                                                                                                         2\n",
       "Computational Scientist                                                                                                  2\n",
       "Software Engineer                                                                                                        2\n",
       "Research engineer                                                                                                        1\n",
       "Senior Research Software Engineer                                                                                        1\n",
       "Scientific Software Engineer & Geoinformatician)                                                                         1\n",
       "phd student                                                                                                              1\n",
       "Research Associate (Application Programmer)                                                                              1\n",
       "Research Assistant                                                                                                       1\n",
       "SECAMS iMarDIS CTO                                                                                                       1\n",
       "Software Architect                                                                                                       1\n",
       "Postdoctoral research associate                                                                                          1\n",
       "multiphysics research fellow                                                                                             1\n",
       "Statistical Programmer                                                                                                   1\n",
       "CSE Team Leader                                                                                                          1\n",
       "Computer Scientist                                                                                                       1\n",
       "Developer, data manager                                                                                                  1\n",
       "Research Staff                                                                                                           1\n",
       "Bioinformatician and Software Developer                                                                                  1\n",
       "Data Analyst                                                                                                             1\n",
       "Research Computing Consultant or User Support                                                                            1\n",
       "Community Officer                                                                                                        1\n",
       "RSE                                                                                                                      1\n",
       "BioImage Analyst                                                                                                         1\n",
       "CTO, Director of Possibilities                                                                                           1\n",
       "                                                                                                                        ..\n",
       "Research software developer                                                                                              1\n",
       "Scientific Programmer                                                                                                    1\n",
       "Software Consultant                                                                                                      1\n",
       "NEODAAS manager                                                                                                          1\n",
       "Research IT Specialist                                                                                                   1\n",
       "Computational Physicist                                                                                                  1\n",
       "Senior Bioinformatics Analyst                                                                                            1\n",
       "Partner and general manager                                                                                              1\n",
       "R&D engineer                                                                                                             1\n",
       "Head of IT                                                                                                               1\n",
       "I am not known by a different title but I am the only IT/Software Engineer in the group                                  1\n",
       "Project Manager                                                                                                          1\n",
       "Research Scientist                                                                                                       1\n",
       "Deputy Director of Scientific Software & Applications Division at the National Center for Supercomputing Applications    1\n",
       "Software consultant                                                                                                      1\n",
       "Front end ui/developer                                                                                                   1\n",
       "Head of School                                                                                                           1\n",
       "Control Systems and Software Engineer                                                                                    1\n",
       "Site Reliability Engineer                                                                                                1\n",
       "Geek                                                                                                                     1\n",
       "Senior Data Analyst                                                                                                      1\n",
       "Head of Group of Software Engineering Group                                                                              1\n",
       "postdoc                                                                                                                  1\n",
       "Lecturer                                                                                                                 1\n",
       "Application Support                                                                                                      1\n",
       "System Adminstrator/Engineer                                                                                             1\n",
       "Group leader                                                                                                             1\n",
       "Section Leader                                                                                                           1\n",
       "Software/Operations Engineer                                                                                             1\n",
       "Research Software Officer                                                                                                1\n",
       "Name: currentEmp6. Are you known in your group by a different job title? If so, please enter the job title you use, dtype: int64"
      ]
     },
     "execution_count": 27,
     "metadata": {},
     "output_type": "execute_result"
    }
   ],
   "source": [
    "count_unique_value_single(df, \"currentEmp6. Are you known in your group by a different job title? If so, please enter the job title you use\")"
   ]
  },
  {
   "cell_type": "markdown",
   "metadata": {},
   "source": [
    "## Do you work full time or part time"
   ]
  },
  {
   "cell_type": "code",
   "execution_count": 28,
   "metadata": {},
   "outputs": [
    {
     "data": {
      "text/plain": [
       "Full Time    316\n",
       "Part-time     19\n",
       "Name: currentEmp12. Do you work full time or part time?, dtype: int64"
      ]
     },
     "execution_count": 28,
     "metadata": {},
     "output_type": "execute_result"
    }
   ],
   "source": [
    "count_unique_value_single(df, \"currentEmp12. Do you work full time or part time?\")"
   ]
  },
  {
   "cell_type": "markdown",
   "metadata": {},
   "source": [
    "## What type of contract are you employed on?"
   ]
  },
  {
   "cell_type": "code",
   "execution_count": 29,
   "metadata": {},
   "outputs": [
    {
     "data": {
      "text/plain": [
       "Fixed term                                        120\n",
       "Permanent -- funded by University core funding     96\n",
       "Permanent -- as long as funding is available       89\n",
       "Other/Not listed                                   21\n",
       "Agency staff                                        5\n",
       "Freelancer consultant contractor                    4\n",
       "Name: currentEmp10. What type of contract are you employed on?, dtype: int64"
      ]
     },
     "execution_count": 29,
     "metadata": {},
     "output_type": "execute_result"
    }
   ],
   "source": [
    "count_unique_value_single(df, \"currentEmp10. What type of contract are you employed on?\")"
   ]
  },
  {
   "cell_type": "markdown",
   "metadata": {},
   "source": [
    "## When did you start your current contract"
   ]
  },
  {
   "cell_type": "code",
   "execution_count": 30,
   "metadata": {},
   "outputs": [
    {
     "data": {
      "text/plain": [
       "2017-04-01 00:00:00    7\n",
       "2016-11-01 00:00:00    7\n",
       "2016-04-01 00:00:00    7\n",
       "2015-09-01 00:00:00    7\n",
       "2016-09-01 00:00:00    5\n",
       "2016-01-01 00:00:00    5\n",
       "2015-04-01 00:00:00    5\n",
       "2017-01-01 00:00:00    4\n",
       "2007-10-01 00:00:00    4\n",
       "2015-08-01 00:00:00    4\n",
       "2016-08-01 00:00:00    4\n",
       "2017-01-09 00:00:00    4\n",
       "2012-11-01 00:00:00    4\n",
       "2014-10-01 00:00:00    4\n",
       "2015-12-01 00:00:00    3\n",
       "2016-02-01 00:00:00    3\n",
       "2016-06-01 00:00:00    3\n",
       "2017-02-06 00:00:00    3\n",
       "2016-09-07 00:00:00    3\n",
       "2015-06-01 00:00:00    3\n",
       "2016-10-01 00:00:00    3\n",
       "2013-10-01 00:00:00    3\n",
       "2015-07-01 00:00:00    3\n",
       "2015-10-01 00:00:00    3\n",
       "2012-09-01 00:00:00    2\n",
       "2017-04-03 00:00:00    2\n",
       "2011-07-01 00:00:00    2\n",
       "2017-06-07 00:00:00    2\n",
       "2016-10-03 00:00:00    2\n",
       "2017-02-01 00:00:00    2\n",
       "                      ..\n",
       "2014-08-08 00:00:00    1\n",
       "2014-11-03 00:00:00    1\n",
       "2015-10-18 00:00:00    1\n",
       "2017-03-20 00:00:00    1\n",
       "2016-07-29 00:00:00    1\n",
       "2014-05-12 00:00:00    1\n",
       "2001-06-01 00:00:00    1\n",
       "2004-11-29 00:00:00    1\n",
       "2007-09-03 00:00:00    1\n",
       "2008-06-01 00:00:00    1\n",
       "2017-06-01 00:00:00    1\n",
       "1999-01-04 00:00:00    1\n",
       "2015-05-05 00:00:00    1\n",
       "1990-11-12 00:00:00    1\n",
       "2016-05-12 00:00:00    1\n",
       "1988-10-25 00:00:00    1\n",
       "2010-08-06 00:00:00    1\n",
       "2016-01-12 00:00:00    1\n",
       "2012-08-01 00:00:00    1\n",
       "2011-01-01 00:00:00    1\n",
       "2011-05-16 00:00:00    1\n",
       "2015-03-02 00:00:00    1\n",
       "2004-03-10 00:00:00    1\n",
       "2016-04-09 00:00:00    1\n",
       "2017-05-09 00:00:00    1\n",
       "2003-09-01 00:00:00    1\n",
       "1990-04-06 00:00:00    1\n",
       "2016-11-17 00:00:00    1\n",
       "2004-11-01 00:00:00    1\n",
       "2014-09-01 00:00:00    1\n",
       "Name: currentEmp9. When did you start your contract, dtype: int64"
      ]
     },
     "execution_count": 30,
     "metadata": {},
     "output_type": "execute_result"
    }
   ],
   "source": [
    "count_unique_value_single(df, \"currentEmp9. When did you start your contract\")"
   ]
  },
  {
   "cell_type": "markdown",
   "metadata": {},
   "source": [
    "## What is the duration of your current contract?"
   ]
  },
  {
   "cell_type": "code",
   "execution_count": null,
   "metadata": {
    "collapsed": true
   },
   "outputs": [],
   "source": [
    "count_unique_value_single(df, \"currentEmp11. What is the duration of your current contract in months?\")"
   ]
  },
  {
   "cell_type": "markdown",
   "metadata": {},
   "source": [
    "## In which disciplines do you work (select as many as apply)"
   ]
  },
  {
   "cell_type": "markdown",
   "metadata": {},
   "source": [
    "## Where was your previous job based?"
   ]
  },
  {
   "cell_type": "code",
   "execution_count": null,
   "metadata": {
    "collapsed": true
   },
   "outputs": [],
   "source": [
    "count_unique_value_single(df, \"prevEmp1. Where was your previous job based?\")"
   ]
  },
  {
   "cell_type": "markdown",
   "metadata": {},
   "source": [
    "## Rank the following factors dependent on how strongly they influenced your decision to accept your current position"
   ]
  },
  {
   "cell_type": "markdown",
   "metadata": {},
   "source": [
    "## Do you always work with the same researcher(s), or do you regularly change the researcher(s) you work with?"
   ]
  },
  {
   "cell_type": "code",
   "execution_count": null,
   "metadata": {
    "collapsed": true
   },
   "outputs": [],
   "source": [
    "count_unique_value_single(df, \"currentWork1. Do you always work with the same researcher(s), or do you regularly change the researcher(s) you work with?\")"
   ]
  },
  {
   "cell_type": "markdown",
   "metadata": {},
   "source": [
    "## Do you work for a Research Software Group?"
   ]
  },
  {
   "cell_type": "code",
   "execution_count": null,
   "metadata": {
    "collapsed": true
   },
   "outputs": [],
   "source": [
    "count_unique_value_single(df, \"currentWork2. Do you work for a Research Software Group?\")"
   ]
  },
  {
   "cell_type": "markdown",
   "metadata": {},
   "source": [
    "## Has your software contributed to research that has been published in a journal or at a conference?"
   ]
  },
  {
   "cell_type": "code",
   "execution_count": null,
   "metadata": {
    "collapsed": true
   },
   "outputs": [],
   "source": [
    "count_unique_value_single(df, \"paper1. Has your software contributed to research that has been published in a journal or at a conference?\")"
   ]
  },
  {
   "cell_type": "markdown",
   "metadata": {},
   "source": [
    "## In general, when your software contributes to a paper, are you acknowledged in that paper?"
   ]
  },
  {
   "cell_type": "code",
   "execution_count": null,
   "metadata": {
    "collapsed": true
   },
   "outputs": [],
   "source": [
    "count_unique_value_single(df, \"paper2. In general, when your software contributes to a paper, are you acknowledged in that paper?\")"
   ]
  },
  {
   "cell_type": "markdown",
   "metadata": {},
   "source": [
    "## Are you generally named as the main author of the paper?"
   ]
  },
  {
   "cell_type": "code",
   "execution_count": null,
   "metadata": {
    "collapsed": true
   },
   "outputs": [],
   "source": [
    "count_unique_value_single(df, \"paper3. Are you generally named as the main author of the paper?\")"
   ]
  },
  {
   "cell_type": "markdown",
   "metadata": {},
   "source": [
    "## Are you generally named as a co-author of the paper?"
   ]
  },
  {
   "cell_type": "code",
   "execution_count": null,
   "metadata": {
    "collapsed": true
   },
   "outputs": [],
   "source": [
    "count_unique_value_single(df, \"paper4. Are you generally named as a co-author of the paper?\")"
   ]
  },
  {
   "cell_type": "markdown",
   "metadata": {},
   "source": [
    "## Are you generally acknowledged in the main text of the paper?"
   ]
  },
  {
   "cell_type": "code",
   "execution_count": null,
   "metadata": {
    "collapsed": true
   },
   "outputs": [],
   "source": [
    "count_unique_value_single(df, \"paper5. Are you generally acknowledged in the main text of the paper?\")"
   ]
  },
  {
   "cell_type": "markdown",
   "metadata": {},
   "source": [
    "## Have you ever presented your software work at a conference or workshop?"
   ]
  },
  {
   "cell_type": "code",
   "execution_count": null,
   "metadata": {
    "collapsed": true
   },
   "outputs": [],
   "source": [
    "count_unique_value_single(df, \"conf1can. Have you ever presented your software work at a conference or workshop?\")"
   ]
  },
  {
   "cell_type": "markdown",
   "metadata": {},
   "source": [
    "## Which conference(s)/workshop(s)"
   ]
  },
  {
   "cell_type": "code",
   "execution_count": null,
   "metadata": {
    "collapsed": true
   },
   "outputs": [],
   "source": [
    "count_unique_value_single(df, \"conf2can. Which conferences or workshops?\")"
   ]
  },
  {
   "cell_type": "markdown",
   "metadata": {},
   "source": [
    "## How many software projects are you currently involved in?"
   ]
  },
  {
   "cell_type": "code",
   "execution_count": null,
   "metadata": {
    "collapsed": true
   },
   "outputs": [],
   "source": [
    "count_unique_value_single(df, \"proj1can. How many software projects are you currently involved with?\")"
   ]
  },
  {
   "cell_type": "markdown",
   "metadata": {},
   "source": [
    "## What is the bus factor of your most important software project?"
   ]
  },
  {
   "cell_type": "code",
   "execution_count": null,
   "metadata": {
    "collapsed": true
   },
   "outputs": [],
   "source": [
    "count_unique_value_single(df, \"stability1. What is the bus factor of your most important software project?\")"
   ]
  },
  {
   "cell_type": "markdown",
   "metadata": {},
   "source": [
    "## Is there a technical hand-over plan for your most important software project?"
   ]
  },
  {
   "cell_type": "code",
   "execution_count": null,
   "metadata": {
    "collapsed": true
   },
   "outputs": [],
   "source": [
    "count_unique_value_single(df, \"stability2. Is there a technical handover plan for your most important software project?\")"
   ]
  },
  {
   "cell_type": "markdown",
   "metadata": {},
   "source": [
    "## In general, what sort of testing do you conduct on your software? (check all that apply)"
   ]
  },
  {
   "cell_type": "markdown",
   "metadata": {},
   "source": [
    "## Have you ever released your software under an open-source licence?"
   ]
  },
  {
   "cell_type": "code",
   "execution_count": null,
   "metadata": {
    "collapsed": true
   },
   "outputs": [],
   "source": [
    "count_unique_value_single(df, \"open01can. Have you ever released your software under an open-source licence?\")"
   ]
  },
  {
   "cell_type": "markdown",
   "metadata": {},
   "source": [
    "## How often do you release the software projects you've worked on under an open-source licence?"
   ]
  },
  {
   "cell_type": "code",
   "execution_count": null,
   "metadata": {
    "collapsed": true
   },
   "outputs": [],
   "source": [
    "count_unique_value_single(df, \"open1can[A5]. How often do you release the software projects you've worked on under an open-source licence? []\")"
   ]
  },
  {
   "cell_type": "markdown",
   "metadata": {},
   "source": [
    "## Have you ever used a Digital Object Identifier (DOI) to identify your software?"
   ]
  },
  {
   "cell_type": "code",
   "execution_count": null,
   "metadata": {
    "collapsed": true
   },
   "outputs": [],
   "source": [
    "count_unique_value_single(df, \"open03can. Have you ever used a Digital Object Identifier (DOI) to identify your software?\")"
   ]
  },
  {
   "cell_type": "markdown",
   "metadata": {},
   "source": [
    "## How often do you associate your software with a Digital Object Identifier (DOI)?"
   ]
  },
  {
   "cell_type": "code",
   "execution_count": null,
   "metadata": {
    "collapsed": true
   },
   "outputs": [],
   "source": [
    "count_unique_value_single(df, \"open3can[SQ001]. How often do you associate your software with a Digital Object Identifier (DOI)? []\")"
   ]
  },
  {
   "cell_type": "markdown",
   "metadata": {},
   "source": [
    "## Have you ever trained researchers in computational techniques?"
   ]
  },
  {
   "cell_type": "code",
   "execution_count": null,
   "metadata": {
    "collapsed": true
   },
   "outputs": [],
   "source": [
    "count_unique_value_single(df, \"train1. Have you ever trained researchers in computational techniques?\")"
   ]
  },
  {
   "cell_type": "markdown",
   "metadata": {},
   "source": [
    "## On average, how many times a year do you take part in providing training?"
   ]
  },
  {
   "cell_type": "code",
   "execution_count": null,
   "metadata": {
    "collapsed": true
   },
   "outputs": [],
   "source": [
    "count_unique_value_single(df, \"train2. On average, how many times a year do you take part in providing training?\")"
   ]
  },
  {
   "cell_type": "markdown",
   "metadata": {},
   "source": [
    "## What training programs are you involved with (comma separated list)  (For example, Software Carpentry, local university training, etc.)"
   ]
  },
  {
   "cell_type": "code",
   "execution_count": null,
   "metadata": {
    "collapsed": true
   },
   "outputs": [],
   "source": [
    "count_unique_value_single(df, \"train3. What training programs are you involved with (comma separated list)?\")"
   ]
  },
  {
   "cell_type": "markdown",
   "metadata": {},
   "source": [
    "## Do you know the source of the funding used to support you and your current, largest project?"
   ]
  },
  {
   "cell_type": "code",
   "execution_count": null,
   "metadata": {
    "collapsed": true
   },
   "outputs": [],
   "source": [
    "count_unique_value_single(df, \"fund1. Do you know the source of the funding used to support you and your current, largest project?\")"
   ]
  },
  {
   "cell_type": "markdown",
   "metadata": {},
   "source": [
    "## Which of the following sources are used to pay for your effort as an RSE/equivalent?"
   ]
  },
  {
   "cell_type": "markdown",
   "metadata": {},
   "source": [
    "## Which of the following sources are used to fund your current, largest project?"
   ]
  },
  {
   "cell_type": "markdown",
   "metadata": {},
   "source": [
    "## Which of the following sources were used to fund your current, largest project three years ago?"
   ]
  },
  {
   "cell_type": "markdown",
   "metadata": {},
   "source": [
    "## Do you receive sufficient information on the results of your work?"
   ]
  },
  {
   "cell_type": "code",
   "execution_count": null,
   "metadata": {
    "collapsed": true
   },
   "outputs": [],
   "source": [
    "count_unique_value_single(df, \"likerttime1[perfCheck1]. Please rate the following propositions. There are no right or wrong answers [Do you receive sufficient information on the results of your work?]\")"
   ]
  },
  {
   "cell_type": "markdown",
   "metadata": {},
   "source": [
    "## Does your work give you the opportunity to check on how well you are doing your work?"
   ]
  },
  {
   "cell_type": "code",
   "execution_count": null,
   "metadata": {
    "collapsed": true
   },
   "outputs": [],
   "source": [
    "count_unique_value_single(df, \"likerttime1[perfCheck2]. Please rate the following propositions. There are no right or wrong answers [Do you get the opportunity to check on how well you are doing your work?]\")"
   ]
  },
  {
   "cell_type": "markdown",
   "metadata": {},
   "source": [
    "## In your work, do you have access to sufficient data and information?"
   ]
  },
  {
   "cell_type": "code",
   "execution_count": null,
   "metadata": {
    "collapsed": true
   },
   "outputs": [],
   "source": [
    "count_unique_value_single(df, \"likerttime1[perfCheck3]. Please rate the following propositions. There are no right or wrong answers [Do you have access to sufficient data and information to do your work?]\")"
   ]
  },
  {
   "cell_type": "markdown",
   "metadata": {},
   "source": [
    "## Do you receive sufficient information on the purpose of your work?"
   ]
  },
  {
   "cell_type": "code",
   "execution_count": null,
   "metadata": {
    "collapsed": true
   },
   "outputs": [],
   "source": [
    "count_unique_value_single(df, \"likertime2[perfCheck4]. Please rate the following propositions. There are no right or wrong answers [Do you receive sufficient information on the purpose of your work?]\")"
   ]
  },
  {
   "cell_type": "markdown",
   "metadata": {},
   "source": [
    "## Does your work provide you with direct feedback on how well you are doing your work?"
   ]
  },
  {
   "cell_type": "code",
   "execution_count": null,
   "metadata": {
    "collapsed": true
   },
   "outputs": [],
   "source": [
    "count_unique_value_single(df, \"likertime2[perfCheck5]. Please rate the following propositions. There are no right or wrong answers [Does your work provide you with direct feedback on how well you are doing?]\")"
   ]
  },
  {
   "cell_type": "markdown",
   "metadata": {},
   "source": [
    "## Does your supervisor/line manager inform you about how well you are doing your work?"
   ]
  },
  {
   "cell_type": "code",
   "execution_count": null,
   "metadata": {
    "collapsed": true
   },
   "outputs": [],
   "source": [
    "count_unique_value_single(df, \"likertime2[perfCheck6]. Please rate the following propositions. There are no right or wrong answers [Does your supervisor/line manager inform you about how well you are doing your work?]\")"
   ]
  },
  {
   "cell_type": "markdown",
   "metadata": {},
   "source": [
    "## Do your colleagues inform you about how well you are doing your work?"
   ]
  },
  {
   "cell_type": "code",
   "execution_count": null,
   "metadata": {
    "collapsed": true
   },
   "outputs": [],
   "source": [
    "count_unique_value_single(df, \"likerttime1[perfCheck7]. Please rate the following propositions. There are no right or wrong answers [Do your colleagues inform you about how well you are doing your work?]\")"
   ]
  },
  {
   "cell_type": "markdown",
   "metadata": {},
   "source": [
    "## How often do you feel frustrated when not given the opportunity to achieve your personal work-related goals?"
   ]
  },
  {
   "cell_type": "code",
   "execution_count": null,
   "metadata": {
    "collapsed": true
   },
   "outputs": [],
   "source": [
    "count_unique_value_single(df, \"likertime2[turnOver1]. Please rate the following propositions. There are no right or wrong answers [How often do you feel frustrated when not given the opportunity to achieve your personal work-related goals?]\")"
   ]
  },
  {
   "cell_type": "markdown",
   "metadata": {},
   "source": [
    "## How often do you look forward to another day at work?"
   ]
  },
  {
   "cell_type": "code",
   "execution_count": null,
   "metadata": {
    "collapsed": true
   },
   "outputs": [],
   "source": [
    "count_unique_value_single(df, \"likertime2[turnOver2]. Please rate the following propositions. There are no right or wrong answers [How often do you look forward to another day at work?]\")"
   ]
  },
  {
   "cell_type": "markdown",
   "metadata": {},
   "source": [
    "## How often do you consider leaving your job?"
   ]
  },
  {
   "cell_type": "code",
   "execution_count": null,
   "metadata": {
    "collapsed": true
   },
   "outputs": [],
   "source": [
    "count_unique_value_single(df, \"likerttime1[turnOver3]. Please rate the following propositions. There are no right or wrong answers [How often do you consider leaving your job?]\")"
   ]
  },
  {
   "cell_type": "markdown",
   "metadata": {},
   "source": [
    "## How often do dream about getting another job that will better suit your needs?"
   ]
  },
  {
   "cell_type": "code",
   "execution_count": null,
   "metadata": {
    "collapsed": true
   },
   "outputs": [],
   "source": [
    "count_unique_value_single(df, \"likerttime1[turnOver4]. Please rate the following propositions. There are no right or wrong answers [How often do you dream about getting another job that will better suit your needs?]\")"
   ]
  },
  {
   "cell_type": "markdown",
   "metadata": {},
   "source": [
    "## My current job satisfies my personal needs"
   ]
  },
  {
   "cell_type": "code",
   "execution_count": null,
   "metadata": {
    "collapsed": true
   },
   "outputs": [],
   "source": [
    "count_unique_value_single(df, \"likertagree1[turnOver5].  Please rate the following propositions. There are no right or wrong answers [My current job satisfies my personal needs]\")"
   ]
  },
  {
   "cell_type": "markdown",
   "metadata": {},
   "source": [
    "## I would accept another job at the same compensation level if I was offered it"
   ]
  },
  {
   "cell_type": "code",
   "execution_count": null,
   "metadata": {
    "collapsed": true
   },
   "outputs": [],
   "source": [
    "count_unique_value_single(df, \"likertagree3[turnOver6]. Please rate the following propositions. There are no right or wrong answers [I would accept another job at the same compensation level if I was offered it]\")"
   ]
  },
  {
   "cell_type": "markdown",
   "metadata": {},
   "source": [
    "## I am satisfied with my supervisor/line manager's confidence in me"
   ]
  },
  {
   "cell_type": "code",
   "execution_count": null,
   "metadata": {
    "collapsed": true
   },
   "outputs": [],
   "source": [
    "count_unique_value_single(df, \"likertagree3[affRec1]. Please rate the following propositions. There are no right or wrong answers [I am satisfied with my supervisor/line manager's confidence in me]\")"
   ]
  },
  {
   "cell_type": "markdown",
   "metadata": {},
   "source": [
    "## I am satisfied with a word of thanks from my supervisor/line manager"
   ]
  },
  {
   "cell_type": "code",
   "execution_count": null,
   "metadata": {
    "collapsed": true
   },
   "outputs": [],
   "source": [
    "count_unique_value_single(df, \"likertagree2[affRec2]. Please rate the following propositions. There are no right or wrong answers [I am satisfied with a word of thanks from my supervisor/line manager]\")"
   ]
  },
  {
   "cell_type": "markdown",
   "metadata": {},
   "source": [
    "## I am satisfied with the recognition I receive from my supervisor/line manager for doing my job"
   ]
  },
  {
   "cell_type": "code",
   "execution_count": null,
   "metadata": {
    "collapsed": true
   },
   "outputs": [],
   "source": [
    "count_unique_value_single(df, \"likertagree2[affRec3]. Please rate the following propositions. There are no right or wrong answers [I am satisfied with the recognition I receive from my supervisor/line manager for doing my job]\")"
   ]
  },
  {
   "cell_type": "markdown",
   "metadata": {},
   "source": [
    "## I am satisfied with the compliments from my supervisor/line manager concerning my work"
   ]
  },
  {
   "cell_type": "code",
   "execution_count": null,
   "metadata": {
    "collapsed": true
   },
   "outputs": [],
   "source": [
    "count_unique_value_single(df, \"likertagree1[affRec4].  Please rate the following propositions. There are no right or wrong answers [I am satisfied with the compliments from my supervisor/line manager concerning my work]\")"
   ]
  },
  {
   "cell_type": "markdown",
   "metadata": {},
   "source": [
    "## I am satisfied with the encouragement from my supervisor/line manager while doing my job"
   ]
  },
  {
   "cell_type": "code",
   "execution_count": null,
   "metadata": {
    "collapsed": true
   },
   "outputs": [],
   "source": [
    "count_unique_value_single(df, \"likertagree3[affRec5]. Please rate the following propositions. There are no right or wrong answers [I am satisfied with the encouragement from my supervisor/line manager while doing my job]\")"
   ]
  },
  {
   "cell_type": "markdown",
   "metadata": {},
   "source": [
    "## It would not be very difficult for me to get an equivalent job in a different organisation"
   ]
  },
  {
   "cell_type": "code",
   "execution_count": null,
   "metadata": {
    "collapsed": true
   },
   "outputs": [],
   "source": [
    "count_unique_value_single(df, \"likertagree1[percEmp1].  Please rate the following propositions. There are no right or wrong answers [It would not be very difficult for me to get an equivalent job in a different organisation]\")"
   ]
  },
  {
   "cell_type": "markdown",
   "metadata": {},
   "source": [
    "## I can think of a number of organisations that would probably offer me a job"
   ]
  },
  {
   "cell_type": "code",
   "execution_count": null,
   "metadata": {
    "collapsed": true
   },
   "outputs": [],
   "source": [
    "count_unique_value_single(df, \"likertagree2[percEmp2]. Please rate the following propositions. There are no right or wrong answers [I can think of a number of organisations that would probably offer me a job]\")"
   ]
  },
  {
   "cell_type": "markdown",
   "metadata": {},
   "source": [
    "## My experience is in demand on the labour market"
   ]
  },
  {
   "cell_type": "code",
   "execution_count": null,
   "metadata": {
    "collapsed": true
   },
   "outputs": [],
   "source": [
    "count_unique_value_single(df, \"likertagree1[percEmp3].  Please rate the following propositions. There are no right or wrong answers [My experience is in demand on the labour market]\")"
   ]
  },
  {
   "cell_type": "markdown",
   "metadata": {},
   "source": [
    "## Given my qualifications and experience, getting a new job would not be very hard at all"
   ]
  },
  {
   "cell_type": "code",
   "execution_count": null,
   "metadata": {
    "collapsed": true
   },
   "outputs": [],
   "source": [
    "count_unique_value_single(df, \"likertagree3[percEmp4]. Please rate the following propositions. There are no right or wrong answers [Given my qualifications and experience, getting a new job would not be very hard at all]\")"
   ]
  },
  {
   "cell_type": "markdown",
   "metadata": {},
   "source": [
    "## I find real enjoyment in my job"
   ]
  },
  {
   "cell_type": "code",
   "execution_count": null,
   "metadata": {
    "collapsed": true
   },
   "outputs": [],
   "source": [
    "count_unique_value_single(df, \"likertagree2[affSat1]. Please rate the following propositions. There are no right or wrong answers [I find real enjoyment in my job]\")"
   ]
  },
  {
   "cell_type": "markdown",
   "metadata": {},
   "source": [
    "## Most days I am enthusiastic about my job"
   ]
  },
  {
   "cell_type": "code",
   "execution_count": null,
   "metadata": {
    "collapsed": true
   },
   "outputs": [],
   "source": [
    "count_unique_value_single(df, \"likertagree2[affSat2]. Please rate the following propositions. There are no right or wrong answers [Most days I am enthusiastic about my job]\")"
   ]
  },
  {
   "cell_type": "markdown",
   "metadata": {},
   "source": [
    "## I feel fairly well satisfied with my job"
   ]
  },
  {
   "cell_type": "code",
   "execution_count": null,
   "metadata": {
    "collapsed": true
   },
   "outputs": [],
   "source": [
    "count_unique_value_single(df, \"likertagree1[affSat3].  Please rate the following propositions. There are no right or wrong answers [I feel satisfied with my job]\")"
   ]
  },
  {
   "cell_type": "markdown",
   "metadata": {},
   "source": [
    "## I like my job better than the average person"
   ]
  },
  {
   "cell_type": "code",
   "execution_count": null,
   "metadata": {
    "collapsed": true
   },
   "outputs": [],
   "source": [
    "count_unique_value_single(df, \"likertagree3[affSat4]. Please rate the following propositions. There are no right or wrong answers [I like my job more than average]\")"
   ]
  },
  {
   "cell_type": "markdown",
   "metadata": {},
   "source": [
    "## Please select your gender"
   ]
  },
  {
   "cell_type": "code",
   "execution_count": null,
   "metadata": {
    "collapsed": true
   },
   "outputs": [],
   "source": [
    "count_unique_value_single(df, \"socio2. Please select your gender\")"
   ]
  },
  {
   "cell_type": "markdown",
   "metadata": {},
   "source": [
    "## Please select your age"
   ]
  },
  {
   "cell_type": "code",
   "execution_count": null,
   "metadata": {
    "collapsed": true
   },
   "outputs": [],
   "source": [
    "count_unique_value_single(df, \"socio3. Please select your age\")"
   ]
  },
  {
   "cell_type": "markdown",
   "metadata": {},
   "source": [
    "## How would you describe your ethnic origin?  This refers to people who share the same cultural background and identity, not country of birth or nationality."
   ]
  },
  {
   "cell_type": "code",
   "execution_count": null,
   "metadata": {
    "collapsed": true
   },
   "outputs": [],
   "source": [
    "count_unique_value_single(df, \"socio5. How would you describe your ethnic origin?  This refers to people who share the same cultural background and identity, not country of birth or nationality.\")"
   ]
  },
  {
   "cell_type": "markdown",
   "metadata": {},
   "source": [
    "## Do you have a condition that is defined as a disability by the Equality Act 2010*"
   ]
  },
  {
   "cell_type": "code",
   "execution_count": null,
   "metadata": {
    "collapsed": true
   },
   "outputs": [],
   "source": [
    "count_unique_value_single(df, \"disa1. Do you have a condition that is defined as a disability by the Equality Act 2010*\")"
   ]
  },
  {
   "cell_type": "markdown",
   "metadata": {},
   "source": [
    "## Please select the range of your salary"
   ]
  },
  {
   "cell_type": "code",
   "execution_count": null,
   "metadata": {
    "collapsed": true
   },
   "outputs": [],
   "source": [
    "count_unique_value_single(df, \"socio4. Please select the range of your salary\")"
   ]
  },
  {
   "cell_type": "markdown",
   "metadata": {},
   "source": [
    "## What Operating System do you prefer to use at work?"
   ]
  },
  {
   "cell_type": "code",
   "execution_count": null,
   "metadata": {
    "collapsed": true
   },
   "outputs": [],
   "source": [
    "count_unique_value_single(df, \"tool2. What Operating System do you prefer to use at work?\")"
   ]
  },
  {
   "cell_type": "markdown",
   "metadata": {},
   "source": [
    "## What programming languages do you use at work? (Select as many as apply)"
   ]
  },
  {
   "cell_type": "markdown",
   "metadata": {},
   "source": [
    "## Are you a member of the UK RSE Association? (Members are people who have signed up to the UK RSE mailing list)"
   ]
  },
  {
   "cell_type": "code",
   "execution_count": null,
   "metadata": {
    "collapsed": true
   },
   "outputs": [],
   "source": [
    "count_unique_value_single(df, \"ukrse1. Are you a member of the UK RSE Association? (Members are people who have signed up to the UK RSE mailing list at www.rse.ac.uk)\")"
   ]
  },
  {
   "cell_type": "markdown",
   "metadata": {},
   "source": [
    "## How do you meet other RSEs?"
   ]
  },
  {
   "cell_type": "markdown",
   "metadata": {},
   "source": [
    "## What three skills would you like to acquire or improve to help your work as a Research Software Engineer? The skills can be technical and non-technical."
   ]
  },
  {
   "cell_type": "markdown",
   "metadata": {},
   "source": [
    "## How did you learn the skills you need to become an RSE?"
   ]
  },
  {
   "cell_type": "code",
   "execution_count": null,
   "metadata": {
    "collapsed": true
   },
   "outputs": [],
   "source": [
    "count_unique_value_single(df, \"ukrse3. How did you learn the skills you need to become an RSE?\")"
   ]
  }
 ],
 "metadata": {
  "kernelspec": {
   "display_name": "Python 3",
   "language": "python",
   "name": "python3"
  },
  "language_info": {
   "codemirror_mode": {
    "name": "ipython",
    "version": 3
   },
   "file_extension": ".py",
   "mimetype": "text/x-python",
   "name": "python",
   "nbconvert_exporter": "python",
   "pygments_lexer": "ipython3",
   "version": "3.6.1"
  }
 },
 "nbformat": 4,
 "nbformat_minor": 2
}
