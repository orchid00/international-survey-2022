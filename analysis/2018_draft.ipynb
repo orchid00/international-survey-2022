{
 "cells": [
  {
   "cell_type": "markdown",
   "metadata": {
    "toc": true
   },
   "source": [
    "<h1>Table of Contents<span class=\"tocSkip\"></span></h1>\n",
    "<div class=\"toc\"><ul class=\"toc-item\"><li><span><a href=\"#Overview-and-cleaning\" data-toc-modified-id=\"Overview-and-cleaning-1\"><span class=\"toc-item-num\">1&nbsp;&nbsp;</span>Overview and cleaning</a></span></li><li><span><a href=\"#Total-of-participants-and-removing-non-programmer\" data-toc-modified-id=\"Total-of-participants-and-removing-non-programmer-2\"><span class=\"toc-item-num\">2&nbsp;&nbsp;</span>Total of participants and removing non programmer</a></span></li><li><span><a href=\"#Repartition-per-countries.\" data-toc-modified-id=\"Repartition-per-countries.-3\"><span class=\"toc-item-num\">3&nbsp;&nbsp;</span>Repartition per countries.</a></span><ul class=\"toc-item\"><li><span><a href=\"#Count-of-participants-per-country\" data-toc-modified-id=\"Count-of-participants-per-country-3.1\"><span class=\"toc-item-num\">3.1&nbsp;&nbsp;</span>Count of participants per country</a></span></li><li><span><a href=\"#Visual-representation-of-countries-repartition\" data-toc-modified-id=\"Visual-representation-of-countries-repartition-3.2\"><span class=\"toc-item-num\">3.2&nbsp;&nbsp;</span>Visual representation of countries repartition</a></span></li></ul></li><li><span><a href=\"#Selecting-valid-participants-only\" data-toc-modified-id=\"Selecting-valid-participants-only-4\"><span class=\"toc-item-num\">4&nbsp;&nbsp;</span>Selecting valid participants only</a></span></li><li><span><a href=\"#Education-and-previous-formation\" data-toc-modified-id=\"Education-and-previous-formation-5\"><span class=\"toc-item-num\">5&nbsp;&nbsp;</span>Education and previous formation</a></span><ul class=\"toc-item\"><li><span><a href=\"#Education\" data-toc-modified-id=\"Education-5.1\"><span class=\"toc-item-num\">5.1&nbsp;&nbsp;</span>Education</a></span><ul class=\"toc-item\"><li><span><a href=\"#Australia\" data-toc-modified-id=\"Australia-5.1.1\"><span class=\"toc-item-num\">5.1.1&nbsp;&nbsp;</span>Australia</a></span></li><li><span><a href=\"#Germany\" data-toc-modified-id=\"Germany-5.1.2\"><span class=\"toc-item-num\">5.1.2&nbsp;&nbsp;</span>Germany</a></span></li><li><span><a href=\"#Netherlands\" data-toc-modified-id=\"Netherlands-5.1.3\"><span class=\"toc-item-num\">5.1.3&nbsp;&nbsp;</span>Netherlands</a></span></li><li><span><a href=\"#New-Zealand\" data-toc-modified-id=\"New-Zealand-5.1.4\"><span class=\"toc-item-num\">5.1.4&nbsp;&nbsp;</span>New Zealand</a></span></li><li><span><a href=\"#South-Africa\" data-toc-modified-id=\"South-Africa-5.1.5\"><span class=\"toc-item-num\">5.1.5&nbsp;&nbsp;</span>South Africa</a></span></li><li><span><a href=\"#United-Kingdom\" data-toc-modified-id=\"United-Kingdom-5.1.6\"><span class=\"toc-item-num\">5.1.6&nbsp;&nbsp;</span>United Kingdom</a></span></li><li><span><a href=\"#United-States-of-America\" data-toc-modified-id=\"United-States-of-America-5.1.7\"><span class=\"toc-item-num\">5.1.7&nbsp;&nbsp;</span>United States of America</a></span></li></ul></li></ul></li></ul></div>"
   ]
  },
  {
   "cell_type": "markdown",
   "metadata": {},
   "source": [
    "# Importing modules"
   ]
  },
  {
   "cell_type": "code",
   "execution_count": 1,
   "metadata": {},
   "outputs": [],
   "source": [
    "import json\n",
    "import pandas as pd\n",
    "import geopandas as gpd\n",
    "import numpy as np\n",
    "import matplotlib\n",
    "import matplotlib.pyplot as plt\n",
    "from IPython.display import display\n",
    "import IPython.core.display as di\n",
    "from IPython.core.interactiveshell import InteractiveShell"
   ]
  },
  {
   "cell_type": "code",
   "execution_count": 2,
   "metadata": {},
   "outputs": [],
   "source": [
    "pd.set_option('display.max_rows', 1000)\n",
    "pd.set_option('display.max_columns', 1000) \n",
    "InteractiveShell.ast_node_interactivity = \"all\" "
   ]
  },
  {
   "cell_type": "markdown",
   "metadata": {},
   "source": [
    "This text is used to hide the code cell when exported in html"
   ]
  },
  {
   "cell_type": "code",
   "execution_count": 3,
   "metadata": {},
   "outputs": [
    {
     "data": {
      "text/html": [
       "<script>jQuery(function() {if (jQuery(\"body.notebook_app\").length == 0) { jQuery(\".input_area\").toggle(); jQuery(\".prompt\").toggle();}});</script>"
      ]
     },
     "metadata": {},
     "output_type": "display_data"
    }
   ],
   "source": [
    "di.display_html('<script>jQuery(function() {if (jQuery(\"body.notebook_app\").length == 0) { jQuery(\".input_area\").toggle(); jQuery(\".prompt\").toggle();}});</script>', raw=True)"
   ]
  },
  {
   "cell_type": "code",
   "execution_count": 4,
   "metadata": {},
   "outputs": [],
   "source": [
    "get_ipython().magic('matplotlib inline')  # Activate that line to use in Jupyter \n",
    "matplotlib.rcParams['figure.figsize'] = (15.0, 8.0)"
   ]
  },
  {
   "cell_type": "markdown",
   "metadata": {},
   "source": [
    "# Functions"
   ]
  },
  {
   "cell_type": "code",
   "execution_count": 5,
   "metadata": {},
   "outputs": [],
   "source": [
    "def count_multi_choice(df, colnames):\n",
    "    \"\"\"\n",
    "    Count the values of different columns and transpose the count. It expect multi-choice type of answers\n",
    "    :params:\n",
    "        :df pd.df(): dataframe containing the data\n",
    "        :colnames list(): list of strings corresponding to the column header to select the right column\n",
    "    :return:\n",
    "        :result_df pd.df(): dataframe with the count of each answer for each columns\n",
    "    \"\"\"\n",
    "    # Subset the dataframe\n",
    "    df_sub = df[colnames]\n",
    "    # As the No can be considered as absence of Yes, fill the value 'No' with na to keep Yes only\n",
    "    df_sub = df_sub.fillna(value='No')\n",
    "    # Calculate the count for the column\n",
    "    df_sub = df_sub.apply(pd.Series.value_counts, dropna=dropna, normalize=normalize)\n",
    "\n",
    "    # Replace all the 0 with NA\n",
    "    df_sub.fillna(value=0, inplace=True)\n",
    "    df_sub = df_sub.astype(int)\n",
    "    df_sub = df_sub.ix['Yes']\n",
    "    df_sub = df_sub.to_frame()\n",
    "    df_sub.columns = ['Count']\n",
    "\n",
    "    df_sub = reorder_nan(df_sub, nan_reorder='end')\n",
    "\n",
    "    return df_sub"
   ]
  },
  {
   "cell_type": "code",
   "execution_count": 6,
   "metadata": {},
   "outputs": [],
   "source": [
    "def count_one_choice(df, colnames, file_answer, order_question,\n",
    "                     dropna=False, normalize=False):\n",
    "    \"\"\"\n",
    "    Count the values of different columns and transpose the count\n",
    "    :params:\n",
    "        :df pd.df(): dataframe containing the data\n",
    "        :colnames list(): list of strings corresponding to the column header to select the right column\n",
    "    :return:\n",
    "        :result_df pd.df(): dataframe with the count of each answer for each columns\n",
    "    \"\"\"\n",
    "    df_sub = df[colnames]\n",
    "    df_sub = df_sub.apply(pd.Series.value_counts, dropna=dropna, normalize=normalize)\n",
    "\n",
    "    df_sub = reorder_nan(df_sub, nan_reorder='end')\n",
    "    if order_question == 'True':\n",
    "        new_question_index = [x.strip('\"') for x in get_answer(file_answer)]\n",
    "        existing_answer = [x for x in new_question_index if x in df_sub.index]\n",
    "        # add back the element from the answer that would not be found in the list of answer\n",
    "        # such as Nan and other\n",
    "        existing_answer.extend([x for x in df_sub.index.values if x not in new_question_index])\n",
    "        # Transform the nan into a proper NaN\n",
    "        df_sub = df_sub.reindex(existing_answer)\n",
    "    return df_sub"
   ]
  },
  {
   "cell_type": "code",
   "execution_count": 7,
   "metadata": {},
   "outputs": [],
   "source": [
    "def count_yn(df, colnames, normalize=False, dropna=False):\n",
    "    \"\"\"\n",
    "    \"\"\"\n",
    "    if len(colnames) == 1:\n",
    "        colnames = colnames[0]\n",
    "        df_sub = df[colnames].to_frame(name=colnames)\n",
    "    else:\n",
    "        df_sub = df[colnames]\n",
    "\n",
    "    df_sub = df_sub.apply(pd.Series.value_counts,\n",
    "                          dropna=dropna,\n",
    "                          normalize=normalize)\n",
    "\n",
    "    df_sub = df_sub.transpose()\n",
    "    if dropna is True:\n",
    "        try:\n",
    "            df_sub = df_sub[['Yes', 'No']]\n",
    "        except KeyError:\n",
    "            try:\n",
    "                df_sub = df_sub[['Yes']]\n",
    "            except KeyError:\n",
    "                df_sub = df_sub[['No']]\n",
    "\n",
    "    else:\n",
    "        try:\n",
    "            df_sub = df_sub[['Yes', 'No', np.nan]]\n",
    "        except KeyError:\n",
    "            df_sub[np.nan] = 0\n",
    "            try:\n",
    "                df_sub = df_sub[['Yes', 'No']]\n",
    "            # In case one of the field has not been filled by any participants\n",
    "            # the key does not exists. Need to create it to avoid error while\n",
    "            # plotting, as it expect these keys\n",
    "            except KeyError:\n",
    "                try:\n",
    "                    df_sub = df_sub[['Yes']]\n",
    "                    df_sub['No'] = 0\n",
    "                except KeyError:\n",
    "                    df_sub = df_sub[['No']]\n",
    "                    df_sub['Yes'] = 0\n",
    "    return df_sub"
   ]
  },
  {
   "cell_type": "code",
   "execution_count": 8,
   "metadata": {},
   "outputs": [],
   "source": [
    "def count_likert(df, colnames, likert_answer, dropna=False, normalize=False, reindex=False):\n",
    "    \"\"\"\n",
    "    Count the values of different columns and transpose the count\n",
    "    :params:\n",
    "        :df pd.df(): dataframe containing the data\n",
    "        :colnames list(): list of strings corresponding to the column header to select the right column\n",
    "    :return:\n",
    "        :result_df pd.df(): dataframe with the count of each answer for each columns\n",
    "    \"\"\"\n",
    "    # Subset the columns\n",
    "    df_sub = df[colnames]\n",
    "\n",
    "    def convert_to_int(x):\n",
    "        try:\n",
    "            return int(x)\n",
    "        except ValueError:\n",
    "            return x\n",
    "    # first convert the np.nan into a value that is different\n",
    "    df_sub = df_sub.fillna(-1)\n",
    "    # # then transform into int to loose the decimal point\n",
    "    df_sub = df_sub.applymap(lambda x: convert_to_int(x))\n",
    "    # # then transform into a string\n",
    "    df_sub = df_sub.applymap(str)\n",
    "    # # then replace the -1 into np.nan\n",
    "    df_sub = df_sub.replace({'-1': np.nan})\n",
    "    # df_sub = df_sub.astype(str)\n",
    "    # df_sub = df_sub.replace('.0', '', regex=True)\n",
    "\n",
    "    # Calculate the counts for them\n",
    "    df_count = df_sub.apply(pd.Series.value_counts, dropna=dropna, normalize=normalize)\n",
    "    # Reorder according to the answers order found in the folder\n",
    "    if likert_answer:\n",
    "        for i in likert_answer:  # Add the missing likert because they have nan value and are not in the dataset\n",
    "            if i not in df_count.index:\n",
    "                df_count.loc[i] = np.nan\n",
    "        df_count = df_count.reindex(index=likert_answer)\n",
    "\n",
    "    return df_count"
   ]
  },
  {
   "cell_type": "code",
   "execution_count": 9,
   "metadata": {},
   "outputs": [],
   "source": [
    "# Loading dataset\n",
    "df =  pd.read_csv('./2018/data/public_data.csv')"
   ]
  },
  {
   "cell_type": "code",
   "execution_count": 10,
   "metadata": {},
   "outputs": [],
   "source": [
    "# Loading file with the different questions grouped together.\n",
    "with open('./2018/data/to_plot.json', encoding='utf-8') as f:\n",
    "    structure_survey = json.load(f)"
   ]
  },
  {
   "cell_type": "markdown",
   "metadata": {},
   "source": [
    "## Overview and cleaning"
   ]
  },
  {
   "cell_type": "markdown",
   "metadata": {},
   "source": [
    "## Total of participants and removing non programmer"
   ]
  },
  {
   "cell_type": "markdown",
   "metadata": {},
   "source": [
    "This is the total of participants. Here the participants are the people that have passed at least the first page."
   ]
  },
  {
   "cell_type": "code",
   "execution_count": 11,
   "metadata": {},
   "outputs": [
    {
     "data": {
      "text/plain": [
       "366"
      ]
     },
     "execution_count": 11,
     "metadata": {},
     "output_type": "execute_result"
    }
   ],
   "source": [
    "len(df)"
   ]
  },
  {
   "cell_type": "markdown",
   "metadata": {},
   "source": [
    "## Repartition per countries."
   ]
  },
  {
   "cell_type": "markdown",
   "metadata": {},
   "source": [
    "We developed specific questions for the following countries:\n",
    "* Australia\n",
    "* Canada (but host their own version of the survey so they will not be analysed here)\n",
    "* Germany\n",
    "* Netherlands\n",
    "* New Zealand\n",
    "* South Africa\n",
    "* United Kingdom\n",
    "* United States of America\n",
    "\n",
    "However, this year, we could also collect information about others countries. Each question that was specific to a country was also asked in the form of free text field for participants from other countries.\n"
   ]
  },
  {
   "cell_type": "markdown",
   "metadata": {},
   "source": [
    "### Count of participants per country"
   ]
  },
  {
   "cell_type": "markdown",
   "metadata": {},
   "source": [
    "We can see the distribution of participants among the countries as follow:"
   ]
  },
  {
   "cell_type": "code",
   "execution_count": 12,
   "metadata": {},
   "outputs": [
    {
     "data": {
      "text/html": [
       "<div>\n",
       "<style scoped>\n",
       "    .dataframe tbody tr th:only-of-type {\n",
       "        vertical-align: middle;\n",
       "    }\n",
       "\n",
       "    .dataframe tbody tr th {\n",
       "        vertical-align: top;\n",
       "    }\n",
       "\n",
       "    .dataframe thead th {\n",
       "        text-align: right;\n",
       "    }\n",
       "</style>\n",
       "<table border=\"1\" class=\"dataframe\">\n",
       "  <thead>\n",
       "    <tr style=\"text-align: right;\">\n",
       "      <th></th>\n",
       "      <th>socio1._.In which country do you work?</th>\n",
       "    </tr>\n",
       "  </thead>\n",
       "  <tbody>\n",
       "    <tr>\n",
       "      <th>United Kingdom of Great Britain and Northern Ireland</th>\n",
       "      <td>202</td>\n",
       "    </tr>\n",
       "    <tr>\n",
       "      <th>Australia</th>\n",
       "      <td>72</td>\n",
       "    </tr>\n",
       "    <tr>\n",
       "      <th>United States of America</th>\n",
       "      <td>21</td>\n",
       "    </tr>\n",
       "    <tr>\n",
       "      <th>Germany</th>\n",
       "      <td>18</td>\n",
       "    </tr>\n",
       "    <tr>\n",
       "      <th>New Zealand</th>\n",
       "      <td>13</td>\n",
       "    </tr>\n",
       "    <tr>\n",
       "      <th>Netherlands</th>\n",
       "      <td>12</td>\n",
       "    </tr>\n",
       "    <tr>\n",
       "      <th>Norway</th>\n",
       "      <td>4</td>\n",
       "    </tr>\n",
       "    <tr>\n",
       "      <th>Czech Republic</th>\n",
       "      <td>4</td>\n",
       "    </tr>\n",
       "    <tr>\n",
       "      <th>South Africa</th>\n",
       "      <td>4</td>\n",
       "    </tr>\n",
       "    <tr>\n",
       "      <th>Belgium</th>\n",
       "      <td>3</td>\n",
       "    </tr>\n",
       "    <tr>\n",
       "      <th>Ireland</th>\n",
       "      <td>2</td>\n",
       "    </tr>\n",
       "    <tr>\n",
       "      <th>Canada</th>\n",
       "      <td>2</td>\n",
       "    </tr>\n",
       "    <tr>\n",
       "      <th>Denmark</th>\n",
       "      <td>2</td>\n",
       "    </tr>\n",
       "    <tr>\n",
       "      <th>France</th>\n",
       "      <td>2</td>\n",
       "    </tr>\n",
       "    <tr>\n",
       "      <th>Spain</th>\n",
       "      <td>2</td>\n",
       "    </tr>\n",
       "    <tr>\n",
       "      <th>Greece</th>\n",
       "      <td>1</td>\n",
       "    </tr>\n",
       "    <tr>\n",
       "      <th>Japan</th>\n",
       "      <td>1</td>\n",
       "    </tr>\n",
       "    <tr>\n",
       "      <th>Italy</th>\n",
       "      <td>1</td>\n",
       "    </tr>\n",
       "  </tbody>\n",
       "</table>\n",
       "</div>"
      ],
      "text/plain": [
       "                                                    socio1._.In which country do you work?\n",
       "United Kingdom of Great Britain and Northern Ir...                                     202\n",
       "Australia                                                                               72\n",
       "United States of America                                                                21\n",
       "Germany                                                                                 18\n",
       "New Zealand                                                                             13\n",
       "Netherlands                                                                             12\n",
       "Norway                                                                                   4\n",
       "Czech Republic                                                                           4\n",
       "South Africa                                                                             4\n",
       "Belgium                                                                                  3\n",
       "Ireland                                                                                  2\n",
       "Canada                                                                                   2\n",
       "Denmark                                                                                  2\n",
       "France                                                                                   2\n",
       "Spain                                                                                    2\n",
       "Greece                                                                                   1\n",
       "Japan                                                                                    1\n",
       "Italy                                                                                    1"
      ]
     },
     "execution_count": 12,
     "metadata": {},
     "output_type": "execute_result"
    }
   ],
   "source": [
    "df['socio1._.In which country do you work?'].value_counts().to_frame()"
   ]
  },
  {
   "cell_type": "markdown",
   "metadata": {},
   "source": [
    "### Visual representation of countries repartition"
   ]
  },
  {
   "cell_type": "code",
   "execution_count": 13,
   "metadata": {},
   "outputs": [],
   "source": [
    "df['socio1._.In which country do you work?'].replace({'United Kingdom of Great Britain and Northern Ireland': \"United Kingdom\",\n",
    "            'United States of America': 'United States'}, inplace=True)\n",
    "df_countries = df['socio1._.In which country do you work?'].value_counts().to_frame().reset_index()\n",
    "df_countries.columns = ['name', 'count'] "
   ]
  },
  {
   "cell_type": "code",
   "execution_count": 14,
   "metadata": {},
   "outputs": [],
   "source": [
    "df_map = gpd.read_file(gpd.datasets.get_path('naturalearth_lowres'))\n",
    "# Merge datasets together and replace nan with 0\n",
    "df_map = df_map.merge(df_countries, on='name', how='outer')\n",
    "df_map.fillna(0, inplace=True)\n",
    "#df_map.plot()"
   ]
  },
  {
   "cell_type": "code",
   "execution_count": 15,
   "metadata": {},
   "outputs": [
    {
     "data": {
      "image/png": "[encoded data removed]",
      "text/plain": [
       "<Figure size 1080x576 with 2 Axes>"
      ]
     },
     "metadata": {
      "needs_background": "light"
     },
     "output_type": "display_data"
    }
   ],
   "source": [
    "\n",
    "fig, ax = plt.subplots(1)\n",
    "ax = df_map.plot(ax=ax, column='count', cmap='Reds', linewidth=0.8, edgecolor='0.8', legend=True)\n",
    "\n",
    "\n",
    "# Add the description\n",
    "description = \"\"\" Number of participants per country\"\"\"\n",
    "plot = ax.annotate(description, xy=(0.1, .08), xycoords='figure fraction', horizontalalignment='left', verticalalignment='top', fontsize=12, color='#555555')\n",
    "\n",
    "# Remove axis\n",
    "plot = ax.axis('off')\n",
    "\n",
    "plt.show()"
   ]
  },
  {
   "cell_type": "markdown",
   "metadata": {},
   "source": [
    "## Selecting valid participants only"
   ]
  },
  {
   "cell_type": "markdown",
   "metadata": {},
   "source": [
    "However, on this total of participants, we only want the participants that code software during their work. \n",
    "We had a specific question for this purpose. We asked the participants if they are writing software or if they are leading a group of software developers. Each of these questions had the possibility of Yes/No answer. Here the exact wording of the questions:\n",
    "\n",
    "* Do you write software for academic research as part of your job\n",
    "* Does the majority of your role comprise leading a group of software developers or RSEs?\n",
    "\n",
    "We will only select the participants who answered `Yes` to at least one question."
   ]
  },
  {
   "cell_type": "code",
   "execution_count": 16,
   "metadata": {},
   "outputs": [
    {
     "data": {
      "text/html": [
       "<div>\n",
       "<style scoped>\n",
       "    .dataframe tbody tr th:only-of-type {\n",
       "        vertical-align: middle;\n",
       "    }\n",
       "\n",
       "    .dataframe tbody tr th {\n",
       "        vertical-align: top;\n",
       "    }\n",
       "\n",
       "    .dataframe thead th {\n",
       "        text-align: right;\n",
       "    }\n",
       "</style>\n",
       "<table border=\"1\" class=\"dataframe\">\n",
       "  <thead>\n",
       "    <tr style=\"text-align: right;\">\n",
       "      <th></th>\n",
       "      <th>Write software</th>\n",
       "      <th>Lead a team of software developers</th>\n",
       "      <th>At least one of the two</th>\n",
       "    </tr>\n",
       "  </thead>\n",
       "  <tbody>\n",
       "    <tr>\n",
       "      <th>Yes</th>\n",
       "      <td>348</td>\n",
       "      <td>64</td>\n",
       "      <td>364</td>\n",
       "    </tr>\n",
       "    <tr>\n",
       "      <th>No</th>\n",
       "      <td>18</td>\n",
       "      <td>290</td>\n",
       "      <td>2</td>\n",
       "    </tr>\n",
       "  </tbody>\n",
       "</table>\n",
       "</div>"
      ],
      "text/plain": [
       "     Write software  Lead a team of software developers  \\\n",
       "Yes             348                                  64   \n",
       "No               18                                 290   \n",
       "\n",
       "     At least one of the two  \n",
       "Yes                      364  \n",
       "No                         2  "
      ]
     },
     "execution_count": 16,
     "metadata": {},
     "output_type": "execute_result"
    }
   ],
   "source": [
    "# Get the count of Y/N for the software developers\n",
    "soft_dev = df['rse1._.Do you write software for academic research as part of your job'].value_counts().to_frame()\n",
    "\n",
    "# Get the count of Y/N for the leader developers\n",
    "soft_lead = df['rse4de._.Does the majority of your role comprise leading a group of software developers or RSEs?'].value_counts().to_frame()\n",
    "\n",
    "# Get the count for Y/N to any of the question\n",
    "df['any_rse'] = np.where((df['rse1._.Do you write software for academic research as part of your job'] == 'Yes') | (df['rse4de._.Does the majority of your role comprise leading a group of software developers or RSEs?']), 'Yes', 'No')\n",
    "soft_any = df['any_rse'].value_counts().to_frame()\n",
    "\n",
    "# Create one df\n",
    "result = pd.concat([soft_dev, soft_lead, soft_any], axis=1, sort=False)\n",
    "\n",
    "# Rename columns\n",
    "result.columns = ['Write software', 'Lead a team of software developers', 'At least one of the two']\n",
    "result"
   ]
  },
  {
   "cell_type": "markdown",
   "metadata": {},
   "source": [
    "For any further analysis, we remove the participants that answered 'No' at both of the question to only keep the ones that have work involving software development."
   ]
  },
  {
   "cell_type": "code",
   "execution_count": 17,
   "metadata": {},
   "outputs": [],
   "source": [
    "# Filtering the df\n",
    "df = df[df['any_rse'] == 'Yes']\n",
    "# drop the column `any_rse` as no use anymore\n",
    "df.drop(columns=['any_rse'], inplace=True)"
   ]
  },
  {
   "cell_type": "markdown",
   "metadata": {},
   "source": [
    "This brings the number of participants analysed to:"
   ]
  },
  {
   "cell_type": "code",
   "execution_count": 18,
   "metadata": {},
   "outputs": [
    {
     "data": {
      "text/plain": [
       "364"
      ]
     },
     "execution_count": 18,
     "metadata": {},
     "output_type": "execute_result"
    }
   ],
   "source": [
    "len(df)"
   ]
  },
  {
   "cell_type": "markdown",
   "metadata": {},
   "source": [
    "## Education and previous formation"
   ]
  },
  {
   "cell_type": "markdown",
   "metadata": {},
   "source": [
    "### Education "
   ]
  },
  {
   "cell_type": "markdown",
   "metadata": {},
   "source": [
    "The education questions is tight to each countries as each of them have their own educative system. Therefore this section is separated between all countries.\n",
    "All of them had the same question:\n",
    "* What is the highest level of education you have attained?\n",
    "But the list of diploma was different for each. \n",
    "If a participant answered from another country than the one listed at the beginning of the notebook, they could answer with a free text."
   ]
  },
  {
   "cell_type": "markdown",
   "metadata": {},
   "source": [
    "#### Australia"
   ]
  },
  {
   "cell_type": "code",
   "execution_count": 19,
   "metadata": {},
   "outputs": [
    {
     "data": {
      "text/html": [
       "<div>\n",
       "<style scoped>\n",
       "    .dataframe tbody tr th:only-of-type {\n",
       "        vertical-align: middle;\n",
       "    }\n",
       "\n",
       "    .dataframe tbody tr th {\n",
       "        vertical-align: top;\n",
       "    }\n",
       "\n",
       "    .dataframe thead th {\n",
       "        text-align: right;\n",
       "    }\n",
       "</style>\n",
       "<table border=\"1\" class=\"dataframe\">\n",
       "  <thead>\n",
       "    <tr style=\"text-align: right;\">\n",
       "      <th></th>\n",
       "      <th>Total count</th>\n",
       "      <th>Percentage</th>\n",
       "    </tr>\n",
       "    <tr>\n",
       "      <th>Highest level of education for Australia</th>\n",
       "      <th></th>\n",
       "      <th></th>\n",
       "    </tr>\n",
       "  </thead>\n",
       "  <tbody>\n",
       "    <tr>\n",
       "      <th>AQF 10 - Doctoral Degree</th>\n",
       "      <td>44</td>\n",
       "      <td>61.11</td>\n",
       "    </tr>\n",
       "    <tr>\n",
       "      <th>AQF 8 - Bachelor Honours Degree / Graduate Certificate / Graduate Diploma</th>\n",
       "      <td>11</td>\n",
       "      <td>15.28</td>\n",
       "    </tr>\n",
       "    <tr>\n",
       "      <th>AQF 7 - Bachelor Degree</th>\n",
       "      <td>9</td>\n",
       "      <td>12.50</td>\n",
       "    </tr>\n",
       "    <tr>\n",
       "      <th>AQF 9 - Masters Degree</th>\n",
       "      <td>8</td>\n",
       "      <td>11.11</td>\n",
       "    </tr>\n",
       "  </tbody>\n",
       "</table>\n",
       "</div>"
      ],
      "text/plain": [
       "                                                    Total count  Percentage\n",
       "Highest level of education for Australia                                   \n",
       "AQF 10 - Doctoral Degree                                     44       61.11\n",
       "AQF 8 - Bachelor Honours Degree / Graduate Cert...           11       15.28\n",
       "AQF 7 - Bachelor Degree                                       9       12.50\n",
       "AQF 9 - Masters Degree                                        8       11.11"
      ]
     },
     "execution_count": 19,
     "metadata": {},
     "output_type": "execute_result"
    }
   ],
   "source": [
    "# Set up variables\n",
    "country = 'Australia'\n",
    "question_code = 'edu1qaus'\n",
    "full_q = '{}._.What is the highest level of education you have attained?'.format(question_code)\n",
    "index_name = 'Highest level of education for {}'.format(country)\n",
    "\n",
    "# Get the count for edu1\n",
    "df_edu = df[full_q].value_counts().to_frame()\n",
    "\n",
    "# Add the percentage to the newly created df\n",
    "df_edu['Percentage'] = (df_edu[full_q] / df_edu[full_q].sum()*100).round(2)\n",
    "\n",
    "# Rename columns\n",
    "df_edu.columns = ['Total count', 'Percentage']\n",
    "\n",
    "# Change name of index \n",
    "df_edu.index.name = index_name\n",
    "# Display the df\n",
    "\n",
    "df_edu"
   ]
  },
  {
   "cell_type": "markdown",
   "metadata": {},
   "source": [
    "#### Germany"
   ]
  },
  {
   "cell_type": "code",
   "execution_count": 20,
   "metadata": {},
   "outputs": [
    {
     "data": {
      "text/html": [
       "<div>\n",
       "<style scoped>\n",
       "    .dataframe tbody tr th:only-of-type {\n",
       "        vertical-align: middle;\n",
       "    }\n",
       "\n",
       "    .dataframe tbody tr th {\n",
       "        vertical-align: top;\n",
       "    }\n",
       "\n",
       "    .dataframe thead th {\n",
       "        text-align: right;\n",
       "    }\n",
       "</style>\n",
       "<table border=\"1\" class=\"dataframe\">\n",
       "  <thead>\n",
       "    <tr style=\"text-align: right;\">\n",
       "      <th></th>\n",
       "      <th>Total count</th>\n",
       "      <th>Percentage</th>\n",
       "    </tr>\n",
       "    <tr>\n",
       "      <th>Highest level of education for Germany</th>\n",
       "      <th></th>\n",
       "      <th></th>\n",
       "    </tr>\n",
       "  </thead>\n",
       "  <tbody>\n",
       "    <tr>\n",
       "      <th>Master degree</th>\n",
       "      <td>9</td>\n",
       "      <td>50.00</td>\n",
       "    </tr>\n",
       "    <tr>\n",
       "      <th>Doctorate</th>\n",
       "      <td>8</td>\n",
       "      <td>44.44</td>\n",
       "    </tr>\n",
       "    <tr>\n",
       "      <th>Final secondary-school examinations, general qualification for university entrance</th>\n",
       "      <td>1</td>\n",
       "      <td>5.56</td>\n",
       "    </tr>\n",
       "  </tbody>\n",
       "</table>\n",
       "</div>"
      ],
      "text/plain": [
       "                                                    Total count  Percentage\n",
       "Highest level of education for Germany                                     \n",
       "Master degree                                                 9       50.00\n",
       "Doctorate                                                     8       44.44\n",
       "Final secondary-school examinations, general qu...            1        5.56"
      ]
     },
     "execution_count": 20,
     "metadata": {},
     "output_type": "execute_result"
    }
   ],
   "source": [
    "# Set up variables\n",
    "country = 'Germany'\n",
    "question_code = 'edu1qde'\n",
    "full_q = '{}._.What is the highest level of education you have attained?'.format(question_code)\n",
    "index_name = 'Highest level of education for {}'.format(country)\n",
    "\n",
    "# Get the count for edu1\n",
    "df_edu = df[full_q].value_counts().to_frame()\n",
    "\n",
    "# Add the percentage to the newly created df\n",
    "df_edu['Percentage'] = (df_edu[full_q] / df_edu[full_q].sum()*100).round(2)\n",
    "\n",
    "# Rename columns\n",
    "df_edu.columns = ['Total count', 'Percentage']\n",
    "\n",
    "# Change name of index \n",
    "df_edu.index.name = index_name\n",
    "# Display the df\n",
    "\n",
    "df_edu"
   ]
  },
  {
   "cell_type": "markdown",
   "metadata": {},
   "source": [
    "#### Netherlands"
   ]
  },
  {
   "cell_type": "code",
   "execution_count": 21,
   "metadata": {},
   "outputs": [
    {
     "data": {
      "text/html": [
       "<div>\n",
       "<style scoped>\n",
       "    .dataframe tbody tr th:only-of-type {\n",
       "        vertical-align: middle;\n",
       "    }\n",
       "\n",
       "    .dataframe tbody tr th {\n",
       "        vertical-align: top;\n",
       "    }\n",
       "\n",
       "    .dataframe thead th {\n",
       "        text-align: right;\n",
       "    }\n",
       "</style>\n",
       "<table border=\"1\" class=\"dataframe\">\n",
       "  <thead>\n",
       "    <tr style=\"text-align: right;\">\n",
       "      <th></th>\n",
       "      <th>Total count</th>\n",
       "      <th>Percentage</th>\n",
       "    </tr>\n",
       "    <tr>\n",
       "      <th>Highest level of education for Netherlands</th>\n",
       "      <th></th>\n",
       "      <th></th>\n",
       "    </tr>\n",
       "  </thead>\n",
       "  <tbody>\n",
       "    <tr>\n",
       "      <th>PhD</th>\n",
       "      <td>8</td>\n",
       "      <td>66.67</td>\n",
       "    </tr>\n",
       "    <tr>\n",
       "      <th>WO (Wetenschappelijk onderwijs) Master</th>\n",
       "      <td>3</td>\n",
       "      <td>25.00</td>\n",
       "    </tr>\n",
       "    <tr>\n",
       "      <th>HBO (Hoger beroepsonderwijs) Master</th>\n",
       "      <td>1</td>\n",
       "      <td>8.33</td>\n",
       "    </tr>\n",
       "  </tbody>\n",
       "</table>\n",
       "</div>"
      ],
      "text/plain": [
       "                                            Total count  Percentage\n",
       "Highest level of education for Netherlands                         \n",
       "PhD                                                   8       66.67\n",
       "WO (Wetenschappelijk onderwijs) Master                3       25.00\n",
       "HBO (Hoger beroepsonderwijs) Master                   1        8.33"
      ]
     },
     "execution_count": 21,
     "metadata": {},
     "output_type": "execute_result"
    }
   ],
   "source": [
    "# Set up variables\n",
    "country = 'Netherlands'\n",
    "question_code = 'edu1qnl'\n",
    "full_q = '{}._.What is the highest level of education you have attained?'.format(question_code)\n",
    "index_name = 'Highest level of education for {}'.format(country)\n",
    "\n",
    "# Get the count for edu1\n",
    "df_edu = df[full_q].value_counts().to_frame()\n",
    "\n",
    "# Add the percentage to the newly created df\n",
    "df_edu['Percentage'] = (df_edu[full_q] / df_edu[full_q].sum()*100).round(2)\n",
    "\n",
    "# Rename columns\n",
    "df_edu.columns = ['Total count', 'Percentage']\n",
    "\n",
    "# Change name of index \n",
    "df_edu.index.name = index_name\n",
    "# Display the df\n",
    "\n",
    "df_edu"
   ]
  },
  {
   "cell_type": "markdown",
   "metadata": {},
   "source": [
    "#### New Zealand"
   ]
  },
  {
   "cell_type": "code",
   "execution_count": 22,
   "metadata": {},
   "outputs": [
    {
     "data": {
      "text/html": [
       "<div>\n",
       "<style scoped>\n",
       "    .dataframe tbody tr th:only-of-type {\n",
       "        vertical-align: middle;\n",
       "    }\n",
       "\n",
       "    .dataframe tbody tr th {\n",
       "        vertical-align: top;\n",
       "    }\n",
       "\n",
       "    .dataframe thead th {\n",
       "        text-align: right;\n",
       "    }\n",
       "</style>\n",
       "<table border=\"1\" class=\"dataframe\">\n",
       "  <thead>\n",
       "    <tr style=\"text-align: right;\">\n",
       "      <th></th>\n",
       "      <th>Total count</th>\n",
       "      <th>Percentage</th>\n",
       "    </tr>\n",
       "    <tr>\n",
       "      <th>Highest level of education for New Zealand</th>\n",
       "      <th></th>\n",
       "      <th></th>\n",
       "    </tr>\n",
       "  </thead>\n",
       "  <tbody>\n",
       "    <tr>\n",
       "      <th>Doctorate</th>\n",
       "      <td>5</td>\n",
       "      <td>38.46</td>\n",
       "    </tr>\n",
       "    <tr>\n",
       "      <th>Master degree</th>\n",
       "      <td>4</td>\n",
       "      <td>30.77</td>\n",
       "    </tr>\n",
       "    <tr>\n",
       "      <th>Undergraduate degree</th>\n",
       "      <td>3</td>\n",
       "      <td>23.08</td>\n",
       "    </tr>\n",
       "    <tr>\n",
       "      <th>Other</th>\n",
       "      <td>1</td>\n",
       "      <td>7.69</td>\n",
       "    </tr>\n",
       "  </tbody>\n",
       "</table>\n",
       "</div>"
      ],
      "text/plain": [
       "                                            Total count  Percentage\n",
       "Highest level of education for New Zealand                         \n",
       "Doctorate                                             5       38.46\n",
       "Master degree                                         4       30.77\n",
       "Undergraduate degree                                  3       23.08\n",
       "Other                                                 1        7.69"
      ]
     },
     "execution_count": 22,
     "metadata": {},
     "output_type": "execute_result"
    }
   ],
   "source": [
    "# Set up variables\n",
    "country = 'New Zealand'\n",
    "question_code = 'edu1qnzl'\n",
    "full_q = '{}._.What is the highest level of education you have attained?'.format(question_code)\n",
    "index_name = 'Highest level of education for {}'.format(country)\n",
    "\n",
    "# Get the count for edu1\n",
    "df_edu = df[full_q].value_counts().to_frame()\n",
    "\n",
    "# Add the percentage to the newly created df\n",
    "df_edu['Percentage'] = (df_edu[full_q] / df_edu[full_q].sum()*100).round(2)\n",
    "\n",
    "# Rename columns\n",
    "df_edu.columns = ['Total count', 'Percentage']\n",
    "\n",
    "# Change name of index \n",
    "df_edu.index.name = index_name\n",
    "# Display the df\n",
    "\n",
    "df_edu"
   ]
  },
  {
   "cell_type": "markdown",
   "metadata": {},
   "source": [
    "#### South Africa"
   ]
  },
  {
   "cell_type": "code",
   "execution_count": 23,
   "metadata": {},
   "outputs": [
    {
     "data": {
      "text/html": [
       "<div>\n",
       "<style scoped>\n",
       "    .dataframe tbody tr th:only-of-type {\n",
       "        vertical-align: middle;\n",
       "    }\n",
       "\n",
       "    .dataframe tbody tr th {\n",
       "        vertical-align: top;\n",
       "    }\n",
       "\n",
       "    .dataframe thead th {\n",
       "        text-align: right;\n",
       "    }\n",
       "</style>\n",
       "<table border=\"1\" class=\"dataframe\">\n",
       "  <thead>\n",
       "    <tr style=\"text-align: right;\">\n",
       "      <th></th>\n",
       "      <th>Total count</th>\n",
       "      <th>Percentage</th>\n",
       "    </tr>\n",
       "    <tr>\n",
       "      <th>Highest level of education for South Africa</th>\n",
       "      <th></th>\n",
       "      <th></th>\n",
       "    </tr>\n",
       "  </thead>\n",
       "  <tbody>\n",
       "    <tr>\n",
       "      <th>Master degree</th>\n",
       "      <td>2</td>\n",
       "      <td>50.0</td>\n",
       "    </tr>\n",
       "    <tr>\n",
       "      <th>Further Education (NVQ A-Level, ...)</th>\n",
       "      <td>1</td>\n",
       "      <td>25.0</td>\n",
       "    </tr>\n",
       "    <tr>\n",
       "      <th>Other</th>\n",
       "      <td>1</td>\n",
       "      <td>25.0</td>\n",
       "    </tr>\n",
       "  </tbody>\n",
       "</table>\n",
       "</div>"
      ],
      "text/plain": [
       "                                             Total count  Percentage\n",
       "Highest level of education for South Africa                         \n",
       "Master degree                                          2        50.0\n",
       "Further Education (NVQ A-Level, ...)                   1        25.0\n",
       "Other                                                  1        25.0"
      ]
     },
     "execution_count": 23,
     "metadata": {},
     "output_type": "execute_result"
    }
   ],
   "source": [
    "# Set up variables\n",
    "country = 'South Africa'\n",
    "question_code = 'edu1qzaf'\n",
    "full_q = '{}._.What is the highest level of education you have attained?'.format(question_code)\n",
    "index_name = 'Highest level of education for {}'.format(country)\n",
    "\n",
    "# Get the count for edu1\n",
    "df_edu = df[full_q].value_counts().to_frame()\n",
    "\n",
    "# Add the percentage to the newly created df\n",
    "df_edu['Percentage'] = (df_edu[full_q] / df_edu[full_q].sum()*100).round(2)\n",
    "\n",
    "# Rename columns\n",
    "df_edu.columns = ['Total count', 'Percentage']\n",
    "\n",
    "# Change name of index \n",
    "df_edu.index.name = index_name\n",
    "# Display the df\n",
    "\n",
    "df_edu"
   ]
  },
  {
   "cell_type": "markdown",
   "metadata": {},
   "source": [
    "#### United Kingdom"
   ]
  },
  {
   "cell_type": "code",
   "execution_count": 24,
   "metadata": {},
   "outputs": [
    {
     "data": {
      "text/html": [
       "<div>\n",
       "<style scoped>\n",
       "    .dataframe tbody tr th:only-of-type {\n",
       "        vertical-align: middle;\n",
       "    }\n",
       "\n",
       "    .dataframe tbody tr th {\n",
       "        vertical-align: top;\n",
       "    }\n",
       "\n",
       "    .dataframe thead th {\n",
       "        text-align: right;\n",
       "    }\n",
       "</style>\n",
       "<table border=\"1\" class=\"dataframe\">\n",
       "  <thead>\n",
       "    <tr style=\"text-align: right;\">\n",
       "      <th></th>\n",
       "      <th>Total count</th>\n",
       "      <th>Percentage</th>\n",
       "    </tr>\n",
       "    <tr>\n",
       "      <th>Highest level of education for United Kingdom</th>\n",
       "      <th></th>\n",
       "      <th></th>\n",
       "    </tr>\n",
       "  </thead>\n",
       "  <tbody>\n",
       "    <tr>\n",
       "      <th>Doctorate</th>\n",
       "      <td>141</td>\n",
       "      <td>70.15</td>\n",
       "    </tr>\n",
       "    <tr>\n",
       "      <th>Master degree</th>\n",
       "      <td>41</td>\n",
       "      <td>20.40</td>\n",
       "    </tr>\n",
       "    <tr>\n",
       "      <th>Undergraduate degree</th>\n",
       "      <td>18</td>\n",
       "      <td>8.96</td>\n",
       "    </tr>\n",
       "    <tr>\n",
       "      <th>GSCEs</th>\n",
       "      <td>1</td>\n",
       "      <td>0.50</td>\n",
       "    </tr>\n",
       "  </tbody>\n",
       "</table>\n",
       "</div>"
      ],
      "text/plain": [
       "                                               Total count  Percentage\n",
       "Highest level of education for United Kingdom                         \n",
       "Doctorate                                              141       70.15\n",
       "Master degree                                           41       20.40\n",
       "Undergraduate degree                                    18        8.96\n",
       "GSCEs                                                    1        0.50"
      ]
     },
     "execution_count": 24,
     "metadata": {},
     "output_type": "execute_result"
    }
   ],
   "source": [
    "# Set up variables\n",
    "country = 'United Kingdom'\n",
    "question_code = 'edu1quk'\n",
    "full_q = '{}._.What is the highest level of education you have attained?'.format(question_code)\n",
    "index_name = 'Highest level of education for {}'.format(country)\n",
    "\n",
    "# Get the count for edu1\n",
    "df_edu = df[full_q].value_counts().to_frame()\n",
    "\n",
    "# Add the percentage to the newly created df\n",
    "df_edu['Percentage'] = (df_edu[full_q] / df_edu[full_q].sum()*100).round(2)\n",
    "\n",
    "# Rename columns\n",
    "df_edu.columns = ['Total count', 'Percentage']\n",
    "\n",
    "# Change name of index \n",
    "df_edu.index.name = index_name\n",
    "# Display the df\n",
    "\n",
    "df_edu"
   ]
  },
  {
   "cell_type": "markdown",
   "metadata": {},
   "source": [
    "#### United States of America"
   ]
  },
  {
   "cell_type": "code",
   "execution_count": 25,
   "metadata": {},
   "outputs": [
    {
     "data": {
      "text/html": [
       "<div>\n",
       "<style scoped>\n",
       "    .dataframe tbody tr th:only-of-type {\n",
       "        vertical-align: middle;\n",
       "    }\n",
       "\n",
       "    .dataframe tbody tr th {\n",
       "        vertical-align: top;\n",
       "    }\n",
       "\n",
       "    .dataframe thead th {\n",
       "        text-align: right;\n",
       "    }\n",
       "</style>\n",
       "<table border=\"1\" class=\"dataframe\">\n",
       "  <thead>\n",
       "    <tr style=\"text-align: right;\">\n",
       "      <th></th>\n",
       "      <th>Total count</th>\n",
       "      <th>Percentage</th>\n",
       "    </tr>\n",
       "    <tr>\n",
       "      <th>Highest level of education for United States of America</th>\n",
       "      <th></th>\n",
       "      <th></th>\n",
       "    </tr>\n",
       "  </thead>\n",
       "  <tbody>\n",
       "    <tr>\n",
       "      <th>Doctorate</th>\n",
       "      <td>10</td>\n",
       "      <td>47.62</td>\n",
       "    </tr>\n",
       "    <tr>\n",
       "      <th>Master degree</th>\n",
       "      <td>7</td>\n",
       "      <td>33.33</td>\n",
       "    </tr>\n",
       "    <tr>\n",
       "      <th>Undergraduate degree</th>\n",
       "      <td>3</td>\n",
       "      <td>14.29</td>\n",
       "    </tr>\n",
       "    <tr>\n",
       "      <th>Other</th>\n",
       "      <td>1</td>\n",
       "      <td>4.76</td>\n",
       "    </tr>\n",
       "  </tbody>\n",
       "</table>\n",
       "</div>"
      ],
      "text/plain": [
       "                                                    Total count  Percentage\n",
       "Highest level of education for United States of...                         \n",
       "Doctorate                                                    10       47.62\n",
       "Master degree                                                 7       33.33\n",
       "Undergraduate degree                                          3       14.29\n",
       "Other                                                         1        4.76"
      ]
     },
     "execution_count": 25,
     "metadata": {},
     "output_type": "execute_result"
    }
   ],
   "source": [
    "# Set up variables\n",
    "country = 'United States of America'\n",
    "question_code = 'edu1qus'\n",
    "full_q = '{}._.What is the highest level of education you have attained?'.format(question_code)\n",
    "index_name = 'Highest level of education for {}'.format(country)\n",
    "\n",
    "# Get the count for edu1\n",
    "df_edu = df[full_q].value_counts().to_frame()\n",
    "\n",
    "# Add the percentage to the newly created df\n",
    "df_edu['Percentage'] = (df_edu[full_q] / df_edu[full_q].sum()*100).round(2)\n",
    "\n",
    "# Rename columns\n",
    "df_edu.columns = ['Total count', 'Percentage']\n",
    "\n",
    "# Change name of index \n",
    "df_edu.index.name = index_name\n",
    "# Display the df\n",
    "\n",
    "df_edu"
   ]
  },
  {
   "cell_type": "code",
   "execution_count": null,
   "metadata": {},
   "outputs": [],
   "source": []
  },
  {
   "cell_type": "code",
   "execution_count": 26,
   "metadata": {},
   "outputs": [
    {
     "data": {
      "text/plain": [
       "[{'survey_q': ['edu1qde._.What is the highest level of education you have attained?'],\n",
       "  'original_question': ['What is the highest level of education you have attained?'],\n",
       "  'answer_format': 'one choice',\n",
       "  'file_answer': './../survey_creation/2018/listAnswers/de/education.csv'},\n",
       " {'survey_q': ['edu1qnl._.What is the highest level of education you have attained?'],\n",
       "  'original_question': ['What is the highest level of education you have attained?'],\n",
       "  'answer_format': 'one choice',\n",
       "  'file_answer': './../survey_creation/2018/listAnswers/nl/education.csv'},\n",
       " {'survey_q': ['edu1quk._.What is the highest level of education you have attained?'],\n",
       "  'original_question': ['What is the highest level of education you have attained?'],\n",
       "  'answer_format': 'one choice',\n",
       "  'file_answer': './../survey_creation/2018/listAnswers/uk/education.csv'},\n",
       " {'survey_q': ['edu1qus._.What is the highest level of education you have attained?'],\n",
       "  'original_question': ['What is the highest level of education you have attained?'],\n",
       "  'answer_format': 'one choice',\n",
       "  'file_answer': './../survey_creation/2018/listAnswers/us/education.csv'},\n",
       " {'survey_q': ['edu1qzaf._.What is the highest level of education you have attained?'],\n",
       "  'original_question': ['What is the highest level of education you have attained?'],\n",
       "  'answer_format': 'one choice',\n",
       "  'file_answer': './../survey_creation/2018/listAnswers/zaf/education.csv'},\n",
       " {'survey_q': ['edu1qnzl._.What is the highest level of education you have attained?'],\n",
       "  'original_question': ['What is the highest level of education you have attained?'],\n",
       "  'answer_format': 'one choice',\n",
       "  'file_answer': './../survey_creation/2018/listAnswers/nzl/education.csv'},\n",
       " {'survey_q': ['edu1qcan._.What is the highest level of education you have attained?'],\n",
       "  'original_question': ['What is the highest level of education you have attained?'],\n",
       "  'answer_format': 'one choice',\n",
       "  'file_answer': './../survey_creation/2018/listAnswers/can/education.csv'},\n",
       " {'survey_q': ['edu1qaus._.What is the highest level of education you have attained?'],\n",
       "  'original_question': ['What is the highest level of education you have attained?'],\n",
       "  'answer_format': 'one choice',\n",
       "  'file_answer': './../survey_creation/2018/listAnswers/aus/education.csv'},\n",
       " {'survey_q': ['edu1qworld._.What is the highest level of education you have attained?'],\n",
       "  'original_question': ['What is the highest level of education you have attained?'],\n",
       "  'answer_format': 'one choice',\n",
       "  'file_answer': './../survey_creation/2018/listAnswers/aus/education.csv'},\n",
       " {'survey_q': ['edu2qde._.In which discipline is your highest academic qualification?'],\n",
       "  'original_question': ['In which discipline is your highest academic qualification?'],\n",
       "  'answer_format': 'one choice',\n",
       "  'file_answer': './../survey_creation/2018/listAnswers/de/academic_field.csv'},\n",
       " {'survey_q': ['edu2qnl._.In which discipline is your highest academic qualification?'],\n",
       "  'original_question': ['In which discipline is your highest academic qualification?'],\n",
       "  'answer_format': 'one choice',\n",
       "  'file_answer': './../survey_creation/2018/listAnswers/nl/academic_field.csv'},\n",
       " {'survey_q': ['edu2quk._.In which discipline is your highest academic qualification?'],\n",
       "  'original_question': ['In which discipline is your highest academic qualification?'],\n",
       "  'answer_format': 'one choice',\n",
       "  'file_answer': './../survey_creation/2018/listAnswers/uk/academic_field.csv'},\n",
       " {'survey_q': ['edu2qus._.In which discipline is your highest academic qualification?'],\n",
       "  'original_question': ['In which discipline is your highest academic qualification?'],\n",
       "  'answer_format': 'one choice',\n",
       "  'file_answer': './../survey_creation/2018/listAnswers/us/academic_field.csv'},\n",
       " {'survey_q': ['edu2qzaf._.In which discipline is your highest academic qualification?'],\n",
       "  'original_question': ['In which discipline is your highest academic qualification?'],\n",
       "  'answer_format': 'one choice',\n",
       "  'file_answer': './../survey_creation/2018/listAnswers/zaf/academic_field.csv'},\n",
       " {'survey_q': ['edu2qnzl._.In which discipline is your highest academic qualification?'],\n",
       "  'original_question': ['In which discipline is your highest academic qualification?'],\n",
       "  'answer_format': 'one choice',\n",
       "  'file_answer': './../survey_creation/2018/listAnswers/nzl/academic_field.csv'},\n",
       " {'survey_q': ['edu2qcan._.In which discipline is your highest academic qualification?'],\n",
       "  'original_question': ['In which discipline is your highest academic qualification?'],\n",
       "  'answer_format': 'one choice',\n",
       "  'file_answer': './../survey_creation/2018/listAnswers/can/academic_field.csv'},\n",
       " {'survey_q': ['edu2qaus._.In which discipline is your highest academic qualification?'],\n",
       "  'original_question': ['In which discipline is your highest academic qualification?'],\n",
       "  'answer_format': 'one choice',\n",
       "  'file_answer': './../survey_creation/2018/listAnswers/aus/academic_field.csv'},\n",
       " {'survey_q': ['edu2qworld._.In which discipline is your highest academic qualification?'],\n",
       "  'original_question': ['In which discipline is your highest academic qualification?'],\n",
       "  'answer_format': 'one choice',\n",
       "  'file_answer': './../survey_creation/2018/listAnswers/aus/academic_field.csv'},\n",
       " {'survey_q': ['edu4._.List any professional qualifications you hold (eg. P. Eng, PMP, …)?'],\n",
       "  'original_question': ['List any professional qualifications you hold (eg. P. Eng, PMP, …)?'],\n",
       "  'answer_format': 'freetext',\n",
       "  'file_answer': None}]"
      ]
     },
     "execution_count": 26,
     "metadata": {},
     "output_type": "execute_result"
    }
   ],
   "source": [
    "structure_survey['1']['edu']"
   ]
  }
 ],
 "metadata": {
  "kernelspec": {
   "display_name": "Python 3",
   "language": "python",
   "name": "python3"
  },
  "language_info": {
   "codemirror_mode": {
    "name": "ipython",
    "version": 3
   },
   "file_extension": ".py",
   "mimetype": "text/x-python",
   "name": "python",
   "nbconvert_exporter": "python",
   "pygments_lexer": "ipython3",
   "version": "3.7.0"
  },
  "toc": {
   "base_numbering": 1,
   "nav_menu": {},
   "number_sections": true,
   "sideBar": true,
   "skip_h1_title": true,
   "title_cell": "Table of Contents",
   "title_sidebar": "Contents",
   "toc_cell": true,
   "toc_position": {},
   "toc_section_display": true,
   "toc_window_display": false
  }
 },
 "nbformat": 4,
 "nbformat_minor": 2
}
