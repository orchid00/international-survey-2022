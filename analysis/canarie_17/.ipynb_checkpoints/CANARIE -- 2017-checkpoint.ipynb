{
 "cells": [
  {
   "cell_type": "markdown",
   "metadata": {},
   "source": [
    "# CANARIE 2017 -- Analysis of the survey\n",
    "\n",
    "This notebook is the first draft to analyse the results from [CANARIE]()"
   ]
  },
  {
   "cell_type": "markdown",
   "metadata": {},
   "source": [
    "## Loading libraries to work in notebook"
   ]
  },
  {
   "cell_type": "code",
   "execution_count": 1,
   "metadata": {},
   "outputs": [],
   "source": [
    "# Load libraries\n",
    "import pandas as pd\n",
    "import numpy as np\n",
    "import matplotlib\n",
    "\n",
    "# When using Ipython within vim\n",
    "matplotlib.use('TkAgg')\n",
    "\n",
    "# When using within jupyter\n",
    "get_ipython().magic('matplotlib inline')  # Activat that line to use in Jupyter\n",
    "\n",
    "import matplotlib.pyplot as plt\n",
    "\n",
    "#  When using this script with ipython and vim\n",
    "#plt.ion()\n",
    "#plt.show()"
   ]
  },
  {
   "cell_type": "markdown",
   "metadata": {},
   "source": [
    "## Preparation and filtering of the dataset\n",
    "\n",
    "The data are stored in the csv file. It contains 114 answers that need to be filtered to only keep participants that are from Canada, completed the survey and are developing software"
   ]
  },
  {
   "cell_type": "code",
   "execution_count": 2,
   "metadata": {},
   "outputs": [
    {
     "data": {
      "text/plain": [
       "114"
      ]
     },
     "execution_count": 2,
     "metadata": {},
     "output_type": "execute_result"
    }
   ],
   "source": [
    "# Load dataset\n",
    "df = pd.read_csv('./dataset/2017 Cdn Research Software Developer Survey - Public data.csv')\n",
    "# Number of row == number of participants\n",
    "len(df.index)"
   ]
  },
  {
   "cell_type": "code",
   "execution_count": 3,
   "metadata": {},
   "outputs": [
    {
     "data": {
      "text/plain": [
       "102"
      ]
     },
     "execution_count": 3,
     "metadata": {},
     "output_type": "execute_result"
    }
   ],
   "source": [
    "# ### Date submitted\n",
    "# The variable 'Date submitted' is set up when the participant finish the survey. If the row on this column is empty, it means the participant did not finish the survey. These participants are removed, even if they have submitted partial answers.\n",
    "\n",
    "df = df[df['Date submitted'].notnull()]\n",
    "# Getting the number of row from the reduced dataframe\n",
    "len(df.index)"
   ]
  },
  {
   "cell_type": "code",
   "execution_count": 4,
   "metadata": {},
   "outputs": [
    {
     "data": {
      "text/plain": [
       "99"
      ]
     },
     "execution_count": 4,
     "metadata": {},
     "output_type": "execute_result"
    }
   ],
   "source": [
    "# Countries\n",
    "#A question asked the participants in which country they were currently working and specify when it was not Canada.\n",
    "pd.crosstab(df['In which country do you work?'], columns='Countries')\n",
    "# There is only 4 others. Which are only one from Japan, 2 from USA and one from UK.\n",
    "pd.crosstab(df['In which country do you work? [Other]'], columns='Other countries')\n",
    "# As this answer are not useful for CANARIE, because these people are not working in Canada, they are removed from the dataset.\n",
    "df = df.loc[df['In which country do you work?'] != 'Other']\n",
    "# Getting the number of row from the reduced dataframe\n",
    "len(df.index)"
   ]
  },
  {
   "cell_type": "code",
   "execution_count": 5,
   "metadata": {
    "scrolled": true
   },
   "outputs": [
    {
     "data": {
      "text/plain": [
       "90"
      ]
     },
     "execution_count": 5,
     "metadata": {},
     "output_type": "execute_result"
    }
   ],
   "source": [
    "# ### Writing software as part of the work\n",
    "#\n",
    "# One question asked if the participants write software for research as part of their work.\n",
    "pd.crosstab(df['Do you write software for research as part of your job?'], columns='Writing software')\n",
    "# 13 answered 'No'. This survey, being about researcher that write codes, they are removed from the dataset\n",
    "df = df.loc[df['Do you write software for research as part of your job?'] == 'Yes']\n",
    "# Getting the number of row from the reduced dataframe\n",
    "len(df.index)"
   ]
  },
  {
   "cell_type": "markdown",
   "metadata": {},
   "source": [
    "A bit of cleaning, all answer \"Prefer not to answer\" are replace with a NaN value. They are not giving any information and were present to offer the possibility to the participants to select that option. "
   ]
  },
  {
   "cell_type": "code",
   "execution_count": 6,
   "metadata": {
    "collapsed": true
   },
   "outputs": [],
   "source": [
    "# Replacing all the answer \"Prefer not to answer\" by NaN, as they are not useful in the analysis\n",
    "df.replace('Prefer not to answer', np.NaN, inplace=True)\n",
    "\n",
    "# Some columns have a unbreakable space in their name, replace it\n",
    "df.columns = df.columns.str.replace('\\xa0', '')\n"
   ]
  },
  {
   "cell_type": "markdown",
   "metadata": {},
   "source": [
    "# Functions\n",
    "Some functions have been created to facilitated the exploration of the question and the visualisations of the answers. They are all regrouped here under sections. \n",
    "These different sections reflects the process of exploration (analysing the different questions by their type of answer rather than the chronological order that the participants had to follow). \n"
   ]
  },
  {
   "cell_type": "code",
   "execution_count": 7,
   "metadata": {
    "collapsed": true
   },
   "outputs": [],
   "source": [
    "def explore_other(colname, printUnique=False):\n",
    "    \"\"\"\n",
    "    To output the unique value of the column\n",
    "    and the column '[Other]' associated with it\n",
    "    :params:\n",
    "        :colnames str(): string to match the column\n",
    "    :return: None\n",
    "    \"\"\"\n",
    "    col_other = colname + ' [Other]'\n",
    "    if printUnique is True:\n",
    "        print('Unique values in the normal column')\n",
    "        print(df[colname].unique())\n",
    "        print('Unique values in the other columns')\n",
    "        print(df[col_other].unique())\n",
    "    return colname"
   ]
  },
  {
   "cell_type": "code",
   "execution_count": 8,
   "metadata": {
    "collapsed": true
   },
   "outputs": [],
   "source": [
    "def recode_values(x, replacement_values, default=False):\n",
    "    \"\"\"\n",
    "    Function to use with an  apply on a Serie to replace values if they match\n",
    "    the values from the dictionary passed into the argument.\n",
    "    :params:\n",
    "        :replacement_values dict(): K are the content to match and values the content\n",
    "        to replace with\n",
    "        :default: if a value is given to default, this value will be return, if it is\n",
    "        false, the passed value is returned instead\n",
    "    :return:\n",
    "        :x: the x is returned or the replacement values if found in the dictionary or the\n",
    "        default if not None.\n",
    "    \"\"\"\n",
    "    if not pd.isnull(x):\n",
    "        for k in replacement_values:\n",
    "            if str(k).lower() in str(x).lower():\n",
    "                return replacement_values[k]\n",
    "        if default:\n",
    "            return default\n",
    "    return x"
   ]
  },
  {
   "cell_type": "code",
   "execution_count": 9,
   "metadata": {
    "collapsed": true
   },
   "outputs": [],
   "source": [
    "def merging_others(df, colname, replacement_values=None):\n",
    "    \"\"\"\n",
    "    Function to wrap the different modification applied on\n",
    "    the columns that have a `other` column associated.\n",
    "    Only search if some others could be merged with the prexisting answers\n",
    "    and merge it to into the original column, then transform the column into\n",
    "    categorical variable\n",
    "    :params:\n",
    "        :df pd.df(): dataframe containing the data\n",
    "        :colname str(): string that have the column header to select the right column\n",
    "        :replacement_values dict(): contain which value to match in the column 'other' as\n",
    "        the key and which value to replace with. If it is None, skip the transformation (Default)\n",
    "    :return:\n",
    "        :None: The operation is a replace `inplace`\n",
    "    \"\"\"\n",
    "    colname_other = var+ ' [Other]'\n",
    "    if replacement_values:\n",
    "        df[colname_other] = df[colname_other].apply(recode_values, args=(replacement_values, 'Other'))\n",
    "        df[colname].replace('Other', df[colname_other], inplace=True)\n",
    "\n",
    "    df[colname] = df[colname].str.capitalize().astype('category')"
   ]
  },
  {
   "cell_type": "code",
   "execution_count": 10,
   "metadata": {
    "collapsed": true
   },
   "outputs": [],
   "source": [
    "def freq_table(df, colnames=False, columns='count', add_ratio=False, sort_order=False):\n",
    "    \"\"\"\n",
    "    \"\"\"\n",
    "    if add_ratio:\n",
    "        output = pd.concat([pd.crosstab(df[colnames], columns='count', normalize=False),\n",
    "          pd.crosstab(df[colnames], columns='ratio', normalize=True)], axis=1)\n",
    "    else:\n",
    "        output = pd.crosstab(df[colnames], colnames=[''], columns=columns)\n",
    "    if sort_order:\n",
    "        output = output.sort_values(by='count')\n",
    "    return output"
   ]
  },
  {
   "cell_type": "code",
   "execution_count": 11,
   "metadata": {
    "collapsed": true
   },
   "outputs": [],
   "source": [
    "def freq_plotting(df, colnames='count', sort_order=False, stacked=False, horizontal=False):\n",
    "    \"\"\"\n",
    "    Plot the others variables\n",
    "    :params:\n",
    "        :df pd.df(): dataframe containing the data, should be a df of frequencies\n",
    "        created with crosstab\n",
    "        :colname str(): string that have the column header to select the right column\n",
    "    \"\"\"\n",
    "    type_plot = 'bar'\n",
    "    # Call the freq_table function to create the count to plot\n",
    "    # d = freq_table(df, colnames, columns)\n",
    "    if sort_order:\n",
    "        df = df.sort_values(by=colnames, ascending=False)\n",
    "    if horizontal is True:\n",
    "        type_plot='barh'\n",
    "\n",
    "    df[colnames].plot(kind=type_plot, stacked=stacked)"
   ]
  },
  {
   "cell_type": "code",
   "execution_count": 12,
   "metadata": {
    "collapsed": true
   },
   "outputs": [],
   "source": [
    "def save_freq_plotting(df, columns, colnames=False, sort_order=False, stacked=False, horizontal=False):\n",
    "    \"\"\"\n",
    "    Plot the others variables\n",
    "    :params:\n",
    "        :df pd.df(): dataframe containing the data\n",
    "        :colname str(): string that have the column header to select the right column\n",
    "    \"\"\"\n",
    "    type_plot = 'bar'\n",
    "    if colnames is False:\n",
    "        colnames = columns\n",
    "    # Call the freq_table function to create the count to plot\n",
    "    d = freq_table(df, colnames, columns)\n",
    "    if sort_order:\n",
    "        d = d.sort_values(by=colnames, ascending=False)\n",
    "    if horizontal is True:\n",
    "        type_plot='barh'\n",
    "    \n",
    "    d.plot(kind=type_plot, stacked=stacked)\n",
    "    return d"
   ]
  },
  {
   "cell_type": "code",
   "execution_count": 13,
   "metadata": {
    "collapsed": true
   },
   "outputs": [],
   "source": [
    "## TODO Remove the part of this function that output a freq_table to call freq_table() instead\n",
    "def count_unique_value(df, colnames, rename_columns=False, dropna=False, normalize=False):\n",
    "    \"\"\"\n",
    "    Count the values of different columns and transpose the count\n",
    "    :params:\n",
    "        :df pd.df(): dataframe containing the data\n",
    "        :colnames list(): list of strings corresponding to the column header to select the right column\n",
    "    :return:\n",
    "        :result_df pd.df(): dataframe with the count of each answer for each columns\n",
    "    \"\"\"\n",
    "    # Subset the columns\n",
    "    df_sub = df[colnames]\n",
    "\n",
    "    if rename_columns is True:\n",
    "        df_sub.columns = [s.split('[', 1)[1].split(']')[0] for s in colnames]\n",
    "\n",
    "    # Calculate the counts for them\n",
    "    df_sub = df_sub.apply(pd.Series.value_counts, dropna=dropna, normalize=normalize)\n",
    "    # Transpose the column to row to be able to plot a stacked bar chart\n",
    "    return df_sub.transpose()"
   ]
  },
  {
   "cell_type": "markdown",
   "metadata": {},
   "source": [
    "# Exploration of the results"
   ]
  },
  {
   "cell_type": "markdown",
   "metadata": {},
   "source": [
    "## Languages\n",
    "\n",
    "The survey was in French and in English. The option choose by the participant was collected. It is possible then to see the proportion of participants that answered the survey in French or in English"
   ]
  },
  {
   "cell_type": "code",
   "execution_count": 14,
   "metadata": {},
   "outputs": [],
   "source": [
    "language_count = freq_table(df, 'Start language', add_ratio=True, sort_order=True)"
   ]
  },
  {
   "cell_type": "code",
   "execution_count": 15,
   "metadata": {},
   "outputs": [
    {
     "data": {
      "text/html": [
       "<div>\n",
       "<table border=\"1\" class=\"dataframe\">\n",
       "  <thead>\n",
       "    <tr style=\"text-align: right;\">\n",
       "      <th>col_0</th>\n",
       "      <th>count</th>\n",
       "      <th>ratio</th>\n",
       "    </tr>\n",
       "    <tr>\n",
       "      <th>Start language</th>\n",
       "      <th></th>\n",
       "      <th></th>\n",
       "    </tr>\n",
       "  </thead>\n",
       "  <tbody>\n",
       "    <tr>\n",
       "      <th>fr</th>\n",
       "      <td>11</td>\n",
       "      <td>0.122222</td>\n",
       "    </tr>\n",
       "    <tr>\n",
       "      <th>en</th>\n",
       "      <td>79</td>\n",
       "      <td>0.877778</td>\n",
       "    </tr>\n",
       "  </tbody>\n",
       "</table>\n",
       "</div>"
      ],
      "text/plain": [
       "col_0           count     ratio\n",
       "Start language                 \n",
       "fr                 11  0.122222\n",
       "en                 79  0.877778"
      ]
     },
     "execution_count": 15,
     "metadata": {},
     "output_type": "execute_result"
    }
   ],
   "source": [
    "language_count"
   ]
  },
  {
   "cell_type": "code",
   "execution_count": 16,
   "metadata": {},
   "outputs": [
    {
     "data": {
      "text/plain": [
       "<matplotlib.axes._subplots.AxesSubplot at 0x7faabf88c780>"
      ]
     },
     "execution_count": 16,
     "metadata": {},
     "output_type": "execute_result"
    },
    {
     "data": {
      "image/png": "[encoded data removed]",
      "text/plain": [
       "<matplotlib.figure.Figure at 0x7faabf88c240>"
      ]
     },
     "metadata": {},
     "output_type": "display_data"
    }
   ],
   "source": [
    "language_count['count'].plot(kind='bar')"
   ]
  },
  {
   "cell_type": "markdown",
   "metadata": {},
   "source": [
    "## Education level\n",
    "The question asked the level of education"
   ]
  },
  {
   "cell_type": "code",
   "execution_count": 17,
   "metadata": {},
   "outputs": [],
   "source": [
    "# Recode the column as categorical variable\n",
    "df['What is the highest level of education you have attained?'] = df['What is the highest level of education you have attained?'].astype('category')\n",
    "\n",
    "# Reorder the factors to match the education level\n",
    "df['What is the highest level of education you have attained?'].cat.reorder_categories(['Some University',\n",
    "                                                                                        'College Diploma',\n",
    "                                                                                        'Bachelors Degree',\n",
    "                                                                                        'Masters Degree',\n",
    "                                                                                        'Doctorate'],\n",
    "                                                                                       inplace=True)\n"
   ]
  },
  {
   "cell_type": "code",
   "execution_count": 18,
   "metadata": {
    "collapsed": true
   },
   "outputs": [],
   "source": [
    "education_count = freq_table(df, 'What is the highest level of education you have attained?', add_ratio=True, sort_order=True)"
   ]
  },
  {
   "cell_type": "code",
   "execution_count": 19,
   "metadata": {},
   "outputs": [
    {
     "data": {
      "text/html": [
       "<div>\n",
       "<table border=\"1\" class=\"dataframe\">\n",
       "  <thead>\n",
       "    <tr style=\"text-align: right;\">\n",
       "      <th>col_0</th>\n",
       "      <th>count</th>\n",
       "      <th>ratio</th>\n",
       "    </tr>\n",
       "    <tr>\n",
       "      <th>What is the highest level of education you have attained?</th>\n",
       "      <th></th>\n",
       "      <th></th>\n",
       "    </tr>\n",
       "  </thead>\n",
       "  <tbody>\n",
       "    <tr>\n",
       "      <th>College Diploma</th>\n",
       "      <td>4</td>\n",
       "      <td>0.044444</td>\n",
       "    </tr>\n",
       "    <tr>\n",
       "      <th>Some University</th>\n",
       "      <td>5</td>\n",
       "      <td>0.055556</td>\n",
       "    </tr>\n",
       "    <tr>\n",
       "      <th>Bachelors Degree</th>\n",
       "      <td>16</td>\n",
       "      <td>0.177778</td>\n",
       "    </tr>\n",
       "    <tr>\n",
       "      <th>Masters Degree</th>\n",
       "      <td>25</td>\n",
       "      <td>0.277778</td>\n",
       "    </tr>\n",
       "    <tr>\n",
       "      <th>Doctorate</th>\n",
       "      <td>40</td>\n",
       "      <td>0.444444</td>\n",
       "    </tr>\n",
       "  </tbody>\n",
       "</table>\n",
       "</div>"
      ],
      "text/plain": [
       "col_0                                               count     ratio\n",
       "What is the highest level of education you have...                 \n",
       "College Diploma                                         4  0.044444\n",
       "Some University                                         5  0.055556\n",
       "Bachelors Degree                                       16  0.177778\n",
       "Masters Degree                                         25  0.277778\n",
       "Doctorate                                              40  0.444444"
      ]
     },
     "execution_count": 19,
     "metadata": {},
     "output_type": "execute_result"
    }
   ],
   "source": [
    "education_count"
   ]
  },
  {
   "cell_type": "code",
   "execution_count": 20,
   "metadata": {},
   "outputs": [
    {
     "data": {
      "text/plain": [
       "<matplotlib.axes._subplots.AxesSubplot at 0x7faabd793710>"
      ]
     },
     "execution_count": 20,
     "metadata": {},
     "output_type": "execute_result"
    },
    {
     "data": {
      "image/png": "[encoded data removed]",
      "text/plain": [
       "<matplotlib.figure.Figure at 0x7faabd7d3c50>"
      ]
     },
     "metadata": {},
     "output_type": "display_data"
    }
   ],
   "source": [
    "education_count['count'].plot(kind='barh', sort_columns=True)"
   ]
  },
  {
   "cell_type": "code",
   "execution_count": 21,
   "metadata": {},
   "outputs": [
    {
     "data": {
      "text/html": [
       "<div>\n",
       "<table border=\"1\" class=\"dataframe\">\n",
       "  <thead>\n",
       "    <tr style=\"text-align: right;\">\n",
       "      <th></th>\n",
       "      <th>count</th>\n",
       "    </tr>\n",
       "    <tr>\n",
       "      <th>In which discipline is your highest academic qualification? [Other]</th>\n",
       "      <th></th>\n",
       "    </tr>\n",
       "  </thead>\n",
       "  <tbody>\n",
       "    <tr>\n",
       "      <th>Biochemistry/Bioinformatics</th>\n",
       "      <td>1</td>\n",
       "    </tr>\n",
       "    <tr>\n",
       "      <th>computer</th>\n",
       "      <td>1</td>\n",
       "    </tr>\n",
       "    <tr>\n",
       "      <th>Systems</th>\n",
       "      <td>1</td>\n",
       "    </tr>\n",
       "    <tr>\n",
       "      <th>Software Engineering</th>\n",
       "      <td>1</td>\n",
       "    </tr>\n",
       "    <tr>\n",
       "      <th>Other Engineering</th>\n",
       "      <td>1</td>\n",
       "    </tr>\n",
       "    <tr>\n",
       "      <th>Mathematics</th>\n",
       "      <td>1</td>\n",
       "    </tr>\n",
       "    <tr>\n",
       "      <th>Master in Software Systems</th>\n",
       "      <td>1</td>\n",
       "    </tr>\n",
       "    <tr>\n",
       "      <th>History</th>\n",
       "      <td>1</td>\n",
       "    </tr>\n",
       "    <tr>\n",
       "      <th>informatique</th>\n",
       "      <td>1</td>\n",
       "    </tr>\n",
       "    <tr>\n",
       "      <th>Génie informatique</th>\n",
       "      <td>1</td>\n",
       "    </tr>\n",
       "    <tr>\n",
       "      <th>Computer Science</th>\n",
       "      <td>1</td>\n",
       "    </tr>\n",
       "    <tr>\n",
       "      <th>Computer Engineering/Science</th>\n",
       "      <td>1</td>\n",
       "    </tr>\n",
       "    <tr>\n",
       "      <th>Computer Engineering</th>\n",
       "      <td>1</td>\n",
       "    </tr>\n",
       "    <tr>\n",
       "      <th>Computer &amp; information science</th>\n",
       "      <td>1</td>\n",
       "    </tr>\n",
       "    <tr>\n",
       "      <th>Biophysics</th>\n",
       "      <td>1</td>\n",
       "    </tr>\n",
       "    <tr>\n",
       "      <th>Bioinformatique</th>\n",
       "      <td>1</td>\n",
       "    </tr>\n",
       "    <tr>\n",
       "      <th>Computer science</th>\n",
       "      <td>1</td>\n",
       "    </tr>\n",
       "    <tr>\n",
       "      <th>musique</th>\n",
       "      <td>1</td>\n",
       "    </tr>\n",
       "    <tr>\n",
       "      <th>Bioinformatics</th>\n",
       "      <td>2</td>\n",
       "    </tr>\n",
       "  </tbody>\n",
       "</table>\n",
       "</div>"
      ],
      "text/plain": [
       "                                                    count\n",
       "In which discipline is your highest academic qu...       \n",
       "Biochemistry/Bioinformatics                             1\n",
       "computer                                                1\n",
       "Systems                                                 1\n",
       "Software Engineering                                    1\n",
       "Other Engineering                                       1\n",
       "Mathematics                                             1\n",
       "Master in Software Systems                              1\n",
       "History                                                 1\n",
       "informatique                                            1\n",
       "Génie informatique                                      1\n",
       "Computer Science                                        1\n",
       "Computer Engineering/Science                            1\n",
       "Computer Engineering                                    1\n",
       "Computer & information science                          1\n",
       "Biophysics                                              1\n",
       "Bioinformatique                                         1\n",
       "Computer science                                        1\n",
       "musique                                                 1\n",
       "Bioinformatics                                          2"
      ]
     },
     "execution_count": 21,
     "metadata": {},
     "output_type": "execute_result"
    }
   ],
   "source": [
    "freq_table(df, 'In which discipline is your highest academic qualification? [Other]', sort_order=True)"
   ]
  },
  {
   "cell_type": "code",
   "execution_count": 22,
   "metadata": {},
   "outputs": [],
   "source": [
    "var = explore_other('In which discipline is your highest academic qualification?')\n",
    "discipline_values = {'bioinfo': 'Bioinformatics',\n",
    "                     'computer': 'Information technology',\n",
    "                     'informatique': 'Information technology',\n",
    "                     'history': 'Social sciences and humanities',\n",
    "                     'biophysics': 'Physics',\n",
    "                     'software': 'Information and communication services',\n",
    "                     'dance': 'Social Sciences and Humanities',\n",
    "                     'musique': 'Social Sciences and Humanities',\n",
    "                     'agric': 'Agricultural engineering'}\n",
    "merging_others(df, var, discipline_values)\n",
    "disciplines = freq_table(df, var, add_ratio=True, sort_order=True)\n"
   ]
  },
  {
   "cell_type": "code",
   "execution_count": 23,
   "metadata": {},
   "outputs": [
    {
     "data": {
      "text/html": [
       "<div>\n",
       "<table border=\"1\" class=\"dataframe\">\n",
       "  <thead>\n",
       "    <tr style=\"text-align: right;\">\n",
       "      <th>col_0</th>\n",
       "      <th>count</th>\n",
       "      <th>ratio</th>\n",
       "    </tr>\n",
       "    <tr>\n",
       "      <th>In which discipline is your highest academic qualification?</th>\n",
       "      <th></th>\n",
       "      <th></th>\n",
       "    </tr>\n",
       "  </thead>\n",
       "  <tbody>\n",
       "    <tr>\n",
       "      <th>Agricultural engineering</th>\n",
       "      <td>1</td>\n",
       "      <td>0.011111</td>\n",
       "    </tr>\n",
       "    <tr>\n",
       "      <th>Industrial engineering</th>\n",
       "      <td>1</td>\n",
       "      <td>0.011111</td>\n",
       "    </tr>\n",
       "    <tr>\n",
       "      <th>Hydrology</th>\n",
       "      <td>1</td>\n",
       "      <td>0.011111</td>\n",
       "    </tr>\n",
       "    <tr>\n",
       "      <th>Geoghraphical information</th>\n",
       "      <td>1</td>\n",
       "      <td>0.011111</td>\n",
       "    </tr>\n",
       "    <tr>\n",
       "      <th>Mechanical engineering</th>\n",
       "      <td>1</td>\n",
       "      <td>0.011111</td>\n",
       "    </tr>\n",
       "    <tr>\n",
       "      <th>Fluid mechanics</th>\n",
       "      <td>1</td>\n",
       "      <td>0.011111</td>\n",
       "    </tr>\n",
       "    <tr>\n",
       "      <th>Microbiology</th>\n",
       "      <td>1</td>\n",
       "      <td>0.011111</td>\n",
       "    </tr>\n",
       "    <tr>\n",
       "      <th>Mining and mineral processing</th>\n",
       "      <td>1</td>\n",
       "      <td>0.011111</td>\n",
       "    </tr>\n",
       "    <tr>\n",
       "      <th>Earth science</th>\n",
       "      <td>1</td>\n",
       "      <td>0.011111</td>\n",
       "    </tr>\n",
       "    <tr>\n",
       "      <th>Nuclear engineering</th>\n",
       "      <td>1</td>\n",
       "      <td>0.011111</td>\n",
       "    </tr>\n",
       "    <tr>\n",
       "      <th>Oceanography</th>\n",
       "      <td>1</td>\n",
       "      <td>0.011111</td>\n",
       "    </tr>\n",
       "    <tr>\n",
       "      <th>Other studies in natural sciences and engineering</th>\n",
       "      <td>1</td>\n",
       "      <td>0.011111</td>\n",
       "    </tr>\n",
       "    <tr>\n",
       "      <th>Physical geography</th>\n",
       "      <td>1</td>\n",
       "      <td>0.011111</td>\n",
       "    </tr>\n",
       "    <tr>\n",
       "      <th>Space science</th>\n",
       "      <td>1</td>\n",
       "      <td>0.011111</td>\n",
       "    </tr>\n",
       "    <tr>\n",
       "      <th>Life sciences research related to human health and disease</th>\n",
       "      <td>1</td>\n",
       "      <td>0.011111</td>\n",
       "    </tr>\n",
       "    <tr>\n",
       "      <th>Molecular biology</th>\n",
       "      <td>2</td>\n",
       "      <td>0.022222</td>\n",
       "    </tr>\n",
       "    <tr>\n",
       "      <th>Physical chemistry</th>\n",
       "      <td>2</td>\n",
       "      <td>0.022222</td>\n",
       "    </tr>\n",
       "    <tr>\n",
       "      <th>Social sciences and humanities</th>\n",
       "      <td>2</td>\n",
       "      <td>0.022222</td>\n",
       "    </tr>\n",
       "    <tr>\n",
       "      <th>Information and communication services</th>\n",
       "      <td>2</td>\n",
       "      <td>0.022222</td>\n",
       "    </tr>\n",
       "    <tr>\n",
       "      <th>Evolution and ecology</th>\n",
       "      <td>2</td>\n",
       "      <td>0.022222</td>\n",
       "    </tr>\n",
       "    <tr>\n",
       "      <th>Biomedical engineering</th>\n",
       "      <td>2</td>\n",
       "      <td>0.022222</td>\n",
       "    </tr>\n",
       "    <tr>\n",
       "      <th>Biochemistry</th>\n",
       "      <td>2</td>\n",
       "      <td>0.022222</td>\n",
       "    </tr>\n",
       "    <tr>\n",
       "      <th>Astronomy and astrophysics</th>\n",
       "      <td>2</td>\n",
       "      <td>0.022222</td>\n",
       "    </tr>\n",
       "    <tr>\n",
       "      <th>Genetics</th>\n",
       "      <td>3</td>\n",
       "      <td>0.033333</td>\n",
       "    </tr>\n",
       "    <tr>\n",
       "      <th>Chemical engineering</th>\n",
       "      <td>3</td>\n",
       "      <td>0.033333</td>\n",
       "    </tr>\n",
       "    <tr>\n",
       "      <th>Other</th>\n",
       "      <td>3</td>\n",
       "      <td>0.033333</td>\n",
       "    </tr>\n",
       "    <tr>\n",
       "      <th>Theoretical physics and chemistry</th>\n",
       "      <td>3</td>\n",
       "      <td>0.033333</td>\n",
       "    </tr>\n",
       "    <tr>\n",
       "      <th>Electrical and electronic engineering</th>\n",
       "      <td>4</td>\n",
       "      <td>0.044444</td>\n",
       "    </tr>\n",
       "    <tr>\n",
       "      <th>Bioinformatics</th>\n",
       "      <td>4</td>\n",
       "      <td>0.044444</td>\n",
       "    </tr>\n",
       "    <tr>\n",
       "      <th>Artificial intelligence</th>\n",
       "      <td>5</td>\n",
       "      <td>0.055556</td>\n",
       "    </tr>\n",
       "    <tr>\n",
       "      <th>Applied mathematics</th>\n",
       "      <td>5</td>\n",
       "      <td>0.055556</td>\n",
       "    </tr>\n",
       "    <tr>\n",
       "      <th>Physics</th>\n",
       "      <td>6</td>\n",
       "      <td>0.066667</td>\n",
       "    </tr>\n",
       "    <tr>\n",
       "      <th>Information technology</th>\n",
       "      <td>23</td>\n",
       "      <td>0.255556</td>\n",
       "    </tr>\n",
       "  </tbody>\n",
       "</table>\n",
       "</div>"
      ],
      "text/plain": [
       "col_0                                               count     ratio\n",
       "In which discipline is your highest academic qu...                 \n",
       "Agricultural engineering                                1  0.011111\n",
       "Industrial engineering                                  1  0.011111\n",
       "Hydrology                                               1  0.011111\n",
       "Geoghraphical information                               1  0.011111\n",
       "Mechanical engineering                                  1  0.011111\n",
       "Fluid mechanics                                         1  0.011111\n",
       "Microbiology                                            1  0.011111\n",
       "Mining and mineral processing                           1  0.011111\n",
       "Earth science                                           1  0.011111\n",
       "Nuclear engineering                                     1  0.011111\n",
       "Oceanography                                            1  0.011111\n",
       "Other studies in natural sciences and engineering       1  0.011111\n",
       "Physical geography                                      1  0.011111\n",
       "Space science                                           1  0.011111\n",
       "Life sciences research related to human health ...      1  0.011111\n",
       "Molecular biology                                       2  0.022222\n",
       "Physical chemistry                                      2  0.022222\n",
       "Social sciences and humanities                          2  0.022222\n",
       "Information and communication services                  2  0.022222\n",
       "Evolution and ecology                                   2  0.022222\n",
       "Biomedical engineering                                  2  0.022222\n",
       "Biochemistry                                            2  0.022222\n",
       "Astronomy and astrophysics                              2  0.022222\n",
       "Genetics                                                3  0.033333\n",
       "Chemical engineering                                    3  0.033333\n",
       "Other                                                   3  0.033333\n",
       "Theoretical physics and chemistry                       3  0.033333\n",
       "Electrical and electronic engineering                   4  0.044444\n",
       "Bioinformatics                                          4  0.044444\n",
       "Artificial intelligence                                 5  0.055556\n",
       "Applied mathematics                                     5  0.055556\n",
       "Physics                                                 6  0.066667\n",
       "Information technology                                 23  0.255556"
      ]
     },
     "execution_count": 23,
     "metadata": {},
     "output_type": "execute_result"
    }
   ],
   "source": [
    "disciplines"
   ]
  },
  {
   "cell_type": "code",
   "execution_count": 24,
   "metadata": {},
   "outputs": [
    {
     "data": {
      "image/png": "[encoded data removed]",
      "text/plain": [
       "<matplotlib.figure.Figure at 0x7faabd7c0b38>"
      ]
     },
     "metadata": {},
     "output_type": "display_data"
    }
   ],
   "source": [
    "# Now the data is cleaned, it is possible to plot it\n",
    "freq_plotting(disciplines, sort_order=True)"
   ]
  },
  {
   "cell_type": "code",
   "execution_count": 25,
   "metadata": {},
   "outputs": [],
   "source": [
    "software_dev_number = freq_table(df, 'How many software developers typically work on your projects?', add_ratio=True)\n",
    "# Reorganise the row names to match the normal order\n",
    "software_dev_number = software_dev_number.reindex(['Just me', '2', '3-5',  '6-9', '10+'])\n"
   ]
  },
  {
   "cell_type": "code",
   "execution_count": 26,
   "metadata": {},
   "outputs": [
    {
     "data": {
      "text/html": [
       "<div>\n",
       "<table border=\"1\" class=\"dataframe\">\n",
       "  <thead>\n",
       "    <tr style=\"text-align: right;\">\n",
       "      <th>col_0</th>\n",
       "      <th>count</th>\n",
       "      <th>ratio</th>\n",
       "    </tr>\n",
       "    <tr>\n",
       "      <th>How many software developers typically work on your projects?</th>\n",
       "      <th></th>\n",
       "      <th></th>\n",
       "    </tr>\n",
       "  </thead>\n",
       "  <tbody>\n",
       "    <tr>\n",
       "      <th>Just me</th>\n",
       "      <td>20</td>\n",
       "      <td>0.224719</td>\n",
       "    </tr>\n",
       "    <tr>\n",
       "      <th>2</th>\n",
       "      <td>19</td>\n",
       "      <td>0.213483</td>\n",
       "    </tr>\n",
       "    <tr>\n",
       "      <th>3-5</th>\n",
       "      <td>34</td>\n",
       "      <td>0.382022</td>\n",
       "    </tr>\n",
       "    <tr>\n",
       "      <th>6-9</th>\n",
       "      <td>10</td>\n",
       "      <td>0.112360</td>\n",
       "    </tr>\n",
       "    <tr>\n",
       "      <th>10+</th>\n",
       "      <td>6</td>\n",
       "      <td>0.067416</td>\n",
       "    </tr>\n",
       "  </tbody>\n",
       "</table>\n",
       "</div>"
      ],
      "text/plain": [
       "col_0                                               count     ratio\n",
       "How many software developers typically work on ...                 \n",
       "Just me                                                20  0.224719\n",
       "2                                                      19  0.213483\n",
       "3-5                                                    34  0.382022\n",
       "6-9                                                    10  0.112360\n",
       "10+                                                     6  0.067416"
      ]
     },
     "execution_count": 26,
     "metadata": {},
     "output_type": "execute_result"
    }
   ],
   "source": [
    "software_dev_number"
   ]
  },
  {
   "cell_type": "code",
   "execution_count": 27,
   "metadata": {},
   "outputs": [
    {
     "data": {
      "image/png": "[encoded data removed]",
      "text/plain": [
       "<matplotlib.figure.Figure at 0x7faabd66c898>"
      ]
     },
     "metadata": {},
     "output_type": "display_data"
    }
   ],
   "source": [
    "freq_plotting(software_dev_number)"
   ]
  },
  {
   "cell_type": "code",
   "execution_count": 28,
   "metadata": {},
   "outputs": [],
   "source": [
    "# ## 'How many software projects are you currently involved in?',\n",
    "\n",
    "# Recategorise the answers into 10 categories\n",
    "\n",
    "\n",
    "def replace_project(x):\n",
    "\n",
    "    if pd.isnull(x):\n",
    "        return\n",
    "    if x >=1 and x <=3:\n",
    "        return \"1-3\"\n",
    "    elif x >=4 and x <=6:\n",
    "        return \"4-6\"\n",
    "    elif x >=7 and x <=9:\n",
    "        return \"7-9\"\n",
    "    elif x > 10 and x <= 12:\n",
    "        return \"10-12\"\n",
    "    elif x > 13 and x <= 15:\n",
    "        return \"13-15\"\n",
    "    elif x > 16 and x <= 18:\n",
    "        return \"16-18\"\n",
    "    elif x > 19 and x <= 21:\n",
    "        return \"19-21\"\n",
    "    elif x >= 22:\n",
    "        return \">=22\"\n",
    "\n",
    "\n",
    "df['How many software projects are you currently involved in?[recat]'] = df['How many software projects are you currently involved in?'].apply(replace_project)\n",
    "\n",
    "software_project = freq_table(df, 'How many software projects are you currently involved in?[recat]', add_ratio=True, sort_order=True)\n",
    "# Reorganise the row names that contains the categories to plot in the right order\n",
    "software_project = software_project.reindex(['1-3',\n",
    "               '4-6',\n",
    "               '7-9',\n",
    "               '10-12',\n",
    "               '13-15',\n",
    "               '16-18',\n",
    "               '19-21',\n",
    "               '>22'])\n"
   ]
  },
  {
   "cell_type": "code",
   "execution_count": 29,
   "metadata": {},
   "outputs": [
    {
     "data": {
      "text/html": [
       "<div>\n",
       "<table border=\"1\" class=\"dataframe\">\n",
       "  <thead>\n",
       "    <tr style=\"text-align: right;\">\n",
       "      <th>col_0</th>\n",
       "      <th>count</th>\n",
       "      <th>ratio</th>\n",
       "    </tr>\n",
       "    <tr>\n",
       "      <th>How many software projects are you currently involved in?[recat]</th>\n",
       "      <th></th>\n",
       "      <th></th>\n",
       "    </tr>\n",
       "  </thead>\n",
       "  <tbody>\n",
       "    <tr>\n",
       "      <th>1-3</th>\n",
       "      <td>47.0</td>\n",
       "      <td>0.573171</td>\n",
       "    </tr>\n",
       "    <tr>\n",
       "      <th>4-6</th>\n",
       "      <td>29.0</td>\n",
       "      <td>0.353659</td>\n",
       "    </tr>\n",
       "    <tr>\n",
       "      <th>7-9</th>\n",
       "      <td>4.0</td>\n",
       "      <td>0.048780</td>\n",
       "    </tr>\n",
       "    <tr>\n",
       "      <th>10-12</th>\n",
       "      <td>NaN</td>\n",
       "      <td>NaN</td>\n",
       "    </tr>\n",
       "    <tr>\n",
       "      <th>13-15</th>\n",
       "      <td>NaN</td>\n",
       "      <td>NaN</td>\n",
       "    </tr>\n",
       "    <tr>\n",
       "      <th>16-18</th>\n",
       "      <td>NaN</td>\n",
       "      <td>NaN</td>\n",
       "    </tr>\n",
       "    <tr>\n",
       "      <th>19-21</th>\n",
       "      <td>1.0</td>\n",
       "      <td>0.012195</td>\n",
       "    </tr>\n",
       "    <tr>\n",
       "      <th>&gt;22</th>\n",
       "      <td>NaN</td>\n",
       "      <td>NaN</td>\n",
       "    </tr>\n",
       "  </tbody>\n",
       "</table>\n",
       "</div>"
      ],
      "text/plain": [
       "col_0                                               count     ratio\n",
       "How many software projects are you currently in...                 \n",
       "1-3                                                  47.0  0.573171\n",
       "4-6                                                  29.0  0.353659\n",
       "7-9                                                   4.0  0.048780\n",
       "10-12                                                 NaN       NaN\n",
       "13-15                                                 NaN       NaN\n",
       "16-18                                                 NaN       NaN\n",
       "19-21                                                 1.0  0.012195\n",
       ">22                                                   NaN       NaN"
      ]
     },
     "execution_count": 29,
     "metadata": {},
     "output_type": "execute_result"
    }
   ],
   "source": [
    "software_project"
   ]
  },
  {
   "cell_type": "code",
   "execution_count": 30,
   "metadata": {},
   "outputs": [
    {
     "data": {
      "image/png": "[encoded data removed]",
      "text/plain": [
       "<matplotlib.figure.Figure at 0x7faabd5f15c0>"
      ]
     },
     "metadata": {},
     "output_type": "display_data"
    }
   ],
   "source": [
    "freq_plotting(software_project)"
   ]
  },
  {
   "cell_type": "code",
   "execution_count": 31,
   "metadata": {},
   "outputs": [],
   "source": [
    "# How many years of software development experience do you have?\n",
    "year_dev = freq_table(df, 'How many years of software development experience do you have?', add_ratio=True, sort_order=True)\n",
    "\n",
    "# Transform the float number into a integer to plot without the .0\n",
    "year_dev = year_dev.rename(lambda x: str(int(x)))\n"
   ]
  },
  {
   "cell_type": "code",
   "execution_count": 32,
   "metadata": {},
   "outputs": [
    {
     "data": {
      "text/html": [
       "<div>\n",
       "<table border=\"1\" class=\"dataframe\">\n",
       "  <thead>\n",
       "    <tr style=\"text-align: right;\">\n",
       "      <th>col_0</th>\n",
       "      <th>count</th>\n",
       "      <th>ratio</th>\n",
       "    </tr>\n",
       "    <tr>\n",
       "      <th>How many years of software development experience do you have?</th>\n",
       "      <th></th>\n",
       "      <th></th>\n",
       "    </tr>\n",
       "  </thead>\n",
       "  <tbody>\n",
       "    <tr>\n",
       "      <th>0</th>\n",
       "      <td>1</td>\n",
       "      <td>0.011628</td>\n",
       "    </tr>\n",
       "    <tr>\n",
       "      <th>42</th>\n",
       "      <td>1</td>\n",
       "      <td>0.011628</td>\n",
       "    </tr>\n",
       "    <tr>\n",
       "      <th>41</th>\n",
       "      <td>1</td>\n",
       "      <td>0.011628</td>\n",
       "    </tr>\n",
       "    <tr>\n",
       "      <th>40</th>\n",
       "      <td>1</td>\n",
       "      <td>0.011628</td>\n",
       "    </tr>\n",
       "    <tr>\n",
       "      <th>34</th>\n",
       "      <td>1</td>\n",
       "      <td>0.011628</td>\n",
       "    </tr>\n",
       "    <tr>\n",
       "      <th>17</th>\n",
       "      <td>1</td>\n",
       "      <td>0.011628</td>\n",
       "    </tr>\n",
       "    <tr>\n",
       "      <th>47</th>\n",
       "      <td>1</td>\n",
       "      <td>0.011628</td>\n",
       "    </tr>\n",
       "    <tr>\n",
       "      <th>11</th>\n",
       "      <td>1</td>\n",
       "      <td>0.011628</td>\n",
       "    </tr>\n",
       "    <tr>\n",
       "      <th>56</th>\n",
       "      <td>1</td>\n",
       "      <td>0.011628</td>\n",
       "    </tr>\n",
       "    <tr>\n",
       "      <th>7</th>\n",
       "      <td>1</td>\n",
       "      <td>0.011628</td>\n",
       "    </tr>\n",
       "    <tr>\n",
       "      <th>22</th>\n",
       "      <td>2</td>\n",
       "      <td>0.023256</td>\n",
       "    </tr>\n",
       "    <tr>\n",
       "      <th>2</th>\n",
       "      <td>2</td>\n",
       "      <td>0.023256</td>\n",
       "    </tr>\n",
       "    <tr>\n",
       "      <th>21</th>\n",
       "      <td>2</td>\n",
       "      <td>0.023256</td>\n",
       "    </tr>\n",
       "    <tr>\n",
       "      <th>16</th>\n",
       "      <td>2</td>\n",
       "      <td>0.023256</td>\n",
       "    </tr>\n",
       "    <tr>\n",
       "      <th>6</th>\n",
       "      <td>2</td>\n",
       "      <td>0.023256</td>\n",
       "    </tr>\n",
       "    <tr>\n",
       "      <th>25</th>\n",
       "      <td>3</td>\n",
       "      <td>0.034884</td>\n",
       "    </tr>\n",
       "    <tr>\n",
       "      <th>30</th>\n",
       "      <td>3</td>\n",
       "      <td>0.034884</td>\n",
       "    </tr>\n",
       "    <tr>\n",
       "      <th>4</th>\n",
       "      <td>3</td>\n",
       "      <td>0.034884</td>\n",
       "    </tr>\n",
       "    <tr>\n",
       "      <th>8</th>\n",
       "      <td>3</td>\n",
       "      <td>0.034884</td>\n",
       "    </tr>\n",
       "    <tr>\n",
       "      <th>18</th>\n",
       "      <td>4</td>\n",
       "      <td>0.046512</td>\n",
       "    </tr>\n",
       "    <tr>\n",
       "      <th>12</th>\n",
       "      <td>4</td>\n",
       "      <td>0.046512</td>\n",
       "    </tr>\n",
       "    <tr>\n",
       "      <th>3</th>\n",
       "      <td>7</td>\n",
       "      <td>0.081395</td>\n",
       "    </tr>\n",
       "    <tr>\n",
       "      <th>5</th>\n",
       "      <td>8</td>\n",
       "      <td>0.093023</td>\n",
       "    </tr>\n",
       "    <tr>\n",
       "      <th>10</th>\n",
       "      <td>9</td>\n",
       "      <td>0.104651</td>\n",
       "    </tr>\n",
       "    <tr>\n",
       "      <th>20</th>\n",
       "      <td>11</td>\n",
       "      <td>0.127907</td>\n",
       "    </tr>\n",
       "    <tr>\n",
       "      <th>15</th>\n",
       "      <td>11</td>\n",
       "      <td>0.127907</td>\n",
       "    </tr>\n",
       "  </tbody>\n",
       "</table>\n",
       "</div>"
      ],
      "text/plain": [
       "col_0                                               count     ratio\n",
       "How many years of software development experien...                 \n",
       "0                                                       1  0.011628\n",
       "42                                                      1  0.011628\n",
       "41                                                      1  0.011628\n",
       "40                                                      1  0.011628\n",
       "34                                                      1  0.011628\n",
       "17                                                      1  0.011628\n",
       "47                                                      1  0.011628\n",
       "11                                                      1  0.011628\n",
       "56                                                      1  0.011628\n",
       "7                                                       1  0.011628\n",
       "22                                                      2  0.023256\n",
       "2                                                       2  0.023256\n",
       "21                                                      2  0.023256\n",
       "16                                                      2  0.023256\n",
       "6                                                       2  0.023256\n",
       "25                                                      3  0.034884\n",
       "30                                                      3  0.034884\n",
       "4                                                       3  0.034884\n",
       "8                                                       3  0.034884\n",
       "18                                                      4  0.046512\n",
       "12                                                      4  0.046512\n",
       "3                                                       7  0.081395\n",
       "5                                                       8  0.093023\n",
       "10                                                      9  0.104651\n",
       "20                                                     11  0.127907\n",
       "15                                                     11  0.127907"
      ]
     },
     "execution_count": 32,
     "metadata": {},
     "output_type": "execute_result"
    }
   ],
   "source": [
    "year_dev"
   ]
  },
  {
   "cell_type": "code",
   "execution_count": 129,
   "metadata": {},
   "outputs": [
    {
     "data": {
      "image/png": "[encoded data removed]",
      "text/plain": [
       "<matplotlib.figure.Figure at 0x7faabc18a8d0>"
      ]
     },
     "metadata": {},
     "output_type": "display_data"
    }
   ],
   "source": [
    "freq_plotting(year_dev, sort_order=True)"
   ]
  },
  {
   "cell_type": "code",
   "execution_count": 34,
   "metadata": {},
   "outputs": [],
   "source": [
    "# ## 'How many software components from science.canarie.ca have you integrated into your projects?',\n",
    "\n",
    "software_component = freq_table(df,'How many software components from science.canarie.ca have you integrated into your projects?', add_ratio=True, sort_order=True)\n",
    "software_component = software_component.rename(lambda x: str(int(x)))\n"
   ]
  },
  {
   "cell_type": "code",
   "execution_count": 35,
   "metadata": {},
   "outputs": [
    {
     "data": {
      "text/html": [
       "<div>\n",
       "<table border=\"1\" class=\"dataframe\">\n",
       "  <thead>\n",
       "    <tr style=\"text-align: right;\">\n",
       "      <th>col_0</th>\n",
       "      <th>count</th>\n",
       "      <th>ratio</th>\n",
       "    </tr>\n",
       "    <tr>\n",
       "      <th>How many software components from science.canarie.ca have you integrated into your projects?</th>\n",
       "      <th></th>\n",
       "      <th></th>\n",
       "    </tr>\n",
       "  </thead>\n",
       "  <tbody>\n",
       "    <tr>\n",
       "      <th>3</th>\n",
       "      <td>1</td>\n",
       "      <td>0.013889</td>\n",
       "    </tr>\n",
       "    <tr>\n",
       "      <th>4</th>\n",
       "      <td>1</td>\n",
       "      <td>0.013889</td>\n",
       "    </tr>\n",
       "    <tr>\n",
       "      <th>6</th>\n",
       "      <td>1</td>\n",
       "      <td>0.013889</td>\n",
       "    </tr>\n",
       "    <tr>\n",
       "      <th>12</th>\n",
       "      <td>1</td>\n",
       "      <td>0.013889</td>\n",
       "    </tr>\n",
       "    <tr>\n",
       "      <th>50</th>\n",
       "      <td>1</td>\n",
       "      <td>0.013889</td>\n",
       "    </tr>\n",
       "    <tr>\n",
       "      <th>2</th>\n",
       "      <td>5</td>\n",
       "      <td>0.069444</td>\n",
       "    </tr>\n",
       "    <tr>\n",
       "      <th>1</th>\n",
       "      <td>6</td>\n",
       "      <td>0.083333</td>\n",
       "    </tr>\n",
       "    <tr>\n",
       "      <th>0</th>\n",
       "      <td>56</td>\n",
       "      <td>0.777778</td>\n",
       "    </tr>\n",
       "  </tbody>\n",
       "</table>\n",
       "</div>"
      ],
      "text/plain": [
       "col_0                                               count     ratio\n",
       "How many software components from science.canar...                 \n",
       "3                                                       1  0.013889\n",
       "4                                                       1  0.013889\n",
       "6                                                       1  0.013889\n",
       "12                                                      1  0.013889\n",
       "50                                                      1  0.013889\n",
       "2                                                       5  0.069444\n",
       "1                                                       6  0.083333\n",
       "0                                                      56  0.777778"
      ]
     },
     "execution_count": 35,
     "metadata": {},
     "output_type": "execute_result"
    }
   ],
   "source": [
    "software_component "
   ]
  },
  {
   "cell_type": "code",
   "execution_count": 128,
   "metadata": {},
   "outputs": [
    {
     "data": {
      "image/png": "[encoded data removed]",
      "text/plain": [
       "<matplotlib.figure.Figure at 0x7faabc257ba8>"
      ]
     },
     "metadata": {},
     "output_type": "display_data"
    }
   ],
   "source": [
    "freq_plotting(software_component, sort_order=True)"
   ]
  },
  {
   "cell_type": "code",
   "execution_count": 37,
   "metadata": {},
   "outputs": [],
   "source": [
    "# ## 'What percentage of these developers are dedicated to the project full time?',\n",
    "\n",
    "project_full_time = freq_table(df, 'What percentage of these developers are dedicated to the project full time?', add_ratio=True, sort_order=True)\n",
    "project_full_time = project_full_time.reindex(['0%',\n",
    "               '25%',\n",
    "               '50%',\n",
    "               '75%',\n",
    "               '100%'\n",
    "               ])"
   ]
  },
  {
   "cell_type": "code",
   "execution_count": 38,
   "metadata": {},
   "outputs": [
    {
     "data": {
      "text/html": [
       "<div>\n",
       "<table border=\"1\" class=\"dataframe\">\n",
       "  <thead>\n",
       "    <tr style=\"text-align: right;\">\n",
       "      <th>col_0</th>\n",
       "      <th>count</th>\n",
       "      <th>ratio</th>\n",
       "    </tr>\n",
       "    <tr>\n",
       "      <th>What percentage of these developers are dedicated to the project full time?</th>\n",
       "      <th></th>\n",
       "      <th></th>\n",
       "    </tr>\n",
       "  </thead>\n",
       "  <tbody>\n",
       "    <tr>\n",
       "      <th>0%</th>\n",
       "      <td>22</td>\n",
       "      <td>0.255814</td>\n",
       "    </tr>\n",
       "    <tr>\n",
       "      <th>25%</th>\n",
       "      <td>20</td>\n",
       "      <td>0.232558</td>\n",
       "    </tr>\n",
       "    <tr>\n",
       "      <th>50%</th>\n",
       "      <td>16</td>\n",
       "      <td>0.186047</td>\n",
       "    </tr>\n",
       "    <tr>\n",
       "      <th>75%</th>\n",
       "      <td>20</td>\n",
       "      <td>0.232558</td>\n",
       "    </tr>\n",
       "    <tr>\n",
       "      <th>100%</th>\n",
       "      <td>8</td>\n",
       "      <td>0.093023</td>\n",
       "    </tr>\n",
       "  </tbody>\n",
       "</table>\n",
       "</div>"
      ],
      "text/plain": [
       "col_0                                               count     ratio\n",
       "What percentage of these developers are dedicat...                 \n",
       "0%                                                     22  0.255814\n",
       "25%                                                    20  0.232558\n",
       "50%                                                    16  0.186047\n",
       "75%                                                    20  0.232558\n",
       "100%                                                    8  0.093023"
      ]
     },
     "execution_count": 38,
     "metadata": {},
     "output_type": "execute_result"
    }
   ],
   "source": [
    "project_full_time"
   ]
  },
  {
   "cell_type": "code",
   "execution_count": 39,
   "metadata": {},
   "outputs": [
    {
     "data": {
      "image/png": "[encoded data removed]",
      "text/plain": [
       "<matplotlib.figure.Figure at 0x7faabd602240>"
      ]
     },
     "metadata": {},
     "output_type": "display_data"
    }
   ],
   "source": [
    "freq_plotting(project_full_time)"
   ]
  },
  {
   "cell_type": "code",
   "execution_count": 40,
   "metadata": {
    "collapsed": true
   },
   "outputs": [],
   "source": [
    "var = explore_other('What development methodology does your current project use?')\n",
    "methodology_values = {'agile': 'Agile',\n",
    "                      'scrum': 'Scrum',\n",
    "                      'depends on the project': 'No formal methodology'}\n",
    "merging_others(df, var, methodology_values)"
   ]
  },
  {
   "cell_type": "code",
   "execution_count": 41,
   "metadata": {
    "collapsed": true
   },
   "outputs": [],
   "source": [
    "methodology = freq_table(df, var, add_ratio=True, sort_order=True)"
   ]
  },
  {
   "cell_type": "code",
   "execution_count": 42,
   "metadata": {},
   "outputs": [
    {
     "data": {
      "text/html": [
       "<div>\n",
       "<table border=\"1\" class=\"dataframe\">\n",
       "  <thead>\n",
       "    <tr style=\"text-align: right;\">\n",
       "      <th>col_0</th>\n",
       "      <th>count</th>\n",
       "      <th>ratio</th>\n",
       "    </tr>\n",
       "    <tr>\n",
       "      <th>What development methodology does your current project use?</th>\n",
       "      <th></th>\n",
       "      <th></th>\n",
       "    </tr>\n",
       "  </thead>\n",
       "  <tbody>\n",
       "    <tr>\n",
       "      <th>Other</th>\n",
       "      <td>1</td>\n",
       "      <td>0.011765</td>\n",
       "    </tr>\n",
       "    <tr>\n",
       "      <th>Agile</th>\n",
       "      <td>2</td>\n",
       "      <td>0.023529</td>\n",
       "    </tr>\n",
       "    <tr>\n",
       "      <th>Waterfall</th>\n",
       "      <td>6</td>\n",
       "      <td>0.070588</td>\n",
       "    </tr>\n",
       "    <tr>\n",
       "      <th>Kanban</th>\n",
       "      <td>8</td>\n",
       "      <td>0.094118</td>\n",
       "    </tr>\n",
       "    <tr>\n",
       "      <th>Scrum</th>\n",
       "      <td>12</td>\n",
       "      <td>0.141176</td>\n",
       "    </tr>\n",
       "    <tr>\n",
       "      <th>No formal methodology</th>\n",
       "      <td>56</td>\n",
       "      <td>0.658824</td>\n",
       "    </tr>\n",
       "  </tbody>\n",
       "</table>\n",
       "</div>"
      ],
      "text/plain": [
       "col_0                                               count     ratio\n",
       "What development methodology does your current ...                 \n",
       "Other                                                   1  0.011765\n",
       "Agile                                                   2  0.023529\n",
       "Waterfall                                               6  0.070588\n",
       "Kanban                                                  8  0.094118\n",
       "Scrum                                                  12  0.141176\n",
       "No formal methodology                                  56  0.658824"
      ]
     },
     "execution_count": 42,
     "metadata": {},
     "output_type": "execute_result"
    }
   ],
   "source": [
    "methodology"
   ]
  },
  {
   "cell_type": "code",
   "execution_count": 127,
   "metadata": {},
   "outputs": [
    {
     "data": {
      "image/png": "[encoded data removed]",
      "text/plain": [
       "<matplotlib.figure.Figure at 0x7faabc2c38d0>"
      ]
     },
     "metadata": {},
     "output_type": "display_data"
    }
   ],
   "source": [
    "freq_plotting(methodology, sort_order=True)"
   ]
  },
  {
   "cell_type": "code",
   "execution_count": 44,
   "metadata": {},
   "outputs": [],
   "source": [
    "var = explore_other('What type of organization do you work for?')\n",
    "merging_others(df, var)\n",
    "university_work = freq_table(df, var, add_ratio=True, sort_order=True)\n"
   ]
  },
  {
   "cell_type": "code",
   "execution_count": 45,
   "metadata": {},
   "outputs": [
    {
     "data": {
      "text/html": [
       "<div>\n",
       "<table border=\"1\" class=\"dataframe\">\n",
       "  <thead>\n",
       "    <tr style=\"text-align: right;\">\n",
       "      <th>col_0</th>\n",
       "      <th>count</th>\n",
       "      <th>ratio</th>\n",
       "    </tr>\n",
       "    <tr>\n",
       "      <th>What type of organization do you work for?</th>\n",
       "      <th></th>\n",
       "      <th></th>\n",
       "    </tr>\n",
       "  </thead>\n",
       "  <tbody>\n",
       "    <tr>\n",
       "      <th>Charity</th>\n",
       "      <td>1</td>\n",
       "      <td>0.011236</td>\n",
       "    </tr>\n",
       "    <tr>\n",
       "      <th>Other</th>\n",
       "      <td>3</td>\n",
       "      <td>0.033708</td>\n",
       "    </tr>\n",
       "    <tr>\n",
       "      <th>College</th>\n",
       "      <td>4</td>\n",
       "      <td>0.044944</td>\n",
       "    </tr>\n",
       "    <tr>\n",
       "      <th>Government department</th>\n",
       "      <td>5</td>\n",
       "      <td>0.056180</td>\n",
       "    </tr>\n",
       "    <tr>\n",
       "      <th>Private sector</th>\n",
       "      <td>7</td>\n",
       "      <td>0.078652</td>\n",
       "    </tr>\n",
       "    <tr>\n",
       "      <th>Non-profit</th>\n",
       "      <td>20</td>\n",
       "      <td>0.224719</td>\n",
       "    </tr>\n",
       "    <tr>\n",
       "      <th>University</th>\n",
       "      <td>49</td>\n",
       "      <td>0.550562</td>\n",
       "    </tr>\n",
       "  </tbody>\n",
       "</table>\n",
       "</div>"
      ],
      "text/plain": [
       "col_0                                       count     ratio\n",
       "What type of organization do you work for?                 \n",
       "Charity                                         1  0.011236\n",
       "Other                                           3  0.033708\n",
       "College                                         4  0.044944\n",
       "Government department                           5  0.056180\n",
       "Private sector                                  7  0.078652\n",
       "Non-profit                                     20  0.224719\n",
       "University                                     49  0.550562"
      ]
     },
     "execution_count": 45,
     "metadata": {},
     "output_type": "execute_result"
    }
   ],
   "source": [
    "university_work"
   ]
  },
  {
   "cell_type": "code",
   "execution_count": 46,
   "metadata": {},
   "outputs": [
    {
     "data": {
      "image/png": "[encoded data removed]",
      "text/plain": [
       "<matplotlib.figure.Figure at 0x7faabd52bef0>"
      ]
     },
     "metadata": {},
     "output_type": "display_data"
    }
   ],
   "source": [
    "freq_plotting(university_work, sort_order=True)"
   ]
  },
  {
   "cell_type": "code",
   "execution_count": 47,
   "metadata": {
    "collapsed": true
   },
   "outputs": [],
   "source": [
    "var = explore_other('In which application area do you primarily work?')\n",
    "merging_others(df, var, discipline_values)\n",
    "application_area = freq_table(df, var, add_ratio=True, sort_order=True)"
   ]
  },
  {
   "cell_type": "code",
   "execution_count": 48,
   "metadata": {},
   "outputs": [
    {
     "data": {
      "text/html": [
       "<div>\n",
       "<table border=\"1\" class=\"dataframe\">\n",
       "  <thead>\n",
       "    <tr style=\"text-align: right;\">\n",
       "      <th>col_0</th>\n",
       "      <th>count</th>\n",
       "      <th>ratio</th>\n",
       "    </tr>\n",
       "    <tr>\n",
       "      <th>In which application area do you primarily work?</th>\n",
       "      <th></th>\n",
       "      <th></th>\n",
       "    </tr>\n",
       "  </thead>\n",
       "  <tbody>\n",
       "    <tr>\n",
       "      <th>Fluid mechanics</th>\n",
       "      <td>1</td>\n",
       "      <td>0.011494</td>\n",
       "    </tr>\n",
       "    <tr>\n",
       "      <th>Information and communication services</th>\n",
       "      <td>1</td>\n",
       "      <td>0.011494</td>\n",
       "    </tr>\n",
       "    <tr>\n",
       "      <th>Robotics</th>\n",
       "      <td>1</td>\n",
       "      <td>0.011494</td>\n",
       "    </tr>\n",
       "    <tr>\n",
       "      <th>Polymer chemistry</th>\n",
       "      <td>1</td>\n",
       "      <td>0.011494</td>\n",
       "    </tr>\n",
       "    <tr>\n",
       "      <th>Industrial engineering</th>\n",
       "      <td>1</td>\n",
       "      <td>0.011494</td>\n",
       "    </tr>\n",
       "    <tr>\n",
       "      <th>Physical geography</th>\n",
       "      <td>1</td>\n",
       "      <td>0.011494</td>\n",
       "    </tr>\n",
       "    <tr>\n",
       "      <th>Statistics and probability</th>\n",
       "      <td>1</td>\n",
       "      <td>0.011494</td>\n",
       "    </tr>\n",
       "    <tr>\n",
       "      <th>Geophysics</th>\n",
       "      <td>1</td>\n",
       "      <td>0.011494</td>\n",
       "    </tr>\n",
       "    <tr>\n",
       "      <th>Physical chemistry</th>\n",
       "      <td>1</td>\n",
       "      <td>0.011494</td>\n",
       "    </tr>\n",
       "    <tr>\n",
       "      <th>Mechanical engineering</th>\n",
       "      <td>1</td>\n",
       "      <td>0.011494</td>\n",
       "    </tr>\n",
       "    <tr>\n",
       "      <th>Other studies in natural sciences and engineering</th>\n",
       "      <td>1</td>\n",
       "      <td>0.011494</td>\n",
       "    </tr>\n",
       "    <tr>\n",
       "      <th>Geoghraphical information</th>\n",
       "      <td>1</td>\n",
       "      <td>0.011494</td>\n",
       "    </tr>\n",
       "    <tr>\n",
       "      <th>Agricultural engineering</th>\n",
       "      <td>2</td>\n",
       "      <td>0.022989</td>\n",
       "    </tr>\n",
       "    <tr>\n",
       "      <th>Chemical engineering</th>\n",
       "      <td>2</td>\n",
       "      <td>0.022989</td>\n",
       "    </tr>\n",
       "    <tr>\n",
       "      <th>Biomedical engineering</th>\n",
       "      <td>2</td>\n",
       "      <td>0.022989</td>\n",
       "    </tr>\n",
       "    <tr>\n",
       "      <th>Animal biology</th>\n",
       "      <td>2</td>\n",
       "      <td>0.022989</td>\n",
       "    </tr>\n",
       "    <tr>\n",
       "      <th>Oceanography</th>\n",
       "      <td>2</td>\n",
       "      <td>0.022989</td>\n",
       "    </tr>\n",
       "    <tr>\n",
       "      <th>Life sciences research related to human health and disease</th>\n",
       "      <td>2</td>\n",
       "      <td>0.022989</td>\n",
       "    </tr>\n",
       "    <tr>\n",
       "      <th>Physics</th>\n",
       "      <td>3</td>\n",
       "      <td>0.034483</td>\n",
       "    </tr>\n",
       "    <tr>\n",
       "      <th>Health sciences</th>\n",
       "      <td>3</td>\n",
       "      <td>0.034483</td>\n",
       "    </tr>\n",
       "    <tr>\n",
       "      <th>Fuel and energy technology</th>\n",
       "      <td>3</td>\n",
       "      <td>0.034483</td>\n",
       "    </tr>\n",
       "    <tr>\n",
       "      <th>Earth science</th>\n",
       "      <td>3</td>\n",
       "      <td>0.034483</td>\n",
       "    </tr>\n",
       "    <tr>\n",
       "      <th>Theoretical physics and chemistry</th>\n",
       "      <td>3</td>\n",
       "      <td>0.034483</td>\n",
       "    </tr>\n",
       "    <tr>\n",
       "      <th>Astronomy and astrophysics</th>\n",
       "      <td>4</td>\n",
       "      <td>0.045977</td>\n",
       "    </tr>\n",
       "    <tr>\n",
       "      <th>Applied mathematics</th>\n",
       "      <td>4</td>\n",
       "      <td>0.045977</td>\n",
       "    </tr>\n",
       "    <tr>\n",
       "      <th>Bioinformatics</th>\n",
       "      <td>5</td>\n",
       "      <td>0.057471</td>\n",
       "    </tr>\n",
       "    <tr>\n",
       "      <th>Genetics</th>\n",
       "      <td>6</td>\n",
       "      <td>0.068966</td>\n",
       "    </tr>\n",
       "    <tr>\n",
       "      <th>Artificial intelligence</th>\n",
       "      <td>7</td>\n",
       "      <td>0.080460</td>\n",
       "    </tr>\n",
       "    <tr>\n",
       "      <th>Other</th>\n",
       "      <td>8</td>\n",
       "      <td>0.091954</td>\n",
       "    </tr>\n",
       "    <tr>\n",
       "      <th>Information technology</th>\n",
       "      <td>14</td>\n",
       "      <td>0.160920</td>\n",
       "    </tr>\n",
       "  </tbody>\n",
       "</table>\n",
       "</div>"
      ],
      "text/plain": [
       "col_0                                               count     ratio\n",
       "In which application area do you primarily work?                   \n",
       "Fluid mechanics                                         1  0.011494\n",
       "Information and communication services                  1  0.011494\n",
       "Robotics                                                1  0.011494\n",
       "Polymer chemistry                                       1  0.011494\n",
       "Industrial engineering                                  1  0.011494\n",
       "Physical geography                                      1  0.011494\n",
       "Statistics and probability                              1  0.011494\n",
       "Geophysics                                              1  0.011494\n",
       "Physical chemistry                                      1  0.011494\n",
       "Mechanical engineering                                  1  0.011494\n",
       "Other studies in natural sciences and engineering       1  0.011494\n",
       "Geoghraphical information                               1  0.011494\n",
       "Agricultural engineering                                2  0.022989\n",
       "Chemical engineering                                    2  0.022989\n",
       "Biomedical engineering                                  2  0.022989\n",
       "Animal biology                                          2  0.022989\n",
       "Oceanography                                            2  0.022989\n",
       "Life sciences research related to human health ...      2  0.022989\n",
       "Physics                                                 3  0.034483\n",
       "Health sciences                                         3  0.034483\n",
       "Fuel and energy technology                              3  0.034483\n",
       "Earth science                                           3  0.034483\n",
       "Theoretical physics and chemistry                       3  0.034483\n",
       "Astronomy and astrophysics                              4  0.045977\n",
       "Applied mathematics                                     4  0.045977\n",
       "Bioinformatics                                          5  0.057471\n",
       "Genetics                                                6  0.068966\n",
       "Artificial intelligence                                 7  0.080460\n",
       "Other                                                   8  0.091954\n",
       "Information technology                                 14  0.160920"
      ]
     },
     "execution_count": 48,
     "metadata": {},
     "output_type": "execute_result"
    }
   ],
   "source": [
    "application_area"
   ]
  },
  {
   "cell_type": "code",
   "execution_count": 49,
   "metadata": {},
   "outputs": [
    {
     "data": {
      "image/png": "[encoded data removed]",
      "text/plain": [
       "<matplotlib.figure.Figure at 0x7faabd28a320>"
      ]
     },
     "metadata": {},
     "output_type": "display_data"
    }
   ],
   "source": [
    "freq_plotting(application_area, sort_order=True)"
   ]
  },
  {
   "cell_type": "code",
   "execution_count": 50,
   "metadata": {
    "collapsed": true
   },
   "outputs": [],
   "source": [
    "var = explore_other('What is the nature of your current employment?')\n",
    "merging_others(df, var)\n",
    "nature_employment = freq_table(df, var, add_ratio=True, sort_order=True)"
   ]
  },
  {
   "cell_type": "code",
   "execution_count": 51,
   "metadata": {},
   "outputs": [
    {
     "data": {
      "text/html": [
       "<div>\n",
       "<table border=\"1\" class=\"dataframe\">\n",
       "  <thead>\n",
       "    <tr style=\"text-align: right;\">\n",
       "      <th>col_0</th>\n",
       "      <th>count</th>\n",
       "      <th>ratio</th>\n",
       "    </tr>\n",
       "    <tr>\n",
       "      <th>What is the nature of your current employment?</th>\n",
       "      <th></th>\n",
       "      <th></th>\n",
       "    </tr>\n",
       "  </thead>\n",
       "  <tbody>\n",
       "    <tr>\n",
       "      <th>Self-employed</th>\n",
       "      <td>1</td>\n",
       "      <td>0.011111</td>\n",
       "    </tr>\n",
       "    <tr>\n",
       "      <th>Co-op/intern</th>\n",
       "      <td>2</td>\n",
       "      <td>0.022222</td>\n",
       "    </tr>\n",
       "    <tr>\n",
       "      <th>Other</th>\n",
       "      <td>3</td>\n",
       "      <td>0.033333</td>\n",
       "    </tr>\n",
       "    <tr>\n",
       "      <th>Grad student</th>\n",
       "      <td>4</td>\n",
       "      <td>0.044444</td>\n",
       "    </tr>\n",
       "    <tr>\n",
       "      <th>Part-time</th>\n",
       "      <td>4</td>\n",
       "      <td>0.044444</td>\n",
       "    </tr>\n",
       "    <tr>\n",
       "      <th>Contract</th>\n",
       "      <td>7</td>\n",
       "      <td>0.077778</td>\n",
       "    </tr>\n",
       "    <tr>\n",
       "      <th>Full-time</th>\n",
       "      <td>69</td>\n",
       "      <td>0.766667</td>\n",
       "    </tr>\n",
       "  </tbody>\n",
       "</table>\n",
       "</div>"
      ],
      "text/plain": [
       "col_0                                           count     ratio\n",
       "What is the nature of your current employment?                 \n",
       "Self-employed                                       1  0.011111\n",
       "Co-op/intern                                        2  0.022222\n",
       "Other                                               3  0.033333\n",
       "Grad student                                        4  0.044444\n",
       "Part-time                                           4  0.044444\n",
       "Contract                                            7  0.077778\n",
       "Full-time                                          69  0.766667"
      ]
     },
     "execution_count": 51,
     "metadata": {},
     "output_type": "execute_result"
    }
   ],
   "source": [
    "nature_employment"
   ]
  },
  {
   "cell_type": "code",
   "execution_count": 52,
   "metadata": {},
   "outputs": [
    {
     "data": {
      "image/png": "[encoded data removed]",
      "text/plain": [
       "<matplotlib.figure.Figure at 0x7faabd19db38>"
      ]
     },
     "metadata": {},
     "output_type": "display_data"
    }
   ],
   "source": [
    "freq_plotting(nature_employment, sort_order=True)"
   ]
  },
  {
   "cell_type": "code",
   "execution_count": 53,
   "metadata": {
    "collapsed": true
   },
   "outputs": [],
   "source": [
    "var = explore_other('What is your Operating System of choice for development?')\n",
    "os_deploy_values = {' ': 'Several OS'}\n",
    "merging_others(df, var, os_deploy_values)\n",
    "os_development = freq_table(df, var, add_ratio=True, sort_order=True)"
   ]
  },
  {
   "cell_type": "code",
   "execution_count": 54,
   "metadata": {},
   "outputs": [
    {
     "data": {
      "text/html": [
       "<div>\n",
       "<table border=\"1\" class=\"dataframe\">\n",
       "  <thead>\n",
       "    <tr style=\"text-align: right;\">\n",
       "      <th>col_0</th>\n",
       "      <th>count</th>\n",
       "      <th>ratio</th>\n",
       "    </tr>\n",
       "    <tr>\n",
       "      <th>What is your Operating System of choice for development?</th>\n",
       "      <th></th>\n",
       "      <th></th>\n",
       "    </tr>\n",
       "  </thead>\n",
       "  <tbody>\n",
       "    <tr>\n",
       "      <th>Several os</th>\n",
       "      <td>3</td>\n",
       "      <td>0.035294</td>\n",
       "    </tr>\n",
       "    <tr>\n",
       "      <th>Mac os</th>\n",
       "      <td>17</td>\n",
       "      <td>0.200000</td>\n",
       "    </tr>\n",
       "    <tr>\n",
       "      <th>Windows</th>\n",
       "      <td>21</td>\n",
       "      <td>0.247059</td>\n",
       "    </tr>\n",
       "    <tr>\n",
       "      <th>Gnu/linux</th>\n",
       "      <td>44</td>\n",
       "      <td>0.517647</td>\n",
       "    </tr>\n",
       "  </tbody>\n",
       "</table>\n",
       "</div>"
      ],
      "text/plain": [
       "col_0                                               count     ratio\n",
       "What is your Operating System of choice for dev...                 \n",
       "Several os                                              3  0.035294\n",
       "Mac os                                                 17  0.200000\n",
       "Windows                                                21  0.247059\n",
       "Gnu/linux                                              44  0.517647"
      ]
     },
     "execution_count": 54,
     "metadata": {},
     "output_type": "execute_result"
    }
   ],
   "source": [
    "os_development"
   ]
  },
  {
   "cell_type": "code",
   "execution_count": 55,
   "metadata": {},
   "outputs": [
    {
     "data": {
      "image/png": "[encoded data removed]",
      "text/plain": [
       "<matplotlib.figure.Figure at 0x7faabd0ec1d0>"
      ]
     },
     "metadata": {},
     "output_type": "display_data"
    }
   ],
   "source": [
    "freq_plotting(os_development, sort_order=True)"
   ]
  },
  {
   "cell_type": "code",
   "execution_count": 56,
   "metadata": {
    "collapsed": true
   },
   "outputs": [],
   "source": [
    "var = explore_other('What is your Operating System of choice for deployment?')\n",
    "os_dev_values = {'linux': 'Several OS',\n",
    "                 'windows': 'Several OS',\n",
    "                 'mac': 'Several OS'}\n",
    "merging_others(df, var, os_dev_values)\n",
    "os_development = freq_table(df, var, add_ratio=True, sort_order=True)"
   ]
  },
  {
   "cell_type": "code",
   "execution_count": 57,
   "metadata": {},
   "outputs": [
    {
     "data": {
      "text/html": [
       "<div>\n",
       "<table border=\"1\" class=\"dataframe\">\n",
       "  <thead>\n",
       "    <tr style=\"text-align: right;\">\n",
       "      <th>col_0</th>\n",
       "      <th>count</th>\n",
       "      <th>ratio</th>\n",
       "    </tr>\n",
       "    <tr>\n",
       "      <th>What is your Operating System of choice for deployment?</th>\n",
       "      <th></th>\n",
       "      <th></th>\n",
       "    </tr>\n",
       "  </thead>\n",
       "  <tbody>\n",
       "    <tr>\n",
       "      <th>Android</th>\n",
       "      <td>1</td>\n",
       "      <td>0.011628</td>\n",
       "    </tr>\n",
       "    <tr>\n",
       "      <th>Other</th>\n",
       "      <td>2</td>\n",
       "      <td>0.023256</td>\n",
       "    </tr>\n",
       "    <tr>\n",
       "      <th>Ios</th>\n",
       "      <td>3</td>\n",
       "      <td>0.034884</td>\n",
       "    </tr>\n",
       "    <tr>\n",
       "      <th>Several os</th>\n",
       "      <td>3</td>\n",
       "      <td>0.034884</td>\n",
       "    </tr>\n",
       "    <tr>\n",
       "      <th>Mac os</th>\n",
       "      <td>7</td>\n",
       "      <td>0.081395</td>\n",
       "    </tr>\n",
       "    <tr>\n",
       "      <th>Windows</th>\n",
       "      <td>16</td>\n",
       "      <td>0.186047</td>\n",
       "    </tr>\n",
       "    <tr>\n",
       "      <th>Gnu/linux</th>\n",
       "      <td>54</td>\n",
       "      <td>0.627907</td>\n",
       "    </tr>\n",
       "  </tbody>\n",
       "</table>\n",
       "</div>"
      ],
      "text/plain": [
       "col_0                                               count     ratio\n",
       "What is your Operating System of choice for dep...                 \n",
       "Android                                                 1  0.011628\n",
       "Other                                                   2  0.023256\n",
       "Ios                                                     3  0.034884\n",
       "Several os                                              3  0.034884\n",
       "Mac os                                                  7  0.081395\n",
       "Windows                                                16  0.186047\n",
       "Gnu/linux                                              54  0.627907"
      ]
     },
     "execution_count": 57,
     "metadata": {},
     "output_type": "execute_result"
    }
   ],
   "source": [
    "os_development"
   ]
  },
  {
   "cell_type": "code",
   "execution_count": 58,
   "metadata": {},
   "outputs": [
    {
     "data": {
      "image/png": "[encoded data removed]",
      "text/plain": [
       "<matplotlib.figure.Figure at 0x7faabd206c88>"
      ]
     },
     "metadata": {},
     "output_type": "display_data"
    }
   ],
   "source": [
    "freq_plotting(os_development, sort_order=True)"
   ]
  },
  {
   "cell_type": "code",
   "execution_count": 59,
   "metadata": {},
   "outputs": [],
   "source": [
    "time_activity = ['On average, how much of your time is spent developing software?',\n",
    "                 'On average, how much of your time is spent on research?',\n",
    "                 'On average, how much of the time you spend developing software is spent on new development/enhancement?',\n",
    "                 'On average, how much of the time you spend developing software is devoted to maintenance and support activities?',\n",
    "                 'On average, how much time do you spend on management?',\n",
    "                 'On average, how much time do you spend on other activities?']\n",
    "recode_time = {'never': '1',\n",
    "               '5': '5',\n",
    "               '10': '10'}\n",
    "for i in time_activity:\n",
    "    df[i] = df[i].apply(recode_values, args=(recode_time,))\n",
    "\n",
    "\n",
    "# Calculate the average of all the time_activity questions and plotting them\n",
    "\n",
    "# Convert the different column to an int value to be able to calculate the mean after\n",
    "# The option 'coerce' is needed to force passing the NaN values\n",
    "df[time_activity] = df[time_activity].apply(pd.to_numeric, errors='coerce')\n",
    "mean_activity = df[time_activity].mean(axis=0)"
   ]
  },
  {
   "cell_type": "code",
   "execution_count": 60,
   "metadata": {},
   "outputs": [
    {
     "data": {
      "text/plain": [
       "On average, how much time do you spend on other activities?                                                         2.988506\n",
       "On average, how much time do you spend on management?                                                               3.337079\n",
       "On average, how much of the time you spend developing software is devoted to maintenance and support activities?    3.400000\n",
       "On average, how much of your time is spent on research?                                                             4.438202\n",
       "On average, how much of your time is spent developing software?                                                     5.077778\n",
       "On average, how much of the time you spend developing software is spent on new development/enhancement?             5.677778\n",
       "dtype: float64"
      ]
     },
     "execution_count": 60,
     "metadata": {},
     "output_type": "execute_result"
    }
   ],
   "source": [
    "mean_activity.sort_values()"
   ]
  },
  {
   "cell_type": "code",
   "execution_count": 61,
   "metadata": {},
   "outputs": [
    {
     "data": {
      "text/plain": [
       "<matplotlib.axes._subplots.AxesSubplot at 0x7faabd6c7780>"
      ]
     },
     "execution_count": 61,
     "metadata": {},
     "output_type": "execute_result"
    },
    {
     "data": {
      "image/png": "[encoded data removed]",
      "text/plain": [
       "<matplotlib.figure.Figure at 0x7faabd537a20>"
      ]
     },
     "metadata": {},
     "output_type": "display_data"
    }
   ],
   "source": [
    "mean_activity.sort_values().plot(kind='barh')"
   ]
  },
  {
   "cell_type": "code",
   "execution_count": 62,
   "metadata": {
    "collapsed": true
   },
   "outputs": [],
   "source": [
    "hope = ['What would you hope to get out of such an organization? [Networking]',\n",
    "        'What would you hope to get out of such an organization? [Software collaborations]',\n",
    "        'What would you hope to get out of such an organization? [Research collaborations]',\n",
    "        'What would you hope to get out of such an organization? [Training]',\n",
    "        'What would you hope to get out of such an organization? [Research Software Standards and Interoperability]',\n",
    "        'What would you hope to get out of such an organization? [Job opportunities]']\n",
    "\n",
    "# # The column '[Other]' contain only one 'Colloque?' and is therefore discarded\n",
    "\n",
    "# Plotting a bar chart\n",
    "count_hope = count_unique_value(df, hope, rename_columns=True, dropna=True)\n"
   ]
  },
  {
   "cell_type": "code",
   "execution_count": 63,
   "metadata": {},
   "outputs": [
    {
     "data": {
      "text/plain": [
       "Job opportunities                                   19\n",
       "Research collaborations                             33\n",
       "Research Software Standards and Interoperability    34\n",
       "Training                                            38\n",
       "Software collaborations                             42\n",
       "Networking                                          46\n",
       "Name: Yes, dtype: int64"
      ]
     },
     "execution_count": 63,
     "metadata": {},
     "output_type": "execute_result"
    }
   ],
   "source": [
    "count_hope['Yes'].sort_values()"
   ]
  },
  {
   "cell_type": "code",
   "execution_count": 64,
   "metadata": {},
   "outputs": [
    {
     "data": {
      "text/plain": [
       "<matplotlib.axes._subplots.AxesSubplot at 0x7faabd18da58>"
      ]
     },
     "execution_count": 64,
     "metadata": {},
     "output_type": "execute_result"
    },
    {
     "data": {
      "image/png": "[encoded data removed]",
      "text/plain": [
       "<matplotlib.figure.Figure at 0x7faabd67c828>"
      ]
     },
     "metadata": {},
     "output_type": "display_data"
    }
   ],
   "source": [
    "count_hope['Yes'].sort_values().plot(kind='bar')"
   ]
  },
  {
   "cell_type": "code",
   "execution_count": 65,
   "metadata": {
    "collapsed": true
   },
   "outputs": [],
   "source": [
    "fund = [\"How is your current research software work funded? [Employer]\",\n",
    "        \"How is your current research software work funded? [CANARIE]\",\n",
    "        \"How is your current research software work funded? [Canadian Foundation for Innovation (CFI)]\",\n",
    "        \"How is your current research software work funded? [Canadian Institutes of Health Research (CIHR)]\",\n",
    "        \"How is your current research software work funded? [Genome Canada]\",\n",
    "        \"How is your current research software work funded? [Natural Sciences and Engineering Research Council of Canada (NSERC)]\",\n",
    "        \"How is your current research software work funded? [Social Sciences and Humanities Research Council (SSHRC)]\",\n",
    "        \"How is your current research software work funded? [I don't know]\"]\n",
    "\n",
    "# The Others column as the following answers\n",
    "df[\"How is your current research software work funded? [Other]\"].unique()\n",
    "\n",
    "# The different funding\n",
    "count_fund = count_unique_value(df, fund, rename_columns=True)\n"
   ]
  },
  {
   "cell_type": "code",
   "execution_count": 66,
   "metadata": {},
   "outputs": [
    {
     "data": {
      "text/plain": [
       "Social Sciences and Humanities Research Council (SSHRC)                 3\n",
       "Genome Canada                                                           8\n",
       "I don't know                                                            9\n",
       "Canadian Institutes of Health Research (CIHR)                          10\n",
       "CANARIE                                                                15\n",
       "Canadian Foundation for Innovation (CFI)                               18\n",
       "Natural Sciences and Engineering Research Council of Canada (NSERC)    39\n",
       "Employer                                                               51\n",
       "Name: Yes, dtype: int64"
      ]
     },
     "execution_count": 66,
     "metadata": {},
     "output_type": "execute_result"
    }
   ],
   "source": [
    "count_fund['Yes'].sort_values()"
   ]
  },
  {
   "cell_type": "code",
   "execution_count": 67,
   "metadata": {},
   "outputs": [
    {
     "data": {
      "text/plain": [
       "<matplotlib.axes._subplots.AxesSubplot at 0x7faabd746b00>"
      ]
     },
     "execution_count": 67,
     "metadata": {},
     "output_type": "execute_result"
    },
    {
     "data": {
      "image/png": "[encoded data removed]",
      "text/plain": [
       "<matplotlib.figure.Figure at 0x7faabd3b2198>"
      ]
     },
     "metadata": {},
     "output_type": "display_data"
    }
   ],
   "source": [
    "count_fund['Yes'].sort_values().plot(kind='bar')"
   ]
  },
  {
   "cell_type": "code",
   "execution_count": 68,
   "metadata": {
    "collapsed": true
   },
   "outputs": [],
   "source": [
    "plateform = ['What platform(s) are your research software projects deployed on? [Compute Canada HPC]',\n",
    "             'What platform(s) are your research software projects deployed on? [University computer centre]',\n",
    "             'What platform(s) are your research software projects deployed on? [Other HPC]',\n",
    "             'What platform(s) are your research software projects deployed on? [Cloud service]',\n",
    "             'What platform(s) are your research software projects deployed on? [Stand-alone server(s)]',\n",
    "             'What platform(s) are your research software projects deployed on? [Laptop/desktop]',\n",
    "             'What platform(s) are your research software projects deployed on? [Mobile]']\n",
    "\n",
    "# The different values for others:\n",
    "freq_table(df, \"What platform(s) are your research software projects deployed on? [Other]\")\n",
    "\n",
    "\n",
    "count_plateform = count_unique_value(df, plateform, rename_columns=True)\n",
    "\n",
    "\n"
   ]
  },
  {
   "cell_type": "code",
   "execution_count": 69,
   "metadata": {},
   "outputs": [
    {
     "data": {
      "text/plain": [
       "Mobile                         8\n",
       "Cloud service                 19\n",
       "University computer centre    20\n",
       "Other HPC                     20\n",
       "Compute Canada HPC            33\n",
       "Stand-alone server(s)         45\n",
       "Laptop/desktop                52\n",
       "Name: Yes, dtype: int64"
      ]
     },
     "execution_count": 69,
     "metadata": {},
     "output_type": "execute_result"
    }
   ],
   "source": [
    "count_plateform['Yes'].sort_values()"
   ]
  },
  {
   "cell_type": "code",
   "execution_count": 70,
   "metadata": {},
   "outputs": [
    {
     "data": {
      "text/plain": [
       "<matplotlib.axes._subplots.AxesSubplot at 0x7faabd247898>"
      ]
     },
     "execution_count": 70,
     "metadata": {},
     "output_type": "execute_result"
    },
    {
     "data": {
      "image/png": "[encoded data removed]",
      "text/plain": [
       "<matplotlib.figure.Figure at 0x7faabd40c630>"
      ]
     },
     "metadata": {},
     "output_type": "display_data"
    }
   ],
   "source": [
    "count_plateform['Yes'].sort_values().plot(kind='bar')"
   ]
  },
  {
   "cell_type": "code",
   "execution_count": 71,
   "metadata": {
    "collapsed": true
   },
   "outputs": [],
   "source": [
    "testing = ['How are your projects typically tested? [No formal testing]',\n",
    "           'How are your projects typically tested? [The developers do their own testing]',\n",
    "           'How are your projects typically tested? [Dedicated test engineers]',\n",
    "           'How are your projects typically tested? [User testing]']\n",
    "\n",
    "count_testing = count_unique_value(df, testing, rename_columns=True)\n"
   ]
  },
  {
   "cell_type": "code",
   "execution_count": 72,
   "metadata": {},
   "outputs": [
    {
     "data": {
      "text/plain": [
       "No formal testing                      10\n",
       "Dedicated test engineers               11\n",
       "User testing                           49\n",
       "The developers do their own testing    81\n",
       "Name: Yes, dtype: int64"
      ]
     },
     "execution_count": 72,
     "metadata": {},
     "output_type": "execute_result"
    }
   ],
   "source": [
    "count_testing['Yes'].sort_values()"
   ]
  },
  {
   "cell_type": "code",
   "execution_count": 73,
   "metadata": {},
   "outputs": [
    {
     "data": {
      "text/plain": [
       "<matplotlib.axes._subplots.AxesSubplot at 0x7faabd505908>"
      ]
     },
     "execution_count": 73,
     "metadata": {},
     "output_type": "execute_result"
    },
    {
     "data": {
      "image/png": "[encoded data removed]",
      "text/plain": [
       "<matplotlib.figure.Figure at 0x7faabd5b8710>"
      ]
     },
     "metadata": {},
     "output_type": "display_data"
    }
   ],
   "source": [
    "count_testing['Yes'].sort_values().plot(kind='bar')"
   ]
  },
  {
   "cell_type": "code",
   "execution_count": 74,
   "metadata": {
    "collapsed": true
   },
   "outputs": [],
   "source": [
    "various_q = ['Do your research software projects typically include a project manager?',\n",
    "             'Do any of your current projects accommodate the open/public sharing of data?',\n",
    "             'Is the creation of a Digital Object Identifier (DOI) and metadata for individual assets supported?',\n",
    "             'Have you developed software that is accessed from multiple institutions?',\n",
    "             'Do any of your current or previous projects make use of the Canadian Access Federation (CAF) Federated Identity Management (FIM) service?',\n",
    "             'Have you ever visited the Research Software Registry at science.canarie.ca?',\n",
    "             'Do you consider yourself a professional software developer?']\n",
    "\n",
    "count_various_q = count_unique_value(df, various_q, rename_columns=False, dropna=True)\n"
   ]
  },
  {
   "cell_type": "code",
   "execution_count": 75,
   "metadata": {},
   "outputs": [
    {
     "data": {
      "text/plain": [
       "Do any of your current or previous projects make use of the Canadian Access Federation (CAF) Federated Identity Management (FIM) service?     5.0\n",
       "Is the creation of a Digital Object Identifier (DOI) and metadata for individual assets supported?                                           14.0\n",
       "Have you ever visited the Research Software Registry at science.canarie.ca?                                                                  32.0\n",
       "Do any of your current projects accommodate the open/public sharing of data?                                                                 36.0\n",
       "Do your research software projects typically include a project manager?                                                                      41.0\n",
       "Do you consider yourself a professional software developer?                                                                                  44.0\n",
       "Have you developed software that is accessed from multiple institutions?                                                                     60.0\n",
       "Name: Yes, dtype: float64"
      ]
     },
     "execution_count": 75,
     "metadata": {},
     "output_type": "execute_result"
    }
   ],
   "source": [
    "count_various_q['Yes'].sort_values()"
   ]
  },
  {
   "cell_type": "code",
   "execution_count": 100,
   "metadata": {},
   "outputs": [
    {
     "data": {
      "text/plain": [
       "<matplotlib.axes._subplots.AxesSubplot at 0x7faabcd72d30>"
      ]
     },
     "execution_count": 100,
     "metadata": {},
     "output_type": "execute_result"
    },
    {
     "data": {
      "image/png": "[encoded data removed]",
      "text/plain": [
       "<matplotlib.figure.Figure at 0x7faabd3997f0>"
      ]
     },
     "metadata": {},
     "output_type": "display_data"
    }
   ],
   "source": [
    "count_various_q['Yes'].sort_values().plot(kind='barh')"
   ]
  },
  {
   "cell_type": "code",
   "execution_count": 77,
   "metadata": {
    "collapsed": true
   },
   "outputs": [],
   "source": [
    "organization = ['Do you work within a group that provides software development help or expertise to researchers from across your organization?',\n",
    "                'Is there such a group within your organization?',\n",
    "                'Do you think such a group would have value?',\n",
    "                'Would you be interested in participating in such a group?']\n",
    "\n",
    "count_orga = count_unique_value(df, organization, dropna=True)\n"
   ]
  },
  {
   "cell_type": "code",
   "execution_count": 78,
   "metadata": {},
   "outputs": [
    {
     "data": {
      "text/plain": [
       "Is there such a group within your organization?                                                                                   8\n",
       "Would you be interested in participating in such a group?                                                                        12\n",
       "Do you think such a group would have value?                                                                                      16\n",
       "Do you work within a group that provides software development help or expertise to researchers from across your organization?    48\n",
       "Name: Yes, dtype: int64"
      ]
     },
     "execution_count": 78,
     "metadata": {},
     "output_type": "execute_result"
    }
   ],
   "source": [
    "count_orga['Yes'].sort_values()"
   ]
  },
  {
   "cell_type": "code",
   "execution_count": 79,
   "metadata": {},
   "outputs": [
    {
     "data": {
      "text/plain": [
       "<matplotlib.axes._subplots.AxesSubplot at 0x7faabd62c6d8>"
      ]
     },
     "execution_count": 79,
     "metadata": {},
     "output_type": "execute_result"
    },
    {
     "data": {
      "image/png": "[encoded data removed]",
      "text/plain": [
       "<matplotlib.figure.Figure at 0x7faabd0e4dd8>"
      ]
     },
     "metadata": {},
     "output_type": "display_data"
    }
   ],
   "source": [
    "count_orga['Yes'].sort_values().plot(kind='barh')"
   ]
  },
  {
   "cell_type": "code",
   "execution_count": 80,
   "metadata": {
    "collapsed": true
   },
   "outputs": [],
   "source": [
    "recognition = ['Have you contributed software to research that has been published in a journal or presented at a conference?',\n",
    "               'In general, when your software contributes to a paper, are you acknowledged in that paper?',\n",
    "               'Are you generally named as the main author of the paper?',\n",
    "               'Are you generally named as a co-author of the paper?',\n",
    "               'Are you generally acknowledged in the main paper?']\n",
    "\n",
    "count_recognition = count_unique_value(df, recognition, dropna=True)\n"
   ]
  },
  {
   "cell_type": "code",
   "execution_count": 81,
   "metadata": {},
   "outputs": [
    {
     "data": {
      "text/plain": [
       "Are you generally named as the main author of the paper?                                                        24\n",
       "Are you generally acknowledged in the main paper?                                                               43\n",
       "Are you generally named as a co-author of the paper?                                                            45\n",
       "In general, when your software contributes to a paper, are you acknowledged in that paper?                      60\n",
       "Have you contributed software to research that has been published in a journal or presented at a conference?    70\n",
       "Name: Yes, dtype: int64"
      ]
     },
     "execution_count": 81,
     "metadata": {},
     "output_type": "execute_result"
    }
   ],
   "source": [
    "count_recognition['Yes'].sort_values()"
   ]
  },
  {
   "cell_type": "code",
   "execution_count": 82,
   "metadata": {},
   "outputs": [
    {
     "data": {
      "text/plain": [
       "<matplotlib.axes._subplots.AxesSubplot at 0x7faabd162780>"
      ]
     },
     "execution_count": 82,
     "metadata": {},
     "output_type": "execute_result"
    },
    {
     "data": {
      "image/png": "[encoded data removed]",
      "text/plain": [
       "<matplotlib.figure.Figure at 0x7faabd099898>"
      ]
     },
     "metadata": {},
     "output_type": "display_data"
    }
   ],
   "source": [
    "count_recognition['Yes'].sort_values().plot(kind='barh')"
   ]
  },
  {
   "cell_type": "code",
   "execution_count": 83,
   "metadata": {},
   "outputs": [
    {
     "data": {
      "text/html": [
       "<div>\n",
       "<table border=\"1\" class=\"dataframe\">\n",
       "  <thead>\n",
       "    <tr style=\"text-align: right;\">\n",
       "      <th></th>\n",
       "      <th>No</th>\n",
       "      <th>Yes</th>\n",
       "    </tr>\n",
       "  </thead>\n",
       "  <tbody>\n",
       "    <tr>\n",
       "      <th>Are you a member of an association of Research Software Developers (e.g UK RSE)?</th>\n",
       "      <td>85</td>\n",
       "      <td>3</td>\n",
       "    </tr>\n",
       "    <tr>\n",
       "      <th>Would you be interested in joining such an organization if one was formed in Canada?</th>\n",
       "      <td>20</td>\n",
       "      <td>59</td>\n",
       "    </tr>\n",
       "  </tbody>\n",
       "</table>\n",
       "</div>"
      ],
      "text/plain": [
       "                                                    No  Yes\n",
       "Are you a member of an association of Research ...  85    3\n",
       "Would you be interested in joining such an orga...  20   59"
      ]
     },
     "execution_count": 83,
     "metadata": {},
     "output_type": "execute_result"
    }
   ],
   "source": [
    "rse_canada = ['Are you a member of an association of Research Software Developers (e.g UK RSE)?',\n",
    "              'Would you be interested in joining such an organization if one was formed in Canada?']\n",
    "count_rse_canada = count_unique_value(df, rse_canada, dropna=True)\n",
    "count_rse_canada"
   ]
  },
  {
   "cell_type": "code",
   "execution_count": 84,
   "metadata": {},
   "outputs": [
    {
     "data": {
      "text/plain": [
       "Are you a member of an association of Research Software Developers (e.g UK RSE)?         3\n",
       "Would you be interested in joining such an organization if one was formed in Canada?    59\n",
       "Name: Yes, dtype: int64"
      ]
     },
     "execution_count": 84,
     "metadata": {},
     "output_type": "execute_result"
    }
   ],
   "source": [
    "count_rse_canada['Yes']"
   ]
  },
  {
   "cell_type": "code",
   "execution_count": 85,
   "metadata": {},
   "outputs": [
    {
     "data": {
      "text/plain": [
       "<matplotlib.axes._subplots.AxesSubplot at 0x7faabd5eda58>"
      ]
     },
     "execution_count": 85,
     "metadata": {},
     "output_type": "execute_result"
    },
    {
     "data": {
      "image/png": "[encoded data removed]",
      "text/plain": [
       "<matplotlib.figure.Figure at 0x7faabd222160>"
      ]
     },
     "metadata": {},
     "output_type": "display_data"
    }
   ],
   "source": [
    "count_rse_canada['Yes'].plot(kind='barh', title='UK RSE and Canada -- Only Yes answers')\n"
   ]
  },
  {
   "cell_type": "code",
   "execution_count": 156,
   "metadata": {},
   "outputs": [],
   "source": [
    "conference_YN = 'Have you ever presented your software work at a conference or workshop?'\n",
    "count_conference = freq_table(df, conference_YN, add_ratio=True, sort_order=True)"
   ]
  },
  {
   "cell_type": "code",
   "execution_count": 157,
   "metadata": {},
   "outputs": [
    {
     "data": {
      "text/html": [
       "<div>\n",
       "<table border=\"1\" class=\"dataframe\">\n",
       "  <thead>\n",
       "    <tr style=\"text-align: right;\">\n",
       "      <th>col_0</th>\n",
       "      <th>count</th>\n",
       "      <th>ratio</th>\n",
       "    </tr>\n",
       "    <tr>\n",
       "      <th>Have you ever presented your software work at a conference or workshop?</th>\n",
       "      <th></th>\n",
       "      <th></th>\n",
       "    </tr>\n",
       "  </thead>\n",
       "  <tbody>\n",
       "    <tr>\n",
       "      <th>No</th>\n",
       "      <td>33</td>\n",
       "      <td>0.4125</td>\n",
       "    </tr>\n",
       "    <tr>\n",
       "      <th>Yes</th>\n",
       "      <td>47</td>\n",
       "      <td>0.5875</td>\n",
       "    </tr>\n",
       "  </tbody>\n",
       "</table>\n",
       "</div>"
      ],
      "text/plain": [
       "col_0                                               count   ratio\n",
       "Have you ever presented your software work at a...               \n",
       "No                                                     33  0.4125\n",
       "Yes                                                    47  0.5875"
      ]
     },
     "execution_count": 157,
     "metadata": {},
     "output_type": "execute_result"
    }
   ],
   "source": [
    "count_conference"
   ]
  },
  {
   "cell_type": "code",
   "execution_count": 163,
   "metadata": {},
   "outputs": [
    {
     "data": {
      "image/png": "[encoded data removed]",
      "text/plain": [
       "<matplotlib.figure.Figure at 0x7faabc917518>"
      ]
     },
     "metadata": {},
     "output_type": "display_data"
    }
   ],
   "source": [
    "freq_plotting(count_conference)"
   ]
  },
  {
   "cell_type": "code",
   "execution_count": 167,
   "metadata": {},
   "outputs": [
    {
     "data": {
      "text/html": [
       "<div>\n",
       "<table border=\"1\" class=\"dataframe\">\n",
       "  <thead>\n",
       "    <tr style=\"text-align: right;\">\n",
       "      <th></th>\n",
       "      <th>count</th>\n",
       "    </tr>\n",
       "    <tr>\n",
       "      <th>Which conference(s)/workshop(s)?</th>\n",
       "      <th></th>\n",
       "    </tr>\n",
       "  </thead>\n",
       "  <tbody>\n",
       "    <tr>\n",
       "      <th>1. A. Kosakian, M. Secanell, D. Novitski, and S. Holdcroft, “Numerical estimation of oxygen transport properties in thin polymer membranes.” Proceedings of the Canadian Society for Mechanical Engineering International Congress, Kelowna, BC, Canada, June 26-29, 2016\\n2. A. Kosakian, M. Secanell, D. Novitski, and S. Holdcroft, “A numerical algorithm for estimation of oxygen transport properties in thin polymer membranes.”  5th Annual CaRPE-FC Technical Review Meeting, Vancouver, BC, Canada, May 2-3, 2016 (talk and poster)</th>\n",
       "      <td>1</td>\n",
       "    </tr>\n",
       "    <tr>\n",
       "      <th>High Performance Computing Symposium</th>\n",
       "      <td>1</td>\n",
       "    </tr>\n",
       "    <tr>\n",
       "      <th>Human Brain Mapping\\nBrainhack\\nHPCS</th>\n",
       "      <td>1</td>\n",
       "    </tr>\n",
       "    <tr>\n",
       "      <th>ICDCS, IPCCC, MASCOTS, IWQoS, LCN, ACM Multimedia</th>\n",
       "      <td>1</td>\n",
       "    </tr>\n",
       "    <tr>\n",
       "      <th>IEEE ICCI*CC 2016\\nSAM, WorldComp 2016</th>\n",
       "      <td>1</td>\n",
       "    </tr>\n",
       "    <tr>\n",
       "      <th>In previous position at ESRI User's Conference &amp; Developer's Summit and at company user's conference.</th>\n",
       "      <td>1</td>\n",
       "    </tr>\n",
       "    <tr>\n",
       "      <th>It was years ago, as a student working for a professor who was working on a model to statistically sample coal composition.  (to predict usage based on that composition). He took me &amp; the software to a conference to show it off. Since then, no.</th>\n",
       "      <td>1</td>\n",
       "    </tr>\n",
       "    <tr>\n",
       "      <th>Many - the software is often part of the research project</th>\n",
       "      <td>1</td>\n",
       "    </tr>\n",
       "    <tr>\n",
       "      <th>HPCS</th>\n",
       "      <td>1</td>\n",
       "    </tr>\n",
       "    <tr>\n",
       "      <th>Many. American Chemical Society, Canadian Society for Chemistry, CECAM workshops, deMon Developers Workshop, Topical conferences on multiscale simulations of materials and biomaterials.</th>\n",
       "      <td>1</td>\n",
       "    </tr>\n",
       "    <tr>\n",
       "      <th>OpenStack developers conference (Paris, Portland, Vancouver)</th>\n",
       "      <td>1</td>\n",
       "    </tr>\n",
       "    <tr>\n",
       "      <th>Plusieurs colloques et journées technos au CRIM. Canarie Summit.</th>\n",
       "      <td>1</td>\n",
       "    </tr>\n",
       "    <tr>\n",
       "      <th>REDCap (Research Electronic Data Capture) International  conference in 2016  -  North Carolina, USA</th>\n",
       "      <td>1</td>\n",
       "    </tr>\n",
       "    <tr>\n",
       "      <th>SC 15, IPDPS, ICS</th>\n",
       "      <td>1</td>\n",
       "    </tr>\n",
       "    <tr>\n",
       "      <th>SIGMOD, WebDB, VLDB, ICDE</th>\n",
       "      <td>1</td>\n",
       "    </tr>\n",
       "    <tr>\n",
       "      <th>Society for American Archaeology</th>\n",
       "      <td>1</td>\n",
       "    </tr>\n",
       "    <tr>\n",
       "      <th>Too many to count, really -- about 3-4 per year.</th>\n",
       "      <td>1</td>\n",
       "    </tr>\n",
       "    <tr>\n",
       "      <th>North American Symposium on Bat Research, Ecological Society of America, Association des Biologistes du Québec (workshop)</th>\n",
       "      <td>1</td>\n",
       "    </tr>\n",
       "    <tr>\n",
       "      <th>Gordon Research Seminar (2015), Gordon Research Conference (2015), 228th ECS Meeting (2014)</th>\n",
       "      <td>1</td>\n",
       "    </tr>\n",
       "    <tr>\n",
       "      <th>GLBIO</th>\n",
       "      <td>1</td>\n",
       "    </tr>\n",
       "    <tr>\n",
       "      <th>GECCO\\nBuilding Simulation\\nCISBAT</th>\n",
       "      <td>1</td>\n",
       "    </tr>\n",
       "    <tr>\n",
       "      <th>2015 Symposium on Digital Earth, GLATOS, OTN Symposiums/workshops, US IOOS DMAC, various telemetry conferences in US and Europe</th>\n",
       "      <td>1</td>\n",
       "    </tr>\n",
       "    <tr>\n",
       "      <th>A presentation I gave explicitly about a software development project I lead was presented at the High Performance Computing Symposium (HPCS) in Halifax NS, 2014.  I also present aspects of the algorithms that I (and my team) develop and integrate into software products at all of the conferences I attend, including recently the Canadian Chemistry Conference and Exhibition and Pacifichem.</th>\n",
       "      <td>1</td>\n",
       "    </tr>\n",
       "    <tr>\n",
       "      <th>Astronomical Data Analysis Software and Systems (ADASS)</th>\n",
       "      <td>1</td>\n",
       "    </tr>\n",
       "    <tr>\n",
       "      <th>Boreal Ecosystem Recovery and Assessment Stakeholder Workshop 2016\\nCanadian Institute of Forestry SEISMIC LINE RESTORATION TECHNICAL SESSION 2016\\nTECTERRA Geomatics Showcase 2015</th>\n",
       "      <td>1</td>\n",
       "    </tr>\n",
       "    <tr>\n",
       "      <th>CANARIE Workshop\\nESGF Conference\\nAGU\\nCRV\\nGeomatique 2016\\nHPCS 2015</th>\n",
       "      <td>1</td>\n",
       "    </tr>\n",
       "    <tr>\n",
       "      <th>CANHEIT</th>\n",
       "      <td>1</td>\n",
       "    </tr>\n",
       "    <tr>\n",
       "      <th>CANHEIT, CAP</th>\n",
       "      <td>1</td>\n",
       "    </tr>\n",
       "    <tr>\n",
       "      <th>COMBINE and HARMONY workshops (BioPAX related), ISMB...</th>\n",
       "      <td>1</td>\n",
       "    </tr>\n",
       "    <tr>\n",
       "      <th>CONLL, ACFAS, COMPUTERM, TIA</th>\n",
       "      <td>1</td>\n",
       "    </tr>\n",
       "    <tr>\n",
       "      <th>Canadian High Performance Computing, CASCON, CMBEC</th>\n",
       "      <td>1</td>\n",
       "    </tr>\n",
       "    <tr>\n",
       "      <th>CarPEFC</th>\n",
       "      <td>1</td>\n",
       "    </tr>\n",
       "    <tr>\n",
       "      <th>Computer Vision &amp; Pattern Recognition</th>\n",
       "      <td>1</td>\n",
       "    </tr>\n",
       "    <tr>\n",
       "      <th>Don't remember any more</th>\n",
       "      <td>1</td>\n",
       "    </tr>\n",
       "    <tr>\n",
       "      <th>During my career I have been author or co-author of over 280 refereed publications and 17 books. My work has been presented at over 180 different conferences. The list is too long to present here.</th>\n",
       "      <td>1</td>\n",
       "    </tr>\n",
       "    <tr>\n",
       "      <th>Earth System Grid Federation Face 2 Face 2016</th>\n",
       "      <td>1</td>\n",
       "    </tr>\n",
       "    <tr>\n",
       "      <th>Evolution, iEvoBio</th>\n",
       "      <td>1</td>\n",
       "    </tr>\n",
       "    <tr>\n",
       "      <th>Farms.com Conference</th>\n",
       "      <td>1</td>\n",
       "    </tr>\n",
       "    <tr>\n",
       "      <th>Voir ma liste de présentations en bas de cette page:\\nhttps://www.gerad.ca/Sebastien.Le.Digabel/Publications/</th>\n",
       "      <td>1</td>\n",
       "    </tr>\n",
       "    <tr>\n",
       "      <th>plein: GTC (plusieurs fois), Montreal deep learning summer school, autre summer schoold, NIPS, ...</th>\n",
       "      <td>1</td>\n",
       "    </tr>\n",
       "  </tbody>\n",
       "</table>\n",
       "</div>"
      ],
      "text/plain": [
       "                                                    count\n",
       "Which conference(s)/workshop(s)?                         \n",
       "1. A. Kosakian, M. Secanell, D. Novitski, and S...      1\n",
       "High Performance Computing Symposium                    1\n",
       "Human Brain Mapping\\nBrainhack\\nHPCS                    1\n",
       "ICDCS, IPCCC, MASCOTS, IWQoS, LCN, ACM Multimedia       1\n",
       "IEEE ICCI*CC 2016\\nSAM, WorldComp 2016                  1\n",
       "In previous position at ESRI User's Conference ...      1\n",
       "It was years ago, as a student working for a pr...      1\n",
       "Many - the software is often part of the resear...      1\n",
       "HPCS                                                    1\n",
       "Many. American Chemical Society, Canadian Socie...      1\n",
       "OpenStack developers conference (Paris, Portlan...      1\n",
       "Plusieurs colloques et journées technos au CRIM...      1\n",
       "REDCap (Research Electronic Data Capture) Inter...      1\n",
       "SC 15, IPDPS, ICS                                       1\n",
       "SIGMOD, WebDB, VLDB, ICDE                               1\n",
       "Society for American Archaeology                        1\n",
       "Too many to count, really -- about 3-4 per year.        1\n",
       "North American Symposium on Bat Research, Ecolo...      1\n",
       "Gordon Research Seminar (2015), Gordon Research...      1\n",
       "GLBIO                                                   1\n",
       "GECCO\\nBuilding Simulation\\nCISBAT                      1\n",
       "2015 Symposium on Digital Earth, GLATOS, OTN Sy...      1\n",
       "A presentation I gave explicitly about a softwa...      1\n",
       "Astronomical Data Analysis Software and Systems...      1\n",
       "Boreal Ecosystem Recovery and Assessment Stakeh...      1\n",
       "CANARIE Workshop\\nESGF Conference\\nAGU\\nCRV\\nGe...      1\n",
       "CANHEIT                                                 1\n",
       "CANHEIT, CAP                                            1\n",
       "COMBINE and HARMONY workshops (BioPAX related),...      1\n",
       "CONLL, ACFAS, COMPUTERM, TIA                            1\n",
       "Canadian High Performance Computing, CASCON, CMBEC      1\n",
       "CarPEFC                                                 1\n",
       "Computer Vision & Pattern Recognition                   1\n",
       "Don't remember any more                                 1\n",
       "During my career I have been author or co-autho...      1\n",
       "Earth System Grid Federation Face 2 Face 2016           1\n",
       "Evolution, iEvoBio                                      1\n",
       "Farms.com Conference                                    1\n",
       "Voir ma liste de présentations en bas de cette ...      1\n",
       "plein: GTC (plusieurs fois), Montreal deep lear...      1"
      ]
     },
     "execution_count": 167,
     "metadata": {},
     "output_type": "execute_result"
    }
   ],
   "source": [
    "#conference_list = 'Which conference(s)/workshop(s)?'\n",
    "#freq_table(df, conference_list, sort_order=True)"
   ]
  },
  {
   "cell_type": "code",
   "execution_count": 164,
   "metadata": {},
   "outputs": [],
   "source": [
    "open_code_YN = ['When you release code, how often do you use an open source license?',\n",
    "                'When you release code or data, how often do you assign a Digital Object Identifier (DOI) to it?']\n",
    "\n",
    "\n",
    "count_open = count_unique_value(df, open_code_YN, dropna=True)"
   ]
  },
  {
   "cell_type": "code",
   "execution_count": 165,
   "metadata": {},
   "outputs": [
    {
     "data": {
      "text/html": [
       "<div>\n",
       "<table border=\"1\" class=\"dataframe\">\n",
       "  <thead>\n",
       "    <tr style=\"text-align: right;\">\n",
       "      <th></th>\n",
       "      <th>1 (Never)</th>\n",
       "      <th>2</th>\n",
       "      <th>3</th>\n",
       "      <th>4</th>\n",
       "      <th>5 (Always)</th>\n",
       "    </tr>\n",
       "  </thead>\n",
       "  <tbody>\n",
       "    <tr>\n",
       "      <th>When you release code, how often do you use an open source license?</th>\n",
       "      <td>11</td>\n",
       "      <td>13</td>\n",
       "      <td>4</td>\n",
       "      <td>14</td>\n",
       "      <td>41</td>\n",
       "    </tr>\n",
       "    <tr>\n",
       "      <th>When you release code or data, how often do you assign a Digital Object Identifier (DOI) to it?</th>\n",
       "      <td>58</td>\n",
       "      <td>8</td>\n",
       "      <td>5</td>\n",
       "      <td>5</td>\n",
       "      <td>4</td>\n",
       "    </tr>\n",
       "  </tbody>\n",
       "</table>\n",
       "</div>"
      ],
      "text/plain": [
       "                                                    1 (Never)   2  3   4  \\\n",
       "When you release code, how often do you use an ...         11  13  4  14   \n",
       "When you release code or data, how often do you...         58   8  5   5   \n",
       "\n",
       "                                                    5 (Always)  \n",
       "When you release code, how often do you use an ...          41  \n",
       "When you release code or data, how often do you...           4  "
      ]
     },
     "execution_count": 165,
     "metadata": {},
     "output_type": "execute_result"
    }
   ],
   "source": [
    "count_open"
   ]
  },
  {
   "cell_type": "code",
   "execution_count": 166,
   "metadata": {},
   "outputs": [
    {
     "data": {
      "text/plain": [
       "<matplotlib.axes._subplots.AxesSubplot at 0x7faabc74aeb8>"
      ]
     },
     "execution_count": 166,
     "metadata": {},
     "output_type": "execute_result"
    },
    {
     "data": {
      "image/png": "[encoded data removed]",
      "text/plain": [
       "<matplotlib.figure.Figure at 0x7faabbe0c7b8>"
      ]
     },
     "metadata": {},
     "output_type": "display_data"
    }
   ],
   "source": [
    "count_open.plot(kind='bar')"
   ]
  },
  {
   "cell_type": "code",
   "execution_count": 117,
   "metadata": {},
   "outputs": [],
   "source": [
    "open_code_list = 'List any open repositories (eg. GitHub) to which your software projects have been published.'"
   ]
  },
  {
   "cell_type": "code",
   "execution_count": 92,
   "metadata": {
    "collapsed": true
   },
   "outputs": [],
   "source": [
    "data_management = ['Do any of your current projects make use of a data management or data archiving component?',\n",
    "                   'Is it part of your software or an external system? (please specify)']\n",
    "\n",
    "count_data_management = count_unique_value(df, data_management, dropna=True)\n"
   ]
  },
  {
   "cell_type": "code",
   "execution_count": 93,
   "metadata": {},
   "outputs": [
    {
     "data": {
      "text/plain": [
       "<matplotlib.axes._subplots.AxesSubplot at 0x7faabcdb0f98>"
      ]
     },
     "execution_count": 93,
     "metadata": {},
     "output_type": "execute_result"
    },
    {
     "data": {
      "image/png": "[encoded data removed]",
      "text/plain": [
       "<matplotlib.figure.Figure at 0x7faabd270128>"
      ]
     },
     "metadata": {},
     "output_type": "display_data"
    }
   ],
   "source": [
    "count_data_management.plot(kind='barh')"
   ]
  },
  {
   "cell_type": "code",
   "execution_count": 94,
   "metadata": {},
   "outputs": [
    {
     "data": {
      "text/html": [
       "<div>\n",
       "<table border=\"1\" class=\"dataframe\">\n",
       "  <thead>\n",
       "    <tr style=\"text-align: right;\">\n",
       "      <th></th>\n",
       "      <th>Job title</th>\n",
       "    </tr>\n",
       "    <tr>\n",
       "      <th>What is your current job title?</th>\n",
       "      <th></th>\n",
       "    </tr>\n",
       "  </thead>\n",
       "  <tbody>\n",
       "    <tr>\n",
       "      <th>Analyste informatique</th>\n",
       "      <td>1</td>\n",
       "    </tr>\n",
       "    <tr>\n",
       "      <th>Applicants analyst</th>\n",
       "      <td>1</td>\n",
       "    </tr>\n",
       "    <tr>\n",
       "      <th>Assistant director of data management</th>\n",
       "      <td>1</td>\n",
       "    </tr>\n",
       "    <tr>\n",
       "      <th>Assistant professor</th>\n",
       "      <td>2</td>\n",
       "    </tr>\n",
       "    <tr>\n",
       "      <th>Associate professor</th>\n",
       "      <td>5</td>\n",
       "    </tr>\n",
       "    <tr>\n",
       "      <th>Associate researcher</th>\n",
       "      <td>1</td>\n",
       "    </tr>\n",
       "    <tr>\n",
       "      <th>Associé de recherche</th>\n",
       "      <td>1</td>\n",
       "    </tr>\n",
       "    <tr>\n",
       "      <th>Asst prof</th>\n",
       "      <td>1</td>\n",
       "    </tr>\n",
       "    <tr>\n",
       "      <th>Bioinformatics programmer</th>\n",
       "      <td>1</td>\n",
       "    </tr>\n",
       "    <tr>\n",
       "      <th>Ceo</th>\n",
       "      <td>2</td>\n",
       "    </tr>\n",
       "    <tr>\n",
       "      <th>Chargé de projets</th>\n",
       "      <td>1</td>\n",
       "    </tr>\n",
       "    <tr>\n",
       "      <th>Chef d'équipe</th>\n",
       "      <td>1</td>\n",
       "    </tr>\n",
       "    <tr>\n",
       "      <th>Chercheur</th>\n",
       "      <td>1</td>\n",
       "    </tr>\n",
       "    <tr>\n",
       "      <th>Computational biologist</th>\n",
       "      <td>5</td>\n",
       "    </tr>\n",
       "    <tr>\n",
       "      <th>Coop student</th>\n",
       "      <td>1</td>\n",
       "    </tr>\n",
       "    <tr>\n",
       "      <th>Cto</th>\n",
       "      <td>1</td>\n",
       "    </tr>\n",
       "    <tr>\n",
       "      <th>Data manager</th>\n",
       "      <td>1</td>\n",
       "    </tr>\n",
       "    <tr>\n",
       "      <th>Dba</th>\n",
       "      <td>1</td>\n",
       "    </tr>\n",
       "    <tr>\n",
       "      <th>Deep learning analyst</th>\n",
       "      <td>1</td>\n",
       "    </tr>\n",
       "    <tr>\n",
       "      <th>Directeur et conseiller sénior</th>\n",
       "      <td>1</td>\n",
       "    </tr>\n",
       "    <tr>\n",
       "      <th>Directeur scientifique</th>\n",
       "      <td>1</td>\n",
       "    </tr>\n",
       "    <tr>\n",
       "      <th>Distinguished professor emeritus</th>\n",
       "      <td>1</td>\n",
       "    </tr>\n",
       "    <tr>\n",
       "      <th>Full professor</th>\n",
       "      <td>1</td>\n",
       "    </tr>\n",
       "    <tr>\n",
       "      <th>Graduate student</th>\n",
       "      <td>2</td>\n",
       "    </tr>\n",
       "    <tr>\n",
       "      <th>High performance computing consultant</th>\n",
       "      <td>1</td>\n",
       "    </tr>\n",
       "    <tr>\n",
       "      <th>It lead team</th>\n",
       "      <td>1</td>\n",
       "    </tr>\n",
       "    <tr>\n",
       "      <th>It's complicated</th>\n",
       "      <td>1</td>\n",
       "    </tr>\n",
       "    <tr>\n",
       "      <th>Manager</th>\n",
       "      <td>1</td>\n",
       "    </tr>\n",
       "    <tr>\n",
       "      <th>Phd candidate</th>\n",
       "      <td>1</td>\n",
       "    </tr>\n",
       "    <tr>\n",
       "      <th>Phd student</th>\n",
       "      <td>1</td>\n",
       "    </tr>\n",
       "    <tr>\n",
       "      <th>Process development coordinator</th>\n",
       "      <td>1</td>\n",
       "    </tr>\n",
       "    <tr>\n",
       "      <th>Professeur agrégé</th>\n",
       "      <td>1</td>\n",
       "    </tr>\n",
       "    <tr>\n",
       "      <th>Professionnel de recherche</th>\n",
       "      <td>2</td>\n",
       "    </tr>\n",
       "    <tr>\n",
       "      <th>Professor</th>\n",
       "      <td>5</td>\n",
       "    </tr>\n",
       "    <tr>\n",
       "      <th>Professor of chemistry</th>\n",
       "      <td>1</td>\n",
       "    </tr>\n",
       "    <tr>\n",
       "      <th>Professor; university scholar; canada research chair</th>\n",
       "      <td>1</td>\n",
       "    </tr>\n",
       "    <tr>\n",
       "      <th>Programmer</th>\n",
       "      <td>1</td>\n",
       "    </tr>\n",
       "    <tr>\n",
       "      <th>Programmer analyst</th>\n",
       "      <td>1</td>\n",
       "    </tr>\n",
       "    <tr>\n",
       "      <th>Programmers team lead</th>\n",
       "      <td>1</td>\n",
       "    </tr>\n",
       "    <tr>\n",
       "      <th>Programmeur</th>\n",
       "      <td>1</td>\n",
       "    </tr>\n",
       "    <tr>\n",
       "      <th>Project director</th>\n",
       "      <td>1</td>\n",
       "    </tr>\n",
       "    <tr>\n",
       "      <th>Project manager it/systems</th>\n",
       "      <td>1</td>\n",
       "    </tr>\n",
       "    <tr>\n",
       "      <th>Research assistant / graduate student (ph.d.)</th>\n",
       "      <td>1</td>\n",
       "    </tr>\n",
       "    <tr>\n",
       "      <th>Research associate</th>\n",
       "      <td>3</td>\n",
       "    </tr>\n",
       "    <tr>\n",
       "      <th>Research data scientist</th>\n",
       "      <td>1</td>\n",
       "    </tr>\n",
       "    <tr>\n",
       "      <th>Research programmer associate</th>\n",
       "      <td>1</td>\n",
       "    </tr>\n",
       "    <tr>\n",
       "      <th>Researcher</th>\n",
       "      <td>1</td>\n",
       "    </tr>\n",
       "    <tr>\n",
       "      <th>Scientiffic computing analyst</th>\n",
       "      <td>1</td>\n",
       "    </tr>\n",
       "    <tr>\n",
       "      <th>Senior advisor</th>\n",
       "      <td>1</td>\n",
       "    </tr>\n",
       "    <tr>\n",
       "      <th>Senior data analyst</th>\n",
       "      <td>1</td>\n",
       "    </tr>\n",
       "    <tr>\n",
       "      <th>Senior research associate (software engineer)</th>\n",
       "      <td>1</td>\n",
       "    </tr>\n",
       "    <tr>\n",
       "      <th>Senior researcher</th>\n",
       "      <td>1</td>\n",
       "    </tr>\n",
       "    <tr>\n",
       "      <th>Senior software developer</th>\n",
       "      <td>1</td>\n",
       "    </tr>\n",
       "    <tr>\n",
       "      <th>Software developer</th>\n",
       "      <td>3</td>\n",
       "    </tr>\n",
       "    <tr>\n",
       "      <th>Specialist, climate scenarios and services</th>\n",
       "      <td>1</td>\n",
       "    </tr>\n",
       "    <tr>\n",
       "      <th>Systems administrator</th>\n",
       "      <td>1</td>\n",
       "    </tr>\n",
       "    <tr>\n",
       "      <th>Technical marketing manager</th>\n",
       "      <td>1</td>\n",
       "    </tr>\n",
       "    <tr>\n",
       "      <th>Web developer</th>\n",
       "      <td>1</td>\n",
       "    </tr>\n",
       "    <tr>\n",
       "      <th>Web services specialist</th>\n",
       "      <td>1</td>\n",
       "    </tr>\n",
       "  </tbody>\n",
       "</table>\n",
       "</div>"
      ],
      "text/plain": [
       "                                                    Job title\n",
       "What is your current job title?                              \n",
       "Analyste informatique                                       1\n",
       "Applicants analyst                                          1\n",
       "Assistant director of data management                       1\n",
       "Assistant professor                                         2\n",
       "Associate professor                                         5\n",
       "Associate researcher                                        1\n",
       "Associé de recherche                                        1\n",
       "Asst prof                                                   1\n",
       "Bioinformatics programmer                                   1\n",
       "Ceo                                                         2\n",
       "Chargé de projets                                           1\n",
       "Chef d'équipe                                               1\n",
       "Chercheur                                                   1\n",
       "Computational biologist                                     5\n",
       "Coop student                                                1\n",
       "Cto                                                         1\n",
       "Data manager                                                1\n",
       "Dba                                                         1\n",
       "Deep learning analyst                                       1\n",
       "Directeur et conseiller sénior                              1\n",
       "Directeur scientifique                                      1\n",
       "Distinguished professor emeritus                            1\n",
       "Full professor                                              1\n",
       "Graduate student                                            2\n",
       "High performance computing consultant                       1\n",
       "It lead team                                                1\n",
       "It's complicated                                            1\n",
       "Manager                                                     1\n",
       "Phd candidate                                               1\n",
       "Phd student                                                 1\n",
       "Process development coordinator                             1\n",
       "Professeur agrégé                                           1\n",
       "Professionnel de recherche                                  2\n",
       "Professor                                                   5\n",
       "Professor of chemistry                                      1\n",
       "Professor; university scholar; canada research ...          1\n",
       "Programmer                                                  1\n",
       "Programmer analyst                                          1\n",
       "Programmers team lead                                       1\n",
       "Programmeur                                                 1\n",
       "Project director                                            1\n",
       "Project manager it/systems                                  1\n",
       "Research assistant / graduate student (ph.d.)               1\n",
       "Research associate                                          3\n",
       "Research data scientist                                     1\n",
       "Research programmer associate                               1\n",
       "Researcher                                                  1\n",
       "Scientiffic computing analyst                               1\n",
       "Senior advisor                                              1\n",
       "Senior data analyst                                         1\n",
       "Senior research associate (software engineer)               1\n",
       "Senior researcher                                           1\n",
       "Senior software developer                                   1\n",
       "Software developer                                          3\n",
       "Specialist, climate scenarios and services                  1\n",
       "Systems administrator                                       1\n",
       "Technical marketing manager                                 1\n",
       "Web developer                                               1\n",
       "Web services specialist                                     1"
      ]
     },
     "execution_count": 94,
     "metadata": {},
     "output_type": "execute_result"
    }
   ],
   "source": [
    "# ## 'What is your current job title?',\n",
    "\n",
    "pd.crosstab(df['What is your current job title?'].str.capitalize(), colnames=[''], columns='Job title')"
   ]
  },
  {
   "cell_type": "code",
   "execution_count": 95,
   "metadata": {
    "collapsed": true
   },
   "outputs": [],
   "source": [
    "# ## 'In your opinion, what are the three most important skills that a Research Software Developer must possess? These skills can be technical and non-technical.',"
   ]
  },
  {
   "cell_type": "code",
   "execution_count": 96,
   "metadata": {
    "collapsed": true
   },
   "outputs": [],
   "source": [
    "# ## 'What three skills would you like to acquire or improve to help your work as a Research Software Developer? These skills can be technical and non-technical.',"
   ]
  },
  {
   "cell_type": "code",
   "execution_count": 97,
   "metadata": {
    "collapsed": true
   },
   "outputs": [],
   "source": [
    "# ## 'What are the three tools or services you use most often in your software work?',"
   ]
  },
  {
   "cell_type": "code",
   "execution_count": 98,
   "metadata": {
    "collapsed": true
   },
   "outputs": [],
   "source": [
    "# ## 'What programming languages do you use in developing research software? Please list in order, beginning with most frequently used.',"
   ]
  },
  {
   "cell_type": "code",
   "execution_count": 99,
   "metadata": {
    "collapsed": true
   },
   "outputs": [],
   "source": [
    "# ## 'List any public identity providers (e.g. Google, Facebook, Live, LinkedIn, Twitter, etc.) used in your current or previous projects.',"
   ]
  }
 ],
 "metadata": {
  "kernelspec": {
   "display_name": "Python 3",
   "language": "python",
   "name": "python3"
  },
  "language_info": {
   "codemirror_mode": {
    "name": "ipython",
    "version": 3
   },
   "file_extension": ".py",
   "mimetype": "text/x-python",
   "name": "python",
   "nbconvert_exporter": "python",
   "pygments_lexer": "ipython3",
   "version": "3.6.1"
  }
 },
 "nbformat": 4,
 "nbformat_minor": 2
}
