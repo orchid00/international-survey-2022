{
 "cells": [
  {
   "cell_type": "markdown",
   "metadata": {
    "toc": true
   },
   "source": [
    "<h1>Table of Contents<span class=\"tocSkip\"></span></h1>\n",
    "<div class=\"toc\"><ul class=\"toc-item\"><li><span><a href=\"#Introduction\" data-toc-modified-id=\"Introduction-1\"><span class=\"toc-item-num\">1&nbsp;&nbsp;</span>Introduction</a></span><ul class=\"toc-item\"><li><span><a href=\"#Setting-up\" data-toc-modified-id=\"Setting-up-1.1\"><span class=\"toc-item-num\">1.1&nbsp;&nbsp;</span>Setting up</a></span></li></ul></li><li><span><a href=\"#Questions-about-previous-employment\" data-toc-modified-id=\"Questions-about-previous-employment-2\"><span class=\"toc-item-num\">2&nbsp;&nbsp;</span>Questions about previous employment</a></span><ul class=\"toc-item\"><li><span><a href=\"#Australia\" data-toc-modified-id=\"Australia-2.1\"><span class=\"toc-item-num\">2.1&nbsp;&nbsp;</span>Australia</a></span><ul class=\"toc-item\"><li><span><a href=\"#Where-the-previous-job-was-based\" data-toc-modified-id=\"Where-the-previous-job-was-based-2.1.1\"><span class=\"toc-item-num\">2.1.1&nbsp;&nbsp;</span>Where the previous job was based</a></span></li><li><span><a href=\"#What-were-the-reasons-to-choose-the-current-job\" data-toc-modified-id=\"What-were-the-reasons-to-choose-the-current-job-2.1.2\"><span class=\"toc-item-num\">2.1.2&nbsp;&nbsp;</span>What were the reasons to choose the current job</a></span></li></ul></li><li><span><a href=\"#Germany\" data-toc-modified-id=\"Germany-2.2\"><span class=\"toc-item-num\">2.2&nbsp;&nbsp;</span>Germany</a></span><ul class=\"toc-item\"><li><span><a href=\"#Where-the-previous-job-was-based\" data-toc-modified-id=\"Where-the-previous-job-was-based-2.2.1\"><span class=\"toc-item-num\">2.2.1&nbsp;&nbsp;</span>Where the previous job was based</a></span></li><li><span><a href=\"#What-were-the-reasons-to-choose-the-current-job\" data-toc-modified-id=\"What-were-the-reasons-to-choose-the-current-job-2.2.2\"><span class=\"toc-item-num\">2.2.2&nbsp;&nbsp;</span>What were the reasons to choose the current job</a></span></li></ul></li><li><span><a href=\"#New-Zealand\" data-toc-modified-id=\"New-Zealand-2.3\"><span class=\"toc-item-num\">2.3&nbsp;&nbsp;</span>New Zealand</a></span><ul class=\"toc-item\"><li><span><a href=\"#Where-the-previous-job-was-based\" data-toc-modified-id=\"Where-the-previous-job-was-based-2.3.1\"><span class=\"toc-item-num\">2.3.1&nbsp;&nbsp;</span>Where the previous job was based</a></span></li><li><span><a href=\"#What-were-the-reasons-to-choose-the-current-job\" data-toc-modified-id=\"What-were-the-reasons-to-choose-the-current-job-2.3.2\"><span class=\"toc-item-num\">2.3.2&nbsp;&nbsp;</span>What were the reasons to choose the current job</a></span></li></ul></li><li><span><a href=\"#South-Africa\" data-toc-modified-id=\"South-Africa-2.4\"><span class=\"toc-item-num\">2.4&nbsp;&nbsp;</span>South Africa</a></span><ul class=\"toc-item\"><li><span><a href=\"#Where-the-previous-job-was-based\" data-toc-modified-id=\"Where-the-previous-job-was-based-2.4.1\"><span class=\"toc-item-num\">2.4.1&nbsp;&nbsp;</span>Where the previous job was based</a></span></li><li><span><a href=\"#What-were-the-reasons-to-choose-the-current-job\" data-toc-modified-id=\"What-were-the-reasons-to-choose-the-current-job-2.4.2\"><span class=\"toc-item-num\">2.4.2&nbsp;&nbsp;</span>What were the reasons to choose the current job</a></span></li></ul></li><li><span><a href=\"#United-Kingdom\" data-toc-modified-id=\"United-Kingdom-2.5\"><span class=\"toc-item-num\">2.5&nbsp;&nbsp;</span>United Kingdom</a></span><ul class=\"toc-item\"><li><span><a href=\"#Where-the-previous-job-was-based\" data-toc-modified-id=\"Where-the-previous-job-was-based-2.5.1\"><span class=\"toc-item-num\">2.5.1&nbsp;&nbsp;</span>Where the previous job was based</a></span></li><li><span><a href=\"#What-were-the-reasons-to-choose-the-current-job\" data-toc-modified-id=\"What-were-the-reasons-to-choose-the-current-job-2.5.2\"><span class=\"toc-item-num\">2.5.2&nbsp;&nbsp;</span>What were the reasons to choose the current job</a></span></li></ul></li><li><span><a href=\"#United-States\" data-toc-modified-id=\"United-States-2.6\"><span class=\"toc-item-num\">2.6&nbsp;&nbsp;</span>United States</a></span><ul class=\"toc-item\"><li><span><a href=\"#Where-the-previous-job-was-based\" data-toc-modified-id=\"Where-the-previous-job-was-based-2.6.1\"><span class=\"toc-item-num\">2.6.1&nbsp;&nbsp;</span>Where the previous job was based</a></span></li><li><span><a href=\"#What-were-the-reasons-to-choose-the-current-job\" data-toc-modified-id=\"What-were-the-reasons-to-choose-the-current-job-2.6.2\"><span class=\"toc-item-num\">2.6.2&nbsp;&nbsp;</span>What were the reasons to choose the current job</a></span></li></ul></li><li><span><a href=\"#Rest-of-the-world\" data-toc-modified-id=\"Rest-of-the-world-2.7\"><span class=\"toc-item-num\">2.7&nbsp;&nbsp;</span>Rest of the world</a></span><ul class=\"toc-item\"><li><span><a href=\"#Where-the-previous-job-was-based\" data-toc-modified-id=\"Where-the-previous-job-was-based-2.7.1\"><span class=\"toc-item-num\">2.7.1&nbsp;&nbsp;</span>Where the previous job was based</a></span></li><li><span><a href=\"#What-were-the-reasons-to-choose-the-current-job\" data-toc-modified-id=\"What-were-the-reasons-to-choose-the-current-job-2.7.2\"><span class=\"toc-item-num\">2.7.2&nbsp;&nbsp;</span>What were the reasons to choose the current job</a></span></li></ul></li></ul></li></ul></div>"
   ]
  },
  {
   "cell_type": "markdown",
   "metadata": {},
   "source": [
    "# Introduction"
   ]
  },
  {
   "cell_type": "markdown",
   "metadata": {},
   "source": [
    "## Setting up"
   ]
  },
  {
   "cell_type": "code",
   "execution_count": 1,
   "metadata": {
    "collapsed": true
   },
   "outputs": [],
   "source": [
    "%%capture  \n",
    "# Import notebook containing the imports the functions and the dataset\n",
    "%run \"./0. Imports and functions.ipynb\"\n",
    "\n",
    "# Import notebook containing sampled dataset\n",
    "%run \"./1. Overview and sampling.ipynb\""
   ]
  },
  {
   "cell_type": "markdown",
   "metadata": {},
   "source": [
    "# Questions about previous employment"
   ]
  },
  {
   "cell_type": "markdown",
   "metadata": {},
   "source": [
    "Several questions were about the participants previous job. The idea is to collect insights of their career path and understand what are their motivations to be an RSE.\n",
    "\n",
    "We also asked the participants to rank the reasons why they chose their actual position among 8 different ones:\n",
    "* Desire to work in a research environment\n",
    "* Freedom to choose own working practices\n",
    "* Desire to advance research\n",
    "* I want to learn new skills\n",
    "* Opportunity to develop software\n",
    "* Flexible working hours\n",
    "* Ability to work across disciplines\n",
    "* Opportunity for career advancement\n",
    "* The salary"
   ]
  },
  {
   "cell_type": "code",
   "execution_count": 2,
   "metadata": {
    "collapsed": true
   },
   "outputs": [],
   "source": [
    "prev_work = ['prevEmp1. Where was your previous job based?']\n",
    "reason_choice = [x for x in df.columns if x[:8] == 'prevEmp2']"
   ]
  },
  {
   "cell_type": "markdown",
   "metadata": {},
   "source": [
    "## Australia"
   ]
  },
  {
   "cell_type": "markdown",
   "metadata": {},
   "source": [
    "### Where the previous job was based"
   ]
  },
  {
   "cell_type": "code",
   "execution_count": 3,
   "metadata": {},
   "outputs": [
    {
     "data": {
      "text/html": [
       "<div>\n",
       "<style>\n",
       "    .dataframe thead tr:only-child th {\n",
       "        text-align: right;\n",
       "    }\n",
       "\n",
       "    .dataframe thead th {\n",
       "        text-align: left;\n",
       "    }\n",
       "\n",
       "    .dataframe tbody tr th {\n",
       "        vertical-align: top;\n",
       "    }\n",
       "</style>\n",
       "<table border=\"1\" class=\"dataframe\">\n",
       "  <thead>\n",
       "    <tr style=\"text-align: right;\">\n",
       "      <th></th>\n",
       "      <th>Count</th>\n",
       "      <th>Percentage</th>\n",
       "    </tr>\n",
       "    <tr>\n",
       "      <th>Where the previous job was based for Australia</th>\n",
       "      <th></th>\n",
       "      <th></th>\n",
       "    </tr>\n",
       "  </thead>\n",
       "  <tbody>\n",
       "    <tr>\n",
       "      <th>University</th>\n",
       "      <td>54</td>\n",
       "      <td>58.064516</td>\n",
       "    </tr>\n",
       "    <tr>\n",
       "      <th>Private company</th>\n",
       "      <td>21</td>\n",
       "      <td>22.580645</td>\n",
       "    </tr>\n",
       "    <tr>\n",
       "      <th>Government</th>\n",
       "      <td>9</td>\n",
       "      <td>9.677419</td>\n",
       "    </tr>\n",
       "    <tr>\n",
       "      <th>National laboratory</th>\n",
       "      <td>5</td>\n",
       "      <td>5.376344</td>\n",
       "    </tr>\n",
       "    <tr>\n",
       "      <th>Other</th>\n",
       "      <td>3</td>\n",
       "      <td>3.225806</td>\n",
       "    </tr>\n",
       "    <tr>\n",
       "      <th>Non-profit organization</th>\n",
       "      <td>1</td>\n",
       "      <td>1.075269</td>\n",
       "    </tr>\n",
       "  </tbody>\n",
       "</table>\n",
       "</div>"
      ],
      "text/plain": [
       "                                                Count  Percentage\n",
       "Where the previous job was based for Australia                   \n",
       "University                                         54   58.064516\n",
       "Private company                                    21   22.580645\n",
       "Government                                          9    9.677419\n",
       "National laboratory                                 5    5.376344\n",
       "Other                                               3    3.225806\n",
       "Non-profit organization                             1    1.075269"
      ]
     },
     "execution_count": 3,
     "metadata": {},
     "output_type": "execute_result"
    }
   ],
   "source": [
    "country = 'Australia'\n",
    "category = 'Where the previous job was based'\n",
    "results = count_diff(df, prev_work, country, category)\n",
    "results"
   ]
  },
  {
   "cell_type": "code",
   "execution_count": 4,
   "metadata": {},
   "outputs": [
    {
     "data": {
      "image/png": "[encoded data removed]",
      "text/plain": [
       "<matplotlib.figure.Figure at 0x7f157d366f28>"
      ]
     },
     "metadata": {},
     "output_type": "display_data"
    }
   ],
   "source": [
    "plot_cat_comparison(results, country=country, category=category)"
   ]
  },
  {
   "cell_type": "markdown",
   "metadata": {},
   "source": [
    "### What were the reasons to choose the current job"
   ]
  },
  {
   "cell_type": "code",
   "execution_count": 5,
   "metadata": {},
   "outputs": [
    {
     "data": {
      "text/html": [
       "<div>\n",
       "<style>\n",
       "    .dataframe thead tr:only-child th {\n",
       "        text-align: right;\n",
       "    }\n",
       "\n",
       "    .dataframe thead th {\n",
       "        text-align: left;\n",
       "    }\n",
       "\n",
       "    .dataframe tbody tr th {\n",
       "        vertical-align: top;\n",
       "    }\n",
       "</style>\n",
       "<table border=\"1\" class=\"dataframe\">\n",
       "  <thead>\n",
       "    <tr style=\"text-align: right;\">\n",
       "      <th></th>\n",
       "      <th>Rank 1</th>\n",
       "      <th>Rank 2</th>\n",
       "      <th>Rank 3</th>\n",
       "      <th>Rank 4</th>\n",
       "      <th>Rank 5</th>\n",
       "      <th>Rank 6</th>\n",
       "      <th>Rank 7</th>\n",
       "      <th>Rank 8</th>\n",
       "    </tr>\n",
       "    <tr>\n",
       "      <th>Reasons to choose current job</th>\n",
       "      <th></th>\n",
       "      <th></th>\n",
       "      <th></th>\n",
       "      <th></th>\n",
       "      <th></th>\n",
       "      <th></th>\n",
       "      <th></th>\n",
       "      <th></th>\n",
       "    </tr>\n",
       "  </thead>\n",
       "  <tbody>\n",
       "    <tr>\n",
       "      <th>Desire to work in a research environment</th>\n",
       "      <td>28.865979</td>\n",
       "      <td>15.463918</td>\n",
       "      <td>12.500000</td>\n",
       "      <td>10.416667</td>\n",
       "      <td>9.375000</td>\n",
       "      <td>NaN</td>\n",
       "      <td>NaN</td>\n",
       "      <td>NaN</td>\n",
       "    </tr>\n",
       "    <tr>\n",
       "      <th>Freedom to choose own working practices</th>\n",
       "      <td>17.525773</td>\n",
       "      <td>11.340206</td>\n",
       "      <td>9.375000</td>\n",
       "      <td>13.541667</td>\n",
       "      <td>8.333333</td>\n",
       "      <td>NaN</td>\n",
       "      <td>NaN</td>\n",
       "      <td>NaN</td>\n",
       "    </tr>\n",
       "    <tr>\n",
       "      <th>Desire to advance research</th>\n",
       "      <td>15.463918</td>\n",
       "      <td>13.402062</td>\n",
       "      <td>16.666667</td>\n",
       "      <td>12.500000</td>\n",
       "      <td>10.416667</td>\n",
       "      <td>NaN</td>\n",
       "      <td>NaN</td>\n",
       "      <td>NaN</td>\n",
       "    </tr>\n",
       "    <tr>\n",
       "      <th>Opportunity to develop software</th>\n",
       "      <td>12.371134</td>\n",
       "      <td>11.340206</td>\n",
       "      <td>12.500000</td>\n",
       "      <td>9.375000</td>\n",
       "      <td>11.458333</td>\n",
       "      <td>NaN</td>\n",
       "      <td>NaN</td>\n",
       "      <td>NaN</td>\n",
       "    </tr>\n",
       "    <tr>\n",
       "      <th>Ability to work across disciplines</th>\n",
       "      <td>7.216495</td>\n",
       "      <td>11.340206</td>\n",
       "      <td>8.333333</td>\n",
       "      <td>7.291667</td>\n",
       "      <td>10.416667</td>\n",
       "      <td>NaN</td>\n",
       "      <td>NaN</td>\n",
       "      <td>NaN</td>\n",
       "    </tr>\n",
       "    <tr>\n",
       "      <th>I want to learn new skills</th>\n",
       "      <td>7.216495</td>\n",
       "      <td>13.402062</td>\n",
       "      <td>9.375000</td>\n",
       "      <td>13.541667</td>\n",
       "      <td>13.541667</td>\n",
       "      <td>NaN</td>\n",
       "      <td>NaN</td>\n",
       "      <td>NaN</td>\n",
       "    </tr>\n",
       "    <tr>\n",
       "      <th>Flexible working hours</th>\n",
       "      <td>5.154639</td>\n",
       "      <td>12.371134</td>\n",
       "      <td>10.416667</td>\n",
       "      <td>11.458333</td>\n",
       "      <td>13.541667</td>\n",
       "      <td>NaN</td>\n",
       "      <td>NaN</td>\n",
       "      <td>NaN</td>\n",
       "    </tr>\n",
       "    <tr>\n",
       "      <th>Opportunity for career advancement</th>\n",
       "      <td>5.154639</td>\n",
       "      <td>6.185567</td>\n",
       "      <td>10.416667</td>\n",
       "      <td>9.375000</td>\n",
       "      <td>13.541667</td>\n",
       "      <td>NaN</td>\n",
       "      <td>NaN</td>\n",
       "      <td>NaN</td>\n",
       "    </tr>\n",
       "    <tr>\n",
       "      <th>The salary</th>\n",
       "      <td>1.030928</td>\n",
       "      <td>5.154639</td>\n",
       "      <td>10.416667</td>\n",
       "      <td>12.500000</td>\n",
       "      <td>9.375000</td>\n",
       "      <td>NaN</td>\n",
       "      <td>NaN</td>\n",
       "      <td>NaN</td>\n",
       "    </tr>\n",
       "  </tbody>\n",
       "</table>\n",
       "</div>"
      ],
      "text/plain": [
       "                                             Rank 1     Rank 2     Rank 3  \\\n",
       "Reasons to choose current job                                               \n",
       "Desire to work in a research environment  28.865979  15.463918  12.500000   \n",
       "Freedom to choose own working practices   17.525773  11.340206   9.375000   \n",
       "Desire to advance research                15.463918  13.402062  16.666667   \n",
       "Opportunity to develop software           12.371134  11.340206  12.500000   \n",
       "Ability to work across disciplines         7.216495  11.340206   8.333333   \n",
       "I want to learn new skills                 7.216495  13.402062   9.375000   \n",
       "Flexible working hours                     5.154639  12.371134  10.416667   \n",
       "Opportunity for career advancement         5.154639   6.185567  10.416667   \n",
       "The salary                                 1.030928   5.154639  10.416667   \n",
       "\n",
       "                                             Rank 4     Rank 5  Rank 6  \\\n",
       "Reasons to choose current job                                            \n",
       "Desire to work in a research environment  10.416667   9.375000     NaN   \n",
       "Freedom to choose own working practices   13.541667   8.333333     NaN   \n",
       "Desire to advance research                12.500000  10.416667     NaN   \n",
       "Opportunity to develop software            9.375000  11.458333     NaN   \n",
       "Ability to work across disciplines         7.291667  10.416667     NaN   \n",
       "I want to learn new skills                13.541667  13.541667     NaN   \n",
       "Flexible working hours                    11.458333  13.541667     NaN   \n",
       "Opportunity for career advancement         9.375000  13.541667     NaN   \n",
       "The salary                                12.500000   9.375000     NaN   \n",
       "\n",
       "                                          Rank 7  Rank 8  \n",
       "Reasons to choose current job                             \n",
       "Desire to work in a research environment     NaN     NaN  \n",
       "Freedom to choose own working practices      NaN     NaN  \n",
       "Desire to advance research                   NaN     NaN  \n",
       "Opportunity to develop software              NaN     NaN  \n",
       "Ability to work across disciplines           NaN     NaN  \n",
       "I want to learn new skills                   NaN     NaN  \n",
       "Flexible working hours                       NaN     NaN  \n",
       "Opportunity for career advancement           NaN     NaN  \n",
       "The salary                                   NaN     NaN  "
      ]
     },
     "execution_count": 5,
     "metadata": {},
     "output_type": "execute_result"
    }
   ],
   "source": [
    "category = 'Reasons to choose current job'\n",
    "results = count_ranking(df, reason_choice, country, category)\n",
    "results"
   ]
  },
  {
   "cell_type": "code",
   "execution_count": 6,
   "metadata": {},
   "outputs": [
    {
     "data": {
      "image/png": "[encoded data removed]",
      "text/plain": [
       "<matplotlib.figure.Figure at 0x7f15269c0630>"
      ]
     },
     "metadata": {},
     "output_type": "display_data"
    }
   ],
   "source": [
    "plot_ranking(results, category, country)"
   ]
  },
  {
   "cell_type": "markdown",
   "metadata": {},
   "source": [
    "## Germany"
   ]
  },
  {
   "cell_type": "markdown",
   "metadata": {},
   "source": [
    "### Where the previous job was based"
   ]
  },
  {
   "cell_type": "code",
   "execution_count": 7,
   "metadata": {},
   "outputs": [
    {
     "data": {
      "text/html": [
       "<div>\n",
       "<style>\n",
       "    .dataframe thead tr:only-child th {\n",
       "        text-align: right;\n",
       "    }\n",
       "\n",
       "    .dataframe thead th {\n",
       "        text-align: left;\n",
       "    }\n",
       "\n",
       "    .dataframe tbody tr th {\n",
       "        vertical-align: top;\n",
       "    }\n",
       "</style>\n",
       "<table border=\"1\" class=\"dataframe\">\n",
       "  <thead>\n",
       "    <tr style=\"text-align: right;\">\n",
       "      <th></th>\n",
       "      <th>Count</th>\n",
       "      <th>Percentage</th>\n",
       "      <th>Difference with previous year</th>\n",
       "    </tr>\n",
       "    <tr>\n",
       "      <th>Where the previous job was based for Germany</th>\n",
       "      <th></th>\n",
       "      <th></th>\n",
       "      <th></th>\n",
       "    </tr>\n",
       "  </thead>\n",
       "  <tbody>\n",
       "    <tr>\n",
       "      <th>University</th>\n",
       "      <td>143</td>\n",
       "      <td>45.980707</td>\n",
       "      <td>-8.133217</td>\n",
       "    </tr>\n",
       "    <tr>\n",
       "      <th>Private Company</th>\n",
       "      <td>57</td>\n",
       "      <td>18.327974</td>\n",
       "      <td>7.884936</td>\n",
       "    </tr>\n",
       "    <tr>\n",
       "      <th>Other</th>\n",
       "      <td>40</td>\n",
       "      <td>12.861736</td>\n",
       "      <td>2.418698</td>\n",
       "    </tr>\n",
       "    <tr>\n",
       "      <th>Helmholtz Association of German Research Centres</th>\n",
       "      <td>31</td>\n",
       "      <td>9.967846</td>\n",
       "      <td>3.005820</td>\n",
       "    </tr>\n",
       "    <tr>\n",
       "      <th>Leibniz Association</th>\n",
       "      <td>11</td>\n",
       "      <td>3.536977</td>\n",
       "      <td>-0.260491</td>\n",
       "    </tr>\n",
       "    <tr>\n",
       "      <th>Fraunhofer Society</th>\n",
       "      <td>10</td>\n",
       "      <td>3.215434</td>\n",
       "      <td>NaN</td>\n",
       "    </tr>\n",
       "    <tr>\n",
       "      <th>Max Planck Society</th>\n",
       "      <td>9</td>\n",
       "      <td>2.893891</td>\n",
       "      <td>-8.182059</td>\n",
       "    </tr>\n",
       "    <tr>\n",
       "      <th>Government</th>\n",
       "      <td>5</td>\n",
       "      <td>1.607717</td>\n",
       "      <td>-0.607473</td>\n",
       "    </tr>\n",
       "    <tr>\n",
       "      <th>University of Applied Sciences</th>\n",
       "      <td>5</td>\n",
       "      <td>1.607717</td>\n",
       "      <td>0.658350</td>\n",
       "    </tr>\n",
       "  </tbody>\n",
       "</table>\n",
       "</div>"
      ],
      "text/plain": [
       "                                                  Count  Percentage  \\\n",
       "Where the previous job was based for Germany                          \n",
       "University                                          143   45.980707   \n",
       "Private Company                                      57   18.327974   \n",
       "Other                                                40   12.861736   \n",
       "Helmholtz Association of German Research Centres     31    9.967846   \n",
       "Leibniz Association                                  11    3.536977   \n",
       "Fraunhofer Society                                   10    3.215434   \n",
       "Max Planck Society                                    9    2.893891   \n",
       "Government                                            5    1.607717   \n",
       "University of Applied Sciences                        5    1.607717   \n",
       "\n",
       "                                                  Difference with previous year  \n",
       "Where the previous job was based for Germany                                     \n",
       "University                                                            -8.133217  \n",
       "Private Company                                                        7.884936  \n",
       "Other                                                                  2.418698  \n",
       "Helmholtz Association of German Research Centres                       3.005820  \n",
       "Leibniz Association                                                   -0.260491  \n",
       "Fraunhofer Society                                                          NaN  \n",
       "Max Planck Society                                                    -8.182059  \n",
       "Government                                                            -0.607473  \n",
       "University of Applied Sciences                                         0.658350  "
      ]
     },
     "execution_count": 7,
     "metadata": {},
     "output_type": "execute_result"
    }
   ],
   "source": [
    "country = 'Germany'\n",
    "category = 'Where the previous job was based'\n",
    "results = count_diff(df, prev_work, country, category)\n",
    "results"
   ]
  },
  {
   "cell_type": "code",
   "execution_count": 8,
   "metadata": {},
   "outputs": [
    {
     "data": {
      "image/png": "[encoded data removed]",
      "text/plain": [
       "<matplotlib.figure.Figure at 0x7f15265efc50>"
      ]
     },
     "metadata": {},
     "output_type": "display_data"
    }
   ],
   "source": [
    "plot_cat_comparison(results, country=country, category=category)"
   ]
  },
  {
   "cell_type": "markdown",
   "metadata": {},
   "source": [
    "### What were the reasons to choose the current job"
   ]
  },
  {
   "cell_type": "code",
   "execution_count": 14,
   "metadata": {},
   "outputs": [
    {
     "data": {
      "text/html": [
       "<div>\n",
       "<style>\n",
       "    .dataframe thead tr:only-child th {\n",
       "        text-align: right;\n",
       "    }\n",
       "\n",
       "    .dataframe thead th {\n",
       "        text-align: left;\n",
       "    }\n",
       "\n",
       "    .dataframe tbody tr th {\n",
       "        vertical-align: top;\n",
       "    }\n",
       "</style>\n",
       "<table border=\"1\" class=\"dataframe\">\n",
       "  <thead>\n",
       "    <tr style=\"text-align: right;\">\n",
       "      <th></th>\n",
       "      <th>Rank 1</th>\n",
       "      <th>Rank 2</th>\n",
       "      <th>Rank 3</th>\n",
       "      <th>Rank 4</th>\n",
       "      <th>Rank 5</th>\n",
       "    </tr>\n",
       "    <tr>\n",
       "      <th>Reasons to choose current job</th>\n",
       "      <th></th>\n",
       "      <th></th>\n",
       "      <th></th>\n",
       "      <th></th>\n",
       "      <th></th>\n",
       "    </tr>\n",
       "  </thead>\n",
       "  <tbody>\n",
       "    <tr>\n",
       "      <th>Freedom to choose own working practices</th>\n",
       "      <td>24.0625</td>\n",
       "      <td>16.8750</td>\n",
       "      <td>15.047022</td>\n",
       "      <td>8.777429</td>\n",
       "      <td>13.522013</td>\n",
       "    </tr>\n",
       "    <tr>\n",
       "      <th>Desire to work in a research environment</th>\n",
       "      <td>23.7500</td>\n",
       "      <td>15.6250</td>\n",
       "      <td>15.047022</td>\n",
       "      <td>8.150470</td>\n",
       "      <td>7.232704</td>\n",
       "    </tr>\n",
       "    <tr>\n",
       "      <th>Desire to advance research</th>\n",
       "      <td>16.5625</td>\n",
       "      <td>12.8125</td>\n",
       "      <td>8.150470</td>\n",
       "      <td>9.404389</td>\n",
       "      <td>6.918239</td>\n",
       "    </tr>\n",
       "    <tr>\n",
       "      <th>I want to learn new skills</th>\n",
       "      <td>12.8125</td>\n",
       "      <td>13.4375</td>\n",
       "      <td>15.360502</td>\n",
       "      <td>15.360502</td>\n",
       "      <td>14.465409</td>\n",
       "    </tr>\n",
       "    <tr>\n",
       "      <th>Opportunity to develop software</th>\n",
       "      <td>8.4375</td>\n",
       "      <td>13.7500</td>\n",
       "      <td>14.733542</td>\n",
       "      <td>10.658307</td>\n",
       "      <td>9.748428</td>\n",
       "    </tr>\n",
       "    <tr>\n",
       "      <th>Opportunity for career advancement</th>\n",
       "      <td>4.6875</td>\n",
       "      <td>4.0625</td>\n",
       "      <td>7.523511</td>\n",
       "      <td>7.523511</td>\n",
       "      <td>7.232704</td>\n",
       "    </tr>\n",
       "    <tr>\n",
       "      <th>Ability to work across disciplines</th>\n",
       "      <td>3.4375</td>\n",
       "      <td>11.5625</td>\n",
       "      <td>9.090909</td>\n",
       "      <td>15.047022</td>\n",
       "      <td>12.578616</td>\n",
       "    </tr>\n",
       "    <tr>\n",
       "      <th>Flexible working hours</th>\n",
       "      <td>3.4375</td>\n",
       "      <td>9.6875</td>\n",
       "      <td>11.598746</td>\n",
       "      <td>17.554859</td>\n",
       "      <td>18.553459</td>\n",
       "    </tr>\n",
       "    <tr>\n",
       "      <th>The salary</th>\n",
       "      <td>2.8125</td>\n",
       "      <td>2.1875</td>\n",
       "      <td>3.448276</td>\n",
       "      <td>7.523511</td>\n",
       "      <td>9.748428</td>\n",
       "    </tr>\n",
       "  </tbody>\n",
       "</table>\n",
       "</div>"
      ],
      "text/plain": [
       "                                           Rank 1   Rank 2     Rank 3  \\\n",
       "Reasons to choose current job                                           \n",
       "Freedom to choose own working practices   24.0625  16.8750  15.047022   \n",
       "Desire to work in a research environment  23.7500  15.6250  15.047022   \n",
       "Desire to advance research                16.5625  12.8125   8.150470   \n",
       "I want to learn new skills                12.8125  13.4375  15.360502   \n",
       "Opportunity to develop software            8.4375  13.7500  14.733542   \n",
       "Opportunity for career advancement         4.6875   4.0625   7.523511   \n",
       "Ability to work across disciplines         3.4375  11.5625   9.090909   \n",
       "Flexible working hours                     3.4375   9.6875  11.598746   \n",
       "The salary                                 2.8125   2.1875   3.448276   \n",
       "\n",
       "                                             Rank 4     Rank 5  \n",
       "Reasons to choose current job                                   \n",
       "Freedom to choose own working practices    8.777429  13.522013  \n",
       "Desire to work in a research environment   8.150470   7.232704  \n",
       "Desire to advance research                 9.404389   6.918239  \n",
       "I want to learn new skills                15.360502  14.465409  \n",
       "Opportunity to develop software           10.658307   9.748428  \n",
       "Opportunity for career advancement         7.523511   7.232704  \n",
       "Ability to work across disciplines        15.047022  12.578616  \n",
       "Flexible working hours                    17.554859  18.553459  \n",
       "The salary                                 7.523511   9.748428  "
      ]
     },
     "execution_count": 14,
     "metadata": {},
     "output_type": "execute_result"
    }
   ],
   "source": [
    "category = 'Reasons to choose current job'\n",
    "results = count_ranking(df, reason_choice, country, category)\n",
    "results"
   ]
  },
  {
   "cell_type": "code",
   "execution_count": 11,
   "metadata": {},
   "outputs": [
    {
     "data": {
      "image/png": "[encoded data removed]",
      "text/plain": [
       "<matplotlib.figure.Figure at 0x7f152647e630>"
      ]
     },
     "metadata": {},
     "output_type": "display_data"
    }
   ],
   "source": [
    "plot_ranking(results, category, country)"
   ]
  },
  {
   "cell_type": "markdown",
   "metadata": {},
   "source": [
    "## New Zealand"
   ]
  },
  {
   "cell_type": "markdown",
   "metadata": {},
   "source": [
    "### Where the previous job was based"
   ]
  },
  {
   "cell_type": "code",
   "execution_count": null,
   "metadata": {},
   "outputs": [],
   "source": [
    "country = 'New Zealand'\n",
    "category = 'Where the previous job was based'\n",
    "results = count_diff(df, prev_work, country, category)\n",
    "results"
   ]
  },
  {
   "cell_type": "code",
   "execution_count": null,
   "metadata": {},
   "outputs": [],
   "source": [
    "plot_cat_comparison(results, country=country, category=category)"
   ]
  },
  {
   "cell_type": "markdown",
   "metadata": {},
   "source": [
    "### What were the reasons to choose the current job"
   ]
  },
  {
   "cell_type": "code",
   "execution_count": null,
   "metadata": {},
   "outputs": [],
   "source": [
    "category = 'Reasons to choose current job'\n",
    "results = count_ranking(df, reason_choice, country, category)\n",
    "results"
   ]
  },
  {
   "cell_type": "code",
   "execution_count": null,
   "metadata": {},
   "outputs": [],
   "source": [
    "plot_ranking(results, category, country)"
   ]
  },
  {
   "cell_type": "markdown",
   "metadata": {},
   "source": [
    "## South Africa"
   ]
  },
  {
   "cell_type": "markdown",
   "metadata": {},
   "source": [
    "### Where the previous job was based"
   ]
  },
  {
   "cell_type": "code",
   "execution_count": null,
   "metadata": {},
   "outputs": [],
   "source": [
    "country = 'South Africa'\n",
    "category = 'Where the previous job was based'\n",
    "results = count_diff(df, prev_work, country, category)\n",
    "results"
   ]
  },
  {
   "cell_type": "code",
   "execution_count": null,
   "metadata": {},
   "outputs": [],
   "source": [
    "plot_cat_comparison(results, country=country, category=category)"
   ]
  },
  {
   "cell_type": "markdown",
   "metadata": {},
   "source": [
    "### What were the reasons to choose the current job"
   ]
  },
  {
   "cell_type": "code",
   "execution_count": null,
   "metadata": {},
   "outputs": [],
   "source": [
    "category = 'Reasons to choose current job'\n",
    "results = count_ranking(df, reason_choice, country, category)\n",
    "results"
   ]
  },
  {
   "cell_type": "code",
   "execution_count": null,
   "metadata": {},
   "outputs": [],
   "source": [
    "plot_ranking(results, category, country)"
   ]
  },
  {
   "cell_type": "markdown",
   "metadata": {},
   "source": [
    "## United Kingdom"
   ]
  },
  {
   "cell_type": "markdown",
   "metadata": {},
   "source": [
    "### Where the previous job was based"
   ]
  },
  {
   "cell_type": "code",
   "execution_count": null,
   "metadata": {},
   "outputs": [],
   "source": [
    "country = 'United Kingdom'\n",
    "category = 'Where the previous job was based'\n",
    "results = count_diff(df, prev_work, country, category)\n",
    "results"
   ]
  },
  {
   "cell_type": "code",
   "execution_count": null,
   "metadata": {},
   "outputs": [],
   "source": [
    "plot_cat_comparison(results, country=country, category=category)"
   ]
  },
  {
   "cell_type": "markdown",
   "metadata": {},
   "source": [
    "### What were the reasons to choose the current job"
   ]
  },
  {
   "cell_type": "code",
   "execution_count": null,
   "metadata": {},
   "outputs": [],
   "source": [
    "category = 'Reasons to choose current job'\n",
    "results = count_ranking(df, reason_choice, country, category)\n",
    "results"
   ]
  },
  {
   "cell_type": "code",
   "execution_count": null,
   "metadata": {},
   "outputs": [],
   "source": [
    "plot_ranking(results, category, country)"
   ]
  },
  {
   "cell_type": "markdown",
   "metadata": {},
   "source": [
    "## United States"
   ]
  },
  {
   "cell_type": "markdown",
   "metadata": {},
   "source": [
    "### Where the previous job was based"
   ]
  },
  {
   "cell_type": "code",
   "execution_count": null,
   "metadata": {},
   "outputs": [],
   "source": [
    "country = 'United States'\n",
    "category = 'Where the previous job was based'\n",
    "results = count_diff(df, prev_work, country, category)\n",
    "results"
   ]
  },
  {
   "cell_type": "code",
   "execution_count": null,
   "metadata": {},
   "outputs": [],
   "source": [
    "plot_cat_comparison(results, country=country, category=category)"
   ]
  },
  {
   "cell_type": "markdown",
   "metadata": {},
   "source": [
    "### What were the reasons to choose the current job"
   ]
  },
  {
   "cell_type": "code",
   "execution_count": null,
   "metadata": {},
   "outputs": [],
   "source": [
    "category = 'Reasons to choose current job'\n",
    "results = count_ranking(df, reason_choice, country, category)\n",
    "results"
   ]
  },
  {
   "cell_type": "code",
   "execution_count": null,
   "metadata": {},
   "outputs": [],
   "source": [
    "plot_ranking(results, category, country)"
   ]
  },
  {
   "cell_type": "markdown",
   "metadata": {},
   "source": [
    "## Rest of the world"
   ]
  },
  {
   "cell_type": "markdown",
   "metadata": {},
   "source": [
    "### Where the previous job was based"
   ]
  },
  {
   "cell_type": "code",
   "execution_count": null,
   "metadata": {},
   "outputs": [],
   "source": [
    "country = 'World'\n",
    "category = 'Where the previous job was based'\n",
    "results = count_diff(df, prev_work, country, category)\n",
    "results"
   ]
  },
  {
   "cell_type": "code",
   "execution_count": null,
   "metadata": {},
   "outputs": [],
   "source": [
    "plot_cat_comparison(results, country=country, category=category)"
   ]
  },
  {
   "cell_type": "markdown",
   "metadata": {},
   "source": [
    "### What were the reasons to choose the current job"
   ]
  },
  {
   "cell_type": "code",
   "execution_count": null,
   "metadata": {},
   "outputs": [],
   "source": [
    "category = 'Reasons to choose current job'\n",
    "results = count_ranking(df, reason_choice, country, category)\n",
    "results"
   ]
  },
  {
   "cell_type": "code",
   "execution_count": null,
   "metadata": {
    "scrolled": true
   },
   "outputs": [],
   "source": [
    "plot_ranking(results, category, country)"
   ]
  },
  {
   "cell_type": "code",
   "execution_count": null,
   "metadata": {
    "collapsed": true
   },
   "outputs": [],
   "source": []
  }
 ],
 "metadata": {
  "kernelspec": {
   "display_name": "Python 3",
   "language": "python",
   "name": "python3"
  },
  "language_info": {
   "codemirror_mode": {
    "name": "ipython",
    "version": 3
   },
   "file_extension": ".py",
   "mimetype": "text/x-python",
   "name": "python",
   "nbconvert_exporter": "python",
   "pygments_lexer": "ipython3",
   "version": "3.6.7"
  },
  "toc": {
   "base_numbering": 1,
   "nav_menu": {
    "height": "470px",
    "width": "252px"
   },
   "number_sections": true,
   "sideBar": true,
   "skip_h1_title": false,
   "title_cell": "Table of Contents",
   "title_sidebar": "Contents",
   "toc_cell": true,
   "toc_position": {},
   "toc_section_display": "block",
   "toc_window_display": true
  }
 },
 "nbformat": 4,
 "nbformat_minor": 2
}
