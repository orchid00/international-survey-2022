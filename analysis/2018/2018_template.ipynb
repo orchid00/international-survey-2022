{
 "cells": [
  {
   "cell_type": "markdown",
   "metadata": {
    "toc": "true"
   },
   "source": [
    "# Table of Contents\n",
    " <p><div class=\"lev1 toc-item\"><a href=\"#Importing-modules\" data-toc-modified-id=\"Importing-modules-1\"><span class=\"toc-item-num\">1&nbsp;&nbsp;</span>Importing modules</a></div><div class=\"lev1 toc-item\"><a href=\"#Functions\" data-toc-modified-id=\"Functions-2\"><span class=\"toc-item-num\">2&nbsp;&nbsp;</span>Functions</a></div><div class=\"lev2 toc-item\"><a href=\"#Counting-the-answers-and-get-results\" data-toc-modified-id=\"Counting-the-answers-and-get-results-21\"><span class=\"toc-item-num\">2.1&nbsp;&nbsp;</span>Counting the answers and get results</a></div><div class=\"lev2 toc-item\"><a href=\"#Plotting-functions\" data-toc-modified-id=\"Plotting-functions-22\"><span class=\"toc-item-num\">2.2&nbsp;&nbsp;</span>Plotting functions</a></div><div class=\"lev1 toc-item\"><a href=\"#Overview-and-cleaning\" data-toc-modified-id=\"Overview-and-cleaning-3\"><span class=\"toc-item-num\">3&nbsp;&nbsp;</span>Overview and cleaning</a></div><div class=\"lev2 toc-item\"><a href=\"#Total-of-participants-and-removing-non-programmer\" data-toc-modified-id=\"Total-of-participants-and-removing-non-programmer-31\"><span class=\"toc-item-num\">3.1&nbsp;&nbsp;</span>Total of participants and removing non programmer</a></div><div class=\"lev2 toc-item\"><a href=\"#Repartition-per-countries.\" data-toc-modified-id=\"Repartition-per-countries.-32\"><span class=\"toc-item-num\">3.2&nbsp;&nbsp;</span>Repartition per countries.</a></div><div class=\"lev3 toc-item\"><a href=\"#Count-of-participants-per-country\" data-toc-modified-id=\"Count-of-participants-per-country-321\"><span class=\"toc-item-num\">3.2.1&nbsp;&nbsp;</span>Count of participants per country</a></div><div class=\"lev3 toc-item\"><a href=\"#Visual-representation-of-countries-repartition\" data-toc-modified-id=\"Visual-representation-of-countries-repartition-322\"><span class=\"toc-item-num\">3.2.2&nbsp;&nbsp;</span>Visual representation of countries repartition</a></div><div class=\"lev3 toc-item\"><a href=\"#Create-a-category-world\" data-toc-modified-id=\"Create-a-category-world-323\"><span class=\"toc-item-num\">3.2.3&nbsp;&nbsp;</span>Create a category world</a></div><div class=\"lev3 toc-item\"><a href=\"#Difference-with-the-previous-year\" data-toc-modified-id=\"Difference-with-the-previous-year-324\"><span class=\"toc-item-num\">3.2.4&nbsp;&nbsp;</span>Difference with the previous year</a></div><div class=\"lev2 toc-item\"><a href=\"#Selecting-valid-participants-only\" data-toc-modified-id=\"Selecting-valid-participants-only-33\"><span class=\"toc-item-num\">3.3&nbsp;&nbsp;</span>Selecting valid participants only</a></div><div class=\"lev1 toc-item\"><a href=\"#Education-and-previous-formation\" data-toc-modified-id=\"Education-and-previous-formation-4\"><span class=\"toc-item-num\">4&nbsp;&nbsp;</span>Education and previous formation</a></div><div class=\"lev2 toc-item\"><a href=\"#Levels-of-education\" data-toc-modified-id=\"Levels-of-education-41\"><span class=\"toc-item-num\">4.1&nbsp;&nbsp;</span>Levels of education</a></div><div class=\"lev3 toc-item\"><a href=\"#Australia\" data-toc-modified-id=\"Australia-411\"><span class=\"toc-item-num\">4.1.1&nbsp;&nbsp;</span>Australia</a></div><div class=\"lev3 toc-item\"><a href=\"#Germany\" data-toc-modified-id=\"Germany-412\"><span class=\"toc-item-num\">4.1.2&nbsp;&nbsp;</span>Germany</a></div><div class=\"lev3 toc-item\"><a href=\"#Netherlands\" data-toc-modified-id=\"Netherlands-413\"><span class=\"toc-item-num\">4.1.3&nbsp;&nbsp;</span>Netherlands</a></div><div class=\"lev3 toc-item\"><a href=\"#New-Zealand\" data-toc-modified-id=\"New-Zealand-414\"><span class=\"toc-item-num\">4.1.4&nbsp;&nbsp;</span>New Zealand</a></div><div class=\"lev3 toc-item\"><a href=\"#South-Africa\" data-toc-modified-id=\"South-Africa-415\"><span class=\"toc-item-num\">4.1.5&nbsp;&nbsp;</span>South Africa</a></div><div class=\"lev3 toc-item\"><a href=\"#United-Kingdom\" data-toc-modified-id=\"United-Kingdom-416\"><span class=\"toc-item-num\">4.1.6&nbsp;&nbsp;</span>United Kingdom</a></div><div class=\"lev3 toc-item\"><a href=\"#United-States\" data-toc-modified-id=\"United-States-417\"><span class=\"toc-item-num\">4.1.7&nbsp;&nbsp;</span>United States</a></div><div class=\"lev3 toc-item\"><a href=\"#Rest-of-the-World\" data-toc-modified-id=\"Rest-of-the-World-418\"><span class=\"toc-item-num\">4.1.8&nbsp;&nbsp;</span>Rest of the World</a></div><div class=\"lev3 toc-item\"><a href=\"#Comparison-between-countries\" data-toc-modified-id=\"Comparison-between-countries-419\"><span class=\"toc-item-num\">4.1.9&nbsp;&nbsp;</span>Comparison between countries</a></div><div class=\"lev2 toc-item\"><a href=\"#Academic-field-for-education-and-professional-development\" data-toc-modified-id=\"Academic-field-for-education-and-professional-development-42\"><span class=\"toc-item-num\">4.2&nbsp;&nbsp;</span>Academic field for education and professional development</a></div><div class=\"lev3 toc-item\"><a href=\"#Australia\" data-toc-modified-id=\"Australia-421\"><span class=\"toc-item-num\">4.2.1&nbsp;&nbsp;</span>Australia</a></div><div class=\"lev3 toc-item\"><a href=\"#Germany\" data-toc-modified-id=\"Germany-422\"><span class=\"toc-item-num\">4.2.2&nbsp;&nbsp;</span>Germany</a></div><div class=\"lev3 toc-item\"><a href=\"#Netherlands\" data-toc-modified-id=\"Netherlands-423\"><span class=\"toc-item-num\">4.2.3&nbsp;&nbsp;</span>Netherlands</a></div><div class=\"lev3 toc-item\"><a href=\"#New-Zealand\" data-toc-modified-id=\"New-Zealand-424\"><span class=\"toc-item-num\">4.2.4&nbsp;&nbsp;</span>New Zealand</a></div><div class=\"lev3 toc-item\"><a href=\"#South-Africa\" data-toc-modified-id=\"South-Africa-425\"><span class=\"toc-item-num\">4.2.5&nbsp;&nbsp;</span>South Africa</a></div><div class=\"lev3 toc-item\"><a href=\"#United-Kingdom\" data-toc-modified-id=\"United-Kingdom-426\"><span class=\"toc-item-num\">4.2.6&nbsp;&nbsp;</span>United Kingdom</a></div><div class=\"lev3 toc-item\"><a href=\"#United-States\" data-toc-modified-id=\"United-States-427\"><span class=\"toc-item-num\">4.2.7&nbsp;&nbsp;</span>United States</a></div><div class=\"lev3 toc-item\"><a href=\"#Rest-of-the-world\" data-toc-modified-id=\"Rest-of-the-world-428\"><span class=\"toc-item-num\">4.2.8&nbsp;&nbsp;</span>Rest of the world</a></div><div class=\"lev3 toc-item\"><a href=\"#Comparison-between-countries\" data-toc-modified-id=\"Comparison-between-countries-429\"><span class=\"toc-item-num\">4.2.9&nbsp;&nbsp;</span>Comparison between countries</a></div><div class=\"lev1 toc-item\"><a href=\"#Current-employment\" data-toc-modified-id=\"Current-employment-5\"><span class=\"toc-item-num\">5&nbsp;&nbsp;</span>Current employment</a></div><div class=\"lev2 toc-item\"><a href=\"#Academic-field-of-work\" data-toc-modified-id=\"Academic-field-of-work-51\"><span class=\"toc-item-num\">5.1&nbsp;&nbsp;</span>Academic field of work</a></div><div class=\"lev3 toc-item\"><a href=\"#Australia\" data-toc-modified-id=\"Australia-511\"><span class=\"toc-item-num\">5.1.1&nbsp;&nbsp;</span>Australia</a></div><div class=\"lev3 toc-item\"><a href=\"#Germany\" data-toc-modified-id=\"Germany-512\"><span class=\"toc-item-num\">5.1.2&nbsp;&nbsp;</span>Germany</a></div><div class=\"lev3 toc-item\"><a href=\"#Netherlands\" data-toc-modified-id=\"Netherlands-513\"><span class=\"toc-item-num\">5.1.3&nbsp;&nbsp;</span>Netherlands</a></div><div class=\"lev3 toc-item\"><a href=\"#New-Zealand\" data-toc-modified-id=\"New-Zealand-514\"><span class=\"toc-item-num\">5.1.4&nbsp;&nbsp;</span>New Zealand</a></div><div class=\"lev3 toc-item\"><a href=\"#South-Africa\" data-toc-modified-id=\"South-Africa-515\"><span class=\"toc-item-num\">5.1.5&nbsp;&nbsp;</span>South Africa</a></div><div class=\"lev3 toc-item\"><a href=\"#United-Kingdom\" data-toc-modified-id=\"United-Kingdom-516\"><span class=\"toc-item-num\">5.1.6&nbsp;&nbsp;</span>United Kingdom</a></div><div class=\"lev3 toc-item\"><a href=\"#United-States\" data-toc-modified-id=\"United-States-517\"><span class=\"toc-item-num\">5.1.7&nbsp;&nbsp;</span>United States</a></div><div class=\"lev3 toc-item\"><a href=\"#Rest-of-the-World\" data-toc-modified-id=\"Rest-of-the-World-518\"><span class=\"toc-item-num\">5.1.8&nbsp;&nbsp;</span>Rest of the World</a></div><div class=\"lev2 toc-item\"><a href=\"#Type-of-contract-and-type-of-organisation\" data-toc-modified-id=\"Type-of-contract-and-type-of-organisation-52\"><span class=\"toc-item-num\">5.2&nbsp;&nbsp;</span>Type of contract and type of organisation</a></div><div class=\"lev3 toc-item\"><a href=\"#Australia\" data-toc-modified-id=\"Australia-521\"><span class=\"toc-item-num\">5.2.1&nbsp;&nbsp;</span>Australia</a></div><div class=\"lev4 toc-item\"><a href=\"#Type-of-organisation\" data-toc-modified-id=\"Type-of-organisation-5211\"><span class=\"toc-item-num\">5.2.1.1&nbsp;&nbsp;</span>Type of organisation</a></div><div class=\"lev4 toc-item\"><a href=\"#Which-University\" data-toc-modified-id=\"Which-University-5212\"><span class=\"toc-item-num\">5.2.1.2&nbsp;&nbsp;</span>Which University</a></div><div class=\"lev4 toc-item\"><a href=\"#Type-of-contract\" data-toc-modified-id=\"Type-of-contract-5213\"><span class=\"toc-item-num\">5.2.1.3&nbsp;&nbsp;</span>Type of contract</a></div><div class=\"lev4 toc-item\"><a href=\"#Full-time-or-part-time\" data-toc-modified-id=\"Full-time-or-part-time-5214\"><span class=\"toc-item-num\">5.2.1.4&nbsp;&nbsp;</span>Full time or part-time</a></div><div class=\"lev4 toc-item\"><a href=\"#Length-of-the-current-position\" data-toc-modified-id=\"Length-of-the-current-position-5215\"><span class=\"toc-item-num\">5.2.1.5&nbsp;&nbsp;</span>Length of the current position</a></div><div class=\"lev4 toc-item\"><a href=\"#Salary\" data-toc-modified-id=\"Salary-5216\"><span class=\"toc-item-num\">5.2.1.6&nbsp;&nbsp;</span>Salary</a></div><div class=\"lev4 toc-item\"><a href=\"#Funding\" data-toc-modified-id=\"Funding-5217\"><span class=\"toc-item-num\">5.2.1.7&nbsp;&nbsp;</span>Funding</a></div><div class=\"lev4 toc-item\"><a href=\"#Job-title\" data-toc-modified-id=\"Job-title-5218\"><span class=\"toc-item-num\">5.2.1.8&nbsp;&nbsp;</span>Job title</a></div><div class=\"lev3 toc-item\"><a href=\"#Germany\" data-toc-modified-id=\"Germany-522\"><span class=\"toc-item-num\">5.2.2&nbsp;&nbsp;</span>Germany</a></div><div class=\"lev4 toc-item\"><a href=\"#Type-of-organisation\" data-toc-modified-id=\"Type-of-organisation-5221\"><span class=\"toc-item-num\">5.2.2.1&nbsp;&nbsp;</span>Type of organisation</a></div><div class=\"lev4 toc-item\"><a href=\"#Which-University\" data-toc-modified-id=\"Which-University-5222\"><span class=\"toc-item-num\">5.2.2.2&nbsp;&nbsp;</span>Which University</a></div><div class=\"lev4 toc-item\"><a href=\"#Which-organisation\" data-toc-modified-id=\"Which-organisation-5223\"><span class=\"toc-item-num\">5.2.2.3&nbsp;&nbsp;</span>Which organisation</a></div><div class=\"lev4 toc-item\"><a href=\"#Type-of-contract\" data-toc-modified-id=\"Type-of-contract-5224\"><span class=\"toc-item-num\">5.2.2.4&nbsp;&nbsp;</span>Type of contract</a></div><div class=\"lev4 toc-item\"><a href=\"#Full-time-or-part-time\" data-toc-modified-id=\"Full-time-or-part-time-5225\"><span class=\"toc-item-num\">5.2.2.5&nbsp;&nbsp;</span>Full time or part-time</a></div><div class=\"lev4 toc-item\"><a href=\"#Length-of-the-current-position\" data-toc-modified-id=\"Length-of-the-current-position-5226\"><span class=\"toc-item-num\">5.2.2.6&nbsp;&nbsp;</span>Length of the current position</a></div><div class=\"lev4 toc-item\"><a href=\"#Salary\" data-toc-modified-id=\"Salary-5227\"><span class=\"toc-item-num\">5.2.2.7&nbsp;&nbsp;</span>Salary</a></div><div class=\"lev4 toc-item\"><a href=\"#Funding\" data-toc-modified-id=\"Funding-5228\"><span class=\"toc-item-num\">5.2.2.8&nbsp;&nbsp;</span>Funding</a></div><div class=\"lev4 toc-item\"><a href=\"#Job-title\" data-toc-modified-id=\"Job-title-5229\"><span class=\"toc-item-num\">5.2.2.9&nbsp;&nbsp;</span>Job title</a></div><div class=\"lev3 toc-item\"><a href=\"#Netherlands\" data-toc-modified-id=\"Netherlands-523\"><span class=\"toc-item-num\">5.2.3&nbsp;&nbsp;</span>Netherlands</a></div><div class=\"lev4 toc-item\"><a href=\"#Type-of-organisation\" data-toc-modified-id=\"Type-of-organisation-5231\"><span class=\"toc-item-num\">5.2.3.1&nbsp;&nbsp;</span>Type of organisation</a></div><div class=\"lev4 toc-item\"><a href=\"#Which-University\" data-toc-modified-id=\"Which-University-5232\"><span class=\"toc-item-num\">5.2.3.2&nbsp;&nbsp;</span>Which University</a></div><div class=\"lev4 toc-item\"><a href=\"#Type-of-contract\" data-toc-modified-id=\"Type-of-contract-5233\"><span class=\"toc-item-num\">5.2.3.3&nbsp;&nbsp;</span>Type of contract</a></div><div class=\"lev4 toc-item\"><a href=\"#Full-time-or-part-time\" data-toc-modified-id=\"Full-time-or-part-time-5234\"><span class=\"toc-item-num\">5.2.3.4&nbsp;&nbsp;</span>Full time or part-time</a></div><div class=\"lev4 toc-item\"><a href=\"#Length-of-the-current-position\" data-toc-modified-id=\"Length-of-the-current-position-5235\"><span class=\"toc-item-num\">5.2.3.5&nbsp;&nbsp;</span>Length of the current position</a></div><div class=\"lev4 toc-item\"><a href=\"#Salary\" data-toc-modified-id=\"Salary-5236\"><span class=\"toc-item-num\">5.2.3.6&nbsp;&nbsp;</span>Salary</a></div><div class=\"lev4 toc-item\"><a href=\"#Funding\" data-toc-modified-id=\"Funding-5237\"><span class=\"toc-item-num\">5.2.3.7&nbsp;&nbsp;</span>Funding</a></div><div class=\"lev4 toc-item\"><a href=\"#Job-title\" data-toc-modified-id=\"Job-title-5238\"><span class=\"toc-item-num\">5.2.3.8&nbsp;&nbsp;</span>Job title</a></div><div class=\"lev3 toc-item\"><a href=\"#New-Zealand\" data-toc-modified-id=\"New-Zealand-524\"><span class=\"toc-item-num\">5.2.4&nbsp;&nbsp;</span>New Zealand</a></div><div class=\"lev4 toc-item\"><a href=\"#Type-of-organisation\" data-toc-modified-id=\"Type-of-organisation-5241\"><span class=\"toc-item-num\">5.2.4.1&nbsp;&nbsp;</span>Type of organisation</a></div><div class=\"lev4 toc-item\"><a href=\"#Which-University\" data-toc-modified-id=\"Which-University-5242\"><span class=\"toc-item-num\">5.2.4.2&nbsp;&nbsp;</span>Which University</a></div><div class=\"lev4 toc-item\"><a href=\"#Type-of-contract\" data-toc-modified-id=\"Type-of-contract-5243\"><span class=\"toc-item-num\">5.2.4.3&nbsp;&nbsp;</span>Type of contract</a></div><div class=\"lev4 toc-item\"><a href=\"#Full-time-or-part-time\" data-toc-modified-id=\"Full-time-or-part-time-5244\"><span class=\"toc-item-num\">5.2.4.4&nbsp;&nbsp;</span>Full time or part-time</a></div><div class=\"lev4 toc-item\"><a href=\"#Length-of-the-current-position\" data-toc-modified-id=\"Length-of-the-current-position-5245\"><span class=\"toc-item-num\">5.2.4.5&nbsp;&nbsp;</span>Length of the current position</a></div><div class=\"lev4 toc-item\"><a href=\"#Salary\" data-toc-modified-id=\"Salary-5246\"><span class=\"toc-item-num\">5.2.4.6&nbsp;&nbsp;</span>Salary</a></div><div class=\"lev4 toc-item\"><a href=\"#Funding\" data-toc-modified-id=\"Funding-5247\"><span class=\"toc-item-num\">5.2.4.7&nbsp;&nbsp;</span>Funding</a></div><div class=\"lev4 toc-item\"><a href=\"#Job-title\" data-toc-modified-id=\"Job-title-5248\"><span class=\"toc-item-num\">5.2.4.8&nbsp;&nbsp;</span>Job title</a></div><div class=\"lev3 toc-item\"><a href=\"#South-Africa\" data-toc-modified-id=\"South-Africa-525\"><span class=\"toc-item-num\">5.2.5&nbsp;&nbsp;</span>South Africa</a></div><div class=\"lev4 toc-item\"><a href=\"#Type-of-organisation\" data-toc-modified-id=\"Type-of-organisation-5251\"><span class=\"toc-item-num\">5.2.5.1&nbsp;&nbsp;</span>Type of organisation</a></div><div class=\"lev4 toc-item\"><a href=\"#Which-University\" data-toc-modified-id=\"Which-University-5252\"><span class=\"toc-item-num\">5.2.5.2&nbsp;&nbsp;</span>Which University</a></div><div class=\"lev4 toc-item\"><a href=\"#Type-of-contract\" data-toc-modified-id=\"Type-of-contract-5253\"><span class=\"toc-item-num\">5.2.5.3&nbsp;&nbsp;</span>Type of contract</a></div><div class=\"lev4 toc-item\"><a href=\"#Full-time-or-part-time\" data-toc-modified-id=\"Full-time-or-part-time-5254\"><span class=\"toc-item-num\">5.2.5.4&nbsp;&nbsp;</span>Full time or part-time</a></div><div class=\"lev4 toc-item\"><a href=\"#Length-of-the-current-position\" data-toc-modified-id=\"Length-of-the-current-position-5255\"><span class=\"toc-item-num\">5.2.5.5&nbsp;&nbsp;</span>Length of the current position</a></div><div class=\"lev4 toc-item\"><a href=\"#Salary\" data-toc-modified-id=\"Salary-5256\"><span class=\"toc-item-num\">5.2.5.6&nbsp;&nbsp;</span>Salary</a></div><div class=\"lev4 toc-item\"><a href=\"#Funding\" data-toc-modified-id=\"Funding-5257\"><span class=\"toc-item-num\">5.2.5.7&nbsp;&nbsp;</span>Funding</a></div><div class=\"lev4 toc-item\"><a href=\"#Job-title\" data-toc-modified-id=\"Job-title-5258\"><span class=\"toc-item-num\">5.2.5.8&nbsp;&nbsp;</span>Job title</a></div><div class=\"lev3 toc-item\"><a href=\"#United-Kingdom\" data-toc-modified-id=\"United-Kingdom-526\"><span class=\"toc-item-num\">5.2.6&nbsp;&nbsp;</span>United Kingdom</a></div><div class=\"lev4 toc-item\"><a href=\"#Type-of-organisation\" data-toc-modified-id=\"Type-of-organisation-5261\"><span class=\"toc-item-num\">5.2.6.1&nbsp;&nbsp;</span>Type of organisation</a></div><div class=\"lev4 toc-item\"><a href=\"#Which-University\" data-toc-modified-id=\"Which-University-5262\"><span class=\"toc-item-num\">5.2.6.2&nbsp;&nbsp;</span>Which University</a></div><div class=\"lev4 toc-item\"><a href=\"#Type-of-contract\" data-toc-modified-id=\"Type-of-contract-5263\"><span class=\"toc-item-num\">5.2.6.3&nbsp;&nbsp;</span>Type of contract</a></div><div class=\"lev4 toc-item\"><a href=\"#Full-time-or-part-time\" data-toc-modified-id=\"Full-time-or-part-time-5264\"><span class=\"toc-item-num\">5.2.6.4&nbsp;&nbsp;</span>Full time or part-time</a></div><div class=\"lev4 toc-item\"><a href=\"#Length-of-the-current-position\" data-toc-modified-id=\"Length-of-the-current-position-5265\"><span class=\"toc-item-num\">5.2.6.5&nbsp;&nbsp;</span>Length of the current position</a></div><div class=\"lev4 toc-item\"><a href=\"#Salary\" data-toc-modified-id=\"Salary-5266\"><span class=\"toc-item-num\">5.2.6.6&nbsp;&nbsp;</span>Salary</a></div><div class=\"lev4 toc-item\"><a href=\"#Funding\" data-toc-modified-id=\"Funding-5267\"><span class=\"toc-item-num\">5.2.6.7&nbsp;&nbsp;</span>Funding</a></div><div class=\"lev4 toc-item\"><a href=\"#Job-title\" data-toc-modified-id=\"Job-title-5268\"><span class=\"toc-item-num\">5.2.6.8&nbsp;&nbsp;</span>Job title</a></div><div class=\"lev3 toc-item\"><a href=\"#United-States\" data-toc-modified-id=\"United-States-527\"><span class=\"toc-item-num\">5.2.7&nbsp;&nbsp;</span>United States</a></div><div class=\"lev4 toc-item\"><a href=\"#Type-of-organisation\" data-toc-modified-id=\"Type-of-organisation-5271\"><span class=\"toc-item-num\">5.2.7.1&nbsp;&nbsp;</span>Type of organisation</a></div><div class=\"lev4 toc-item\"><a href=\"#Which-University\" data-toc-modified-id=\"Which-University-5272\"><span class=\"toc-item-num\">5.2.7.2&nbsp;&nbsp;</span>Which University</a></div><div class=\"lev4 toc-item\"><a href=\"#Type-of-contract\" data-toc-modified-id=\"Type-of-contract-5273\"><span class=\"toc-item-num\">5.2.7.3&nbsp;&nbsp;</span>Type of contract</a></div><div class=\"lev4 toc-item\"><a href=\"#Full-time-or-part-time\" data-toc-modified-id=\"Full-time-or-part-time-5274\"><span class=\"toc-item-num\">5.2.7.4&nbsp;&nbsp;</span>Full time or part-time</a></div><div class=\"lev4 toc-item\"><a href=\"#Length-of-the-current-position\" data-toc-modified-id=\"Length-of-the-current-position-5275\"><span class=\"toc-item-num\">5.2.7.5&nbsp;&nbsp;</span>Length of the current position</a></div><div class=\"lev4 toc-item\"><a href=\"#Salary\" data-toc-modified-id=\"Salary-5276\"><span class=\"toc-item-num\">5.2.7.6&nbsp;&nbsp;</span>Salary</a></div><div class=\"lev4 toc-item\"><a href=\"#Funding\" data-toc-modified-id=\"Funding-5277\"><span class=\"toc-item-num\">5.2.7.7&nbsp;&nbsp;</span>Funding</a></div><div class=\"lev4 toc-item\"><a href=\"#Job-title\" data-toc-modified-id=\"Job-title-5278\"><span class=\"toc-item-num\">5.2.7.8&nbsp;&nbsp;</span>Job title</a></div><div class=\"lev3 toc-item\"><a href=\"#Rest-of-the-World\" data-toc-modified-id=\"Rest-of-the-World-528\"><span class=\"toc-item-num\">5.2.8&nbsp;&nbsp;</span>Rest of the World</a></div><div class=\"lev4 toc-item\"><a href=\"#Type-of-organisation\" data-toc-modified-id=\"Type-of-organisation-5281\"><span class=\"toc-item-num\">5.2.8.1&nbsp;&nbsp;</span>Type of organisation</a></div><div class=\"lev4 toc-item\"><a href=\"#Which-University\" data-toc-modified-id=\"Which-University-5282\"><span class=\"toc-item-num\">5.2.8.2&nbsp;&nbsp;</span>Which University</a></div><div class=\"lev4 toc-item\"><a href=\"#Type-of-contract\" data-toc-modified-id=\"Type-of-contract-5283\"><span class=\"toc-item-num\">5.2.8.3&nbsp;&nbsp;</span>Type of contract</a></div><div class=\"lev4 toc-item\"><a href=\"#Full-time-or-part-time\" data-toc-modified-id=\"Full-time-or-part-time-5284\"><span class=\"toc-item-num\">5.2.8.4&nbsp;&nbsp;</span>Full time or part-time</a></div><div class=\"lev4 toc-item\"><a href=\"#Length-of-the-current-position\" data-toc-modified-id=\"Length-of-the-current-position-5285\"><span class=\"toc-item-num\">5.2.8.5&nbsp;&nbsp;</span>Length of the current position</a></div><div class=\"lev4 toc-item\"><a href=\"#Job-title\" data-toc-modified-id=\"Job-title-5286\"><span class=\"toc-item-num\">5.2.8.6&nbsp;&nbsp;</span>Job title</a></div><div class=\"lev1 toc-item\"><a href=\"#Professional-developers\" data-toc-modified-id=\"Professional-developers-6\"><span class=\"toc-item-num\">6&nbsp;&nbsp;</span>Professional developers</a></div><div class=\"lev2 toc-item\"><a href=\"#Australia\" data-toc-modified-id=\"Australia-61\"><span class=\"toc-item-num\">6.1&nbsp;&nbsp;</span>Australia</a></div><div class=\"lev2 toc-item\"><a href=\"#Germany\" data-toc-modified-id=\"Germany-62\"><span class=\"toc-item-num\">6.2&nbsp;&nbsp;</span>Germany</a></div><div class=\"lev2 toc-item\"><a href=\"#Netherlands\" data-toc-modified-id=\"Netherlands-63\"><span class=\"toc-item-num\">6.3&nbsp;&nbsp;</span>Netherlands</a></div><div class=\"lev2 toc-item\"><a href=\"#New-Zealand\" data-toc-modified-id=\"New-Zealand-64\"><span class=\"toc-item-num\">6.4&nbsp;&nbsp;</span>New Zealand</a></div><div class=\"lev2 toc-item\"><a href=\"#South-Africa\" data-toc-modified-id=\"South-Africa-65\"><span class=\"toc-item-num\">6.5&nbsp;&nbsp;</span>South Africa</a></div><div class=\"lev2 toc-item\"><a href=\"#United-Kingdom\" data-toc-modified-id=\"United-Kingdom-66\"><span class=\"toc-item-num\">6.6&nbsp;&nbsp;</span>United Kingdom</a></div><div class=\"lev2 toc-item\"><a href=\"#United-States\" data-toc-modified-id=\"United-States-67\"><span class=\"toc-item-num\">6.7&nbsp;&nbsp;</span>United States</a></div><div class=\"lev2 toc-item\"><a href=\"#Rest-of-the-World\" data-toc-modified-id=\"Rest-of-the-World-68\"><span class=\"toc-item-num\">6.8&nbsp;&nbsp;</span>Rest of the World</a></div><div class=\"lev1 toc-item\"><a href=\"#How-time-is-spent\" data-toc-modified-id=\"How-time-is-spent-7\"><span class=\"toc-item-num\">7&nbsp;&nbsp;</span>How time is spent</a></div><div class=\"lev2 toc-item\"><a href=\"#Australia\" data-toc-modified-id=\"Australia-71\"><span class=\"toc-item-num\">7.1&nbsp;&nbsp;</span>Australia</a></div><div class=\"lev2 toc-item\"><a href=\"#Germany\" data-toc-modified-id=\"Germany-72\"><span class=\"toc-item-num\">7.2&nbsp;&nbsp;</span>Germany</a></div><div class=\"lev2 toc-item\"><a href=\"#Netherlands\" data-toc-modified-id=\"Netherlands-73\"><span class=\"toc-item-num\">7.3&nbsp;&nbsp;</span>Netherlands</a></div><div class=\"lev2 toc-item\"><a href=\"#New-Zealand\" data-toc-modified-id=\"New-Zealand-74\"><span class=\"toc-item-num\">7.4&nbsp;&nbsp;</span>New Zealand</a></div><div class=\"lev2 toc-item\"><a href=\"#South-Africa\" data-toc-modified-id=\"South-Africa-75\"><span class=\"toc-item-num\">7.5&nbsp;&nbsp;</span>South Africa</a></div><div class=\"lev2 toc-item\"><a href=\"#United-Kingdom\" data-toc-modified-id=\"United-Kingdom-76\"><span class=\"toc-item-num\">7.6&nbsp;&nbsp;</span>United Kingdom</a></div><div class=\"lev2 toc-item\"><a href=\"#United-States\" data-toc-modified-id=\"United-States-77\"><span class=\"toc-item-num\">7.7&nbsp;&nbsp;</span>United States</a></div><div class=\"lev2 toc-item\"><a href=\"#Rest-of-the-World\" data-toc-modified-id=\"Rest-of-the-World-78\"><span class=\"toc-item-num\">7.8&nbsp;&nbsp;</span>Rest of the World</a></div><div class=\"lev1 toc-item\"><a href=\"#Questions-about-previous-employment\" data-toc-modified-id=\"Questions-about-previous-employment-8\"><span class=\"toc-item-num\">8&nbsp;&nbsp;</span>Questions about previous employment</a></div><div class=\"lev2 toc-item\"><a href=\"#Australia\" data-toc-modified-id=\"Australia-81\"><span class=\"toc-item-num\">8.1&nbsp;&nbsp;</span>Australia</a></div><div class=\"lev3 toc-item\"><a href=\"#Where-the-previous-job-was-based\" data-toc-modified-id=\"Where-the-previous-job-was-based-811\"><span class=\"toc-item-num\">8.1.1&nbsp;&nbsp;</span>Where the previous job was based</a></div><div class=\"lev3 toc-item\"><a href=\"#What-were-the-reasons-to-choose-the-current-job\" data-toc-modified-id=\"What-were-the-reasons-to-choose-the-current-job-812\"><span class=\"toc-item-num\">8.1.2&nbsp;&nbsp;</span>What were the reasons to choose the current job</a></div><div class=\"lev2 toc-item\"><a href=\"#Germany\" data-toc-modified-id=\"Germany-82\"><span class=\"toc-item-num\">8.2&nbsp;&nbsp;</span>Germany</a></div><div class=\"lev3 toc-item\"><a href=\"#Where-the-previous-job-was-based\" data-toc-modified-id=\"Where-the-previous-job-was-based-821\"><span class=\"toc-item-num\">8.2.1&nbsp;&nbsp;</span>Where the previous job was based</a></div><div class=\"lev3 toc-item\"><a href=\"#What-were-the-reasons-to-choose-the-current-job\" data-toc-modified-id=\"What-were-the-reasons-to-choose-the-current-job-822\"><span class=\"toc-item-num\">8.2.2&nbsp;&nbsp;</span>What were the reasons to choose the current job</a></div><div class=\"lev2 toc-item\"><a href=\"#New-Zealand\" data-toc-modified-id=\"New-Zealand-83\"><span class=\"toc-item-num\">8.3&nbsp;&nbsp;</span>New Zealand</a></div><div class=\"lev3 toc-item\"><a href=\"#Where-the-previous-job-was-based\" data-toc-modified-id=\"Where-the-previous-job-was-based-831\"><span class=\"toc-item-num\">8.3.1&nbsp;&nbsp;</span>Where the previous job was based</a></div><div class=\"lev3 toc-item\"><a href=\"#What-were-the-reasons-to-choose-the-current-job\" data-toc-modified-id=\"What-were-the-reasons-to-choose-the-current-job-832\"><span class=\"toc-item-num\">8.3.2&nbsp;&nbsp;</span>What were the reasons to choose the current job</a></div><div class=\"lev2 toc-item\"><a href=\"#South-Africa\" data-toc-modified-id=\"South-Africa-84\"><span class=\"toc-item-num\">8.4&nbsp;&nbsp;</span>South Africa</a></div><div class=\"lev3 toc-item\"><a href=\"#Where-the-previous-job-was-based\" data-toc-modified-id=\"Where-the-previous-job-was-based-841\"><span class=\"toc-item-num\">8.4.1&nbsp;&nbsp;</span>Where the previous job was based</a></div><div class=\"lev3 toc-item\"><a href=\"#What-were-the-reasons-to-choose-the-current-job\" data-toc-modified-id=\"What-were-the-reasons-to-choose-the-current-job-842\"><span class=\"toc-item-num\">8.4.2&nbsp;&nbsp;</span>What were the reasons to choose the current job</a></div><div class=\"lev2 toc-item\"><a href=\"#United-Kingdom\" data-toc-modified-id=\"United-Kingdom-85\"><span class=\"toc-item-num\">8.5&nbsp;&nbsp;</span>United Kingdom</a></div><div class=\"lev3 toc-item\"><a href=\"#Where-the-previous-job-was-based\" data-toc-modified-id=\"Where-the-previous-job-was-based-851\"><span class=\"toc-item-num\">8.5.1&nbsp;&nbsp;</span>Where the previous job was based</a></div><div class=\"lev3 toc-item\"><a href=\"#What-were-the-reasons-to-choose-the-current-job\" data-toc-modified-id=\"What-were-the-reasons-to-choose-the-current-job-852\"><span class=\"toc-item-num\">8.5.2&nbsp;&nbsp;</span>What were the reasons to choose the current job</a></div><div class=\"lev2 toc-item\"><a href=\"#United-States\" data-toc-modified-id=\"United-States-86\"><span class=\"toc-item-num\">8.6&nbsp;&nbsp;</span>United States</a></div><div class=\"lev3 toc-item\"><a href=\"#Where-the-previous-job-was-based\" data-toc-modified-id=\"Where-the-previous-job-was-based-861\"><span class=\"toc-item-num\">8.6.1&nbsp;&nbsp;</span>Where the previous job was based</a></div><div class=\"lev3 toc-item\"><a href=\"#What-were-the-reasons-to-choose-the-current-job\" data-toc-modified-id=\"What-were-the-reasons-to-choose-the-current-job-862\"><span class=\"toc-item-num\">8.6.2&nbsp;&nbsp;</span>What were the reasons to choose the current job</a></div><div class=\"lev2 toc-item\"><a href=\"#Rest-of-the-world\" data-toc-modified-id=\"Rest-of-the-world-87\"><span class=\"toc-item-num\">8.7&nbsp;&nbsp;</span>Rest of the world</a></div><div class=\"lev3 toc-item\"><a href=\"#Where-the-previous-job-was-based\" data-toc-modified-id=\"Where-the-previous-job-was-based-871\"><span class=\"toc-item-num\">8.7.1&nbsp;&nbsp;</span>Where the previous job was based</a></div><div class=\"lev3 toc-item\"><a href=\"#What-were-the-reasons-to-choose-the-current-job\" data-toc-modified-id=\"What-were-the-reasons-to-choose-the-current-job-872\"><span class=\"toc-item-num\">8.7.2&nbsp;&nbsp;</span>What were the reasons to choose the current job</a></div><div class=\"lev1 toc-item\"><a href=\"#Collaboration-and-training\" data-toc-modified-id=\"Collaboration-and-training-9\"><span class=\"toc-item-num\">9&nbsp;&nbsp;</span>Collaboration and training</a></div><div class=\"lev2 toc-item\"><a href=\"#Australia\" data-toc-modified-id=\"Australia-91\"><span class=\"toc-item-num\">9.1&nbsp;&nbsp;</span>Australia</a></div><div class=\"lev3 toc-item\"><a href=\"#Developing-code-for-others\" data-toc-modified-id=\"Developing-code-for-others-911\"><span class=\"toc-item-num\">9.1.1&nbsp;&nbsp;</span>Developing code for others</a></div><div class=\"lev3 toc-item\"><a href=\"#Working-with-same-researchers\" data-toc-modified-id=\"Working-with-same-researchers-912\"><span class=\"toc-item-num\">9.1.2&nbsp;&nbsp;</span>Working with same researchers</a></div><div class=\"lev3 toc-item\"><a href=\"#Part-of-dedicated-group\" data-toc-modified-id=\"Part-of-dedicated-group-913\"><span class=\"toc-item-num\">9.1.3&nbsp;&nbsp;</span>Part of dedicated group</a></div><div class=\"lev3 toc-item\"><a href=\"#Number-of-projects\" data-toc-modified-id=\"Number-of-projects-914\"><span class=\"toc-item-num\">9.1.4&nbsp;&nbsp;</span>Number of projects</a></div><div class=\"lev3 toc-item\"><a href=\"#Training\" data-toc-modified-id=\"Training-915\"><span class=\"toc-item-num\">9.1.5&nbsp;&nbsp;</span>Training</a></div><div class=\"lev3 toc-item\"><a href=\"#Training-name\" data-toc-modified-id=\"Training-name-916\"><span class=\"toc-item-num\">9.1.6&nbsp;&nbsp;</span>Training name</a></div><div class=\"lev2 toc-item\"><a href=\"#Germany\" data-toc-modified-id=\"Germany-92\"><span class=\"toc-item-num\">9.2&nbsp;&nbsp;</span>Germany</a></div><div class=\"lev3 toc-item\"><a href=\"#Developing-code-for-others\" data-toc-modified-id=\"Developing-code-for-others-921\"><span class=\"toc-item-num\">9.2.1&nbsp;&nbsp;</span>Developing code for others</a></div><div class=\"lev3 toc-item\"><a href=\"#Working-with-same-researchers\" data-toc-modified-id=\"Working-with-same-researchers-922\"><span class=\"toc-item-num\">9.2.2&nbsp;&nbsp;</span>Working with same researchers</a></div><div class=\"lev3 toc-item\"><a href=\"#Part-of-dedicated-group\" data-toc-modified-id=\"Part-of-dedicated-group-923\"><span class=\"toc-item-num\">9.2.3&nbsp;&nbsp;</span>Part of dedicated group</a></div><div class=\"lev3 toc-item\"><a href=\"#Number-of-projects\" data-toc-modified-id=\"Number-of-projects-924\"><span class=\"toc-item-num\">9.2.4&nbsp;&nbsp;</span>Number of projects</a></div><div class=\"lev3 toc-item\"><a href=\"#Training\" data-toc-modified-id=\"Training-925\"><span class=\"toc-item-num\">9.2.5&nbsp;&nbsp;</span>Training</a></div><div class=\"lev3 toc-item\"><a href=\"#Training-name\" data-toc-modified-id=\"Training-name-926\"><span class=\"toc-item-num\">9.2.6&nbsp;&nbsp;</span>Training name</a></div><div class=\"lev2 toc-item\"><a href=\"#Netherlands\" data-toc-modified-id=\"Netherlands-93\"><span class=\"toc-item-num\">9.3&nbsp;&nbsp;</span>Netherlands</a></div><div class=\"lev3 toc-item\"><a href=\"#Developing-code-for-others\" data-toc-modified-id=\"Developing-code-for-others-931\"><span class=\"toc-item-num\">9.3.1&nbsp;&nbsp;</span>Developing code for others</a></div><div class=\"lev3 toc-item\"><a href=\"#Working-with-same-researchers\" data-toc-modified-id=\"Working-with-same-researchers-932\"><span class=\"toc-item-num\">9.3.2&nbsp;&nbsp;</span>Working with same researchers</a></div><div class=\"lev3 toc-item\"><a href=\"#Part-of-dedicated-group\" data-toc-modified-id=\"Part-of-dedicated-group-933\"><span class=\"toc-item-num\">9.3.3&nbsp;&nbsp;</span>Part of dedicated group</a></div><div class=\"lev3 toc-item\"><a href=\"#Number-of-projects\" data-toc-modified-id=\"Number-of-projects-934\"><span class=\"toc-item-num\">9.3.4&nbsp;&nbsp;</span>Number of projects</a></div><div class=\"lev3 toc-item\"><a href=\"#Training\" data-toc-modified-id=\"Training-935\"><span class=\"toc-item-num\">9.3.5&nbsp;&nbsp;</span>Training</a></div><div class=\"lev3 toc-item\"><a href=\"#Training-name\" data-toc-modified-id=\"Training-name-936\"><span class=\"toc-item-num\">9.3.6&nbsp;&nbsp;</span>Training name</a></div><div class=\"lev2 toc-item\"><a href=\"#New-Zealand\" data-toc-modified-id=\"New-Zealand-94\"><span class=\"toc-item-num\">9.4&nbsp;&nbsp;</span>New Zealand</a></div><div class=\"lev3 toc-item\"><a href=\"#Developing-code-for-others\" data-toc-modified-id=\"Developing-code-for-others-941\"><span class=\"toc-item-num\">9.4.1&nbsp;&nbsp;</span>Developing code for others</a></div><div class=\"lev3 toc-item\"><a href=\"#Working-with-same-researchers\" data-toc-modified-id=\"Working-with-same-researchers-942\"><span class=\"toc-item-num\">9.4.2&nbsp;&nbsp;</span>Working with same researchers</a></div><div class=\"lev3 toc-item\"><a href=\"#Part-of-dedicated-group\" data-toc-modified-id=\"Part-of-dedicated-group-943\"><span class=\"toc-item-num\">9.4.3&nbsp;&nbsp;</span>Part of dedicated group</a></div><div class=\"lev3 toc-item\"><a href=\"#Number-of-projects\" data-toc-modified-id=\"Number-of-projects-944\"><span class=\"toc-item-num\">9.4.4&nbsp;&nbsp;</span>Number of projects</a></div><div class=\"lev3 toc-item\"><a href=\"#Training\" data-toc-modified-id=\"Training-945\"><span class=\"toc-item-num\">9.4.5&nbsp;&nbsp;</span>Training</a></div><div class=\"lev3 toc-item\"><a href=\"#Training-name\" data-toc-modified-id=\"Training-name-946\"><span class=\"toc-item-num\">9.4.6&nbsp;&nbsp;</span>Training name</a></div><div class=\"lev2 toc-item\"><a href=\"#South-Africa\" data-toc-modified-id=\"South-Africa-95\"><span class=\"toc-item-num\">9.5&nbsp;&nbsp;</span>South Africa</a></div><div class=\"lev3 toc-item\"><a href=\"#Developing-code-for-others\" data-toc-modified-id=\"Developing-code-for-others-951\"><span class=\"toc-item-num\">9.5.1&nbsp;&nbsp;</span>Developing code for others</a></div><div class=\"lev3 toc-item\"><a href=\"#Working-with-same-researchers\" data-toc-modified-id=\"Working-with-same-researchers-952\"><span class=\"toc-item-num\">9.5.2&nbsp;&nbsp;</span>Working with same researchers</a></div><div class=\"lev3 toc-item\"><a href=\"#Part-of-dedicated-group\" data-toc-modified-id=\"Part-of-dedicated-group-953\"><span class=\"toc-item-num\">9.5.3&nbsp;&nbsp;</span>Part of dedicated group</a></div><div class=\"lev3 toc-item\"><a href=\"#Number-of-projects\" data-toc-modified-id=\"Number-of-projects-954\"><span class=\"toc-item-num\">9.5.4&nbsp;&nbsp;</span>Number of projects</a></div><div class=\"lev3 toc-item\"><a href=\"#Training\" data-toc-modified-id=\"Training-955\"><span class=\"toc-item-num\">9.5.5&nbsp;&nbsp;</span>Training</a></div><div class=\"lev3 toc-item\"><a href=\"#Training-name\" data-toc-modified-id=\"Training-name-956\"><span class=\"toc-item-num\">9.5.6&nbsp;&nbsp;</span>Training name</a></div><div class=\"lev2 toc-item\"><a href=\"#United-Kingdom\" data-toc-modified-id=\"United-Kingdom-96\"><span class=\"toc-item-num\">9.6&nbsp;&nbsp;</span>United Kingdom</a></div><div class=\"lev3 toc-item\"><a href=\"#Developing-code-for-others\" data-toc-modified-id=\"Developing-code-for-others-961\"><span class=\"toc-item-num\">9.6.1&nbsp;&nbsp;</span>Developing code for others</a></div><div class=\"lev3 toc-item\"><a href=\"#Working-with-same-researchers\" data-toc-modified-id=\"Working-with-same-researchers-962\"><span class=\"toc-item-num\">9.6.2&nbsp;&nbsp;</span>Working with same researchers</a></div><div class=\"lev3 toc-item\"><a href=\"#Part-of-dedicated-group\" data-toc-modified-id=\"Part-of-dedicated-group-963\"><span class=\"toc-item-num\">9.6.3&nbsp;&nbsp;</span>Part of dedicated group</a></div><div class=\"lev3 toc-item\"><a href=\"#Number-of-projects\" data-toc-modified-id=\"Number-of-projects-964\"><span class=\"toc-item-num\">9.6.4&nbsp;&nbsp;</span>Number of projects</a></div><div class=\"lev3 toc-item\"><a href=\"#Training\" data-toc-modified-id=\"Training-965\"><span class=\"toc-item-num\">9.6.5&nbsp;&nbsp;</span>Training</a></div><div class=\"lev3 toc-item\"><a href=\"#Training-name\" data-toc-modified-id=\"Training-name-966\"><span class=\"toc-item-num\">9.6.6&nbsp;&nbsp;</span>Training name</a></div><div class=\"lev2 toc-item\"><a href=\"#United-States\" data-toc-modified-id=\"United-States-97\"><span class=\"toc-item-num\">9.7&nbsp;&nbsp;</span>United States</a></div><div class=\"lev3 toc-item\"><a href=\"#Developing-code-for-others\" data-toc-modified-id=\"Developing-code-for-others-971\"><span class=\"toc-item-num\">9.7.1&nbsp;&nbsp;</span>Developing code for others</a></div><div class=\"lev3 toc-item\"><a href=\"#Working-with-same-researchers\" data-toc-modified-id=\"Working-with-same-researchers-972\"><span class=\"toc-item-num\">9.7.2&nbsp;&nbsp;</span>Working with same researchers</a></div><div class=\"lev3 toc-item\"><a href=\"#Part-of-dedicated-group\" data-toc-modified-id=\"Part-of-dedicated-group-973\"><span class=\"toc-item-num\">9.7.3&nbsp;&nbsp;</span>Part of dedicated group</a></div><div class=\"lev3 toc-item\"><a href=\"#Number-of-projects\" data-toc-modified-id=\"Number-of-projects-974\"><span class=\"toc-item-num\">9.7.4&nbsp;&nbsp;</span>Number of projects</a></div><div class=\"lev3 toc-item\"><a href=\"#Training\" data-toc-modified-id=\"Training-975\"><span class=\"toc-item-num\">9.7.5&nbsp;&nbsp;</span>Training</a></div><div class=\"lev3 toc-item\"><a href=\"#Training-name\" data-toc-modified-id=\"Training-name-976\"><span class=\"toc-item-num\">9.7.6&nbsp;&nbsp;</span>Training name</a></div><div class=\"lev2 toc-item\"><a href=\"#Rest-of-the-world\" data-toc-modified-id=\"Rest-of-the-world-98\"><span class=\"toc-item-num\">9.8&nbsp;&nbsp;</span>Rest of the world</a></div><div class=\"lev3 toc-item\"><a href=\"#Developing-code-for-others\" data-toc-modified-id=\"Developing-code-for-others-981\"><span class=\"toc-item-num\">9.8.1&nbsp;&nbsp;</span>Developing code for others</a></div><div class=\"lev3 toc-item\"><a href=\"#Part-of-dedicated-group\" data-toc-modified-id=\"Part-of-dedicated-group-982\"><span class=\"toc-item-num\">9.8.2&nbsp;&nbsp;</span>Part of dedicated group</a></div><div class=\"lev3 toc-item\"><a href=\"#Working-with-same-researchers\" data-toc-modified-id=\"Working-with-same-researchers-983\"><span class=\"toc-item-num\">9.8.3&nbsp;&nbsp;</span>Working with same researchers</a></div><div class=\"lev3 toc-item\"><a href=\"#Number-of-projects\" data-toc-modified-id=\"Number-of-projects-984\"><span class=\"toc-item-num\">9.8.4&nbsp;&nbsp;</span>Number of projects</a></div><div class=\"lev3 toc-item\"><a href=\"#Training\" data-toc-modified-id=\"Training-985\"><span class=\"toc-item-num\">9.8.5&nbsp;&nbsp;</span>Training</a></div><div class=\"lev3 toc-item\"><a href=\"#Training-name\" data-toc-modified-id=\"Training-name-986\"><span class=\"toc-item-num\">9.8.6&nbsp;&nbsp;</span>Training name</a></div><div class=\"lev1 toc-item\"><a href=\"#Publications-and-citations\" data-toc-modified-id=\"Publications-and-citations-10\"><span class=\"toc-item-num\">10&nbsp;&nbsp;</span>Publications and citations</a></div><div class=\"lev2 toc-item\"><a href=\"#Australia\" data-toc-modified-id=\"Australia-101\"><span class=\"toc-item-num\">10.1&nbsp;&nbsp;</span>Australia</a></div><div class=\"lev3 toc-item\"><a href=\"#Acknowledgment-in-paper\" data-toc-modified-id=\"Acknowledgment-in-paper-1011\"><span class=\"toc-item-num\">10.1.1&nbsp;&nbsp;</span>Acknowledgment in paper</a></div><div class=\"lev3 toc-item\"><a href=\"#Participation-to-conferences\" data-toc-modified-id=\"Participation-to-conferences-1012\"><span class=\"toc-item-num\">10.1.2&nbsp;&nbsp;</span>Participation to conferences</a></div><div class=\"lev3 toc-item\"><a href=\"#Conference-name\" data-toc-modified-id=\"Conference-name-1013\"><span class=\"toc-item-num\">10.1.3&nbsp;&nbsp;</span>Conference name</a></div><div class=\"lev2 toc-item\"><a href=\"#Germany\" data-toc-modified-id=\"Germany-102\"><span class=\"toc-item-num\">10.2&nbsp;&nbsp;</span>Germany</a></div><div class=\"lev3 toc-item\"><a href=\"#Acknowledgment-in-paper\" data-toc-modified-id=\"Acknowledgment-in-paper-1021\"><span class=\"toc-item-num\">10.2.1&nbsp;&nbsp;</span>Acknowledgment in paper</a></div><div class=\"lev3 toc-item\"><a href=\"#Participation-to-conferences\" data-toc-modified-id=\"Participation-to-conferences-1022\"><span class=\"toc-item-num\">10.2.2&nbsp;&nbsp;</span>Participation to conferences</a></div><div class=\"lev3 toc-item\"><a href=\"#Conference-name\" data-toc-modified-id=\"Conference-name-1023\"><span class=\"toc-item-num\">10.2.3&nbsp;&nbsp;</span>Conference name</a></div><div class=\"lev2 toc-item\"><a href=\"#Netherlands\" data-toc-modified-id=\"Netherlands-103\"><span class=\"toc-item-num\">10.3&nbsp;&nbsp;</span>Netherlands</a></div><div class=\"lev3 toc-item\"><a href=\"#Acknowledgment-in-paper\" data-toc-modified-id=\"Acknowledgment-in-paper-1031\"><span class=\"toc-item-num\">10.3.1&nbsp;&nbsp;</span>Acknowledgment in paper</a></div><div class=\"lev3 toc-item\"><a href=\"#Participation-to-conferences\" data-toc-modified-id=\"Participation-to-conferences-1032\"><span class=\"toc-item-num\">10.3.2&nbsp;&nbsp;</span>Participation to conferences</a></div><div class=\"lev3 toc-item\"><a href=\"#Conference-name\" data-toc-modified-id=\"Conference-name-1033\"><span class=\"toc-item-num\">10.3.3&nbsp;&nbsp;</span>Conference name</a></div><div class=\"lev2 toc-item\"><a href=\"#New-Zealand\" data-toc-modified-id=\"New-Zealand-104\"><span class=\"toc-item-num\">10.4&nbsp;&nbsp;</span>New Zealand</a></div><div class=\"lev3 toc-item\"><a href=\"#Acknowledgment-in-paper\" data-toc-modified-id=\"Acknowledgment-in-paper-1041\"><span class=\"toc-item-num\">10.4.1&nbsp;&nbsp;</span>Acknowledgment in paper</a></div><div class=\"lev3 toc-item\"><a href=\"#Participation-to-conferences\" data-toc-modified-id=\"Participation-to-conferences-1042\"><span class=\"toc-item-num\">10.4.2&nbsp;&nbsp;</span>Participation to conferences</a></div><div class=\"lev3 toc-item\"><a href=\"#Conference-name\" data-toc-modified-id=\"Conference-name-1043\"><span class=\"toc-item-num\">10.4.3&nbsp;&nbsp;</span>Conference name</a></div><div class=\"lev2 toc-item\"><a href=\"#South-Africa\" data-toc-modified-id=\"South-Africa-105\"><span class=\"toc-item-num\">10.5&nbsp;&nbsp;</span>South Africa</a></div><div class=\"lev3 toc-item\"><a href=\"#Acknowledgment-in-paper\" data-toc-modified-id=\"Acknowledgment-in-paper-1051\"><span class=\"toc-item-num\">10.5.1&nbsp;&nbsp;</span>Acknowledgment in paper</a></div><div class=\"lev3 toc-item\"><a href=\"#Participation-to-conferences\" data-toc-modified-id=\"Participation-to-conferences-1052\"><span class=\"toc-item-num\">10.5.2&nbsp;&nbsp;</span>Participation to conferences</a></div><div class=\"lev3 toc-item\"><a href=\"#Conference-name\" data-toc-modified-id=\"Conference-name-1053\"><span class=\"toc-item-num\">10.5.3&nbsp;&nbsp;</span>Conference name</a></div><div class=\"lev2 toc-item\"><a href=\"#United-Kingdom\" data-toc-modified-id=\"United-Kingdom-106\"><span class=\"toc-item-num\">10.6&nbsp;&nbsp;</span>United Kingdom</a></div><div class=\"lev3 toc-item\"><a href=\"#Acknowledgment-in-paper\" data-toc-modified-id=\"Acknowledgment-in-paper-1061\"><span class=\"toc-item-num\">10.6.1&nbsp;&nbsp;</span>Acknowledgment in paper</a></div><div class=\"lev3 toc-item\"><a href=\"#Participation-to-conferences\" data-toc-modified-id=\"Participation-to-conferences-1062\"><span class=\"toc-item-num\">10.6.2&nbsp;&nbsp;</span>Participation to conferences</a></div><div class=\"lev3 toc-item\"><a href=\"#Conference-name\" data-toc-modified-id=\"Conference-name-1063\"><span class=\"toc-item-num\">10.6.3&nbsp;&nbsp;</span>Conference name</a></div><div class=\"lev2 toc-item\"><a href=\"#United-States\" data-toc-modified-id=\"United-States-107\"><span class=\"toc-item-num\">10.7&nbsp;&nbsp;</span>United States</a></div><div class=\"lev3 toc-item\"><a href=\"#Acknowledgment-in-paper\" data-toc-modified-id=\"Acknowledgment-in-paper-1071\"><span class=\"toc-item-num\">10.7.1&nbsp;&nbsp;</span>Acknowledgment in paper</a></div><div class=\"lev3 toc-item\"><a href=\"#Participation-to-conferences\" data-toc-modified-id=\"Participation-to-conferences-1072\"><span class=\"toc-item-num\">10.7.2&nbsp;&nbsp;</span>Participation to conferences</a></div><div class=\"lev3 toc-item\"><a href=\"#Conference-name\" data-toc-modified-id=\"Conference-name-1073\"><span class=\"toc-item-num\">10.7.3&nbsp;&nbsp;</span>Conference name</a></div><div class=\"lev2 toc-item\"><a href=\"#Rest-of-the-world\" data-toc-modified-id=\"Rest-of-the-world-108\"><span class=\"toc-item-num\">10.8&nbsp;&nbsp;</span>Rest of the world</a></div><div class=\"lev3 toc-item\"><a href=\"#Acknowledgment-in-paper\" data-toc-modified-id=\"Acknowledgment-in-paper-1081\"><span class=\"toc-item-num\">10.8.1&nbsp;&nbsp;</span>Acknowledgment in paper</a></div><div class=\"lev3 toc-item\"><a href=\"#Participation-to-conferences\" data-toc-modified-id=\"Participation-to-conferences-1082\"><span class=\"toc-item-num\">10.8.2&nbsp;&nbsp;</span>Participation to conferences</a></div><div class=\"lev3 toc-item\"><a href=\"#Conference-name\" data-toc-modified-id=\"Conference-name-1083\"><span class=\"toc-item-num\">10.8.3&nbsp;&nbsp;</span>Conference name</a></div><div class=\"lev1 toc-item\"><a href=\"#Good-practices,-open-source-and-tools\" data-toc-modified-id=\"Good-practices,-open-source-and-tools-11\"><span class=\"toc-item-num\">11&nbsp;&nbsp;</span>Good practices, open source and tools</a></div><div class=\"lev2 toc-item\"><a href=\"#Australia\" data-toc-modified-id=\"Australia-111\"><span class=\"toc-item-num\">11.1&nbsp;&nbsp;</span>Australia</a></div><div class=\"lev3 toc-item\"><a href=\"#Good-practices\" data-toc-modified-id=\"Good-practices-1111\"><span class=\"toc-item-num\">11.1.1&nbsp;&nbsp;</span>Good practices</a></div><div class=\"lev4 toc-item\"><a href=\"#Bus-Factor\" data-toc-modified-id=\"Bus-Factor-11111\"><span class=\"toc-item-num\">11.1.1.1&nbsp;&nbsp;</span>Bus Factor</a></div><div class=\"lev4 toc-item\"><a href=\"#Transition-plan\" data-toc-modified-id=\"Transition-plan-11112\"><span class=\"toc-item-num\">11.1.1.2&nbsp;&nbsp;</span>Transition plan</a></div><div class=\"lev4 toc-item\"><a href=\"#Version-control\" data-toc-modified-id=\"Version-control-11113\"><span class=\"toc-item-num\">11.1.1.3&nbsp;&nbsp;</span>Version control</a></div><div class=\"lev4 toc-item\"><a href=\"#Testing\" data-toc-modified-id=\"Testing-11114\"><span class=\"toc-item-num\">11.1.1.4&nbsp;&nbsp;</span>Testing</a></div><div class=\"lev4 toc-item\"><a href=\"#Repository\" data-toc-modified-id=\"Repository-11115\"><span class=\"toc-item-num\">11.1.1.5&nbsp;&nbsp;</span>Repository</a></div><div class=\"lev3 toc-item\"><a href=\"#Open-source-and-DOI\" data-toc-modified-id=\"Open-source-and-DOI-1112\"><span class=\"toc-item-num\">11.1.2&nbsp;&nbsp;</span>Open source and DOI</a></div><div class=\"lev4 toc-item\"><a href=\"#Open-source-use\" data-toc-modified-id=\"Open-source-use-11121\"><span class=\"toc-item-num\">11.1.2.1&nbsp;&nbsp;</span>Open source use</a></div><div class=\"lev4 toc-item\"><a href=\"#Referencing-software\" data-toc-modified-id=\"Referencing-software-11122\"><span class=\"toc-item-num\">11.1.2.2&nbsp;&nbsp;</span>Referencing software</a></div><div class=\"lev4 toc-item\"><a href=\"#Use-of-Digital-Object-Identifier-(DOI)\" data-toc-modified-id=\"Use-of-Digital-Object-Identifier-(DOI)-11123\"><span class=\"toc-item-num\">11.1.2.3&nbsp;&nbsp;</span>Use of Digital Object Identifier (DOI)</a></div><div class=\"lev4 toc-item\"><a href=\"#Tools-used-for-DOI\" data-toc-modified-id=\"Tools-used-for-DOI-11124\"><span class=\"toc-item-num\">11.1.2.4&nbsp;&nbsp;</span>Tools used for DOI</a></div><div class=\"lev4 toc-item\"><a href=\"#ORCID\" data-toc-modified-id=\"ORCID-11125\"><span class=\"toc-item-num\">11.1.2.5&nbsp;&nbsp;</span>ORCID</a></div><div class=\"lev3 toc-item\"><a href=\"#Tools-and-programing-languages\" data-toc-modified-id=\"Tools-and-programing-languages-1113\"><span class=\"toc-item-num\">11.1.3&nbsp;&nbsp;</span>Tools and programing languages</a></div><div class=\"lev4 toc-item\"><a href=\"#Programing-languages\" data-toc-modified-id=\"Programing-languages-11131\"><span class=\"toc-item-num\">11.1.3.1&nbsp;&nbsp;</span>Programing languages</a></div><div class=\"lev4 toc-item\"><a href=\"#Operating-System\" data-toc-modified-id=\"Operating-System-11132\"><span class=\"toc-item-num\">11.1.3.2&nbsp;&nbsp;</span>Operating System</a></div><div class=\"lev2 toc-item\"><a href=\"#Germany\" data-toc-modified-id=\"Germany-112\"><span class=\"toc-item-num\">11.2&nbsp;&nbsp;</span>Germany</a></div><div class=\"lev3 toc-item\"><a href=\"#Good-practices\" data-toc-modified-id=\"Good-practices-1121\"><span class=\"toc-item-num\">11.2.1&nbsp;&nbsp;</span>Good practices</a></div><div class=\"lev4 toc-item\"><a href=\"#Bus-Factor\" data-toc-modified-id=\"Bus-Factor-11211\"><span class=\"toc-item-num\">11.2.1.1&nbsp;&nbsp;</span>Bus Factor</a></div><div class=\"lev4 toc-item\"><a href=\"#Transition-plan\" data-toc-modified-id=\"Transition-plan-11212\"><span class=\"toc-item-num\">11.2.1.2&nbsp;&nbsp;</span>Transition plan</a></div><div class=\"lev4 toc-item\"><a href=\"#Version-control\" data-toc-modified-id=\"Version-control-11213\"><span class=\"toc-item-num\">11.2.1.3&nbsp;&nbsp;</span>Version control</a></div><div class=\"lev4 toc-item\"><a href=\"#Testing\" data-toc-modified-id=\"Testing-11214\"><span class=\"toc-item-num\">11.2.1.4&nbsp;&nbsp;</span>Testing</a></div><div class=\"lev4 toc-item\"><a href=\"#Repository\" data-toc-modified-id=\"Repository-11215\"><span class=\"toc-item-num\">11.2.1.5&nbsp;&nbsp;</span>Repository</a></div><div class=\"lev3 toc-item\"><a href=\"#Open-source-and-DOI\" data-toc-modified-id=\"Open-source-and-DOI-1122\"><span class=\"toc-item-num\">11.2.2&nbsp;&nbsp;</span>Open source and DOI</a></div><div class=\"lev4 toc-item\"><a href=\"#Open-source-use\" data-toc-modified-id=\"Open-source-use-11221\"><span class=\"toc-item-num\">11.2.2.1&nbsp;&nbsp;</span>Open source use</a></div><div class=\"lev4 toc-item\"><a href=\"#Referencing-software\" data-toc-modified-id=\"Referencing-software-11222\"><span class=\"toc-item-num\">11.2.2.2&nbsp;&nbsp;</span>Referencing software</a></div><div class=\"lev4 toc-item\"><a href=\"#Use-of-Digital-Object-Identifier-(DOI)\" data-toc-modified-id=\"Use-of-Digital-Object-Identifier-(DOI)-11223\"><span class=\"toc-item-num\">11.2.2.3&nbsp;&nbsp;</span>Use of Digital Object Identifier (DOI)</a></div><div class=\"lev4 toc-item\"><a href=\"#Tools-used-for-DOI\" data-toc-modified-id=\"Tools-used-for-DOI-11224\"><span class=\"toc-item-num\">11.2.2.4&nbsp;&nbsp;</span>Tools used for DOI</a></div><div class=\"lev4 toc-item\"><a href=\"#ORCID\" data-toc-modified-id=\"ORCID-11225\"><span class=\"toc-item-num\">11.2.2.5&nbsp;&nbsp;</span>ORCID</a></div><div class=\"lev3 toc-item\"><a href=\"#Tools-and-programing-languages\" data-toc-modified-id=\"Tools-and-programing-languages-1123\"><span class=\"toc-item-num\">11.2.3&nbsp;&nbsp;</span>Tools and programing languages</a></div><div class=\"lev4 toc-item\"><a href=\"#Programing-languages\" data-toc-modified-id=\"Programing-languages-11231\"><span class=\"toc-item-num\">11.2.3.1&nbsp;&nbsp;</span>Programing languages</a></div><div class=\"lev4 toc-item\"><a href=\"#Operating-System\" data-toc-modified-id=\"Operating-System-11232\"><span class=\"toc-item-num\">11.2.3.2&nbsp;&nbsp;</span>Operating System</a></div><div class=\"lev2 toc-item\"><a href=\"#Netherlands\" data-toc-modified-id=\"Netherlands-113\"><span class=\"toc-item-num\">11.3&nbsp;&nbsp;</span>Netherlands</a></div><div class=\"lev3 toc-item\"><a href=\"#Good-practices\" data-toc-modified-id=\"Good-practices-1131\"><span class=\"toc-item-num\">11.3.1&nbsp;&nbsp;</span>Good practices</a></div><div class=\"lev4 toc-item\"><a href=\"#Bus-Factor\" data-toc-modified-id=\"Bus-Factor-11311\"><span class=\"toc-item-num\">11.3.1.1&nbsp;&nbsp;</span>Bus Factor</a></div><div class=\"lev4 toc-item\"><a href=\"#Transition-plan\" data-toc-modified-id=\"Transition-plan-11312\"><span class=\"toc-item-num\">11.3.1.2&nbsp;&nbsp;</span>Transition plan</a></div><div class=\"lev4 toc-item\"><a href=\"#Version-control\" data-toc-modified-id=\"Version-control-11313\"><span class=\"toc-item-num\">11.3.1.3&nbsp;&nbsp;</span>Version control</a></div><div class=\"lev4 toc-item\"><a href=\"#Testing\" data-toc-modified-id=\"Testing-11314\"><span class=\"toc-item-num\">11.3.1.4&nbsp;&nbsp;</span>Testing</a></div><div class=\"lev4 toc-item\"><a href=\"#Repository\" data-toc-modified-id=\"Repository-11315\"><span class=\"toc-item-num\">11.3.1.5&nbsp;&nbsp;</span>Repository</a></div><div class=\"lev3 toc-item\"><a href=\"#Open-source-and-DOI\" data-toc-modified-id=\"Open-source-and-DOI-1132\"><span class=\"toc-item-num\">11.3.2&nbsp;&nbsp;</span>Open source and DOI</a></div><div class=\"lev4 toc-item\"><a href=\"#Open-source-use\" data-toc-modified-id=\"Open-source-use-11321\"><span class=\"toc-item-num\">11.3.2.1&nbsp;&nbsp;</span>Open source use</a></div><div class=\"lev4 toc-item\"><a href=\"#Referencing-software\" data-toc-modified-id=\"Referencing-software-11322\"><span class=\"toc-item-num\">11.3.2.2&nbsp;&nbsp;</span>Referencing software</a></div><div class=\"lev4 toc-item\"><a href=\"#Use-of-Digital-Object-Identifier-(DOI)\" data-toc-modified-id=\"Use-of-Digital-Object-Identifier-(DOI)-11323\"><span class=\"toc-item-num\">11.3.2.3&nbsp;&nbsp;</span>Use of Digital Object Identifier (DOI)</a></div><div class=\"lev4 toc-item\"><a href=\"#Tools-used-for-DOI\" data-toc-modified-id=\"Tools-used-for-DOI-11324\"><span class=\"toc-item-num\">11.3.2.4&nbsp;&nbsp;</span>Tools used for DOI</a></div><div class=\"lev4 toc-item\"><a href=\"#ORCID\" data-toc-modified-id=\"ORCID-11325\"><span class=\"toc-item-num\">11.3.2.5&nbsp;&nbsp;</span>ORCID</a></div><div class=\"lev3 toc-item\"><a href=\"#Tools-and-programing-languages\" data-toc-modified-id=\"Tools-and-programing-languages-1133\"><span class=\"toc-item-num\">11.3.3&nbsp;&nbsp;</span>Tools and programing languages</a></div><div class=\"lev4 toc-item\"><a href=\"#Programing-languages\" data-toc-modified-id=\"Programing-languages-11331\"><span class=\"toc-item-num\">11.3.3.1&nbsp;&nbsp;</span>Programing languages</a></div><div class=\"lev4 toc-item\"><a href=\"#Operating-System\" data-toc-modified-id=\"Operating-System-11332\"><span class=\"toc-item-num\">11.3.3.2&nbsp;&nbsp;</span>Operating System</a></div><div class=\"lev2 toc-item\"><a href=\"#New-Zealand\" data-toc-modified-id=\"New-Zealand-114\"><span class=\"toc-item-num\">11.4&nbsp;&nbsp;</span>New Zealand</a></div><div class=\"lev3 toc-item\"><a href=\"#Good-practices\" data-toc-modified-id=\"Good-practices-1141\"><span class=\"toc-item-num\">11.4.1&nbsp;&nbsp;</span>Good practices</a></div><div class=\"lev4 toc-item\"><a href=\"#Bus-Factor\" data-toc-modified-id=\"Bus-Factor-11411\"><span class=\"toc-item-num\">11.4.1.1&nbsp;&nbsp;</span>Bus Factor</a></div><div class=\"lev4 toc-item\"><a href=\"#Transition-plan\" data-toc-modified-id=\"Transition-plan-11412\"><span class=\"toc-item-num\">11.4.1.2&nbsp;&nbsp;</span>Transition plan</a></div><div class=\"lev4 toc-item\"><a href=\"#Version-control\" data-toc-modified-id=\"Version-control-11413\"><span class=\"toc-item-num\">11.4.1.3&nbsp;&nbsp;</span>Version control</a></div><div class=\"lev4 toc-item\"><a href=\"#Testing\" data-toc-modified-id=\"Testing-11414\"><span class=\"toc-item-num\">11.4.1.4&nbsp;&nbsp;</span>Testing</a></div><div class=\"lev4 toc-item\"><a href=\"#Repository\" data-toc-modified-id=\"Repository-11415\"><span class=\"toc-item-num\">11.4.1.5&nbsp;&nbsp;</span>Repository</a></div><div class=\"lev3 toc-item\"><a href=\"#Open-source-and-DOI\" data-toc-modified-id=\"Open-source-and-DOI-1142\"><span class=\"toc-item-num\">11.4.2&nbsp;&nbsp;</span>Open source and DOI</a></div><div class=\"lev4 toc-item\"><a href=\"#Open-source-use\" data-toc-modified-id=\"Open-source-use-11421\"><span class=\"toc-item-num\">11.4.2.1&nbsp;&nbsp;</span>Open source use</a></div><div class=\"lev4 toc-item\"><a href=\"#Referencing-software\" data-toc-modified-id=\"Referencing-software-11422\"><span class=\"toc-item-num\">11.4.2.2&nbsp;&nbsp;</span>Referencing software</a></div><div class=\"lev4 toc-item\"><a href=\"#Use-of-Digital-Object-Identifier-(DOI)\" data-toc-modified-id=\"Use-of-Digital-Object-Identifier-(DOI)-11423\"><span class=\"toc-item-num\">11.4.2.3&nbsp;&nbsp;</span>Use of Digital Object Identifier (DOI)</a></div><div class=\"lev4 toc-item\"><a href=\"#Tools-used-for-DOI\" data-toc-modified-id=\"Tools-used-for-DOI-11424\"><span class=\"toc-item-num\">11.4.2.4&nbsp;&nbsp;</span>Tools used for DOI</a></div><div class=\"lev4 toc-item\"><a href=\"#ORCID\" data-toc-modified-id=\"ORCID-11425\"><span class=\"toc-item-num\">11.4.2.5&nbsp;&nbsp;</span>ORCID</a></div><div class=\"lev3 toc-item\"><a href=\"#Tools-and-programing-languages\" data-toc-modified-id=\"Tools-and-programing-languages-1143\"><span class=\"toc-item-num\">11.4.3&nbsp;&nbsp;</span>Tools and programing languages</a></div><div class=\"lev4 toc-item\"><a href=\"#Programing-languages\" data-toc-modified-id=\"Programing-languages-11431\"><span class=\"toc-item-num\">11.4.3.1&nbsp;&nbsp;</span>Programing languages</a></div><div class=\"lev4 toc-item\"><a href=\"#Operating-System\" data-toc-modified-id=\"Operating-System-11432\"><span class=\"toc-item-num\">11.4.3.2&nbsp;&nbsp;</span>Operating System</a></div><div class=\"lev2 toc-item\"><a href=\"#South-Africa\" data-toc-modified-id=\"South-Africa-115\"><span class=\"toc-item-num\">11.5&nbsp;&nbsp;</span>South Africa</a></div><div class=\"lev3 toc-item\"><a href=\"#Good-practices\" data-toc-modified-id=\"Good-practices-1151\"><span class=\"toc-item-num\">11.5.1&nbsp;&nbsp;</span>Good practices</a></div><div class=\"lev4 toc-item\"><a href=\"#Bus-Factor\" data-toc-modified-id=\"Bus-Factor-11511\"><span class=\"toc-item-num\">11.5.1.1&nbsp;&nbsp;</span>Bus Factor</a></div><div class=\"lev4 toc-item\"><a href=\"#Transition-plan\" data-toc-modified-id=\"Transition-plan-11512\"><span class=\"toc-item-num\">11.5.1.2&nbsp;&nbsp;</span>Transition plan</a></div><div class=\"lev4 toc-item\"><a href=\"#Version-control\" data-toc-modified-id=\"Version-control-11513\"><span class=\"toc-item-num\">11.5.1.3&nbsp;&nbsp;</span>Version control</a></div><div class=\"lev4 toc-item\"><a href=\"#Testing\" data-toc-modified-id=\"Testing-11514\"><span class=\"toc-item-num\">11.5.1.4&nbsp;&nbsp;</span>Testing</a></div><div class=\"lev4 toc-item\"><a href=\"#Repository\" data-toc-modified-id=\"Repository-11515\"><span class=\"toc-item-num\">11.5.1.5&nbsp;&nbsp;</span>Repository</a></div><div class=\"lev3 toc-item\"><a href=\"#Open-source-and-DOI\" data-toc-modified-id=\"Open-source-and-DOI-1152\"><span class=\"toc-item-num\">11.5.2&nbsp;&nbsp;</span>Open source and DOI</a></div><div class=\"lev4 toc-item\"><a href=\"#Open-source-use\" data-toc-modified-id=\"Open-source-use-11521\"><span class=\"toc-item-num\">11.5.2.1&nbsp;&nbsp;</span>Open source use</a></div><div class=\"lev4 toc-item\"><a href=\"#Referencing-software\" data-toc-modified-id=\"Referencing-software-11522\"><span class=\"toc-item-num\">11.5.2.2&nbsp;&nbsp;</span>Referencing software</a></div><div class=\"lev4 toc-item\"><a href=\"#Use-of-Digital-Object-Identifier-(DOI)\" data-toc-modified-id=\"Use-of-Digital-Object-Identifier-(DOI)-11523\"><span class=\"toc-item-num\">11.5.2.3&nbsp;&nbsp;</span>Use of Digital Object Identifier (DOI)</a></div><div class=\"lev4 toc-item\"><a href=\"#Tools-used-for-DOI\" data-toc-modified-id=\"Tools-used-for-DOI-11524\"><span class=\"toc-item-num\">11.5.2.4&nbsp;&nbsp;</span>Tools used for DOI</a></div><div class=\"lev4 toc-item\"><a href=\"#ORCID\" data-toc-modified-id=\"ORCID-11525\"><span class=\"toc-item-num\">11.5.2.5&nbsp;&nbsp;</span>ORCID</a></div><div class=\"lev3 toc-item\"><a href=\"#Tools-and-programing-languages\" data-toc-modified-id=\"Tools-and-programing-languages-1153\"><span class=\"toc-item-num\">11.5.3&nbsp;&nbsp;</span>Tools and programing languages</a></div><div class=\"lev4 toc-item\"><a href=\"#Programing-languages\" data-toc-modified-id=\"Programing-languages-11531\"><span class=\"toc-item-num\">11.5.3.1&nbsp;&nbsp;</span>Programing languages</a></div><div class=\"lev4 toc-item\"><a href=\"#Operating-System\" data-toc-modified-id=\"Operating-System-11532\"><span class=\"toc-item-num\">11.5.3.2&nbsp;&nbsp;</span>Operating System</a></div><div class=\"lev2 toc-item\"><a href=\"#United-Kingdom\" data-toc-modified-id=\"United-Kingdom-116\"><span class=\"toc-item-num\">11.6&nbsp;&nbsp;</span>United Kingdom</a></div><div class=\"lev3 toc-item\"><a href=\"#Good-practices\" data-toc-modified-id=\"Good-practices-1161\"><span class=\"toc-item-num\">11.6.1&nbsp;&nbsp;</span>Good practices</a></div><div class=\"lev4 toc-item\"><a href=\"#Bus-Factor\" data-toc-modified-id=\"Bus-Factor-11611\"><span class=\"toc-item-num\">11.6.1.1&nbsp;&nbsp;</span>Bus Factor</a></div><div class=\"lev4 toc-item\"><a href=\"#Transition-plan\" data-toc-modified-id=\"Transition-plan-11612\"><span class=\"toc-item-num\">11.6.1.2&nbsp;&nbsp;</span>Transition plan</a></div><div class=\"lev4 toc-item\"><a href=\"#Version-control\" data-toc-modified-id=\"Version-control-11613\"><span class=\"toc-item-num\">11.6.1.3&nbsp;&nbsp;</span>Version control</a></div><div class=\"lev4 toc-item\"><a href=\"#Testing\" data-toc-modified-id=\"Testing-11614\"><span class=\"toc-item-num\">11.6.1.4&nbsp;&nbsp;</span>Testing</a></div><div class=\"lev4 toc-item\"><a href=\"#Repository\" data-toc-modified-id=\"Repository-11615\"><span class=\"toc-item-num\">11.6.1.5&nbsp;&nbsp;</span>Repository</a></div><div class=\"lev3 toc-item\"><a href=\"#Open-source-and-DOI\" data-toc-modified-id=\"Open-source-and-DOI-1162\"><span class=\"toc-item-num\">11.6.2&nbsp;&nbsp;</span>Open source and DOI</a></div><div class=\"lev4 toc-item\"><a href=\"#Open-source-use\" data-toc-modified-id=\"Open-source-use-11621\"><span class=\"toc-item-num\">11.6.2.1&nbsp;&nbsp;</span>Open source use</a></div><div class=\"lev4 toc-item\"><a href=\"#Referencing-software\" data-toc-modified-id=\"Referencing-software-11622\"><span class=\"toc-item-num\">11.6.2.2&nbsp;&nbsp;</span>Referencing software</a></div><div class=\"lev4 toc-item\"><a href=\"#Use-of-Digital-Object-Identifier-(DOI)\" data-toc-modified-id=\"Use-of-Digital-Object-Identifier-(DOI)-11623\"><span class=\"toc-item-num\">11.6.2.3&nbsp;&nbsp;</span>Use of Digital Object Identifier (DOI)</a></div><div class=\"lev4 toc-item\"><a href=\"#Tools-used-for-DOI\" data-toc-modified-id=\"Tools-used-for-DOI-11624\"><span class=\"toc-item-num\">11.6.2.4&nbsp;&nbsp;</span>Tools used for DOI</a></div><div class=\"lev4 toc-item\"><a href=\"#ORCID\" data-toc-modified-id=\"ORCID-11625\"><span class=\"toc-item-num\">11.6.2.5&nbsp;&nbsp;</span>ORCID</a></div><div class=\"lev3 toc-item\"><a href=\"#Tools-and-programing-languages\" data-toc-modified-id=\"Tools-and-programing-languages-1163\"><span class=\"toc-item-num\">11.6.3&nbsp;&nbsp;</span>Tools and programing languages</a></div><div class=\"lev4 toc-item\"><a href=\"#Programing-languages\" data-toc-modified-id=\"Programing-languages-11631\"><span class=\"toc-item-num\">11.6.3.1&nbsp;&nbsp;</span>Programing languages</a></div><div class=\"lev4 toc-item\"><a href=\"#Operating-System\" data-toc-modified-id=\"Operating-System-11632\"><span class=\"toc-item-num\">11.6.3.2&nbsp;&nbsp;</span>Operating System</a></div><div class=\"lev2 toc-item\"><a href=\"#United-States\" data-toc-modified-id=\"United-States-117\"><span class=\"toc-item-num\">11.7&nbsp;&nbsp;</span>United States</a></div><div class=\"lev3 toc-item\"><a href=\"#Good-practices\" data-toc-modified-id=\"Good-practices-1171\"><span class=\"toc-item-num\">11.7.1&nbsp;&nbsp;</span>Good practices</a></div><div class=\"lev4 toc-item\"><a href=\"#Bus-Factor\" data-toc-modified-id=\"Bus-Factor-11711\"><span class=\"toc-item-num\">11.7.1.1&nbsp;&nbsp;</span>Bus Factor</a></div><div class=\"lev4 toc-item\"><a href=\"#Transition-plan\" data-toc-modified-id=\"Transition-plan-11712\"><span class=\"toc-item-num\">11.7.1.2&nbsp;&nbsp;</span>Transition plan</a></div><div class=\"lev4 toc-item\"><a href=\"#Version-control\" data-toc-modified-id=\"Version-control-11713\"><span class=\"toc-item-num\">11.7.1.3&nbsp;&nbsp;</span>Version control</a></div><div class=\"lev4 toc-item\"><a href=\"#Testing\" data-toc-modified-id=\"Testing-11714\"><span class=\"toc-item-num\">11.7.1.4&nbsp;&nbsp;</span>Testing</a></div><div class=\"lev4 toc-item\"><a href=\"#Repository\" data-toc-modified-id=\"Repository-11715\"><span class=\"toc-item-num\">11.7.1.5&nbsp;&nbsp;</span>Repository</a></div><div class=\"lev3 toc-item\"><a href=\"#Open-source-and-DOI\" data-toc-modified-id=\"Open-source-and-DOI-1172\"><span class=\"toc-item-num\">11.7.2&nbsp;&nbsp;</span>Open source and DOI</a></div><div class=\"lev4 toc-item\"><a href=\"#Open-source-use\" data-toc-modified-id=\"Open-source-use-11721\"><span class=\"toc-item-num\">11.7.2.1&nbsp;&nbsp;</span>Open source use</a></div><div class=\"lev4 toc-item\"><a href=\"#Referencing-software\" data-toc-modified-id=\"Referencing-software-11722\"><span class=\"toc-item-num\">11.7.2.2&nbsp;&nbsp;</span>Referencing software</a></div><div class=\"lev4 toc-item\"><a href=\"#Use-of-Digital-Object-Identifier-(DOI)\" data-toc-modified-id=\"Use-of-Digital-Object-Identifier-(DOI)-11723\"><span class=\"toc-item-num\">11.7.2.3&nbsp;&nbsp;</span>Use of Digital Object Identifier (DOI)</a></div><div class=\"lev4 toc-item\"><a href=\"#Tools-used-for-DOI\" data-toc-modified-id=\"Tools-used-for-DOI-11724\"><span class=\"toc-item-num\">11.7.2.4&nbsp;&nbsp;</span>Tools used for DOI</a></div><div class=\"lev4 toc-item\"><a href=\"#ORCID\" data-toc-modified-id=\"ORCID-11725\"><span class=\"toc-item-num\">11.7.2.5&nbsp;&nbsp;</span>ORCID</a></div><div class=\"lev3 toc-item\"><a href=\"#Tools-and-programing-languages\" data-toc-modified-id=\"Tools-and-programing-languages-1173\"><span class=\"toc-item-num\">11.7.3&nbsp;&nbsp;</span>Tools and programing languages</a></div><div class=\"lev4 toc-item\"><a href=\"#Programing-languages\" data-toc-modified-id=\"Programing-languages-11731\"><span class=\"toc-item-num\">11.7.3.1&nbsp;&nbsp;</span>Programing languages</a></div><div class=\"lev4 toc-item\"><a href=\"#Operating-System\" data-toc-modified-id=\"Operating-System-11732\"><span class=\"toc-item-num\">11.7.3.2&nbsp;&nbsp;</span>Operating System</a></div><div class=\"lev2 toc-item\"><a href=\"#Rest-of-the-world\" data-toc-modified-id=\"Rest-of-the-world-118\"><span class=\"toc-item-num\">11.8&nbsp;&nbsp;</span>Rest of the world</a></div><div class=\"lev3 toc-item\"><a href=\"#Good-practices\" data-toc-modified-id=\"Good-practices-1181\"><span class=\"toc-item-num\">11.8.1&nbsp;&nbsp;</span>Good practices</a></div><div class=\"lev4 toc-item\"><a href=\"#Bus-Factor\" data-toc-modified-id=\"Bus-Factor-11811\"><span class=\"toc-item-num\">11.8.1.1&nbsp;&nbsp;</span>Bus Factor</a></div><div class=\"lev4 toc-item\"><a href=\"#Transition-plan\" data-toc-modified-id=\"Transition-plan-11812\"><span class=\"toc-item-num\">11.8.1.2&nbsp;&nbsp;</span>Transition plan</a></div><div class=\"lev4 toc-item\"><a href=\"#Version-control\" data-toc-modified-id=\"Version-control-11813\"><span class=\"toc-item-num\">11.8.1.3&nbsp;&nbsp;</span>Version control</a></div><div class=\"lev4 toc-item\"><a href=\"#Testing\" data-toc-modified-id=\"Testing-11814\"><span class=\"toc-item-num\">11.8.1.4&nbsp;&nbsp;</span>Testing</a></div><div class=\"lev4 toc-item\"><a href=\"#Repository\" data-toc-modified-id=\"Repository-11815\"><span class=\"toc-item-num\">11.8.1.5&nbsp;&nbsp;</span>Repository</a></div><div class=\"lev3 toc-item\"><a href=\"#Open-source-and-DOI\" data-toc-modified-id=\"Open-source-and-DOI-1182\"><span class=\"toc-item-num\">11.8.2&nbsp;&nbsp;</span>Open source and DOI</a></div><div class=\"lev4 toc-item\"><a href=\"#Open-source-use\" data-toc-modified-id=\"Open-source-use-11821\"><span class=\"toc-item-num\">11.8.2.1&nbsp;&nbsp;</span>Open source use</a></div><div class=\"lev4 toc-item\"><a href=\"#Referencing-software\" data-toc-modified-id=\"Referencing-software-11822\"><span class=\"toc-item-num\">11.8.2.2&nbsp;&nbsp;</span>Referencing software</a></div><div class=\"lev4 toc-item\"><a href=\"#Use-of-Digital-Object-Identifier-(DOI)\" data-toc-modified-id=\"Use-of-Digital-Object-Identifier-(DOI)-11823\"><span class=\"toc-item-num\">11.8.2.3&nbsp;&nbsp;</span>Use of Digital Object Identifier (DOI)</a></div><div class=\"lev4 toc-item\"><a href=\"#Tools-used-for-DOI\" data-toc-modified-id=\"Tools-used-for-DOI-11824\"><span class=\"toc-item-num\">11.8.2.4&nbsp;&nbsp;</span>Tools used for DOI</a></div><div class=\"lev4 toc-item\"><a href=\"#ORCID\" data-toc-modified-id=\"ORCID-11825\"><span class=\"toc-item-num\">11.8.2.5&nbsp;&nbsp;</span>ORCID</a></div><div class=\"lev3 toc-item\"><a href=\"#Tools-and-programing-languages\" data-toc-modified-id=\"Tools-and-programing-languages-1183\"><span class=\"toc-item-num\">11.8.3&nbsp;&nbsp;</span>Tools and programing languages</a></div><div class=\"lev4 toc-item\"><a href=\"#Programing-languages\" data-toc-modified-id=\"Programing-languages-11831\"><span class=\"toc-item-num\">11.8.3.1&nbsp;&nbsp;</span>Programing languages</a></div><div class=\"lev4 toc-item\"><a href=\"#Operating-System\" data-toc-modified-id=\"Operating-System-11832\"><span class=\"toc-item-num\">11.8.3.2&nbsp;&nbsp;</span>Operating System</a></div><div class=\"lev1 toc-item\"><a href=\"#Job-Satisfaction\" data-toc-modified-id=\"Job-Satisfaction-12\"><span class=\"toc-item-num\">12&nbsp;&nbsp;</span>Job Satisfaction</a></div><div class=\"lev2 toc-item\"><a href=\"#Australia\" data-toc-modified-id=\"Australia-121\"><span class=\"toc-item-num\">12.1&nbsp;&nbsp;</span>Australia</a></div><div class=\"lev3 toc-item\"><a href=\"#General-satisfaction\" data-toc-modified-id=\"General-satisfaction-1211\"><span class=\"toc-item-num\">12.1.1&nbsp;&nbsp;</span>General satisfaction</a></div><div class=\"lev3 toc-item\"><a href=\"#Recognition\" data-toc-modified-id=\"Recognition-1212\"><span class=\"toc-item-num\">12.1.2&nbsp;&nbsp;</span>Recognition</a></div><div class=\"lev3 toc-item\"><a href=\"#Turn-over-intention\" data-toc-modified-id=\"Turn-over-intention-1213\"><span class=\"toc-item-num\">12.1.3&nbsp;&nbsp;</span>Turn-over intention</a></div><div class=\"lev3 toc-item\"><a href=\"#Perceived-employability\" data-toc-modified-id=\"Perceived-employability-1214\"><span class=\"toc-item-num\">12.1.4&nbsp;&nbsp;</span>Perceived employability</a></div><div class=\"lev3 toc-item\"><a href=\"#Progression-in-the-current-role\" data-toc-modified-id=\"Progression-in-the-current-role-1215\"><span class=\"toc-item-num\">12.1.5&nbsp;&nbsp;</span>Progression in the current role</a></div><div class=\"lev2 toc-item\"><a href=\"#Germany\" data-toc-modified-id=\"Germany-122\"><span class=\"toc-item-num\">12.2&nbsp;&nbsp;</span>Germany</a></div><div class=\"lev3 toc-item\"><a href=\"#General-satisfaction\" data-toc-modified-id=\"General-satisfaction-1221\"><span class=\"toc-item-num\">12.2.1&nbsp;&nbsp;</span>General satisfaction</a></div><div class=\"lev3 toc-item\"><a href=\"#Recognition\" data-toc-modified-id=\"Recognition-1222\"><span class=\"toc-item-num\">12.2.2&nbsp;&nbsp;</span>Recognition</a></div><div class=\"lev3 toc-item\"><a href=\"#Turn-over-intention\" data-toc-modified-id=\"Turn-over-intention-1223\"><span class=\"toc-item-num\">12.2.3&nbsp;&nbsp;</span>Turn-over intention</a></div><div class=\"lev3 toc-item\"><a href=\"#Perceived-employability\" data-toc-modified-id=\"Perceived-employability-1224\"><span class=\"toc-item-num\">12.2.4&nbsp;&nbsp;</span>Perceived employability</a></div><div class=\"lev3 toc-item\"><a href=\"#Progression-in-the-current-role\" data-toc-modified-id=\"Progression-in-the-current-role-1225\"><span class=\"toc-item-num\">12.2.5&nbsp;&nbsp;</span>Progression in the current role</a></div><div class=\"lev2 toc-item\"><a href=\"#Netherlands\" data-toc-modified-id=\"Netherlands-123\"><span class=\"toc-item-num\">12.3&nbsp;&nbsp;</span>Netherlands</a></div><div class=\"lev3 toc-item\"><a href=\"#General-satisfaction\" data-toc-modified-id=\"General-satisfaction-1231\"><span class=\"toc-item-num\">12.3.1&nbsp;&nbsp;</span>General satisfaction</a></div><div class=\"lev2 toc-item\"><a href=\"#New-Zealand\" data-toc-modified-id=\"New-Zealand-124\"><span class=\"toc-item-num\">12.4&nbsp;&nbsp;</span>New Zealand</a></div><div class=\"lev3 toc-item\"><a href=\"#General-satisfaction\" data-toc-modified-id=\"General-satisfaction-1241\"><span class=\"toc-item-num\">12.4.1&nbsp;&nbsp;</span>General satisfaction</a></div><div class=\"lev3 toc-item\"><a href=\"#Recognition\" data-toc-modified-id=\"Recognition-1242\"><span class=\"toc-item-num\">12.4.2&nbsp;&nbsp;</span>Recognition</a></div><div class=\"lev3 toc-item\"><a href=\"#Turn-over-intention\" data-toc-modified-id=\"Turn-over-intention-1243\"><span class=\"toc-item-num\">12.4.3&nbsp;&nbsp;</span>Turn-over intention</a></div><div class=\"lev3 toc-item\"><a href=\"#Perceived-employability\" data-toc-modified-id=\"Perceived-employability-1244\"><span class=\"toc-item-num\">12.4.4&nbsp;&nbsp;</span>Perceived employability</a></div><div class=\"lev3 toc-item\"><a href=\"#Progression-in-the-current-role\" data-toc-modified-id=\"Progression-in-the-current-role-1245\"><span class=\"toc-item-num\">12.4.5&nbsp;&nbsp;</span>Progression in the current role</a></div><div class=\"lev2 toc-item\"><a href=\"#South-Africa\" data-toc-modified-id=\"South-Africa-125\"><span class=\"toc-item-num\">12.5&nbsp;&nbsp;</span>South Africa</a></div><div class=\"lev3 toc-item\"><a href=\"#General-satisfaction\" data-toc-modified-id=\"General-satisfaction-1251\"><span class=\"toc-item-num\">12.5.1&nbsp;&nbsp;</span>General satisfaction</a></div><div class=\"lev3 toc-item\"><a href=\"#Recognition\" data-toc-modified-id=\"Recognition-1252\"><span class=\"toc-item-num\">12.5.2&nbsp;&nbsp;</span>Recognition</a></div><div class=\"lev3 toc-item\"><a href=\"#Turn-over-intention\" data-toc-modified-id=\"Turn-over-intention-1253\"><span class=\"toc-item-num\">12.5.3&nbsp;&nbsp;</span>Turn-over intention</a></div><div class=\"lev3 toc-item\"><a href=\"#Perceived-employability\" data-toc-modified-id=\"Perceived-employability-1254\"><span class=\"toc-item-num\">12.5.4&nbsp;&nbsp;</span>Perceived employability</a></div><div class=\"lev3 toc-item\"><a href=\"#Progression-in-the-current-role\" data-toc-modified-id=\"Progression-in-the-current-role-1255\"><span class=\"toc-item-num\">12.5.5&nbsp;&nbsp;</span>Progression in the current role</a></div><div class=\"lev2 toc-item\"><a href=\"#United-Kingdom\" data-toc-modified-id=\"United-Kingdom-126\"><span class=\"toc-item-num\">12.6&nbsp;&nbsp;</span>United Kingdom</a></div><div class=\"lev3 toc-item\"><a href=\"#General-satisfaction\" data-toc-modified-id=\"General-satisfaction-1261\"><span class=\"toc-item-num\">12.6.1&nbsp;&nbsp;</span>General satisfaction</a></div><div class=\"lev3 toc-item\"><a href=\"#Recognition\" data-toc-modified-id=\"Recognition-1262\"><span class=\"toc-item-num\">12.6.2&nbsp;&nbsp;</span>Recognition</a></div><div class=\"lev3 toc-item\"><a href=\"#Turn-over-intention\" data-toc-modified-id=\"Turn-over-intention-1263\"><span class=\"toc-item-num\">12.6.3&nbsp;&nbsp;</span>Turn-over intention</a></div><div class=\"lev3 toc-item\"><a href=\"#Perceived-employability\" data-toc-modified-id=\"Perceived-employability-1264\"><span class=\"toc-item-num\">12.6.4&nbsp;&nbsp;</span>Perceived employability</a></div><div class=\"lev3 toc-item\"><a href=\"#Progression-in-the-current-role\" data-toc-modified-id=\"Progression-in-the-current-role-1265\"><span class=\"toc-item-num\">12.6.5&nbsp;&nbsp;</span>Progression in the current role</a></div><div class=\"lev2 toc-item\"><a href=\"#United-States\" data-toc-modified-id=\"United-States-127\"><span class=\"toc-item-num\">12.7&nbsp;&nbsp;</span>United States</a></div><div class=\"lev3 toc-item\"><a href=\"#General-satisfaction\" data-toc-modified-id=\"General-satisfaction-1271\"><span class=\"toc-item-num\">12.7.1&nbsp;&nbsp;</span>General satisfaction</a></div><div class=\"lev3 toc-item\"><a href=\"#Recognition\" data-toc-modified-id=\"Recognition-1272\"><span class=\"toc-item-num\">12.7.2&nbsp;&nbsp;</span>Recognition</a></div><div class=\"lev3 toc-item\"><a href=\"#Turn-over-intention\" data-toc-modified-id=\"Turn-over-intention-1273\"><span class=\"toc-item-num\">12.7.3&nbsp;&nbsp;</span>Turn-over intention</a></div><div class=\"lev3 toc-item\"><a href=\"#Perceived-employability\" data-toc-modified-id=\"Perceived-employability-1274\"><span class=\"toc-item-num\">12.7.4&nbsp;&nbsp;</span>Perceived employability</a></div><div class=\"lev3 toc-item\"><a href=\"#Progression-in-the-current-role\" data-toc-modified-id=\"Progression-in-the-current-role-1275\"><span class=\"toc-item-num\">12.7.5&nbsp;&nbsp;</span>Progression in the current role</a></div><div class=\"lev2 toc-item\"><a href=\"#Rest-of-the-world\" data-toc-modified-id=\"Rest-of-the-world-128\"><span class=\"toc-item-num\">12.8&nbsp;&nbsp;</span>Rest of the world</a></div><div class=\"lev3 toc-item\"><a href=\"#General-satisfaction\" data-toc-modified-id=\"General-satisfaction-1281\"><span class=\"toc-item-num\">12.8.1&nbsp;&nbsp;</span>General satisfaction</a></div><div class=\"lev3 toc-item\"><a href=\"#Recognition\" data-toc-modified-id=\"Recognition-1282\"><span class=\"toc-item-num\">12.8.2&nbsp;&nbsp;</span>Recognition</a></div><div class=\"lev3 toc-item\"><a href=\"#Turn-over-intention\" data-toc-modified-id=\"Turn-over-intention-1283\"><span class=\"toc-item-num\">12.8.3&nbsp;&nbsp;</span>Turn-over intention</a></div><div class=\"lev3 toc-item\"><a href=\"#Perceived-employability\" data-toc-modified-id=\"Perceived-employability-1284\"><span class=\"toc-item-num\">12.8.4&nbsp;&nbsp;</span>Perceived employability</a></div><div class=\"lev3 toc-item\"><a href=\"#Progression-in-the-current-role\" data-toc-modified-id=\"Progression-in-the-current-role-1285\"><span class=\"toc-item-num\">12.8.5&nbsp;&nbsp;</span>Progression in the current role</a></div><div class=\"lev1 toc-item\"><a href=\"#Socio-demographic\" data-toc-modified-id=\"Socio-demographic-13\"><span class=\"toc-item-num\">13&nbsp;&nbsp;</span>Socio demographic</a></div><div class=\"lev2 toc-item\"><a href=\"#Australia\" data-toc-modified-id=\"Australia-131\"><span class=\"toc-item-num\">13.1&nbsp;&nbsp;</span>Australia</a></div><div class=\"lev3 toc-item\"><a href=\"#Age\" data-toc-modified-id=\"Age-1311\"><span class=\"toc-item-num\">13.1.1&nbsp;&nbsp;</span>Age</a></div><div class=\"lev3 toc-item\"><a href=\"#Gender\" data-toc-modified-id=\"Gender-1312\"><span class=\"toc-item-num\">13.1.2&nbsp;&nbsp;</span>Gender</a></div><div class=\"lev2 toc-item\"><a href=\"#Germany\" data-toc-modified-id=\"Germany-132\"><span class=\"toc-item-num\">13.2&nbsp;&nbsp;</span>Germany</a></div><div class=\"lev3 toc-item\"><a href=\"#Age\" data-toc-modified-id=\"Age-1321\"><span class=\"toc-item-num\">13.2.1&nbsp;&nbsp;</span>Age</a></div><div class=\"lev3 toc-item\"><a href=\"#Gender\" data-toc-modified-id=\"Gender-1322\"><span class=\"toc-item-num\">13.2.2&nbsp;&nbsp;</span>Gender</a></div><div class=\"lev2 toc-item\"><a href=\"#Netherlands\" data-toc-modified-id=\"Netherlands-133\"><span class=\"toc-item-num\">13.3&nbsp;&nbsp;</span>Netherlands</a></div><div class=\"lev3 toc-item\"><a href=\"#Age\" data-toc-modified-id=\"Age-1331\"><span class=\"toc-item-num\">13.3.1&nbsp;&nbsp;</span>Age</a></div><div class=\"lev3 toc-item\"><a href=\"#Gender\" data-toc-modified-id=\"Gender-1332\"><span class=\"toc-item-num\">13.3.2&nbsp;&nbsp;</span>Gender</a></div><div class=\"lev2 toc-item\"><a href=\"#New-Zealand\" data-toc-modified-id=\"New-Zealand-134\"><span class=\"toc-item-num\">13.4&nbsp;&nbsp;</span>New Zealand</a></div><div class=\"lev3 toc-item\"><a href=\"#Age\" data-toc-modified-id=\"Age-1341\"><span class=\"toc-item-num\">13.4.1&nbsp;&nbsp;</span>Age</a></div><div class=\"lev3 toc-item\"><a href=\"#Gender\" data-toc-modified-id=\"Gender-1342\"><span class=\"toc-item-num\">13.4.2&nbsp;&nbsp;</span>Gender</a></div><div class=\"lev2 toc-item\"><a href=\"#South-Africa\" data-toc-modified-id=\"South-Africa-135\"><span class=\"toc-item-num\">13.5&nbsp;&nbsp;</span>South Africa</a></div><div class=\"lev3 toc-item\"><a href=\"#Age\" data-toc-modified-id=\"Age-1351\"><span class=\"toc-item-num\">13.5.1&nbsp;&nbsp;</span>Age</a></div><div class=\"lev3 toc-item\"><a href=\"#Gender\" data-toc-modified-id=\"Gender-1352\"><span class=\"toc-item-num\">13.5.2&nbsp;&nbsp;</span>Gender</a></div><div class=\"lev2 toc-item\"><a href=\"#United-Kingdom\" data-toc-modified-id=\"United-Kingdom-136\"><span class=\"toc-item-num\">13.6&nbsp;&nbsp;</span>United Kingdom</a></div><div class=\"lev3 toc-item\"><a href=\"#Age\" data-toc-modified-id=\"Age-1361\"><span class=\"toc-item-num\">13.6.1&nbsp;&nbsp;</span>Age</a></div><div class=\"lev3 toc-item\"><a href=\"#Gender\" data-toc-modified-id=\"Gender-1362\"><span class=\"toc-item-num\">13.6.2&nbsp;&nbsp;</span>Gender</a></div><div class=\"lev3 toc-item\"><a href=\"#Ethnicity\" data-toc-modified-id=\"Ethnicity-1363\"><span class=\"toc-item-num\">13.6.3&nbsp;&nbsp;</span>Ethnicity</a></div><div class=\"lev3 toc-item\"><a href=\"#Disability\" data-toc-modified-id=\"Disability-1364\"><span class=\"toc-item-num\">13.6.4&nbsp;&nbsp;</span>Disability</a></div><div class=\"lev2 toc-item\"><a href=\"#United-States\" data-toc-modified-id=\"United-States-137\"><span class=\"toc-item-num\">13.7&nbsp;&nbsp;</span>United States</a></div><div class=\"lev3 toc-item\"><a href=\"#Age\" data-toc-modified-id=\"Age-1371\"><span class=\"toc-item-num\">13.7.1&nbsp;&nbsp;</span>Age</a></div><div class=\"lev3 toc-item\"><a href=\"#Gender\" data-toc-modified-id=\"Gender-1372\"><span class=\"toc-item-num\">13.7.2&nbsp;&nbsp;</span>Gender</a></div><div class=\"lev3 toc-item\"><a href=\"#Ethnicity\" data-toc-modified-id=\"Ethnicity-1373\"><span class=\"toc-item-num\">13.7.3&nbsp;&nbsp;</span>Ethnicity</a></div><div class=\"lev3 toc-item\"><a href=\"#Hispano-or-Latino\" data-toc-modified-id=\"Hispano-or-Latino-1374\"><span class=\"toc-item-num\">13.7.4&nbsp;&nbsp;</span>Hispano or Latino</a></div><div class=\"lev2 toc-item\"><a href=\"#Rest-of-the-world\" data-toc-modified-id=\"Rest-of-the-world-138\"><span class=\"toc-item-num\">13.8&nbsp;&nbsp;</span>Rest of the world</a></div><div class=\"lev3 toc-item\"><a href=\"#Age\" data-toc-modified-id=\"Age-1381\"><span class=\"toc-item-num\">13.8.1&nbsp;&nbsp;</span>Age</a></div><div class=\"lev3 toc-item\"><a href=\"#Gender\" data-toc-modified-id=\"Gender-1382\"><span class=\"toc-item-num\">13.8.2&nbsp;&nbsp;</span>Gender</a></div><div class=\"lev1 toc-item\"><a href=\"#Research-Software-Engineer\" data-toc-modified-id=\"Research-Software-Engineer-14\"><span class=\"toc-item-num\">14&nbsp;&nbsp;</span>Research Software Engineer</a></div><div class=\"lev2 toc-item\"><a href=\"#Australia\" data-toc-modified-id=\"Australia-141\"><span class=\"toc-item-num\">14.1&nbsp;&nbsp;</span>Australia</a></div><div class=\"lev3 toc-item\"><a href=\"#RSE-member\" data-toc-modified-id=\"RSE-member-1411\"><span class=\"toc-item-num\">14.1.1&nbsp;&nbsp;</span>RSE member</a></div><div class=\"lev3 toc-item\"><a href=\"#Joining-a-RSE/RSD-association\" data-toc-modified-id=\"Joining-a-RSE/RSD-association-1412\"><span class=\"toc-item-num\">14.1.2&nbsp;&nbsp;</span>Joining a RSE/RSD association</a></div><div class=\"lev3 toc-item\"><a href=\"#What-is-important-for-such-organisation\" data-toc-modified-id=\"What-is-important-for-such-organisation-1413\"><span class=\"toc-item-num\">14.1.3&nbsp;&nbsp;</span>What is important for such organisation</a></div><div class=\"lev3 toc-item\"><a href=\"#Attending-a-national-conference-of-RSE/RSD\" data-toc-modified-id=\"Attending-a-national-conference-of-RSE/RSD-1414\"><span class=\"toc-item-num\">14.1.4&nbsp;&nbsp;</span>Attending a national conference of RSE/RSD</a></div><div class=\"lev3 toc-item\"><a href=\"#Learning-skills-for-RSE/RSD\" data-toc-modified-id=\"Learning-skills-for-RSE/RSD-1415\"><span class=\"toc-item-num\">14.1.5&nbsp;&nbsp;</span>Learning skills for RSE/RSD</a></div><div class=\"lev3 toc-item\"><a href=\"#Which-skills-to-improve\" data-toc-modified-id=\"Which-skills-to-improve-1416\"><span class=\"toc-item-num\">14.1.6&nbsp;&nbsp;</span>Which skills to improve</a></div><div class=\"lev2 toc-item\"><a href=\"#Germany\" data-toc-modified-id=\"Germany-142\"><span class=\"toc-item-num\">14.2&nbsp;&nbsp;</span>Germany</a></div><div class=\"lev3 toc-item\"><a href=\"#RSE-member\" data-toc-modified-id=\"RSE-member-1421\"><span class=\"toc-item-num\">14.2.1&nbsp;&nbsp;</span>RSE member</a></div><div class=\"lev3 toc-item\"><a href=\"#Joining-a-RSE/RSD-association\" data-toc-modified-id=\"Joining-a-RSE/RSD-association-1422\"><span class=\"toc-item-num\">14.2.2&nbsp;&nbsp;</span>Joining a RSE/RSD association</a></div><div class=\"lev3 toc-item\"><a href=\"#What-is-important-for-such-organisation\" data-toc-modified-id=\"What-is-important-for-such-organisation-1423\"><span class=\"toc-item-num\">14.2.3&nbsp;&nbsp;</span>What is important for such organisation</a></div><div class=\"lev3 toc-item\"><a href=\"#Attending-a-national-conference-of-RSE/RSD\" data-toc-modified-id=\"Attending-a-national-conference-of-RSE/RSD-1424\"><span class=\"toc-item-num\">14.2.4&nbsp;&nbsp;</span>Attending a national conference of RSE/RSD</a></div><div class=\"lev3 toc-item\"><a href=\"#Learning-skills-for-RSE/RSD\" data-toc-modified-id=\"Learning-skills-for-RSE/RSD-1425\"><span class=\"toc-item-num\">14.2.5&nbsp;&nbsp;</span>Learning skills for RSE/RSD</a></div><div class=\"lev3 toc-item\"><a href=\"#Which-skills-to-improve\" data-toc-modified-id=\"Which-skills-to-improve-1426\"><span class=\"toc-item-num\">14.2.6&nbsp;&nbsp;</span>Which skills to improve</a></div><div class=\"lev2 toc-item\"><a href=\"#Netherlands\" data-toc-modified-id=\"Netherlands-143\"><span class=\"toc-item-num\">14.3&nbsp;&nbsp;</span>Netherlands</a></div><div class=\"lev3 toc-item\"><a href=\"#RSE-member\" data-toc-modified-id=\"RSE-member-1431\"><span class=\"toc-item-num\">14.3.1&nbsp;&nbsp;</span>RSE member</a></div><div class=\"lev3 toc-item\"><a href=\"#Joining-a-RSE/RSD-association\" data-toc-modified-id=\"Joining-a-RSE/RSD-association-1432\"><span class=\"toc-item-num\">14.3.2&nbsp;&nbsp;</span>Joining a RSE/RSD association</a></div><div class=\"lev3 toc-item\"><a href=\"#What-is-important-for-such-organisation\" data-toc-modified-id=\"What-is-important-for-such-organisation-1433\"><span class=\"toc-item-num\">14.3.3&nbsp;&nbsp;</span>What is important for such organisation</a></div><div class=\"lev3 toc-item\"><a href=\"#Attending-a-national-conference-of-RSE/RSD\" data-toc-modified-id=\"Attending-a-national-conference-of-RSE/RSD-1434\"><span class=\"toc-item-num\">14.3.4&nbsp;&nbsp;</span>Attending a national conference of RSE/RSD</a></div><div class=\"lev3 toc-item\"><a href=\"#Learning-skills-for-RSE/RSD\" data-toc-modified-id=\"Learning-skills-for-RSE/RSD-1435\"><span class=\"toc-item-num\">14.3.5&nbsp;&nbsp;</span>Learning skills for RSE/RSD</a></div><div class=\"lev3 toc-item\"><a href=\"#Which-skills-to-improve\" data-toc-modified-id=\"Which-skills-to-improve-1436\"><span class=\"toc-item-num\">14.3.6&nbsp;&nbsp;</span>Which skills to improve</a></div><div class=\"lev2 toc-item\"><a href=\"#New-Zealand\" data-toc-modified-id=\"New-Zealand-144\"><span class=\"toc-item-num\">14.4&nbsp;&nbsp;</span>New Zealand</a></div><div class=\"lev3 toc-item\"><a href=\"#RSE-member\" data-toc-modified-id=\"RSE-member-1441\"><span class=\"toc-item-num\">14.4.1&nbsp;&nbsp;</span>RSE member</a></div><div class=\"lev3 toc-item\"><a href=\"#Joining-a-RSE/RSD-association\" data-toc-modified-id=\"Joining-a-RSE/RSD-association-1442\"><span class=\"toc-item-num\">14.4.2&nbsp;&nbsp;</span>Joining a RSE/RSD association</a></div><div class=\"lev3 toc-item\"><a href=\"#What-is-important-for-such-organisation\" data-toc-modified-id=\"What-is-important-for-such-organisation-1443\"><span class=\"toc-item-num\">14.4.3&nbsp;&nbsp;</span>What is important for such organisation</a></div><div class=\"lev3 toc-item\"><a href=\"#Attending-a-national-conference-of-RSE/RSD\" data-toc-modified-id=\"Attending-a-national-conference-of-RSE/RSD-1444\"><span class=\"toc-item-num\">14.4.4&nbsp;&nbsp;</span>Attending a national conference of RSE/RSD</a></div><div class=\"lev3 toc-item\"><a href=\"#Learning-skills-for-RSE/RSD\" data-toc-modified-id=\"Learning-skills-for-RSE/RSD-1445\"><span class=\"toc-item-num\">14.4.5&nbsp;&nbsp;</span>Learning skills for RSE/RSD</a></div><div class=\"lev3 toc-item\"><a href=\"#Which-skills-to-improve\" data-toc-modified-id=\"Which-skills-to-improve-1446\"><span class=\"toc-item-num\">14.4.6&nbsp;&nbsp;</span>Which skills to improve</a></div><div class=\"lev2 toc-item\"><a href=\"#South-Africa\" data-toc-modified-id=\"South-Africa-145\"><span class=\"toc-item-num\">14.5&nbsp;&nbsp;</span>South Africa</a></div><div class=\"lev3 toc-item\"><a href=\"#RSE-member\" data-toc-modified-id=\"RSE-member-1451\"><span class=\"toc-item-num\">14.5.1&nbsp;&nbsp;</span>RSE member</a></div><div class=\"lev3 toc-item\"><a href=\"#Joining-a-RSE/RSD-association\" data-toc-modified-id=\"Joining-a-RSE/RSD-association-1452\"><span class=\"toc-item-num\">14.5.2&nbsp;&nbsp;</span>Joining a RSE/RSD association</a></div><div class=\"lev3 toc-item\"><a href=\"#What-is-important-for-such-organisation\" data-toc-modified-id=\"What-is-important-for-such-organisation-1453\"><span class=\"toc-item-num\">14.5.3&nbsp;&nbsp;</span>What is important for such organisation</a></div><div class=\"lev3 toc-item\"><a href=\"#Attending-a-national-conference-of-RSE/RSD\" data-toc-modified-id=\"Attending-a-national-conference-of-RSE/RSD-1454\"><span class=\"toc-item-num\">14.5.4&nbsp;&nbsp;</span>Attending a national conference of RSE/RSD</a></div><div class=\"lev3 toc-item\"><a href=\"#Learning-skills-for-RSE/RSD\" data-toc-modified-id=\"Learning-skills-for-RSE/RSD-1455\"><span class=\"toc-item-num\">14.5.5&nbsp;&nbsp;</span>Learning skills for RSE/RSD</a></div><div class=\"lev3 toc-item\"><a href=\"#Which-skills-to-improve\" data-toc-modified-id=\"Which-skills-to-improve-1456\"><span class=\"toc-item-num\">14.5.6&nbsp;&nbsp;</span>Which skills to improve</a></div><div class=\"lev2 toc-item\"><a href=\"#United-Kingdom\" data-toc-modified-id=\"United-Kingdom-146\"><span class=\"toc-item-num\">14.6&nbsp;&nbsp;</span>United Kingdom</a></div><div class=\"lev3 toc-item\"><a href=\"#RSE-member\" data-toc-modified-id=\"RSE-member-1461\"><span class=\"toc-item-num\">14.6.1&nbsp;&nbsp;</span>RSE member</a></div><div class=\"lev3 toc-item\"><a href=\"#Joining-a-RSE/RSD-association\" data-toc-modified-id=\"Joining-a-RSE/RSD-association-1462\"><span class=\"toc-item-num\">14.6.2&nbsp;&nbsp;</span>Joining a RSE/RSD association</a></div><div class=\"lev3 toc-item\"><a href=\"#What-is-important-for-such-organisation\" data-toc-modified-id=\"What-is-important-for-such-organisation-1463\"><span class=\"toc-item-num\">14.6.3&nbsp;&nbsp;</span>What is important for such organisation</a></div><div class=\"lev3 toc-item\"><a href=\"#Attending-a-national-conference-of-RSE/RSD\" data-toc-modified-id=\"Attending-a-national-conference-of-RSE/RSD-1464\"><span class=\"toc-item-num\">14.6.4&nbsp;&nbsp;</span>Attending a national conference of RSE/RSD</a></div><div class=\"lev3 toc-item\"><a href=\"#Learning-skills-for-RSE/RSD\" data-toc-modified-id=\"Learning-skills-for-RSE/RSD-1465\"><span class=\"toc-item-num\">14.6.5&nbsp;&nbsp;</span>Learning skills for RSE/RSD</a></div><div class=\"lev3 toc-item\"><a href=\"#Which-skills-to-improve\" data-toc-modified-id=\"Which-skills-to-improve-1466\"><span class=\"toc-item-num\">14.6.6&nbsp;&nbsp;</span>Which skills to improve</a></div><div class=\"lev2 toc-item\"><a href=\"#United-States\" data-toc-modified-id=\"United-States-147\"><span class=\"toc-item-num\">14.7&nbsp;&nbsp;</span>United States</a></div><div class=\"lev3 toc-item\"><a href=\"#RSE-member\" data-toc-modified-id=\"RSE-member-1471\"><span class=\"toc-item-num\">14.7.1&nbsp;&nbsp;</span>RSE member</a></div><div class=\"lev3 toc-item\"><a href=\"#Joining-a-RSE/RSD-association\" data-toc-modified-id=\"Joining-a-RSE/RSD-association-1472\"><span class=\"toc-item-num\">14.7.2&nbsp;&nbsp;</span>Joining a RSE/RSD association</a></div><div class=\"lev3 toc-item\"><a href=\"#What-is-important-for-such-organisation\" data-toc-modified-id=\"What-is-important-for-such-organisation-1473\"><span class=\"toc-item-num\">14.7.3&nbsp;&nbsp;</span>What is important for such organisation</a></div><div class=\"lev3 toc-item\"><a href=\"#Attending-a-national-conference-of-RSE/RSD\" data-toc-modified-id=\"Attending-a-national-conference-of-RSE/RSD-1474\"><span class=\"toc-item-num\">14.7.4&nbsp;&nbsp;</span>Attending a national conference of RSE/RSD</a></div><div class=\"lev3 toc-item\"><a href=\"#Learning-skills-for-RSE/RSD\" data-toc-modified-id=\"Learning-skills-for-RSE/RSD-1475\"><span class=\"toc-item-num\">14.7.5&nbsp;&nbsp;</span>Learning skills for RSE/RSD</a></div><div class=\"lev3 toc-item\"><a href=\"#Which-skills-to-improve\" data-toc-modified-id=\"Which-skills-to-improve-1476\"><span class=\"toc-item-num\">14.7.6&nbsp;&nbsp;</span>Which skills to improve</a></div><div class=\"lev2 toc-item\"><a href=\"#Rest-of-the-world\" data-toc-modified-id=\"Rest-of-the-world-148\"><span class=\"toc-item-num\">14.8&nbsp;&nbsp;</span>Rest of the world</a></div><div class=\"lev3 toc-item\"><a href=\"#RSE-member\" data-toc-modified-id=\"RSE-member-1481\"><span class=\"toc-item-num\">14.8.1&nbsp;&nbsp;</span>RSE member</a></div><div class=\"lev3 toc-item\"><a href=\"#Joining-a-RSE/RSD-association\" data-toc-modified-id=\"Joining-a-RSE/RSD-association-1482\"><span class=\"toc-item-num\">14.8.2&nbsp;&nbsp;</span>Joining a RSE/RSD association</a></div><div class=\"lev3 toc-item\"><a href=\"#What-is-important-for-such-organisation\" data-toc-modified-id=\"What-is-important-for-such-organisation-1483\"><span class=\"toc-item-num\">14.8.3&nbsp;&nbsp;</span>What is important for such organisation</a></div><div class=\"lev3 toc-item\"><a href=\"#Attending-a-national-conference-of-RSE/RSD\" data-toc-modified-id=\"Attending-a-national-conference-of-RSE/RSD-1484\"><span class=\"toc-item-num\">14.8.4&nbsp;&nbsp;</span>Attending a national conference of RSE/RSD</a></div><div class=\"lev3 toc-item\"><a href=\"#Learning-skills-for-RSE/RSD\" data-toc-modified-id=\"Learning-skills-for-RSE/RSD-1485\"><span class=\"toc-item-num\">14.8.5&nbsp;&nbsp;</span>Learning skills for RSE/RSD</a></div><div class=\"lev3 toc-item\"><a href=\"#Which-skills-to-improve\" data-toc-modified-id=\"Which-skills-to-improve-1486\"><span class=\"toc-item-num\">14.8.6&nbsp;&nbsp;</span>Which skills to improve</a></div>"
   ]
  },
  {
   "cell_type": "markdown",
   "metadata": {},
   "source": [
    "# Importing modules"
   ]
  },
  {
   "cell_type": "code",
   "execution_count": null,
   "metadata": {
    "collapsed": true
   },
   "outputs": [],
   "source": [
    "import json\n",
    "import collections\n",
    "import pandas as pd\n",
    "import geopandas as gpd\n",
    "import numpy as np\n",
    "import matplotlib\n",
    "import matplotlib.pyplot as plt\n",
    "import matplotlib.gridspec as gridspec\n",
    "import seaborn as sns\n",
    "from IPython.display import display\n",
    "import IPython.core.display as di\n",
    "from IPython.core.interactiveshell import InteractiveShell\n",
    "from include.likertScalePlot import likert_scale\n",
    "from include.textCleaning import wordcloud"
   ]
  },
  {
   "cell_type": "code",
   "execution_count": null,
   "metadata": {
    "collapsed": true
   },
   "outputs": [],
   "source": [
    "pd.set_option('display.max_rows', 1000)\n",
    "pd.set_option('display.max_columns', 1000) \n",
    "InteractiveShell.ast_node_interactivity = \"all\" "
   ]
  },
  {
   "cell_type": "markdown",
   "metadata": {},
   "source": [
    "This text is used to hide the code cell when exported in html"
   ]
  },
  {
   "cell_type": "code",
   "execution_count": null,
   "metadata": {},
   "outputs": [],
   "source": [
    "di.display_html('<script>jQuery(function() {if (jQuery(\"body.notebook_app\").length == 0) { jQuery(\".input_area\").toggle(); jQuery(\".prompt\").toggle();}});</script>', raw=True)"
   ]
  },
  {
   "cell_type": "code",
   "execution_count": null,
   "metadata": {
    "collapsed": true
   },
   "outputs": [],
   "source": [
    "#get_ipython().magic('matplotlib inline')  # Activate that line to use in Jupyter \n",
    "matplotlib.rcParams['figure.figsize'] = (15.0, 10.0)"
   ]
  },
  {
   "cell_type": "markdown",
   "metadata": {},
   "source": [
    "# Functions"
   ]
  },
  {
   "cell_type": "markdown",
   "metadata": {},
   "source": [
    "## Counting the answers and get results"
   ]
  },
  {
   "cell_type": "code",
   "execution_count": null,
   "metadata": {
    "collapsed": true
   },
   "outputs": [],
   "source": [
    "def get_sampled_df(df, columns):\n",
    "    \"\"\"\n",
    "    Return a subset of the general df by selecting the columns and adding the\n",
    "    columns of year and Country\n",
    "    \"\"\"\n",
    "    if isinstance(columns, str):\n",
    "        columns = [columns]\n",
    "    initial_col = ['Country', 'Year']\n",
    "    initial_col.extend(columns)\n",
    "    return df[initial_col]"
   ]
  },
  {
   "cell_type": "code",
   "execution_count": null,
   "metadata": {
    "collapsed": true
   },
   "outputs": [],
   "source": [
    "def count_y_n(df, category, normalize=False, dropna=True):\n",
    "    \"\"\"\n",
    "    \"\"\"\n",
    "    df_sub = df.iloc[:, df.columns != 'Country']\n",
    "    df_sub = df_sub.iloc[:, df_sub.columns != 'Year']\n",
    "    results = df_sub.apply(pd.Series.value_counts,\n",
    "                          dropna=dropna,\n",
    "                          normalize=normalize).reset_index()\n",
    "    #results = results.transpose()    \n",
    "    results.columns = [category, 'Count']\n",
    "\n",
    "    #results = results.reset_index()\n",
    "    results.set_index(category, inplace=True)\n",
    "    results.columns = ['Count']\n",
    "    #print(df_sub.loc['Yes'])\n",
    "    results['Percentage'] = (results['Count'] / results['Count'].sum())*100\n",
    "    \n",
    "    results = results.reindex(['Yes', 'No'])\n",
    "    return results"
   ]
  },
  {
   "cell_type": "code",
   "execution_count": null,
   "metadata": {
    "collapsed": true
   },
   "outputs": [],
   "source": [
    "def count_one_choice(df, country, order_question=False,\n",
    "                     dropna=False, normalize=False):\n",
    "    \"\"\"\n",
    "    Count the values of different columns and transpose the count\n",
    "    :params:\n",
    "        :df pd.df(): dataframe containing the data\n",
    "    :return:\n",
    "        :result_df pd.df(): dataframe with the count of each answer for each columns\n",
    "    \"\"\"\n",
    "    df_one_count = df.iloc[:, -1].value_counts().to_frame()\n",
    "    df_one_count.columns = ['Count']\n",
    "\n",
    "    df_one_count['Percentage'] = df_one_count['Count'] / df_one_count['Count'].sum()*100\n",
    "    \n",
    "    if order_question:      \n",
    "        df_one_count.sort_index(inplace=True)\n",
    "\n",
    "    return df_one_count"
   ]
  },
  {
   "cell_type": "code",
   "execution_count": null,
   "metadata": {
    "collapsed": true
   },
   "outputs": [],
   "source": [
    "def count_multi_choice(df, category, dropna=True):\n",
    "    \"\"\"\n",
    "    Count the values of different columns and transpose the count. It expect multi-choice type of answers\n",
    "    :params:\n",
    "        :df pd.df(): dataframe containing the data\n",
    "    :return:\n",
    "        :result_df pd.df(): dataframe with the count of each answer for each columns\n",
    "    \"\"\"\n",
    "    # Subset the columns by removing the country columns\n",
    "    df_sub = df.iloc[:, df.columns != 'Country']   \n",
    "    \n",
    "    # Subset only the columns that have values for the country. It checks if the unique list is more than just nan.\n",
    "    col_to_keep = list()\n",
    "    for col in df_sub:\n",
    "        if len(df_sub[col].unique()) > 1:\n",
    "            col_to_keep.append(col)\n",
    "    df_final = df_sub[col_to_keep]\n",
    "    \n",
    "    # As the No can be considered as absence of Yes, fill the value 'No' with na to keep Yes only\n",
    "    df_final = df_final.fillna(value='No')\n",
    "    \n",
    "    # Create the total of participants that have answered 'Yes' at at least one field\n",
    "    total_answered = len(df_final.notnull().any(axis=1))\n",
    "    \n",
    "    # Calculate the count for the column\n",
    "    df_final = df_final.apply(pd.Series.value_counts, dropna=dropna)\n",
    "    \n",
    "    # Replace all the 0 with NA\n",
    "    df_final.fillna(value=0, inplace=True)\n",
    "        \n",
    "    df_final = df_final.loc['Yes']\n",
    "\n",
    "    df_final = df_final.to_frame().reset_index()\n",
    "    df_final.columns = [category, 'Count']\n",
    "    \n",
    "    # Calculate the proportion of each category by participants that answered at least one category (rather than by total answer for all categories)\n",
    "    df_final['Percentage'] = (df_final['Count'] / total_answered)*100    \n",
    "    \n",
    "    # Get the category information between Bracket\n",
    "    df_final[category] = df_final[category].str.replace(']', '').str.split('[').str[1]\n",
    "    \n",
    "    # Reorder the df\n",
    "    df_final = df_final.sort_values('Percentage', ascending=False)\n",
    "    \n",
    "    # Reset the index on category\n",
    "    df_final = df_final.set_index(category)\n",
    "    \n",
    "    # Return the results\n",
    "    return df_final"
   ]
  },
  {
   "cell_type": "code",
   "execution_count": null,
   "metadata": {
    "collapsed": true
   },
   "outputs": [],
   "source": [
    "def count_likert(df, likert_answer=False, dropna=False, normalize=False, reindex=False):\n",
    "    \"\"\"\n",
    "    Count the values of different columns and transpose the count\n",
    "    :params:\n",
    "        :df pd.df(): dataframe containing the data\n",
    "    :return:\n",
    "        :result_df pd.df(): dataframe with the count of each answer for each columns\n",
    "    \"\"\"\n",
    "    #df_to_use = get_sampled_df(df, columns)\n",
    "\n",
    "    # Subset the columns by removing the country columns\n",
    "    df_sub = df.loc[:, df.columns != 'Country']    \n",
    "    \n",
    "    def convert_to_int(x):\n",
    "        try:\n",
    "            return int(x)\n",
    "        except ValueError:\n",
    "            return x\n",
    "    # first convert the np.nan into a value that is different\n",
    "    df_sub = df_sub.fillna('to_remove')\n",
    "    \n",
    "    # # then transform into a string\n",
    "    df_sub = df_sub.applymap(str)\n",
    "    \n",
    "    # # then replace the -1 into np.nan\n",
    "    df_sub = df_sub.replace({'to_remove': np.nan})\n",
    "    \n",
    "    # Calculate the counts for them\n",
    "    df_count = df_sub.apply(pd.Series.value_counts, dropna=dropna, normalize=normalize)\n",
    "\n",
    "    # Reorder according to the answers order found in the folder if argument is passed\n",
    "    if likert_answer:\n",
    "        for i in likert_answer:  # Add the missing likert because they have nan value and are not in the dataset\n",
    "            i = str(i)\n",
    "            if i not in df_count.index:\n",
    "                df_count.loc[i] = np.nan\n",
    "        df_count = df_count.reindex(index=likert_answer)\n",
    "\n",
    "    return df_count"
   ]
  },
  {
   "cell_type": "code",
   "execution_count": null,
   "metadata": {
    "collapsed": true
   },
   "outputs": [],
   "source": [
    "def count_diff(df, columns, country, category, multi_choice=False, multi_column=False, y_n=False, order_index=False):\n",
    "    \"\"\"\n",
    "    Check if it is possible to get the difference from previous year.\n",
    "    Return a dataframe with the count of each category\n",
    "    \"\"\"\n",
    "    # Get the count for the 2018 year\n",
    "    df_to_use = get_sampled_df(df, columns)\n",
    "    try:\n",
    "        df_to_use[columns].astype('category')\n",
    "    except NotImplementedError:\n",
    "        pass\n",
    "    if country == 'all':\n",
    "         df_country_2018 = df_to_use[(df_to_use['Year'] == 2018)]\n",
    "    else:\n",
    "        df_country_2018 = df_to_use[(df_to_use['Country'] == country) & (df_to_use['Year'] == 2018)]\n",
    "    \n",
    "    if multi_choice is True:\n",
    "        count_current_field_2018 = count_multi_choice(df_country_2018, category)\n",
    "    \n",
    "    elif y_n is True:\n",
    "        count_current_field_2018 = count_y_n(df_country_2018, category)\n",
    "\n",
    "    elif multi_column is True:\n",
    "        count_current_field_2018 = count_multi_column(df_country_2018, category)\n",
    "\n",
    "    else:\n",
    "        count_current_field_2018 = count_one_choice(df_country_2018, category)\n",
    "    \n",
    "    # Get the count for the 2017 year if it exists\n",
    "    if country == 'all':\n",
    "        df_country_2017 = df_to_use[(df_to_use['Year'] == 2017)]\n",
    "    else:\n",
    "        df_country_2017 = df_to_use[(df_to_use['Country'] == country) & (df_to_use['Year'] == 2017)]\n",
    "\n",
    "    if multi_choice is True:\n",
    "        try:\n",
    "            count_current_field_2017 = count_multi_choice(df_country_2017, category)\n",
    "        except KeyError:\n",
    "            count_current_field_2017 = None\n",
    "    \n",
    "    elif y_n is True:\n",
    "        count_current_field_2017 = count_y_n(df_country_2017, category)\n",
    "    \n",
    "    else:\n",
    "        count_current_field_2017 = count_one_choice(df_country_2017, category)\n",
    "\n",
    "    # Calculate the difference\n",
    "    try:\n",
    "        count_current_field_2018['Difference with previous year'] = (count_current_field_2018['Percentage'] - count_current_field_2017['Percentage']).to_frame()\n",
    "    except TypeError:\n",
    "        pass\n",
    "    except Exception:\n",
    "        print(count_current_field_2018)\n",
    "        print('2017')\n",
    "        print(count_current_field_2017)\n",
    "        raise\n",
    "    \n",
    "    # Drop all columns with full na. It removes Difference if it does not exists\n",
    "    count_current_field_2018.dropna(axis=1, how='all', inplace=True)\n",
    "    \n",
    "    # Change name of index \n",
    "    col_name = '{} for {}'.format(category, country)\n",
    "    count_current_field_2018.index.name = col_name\n",
    "    \n",
    "    if order_index:\n",
    "        if isinstance(order_index, list):\n",
    "            count_current_field_2018 = count_current_field_2018.reindex(order_index)\n",
    "        else:\n",
    "            count_current_field_2018 = count_current_field_2018.sort_index()\n",
    "\n",
    "    return count_current_field_2018"
   ]
  },
  {
   "cell_type": "code",
   "execution_count": null,
   "metadata": {
    "collapsed": true
   },
   "outputs": [],
   "source": [
    "def describe_quant(df, category):\n",
    "    \"\"\"\n",
    "    \"\"\"\n",
    "    df = df.iloc[:, 2]\n",
    "    result = df.describe().to_frame()\n",
    "    return result"
   ]
  },
  {
   "cell_type": "code",
   "execution_count": null,
   "metadata": {
    "collapsed": true
   },
   "outputs": [],
   "source": [
    "def describe_diff(df, columns, country, category):\n",
    "    \"\"\"\n",
    "    \"\"\"\n",
    "    df_to_use = get_sampled_df(df, columns)\n",
    "\n",
    "    df_country_2018 = df_to_use[(df_to_use['Country'] == country) & (df_to_use['Year'] == 2018)]\n",
    "    df_country_2017 = df_to_use[(df_to_use['Country'] == country) & (df_to_use['Year'] == 2017)]\n",
    "    result_2018 = describe_quant(df_country_2018, category)\n",
    "    result_2018.index.name = category\n",
    "    result_2018.columns = ['Results in 2018']\n",
    "    result_2017 = describe_quant(df_country_2017, category)\n",
    "    if result_2017.iloc[0, 0] > 0:\n",
    "        result_2018['Results in 2017'] = result_2017.iloc[:, 0]\n",
    "\n",
    "    result_2018.dropna(axis=1, how='all', inplace=True)\n",
    "    \n",
    "    return result_2018"
   ]
  },
  {
   "cell_type": "code",
   "execution_count": null,
   "metadata": {
    "collapsed": true
   },
   "outputs": [],
   "source": [
    "def count_ranking(df, columns, country, category):\n",
    "    \"\"\"\n",
    "    Count the number of time a value appears in one columns and do that for all the columns\n",
    "    provided. Assuming the format of the column name is \"$code. $Question text [rank$numb]\",\n",
    "    it extracts the ranking number and use it as new header. It return the dataframe of the\n",
    "    counted values\n",
    "    :params:\n",
    "        :df pd.df(): dataframe containing the data\n",
    "        :country str(): which country has to be sampled\n",
    "        :category str(): rename the dataframe with that category \n",
    "    :return:\n",
    "        :result_df pd.df(): dataframe with the count of each answer for each columns\n",
    "    \"\"\"\n",
    "    df_to_use = get_sampled_df(df, columns)\n",
    "    df_country_2018 = df_to_use[(df_to_use['Country'] == country) & (df_to_use['Year'] == 2018)]\n",
    "    df_one_count = df_country_2018.iloc[:, 2:].apply(pd.Series.value_counts)\n",
    "    df_one_count.columns = [x.split('[')[1][:-1] for x in df_one_count.columns]\n",
    "    df_one_count = df_one_count.apply(lambda x: x / x.sum()*100)    \n",
    "    df_one_count.sort_values('Rank 1', inplace=True, ascending=False)\n",
    "    df_one_count.index.name = category\n",
    "    return df_one_count"
   ]
  },
  {
   "cell_type": "markdown",
   "metadata": {},
   "source": [
    "## Plotting functions"
   ]
  },
  {
   "cell_type": "code",
   "execution_count": null,
   "metadata": {
    "collapsed": true
   },
   "outputs": [],
   "source": [
    "# TODO: accept several list of likert\n",
    "def plotting_likert(df, country, category, to_plots, type_orga='horizontal', order_scale=None):\n",
    "    \"\"\"\"\"\"\n",
    "    #nbr_plots = len(to_plots)\n",
    "    nbr_plots = 1\n",
    "\n",
    "    if type_orga == 'vertical':\n",
    "        fig, axs = plt.subplots(nbr_plots, 1, sharex=True, figsize=(30, 30))\n",
    "    else:\n",
    "        fig, axs = plt.subplots(1, nbr_plots, figsize=(30, 10))\n",
    "    list_plots = list()\n",
    "    \n",
    "    for i, one_plot in enumerate(to_plots):\n",
    "        columns = to_plots\n",
    "        category = category\n",
    "        df_sub = get_sampled_df(df, columns=columns)\n",
    "        \n",
    "        df_country_2018 = df_sub[(df_sub['Country'] == country) & (df_sub['Year'] == 2018)]\n",
    "        df_country_2018 = df_country_2018.drop('Year', axis='columns')\n",
    "        try:\n",
    "            axs[i] = likert_scale(count_likert(df_country_2018, order_scale).transpose(), normalise=True, legend=True, title_plot='{}: {}'.format(category, country), ax=axs[i])\n",
    "            axs[i].set_title(category)\n",
    "            list_plots.append(axs[i])  \n",
    "        \n",
    "        except TypeError:\n",
    "            axs = likert_scale(count_likert(df_country_2018, order_scale).transpose(), normalise=True, legend=True, title_plot='{}: {}'.format(category, country), ax=axs)\n",
    "            axs.set_title(category)\n",
    "            list_plots.append(axs)\n",
    "    \n",
    "    for ax in list_plots:\n",
    "        ax.spines['top'].set_visible(False)\n",
    "        ax.spines['right'].set_visible(False)\n",
    "        ax.spines['left'].set_visible(False)\n",
    "        ax.invert_yaxis()"
   ]
  },
  {
   "cell_type": "code",
   "execution_count": null,
   "metadata": {
    "collapsed": true
   },
   "outputs": [],
   "source": [
    "def plot_density_func(df, columns, country, category):\n",
    "    \n",
    "    df = get_sampled_df(df, columns=columns)\n",
    "    df.columns = ['Country', 'Year', 'Value']\n",
    "    fig, axarr = plt.subplots(1, 2, figsize=(20, 10))\n",
    "    sns.boxplot(x=\"Year\", y='Value', data=df.dropna(), ax=axarr[0])\n",
    "\n",
    "    sns.swarmplot(x=\"Year\",y='Value', data=df.dropna(), ax=axarr[0], color='grey', alpha=0.75)#.set_title('{}: {}'.format(category, country))\n",
    "\n",
    "    if len(df[df['Year'] == 2017]) > 0:\n",
    "        sns.distplot( df[ df['Year'] == 2017 ] [\"Value\"].dropna(), bins=int(len(df[df['Year'] == 2017])/2), label='2017', ax=axarr[1])\n",
    "\n",
    "    sns.distplot( df[ df['Year'] == 2018 ] [\"Value\"].dropna(), bins=int(len(df[df['Year'] == 2018])/2), label='2018', ax=axarr[1])\n",
    "\n",
    "    sns.despine(offset=10, trim=True)\n",
    "    plt.legend()"
   ]
  },
  {
   "cell_type": "code",
   "execution_count": null,
   "metadata": {
    "collapsed": true
   },
   "outputs": [],
   "source": [
    "def plot_cat_comparison(df, country, category, order_index=False):\n",
    "    # Plotting the current categories and the difference with the last year\n",
    "    if order_index:\n",
    "        if isinstance(order_index, list):\n",
    "            df = df.reindex(order_index)\n",
    "        else:\n",
    "            df = df.sort_index()\n",
    "    ind = np.arange(len(df.index))\n",
    "    try:\n",
    "        diff = df['Difference with previous year']\n",
    "        fig, axs = plt.subplots(2, 1, sharex=True, gridspec_kw = {'height_ratios':[7, 1]})\n",
    "\n",
    "        # current field\n",
    "        axs[0].bar(ind, df['Percentage'], align='center')\n",
    "\n",
    "        axs[0].set_title('Current proportion of {} for {}'.format(category, country))\n",
    "        rects = axs[0].patches\n",
    "\n",
    "        # Difference from last year\n",
    "\n",
    "        axs[1].bar(ind, df['Difference with previous year'], color=df['Difference with previous year'].apply(lambda x: 'g' if x>0 else 'orange'))\n",
    "        axs[1].set_title('Difference with previous year')\n",
    "        for ax in axs:\n",
    "            ax.spines['top'].set_visible(False)\n",
    "            ax.spines['right'].set_visible(False)\n",
    "            ax.spines['left'].set_visible(False)\n",
    "    \n",
    "\n",
    "    except KeyError:\n",
    "        # Set up columns\n",
    "        #fig = plt.figure()\n",
    "        if order_index is False:\n",
    "            df.sort_values('Percentage', ascending=False, inplace=True)\n",
    "        ax = df.plot(kind='bar', x=df.index, y='Percentage', grid=False, legend=False)\n",
    "\n",
    "        ax.spines['top'].set_visible(False)\n",
    "        ax.spines['right'].set_visible(False)\n",
    "        ax.spines['left'].set_visible(False) \n",
    "        rects = ax.patches\n",
    "      \n",
    "\n",
    "    # For each bar: Place a label\n",
    "    for rect in rects:\n",
    "        # Get X and Y placement of label from rect.\n",
    "        y_value = rect.get_height()\n",
    "        x_value = rect.get_x() + rect.get_width() / 2\n",
    "\n",
    "        # Number of points between bar and label\n",
    "        space = 5\n",
    "        # Vertical alignment for positive values\n",
    "        va = 'bottom'\n",
    "\n",
    "        # If value of bar is negative: Place label below bar\n",
    "        if y_value < 0:\n",
    "            # Invert space to place label below\n",
    "            space *= -1\n",
    "            # Vertically align label at top\n",
    "            va = 'top'\n",
    "\n",
    "        # Use Y value as label and format number with one decimal place\n",
    "        label = \"{:.0f}%\".format(y_value)\n",
    "\n",
    "        # Create annotation\n",
    "        try:\n",
    "            axs[0].annotate(\n",
    "                label,                      # Use `label` as label\n",
    "                (x_value, y_value),         # Place label at end of the bar\n",
    "                xytext=(0, space),          # Vertically shift label by `space`\n",
    "                textcoords=\"offset points\", # Interpret `xytext` as offset in points\n",
    "                ha='center',                # Horizontally center label\n",
    "                va=va)                      # Vertically align label differently for\n",
    "                                            # positive and negative values.\n",
    "        except UnboundLocalError:\n",
    "            ax.annotate(\n",
    "                label,                      # Use `label` as label\n",
    "                (x_value, y_value),         # Place label at end of the bar\n",
    "                xytext=(0, space),          # Vertically shift label by `space`\n",
    "                textcoords=\"offset points\", # Interpret `xytext` as offset in points\n",
    "                ha='center',                # Horizontally center label\n",
    "                va=va)                      # Vertically align label differently for\n",
    "                                            # positive and negative values.\n",
    "    plt.xticks(ind, df.index, rotation=90)\n",
    "    plt.show();"
   ]
  },
  {
   "cell_type": "code",
   "execution_count": null,
   "metadata": {
    "collapsed": true
   },
   "outputs": [],
   "source": [
    "# Todo: Merge into plotting_likert()\n",
    "def plotting_time_likert(country, df_time_spent=None, df_time_wish=None, df_time_diff=None):\n",
    "    \"\"\"\"\"\"\n",
    "    nbr_plots = len([x for x in [df_time_spent, df_time_wish, df_time_diff] if x is not None])\n",
    "    fig, axs = plt.subplots(1, nbr_plots, sharey=True, figsize=(30, 10))\n",
    "    list_plots = list()\n",
    "    \n",
    "    if df_time_spent is not None:\n",
    "        try:\n",
    "            axs[0] = likert_scale(count_likert(df_time_spent[df_time_spent['Country'] == country], likert_answer=[str(i) for i in range(11)[1:]]).transpose(),\n",
    "                                  normalise=True, legend=True, title_plot='{}: Time spent for each type of activity'.format(country), ax=axs[0])\n",
    "            axs[0].set_title('Time spent')\n",
    "            list_plots.append(axs[0])\n",
    "\n",
    "        except TypeError:\n",
    "            axs = likert_scale(count_likert(df_time_spent[df_time_spent['Country'] == country], likert_answer=[str(i) for i in range(11)[1:]]).transpose(),\n",
    "                                  normalise=True, legend=True, title_plot='{}: Time spent for each type of activity'.format(country), ax=axs)\n",
    "            axs.set_title('Time spent')\n",
    "            list_plots.append(axs)\n",
    "\n",
    "    \n",
    "    if df_time_wish is not None:\n",
    "        axs[1] = likert_scale(count_likert(df_time_wish[df_time_wish['Country'] == country], likert_answer=[str(i) for i in range(11)[1:]]).transpose(),\n",
    "                       normalise=True, legend=True, title_plot='{}: Time wish to spent for each type of activity'.format(country), ax=axs[1])\n",
    "        axs[1].set_title('Time wish to spent')\n",
    "\n",
    "        list_plots.append(axs[1])\n",
    "    \n",
    "    if df_time_diff is not None:\n",
    "        all_unique_diff = [x for x in np.unique(df_time_diff[dict_time_diff['Country'] == country].loc[:, df_time_diff[dict_time_diff['Country'] == country].columns != 'Country'].values)]\n",
    "        negative_order = [str(x) for x in all_unique_diff if x < 0] + [str(x) for x in all_unique_diff if x >= 0] \n",
    "        axs[2] = likert_scale(count_likert(df_time_diff[dict_time_diff['Country'] == country],likert_answer=negative_order).transpose(),\n",
    "                      normalise=True, legend=True, title_plot='{}: Difference between time wish to spent and actually spent for each type of activity'.format(country), ax=axs[2])\n",
    "        axs[2].set_title('Difference between time spent and wish')\n",
    "        list_plots.append(axs[2])\n",
    "\n",
    "    \n",
    "    \n",
    "    for ax in list_plots:\n",
    "        ax.spines['top'].set_visible(False)\n",
    "        ax.spines['right'].set_visible(False)\n",
    "        ax.spines['left'].set_visible(False)\n",
    "        ax.invert_yaxis()"
   ]
  },
  {
   "cell_type": "code",
   "execution_count": null,
   "metadata": {
    "collapsed": true
   },
   "outputs": [],
   "source": [
    "def plot_ranking(df, category, country):\n",
    "    fig, ax = plt.subplots()\n",
    "\n",
    "\n",
    "\n",
    "    df.T.plot(kind='bar',\n",
    "                      title='{}: {}'.format(category, country),\n",
    "                      grid=False, ax=ax, stacked=True)\n",
    "\n",
    "    ax.set(xlabel=\"Ranking of importance\", ylabel=\"Percentage\")\n",
    "\n",
    "    ax.spines['top'].set_visible(False)\n",
    "    ax.spines['right'].set_visible(False)\n",
    "    ax.spines['left'].set_visible(False) \n",
    "    # Put a legend below current axis\n",
    "    ax.legend(loc='upper center', bbox_to_anchor=(0.5, -0.1),\n",
    "              fancybox=True, shadow=True, ncol=5)\n",
    "    for p in ax.patches:\n",
    "        if int(round(p.get_width())) >= 5:\n",
    "            ax.annotate('{}%'.format(str(int(round(p.get_width())))), \n",
    "                        (p.get_x() + int(p.get_width())/2., p.get_y()+ int(p.get_height())/2.),\n",
    "                        ha='center')\n",
    "\n",
    "    plt.show();"
   ]
  },
  {
   "cell_type": "code",
   "execution_count": null,
   "metadata": {
    "collapsed": true
   },
   "outputs": [],
   "source": [
    "def plot_wordcloud(df, columns, country, category):\n",
    "    df = get_sampled_df(df, columns=columns)\n",
    "    plt.ion()\n",
    "    plot = wordcloud(df, columns)\n",
    "    plt.imshow(plot, cmap=plt.cm.gray, interpolation='bilinear')\n",
    "    plt.axis('off')\n",
    "    plt.title('{}: {}'.format(category, country))\n",
    "    plt.show();"
   ]
  },
  {
   "cell_type": "markdown",
   "metadata": {},
   "source": [
    "# Overview and cleaning"
   ]
  },
  {
   "cell_type": "code",
   "execution_count": null,
   "metadata": {
    "collapsed": true
   },
   "outputs": [],
   "source": [
    "# Loading dataset\n",
    "df =  pd.read_csv('./2018/data/clean_merged.csv')#, low_memory=False)"
   ]
  },
  {
   "cell_type": "markdown",
   "metadata": {},
   "source": [
    "## Total of participants and removing non programmer"
   ]
  },
  {
   "cell_type": "markdown",
   "metadata": {},
   "source": [
    "This is the total of participants. Here the participants are the people that have passed at least the first page."
   ]
  },
  {
   "cell_type": "code",
   "execution_count": null,
   "metadata": {},
   "outputs": [],
   "source": [
    "len(df[df['Year']== 2018])"
   ]
  },
  {
   "cell_type": "markdown",
   "metadata": {},
   "source": [
    "## Repartition per countries."
   ]
  },
  {
   "cell_type": "markdown",
   "metadata": {},
   "source": [
    "We developed specific questions for the following countries:\n",
    "* Australia\n",
    "* Canada (but host their own version of the survey so they will not be analysed here)\n",
    "* Germany\n",
    "* Netherlands\n",
    "* New Zealand\n",
    "* South Africa\n",
    "* United Kingdom\n",
    "* United States\n",
    "\n",
    "However, this year, we could also collect information about others countries. Each question that was specific to a country was also asked in the form of free text field for participants from other countries.\n"
   ]
  },
  {
   "cell_type": "markdown",
   "metadata": {},
   "source": [
    "### Count of participants per country"
   ]
  },
  {
   "cell_type": "markdown",
   "metadata": {},
   "source": [
    "We can see the distribution of participants among the countries as follow:"
   ]
  },
  {
   "cell_type": "code",
   "execution_count": null,
   "metadata": {},
   "outputs": [],
   "source": [
    "# Rename the Uk and US\n",
    "df['socio1. In which country do you work?'].replace({'United Kingdom of Great Britain and Northern Ireland': \"United Kingdom\",\n",
    "            'United States of America': 'United States'}, inplace=True)\n",
    "\n",
    "# Drop Canada\n",
    "df = df[df['socio1. In which country do you work?'] != 'Canada']\n",
    "\n",
    "# Output the count per countries\n",
    "df[df['Year']== 2018]['socio1. In which country do you work?'].value_counts().to_frame()"
   ]
  },
  {
   "cell_type": "markdown",
   "metadata": {},
   "source": [
    "### Visual representation of countries repartition"
   ]
  },
  {
   "cell_type": "code",
   "execution_count": null,
   "metadata": {
    "collapsed": true
   },
   "outputs": [],
   "source": [
    "df_countries = df[df['Year']== 2018]['socio1. In which country do you work?'].value_counts().to_frame().reset_index()\n",
    "df_countries.columns = ['name', 'count'] "
   ]
  },
  {
   "cell_type": "code",
   "execution_count": null,
   "metadata": {
    "collapsed": true
   },
   "outputs": [],
   "source": [
    "df_map = gpd.read_file(gpd.datasets.get_path('naturalearth_lowres'))\n",
    "# Merge datasets together and replace nan with 0\n",
    "df_map = df_map.merge(df_countries, on='name', how='outer')\n",
    "df_map.fillna(0, inplace=True)\n",
    "#df_map.plot()"
   ]
  },
  {
   "cell_type": "code",
   "execution_count": null,
   "metadata": {},
   "outputs": [],
   "source": [
    "fig, ax = plt.subplots(1)\n",
    "ax = df_map.plot(ax=ax, column='count', cmap='Reds', linewidth=0.8, edgecolor='0.8', legend=True)\n",
    "\n",
    "# Add the description\n",
    "description = \"\"\" Number of participants per country\"\"\"\n",
    "plot = ax.annotate(description, xy=(0.1, .08), xycoords='figure fraction', horizontalalignment='left', verticalalignment='top', fontsize=12, color='#555555')\n",
    "\n",
    "# Remove axis\n",
    "plot = ax.axis('off')\n",
    "\n",
    "plt.show()"
   ]
  },
  {
   "cell_type": "markdown",
   "metadata": {},
   "source": [
    "### Create a category world"
   ]
  },
  {
   "cell_type": "markdown",
   "metadata": {},
   "source": [
    "As said, we are concerned about some countries specifically. However, we collect information about other countries as well. To avoid any confusion and having too much countries to plot, we group all of them into one category \"world\""
   ]
  },
  {
   "cell_type": "code",
   "execution_count": null,
   "metadata": {
    "collapsed": true
   },
   "outputs": [],
   "source": [
    "# Create a list of all countries of interest\n",
    "list_countries = ['United Kingdom', 'Australia', 'United States', 'Germany', 'New Zealand', 'Netherlands', 'South Africa']\n",
    "\n",
    "# Create a new columns if \"World\" if the country is not in the list\n",
    "df['Country'] = df['socio1. In which country do you work?'].apply(lambda x: x if x in list_countries else 'World')"
   ]
  },
  {
   "cell_type": "markdown",
   "metadata": {},
   "source": [
    "### Difference with the previous year"
   ]
  },
  {
   "cell_type": "markdown",
   "metadata": {},
   "source": [
    "Several countries did the survey last year, here a summary of the difference in the amount of participants."
   ]
  },
  {
   "cell_type": "code",
   "execution_count": null,
   "metadata": {},
   "outputs": [],
   "source": [
    "results = dict()\n",
    "for country in df[df['Year']== 2017]['Country'].unique():\n",
    "    current_year = df[df['Year']== 2018]['Country'].value_counts()[country]\n",
    "    previous_year = df[df['Year']== 2017]['Country'].value_counts()[country]\n",
    "    results[country] = {'2017': previous_year, '2018': current_year}\n",
    "diff_year_participants = pd.DataFrame.from_dict(results, orient='index')\n",
    "diff_year_participants['Difference between 2017 and 2018'] = diff_year_participants['2018'] - diff_year_participants['2017']\n",
    "\n",
    "# Displaying the results\n",
    "diff_year_participants"
   ]
  },
  {
   "cell_type": "code",
   "execution_count": null,
   "metadata": {},
   "outputs": [],
   "source": [
    "# Plotting the difference\n",
    "ax = diff_year_participants.plot(kind='bar')\n",
    "ax.spines['top'].set_visible(False)\n",
    "ax.spines['right'].set_visible(False)\n",
    "ax.spines['left'].set_visible(False) \n",
    "\n",
    "plt.show()"
   ]
  },
  {
   "cell_type": "markdown",
   "metadata": {},
   "source": [
    "## Selecting valid participants only"
   ]
  },
  {
   "cell_type": "markdown",
   "metadata": {},
   "source": [
    "However, on this total of participants, we only want the participants that code software during their work. \n",
    "We had a specific question for this purpose. We asked the participants if they are writing software or if they are leading a group of software developers. Each of these questions had the possibility of Yes/No answer. Here the exact wording of the questions:\n",
    "\n",
    "* Do you write software for academic research as part of your job\n",
    "* Does the majority of your role comprise leading a group of software developers or RSEs?\n",
    "\n",
    "We will only select the participants who answered `Yes` to at least one question."
   ]
  },
  {
   "cell_type": "code",
   "execution_count": null,
   "metadata": {},
   "outputs": [],
   "source": [
    "# Get the count of Y/N for the software developers\n",
    "soft_dev = df['rse1. Do you write software for academic research as part of your job'].value_counts().to_frame()\n",
    "\n",
    "# Get the count of Y/N for the leader developers\n",
    "soft_lead = df['rse4de. Does the majority of your role comprise leading a group of software developers or RSEs?'].value_counts().to_frame()\n",
    "\n",
    "# Get the count for Y/N to any of the question\n",
    "df['any_rse'] = np.where((df['rse1. Do you write software for academic research as part of your job'] == 'Yes') | (df['rse4de. Does the majority of your role comprise leading a group of software developers or RSEs?']), 'Yes', 'No')\n",
    "soft_any = df['any_rse'].value_counts().to_frame()\n",
    "\n",
    "# Create one df\n",
    "result = pd.concat([soft_dev, soft_lead, soft_any], axis=1)#, sort=False)\n",
    "\n",
    "# Rename columns\n",
    "result.columns = ['Write software', 'Lead a team of software developers', 'At least one of the two']\n",
    "result"
   ]
  },
  {
   "cell_type": "markdown",
   "metadata": {},
   "source": [
    "This table is for both 2017 and 2018 year.For any further analysis, we remove the participants that answered 'No' at both of the question to only keep the ones that have work involving software development for both year to ensure a proper comparison. "
   ]
  },
  {
   "cell_type": "code",
   "execution_count": null,
   "metadata": {
    "collapsed": true
   },
   "outputs": [],
   "source": [
    "# Filtering the df\n",
    "df = df[df['any_rse'] == 'Yes']\n",
    "# drop the column `any_rse` as no use anymore\n",
    "df.drop(['any_rse'], axis=1, inplace=True)"
   ]
  },
  {
   "cell_type": "markdown",
   "metadata": {},
   "source": [
    "This brings the number of participants analysed to:"
   ]
  },
  {
   "cell_type": "code",
   "execution_count": null,
   "metadata": {},
   "outputs": [],
   "source": [
    "results = pd.DataFrame.from_dict([{'Participants in 2017': len(df[df['Year'] == 2017]), \n",
    " 'Participants in 2018': len(df[df['Year'] == 2018])}])\n",
    "results"
   ]
  },
  {
   "cell_type": "markdown",
   "metadata": {},
   "source": [
    "# Education and previous formation"
   ]
  },
  {
   "cell_type": "markdown",
   "metadata": {},
   "source": [
    "## Levels of education "
   ]
  },
  {
   "cell_type": "markdown",
   "metadata": {},
   "source": [
    "The education questions is tight to each countries as each of them have their own educative system. Therefore this section is separated between all countries.\n",
    "All of them had the same question:\n",
    "* What is the highest level of education you have attained?\n",
    "But the list of diploma was different for each. \n",
    "If a participant answered from another country than the one listed at the beginning of the notebook, they could answer with a free text."
   ]
  },
  {
   "cell_type": "code",
   "execution_count": null,
   "metadata": {
    "collapsed": true
   },
   "outputs": [],
   "source": [
    "# Create a separated df for following sections\n",
    "df_edu_per_country = df[df['Year'] == 2018][['Country', 'edu1. What is the highest level of education you have attained?']].copy()\n",
    "df_edu_per_country.columns = ['Country', 'Education']"
   ]
  },
  {
   "cell_type": "markdown",
   "metadata": {},
   "source": [
    "### Australia"
   ]
  },
  {
   "cell_type": "code",
   "execution_count": null,
   "metadata": {},
   "outputs": [],
   "source": [
    "# Set up variables\n",
    "country = 'Australia'\n",
    "index_name = 'Highest level of education for {}'.format(country)\n",
    "\n",
    "# Get the count for edu1\n",
    "df_edu = df_edu_per_country[df_edu_per_country['Country'] == country]['Education'].value_counts().to_frame()\n",
    "\n",
    "# Add the percentage to the newly created df\n",
    "df_edu['Percentage'] = (df_edu['Education'] / df_edu['Education'].sum()*100).round(2)\n",
    "\n",
    "# Rename columns\n",
    "df_edu.columns = ['Total count', 'Percentage']\n",
    "\n",
    "# Change name of index \n",
    "df_edu.index.name = index_name\n",
    "\n",
    "# Display the df\n",
    "df_edu"
   ]
  },
  {
   "cell_type": "markdown",
   "metadata": {},
   "source": [
    "### Germany"
   ]
  },
  {
   "cell_type": "code",
   "execution_count": null,
   "metadata": {},
   "outputs": [],
   "source": [
    "# Set up variables\n",
    "country = 'Germany'\n",
    "index_name = 'Highest level of education for {}'.format(country)\n",
    "\n",
    "# Get the count for edu1\n",
    "df_edu = df_edu_per_country[df_edu_per_country['Country'] == country]['Education'].value_counts().to_frame()\n",
    "\n",
    "# Add the percentage to the newly created df\n",
    "df_edu['Percentage'] = (df_edu['Education'] / df_edu['Education'].sum()*100).round(2)\n",
    "\n",
    "# Rename columns\n",
    "df_edu.columns = ['Total count', 'Percentage']\n",
    "\n",
    "# Change name of index \n",
    "df_edu.index.name = index_name\n",
    "\n",
    "# Display the df\n",
    "df_edu"
   ]
  },
  {
   "cell_type": "markdown",
   "metadata": {},
   "source": [
    "### Netherlands"
   ]
  },
  {
   "cell_type": "code",
   "execution_count": null,
   "metadata": {},
   "outputs": [],
   "source": [
    "# Set up variables\n",
    "country = 'Netherlands'\n",
    "index_name = 'Highest level of education for {}'.format(country)\n",
    "\n",
    "# Get the count for edu1\n",
    "df_edu = df_edu_per_country[df_edu_per_country['Country'] == country]['Education'].value_counts().to_frame()\n",
    "\n",
    "# Add the percentage to the newly created df\n",
    "df_edu['Percentage'] = (df_edu['Education'] / df_edu['Education'].sum()*100).round(2)\n",
    "\n",
    "# Rename columns\n",
    "df_edu.columns = ['Total count', 'Percentage']\n",
    "\n",
    "# Change name of index \n",
    "df_edu.index.name = index_name\n",
    "\n",
    "# Display the df\n",
    "df_edu"
   ]
  },
  {
   "cell_type": "markdown",
   "metadata": {},
   "source": [
    "### New Zealand"
   ]
  },
  {
   "cell_type": "code",
   "execution_count": null,
   "metadata": {},
   "outputs": [],
   "source": [
    "# Set up variables\n",
    "country = 'New Zealand'\n",
    "index_name = 'Highest level of education for {}'.format(country)\n",
    "\n",
    "# Get the count for edu1\n",
    "df_edu = df_edu_per_country[df_edu_per_country['Country'] == country]['Education'].value_counts().to_frame()\n",
    "\n",
    "# Add the percentage to the newly created df\n",
    "df_edu['Percentage'] = (df_edu['Education'] / df_edu['Education'].sum()*100).round(2)\n",
    "\n",
    "# Rename columns\n",
    "df_edu.columns = ['Total count', 'Percentage']\n",
    "\n",
    "# Change name of index \n",
    "df_edu.index.name = index_name\n",
    "\n",
    "# Display the df\n",
    "df_edu"
   ]
  },
  {
   "cell_type": "markdown",
   "metadata": {},
   "source": [
    "### South Africa"
   ]
  },
  {
   "cell_type": "code",
   "execution_count": null,
   "metadata": {},
   "outputs": [],
   "source": [
    "# Set up variables\n",
    "country = 'South Africa'\n",
    "index_name = 'Highest level of education for {}'.format(country)\n",
    "\n",
    "# Get the count for edu1\n",
    "df_edu = df_edu_per_country[df_edu_per_country['Country'] == country]['Education'].value_counts().to_frame()\n",
    "\n",
    "# Add the percentage to the newly created df\n",
    "df_edu['Percentage'] = (df_edu['Education'] / df_edu['Education'].sum()*100).round(2)\n",
    "\n",
    "# Rename columns\n",
    "df_edu.columns = ['Total count', 'Percentage']\n",
    "\n",
    "# Change name of index \n",
    "df_edu.index.name = index_name\n",
    "\n",
    "# Display the df\n",
    "df_edu"
   ]
  },
  {
   "cell_type": "markdown",
   "metadata": {},
   "source": [
    "### United Kingdom"
   ]
  },
  {
   "cell_type": "code",
   "execution_count": null,
   "metadata": {},
   "outputs": [],
   "source": [
    "# Set up variables\n",
    "country = 'United Kingdom'\n",
    "index_name = 'Highest level of education for {}'.format(country)\n",
    "\n",
    "# Get the count for edu1\n",
    "df_edu = df_edu_per_country[df_edu_per_country['Country'] == country]['Education'].value_counts().to_frame()\n",
    "\n",
    "# Add the percentage to the newly created df\n",
    "df_edu['Percentage'] = (df_edu['Education'] / df_edu['Education'].sum()*100).round(2)\n",
    "\n",
    "# Rename columns\n",
    "df_edu.columns = ['Total count', 'Percentage']\n",
    "\n",
    "# Change name of index \n",
    "df_edu.index.name = index_name\n",
    "\n",
    "# Display the df\n",
    "df_edu"
   ]
  },
  {
   "cell_type": "markdown",
   "metadata": {},
   "source": [
    "### United States"
   ]
  },
  {
   "cell_type": "code",
   "execution_count": null,
   "metadata": {},
   "outputs": [],
   "source": [
    "# Set up variables\n",
    "country = 'United States'\n",
    "index_name = 'Highest level of education for {}'.format(country)\n",
    "\n",
    "# Get the count for edu1\n",
    "df_edu = df_edu_per_country[df_edu_per_country['Country'] == country]['Education'].value_counts().to_frame()\n",
    "\n",
    "# Add the percentage to the newly created df\n",
    "df_edu['Percentage'] = (df_edu['Education'] / df_edu['Education'].sum()*100).round(2)\n",
    "\n",
    "# Rename columns\n",
    "df_edu.columns = ['Total count', 'Percentage']\n",
    "\n",
    "# Change name of index \n",
    "df_edu.index.name = index_name\n",
    "\n",
    "# Display the df\n",
    "df_edu"
   ]
  },
  {
   "cell_type": "markdown",
   "metadata": {},
   "source": [
    "### Rest of the World"
   ]
  },
  {
   "cell_type": "code",
   "execution_count": null,
   "metadata": {},
   "outputs": [],
   "source": [
    "# Set up variables\n",
    "country = 'World'\n",
    "index_name = 'Highest level of education for {}'.format(country)\n",
    "\n",
    "# Get the count for edu1\n",
    "df_edu = df_edu_per_country[df_edu_per_country['Country'] == country]['Education'].value_counts().to_frame()\n",
    "\n",
    "# Add the percentage to the newly created df\n",
    "df_edu['Percentage'] = (df_edu['Education'] / df_edu['Education'].sum()*100).round(2)\n",
    "\n",
    "# Rename columns\n",
    "df_edu.columns = ['Total count', 'Percentage']\n",
    "\n",
    "# Change name of index \n",
    "df_edu.index.name = index_name\n",
    "\n",
    "# Display the df\n",
    "df_edu"
   ]
  },
  {
   "cell_type": "markdown",
   "metadata": {},
   "source": [
    "### Comparison between countries"
   ]
  },
  {
   "cell_type": "markdown",
   "metadata": {},
   "source": [
    "Even if the countries have different education levels, it is possible to match them on the common \"Doctorate\" and \"Master degree\". \n",
    "Therefore we compare them with these two equivalent levels and merge all others under the category \"other\"."
   ]
  },
  {
   "cell_type": "code",
   "execution_count": null,
   "metadata": {},
   "outputs": [],
   "source": [
    "# Create dictionary to replace values. These values may not be present in the current df but are present in the\n",
    "# potential answers\n",
    "dict_values = {'PhD': 'Doctorate', \n",
    "               'AQF 10 - Doctoral Degree': 'Doctorate',\n",
    "               'HBO (Hoger beroepsonderwijs) Master': 'Master degree',\n",
    "               'WO (Wetenschappelijk onderwijs) Master': 'Master degree',\n",
    "               'AQF 9 - Masters Degree': 'Master degree'}\n",
    "list_value_to_keep = ['Doctorate', 'Master degree', np.NaN]\n",
    "\n",
    "# Replace the value in education\n",
    "df_edu_per_country['Education'] = df_edu_per_country['Education'].replace(dict_values)\n",
    "\n",
    "# Create a new columns if \"World\" if the country is not in the list\n",
    "def merge_edu(x):\n",
    "    if x in list_value_to_keep:\n",
    "        return x\n",
    "    elif x == np.NaN:\n",
    "        return x\n",
    "    else:\n",
    "        return 'Other'\n",
    "    \n",
    "# Apply the function to a new columns\n",
    "df_edu_per_country['Level of education'] = df_edu_per_country['Education'].apply(merge_edu)\n",
    "\n",
    "# Count the values per countries\n",
    "df_edu_comparison = df_edu_per_country.groupby('Country')['Level of education'].value_counts().rename('Total count').reset_index()\n",
    "\n",
    "# Add a percentage of each type of diploma per countries\n",
    "df_edu_comparison['Percentage per countries'] = (df_edu_comparison['Total count'] / df_edu_comparison.groupby('Country')['Total count'].transform('sum')*100).round(2)\n",
    "\n",
    "# Display the results\n",
    "df_edu_comparison"
   ]
  },
  {
   "cell_type": "code",
   "execution_count": null,
   "metadata": {},
   "outputs": [],
   "source": [
    "fig, ax = plt.subplots()\n",
    "df_plot = df_edu_comparison.pivot(index='Country', \n",
    "                        columns='Level of education', \n",
    "                        values='Percentage per countries')\n",
    "df_plot.plot(kind='barh',\n",
    "                  title='Percentage of Doctorate and Master per country',\n",
    "                  grid=False, ax=ax)\n",
    "\n",
    "ax.set(xlabel=\"Percentage\", ylabel=\"Country\")\n",
    "\n",
    "ax.invert_yaxis()  # when barh option, the bars are inverted \n",
    "ax.spines['top'].set_visible(False)\n",
    "ax.spines['right'].set_visible(False)\n",
    "ax.spines['left'].set_visible(False) \n",
    "for p in ax.patches:\n",
    "    if int(round(p.get_width())) > 0:\n",
    "        ax.annotate('{}%'.format(str(int(round(p.get_width())))), \n",
    "                                 (p.get_x() + p.get_width(), p.get_y()), \n",
    "                                  xytext=(5, -9),\n",
    "                                  textcoords='offset points')\n",
    "plt.show();"
   ]
  },
  {
   "cell_type": "markdown",
   "metadata": {},
   "source": [
    "## Academic field for education and professional development"
   ]
  },
  {
   "cell_type": "markdown",
   "metadata": {},
   "source": [
    "Alongside of question about education level we also asked the participants in which field they finished their highest level of education. \n",
    "Here again the propositions were specific to each countries."
   ]
  },
  {
   "cell_type": "code",
   "execution_count": null,
   "metadata": {
    "collapsed": true
   },
   "outputs": [],
   "source": [
    "# Create a column that merge all education columns\n",
    "df_edu_field = df[['Year', 'Country']].copy()\n",
    "\n",
    "# There are numbers in some of the fields, removing them as they are not needed\n",
    "def remove_digit(s):\n",
    "    try:\n",
    "        return ''.join([i for i in s if not i.isdigit()])\n",
    "    except TypeError:\n",
    "        return s\n",
    "\n",
    "df['Academic field'] = df['edu2. In which discipline is your highest academic qualification?'].apply(remove_digit)\n",
    "columns = 'Academic field'\n",
    "\n",
    "prof_qual = ['edu4. List any professional qualifications you hold (eg. P. Eng, PMP, …)?']"
   ]
  },
  {
   "cell_type": "markdown",
   "metadata": {},
   "source": [
    "### Australia"
   ]
  },
  {
   "cell_type": "code",
   "execution_count": null,
   "metadata": {},
   "outputs": [],
   "source": [
    "# Set up variables\n",
    "country = 'Australia'\n",
    "category = 'Field of education'\n",
    "result = count_diff(df, columns, country, category)\n",
    "result"
   ]
  },
  {
   "cell_type": "code",
   "execution_count": null,
   "metadata": {},
   "outputs": [],
   "source": [
    "plot_cat_comparison(result, country, 'Field of education')"
   ]
  },
  {
   "cell_type": "code",
   "execution_count": null,
   "metadata": {},
   "outputs": [],
   "source": [
    "plot_wordcloud(df, country=country, category='Professional qualification', columns=prof_qual)"
   ]
  },
  {
   "cell_type": "markdown",
   "metadata": {},
   "source": [
    "### Germany"
   ]
  },
  {
   "cell_type": "code",
   "execution_count": null,
   "metadata": {},
   "outputs": [],
   "source": [
    "# Set up variables\n",
    "country = 'Germany'\n",
    "category = 'Field of education'\n",
    "result = count_diff(df, columns, country, category)\n",
    "result"
   ]
  },
  {
   "cell_type": "code",
   "execution_count": null,
   "metadata": {},
   "outputs": [],
   "source": [
    "plot_cat_comparison(result, country, category)"
   ]
  },
  {
   "cell_type": "code",
   "execution_count": null,
   "metadata": {},
   "outputs": [],
   "source": [
    "plot_wordcloud(df, country=country, category='Professional qualification', columns=prof_qual)"
   ]
  },
  {
   "cell_type": "markdown",
   "metadata": {},
   "source": [
    "### Netherlands"
   ]
  },
  {
   "cell_type": "code",
   "execution_count": null,
   "metadata": {},
   "outputs": [],
   "source": [
    "# Set up variables\n",
    "country = 'Netherlands'\n",
    "category = 'Field of education'\n",
    "result = count_diff(df, columns, country, category)\n",
    "result"
   ]
  },
  {
   "cell_type": "code",
   "execution_count": null,
   "metadata": {},
   "outputs": [],
   "source": [
    "plot_cat_comparison(result, country, category)"
   ]
  },
  {
   "cell_type": "code",
   "execution_count": null,
   "metadata": {},
   "outputs": [],
   "source": [
    "plot_wordcloud(df, country=country, category='Professional qualification', columns=prof_qual)"
   ]
  },
  {
   "cell_type": "markdown",
   "metadata": {},
   "source": [
    "### New Zealand"
   ]
  },
  {
   "cell_type": "code",
   "execution_count": null,
   "metadata": {},
   "outputs": [],
   "source": [
    "# Set up variables\n",
    "country = 'New Zealand'\n",
    "category = 'Field of education'\n",
    "result = count_diff(df, columns, country, category)\n",
    "result"
   ]
  },
  {
   "cell_type": "code",
   "execution_count": null,
   "metadata": {},
   "outputs": [],
   "source": [
    "plot_cat_comparison(result, country, category)"
   ]
  },
  {
   "cell_type": "code",
   "execution_count": null,
   "metadata": {},
   "outputs": [],
   "source": [
    "plot_wordcloud(df, country=country, category='Professional qualification', columns=prof_qual)"
   ]
  },
  {
   "cell_type": "markdown",
   "metadata": {},
   "source": [
    "### South Africa"
   ]
  },
  {
   "cell_type": "code",
   "execution_count": null,
   "metadata": {},
   "outputs": [],
   "source": [
    "# Set up variables\n",
    "country = 'South Africa'\n",
    "category = 'Field of education'\n",
    "result = count_diff(df, columns, country, category)\n",
    "result"
   ]
  },
  {
   "cell_type": "code",
   "execution_count": null,
   "metadata": {},
   "outputs": [],
   "source": [
    "plot_cat_comparison(result, country, category)"
   ]
  },
  {
   "cell_type": "code",
   "execution_count": null,
   "metadata": {},
   "outputs": [],
   "source": [
    "plot_wordcloud(df, country=country, category='Professional qualification', columns=prof_qual)"
   ]
  },
  {
   "cell_type": "markdown",
   "metadata": {},
   "source": [
    "### United Kingdom"
   ]
  },
  {
   "cell_type": "code",
   "execution_count": null,
   "metadata": {},
   "outputs": [],
   "source": [
    "# Set up variables\n",
    "country = 'United Kingdom'\n",
    "category = 'Field of education'\n",
    "result = count_diff(df, columns, country, category)\n",
    "result"
   ]
  },
  {
   "cell_type": "code",
   "execution_count": null,
   "metadata": {},
   "outputs": [],
   "source": [
    "plot_cat_comparison(result, country, category)"
   ]
  },
  {
   "cell_type": "code",
   "execution_count": null,
   "metadata": {},
   "outputs": [],
   "source": [
    "plot_wordcloud(df, country=country, category='Professional qualification', columns=prof_qual)"
   ]
  },
  {
   "cell_type": "markdown",
   "metadata": {},
   "source": [
    "### United States"
   ]
  },
  {
   "cell_type": "code",
   "execution_count": null,
   "metadata": {},
   "outputs": [],
   "source": [
    "# Set up variables\n",
    "country = 'United States'\n",
    "category = 'Field of education'\n",
    "result = count_diff(df, columns, country, category)\n",
    "result"
   ]
  },
  {
   "cell_type": "code",
   "execution_count": null,
   "metadata": {},
   "outputs": [],
   "source": [
    "plot_cat_comparison(result, country, category)"
   ]
  },
  {
   "cell_type": "code",
   "execution_count": null,
   "metadata": {},
   "outputs": [],
   "source": [
    "plot_wordcloud(df, country=country, category='Professional qualification', columns=prof_qual)"
   ]
  },
  {
   "cell_type": "markdown",
   "metadata": {},
   "source": [
    "### Rest of the world"
   ]
  },
  {
   "cell_type": "code",
   "execution_count": null,
   "metadata": {},
   "outputs": [],
   "source": [
    "# Set up variables\n",
    "country = 'World'\n",
    "category = 'Field of education'\n",
    "result = count_diff(df, columns, country, category)\n",
    "result"
   ]
  },
  {
   "cell_type": "code",
   "execution_count": null,
   "metadata": {},
   "outputs": [],
   "source": [
    "plot_cat_comparison(result, country, category)"
   ]
  },
  {
   "cell_type": "code",
   "execution_count": null,
   "metadata": {},
   "outputs": [],
   "source": [
    "plot_wordcloud(df, country=country, category='Professional qualification', columns=prof_qual)"
   ]
  },
  {
   "cell_type": "markdown",
   "metadata": {},
   "source": [
    "### Comparison between countries"
   ]
  },
  {
   "cell_type": "code",
   "execution_count": null,
   "metadata": {
    "collapsed": true
   },
   "outputs": [],
   "source": [
    "# Count the values per countries\n",
    "#df_edu_comparison = df_edu_field.groupby('Country')['Academic field'].value_counts().rename('Total count').reset_index()\n",
    "\n",
    "# Add a percentage of each type of diploma per countries\n",
    "#df_edu_comparison['Percentage per countries'] = (df_edu_comparison['Total count'] / df_edu_comparison.groupby('Country')['Total count'].transform('sum')*100)\n",
    "\n",
    "# Display the results\n",
    "#df_edu_comparison"
   ]
  },
  {
   "cell_type": "code",
   "execution_count": null,
   "metadata": {
    "collapsed": true
   },
   "outputs": [],
   "source": [
    "#fig, ax = plt.subplots()\n",
    "#df_plot = df_edu_comparison.pivot(index='Country', \n",
    "#                        columns='Academic field', \n",
    "#                        values='Percentage per countries')\n",
    "\n",
    "#df_plot.plot(kind='barh',\n",
    "#                  title='Percentage of academic field per country',\n",
    "#                  grid=False, ax=ax, stacked=True)\n",
    "\n",
    "#ax.set(xlabel=\"Country\", ylabel=\"Percentage\")\n",
    "\n",
    "#ax.invert_yaxis()  # when barh option, the bars are inverted \n",
    "#ax.spines['top'].set_visible(False)\n",
    "#ax.spines['right'].set_visible(False)\n",
    "#ax.spines['left'].set_visible(False) \n",
    "# Put a legend below current axis\n",
    "#ax.legend(loc='upper center', bbox_to_anchor=(0.5, -0.1),\n",
    "#          fancybox=True, shadow=True, ncol=5)\n",
    "#for p in ax.patches:\n",
    "#    if int(round(p.get_width())) >= 5:\n",
    "#        ax.annotate('{}%'.format(str(int(round(p.get_width())))), \n",
    "#                    (p.get_x() + int(p.get_width())/2., p.get_y()+ int(p.get_height())/2.),\n",
    "#                    ha='center')\n",
    "\n",
    "#plt.show();"
   ]
  },
  {
   "cell_type": "markdown",
   "metadata": {},
   "source": [
    "# Current employment"
   ]
  },
  {
   "cell_type": "markdown",
   "metadata": {},
   "source": [
    "## Academic field of work"
   ]
  },
  {
   "cell_type": "markdown",
   "metadata": {},
   "source": [
    "We asked the participants, in which field they are working. With that question, it is possible to see which current field employed the most of RSE/RSD. The questions was specific to each country and was multiple choice. Each participant could choose several fields. We then calculate the different proportion by dividing each field by the total of participants that have selected at least one option. \n"
   ]
  },
  {
   "cell_type": "code",
   "execution_count": null,
   "metadata": {
    "collapsed": true
   },
   "outputs": [],
   "source": [
    "# Getting all the questions about the academic field of the current employment. \n",
    "to_sub = [x for x in df.columns if x[:12] == 'currentEmp13']\n"
   ]
  },
  {
   "cell_type": "markdown",
   "metadata": {},
   "source": [
    "### Australia"
   ]
  },
  {
   "cell_type": "code",
   "execution_count": null,
   "metadata": {},
   "outputs": [],
   "source": [
    "# Get the count for the 2017 year\n",
    "country = 'Australia'\n",
    "category = 'field of work'\n",
    "\n",
    "# Get the count\n",
    "result = count_diff(df, columns=to_sub, category=category, country=country, multi_choice=True)\n",
    "\n",
    "# Showing the results\n",
    "result"
   ]
  },
  {
   "cell_type": "code",
   "execution_count": null,
   "metadata": {},
   "outputs": [],
   "source": [
    "plot_cat_comparison(result, country, category)"
   ]
  },
  {
   "cell_type": "markdown",
   "metadata": {},
   "source": [
    "### Germany"
   ]
  },
  {
   "cell_type": "code",
   "execution_count": null,
   "metadata": {},
   "outputs": [],
   "source": [
    "# Get the count for the 2017 year\n",
    "country = 'Germany'\n",
    "category = 'field of work'\n",
    "\n",
    "# Get the count\n",
    "result = count_diff(df, columns=to_sub, category=category, country=country, multi_choice=True)\n",
    "\n",
    "# Showing the results\n",
    "result"
   ]
  },
  {
   "cell_type": "code",
   "execution_count": null,
   "metadata": {},
   "outputs": [],
   "source": [
    "plot_cat_comparison(result, country, category)"
   ]
  },
  {
   "cell_type": "markdown",
   "metadata": {},
   "source": [
    "### Netherlands"
   ]
  },
  {
   "cell_type": "code",
   "execution_count": null,
   "metadata": {},
   "outputs": [],
   "source": [
    "# Get the count for the 2017 year\n",
    "country = 'Netherlands'\n",
    "category = 'field of work'\n",
    "\n",
    "# Get the count\n",
    "result = count_diff(df, columns=to_sub, category=category, country=country, multi_choice=True)\n",
    "\n",
    "# Showing the results\n",
    "result"
   ]
  },
  {
   "cell_type": "code",
   "execution_count": null,
   "metadata": {},
   "outputs": [],
   "source": [
    "plot_cat_comparison(result, country, category)"
   ]
  },
  {
   "cell_type": "markdown",
   "metadata": {},
   "source": [
    "### New Zealand"
   ]
  },
  {
   "cell_type": "code",
   "execution_count": null,
   "metadata": {},
   "outputs": [],
   "source": [
    "# Get the count for the 2017 year\n",
    "country = 'New Zealand'\n",
    "category = 'field of work'\n",
    "\n",
    "# Get the count\n",
    "result = count_diff(df, columns=to_sub, category=category, country=country, multi_choice=True)\n",
    "\n",
    "# Showing the results\n",
    "result"
   ]
  },
  {
   "cell_type": "code",
   "execution_count": null,
   "metadata": {},
   "outputs": [],
   "source": [
    "plot_cat_comparison(result, country, category)"
   ]
  },
  {
   "cell_type": "markdown",
   "metadata": {},
   "source": [
    "### South Africa"
   ]
  },
  {
   "cell_type": "code",
   "execution_count": null,
   "metadata": {},
   "outputs": [],
   "source": [
    "# Get the count for the 2017 year\n",
    "country = 'South Africa'\n",
    "category = 'field of work'\n",
    "\n",
    "# Get the count\n",
    "result = count_diff(df, columns=to_sub, category=category, country=country, multi_choice=True)\n",
    "\n",
    "# Showing the results\n",
    "result"
   ]
  },
  {
   "cell_type": "code",
   "execution_count": null,
   "metadata": {},
   "outputs": [],
   "source": [
    "plot_cat_comparison(result, country, category)"
   ]
  },
  {
   "cell_type": "markdown",
   "metadata": {},
   "source": [
    "### United Kingdom"
   ]
  },
  {
   "cell_type": "code",
   "execution_count": null,
   "metadata": {},
   "outputs": [],
   "source": [
    "# Get the count for the 2017 year\n",
    "country = 'United Kingdom'\n",
    "category = 'field of work'\n",
    "\n",
    "# Get the count\n",
    "result = count_diff(df, columns=to_sub, category=category, country=country, multi_choice=True)\n",
    "\n",
    "# Showing the results\n",
    "result"
   ]
  },
  {
   "cell_type": "code",
   "execution_count": null,
   "metadata": {},
   "outputs": [],
   "source": [
    "plot_cat_comparison(result, country, category)"
   ]
  },
  {
   "cell_type": "markdown",
   "metadata": {},
   "source": [
    "### United States"
   ]
  },
  {
   "cell_type": "code",
   "execution_count": null,
   "metadata": {},
   "outputs": [],
   "source": [
    "# Get the count for the 2017 year\n",
    "country = 'United States'\n",
    "category = 'field of work'\n",
    "\n",
    "# Get the count\n",
    "result = count_diff(df, columns=to_sub, category=category, country=country, multi_choice=True)\n",
    "\n",
    "# Showing the results\n",
    "result"
   ]
  },
  {
   "cell_type": "code",
   "execution_count": null,
   "metadata": {},
   "outputs": [],
   "source": [
    "plot_cat_comparison(result, country, category)"
   ]
  },
  {
   "cell_type": "markdown",
   "metadata": {},
   "source": [
    "### Rest of the World"
   ]
  },
  {
   "cell_type": "code",
   "execution_count": null,
   "metadata": {},
   "outputs": [],
   "source": [
    "# Get the count for the 2017 year\n",
    "country = 'World'\n",
    "category = 'field of work'\n",
    "\n",
    "# Get the count\n",
    "result = count_diff(df, columns=to_sub, category=category, country=country, multi_choice=True)\n",
    "\n",
    "# Showing the results\n",
    "result"
   ]
  },
  {
   "cell_type": "code",
   "execution_count": null,
   "metadata": {},
   "outputs": [],
   "source": [
    "plot_cat_comparison(result, country, category)"
   ]
  },
  {
   "cell_type": "markdown",
   "metadata": {},
   "source": [
    "## Type of contract and type of organisation"
   ]
  },
  {
   "cell_type": "code",
   "execution_count": null,
   "metadata": {
    "collapsed": true
   },
   "outputs": [],
   "source": [
    "current_emp = ['currentEmp1. Please select your organization type']\n",
    "\n",
    "which_uni = ['currentEmp2. Which university do you work for?']\n",
    "\n",
    "title_job = ['currentEmp5. What is your official job title?']\n",
    "diff_title = ['currentEmp6. Are you known in your group by a different job title? If so, please enter the job title you use']\n",
    "\n",
    "contract_time = ['currentEmp12. Do you work full time or part time']\n",
    "\n",
    "nature_contract = ['currentEmp10. What is the nature of your current employment?']\n",
    "\n",
    "start_contract = ['currentEmp9. When did you start your current position?']\n",
    "\n",
    "duration_contract = ['currentEmp11. What is the expected duration (in years) of your current position (in total)?']\n",
    "\n",
    "german_orga = ['currentEmp20de. Which Fraunhofer institute do you work for?',\n",
    "                 'currentEmp21de. Which Helmholtz institute do you work for?',\n",
    "                 'currentEmp22de. Which Leibniz institute do you work for?',\n",
    "                 'currentEmp23de. Which Max-Planck institute do you work for?',\n",
    "                 'currentEmp24de. Which University of Applied Sciences?']\n",
    "\n",
    "salary = ['socio4. Please select the range of your salary']\n",
    "\n",
    "salary_de = ['socio10de. Please select your renumeration group according to your collective bargaining agreement']\n",
    " \n",
    "salary_ausnzl = ['socio11ausnzl. What is the category of your pay-scale?',\n",
    "                 'socio12ausnzl. What is your academic pay-level?',\n",
    "                 'socio13ausnzl. What is your pay-level?',\n",
    "                 'socio14ausnzl. What is your government pay-level?']\n",
    "\n",
    "# Get the funding information\n",
    "fund = [x for x in df.columns if x[:5] == 'fund2']"
   ]
  },
  {
   "cell_type": "markdown",
   "metadata": {},
   "source": [
    "### Australia"
   ]
  },
  {
   "cell_type": "code",
   "execution_count": null,
   "metadata": {
    "collapsed": true
   },
   "outputs": [],
   "source": [
    "country = 'Australia'"
   ]
  },
  {
   "cell_type": "markdown",
   "metadata": {},
   "source": [
    "#### Type of organisation"
   ]
  },
  {
   "cell_type": "code",
   "execution_count": null,
   "metadata": {},
   "outputs": [],
   "source": [
    "# Plotting the reported 'professional software developer'\n",
    "category = 'Organisation type'\n",
    "# Get the count\n",
    "result = count_diff(df, current_emp, category=category, country=country)\n",
    "result"
   ]
  },
  {
   "cell_type": "code",
   "execution_count": null,
   "metadata": {},
   "outputs": [],
   "source": [
    "plot_cat_comparison(result, country, category)"
   ]
  },
  {
   "cell_type": "markdown",
   "metadata": {},
   "source": [
    "#### Which University"
   ]
  },
  {
   "cell_type": "code",
   "execution_count": null,
   "metadata": {},
   "outputs": [],
   "source": [
    "# Plotting which university\n",
    "category = 'Which university'\n",
    "# Get the count\n",
    "result = count_diff(df, which_uni, category=category, country=country)\n",
    "result"
   ]
  },
  {
   "cell_type": "code",
   "execution_count": null,
   "metadata": {},
   "outputs": [],
   "source": [
    "plot_cat_comparison(result, country, category)"
   ]
  },
  {
   "cell_type": "markdown",
   "metadata": {},
   "source": [
    "#### Type of contract"
   ]
  },
  {
   "cell_type": "code",
   "execution_count": null,
   "metadata": {},
   "outputs": [],
   "source": [
    "category = 'Contract type'\n",
    "# Get the count\n",
    "result = count_diff(df, contract_time, category=category, country=country)\n",
    "result"
   ]
  },
  {
   "cell_type": "code",
   "execution_count": null,
   "metadata": {},
   "outputs": [],
   "source": [
    "plot_cat_comparison(result, country, category)"
   ]
  },
  {
   "cell_type": "markdown",
   "metadata": {},
   "source": [
    "#### Full time or part-time"
   ]
  },
  {
   "cell_type": "code",
   "execution_count": null,
   "metadata": {},
   "outputs": [],
   "source": [
    "category = 'Nature of employment'\n",
    "# Get the count\n",
    "result = count_diff(df, nature_contract, category=category, country=country)\n",
    "result"
   ]
  },
  {
   "cell_type": "code",
   "execution_count": null,
   "metadata": {},
   "outputs": [],
   "source": [
    "plot_cat_comparison(result, country, category)"
   ]
  },
  {
   "cell_type": "markdown",
   "metadata": {},
   "source": [
    "#### Length of the current position"
   ]
  },
  {
   "cell_type": "code",
   "execution_count": null,
   "metadata": {},
   "outputs": [],
   "source": [
    "category = 'Duration of contract in year'\n",
    "# Get the count\n",
    "result = describe_diff(df, duration_contract, category=category, country=country)\n",
    "result"
   ]
  },
  {
   "cell_type": "code",
   "execution_count": null,
   "metadata": {},
   "outputs": [],
   "source": [
    "plot_density_func(df, duration_contract, country, category)"
   ]
  },
  {
   "cell_type": "markdown",
   "metadata": {},
   "source": [
    "#### Salary"
   ]
  },
  {
   "cell_type": "code",
   "execution_count": null,
   "metadata": {},
   "outputs": [],
   "source": [
    "category = 'Salary'\n",
    "order_question = ['< AUD 45,000', '≥ AUD 45,000 and < AUD 65,000', '≥ AUD 65,000 and < AUD 85,000',\n",
    "                  '≥ AUD 85,000 and < AUD 105,000', '≥ AUD 105,000 and < AUD 120,000', '≥ AUD 120,000']\n",
    "# Check if there is no new answer between development and the list of answers manually created\n",
    "try:\n",
    "    df_salary = get_sampled_df(df, salary)\n",
    "    assert(len(order_question) == len(df_salary[df_salary['Country'] == country]['socio4. Please select the range of your salary'].unique()) -1)\n",
    "except AssertionError:\n",
    "    print(set(df_salary[df_salary['Country'] == country]['socio4. Please select the range of your salary'].unique()) - set(order_question))\n",
    "    raise\n",
    "\n",
    "result = count_diff(df, salary, category=category, country=country, order_index=order_question)\n",
    "result"
   ]
  },
  {
   "cell_type": "code",
   "execution_count": null,
   "metadata": {},
   "outputs": [],
   "source": [
    "plot_cat_comparison(result, country, category, order_index=True)"
   ]
  },
  {
   "cell_type": "markdown",
   "metadata": {},
   "source": [
    "#### Funding"
   ]
  },
  {
   "cell_type": "code",
   "execution_count": null,
   "metadata": {},
   "outputs": [],
   "source": [
    "# Funding\n",
    "category = 'Type of funding'\n",
    "result = count_diff(df, fund, category=category, country=country, multi_choice=True)\n",
    "result"
   ]
  },
  {
   "cell_type": "code",
   "execution_count": null,
   "metadata": {},
   "outputs": [],
   "source": [
    "plot_cat_comparison(result, country, category)"
   ]
  },
  {
   "cell_type": "markdown",
   "metadata": {},
   "source": [
    "#### Job title"
   ]
  },
  {
   "cell_type": "code",
   "execution_count": null,
   "metadata": {},
   "outputs": [],
   "source": [
    "category = 'Official job title'\n",
    "plot_wordcloud(df, title_job, country, category)"
   ]
  },
  {
   "cell_type": "code",
   "execution_count": null,
   "metadata": {},
   "outputs": [],
   "source": [
    "category = 'Different job title'\n",
    "plot_wordcloud(df, title_job, country, category)"
   ]
  },
  {
   "cell_type": "markdown",
   "metadata": {},
   "source": [
    "### Germany"
   ]
  },
  {
   "cell_type": "code",
   "execution_count": null,
   "metadata": {
    "collapsed": true
   },
   "outputs": [],
   "source": [
    "country = 'Germany'"
   ]
  },
  {
   "cell_type": "markdown",
   "metadata": {},
   "source": [
    "#### Type of organisation"
   ]
  },
  {
   "cell_type": "code",
   "execution_count": null,
   "metadata": {},
   "outputs": [],
   "source": [
    "# Plotting the reported 'professional software developer'\n",
    "category = 'Organisation type'\n",
    "# Get the count\n",
    "result = count_diff(df, current_emp, category=category, country=country)\n",
    "result"
   ]
  },
  {
   "cell_type": "code",
   "execution_count": null,
   "metadata": {},
   "outputs": [],
   "source": [
    "plot_cat_comparison(result, country, category)"
   ]
  },
  {
   "cell_type": "markdown",
   "metadata": {},
   "source": [
    "#### Which University"
   ]
  },
  {
   "cell_type": "code",
   "execution_count": null,
   "metadata": {},
   "outputs": [],
   "source": [
    "# Plotting which university\n",
    "category = 'Which university'\n",
    "# Get the count\n",
    "result = count_diff(df, which_uni, category=category, country=country)\n",
    "result"
   ]
  },
  {
   "cell_type": "code",
   "execution_count": null,
   "metadata": {},
   "outputs": [],
   "source": [
    "plot_cat_comparison(result, country, category)"
   ]
  },
  {
   "cell_type": "markdown",
   "metadata": {},
   "source": [
    "#### Which organisation"
   ]
  },
  {
   "cell_type": "code",
   "execution_count": null,
   "metadata": {},
   "outputs": [],
   "source": [
    "#list_new_val = ['Country', 'Year']\n",
    "#for col in [x for x in df.columns if x not in list_new_val]:\n",
    "list_new_val = ['Country', 'Year']\n",
    "list_result = []\n",
    "for col in german_orga:\n",
    "    result = count_diff(df, col, category=category, country=country)\n",
    "    list_result.append(result)\n",
    "    result"
   ]
  },
  {
   "cell_type": "code",
   "execution_count": null,
   "metadata": {},
   "outputs": [],
   "source": [
    "for result in list_result:\n",
    "    plot_cat_comparison(result, country, category)"
   ]
  },
  {
   "cell_type": "markdown",
   "metadata": {},
   "source": [
    "#### Type of contract"
   ]
  },
  {
   "cell_type": "code",
   "execution_count": null,
   "metadata": {},
   "outputs": [],
   "source": [
    "category = 'Contract type'\n",
    "# Get the count\n",
    "result = count_diff(df, contract_time, category=category, country=country)\n",
    "result"
   ]
  },
  {
   "cell_type": "code",
   "execution_count": null,
   "metadata": {},
   "outputs": [],
   "source": [
    "plot_cat_comparison(result, country, category)"
   ]
  },
  {
   "cell_type": "markdown",
   "metadata": {},
   "source": [
    "#### Full time or part-time"
   ]
  },
  {
   "cell_type": "code",
   "execution_count": null,
   "metadata": {},
   "outputs": [],
   "source": [
    "category = 'Nature of employment'\n",
    "# Get the count\n",
    "result = count_diff(df, nature_contract, category=category, country=country)\n",
    "result"
   ]
  },
  {
   "cell_type": "code",
   "execution_count": null,
   "metadata": {},
   "outputs": [],
   "source": [
    "plot_cat_comparison(result, country, category)"
   ]
  },
  {
   "cell_type": "markdown",
   "metadata": {},
   "source": [
    "#### Length of the current position"
   ]
  },
  {
   "cell_type": "code",
   "execution_count": null,
   "metadata": {},
   "outputs": [],
   "source": [
    "category = 'Duration of contract in year'\n",
    "# Get the count\n",
    "result = describe_diff(df, duration_contract, category=category, country=country)\n",
    "result"
   ]
  },
  {
   "cell_type": "code",
   "execution_count": null,
   "metadata": {},
   "outputs": [],
   "source": [
    "plot_density_func(df, duration_contract, country, category)"
   ]
  },
  {
   "cell_type": "markdown",
   "metadata": {},
   "source": [
    "#### Salary"
   ]
  },
  {
   "cell_type": "code",
   "execution_count": null,
   "metadata": {},
   "outputs": [],
   "source": [
    "category = 'Salary'\n",
    "\n",
    "order_question = ['Less than 27.499 EUR', 'Between 27.500 and 32.999 EUR', 'Between 33.000 and 38.499 EUR',\n",
    "                  'Between 38.500 and 43.999 EUR', 'Between 44.000 and 49.999 EUR','Between 50.000 and 54.999 EUR',\n",
    "                  'Between 55.000 and 65.999 EUR', 'Between 66.000 and 76.999 EUR', 'Between 77.000 and 109.999 EUR', 'Prefer not to say']\n",
    "# Check if there is no new answer between development and the list of answers manually created\n",
    "try:\n",
    "    df_salary = get_sampled_df(df, salary)\n",
    "    assert(len(order_question) == len(df_salary[df_salary['Country'] == country]['socio4. Please select the range of your salary'].unique()) -1)\n",
    "except AssertionError:\n",
    "    print(set(df_salary[df_salary['Country'] == country]['socio4. Please select the range of your salary'].unique()) - set(order_question))\n",
    "    raise\n",
    "result = count_diff(df, salary, category=category, country=country, order_index=order_question)\n",
    "result"
   ]
  },
  {
   "cell_type": "code",
   "execution_count": null,
   "metadata": {},
   "outputs": [],
   "source": [
    "plot_cat_comparison(result, country, category)"
   ]
  },
  {
   "cell_type": "markdown",
   "metadata": {},
   "source": [
    "#### Funding"
   ]
  },
  {
   "cell_type": "code",
   "execution_count": null,
   "metadata": {},
   "outputs": [],
   "source": [
    "# Funding\n",
    "category = 'Type of funding'\n",
    "result = count_diff(df, fund, category=category, country=country, multi_choice=True)\n",
    "result"
   ]
  },
  {
   "cell_type": "code",
   "execution_count": null,
   "metadata": {},
   "outputs": [],
   "source": [
    "plot_cat_comparison(result, country, category)"
   ]
  },
  {
   "cell_type": "markdown",
   "metadata": {},
   "source": [
    "#### Job title"
   ]
  },
  {
   "cell_type": "code",
   "execution_count": null,
   "metadata": {},
   "outputs": [],
   "source": [
    "category = 'Official job title'\n",
    "plot_wordcloud(df, title_job, country, category)"
   ]
  },
  {
   "cell_type": "code",
   "execution_count": null,
   "metadata": {},
   "outputs": [],
   "source": [
    "category = 'Different job title'\n",
    "plot_wordcloud(df, title_job, country, category)"
   ]
  },
  {
   "cell_type": "markdown",
   "metadata": {},
   "source": [
    "### Netherlands"
   ]
  },
  {
   "cell_type": "code",
   "execution_count": null,
   "metadata": {
    "collapsed": true
   },
   "outputs": [],
   "source": [
    "country = 'Netherlands'"
   ]
  },
  {
   "cell_type": "markdown",
   "metadata": {},
   "source": [
    "#### Type of organisation"
   ]
  },
  {
   "cell_type": "code",
   "execution_count": null,
   "metadata": {},
   "outputs": [],
   "source": [
    "# Plotting the reported 'professional software developer'\n",
    "category = 'Organisation type'\n",
    "# Get the count\n",
    "result = count_diff(df, current_emp, category=category, country=country)\n",
    "result"
   ]
  },
  {
   "cell_type": "code",
   "execution_count": null,
   "metadata": {},
   "outputs": [],
   "source": [
    "plot_cat_comparison(result, country, category)"
   ]
  },
  {
   "cell_type": "markdown",
   "metadata": {},
   "source": [
    "#### Which University"
   ]
  },
  {
   "cell_type": "code",
   "execution_count": null,
   "metadata": {},
   "outputs": [],
   "source": [
    "# Plotting which university\n",
    "category = 'Which university'\n",
    "# Get the count\n",
    "result = count_diff(df, which_uni, category=category, country=country)\n",
    "result"
   ]
  },
  {
   "cell_type": "code",
   "execution_count": null,
   "metadata": {},
   "outputs": [],
   "source": [
    "plot_cat_comparison(result, country, category)"
   ]
  },
  {
   "cell_type": "markdown",
   "metadata": {},
   "source": [
    "#### Type of contract"
   ]
  },
  {
   "cell_type": "code",
   "execution_count": null,
   "metadata": {},
   "outputs": [],
   "source": [
    "category = 'Contract type'\n",
    "# Get the count\n",
    "result = count_diff(df, contract_time, category=category, country=country)\n",
    "result"
   ]
  },
  {
   "cell_type": "code",
   "execution_count": null,
   "metadata": {},
   "outputs": [],
   "source": [
    "plot_cat_comparison(result, country, category)"
   ]
  },
  {
   "cell_type": "markdown",
   "metadata": {},
   "source": [
    "#### Full time or part-time"
   ]
  },
  {
   "cell_type": "code",
   "execution_count": null,
   "metadata": {},
   "outputs": [],
   "source": [
    "category = 'Nature of employment'\n",
    "# Get the count\n",
    "result = count_diff(df, nature_contract, category=category, country=country)\n",
    "result"
   ]
  },
  {
   "cell_type": "code",
   "execution_count": null,
   "metadata": {},
   "outputs": [],
   "source": [
    "plot_cat_comparison(result, country, category)"
   ]
  },
  {
   "cell_type": "markdown",
   "metadata": {},
   "source": [
    "#### Length of the current position"
   ]
  },
  {
   "cell_type": "code",
   "execution_count": null,
   "metadata": {},
   "outputs": [],
   "source": [
    "category = 'Duration of contract in year'\n",
    "# Get the count\n",
    "result = describe_diff(df, duration_contract, category=category, country=country)\n",
    "result"
   ]
  },
  {
   "cell_type": "code",
   "execution_count": null,
   "metadata": {},
   "outputs": [],
   "source": [
    "plot_density_func(df, duration_contract, country, category)"
   ]
  },
  {
   "cell_type": "markdown",
   "metadata": {},
   "source": [
    "#### Salary"
   ]
  },
  {
   "cell_type": "code",
   "execution_count": null,
   "metadata": {},
   "outputs": [],
   "source": [
    "category = 'Salary'\n",
    "order_question = ['Less than 27.499 EUR', 'Between 27.500 and 32.999 EUR', 'Between 33.000 and 38.499 EUR',\n",
    "                  'Between 38.500 and 43.999 EUR', 'Between 44.000 and 49.999 EUR','Between 50.000 and 54.999 EUR',\n",
    "                  'Between 55.000 and 65.999 EUR', 'Between 66.000 and 76.999 EUR', 'Between 77.000 and 109.999 EUR', 'Prefer not to say']\n",
    "# Check if there is no new answer between development and the list of answers manually created\n",
    "try:\n",
    "    df_salary = get_sampled_df(df, salary)\n",
    "    assert(len(order_question) == len(df_salary[df_salary['Country'] == country]['socio4. Please select the range of your salary'].unique()) -1)\n",
    "except AssertionError:\n",
    "    print(set(df_salary[df_salary['Country'] == country]['socio4. Please select the range of your salary'].unique()) - set(order_question))\n",
    "    raise\n",
    "result = count_diff(df, salary, category=category, country=country, order_index=order_question)\n",
    "result"
   ]
  },
  {
   "cell_type": "code",
   "execution_count": null,
   "metadata": {},
   "outputs": [],
   "source": [
    "plot_cat_comparison(result, country, category, order_index=True)"
   ]
  },
  {
   "cell_type": "markdown",
   "metadata": {},
   "source": [
    "#### Funding"
   ]
  },
  {
   "cell_type": "code",
   "execution_count": null,
   "metadata": {},
   "outputs": [],
   "source": [
    "# Funding\n",
    "category = 'Type of funding'\n",
    "result = count_diff(df, fund, category=category, country=country, multi_choice=True)\n",
    "result"
   ]
  },
  {
   "cell_type": "code",
   "execution_count": null,
   "metadata": {},
   "outputs": [],
   "source": [
    "plot_cat_comparison(result, country, category)"
   ]
  },
  {
   "cell_type": "markdown",
   "metadata": {},
   "source": [
    "#### Job title"
   ]
  },
  {
   "cell_type": "code",
   "execution_count": null,
   "metadata": {},
   "outputs": [],
   "source": [
    "category = 'Official job title'\n",
    "plot_wordcloud(df, title_job, country, category)"
   ]
  },
  {
   "cell_type": "code",
   "execution_count": null,
   "metadata": {},
   "outputs": [],
   "source": [
    "category = 'Different job title'\n",
    "plot_wordcloud(df, title_job, country, category)"
   ]
  },
  {
   "cell_type": "markdown",
   "metadata": {},
   "source": [
    "### New Zealand"
   ]
  },
  {
   "cell_type": "code",
   "execution_count": null,
   "metadata": {
    "collapsed": true
   },
   "outputs": [],
   "source": [
    "country = 'New Zealand'"
   ]
  },
  {
   "cell_type": "markdown",
   "metadata": {},
   "source": [
    "#### Type of organisation"
   ]
  },
  {
   "cell_type": "code",
   "execution_count": null,
   "metadata": {},
   "outputs": [],
   "source": [
    "# Plotting the reported 'professional software developer'\n",
    "category = 'Organisation type'\n",
    "# Get the count\n",
    "result = count_diff(df, current_emp, category=category, country=country)\n",
    "result"
   ]
  },
  {
   "cell_type": "code",
   "execution_count": null,
   "metadata": {},
   "outputs": [],
   "source": [
    "plot_cat_comparison(result, country, category)"
   ]
  },
  {
   "cell_type": "markdown",
   "metadata": {},
   "source": [
    "#### Which University"
   ]
  },
  {
   "cell_type": "code",
   "execution_count": null,
   "metadata": {},
   "outputs": [],
   "source": [
    "# Plotting which university\n",
    "category = 'Which university'\n",
    "# Get the count\n",
    "result = count_diff(df, which_uni, category=category, country=country)\n",
    "result"
   ]
  },
  {
   "cell_type": "code",
   "execution_count": null,
   "metadata": {},
   "outputs": [],
   "source": [
    "plot_cat_comparison(result, country, category)"
   ]
  },
  {
   "cell_type": "markdown",
   "metadata": {},
   "source": [
    "#### Type of contract"
   ]
  },
  {
   "cell_type": "code",
   "execution_count": null,
   "metadata": {},
   "outputs": [],
   "source": [
    "category = 'Contract type'\n",
    "# Get the count\n",
    "result = count_diff(df, contract_time, category=category, country=country)\n",
    "result"
   ]
  },
  {
   "cell_type": "code",
   "execution_count": null,
   "metadata": {},
   "outputs": [],
   "source": [
    "plot_cat_comparison(result, country, category)"
   ]
  },
  {
   "cell_type": "markdown",
   "metadata": {},
   "source": [
    "#### Full time or part-time"
   ]
  },
  {
   "cell_type": "code",
   "execution_count": null,
   "metadata": {},
   "outputs": [],
   "source": [
    "category = 'Nature of employment'\n",
    "# Get the count\n",
    "result = count_diff(df, nature_contract, category=category, country=country)\n",
    "result"
   ]
  },
  {
   "cell_type": "code",
   "execution_count": null,
   "metadata": {},
   "outputs": [],
   "source": [
    "plot_cat_comparison(result, country, category)"
   ]
  },
  {
   "cell_type": "markdown",
   "metadata": {},
   "source": [
    "#### Length of the current position"
   ]
  },
  {
   "cell_type": "code",
   "execution_count": null,
   "metadata": {},
   "outputs": [],
   "source": [
    "category = 'Duration of contract in year'\n",
    "# Get the count\n",
    "result = describe_diff(df, duration_contract, category=category, country=country)\n",
    "result"
   ]
  },
  {
   "cell_type": "code",
   "execution_count": null,
   "metadata": {},
   "outputs": [],
   "source": [
    "plot_density_func(df, duration_contract, country, category)"
   ]
  },
  {
   "cell_type": "markdown",
   "metadata": {},
   "source": [
    "#### Salary"
   ]
  },
  {
   "cell_type": "code",
   "execution_count": null,
   "metadata": {},
   "outputs": [],
   "source": [
    "category = 'Salary'\n",
    "order_question = ['< NZD 45,000', \n",
    "                 '≥ NZD 45,000 and < NZD 65,000',\n",
    "                  '≥ NZD 65,000 and < NZD 85,000',\n",
    "                  '≥ NZD 85,000 and < NZD 105,000',\n",
    "                  '≥ NZD 105,000 and < NZD 120,000', \n",
    "                  '≥ NZD 120,000']\n",
    "\n",
    "# Check if there is no new answer between development and the list of answers manually created\n",
    "try:\n",
    "    df_salary = get_sampled_df(df, salary)\n",
    "    assert(len(order_question) == len(df_salary[df_salary['Country'] == country]['socio4. Please select the range of your salary'].unique()) -1)\n",
    "except AssertionError:\n",
    "    print(set(df_salary[df_salary['Country'] == country]['socio4. Please select the range of your salary'].unique()) - set(order_question))\n",
    "    raise\n",
    "result = count_diff(df, salary, category=category, country=country, order_index=order_question)\n",
    "result"
   ]
  },
  {
   "cell_type": "code",
   "execution_count": null,
   "metadata": {},
   "outputs": [],
   "source": [
    "plot_cat_comparison(result, country, category, order_index=True)"
   ]
  },
  {
   "cell_type": "markdown",
   "metadata": {},
   "source": [
    "#### Funding"
   ]
  },
  {
   "cell_type": "code",
   "execution_count": null,
   "metadata": {},
   "outputs": [],
   "source": [
    "# Funding\n",
    "category = 'Type of funding'\n",
    "result = count_diff(df, fund, category=category, country=country, multi_choice=True)\n",
    "result"
   ]
  },
  {
   "cell_type": "code",
   "execution_count": null,
   "metadata": {},
   "outputs": [],
   "source": [
    "plot_cat_comparison(result, country, category)"
   ]
  },
  {
   "cell_type": "markdown",
   "metadata": {},
   "source": [
    "#### Job title"
   ]
  },
  {
   "cell_type": "code",
   "execution_count": null,
   "metadata": {},
   "outputs": [],
   "source": [
    "category = 'Official job title'\n",
    "plot_wordcloud(df, title_job, country, category)"
   ]
  },
  {
   "cell_type": "code",
   "execution_count": null,
   "metadata": {},
   "outputs": [],
   "source": [
    "category = 'Different job title'\n",
    "plot_wordcloud(df, title_job, country, category)"
   ]
  },
  {
   "cell_type": "markdown",
   "metadata": {},
   "source": [
    "### South Africa"
   ]
  },
  {
   "cell_type": "code",
   "execution_count": null,
   "metadata": {
    "collapsed": true
   },
   "outputs": [],
   "source": [
    "country = 'South Africa'"
   ]
  },
  {
   "cell_type": "markdown",
   "metadata": {},
   "source": [
    "#### Type of organisation"
   ]
  },
  {
   "cell_type": "code",
   "execution_count": null,
   "metadata": {},
   "outputs": [],
   "source": [
    "# Plotting the reported 'professional software developer'\n",
    "category = 'Organisation type'\n",
    "# Get the count\n",
    "result = count_diff(df,current_emp, category=category, country=country)\n",
    "result"
   ]
  },
  {
   "cell_type": "code",
   "execution_count": null,
   "metadata": {},
   "outputs": [],
   "source": [
    "plot_cat_comparison(result, country, category)"
   ]
  },
  {
   "cell_type": "markdown",
   "metadata": {},
   "source": [
    "#### Which University"
   ]
  },
  {
   "cell_type": "code",
   "execution_count": null,
   "metadata": {},
   "outputs": [],
   "source": [
    "# Plotting which university\n",
    "category = 'Which university'\n",
    "# Get the count\n",
    "result = count_diff(df, which_uni, category=category, country=country)\n",
    "result"
   ]
  },
  {
   "cell_type": "code",
   "execution_count": null,
   "metadata": {},
   "outputs": [],
   "source": [
    "plot_cat_comparison(result, country, category)"
   ]
  },
  {
   "cell_type": "markdown",
   "metadata": {},
   "source": [
    "#### Type of contract"
   ]
  },
  {
   "cell_type": "code",
   "execution_count": null,
   "metadata": {},
   "outputs": [],
   "source": [
    "category = 'Contract type'\n",
    "# Get the count\n",
    "result = count_diff(df, contract_time, category=category, country=country)\n",
    "result"
   ]
  },
  {
   "cell_type": "code",
   "execution_count": null,
   "metadata": {},
   "outputs": [],
   "source": [
    "plot_cat_comparison(result, country, category)"
   ]
  },
  {
   "cell_type": "markdown",
   "metadata": {},
   "source": [
    "#### Full time or part-time"
   ]
  },
  {
   "cell_type": "code",
   "execution_count": null,
   "metadata": {},
   "outputs": [],
   "source": [
    "category = 'Nature of employment'\n",
    "# Get the count\n",
    "result = count_diff(df, nature_contract, category=category, country=country)\n",
    "result"
   ]
  },
  {
   "cell_type": "code",
   "execution_count": null,
   "metadata": {},
   "outputs": [],
   "source": [
    "plot_cat_comparison(result, country, category)"
   ]
  },
  {
   "cell_type": "markdown",
   "metadata": {},
   "source": [
    "#### Length of the current position"
   ]
  },
  {
   "cell_type": "code",
   "execution_count": null,
   "metadata": {},
   "outputs": [],
   "source": [
    "category = 'Duration of contract in year'\n",
    "# Get the count\n",
    "result = describe_diff(df, duration_contract, category=category, country=country)\n",
    "result"
   ]
  },
  {
   "cell_type": "code",
   "execution_count": null,
   "metadata": {},
   "outputs": [],
   "source": [
    "plot_density_func(df, duration_contract, country, category)"
   ]
  },
  {
   "cell_type": "markdown",
   "metadata": {},
   "source": [
    "#### Salary"
   ]
  },
  {
   "cell_type": "code",
   "execution_count": null,
   "metadata": {},
   "outputs": [],
   "source": [
    "category = 'Salary'\n",
    "\n",
    "order_question = ['Less than R 189 880',\n",
    "                  'Between R 189 881 and R 296 540',\n",
    "                  'Between R 296 541 and R 410 460',\n",
    "                  'Between R 410 461 and R 555 600',\n",
    "                  'Between R 555 601 and R 708 310',\n",
    "                  'Between R 708 311 and R 1 500 000',\n",
    "                  'More than R 1 500 000', \n",
    "                  'Prefer not to say']\n",
    "# Check if there is no new answer between development and the list of answers manually created\n",
    "try:\n",
    "    assert(len(order_question) == len(df_salary[df_salary['Country'] == country]['socio4. Please select the range of your salary'].unique()) -1)\n",
    "except AssertionError:\n",
    "    print(set(df_salary[df_salary['Country'] == country]['socio4. Please select the range of your salary'].unique()) - set(order_question))\n",
    "    raise\n",
    "result = count_diff(df, salary, category=category, country=country, order_index=order_question)\n",
    "result"
   ]
  },
  {
   "cell_type": "code",
   "execution_count": null,
   "metadata": {},
   "outputs": [],
   "source": [
    "plot_cat_comparison(result, country, category, order_index=True)"
   ]
  },
  {
   "cell_type": "markdown",
   "metadata": {},
   "source": [
    "#### Funding"
   ]
  },
  {
   "cell_type": "code",
   "execution_count": null,
   "metadata": {},
   "outputs": [],
   "source": [
    "# Funding\n",
    "category = 'Type of funding'\n",
    "result = count_diff(df, fund, category=category, country=country, multi_choice=True)\n",
    "result"
   ]
  },
  {
   "cell_type": "code",
   "execution_count": null,
   "metadata": {},
   "outputs": [],
   "source": [
    "plot_cat_comparison(result, country, category)"
   ]
  },
  {
   "cell_type": "markdown",
   "metadata": {},
   "source": [
    "#### Job title"
   ]
  },
  {
   "cell_type": "code",
   "execution_count": null,
   "metadata": {},
   "outputs": [],
   "source": [
    "category = 'Official job title'\n",
    "plot_wordcloud(df, title_job, country, category)"
   ]
  },
  {
   "cell_type": "code",
   "execution_count": null,
   "metadata": {},
   "outputs": [],
   "source": [
    "category = 'Different job title'\n",
    "plot_wordcloud(df, title_job, country, category)"
   ]
  },
  {
   "cell_type": "markdown",
   "metadata": {},
   "source": [
    "### United Kingdom"
   ]
  },
  {
   "cell_type": "code",
   "execution_count": null,
   "metadata": {
    "collapsed": true
   },
   "outputs": [],
   "source": [
    "country = 'United Kingdom'"
   ]
  },
  {
   "cell_type": "markdown",
   "metadata": {},
   "source": [
    "#### Type of organisation"
   ]
  },
  {
   "cell_type": "code",
   "execution_count": null,
   "metadata": {},
   "outputs": [],
   "source": [
    "# Plotting the reported 'professional software developer'\n",
    "category = 'Organisation type'\n",
    "# Get the count\n",
    "result = count_diff(df, current_emp, category=category, country=country)\n",
    "result"
   ]
  },
  {
   "cell_type": "code",
   "execution_count": null,
   "metadata": {},
   "outputs": [],
   "source": [
    "plot_cat_comparison(result, country, category)"
   ]
  },
  {
   "cell_type": "markdown",
   "metadata": {},
   "source": [
    "#### Which University"
   ]
  },
  {
   "cell_type": "code",
   "execution_count": null,
   "metadata": {},
   "outputs": [],
   "source": [
    "# Plotting which university\n",
    "category = 'Which university'\n",
    "# Get the count\n",
    "result = count_diff(df, which_uni, category=category, country=country)\n",
    "result"
   ]
  },
  {
   "cell_type": "code",
   "execution_count": null,
   "metadata": {},
   "outputs": [],
   "source": [
    "plot_cat_comparison(result, country, category)"
   ]
  },
  {
   "cell_type": "markdown",
   "metadata": {},
   "source": [
    "#### Type of contract"
   ]
  },
  {
   "cell_type": "code",
   "execution_count": null,
   "metadata": {},
   "outputs": [],
   "source": [
    "category = 'Contract type'\n",
    "# Get the count\n",
    "result = count_diff(df, contract_time, category=category, country=country)\n",
    "result"
   ]
  },
  {
   "cell_type": "code",
   "execution_count": null,
   "metadata": {},
   "outputs": [],
   "source": [
    "plot_cat_comparison(result, country, category)"
   ]
  },
  {
   "cell_type": "markdown",
   "metadata": {},
   "source": [
    "#### Full time or part-time"
   ]
  },
  {
   "cell_type": "code",
   "execution_count": null,
   "metadata": {},
   "outputs": [],
   "source": [
    "category = 'Nature of employment'\n",
    "# Get the count\n",
    "result = count_diff(df, nature_contract, category=category, country=country)\n",
    "result"
   ]
  },
  {
   "cell_type": "code",
   "execution_count": null,
   "metadata": {},
   "outputs": [],
   "source": [
    "plot_cat_comparison(result, country, category)"
   ]
  },
  {
   "cell_type": "markdown",
   "metadata": {},
   "source": [
    "#### Length of the current position"
   ]
  },
  {
   "cell_type": "code",
   "execution_count": null,
   "metadata": {},
   "outputs": [],
   "source": [
    "category = 'Duration of contract in year'\n",
    "# Get the count\n",
    "result = describe_diff(df, duration_contract, category=category, country=country)\n",
    "result"
   ]
  },
  {
   "cell_type": "code",
   "execution_count": null,
   "metadata": {},
   "outputs": [],
   "source": [
    "plot_density_func(df, duration_contract, country, category)"
   ]
  },
  {
   "cell_type": "markdown",
   "metadata": {},
   "source": [
    "#### Salary"
   ]
  },
  {
   "cell_type": "code",
   "execution_count": null,
   "metadata": {},
   "outputs": [],
   "source": [
    "category = 'Salary'\n",
    "order_question = ['< £18,031',\n",
    "                  '≥ £18,031 and < £24,057',\n",
    "                  '≥ £24,057 and < £32,277',\n",
    "                  '≥ £32,277 and < £43,325',\n",
    "                  '≥ £43,325 and < £58,172',\n",
    "                  '≥ £58,172']\n",
    "\n",
    "# Check if there is no new answer between development and the list of answers manually created\n",
    "assert(len(order_question) == len(df_salary[df_salary['Country'] == country]['socio4. Please select the range of your salary'].unique()) -1)\n",
    "result = count_diff(df, salary, category=category, country=country, order_index=order_question)\n",
    "result"
   ]
  },
  {
   "cell_type": "code",
   "execution_count": null,
   "metadata": {},
   "outputs": [],
   "source": [
    "plot_cat_comparison(result, country, category, order_index=True)"
   ]
  },
  {
   "cell_type": "markdown",
   "metadata": {},
   "source": [
    "#### Funding"
   ]
  },
  {
   "cell_type": "code",
   "execution_count": null,
   "metadata": {},
   "outputs": [],
   "source": [
    "# Funding\n",
    "category = 'Type of funding'\n",
    "result = count_diff(df, fund, category=category, country=country, multi_choice=True)\n",
    "result"
   ]
  },
  {
   "cell_type": "code",
   "execution_count": null,
   "metadata": {},
   "outputs": [],
   "source": [
    "plot_cat_comparison(result, country, category)"
   ]
  },
  {
   "cell_type": "markdown",
   "metadata": {},
   "source": [
    "#### Job title"
   ]
  },
  {
   "cell_type": "code",
   "execution_count": null,
   "metadata": {},
   "outputs": [],
   "source": [
    "category = 'Official job title'\n",
    "plot_wordcloud(df, title_job, country, category)"
   ]
  },
  {
   "cell_type": "code",
   "execution_count": null,
   "metadata": {},
   "outputs": [],
   "source": [
    "category = 'Different job title'\n",
    "plot_wordcloud(df, title_job, country, category)"
   ]
  },
  {
   "cell_type": "markdown",
   "metadata": {},
   "source": [
    "### United States"
   ]
  },
  {
   "cell_type": "code",
   "execution_count": null,
   "metadata": {
    "collapsed": true
   },
   "outputs": [],
   "source": [
    "country = 'United States'"
   ]
  },
  {
   "cell_type": "markdown",
   "metadata": {},
   "source": [
    "#### Type of organisation"
   ]
  },
  {
   "cell_type": "code",
   "execution_count": null,
   "metadata": {},
   "outputs": [],
   "source": [
    "# Plotting the reported 'professional software developer'\n",
    "category = 'Organisation type'\n",
    "# Get the count\n",
    "result = count_diff(df, current_emp, category=category, country=country)\n",
    "result"
   ]
  },
  {
   "cell_type": "code",
   "execution_count": null,
   "metadata": {},
   "outputs": [],
   "source": [
    "plot_cat_comparison(result, country, category)"
   ]
  },
  {
   "cell_type": "markdown",
   "metadata": {},
   "source": [
    "#### Which University"
   ]
  },
  {
   "cell_type": "code",
   "execution_count": null,
   "metadata": {},
   "outputs": [],
   "source": [
    "# Plotting which university\n",
    "category = 'Which university'\n",
    "# Get the count\n",
    "result = count_diff(df, which_uni, category=category, country=country)\n",
    "result"
   ]
  },
  {
   "cell_type": "code",
   "execution_count": null,
   "metadata": {},
   "outputs": [],
   "source": [
    "plot_cat_comparison(result, country, category)"
   ]
  },
  {
   "cell_type": "markdown",
   "metadata": {},
   "source": [
    "#### Type of contract"
   ]
  },
  {
   "cell_type": "code",
   "execution_count": null,
   "metadata": {},
   "outputs": [],
   "source": [
    "category = 'Contract type'\n",
    "# Get the count\n",
    "result = count_diff(df, contract_time, category=category, country=country)\n",
    "result"
   ]
  },
  {
   "cell_type": "code",
   "execution_count": null,
   "metadata": {},
   "outputs": [],
   "source": [
    "plot_cat_comparison(result, country, category)"
   ]
  },
  {
   "cell_type": "markdown",
   "metadata": {},
   "source": [
    "#### Full time or part-time"
   ]
  },
  {
   "cell_type": "code",
   "execution_count": null,
   "metadata": {},
   "outputs": [],
   "source": [
    "category = 'Nature of employment'\n",
    "# Get the count\n",
    "result = count_diff(df, nature_contract, category=category, country=country)\n",
    "result"
   ]
  },
  {
   "cell_type": "code",
   "execution_count": null,
   "metadata": {},
   "outputs": [],
   "source": [
    "plot_cat_comparison(result, country, category)"
   ]
  },
  {
   "cell_type": "markdown",
   "metadata": {},
   "source": [
    "#### Length of the current position"
   ]
  },
  {
   "cell_type": "code",
   "execution_count": null,
   "metadata": {},
   "outputs": [],
   "source": [
    "category = 'Duration of contract in year'\n",
    "# Get the count\n",
    "result = describe_diff(df, duration_contract, category=category, country=country)\n",
    "result"
   ]
  },
  {
   "cell_type": "code",
   "execution_count": null,
   "metadata": {},
   "outputs": [],
   "source": [
    "plot_density_func(df, duration_contract, country, category)"
   ]
  },
  {
   "cell_type": "markdown",
   "metadata": {},
   "source": [
    "#### Salary"
   ]
  },
  {
   "cell_type": "code",
   "execution_count": null,
   "metadata": {},
   "outputs": [],
   "source": [
    "category = 'Salary'\n",
    "\n",
    "order_question = ['Less than \\\\$30,000',\n",
    "                  'From \\\\$30,000 to \\\\$49,999',\n",
    "                  'From \\\\$50,000 to \\\\$69,999',\n",
    "                  'From \\\\$70,000 to \\\\$89,999',\n",
    "                  'From \\\\$90,000 to \\\\$109,999',\n",
    "                  'From \\\\$110,000 to \\\\$129,999',\n",
    "                  'From \\\\$130,000 to \\\\$149,999',\n",
    "                  'More than \\\\$150,000',  \n",
    "                  'Prefer not to say']\n",
    "\n",
    "# Check if there is no new answer between development and the list of answers manually created\n",
    "try:\n",
    "    assert(len(order_question) == len(df_salary[df_salary['Country'] == country]['socio4. Please select the range of your salary'].unique()) -1)\n",
    "except AssertionError:\n",
    "    print(set(df_salary[df_salary['Country'] == country]['socio4. Please select the range of your salary'].unique()) - set(order_question))\n",
    "    raise\n",
    "result = count_diff(df, salary, category=category, country=country, order_index=order_question)\n",
    "result\n"
   ]
  },
  {
   "cell_type": "code",
   "execution_count": null,
   "metadata": {
    "scrolled": true
   },
   "outputs": [],
   "source": [
    "plot_cat_comparison(result, country, category, order_index=order_question)"
   ]
  },
  {
   "cell_type": "markdown",
   "metadata": {},
   "source": [
    "#### Funding"
   ]
  },
  {
   "cell_type": "code",
   "execution_count": null,
   "metadata": {},
   "outputs": [],
   "source": [
    "# Funding\n",
    "category = 'Type of funding'\n",
    "result = count_diff(df, fund, category=category, country=country, multi_choice=True)\n",
    "result"
   ]
  },
  {
   "cell_type": "code",
   "execution_count": null,
   "metadata": {},
   "outputs": [],
   "source": [
    "plot_cat_comparison(result, country, category)"
   ]
  },
  {
   "cell_type": "markdown",
   "metadata": {},
   "source": [
    "#### Job title"
   ]
  },
  {
   "cell_type": "code",
   "execution_count": null,
   "metadata": {},
   "outputs": [],
   "source": [
    "category = 'Official job title'\n",
    "plot_wordcloud(df, title_job, country, category)"
   ]
  },
  {
   "cell_type": "code",
   "execution_count": null,
   "metadata": {},
   "outputs": [],
   "source": [
    "category = 'Different job title'\n",
    "plot_wordcloud(df, title_job, country, category)"
   ]
  },
  {
   "cell_type": "markdown",
   "metadata": {},
   "source": [
    "### Rest of the World"
   ]
  },
  {
   "cell_type": "code",
   "execution_count": null,
   "metadata": {
    "collapsed": true
   },
   "outputs": [],
   "source": [
    "country = 'World'"
   ]
  },
  {
   "cell_type": "markdown",
   "metadata": {},
   "source": [
    "#### Type of organisation"
   ]
  },
  {
   "cell_type": "code",
   "execution_count": null,
   "metadata": {},
   "outputs": [],
   "source": [
    "# Plotting the reported 'professional software developer'\n",
    "category = 'Organisation type'\n",
    "# Get the count\n",
    "result = count_diff(df, current_emp, category=category, country=country)\n",
    "result"
   ]
  },
  {
   "cell_type": "code",
   "execution_count": null,
   "metadata": {},
   "outputs": [],
   "source": [
    "plot_cat_comparison(result, country, category)"
   ]
  },
  {
   "cell_type": "markdown",
   "metadata": {},
   "source": [
    "#### Which University"
   ]
  },
  {
   "cell_type": "code",
   "execution_count": null,
   "metadata": {},
   "outputs": [],
   "source": [
    "# Plotting which university\n",
    "category = 'Which university'\n",
    "# Get the count\n",
    "result = count_diff(df, which_uni, category=category, country=country)\n",
    "result"
   ]
  },
  {
   "cell_type": "code",
   "execution_count": null,
   "metadata": {},
   "outputs": [],
   "source": [
    "plot_cat_comparison(result, country, category)"
   ]
  },
  {
   "cell_type": "markdown",
   "metadata": {},
   "source": [
    "#### Type of contract"
   ]
  },
  {
   "cell_type": "code",
   "execution_count": null,
   "metadata": {},
   "outputs": [],
   "source": [
    "category = 'Contract type'\n",
    "# Get the count\n",
    "result = count_diff(df, contract_time, category=category, country=country)\n",
    "result"
   ]
  },
  {
   "cell_type": "code",
   "execution_count": null,
   "metadata": {},
   "outputs": [],
   "source": [
    "plot_cat_comparison(result, country, category)"
   ]
  },
  {
   "cell_type": "markdown",
   "metadata": {},
   "source": [
    "#### Full time or part-time"
   ]
  },
  {
   "cell_type": "code",
   "execution_count": null,
   "metadata": {},
   "outputs": [],
   "source": [
    "category = 'Nature of employment'\n",
    "# Get the count\n",
    "result = count_diff(df, nature_contract, category=category, country=country)\n",
    "result"
   ]
  },
  {
   "cell_type": "code",
   "execution_count": null,
   "metadata": {},
   "outputs": [],
   "source": [
    "plot_cat_comparison(result, country, category)"
   ]
  },
  {
   "cell_type": "markdown",
   "metadata": {},
   "source": [
    "#### Length of the current position"
   ]
  },
  {
   "cell_type": "code",
   "execution_count": null,
   "metadata": {},
   "outputs": [],
   "source": [
    "category = 'Duration of contract in year'\n",
    "# Get the count\n",
    "result = describe_diff(df, duration_contract, category=category, country=country)\n",
    "result"
   ]
  },
  {
   "cell_type": "code",
   "execution_count": null,
   "metadata": {},
   "outputs": [],
   "source": [
    "plot_density_func(df, duration_contract, country, category)"
   ]
  },
  {
   "cell_type": "markdown",
   "metadata": {},
   "source": [
    "#### Job title"
   ]
  },
  {
   "cell_type": "code",
   "execution_count": null,
   "metadata": {},
   "outputs": [],
   "source": [
    "category = 'Official job title'\n",
    "plot_wordcloud(df, title_job, country, category)"
   ]
  },
  {
   "cell_type": "code",
   "execution_count": null,
   "metadata": {},
   "outputs": [],
   "source": [
    "category = 'Different job title'\n",
    "plot_wordcloud(df, title_job, country, category)"
   ]
  },
  {
   "cell_type": "markdown",
   "metadata": {},
   "source": [
    "# Professional developers"
   ]
  },
  {
   "cell_type": "markdown",
   "metadata": {},
   "source": [
    "In this section we investigate the relationship between RSEs/RSDs and their own experience in software development\n",
    "Understandably, we expect them having several years of software development experience. However, as shown in previous years, it is not necessarily reflected upon their own feeling of being considered as professional. "
   ]
  },
  {
   "cell_type": "code",
   "execution_count": null,
   "metadata": {
    "collapsed": true
   },
   "outputs": [],
   "source": [
    "prof_dev= ['soft2can. Do you consider yourself a professional software developer?']\n",
    "year_dev = ['soft1can. How many years of software development experience do you have?']"
   ]
  },
  {
   "cell_type": "markdown",
   "metadata": {},
   "source": [
    "## Australia"
   ]
  },
  {
   "cell_type": "code",
   "execution_count": null,
   "metadata": {},
   "outputs": [],
   "source": [
    "# Plotting the reported 'professional software developer'\n",
    "country = 'Australia'\n",
    "category = 'Professional developer'\n",
    "# Get the count\n",
    "result = count_diff(df, prof_dev, category=category, country=country, y_n=True)\n",
    "result"
   ]
  },
  {
   "cell_type": "code",
   "execution_count": null,
   "metadata": {},
   "outputs": [],
   "source": [
    "plot_cat_comparison(result, country, category)"
   ]
  },
  {
   "cell_type": "code",
   "execution_count": null,
   "metadata": {},
   "outputs": [],
   "source": [
    "country = 'Australia'\n",
    "category = 'How many years of software development experience'\n",
    "result = describe_diff(df, year_dev, country=country, category=category)\n",
    "result"
   ]
  },
  {
   "cell_type": "code",
   "execution_count": null,
   "metadata": {},
   "outputs": [],
   "source": [
    "plot_density_func(df, year_dev, country, category)"
   ]
  },
  {
   "cell_type": "markdown",
   "metadata": {},
   "source": [
    "## Germany"
   ]
  },
  {
   "cell_type": "code",
   "execution_count": null,
   "metadata": {},
   "outputs": [],
   "source": [
    "# Plotting the reported 'professional software developer'\n",
    "country = 'Germany'\n",
    "category = 'Professional developer'\n",
    "# Get the count\n",
    "result = count_diff(df, prof_dev, category=category, country=country, y_n=True)\n",
    "result"
   ]
  },
  {
   "cell_type": "code",
   "execution_count": null,
   "metadata": {},
   "outputs": [],
   "source": [
    "plot_cat_comparison(result, country, category)"
   ]
  },
  {
   "cell_type": "code",
   "execution_count": null,
   "metadata": {},
   "outputs": [],
   "source": [
    "# Plotting the reported 'professional software developer'\n",
    "country = 'Germany'\n",
    "category = 'How many years of software development experience'\n",
    "result = describe_diff(df, year_dev, country=country, category=category)\n",
    "result"
   ]
  },
  {
   "cell_type": "code",
   "execution_count": null,
   "metadata": {},
   "outputs": [],
   "source": [
    "plot_density_func(df, year_dev, country, category)"
   ]
  },
  {
   "cell_type": "markdown",
   "metadata": {},
   "source": [
    "## Netherlands"
   ]
  },
  {
   "cell_type": "code",
   "execution_count": null,
   "metadata": {},
   "outputs": [],
   "source": [
    "# Plotting the reported 'professional software developer'\n",
    "country = 'Netherlands'\n",
    "category = 'Do you consider yourself a professional software developer'\n",
    "# Get the count\n",
    "result = count_diff(df, prof_dev, category=category, country=country, y_n=True)\n",
    "result"
   ]
  },
  {
   "cell_type": "code",
   "execution_count": null,
   "metadata": {},
   "outputs": [],
   "source": [
    "plot_cat_comparison(result, country, category)"
   ]
  },
  {
   "cell_type": "code",
   "execution_count": null,
   "metadata": {},
   "outputs": [],
   "source": [
    "# Plotting the reported 'professional software developer'\n",
    "country = 'Netherlands'\n",
    "category = 'How many years of software development experience'\n",
    "result = describe_diff(df, year_dev, country=country, category=category)\n",
    "result"
   ]
  },
  {
   "cell_type": "code",
   "execution_count": null,
   "metadata": {},
   "outputs": [],
   "source": [
    "plot_density_func(df, year_dev, country, category)"
   ]
  },
  {
   "cell_type": "markdown",
   "metadata": {},
   "source": [
    "## New Zealand"
   ]
  },
  {
   "cell_type": "code",
   "execution_count": null,
   "metadata": {},
   "outputs": [],
   "source": [
    "# Plotting the reported 'professional software developer'\n",
    "country = 'New Zealand'\n",
    "category = 'Do you consider yourself a professional software developer'\n",
    "# Get the count\n",
    "result = count_diff(df, prof_dev, category=category, country=country, y_n=True)\n",
    "result"
   ]
  },
  {
   "cell_type": "code",
   "execution_count": null,
   "metadata": {},
   "outputs": [],
   "source": [
    "plot_cat_comparison(result, country, category)"
   ]
  },
  {
   "cell_type": "code",
   "execution_count": null,
   "metadata": {},
   "outputs": [],
   "source": [
    "# Software Development experience\n",
    "country = 'New Zealand'\n",
    "category = 'How many years of software development experience'\n",
    "result = describe_diff(df, year_dev, country=country, category=category)\n",
    "result"
   ]
  },
  {
   "cell_type": "code",
   "execution_count": null,
   "metadata": {},
   "outputs": [],
   "source": [
    "plot_density_func(df, year_dev, country, category)"
   ]
  },
  {
   "cell_type": "markdown",
   "metadata": {},
   "source": [
    "## South Africa"
   ]
  },
  {
   "cell_type": "code",
   "execution_count": null,
   "metadata": {},
   "outputs": [],
   "source": [
    "# Plotting the reported 'professional software developer'\n",
    "country = 'South Africa'\n",
    "category = 'Do you consider yourself a professional software developer'\n",
    "# Get the count\n",
    "result = count_diff(df, prof_dev, category=category, country=country, y_n=True)\n",
    "result"
   ]
  },
  {
   "cell_type": "code",
   "execution_count": null,
   "metadata": {},
   "outputs": [],
   "source": [
    "plot_cat_comparison(result, country, category)"
   ]
  },
  {
   "cell_type": "code",
   "execution_count": null,
   "metadata": {},
   "outputs": [],
   "source": [
    "# Software Development experience\n",
    "country = 'South Africa'\n",
    "category = 'How many years of software development experience'\n",
    "result = describe_diff(df, year_dev, country=country, category=category)\n",
    "result"
   ]
  },
  {
   "cell_type": "code",
   "execution_count": null,
   "metadata": {},
   "outputs": [],
   "source": [
    "plot_density_func(df, year_dev, country, category)"
   ]
  },
  {
   "cell_type": "markdown",
   "metadata": {
    "collapsed": true
   },
   "source": [
    "## United Kingdom"
   ]
  },
  {
   "cell_type": "code",
   "execution_count": null,
   "metadata": {},
   "outputs": [],
   "source": [
    "# Plotting the reported 'professional software developer'\n",
    "country = 'United Kingdom'\n",
    "category = 'Do you consider yourself a professional software developer'\n",
    "# Get the count\n",
    "result = count_diff(df, prof_dev, category=category, country=country, y_n=True)\n",
    "result"
   ]
  },
  {
   "cell_type": "code",
   "execution_count": null,
   "metadata": {},
   "outputs": [],
   "source": [
    "plot_cat_comparison(result, country, category)"
   ]
  },
  {
   "cell_type": "code",
   "execution_count": null,
   "metadata": {},
   "outputs": [],
   "source": [
    "# Software Development experience\n",
    "country = 'United Kingdom'\n",
    "category = 'How many years of software development experience'\n",
    "result = describe_diff(df, year_dev, country=country, category=category)\n",
    "result"
   ]
  },
  {
   "cell_type": "code",
   "execution_count": null,
   "metadata": {},
   "outputs": [],
   "source": [
    "plot_density_func(df, year_dev, country, category)"
   ]
  },
  {
   "cell_type": "markdown",
   "metadata": {},
   "source": [
    "## United States"
   ]
  },
  {
   "cell_type": "code",
   "execution_count": null,
   "metadata": {},
   "outputs": [],
   "source": [
    "# Plotting the reported 'professional software developer'\n",
    "country = 'United States'\n",
    "category = 'Do you consider yourself a professional software developer'\n",
    "# Get the count\n",
    "result = count_diff(df, prof_dev, category=category, country=country, y_n=True)\n",
    "result"
   ]
  },
  {
   "cell_type": "code",
   "execution_count": null,
   "metadata": {},
   "outputs": [],
   "source": [
    "plot_cat_comparison(result, country, category)"
   ]
  },
  {
   "cell_type": "code",
   "execution_count": null,
   "metadata": {},
   "outputs": [],
   "source": [
    "# Software Development experience\n",
    "country = 'United States'\n",
    "category = 'How many years of software development experience'\n",
    "result = describe_diff(df, year_dev, country=country, category=category)\n",
    "result"
   ]
  },
  {
   "cell_type": "code",
   "execution_count": null,
   "metadata": {},
   "outputs": [],
   "source": [
    "plot_density_func(df, year_dev, country, category)"
   ]
  },
  {
   "cell_type": "markdown",
   "metadata": {},
   "source": [
    "## Rest of the World"
   ]
  },
  {
   "cell_type": "code",
   "execution_count": null,
   "metadata": {},
   "outputs": [],
   "source": [
    "# Plotting the reported 'professional software developer'\n",
    "country = 'World'\n",
    "category = 'Do you consider yourself a professional software developer'\n",
    "# Get the count\n",
    "result = count_diff(df, prof_dev, category=category, country=country, y_n=True)\n",
    "result"
   ]
  },
  {
   "cell_type": "code",
   "execution_count": null,
   "metadata": {},
   "outputs": [],
   "source": [
    "plot_cat_comparison(result, country, category)"
   ]
  },
  {
   "cell_type": "code",
   "execution_count": null,
   "metadata": {},
   "outputs": [],
   "source": [
    "# Software Development experience\n",
    "country = 'World'\n",
    "category = 'How many years of software development experience'\n",
    "result = describe_diff(df, year_dev, country=country, category=category)\n",
    "result"
   ]
  },
  {
   "cell_type": "code",
   "execution_count": null,
   "metadata": {},
   "outputs": [],
   "source": [
    "plot_density_func(df,  year_dev, country, category)"
   ]
  },
  {
   "cell_type": "markdown",
   "metadata": {},
   "source": [
    "# How time is spent"
   ]
  },
  {
   "cell_type": "markdown",
   "metadata": {},
   "source": [
    "RSE/RSE are supposed to be an hybrid role, compared to pure software developer. They bring a knowledge from their field but also are developing software. To capture this different tasks they may do during their work, we asked them how they spend their time. We specifically asked for the following questions:\n",
    "* On average, how much of your time is spent developing software\n",
    "* On average, how much of your time is spent on research\n",
    "* On average, how much of your time is spent on management\n",
    "* On average, how much of your time is spent on teaching\n",
    "* On average, how much of your time is spent on other activities\n",
    "\n",
    "They answered with a likert scale from *1 (None at all)* to *10 (All my time)*.\n",
    "\n",
    "The same questions asked them how much time they wanted to spend on these activities. With that it was possible to see if discrepancies exist between what they actual do and what they want to do. \n",
    "\n",
    "To calculate the difference between what they want and what they do, we only substract the answer they gave us to **wish to spent** the  with the answer they gave us to the **time spent**. It is therefore possible to understand the results as:\n",
    "1. The result is zero: it is a total adequation between what they do and what they want. \n",
    "1. The result is negative: They wish to spend less time to do that activity\n",
    "1. The result is positive: They wish to spend more time to do that activity\n",
    "\n"
   ]
  },
  {
   "cell_type": "code",
   "execution_count": null,
   "metadata": {
    "collapsed": true
   },
   "outputs": [],
   "source": [
    "# Create the two df containing time spent and time they wish they could spend.\n",
    "\n",
    "# Information about time spent\n",
    "df_time_spent = df[df['Year'] == 2018][['Country',\n",
    "                                        'time1can. On average, how much of your time is spent developing software?',\n",
    "                                        'time2can. On average, how much of your time is spent on research',\n",
    "                                        'time3can. On average, how much of your time is spent on management',\n",
    "                                        'time4can. On average, how much of your time is spent on teaching',\n",
    "                                        'time5can. On average, how much of your time is spent on other activities']].copy()\n",
    "# Information about the time they wish to spend\n",
    "df_time_wish = df[df['Year'] == 2018][['Country',\n",
    "                                       'timeLike6zaf. In an average month, how much time would you like to spend on software development?',\n",
    "                                       'timeLike7zaf. In an average month, how much time would you like to spend on research',\n",
    "                                       'timeLike8zaf. In an average month, how much time would you like to spend on management',\n",
    "                                       'timeLike9zaf. In an average month, how much time would you like to spend on teaching',\n",
    "                                       'timeLike10zaf. In an average month, how much time would you like to spend on other activities']].copy()\n",
    "\n",
    "# Replace the value 1 (None at all) and 10 (all my time) into int\n",
    "df_time_spent.replace({'\\ufeff1 (None at all)': 1, '10 (All my time)': 10}, inplace=True)\n",
    "df_time_wish.replace({'\\ufeff1 (None at all)': 1, '10 (All my time)': 10}, inplace=True)\n",
    "\n",
    "# Create a new dataframe with the difference between what they do and what they wish\n",
    "# Create a dataframe to show the difference\n",
    "dict_time_diff = collections.OrderedDict()\n",
    "dict_time_diff['Country'] = df_time_spent['Country']\n",
    "dict_time_diff['Software Development difference'] = df_time_wish['timeLike6zaf. In an average month, how much time would you like to spend on software development?'].astype(float) - df_time_spent['time1can. On average, how much of your time is spent developing software?'].astype(float)  \n",
    "dict_time_diff['Research difference'] = df_time_wish['timeLike7zaf. In an average month, how much time would you like to spend on research'].astype(float) - df_time_spent['time2can. On average, how much of your time is spent on research'].astype(float)\n",
    "dict_time_diff['Management difference'] = df_time_wish['timeLike8zaf. In an average month, how much time would you like to spend on management'].astype(float) -  df_time_spent['time3can. On average, how much of your time is spent on management'].astype(float)\n",
    "dict_time_diff['Teaching difference'] = df_time_wish['timeLike9zaf. In an average month, how much time would you like to spend on teaching'].astype(float) - df_time_spent['time4can. On average, how much of your time is spent on teaching'].astype(float)\n",
    "dict_time_diff['Other activity difference'] = df_time_wish['timeLike10zaf. In an average month, how much time would you like to spend on other activities'].astype(float) - df_time_spent['time5can. On average, how much of your time is spent on other activities'].astype(float)\n",
    "df_time_diff = pd.DataFrame.from_dict(dict_time_diff)\n",
    "\n",
    "renaming_col = ['Country', 'Developing software', 'Research', 'Management', 'Teaching', 'Other activities']\n",
    "df_time_spent.columns = renaming_col\n",
    "df_time_wish.columns = renaming_col\n",
    "df_time_diff.columns = renaming_col"
   ]
  },
  {
   "cell_type": "markdown",
   "metadata": {},
   "source": [
    "## Australia"
   ]
  },
  {
   "cell_type": "code",
   "execution_count": null,
   "metadata": {
    "collapsed": true
   },
   "outputs": [],
   "source": [
    "country = 'Australia'"
   ]
  },
  {
   "cell_type": "code",
   "execution_count": null,
   "metadata": {},
   "outputs": [],
   "source": [
    "# Plotting the likert scale\n",
    "plotting_time_likert(country, df_time_spent, df_time_wish, df_time_diff)"
   ]
  },
  {
   "cell_type": "markdown",
   "metadata": {},
   "source": [
    "## Germany"
   ]
  },
  {
   "cell_type": "code",
   "execution_count": null,
   "metadata": {
    "collapsed": true
   },
   "outputs": [],
   "source": [
    "country = 'Germany'"
   ]
  },
  {
   "cell_type": "code",
   "execution_count": null,
   "metadata": {},
   "outputs": [],
   "source": [
    "# Plotting the likert scale\n",
    "plotting_time_likert(country, df_time_spent, df_time_wish, df_time_diff)"
   ]
  },
  {
   "cell_type": "markdown",
   "metadata": {},
   "source": [
    "## Netherlands"
   ]
  },
  {
   "cell_type": "code",
   "execution_count": null,
   "metadata": {
    "collapsed": true
   },
   "outputs": [],
   "source": [
    "country = 'Netherlands'"
   ]
  },
  {
   "cell_type": "code",
   "execution_count": null,
   "metadata": {},
   "outputs": [],
   "source": [
    "# Plotting the likert scale\n",
    "plotting_time_likert(country, df_time_spent)"
   ]
  },
  {
   "cell_type": "markdown",
   "metadata": {},
   "source": [
    "## New Zealand"
   ]
  },
  {
   "cell_type": "code",
   "execution_count": null,
   "metadata": {
    "collapsed": true
   },
   "outputs": [],
   "source": [
    "country = 'New Zealand'"
   ]
  },
  {
   "cell_type": "code",
   "execution_count": null,
   "metadata": {},
   "outputs": [],
   "source": [
    "# Plotting the likert scale\n",
    "plotting_time_likert(country, df_time_spent, df_time_wish, df_time_diff)"
   ]
  },
  {
   "cell_type": "markdown",
   "metadata": {},
   "source": [
    "## South Africa"
   ]
  },
  {
   "cell_type": "code",
   "execution_count": null,
   "metadata": {
    "collapsed": true
   },
   "outputs": [],
   "source": [
    "country = 'South Africa'"
   ]
  },
  {
   "cell_type": "code",
   "execution_count": null,
   "metadata": {},
   "outputs": [],
   "source": [
    "# Plotting the likert scale\n",
    "plotting_time_likert(country, df_time_spent, df_time_wish, df_time_diff)"
   ]
  },
  {
   "cell_type": "markdown",
   "metadata": {
    "collapsed": true
   },
   "source": [
    "## United Kingdom"
   ]
  },
  {
   "cell_type": "code",
   "execution_count": null,
   "metadata": {
    "collapsed": true
   },
   "outputs": [],
   "source": [
    "country = 'United Kingdom'"
   ]
  },
  {
   "cell_type": "code",
   "execution_count": null,
   "metadata": {},
   "outputs": [],
   "source": [
    "# Plotting the likert scale\n",
    "plotting_time_likert(country, df_time_spent, df_time_wish, df_time_diff)"
   ]
  },
  {
   "cell_type": "markdown",
   "metadata": {},
   "source": [
    "## United States"
   ]
  },
  {
   "cell_type": "code",
   "execution_count": null,
   "metadata": {
    "collapsed": true
   },
   "outputs": [],
   "source": [
    "country = 'United States'"
   ]
  },
  {
   "cell_type": "code",
   "execution_count": null,
   "metadata": {},
   "outputs": [],
   "source": [
    "# Plotting the likert scale\n",
    "plotting_time_likert(country, df_time_spent, df_time_wish, df_time_diff)"
   ]
  },
  {
   "cell_type": "markdown",
   "metadata": {},
   "source": [
    "## Rest of the World"
   ]
  },
  {
   "cell_type": "code",
   "execution_count": null,
   "metadata": {
    "collapsed": true
   },
   "outputs": [],
   "source": [
    "country = 'World'"
   ]
  },
  {
   "cell_type": "code",
   "execution_count": null,
   "metadata": {},
   "outputs": [],
   "source": [
    "# Plotting the likert scale\n",
    "plotting_time_likert(country, df_time_spent, df_time_wish, df_time_diff)"
   ]
  },
  {
   "cell_type": "markdown",
   "metadata": {},
   "source": [
    "# Questions about previous employment"
   ]
  },
  {
   "cell_type": "markdown",
   "metadata": {},
   "source": [
    "Several questions were about the participants previous job. The idea is to collect insights of their career path and understand what are their motivations to be an RSE.\n",
    "\n",
    "We also asked the participants to rank the reasons why they chose their actual position among 8 different ones:\n",
    "* Desire to work in a research environment\n",
    "* Freedom to choose own working practices\n",
    "* Desire to advance research\n",
    "* I want to learn new skills\n",
    "* Opportunity to develop software\n",
    "* Flexible working hours\n",
    "* Ability to work across disciplines\n",
    "* Opportunity for career advancement\n",
    "* The salary"
   ]
  },
  {
   "cell_type": "code",
   "execution_count": null,
   "metadata": {
    "collapsed": true
   },
   "outputs": [],
   "source": [
    "prev_work = ['prevEmp1. Where was your previous job based?']\n",
    "reason_choice = [x for x in df.columns if x[:8] == 'prevEmp2']"
   ]
  },
  {
   "cell_type": "markdown",
   "metadata": {},
   "source": [
    "## Australia"
   ]
  },
  {
   "cell_type": "markdown",
   "metadata": {},
   "source": [
    "### Where the previous job was based"
   ]
  },
  {
   "cell_type": "code",
   "execution_count": null,
   "metadata": {},
   "outputs": [],
   "source": [
    "country = 'Australia'\n",
    "category = 'Where the previous job was based'\n",
    "results = count_diff(df, prev_work, country, category)\n",
    "results"
   ]
  },
  {
   "cell_type": "code",
   "execution_count": null,
   "metadata": {},
   "outputs": [],
   "source": [
    "plot_cat_comparison(results, country=country, category=category)"
   ]
  },
  {
   "cell_type": "markdown",
   "metadata": {},
   "source": [
    "### What were the reasons to choose the current job"
   ]
  },
  {
   "cell_type": "code",
   "execution_count": null,
   "metadata": {},
   "outputs": [],
   "source": [
    "category = 'Reasons to choose current job'\n",
    "results = count_ranking(df, reason_choice, country, category)\n",
    "results"
   ]
  },
  {
   "cell_type": "code",
   "execution_count": null,
   "metadata": {},
   "outputs": [],
   "source": [
    "plot_ranking(results, category, country)"
   ]
  },
  {
   "cell_type": "markdown",
   "metadata": {},
   "source": [
    "## Germany"
   ]
  },
  {
   "cell_type": "markdown",
   "metadata": {},
   "source": [
    "### Where the previous job was based"
   ]
  },
  {
   "cell_type": "code",
   "execution_count": null,
   "metadata": {},
   "outputs": [],
   "source": [
    "country = 'Germany'\n",
    "category = 'Where the previous job was based'\n",
    "results = count_diff(df, prev_work, country, category)\n",
    "results"
   ]
  },
  {
   "cell_type": "code",
   "execution_count": null,
   "metadata": {},
   "outputs": [],
   "source": [
    "plot_cat_comparison(results, country=country, category=category)"
   ]
  },
  {
   "cell_type": "markdown",
   "metadata": {},
   "source": [
    "### What were the reasons to choose the current job"
   ]
  },
  {
   "cell_type": "code",
   "execution_count": null,
   "metadata": {},
   "outputs": [],
   "source": [
    "category = 'Reasons to choose current job'\n",
    "results = count_ranking(df, reason_choice, country, category)\n",
    "results"
   ]
  },
  {
   "cell_type": "code",
   "execution_count": null,
   "metadata": {},
   "outputs": [],
   "source": [
    "plot_ranking(results, category, country)"
   ]
  },
  {
   "cell_type": "markdown",
   "metadata": {},
   "source": [
    "## New Zealand"
   ]
  },
  {
   "cell_type": "markdown",
   "metadata": {},
   "source": [
    "### Where the previous job was based"
   ]
  },
  {
   "cell_type": "code",
   "execution_count": null,
   "metadata": {},
   "outputs": [],
   "source": [
    "country = 'New Zealand'\n",
    "category = 'Where the previous job was based'\n",
    "results = count_diff(df, prev_work, country, category)\n",
    "results"
   ]
  },
  {
   "cell_type": "code",
   "execution_count": null,
   "metadata": {},
   "outputs": [],
   "source": [
    "plot_cat_comparison(results, country=country, category=category)"
   ]
  },
  {
   "cell_type": "markdown",
   "metadata": {},
   "source": [
    "### What were the reasons to choose the current job"
   ]
  },
  {
   "cell_type": "code",
   "execution_count": null,
   "metadata": {},
   "outputs": [],
   "source": [
    "category = 'Reasons to choose current job'\n",
    "results = count_ranking(df, reason_choice, country, category)\n",
    "results"
   ]
  },
  {
   "cell_type": "code",
   "execution_count": null,
   "metadata": {},
   "outputs": [],
   "source": [
    "plot_ranking(results, category, country)"
   ]
  },
  {
   "cell_type": "markdown",
   "metadata": {},
   "source": [
    "## South Africa"
   ]
  },
  {
   "cell_type": "markdown",
   "metadata": {},
   "source": [
    "### Where the previous job was based"
   ]
  },
  {
   "cell_type": "code",
   "execution_count": null,
   "metadata": {},
   "outputs": [],
   "source": [
    "country = 'South Africa'\n",
    "category = 'Where the previous job was based'\n",
    "results = count_diff(df, prev_work, country, category)\n",
    "results"
   ]
  },
  {
   "cell_type": "code",
   "execution_count": null,
   "metadata": {},
   "outputs": [],
   "source": [
    "plot_cat_comparison(results, country=country, category=category)"
   ]
  },
  {
   "cell_type": "markdown",
   "metadata": {},
   "source": [
    "### What were the reasons to choose the current job"
   ]
  },
  {
   "cell_type": "code",
   "execution_count": null,
   "metadata": {},
   "outputs": [],
   "source": [
    "category = 'Reasons to choose current job'\n",
    "results = count_ranking(df, reason_choice, country, category)\n",
    "results"
   ]
  },
  {
   "cell_type": "code",
   "execution_count": null,
   "metadata": {},
   "outputs": [],
   "source": [
    "plot_ranking(results, category, country)"
   ]
  },
  {
   "cell_type": "markdown",
   "metadata": {},
   "source": [
    "## United Kingdom"
   ]
  },
  {
   "cell_type": "markdown",
   "metadata": {},
   "source": [
    "### Where the previous job was based"
   ]
  },
  {
   "cell_type": "code",
   "execution_count": null,
   "metadata": {},
   "outputs": [],
   "source": [
    "country = 'United Kingdom'\n",
    "category = 'Where the previous job was based'\n",
    "results = count_diff(df, prev_work, country, category)\n",
    "results"
   ]
  },
  {
   "cell_type": "code",
   "execution_count": null,
   "metadata": {},
   "outputs": [],
   "source": [
    "plot_cat_comparison(results, country=country, category=category)"
   ]
  },
  {
   "cell_type": "markdown",
   "metadata": {},
   "source": [
    "### What were the reasons to choose the current job"
   ]
  },
  {
   "cell_type": "code",
   "execution_count": null,
   "metadata": {},
   "outputs": [],
   "source": [
    "category = 'Reasons to choose current job'\n",
    "results = count_ranking(df, reason_choice, country, category)\n",
    "results"
   ]
  },
  {
   "cell_type": "code",
   "execution_count": null,
   "metadata": {},
   "outputs": [],
   "source": [
    "plot_ranking(results, category, country)"
   ]
  },
  {
   "cell_type": "markdown",
   "metadata": {},
   "source": [
    "## United States"
   ]
  },
  {
   "cell_type": "markdown",
   "metadata": {},
   "source": [
    "### Where the previous job was based"
   ]
  },
  {
   "cell_type": "code",
   "execution_count": null,
   "metadata": {},
   "outputs": [],
   "source": [
    "country = 'United States'\n",
    "category = 'Where the previous job was based'\n",
    "results = count_diff(df, prev_work, country, category)\n",
    "results"
   ]
  },
  {
   "cell_type": "code",
   "execution_count": null,
   "metadata": {},
   "outputs": [],
   "source": [
    "plot_cat_comparison(results, country=country, category=category)"
   ]
  },
  {
   "cell_type": "markdown",
   "metadata": {},
   "source": [
    "### What were the reasons to choose the current job"
   ]
  },
  {
   "cell_type": "code",
   "execution_count": null,
   "metadata": {},
   "outputs": [],
   "source": [
    "category = 'Reasons to choose current job'\n",
    "results = count_ranking(df, reason_choice, country, category)\n",
    "results"
   ]
  },
  {
   "cell_type": "code",
   "execution_count": null,
   "metadata": {},
   "outputs": [],
   "source": [
    "plot_ranking(results, category, country)"
   ]
  },
  {
   "cell_type": "markdown",
   "metadata": {},
   "source": [
    "## Rest of the world"
   ]
  },
  {
   "cell_type": "markdown",
   "metadata": {},
   "source": [
    "### Where the previous job was based"
   ]
  },
  {
   "cell_type": "code",
   "execution_count": null,
   "metadata": {},
   "outputs": [],
   "source": [
    "country = 'World'\n",
    "category = 'Where the previous job was based'\n",
    "results = count_diff(df, prev_work, country, category)\n",
    "results"
   ]
  },
  {
   "cell_type": "code",
   "execution_count": null,
   "metadata": {},
   "outputs": [],
   "source": [
    "plot_cat_comparison(results, country=country, category=category)"
   ]
  },
  {
   "cell_type": "markdown",
   "metadata": {},
   "source": [
    "### What were the reasons to choose the current job"
   ]
  },
  {
   "cell_type": "code",
   "execution_count": null,
   "metadata": {},
   "outputs": [],
   "source": [
    "category = 'Reasons to choose current job'\n",
    "results = count_ranking(df, reason_choice, country, category)\n",
    "results"
   ]
  },
  {
   "cell_type": "code",
   "execution_count": null,
   "metadata": {},
   "outputs": [],
   "source": [
    "plot_ranking(results, category, country)"
   ]
  },
  {
   "cell_type": "markdown",
   "metadata": {},
   "source": [
    "# Collaboration and training"
   ]
  },
  {
   "cell_type": "code",
   "execution_count": null,
   "metadata": {
    "collapsed": true
   },
   "outputs": [],
   "source": [
    "people_code = ['rse3. Who uses the code that you write?']\n",
    "\n",
    "same_researcher = ['currentWork1. Do you always work with the same researchers, or do you regularly change the researchers you work with?']\n",
    "dedicated_research = ['currentWork2. Are you part of a dedicated research software group within your institution?']\n",
    "\n",
    "nbr_proj_soft = ['proj1can. How many software projects are you currently involved in?']\n",
    "                \n",
    "nbr_dev_proj = ['proj2can. How many software developers typically work on your projects?']\n",
    "\n",
    "training_time = ['train2. On average, how many times a year do you take part in providing training?']\n",
    "training_name = ['train3. What training programs are you involved with (comma separated list, e.g., Software Carpentry, local university training, etc.)']"
   ]
  },
  {
   "cell_type": "markdown",
   "metadata": {},
   "source": [
    "## Australia"
   ]
  },
  {
   "cell_type": "code",
   "execution_count": null,
   "metadata": {
    "collapsed": true
   },
   "outputs": [],
   "source": [
    "country = 'Australia'"
   ]
  },
  {
   "cell_type": "markdown",
   "metadata": {},
   "source": [
    "### Developing code for others"
   ]
  },
  {
   "cell_type": "code",
   "execution_count": null,
   "metadata": {},
   "outputs": [],
   "source": [
    "category = 'developing code for others'\n",
    "results = count_diff(df, people_code, country, category, order_index=True)\n",
    "results"
   ]
  },
  {
   "cell_type": "code",
   "execution_count": null,
   "metadata": {
    "scrolled": true
   },
   "outputs": [],
   "source": [
    "plot_cat_comparison(results, country=country, category=category, order_index=True)"
   ]
  },
  {
   "cell_type": "markdown",
   "metadata": {},
   "source": [
    "### Working with same researchers"
   ]
  },
  {
   "cell_type": "code",
   "execution_count": null,
   "metadata": {},
   "outputs": [],
   "source": [
    "category = 'Working with same researchers'\n",
    "results = count_diff(df, same_researcher, country, category)\n",
    "results"
   ]
  },
  {
   "cell_type": "code",
   "execution_count": null,
   "metadata": {},
   "outputs": [],
   "source": [
    "plot_cat_comparison(results, country=country, category=category)"
   ]
  },
  {
   "cell_type": "markdown",
   "metadata": {},
   "source": [
    "### Part of dedicated group"
   ]
  },
  {
   "cell_type": "code",
   "execution_count": null,
   "metadata": {},
   "outputs": [],
   "source": [
    "category = 'member of a dedicated group'\n",
    "results = count_diff(df, dedicated_research, country, category, order_index=True)\n",
    "results"
   ]
  },
  {
   "cell_type": "code",
   "execution_count": null,
   "metadata": {},
   "outputs": [],
   "source": [
    "plot_cat_comparison(results, country=country, category=category, order_index=True)"
   ]
  },
  {
   "cell_type": "markdown",
   "metadata": {},
   "source": [
    "### Number of projects"
   ]
  },
  {
   "cell_type": "code",
   "execution_count": null,
   "metadata": {},
   "outputs": [],
   "source": [
    "category = 'Number of software projects'\n",
    "results = count_diff(df, nbr_proj_soft, country, category, order_index=True)\n",
    "results"
   ]
  },
  {
   "cell_type": "code",
   "execution_count": null,
   "metadata": {},
   "outputs": [],
   "source": [
    "plot_cat_comparison(results, country=country, category=category, order_index=True)"
   ]
  },
  {
   "cell_type": "code",
   "execution_count": null,
   "metadata": {},
   "outputs": [],
   "source": [
    "category = 'Number of software developers per projects'\n",
    "results = count_diff(df, nbr_dev_proj, country, category, order_index=True)\n",
    "results"
   ]
  },
  {
   "cell_type": "code",
   "execution_count": null,
   "metadata": {},
   "outputs": [],
   "source": [
    "plot_cat_comparison(results, country=country, category=category, order_index=True)"
   ]
  },
  {
   "cell_type": "markdown",
   "metadata": {},
   "source": [
    "### Training"
   ]
  },
  {
   "cell_type": "code",
   "execution_count": null,
   "metadata": {},
   "outputs": [],
   "source": [
    "category = 'Number of time per year providing training'\n",
    "training_time = ['train2. On average, how many times a year do you take part in providing training?']\n",
    "#training_name\n",
    "results = describe_diff(df, training_time, country, category)\n",
    "results"
   ]
  },
  {
   "cell_type": "code",
   "execution_count": null,
   "metadata": {},
   "outputs": [],
   "source": [
    "plot_density_func(df, training_time, category, country)"
   ]
  },
  {
   "cell_type": "markdown",
   "metadata": {},
   "source": [
    "### Training name"
   ]
  },
  {
   "cell_type": "code",
   "execution_count": null,
   "metadata": {
    "scrolled": true
   },
   "outputs": [],
   "source": [
    "plot_wordcloud(df, training_name, country, category)"
   ]
  },
  {
   "cell_type": "markdown",
   "metadata": {},
   "source": [
    "## Germany"
   ]
  },
  {
   "cell_type": "code",
   "execution_count": null,
   "metadata": {
    "collapsed": true
   },
   "outputs": [],
   "source": [
    "country = 'Germany'"
   ]
  },
  {
   "cell_type": "markdown",
   "metadata": {},
   "source": [
    "### Developing code for others"
   ]
  },
  {
   "cell_type": "code",
   "execution_count": null,
   "metadata": {},
   "outputs": [],
   "source": [
    "category = 'developing code for others'\n",
    "results = count_diff(df, people_code, country, category, order_index=True)\n",
    "results"
   ]
  },
  {
   "cell_type": "code",
   "execution_count": null,
   "metadata": {
    "scrolled": true
   },
   "outputs": [],
   "source": [
    "plot_cat_comparison(results, country=country, category=category, order_index=True)"
   ]
  },
  {
   "cell_type": "markdown",
   "metadata": {},
   "source": [
    "### Working with same researchers"
   ]
  },
  {
   "cell_type": "code",
   "execution_count": null,
   "metadata": {},
   "outputs": [],
   "source": [
    "category = 'Working with same researchers'\n",
    "results = count_diff(df, same_researcher, country, category)\n",
    "results"
   ]
  },
  {
   "cell_type": "code",
   "execution_count": null,
   "metadata": {},
   "outputs": [],
   "source": [
    "plot_cat_comparison(results, country=country, category=category)"
   ]
  },
  {
   "cell_type": "markdown",
   "metadata": {},
   "source": [
    "### Part of dedicated group"
   ]
  },
  {
   "cell_type": "code",
   "execution_count": null,
   "metadata": {},
   "outputs": [],
   "source": [
    "category = 'member of a dedicated group'\n",
    "results = count_diff(df, dedicated_research, country, category, order_index=True)\n",
    "results"
   ]
  },
  {
   "cell_type": "code",
   "execution_count": null,
   "metadata": {},
   "outputs": [],
   "source": [
    "plot_cat_comparison(results, country=country, category=category, order_index=True)"
   ]
  },
  {
   "cell_type": "markdown",
   "metadata": {},
   "source": [
    "### Number of projects"
   ]
  },
  {
   "cell_type": "code",
   "execution_count": null,
   "metadata": {},
   "outputs": [],
   "source": [
    "category = 'Number of software projects'\n",
    "results = count_diff(df, nbr_proj_soft, country, category, order_index=True)\n",
    "results"
   ]
  },
  {
   "cell_type": "code",
   "execution_count": null,
   "metadata": {},
   "outputs": [],
   "source": [
    "plot_cat_comparison(results, country=country, category=category, order_index=True)"
   ]
  },
  {
   "cell_type": "code",
   "execution_count": null,
   "metadata": {},
   "outputs": [],
   "source": [
    "category = 'Number of software developers per projects'\n",
    "results = count_diff(df, nbr_dev_proj, country, category, order_index=True)\n",
    "results"
   ]
  },
  {
   "cell_type": "code",
   "execution_count": null,
   "metadata": {},
   "outputs": [],
   "source": [
    "plot_cat_comparison(results, country=country, category=category, order_index=True)"
   ]
  },
  {
   "cell_type": "markdown",
   "metadata": {},
   "source": [
    "### Training"
   ]
  },
  {
   "cell_type": "code",
   "execution_count": null,
   "metadata": {},
   "outputs": [],
   "source": [
    "category = 'Number of time per year providing training'\n",
    "training_time = ['train2. On average, how many times a year do you take part in providing training?']\n",
    "#training_name\n",
    "results = describe_diff(df, training_time, country, category)\n",
    "results"
   ]
  },
  {
   "cell_type": "code",
   "execution_count": null,
   "metadata": {},
   "outputs": [],
   "source": [
    "plot_density_func(df, training_time, category, country)"
   ]
  },
  {
   "cell_type": "markdown",
   "metadata": {},
   "source": [
    "### Training name"
   ]
  },
  {
   "cell_type": "code",
   "execution_count": null,
   "metadata": {
    "scrolled": true
   },
   "outputs": [],
   "source": [
    "plot_wordcloud(df, training_name, country, category)"
   ]
  },
  {
   "cell_type": "markdown",
   "metadata": {},
   "source": [
    "## Netherlands"
   ]
  },
  {
   "cell_type": "code",
   "execution_count": null,
   "metadata": {
    "collapsed": true
   },
   "outputs": [],
   "source": [
    "country = 'Netherlands'"
   ]
  },
  {
   "cell_type": "markdown",
   "metadata": {},
   "source": [
    "### Developing code for others"
   ]
  },
  {
   "cell_type": "code",
   "execution_count": null,
   "metadata": {},
   "outputs": [],
   "source": [
    "category = 'developing code for others'\n",
    "results = count_diff(df, people_code, country, category, order_index=True)\n",
    "results"
   ]
  },
  {
   "cell_type": "code",
   "execution_count": null,
   "metadata": {
    "scrolled": false
   },
   "outputs": [],
   "source": [
    "plot_cat_comparison(results, country=country, category=category, order_index=True)"
   ]
  },
  {
   "cell_type": "markdown",
   "metadata": {},
   "source": [
    "### Working with same researchers"
   ]
  },
  {
   "cell_type": "code",
   "execution_count": null,
   "metadata": {},
   "outputs": [],
   "source": [
    "category = 'Working with same researchers'\n",
    "results = count_diff(df, same_researcher, country, category)\n",
    "results"
   ]
  },
  {
   "cell_type": "code",
   "execution_count": null,
   "metadata": {},
   "outputs": [],
   "source": [
    "plot_cat_comparison(results, country=country, category=category)"
   ]
  },
  {
   "cell_type": "markdown",
   "metadata": {},
   "source": [
    "### Part of dedicated group"
   ]
  },
  {
   "cell_type": "code",
   "execution_count": null,
   "metadata": {},
   "outputs": [],
   "source": [
    "category = 'member of a dedicated group'\n",
    "results = count_diff(df, dedicated_research, country, category, order_index=True)\n",
    "results"
   ]
  },
  {
   "cell_type": "code",
   "execution_count": null,
   "metadata": {},
   "outputs": [],
   "source": [
    "plot_cat_comparison(results, country=country, category=category, order_index=True)"
   ]
  },
  {
   "cell_type": "markdown",
   "metadata": {},
   "source": [
    "### Number of projects"
   ]
  },
  {
   "cell_type": "code",
   "execution_count": null,
   "metadata": {},
   "outputs": [],
   "source": [
    "category = 'Number of software projects'\n",
    "results = count_diff(df, nbr_proj_soft, country, category, order_index=True)\n",
    "results"
   ]
  },
  {
   "cell_type": "code",
   "execution_count": null,
   "metadata": {},
   "outputs": [],
   "source": [
    "plot_cat_comparison(results, country=country, category=category, order_index=True)"
   ]
  },
  {
   "cell_type": "code",
   "execution_count": null,
   "metadata": {},
   "outputs": [],
   "source": [
    "category = 'Number of software developers per projects'\n",
    "results = count_diff(df, nbr_dev_proj, country, category, order_index=True)\n",
    "results"
   ]
  },
  {
   "cell_type": "code",
   "execution_count": null,
   "metadata": {},
   "outputs": [],
   "source": [
    "plot_cat_comparison(results, country=country, category=category, order_index=True)"
   ]
  },
  {
   "cell_type": "markdown",
   "metadata": {},
   "source": [
    "### Training"
   ]
  },
  {
   "cell_type": "code",
   "execution_count": null,
   "metadata": {},
   "outputs": [],
   "source": [
    "category = 'Number of time per year providing training'\n",
    "training_time = ['train2. On average, how many times a year do you take part in providing training?']\n",
    "#training_name\n",
    "results = describe_diff(df, training_time, country, category)\n",
    "results"
   ]
  },
  {
   "cell_type": "code",
   "execution_count": null,
   "metadata": {},
   "outputs": [],
   "source": [
    "plot_density_func(df, training_time, category, country)"
   ]
  },
  {
   "cell_type": "markdown",
   "metadata": {},
   "source": [
    "### Training name"
   ]
  },
  {
   "cell_type": "code",
   "execution_count": null,
   "metadata": {},
   "outputs": [],
   "source": [
    "plot_wordcloud(df, training_name, country, category)"
   ]
  },
  {
   "cell_type": "markdown",
   "metadata": {},
   "source": [
    "## New Zealand"
   ]
  },
  {
   "cell_type": "code",
   "execution_count": null,
   "metadata": {
    "collapsed": true
   },
   "outputs": [],
   "source": [
    "country = 'New Zealand'"
   ]
  },
  {
   "cell_type": "markdown",
   "metadata": {},
   "source": [
    "### Developing code for others"
   ]
  },
  {
   "cell_type": "code",
   "execution_count": null,
   "metadata": {},
   "outputs": [],
   "source": [
    "category = 'developing code for others'\n",
    "results = count_diff(df, people_code, country, category, order_index=True)\n",
    "results"
   ]
  },
  {
   "cell_type": "code",
   "execution_count": null,
   "metadata": {
    "scrolled": true
   },
   "outputs": [],
   "source": [
    "plot_cat_comparison(results, country=country, category=category, order_index=True)"
   ]
  },
  {
   "cell_type": "markdown",
   "metadata": {},
   "source": [
    "### Working with same researchers"
   ]
  },
  {
   "cell_type": "code",
   "execution_count": null,
   "metadata": {},
   "outputs": [],
   "source": [
    "category = 'Working with same researchers'\n",
    "results = count_diff(df, same_researcher, country, category)\n",
    "results"
   ]
  },
  {
   "cell_type": "code",
   "execution_count": null,
   "metadata": {},
   "outputs": [],
   "source": [
    "plot_cat_comparison(results, country=country, category=category)"
   ]
  },
  {
   "cell_type": "markdown",
   "metadata": {},
   "source": [
    "### Part of dedicated group"
   ]
  },
  {
   "cell_type": "code",
   "execution_count": null,
   "metadata": {},
   "outputs": [],
   "source": [
    "category = 'member of a dedicated group'\n",
    "results = count_diff(df, dedicated_research, country, category, order_index=True)\n",
    "results"
   ]
  },
  {
   "cell_type": "code",
   "execution_count": null,
   "metadata": {},
   "outputs": [],
   "source": [
    "plot_cat_comparison(results, country=country, category=category, order_index=True)"
   ]
  },
  {
   "cell_type": "markdown",
   "metadata": {},
   "source": [
    "### Number of projects"
   ]
  },
  {
   "cell_type": "code",
   "execution_count": null,
   "metadata": {},
   "outputs": [],
   "source": [
    "category = 'Number of software projects'\n",
    "results = count_diff(df, nbr_proj_soft, country, category, order_index=True)\n",
    "results"
   ]
  },
  {
   "cell_type": "code",
   "execution_count": null,
   "metadata": {},
   "outputs": [],
   "source": [
    "plot_cat_comparison(results, country=country, category=category, order_index=True)"
   ]
  },
  {
   "cell_type": "code",
   "execution_count": null,
   "metadata": {},
   "outputs": [],
   "source": [
    "category = 'Number of software developers per projects'\n",
    "results = count_diff(df, nbr_dev_proj, country, category, order_index=True)\n",
    "results"
   ]
  },
  {
   "cell_type": "code",
   "execution_count": null,
   "metadata": {},
   "outputs": [],
   "source": [
    "plot_cat_comparison(results, country=country, category=category, order_index=True)"
   ]
  },
  {
   "cell_type": "markdown",
   "metadata": {},
   "source": [
    "### Training"
   ]
  },
  {
   "cell_type": "code",
   "execution_count": null,
   "metadata": {},
   "outputs": [],
   "source": [
    "category = 'Number of time per year providing training'\n",
    "training_time = ['train2. On average, how many times a year do you take part in providing training?']\n",
    "#training_name\n",
    "results = describe_diff(df, training_time, country, category)\n",
    "results"
   ]
  },
  {
   "cell_type": "code",
   "execution_count": null,
   "metadata": {},
   "outputs": [],
   "source": [
    "plot_density_func(df, training_time, category, country)"
   ]
  },
  {
   "cell_type": "markdown",
   "metadata": {},
   "source": [
    "### Training name"
   ]
  },
  {
   "cell_type": "code",
   "execution_count": null,
   "metadata": {},
   "outputs": [],
   "source": [
    "plot_wordcloud(df, training_name, country, category)"
   ]
  },
  {
   "cell_type": "markdown",
   "metadata": {},
   "source": [
    "## South Africa"
   ]
  },
  {
   "cell_type": "code",
   "execution_count": null,
   "metadata": {
    "collapsed": true
   },
   "outputs": [],
   "source": [
    "country = 'South Africa'"
   ]
  },
  {
   "cell_type": "markdown",
   "metadata": {},
   "source": [
    "### Developing code for others"
   ]
  },
  {
   "cell_type": "code",
   "execution_count": null,
   "metadata": {},
   "outputs": [],
   "source": [
    "category = 'developing code for others'\n",
    "results = count_diff(df, people_code, country, category, order_index=True)\n",
    "results"
   ]
  },
  {
   "cell_type": "code",
   "execution_count": null,
   "metadata": {
    "scrolled": true
   },
   "outputs": [],
   "source": [
    "plot_cat_comparison(results, country=country, category=category, order_index=True)"
   ]
  },
  {
   "cell_type": "markdown",
   "metadata": {},
   "source": [
    "### Working with same researchers"
   ]
  },
  {
   "cell_type": "code",
   "execution_count": null,
   "metadata": {},
   "outputs": [],
   "source": [
    "category = 'Working with same researchers'\n",
    "results = count_diff(df, same_researcher, country, category)\n",
    "results"
   ]
  },
  {
   "cell_type": "code",
   "execution_count": null,
   "metadata": {},
   "outputs": [],
   "source": [
    "plot_cat_comparison(results, country=country, category=category)"
   ]
  },
  {
   "cell_type": "markdown",
   "metadata": {},
   "source": [
    "### Part of dedicated group"
   ]
  },
  {
   "cell_type": "code",
   "execution_count": null,
   "metadata": {},
   "outputs": [],
   "source": [
    "category = 'member of a dedicated group'\n",
    "results = count_diff(df, dedicated_research, country, category, order_index=True)\n",
    "results"
   ]
  },
  {
   "cell_type": "code",
   "execution_count": null,
   "metadata": {},
   "outputs": [],
   "source": [
    "plot_cat_comparison(results, country=country, category=category, order_index=True)"
   ]
  },
  {
   "cell_type": "markdown",
   "metadata": {},
   "source": [
    "### Number of projects"
   ]
  },
  {
   "cell_type": "code",
   "execution_count": null,
   "metadata": {},
   "outputs": [],
   "source": [
    "category = 'Number of software projects'\n",
    "results = count_diff(df, nbr_proj_soft, country, category, order_index=True)\n",
    "results"
   ]
  },
  {
   "cell_type": "code",
   "execution_count": null,
   "metadata": {},
   "outputs": [],
   "source": [
    "plot_cat_comparison(results, country=country, category=category, order_index=True)"
   ]
  },
  {
   "cell_type": "code",
   "execution_count": null,
   "metadata": {},
   "outputs": [],
   "source": [
    "category = 'Number of software developers per projects'\n",
    "results = count_diff(df, nbr_dev_proj, country, category, order_index=True)\n",
    "results"
   ]
  },
  {
   "cell_type": "code",
   "execution_count": null,
   "metadata": {},
   "outputs": [],
   "source": [
    "plot_cat_comparison(results, country=country, category=category, order_index=True)"
   ]
  },
  {
   "cell_type": "markdown",
   "metadata": {},
   "source": [
    "### Training"
   ]
  },
  {
   "cell_type": "code",
   "execution_count": null,
   "metadata": {},
   "outputs": [],
   "source": [
    "category = 'Number of time per year providing training'\n",
    "training_time = ['train2. On average, how many times a year do you take part in providing training?']\n",
    "#training_name\n",
    "results = describe_diff(df, training_time, country, category)\n",
    "results"
   ]
  },
  {
   "cell_type": "code",
   "execution_count": null,
   "metadata": {},
   "outputs": [],
   "source": [
    "plot_density_func(df, training_time, category, country)"
   ]
  },
  {
   "cell_type": "markdown",
   "metadata": {},
   "source": [
    "### Training name"
   ]
  },
  {
   "cell_type": "code",
   "execution_count": null,
   "metadata": {},
   "outputs": [],
   "source": [
    "plot_wordcloud(df, training_name, country, category)"
   ]
  },
  {
   "cell_type": "markdown",
   "metadata": {},
   "source": [
    "## United Kingdom"
   ]
  },
  {
   "cell_type": "code",
   "execution_count": null,
   "metadata": {
    "collapsed": true
   },
   "outputs": [],
   "source": [
    "country = 'United Kingdom'"
   ]
  },
  {
   "cell_type": "markdown",
   "metadata": {},
   "source": [
    "### Developing code for others"
   ]
  },
  {
   "cell_type": "code",
   "execution_count": null,
   "metadata": {},
   "outputs": [],
   "source": [
    "category = 'developing code for others'\n",
    "results = count_diff(df, people_code, country, category, order_index=True)\n",
    "results"
   ]
  },
  {
   "cell_type": "code",
   "execution_count": null,
   "metadata": {
    "scrolled": true
   },
   "outputs": [],
   "source": [
    "plot_cat_comparison(results, country=country, category=category, order_index=True)"
   ]
  },
  {
   "cell_type": "markdown",
   "metadata": {},
   "source": [
    "### Working with same researchers"
   ]
  },
  {
   "cell_type": "code",
   "execution_count": null,
   "metadata": {},
   "outputs": [],
   "source": [
    "category = 'Working with same researchers'\n",
    "results = count_diff(df, same_researcher, country, category)\n",
    "results"
   ]
  },
  {
   "cell_type": "code",
   "execution_count": null,
   "metadata": {},
   "outputs": [],
   "source": [
    "plot_cat_comparison(results, country=country, category=category)"
   ]
  },
  {
   "cell_type": "markdown",
   "metadata": {},
   "source": [
    "### Part of dedicated group"
   ]
  },
  {
   "cell_type": "code",
   "execution_count": null,
   "metadata": {},
   "outputs": [],
   "source": [
    "category = 'member of a dedicated group'\n",
    "results = count_diff(df, dedicated_research, country, category, order_index=True)\n",
    "results"
   ]
  },
  {
   "cell_type": "code",
   "execution_count": null,
   "metadata": {},
   "outputs": [],
   "source": [
    "plot_cat_comparison(results, country=country, category=category, order_index=True)"
   ]
  },
  {
   "cell_type": "markdown",
   "metadata": {},
   "source": [
    "### Number of projects"
   ]
  },
  {
   "cell_type": "code",
   "execution_count": null,
   "metadata": {},
   "outputs": [],
   "source": [
    "category = 'Number of software projects'\n",
    "results = count_diff(df, nbr_proj_soft, country, category, order_index=True)\n",
    "results"
   ]
  },
  {
   "cell_type": "code",
   "execution_count": null,
   "metadata": {},
   "outputs": [],
   "source": [
    "plot_cat_comparison(results, country=country, category=category, order_index=True)"
   ]
  },
  {
   "cell_type": "code",
   "execution_count": null,
   "metadata": {},
   "outputs": [],
   "source": [
    "category = 'Number of software developers per projects'\n",
    "results = count_diff(df, nbr_dev_proj, country, category, order_index=True)\n",
    "results"
   ]
  },
  {
   "cell_type": "code",
   "execution_count": null,
   "metadata": {},
   "outputs": [],
   "source": [
    "plot_cat_comparison(results, country=country, category=category, order_index=True)"
   ]
  },
  {
   "cell_type": "markdown",
   "metadata": {},
   "source": [
    "### Training"
   ]
  },
  {
   "cell_type": "code",
   "execution_count": null,
   "metadata": {},
   "outputs": [],
   "source": [
    "category = 'Number of time per year providing training'\n",
    "training_time = ['train2. On average, how many times a year do you take part in providing training?']\n",
    "#training_name\n",
    "results = describe_diff(df, training_time, country, category)\n",
    "results"
   ]
  },
  {
   "cell_type": "code",
   "execution_count": null,
   "metadata": {},
   "outputs": [],
   "source": [
    "plot_density_func(df, training_time, category, country)"
   ]
  },
  {
   "cell_type": "markdown",
   "metadata": {},
   "source": [
    "### Training name"
   ]
  },
  {
   "cell_type": "code",
   "execution_count": null,
   "metadata": {},
   "outputs": [],
   "source": [
    "plot_wordcloud(df, training_name, country, category)"
   ]
  },
  {
   "cell_type": "markdown",
   "metadata": {},
   "source": [
    "## United States"
   ]
  },
  {
   "cell_type": "code",
   "execution_count": null,
   "metadata": {
    "collapsed": true
   },
   "outputs": [],
   "source": [
    "country = 'United States'"
   ]
  },
  {
   "cell_type": "markdown",
   "metadata": {},
   "source": [
    "### Developing code for others"
   ]
  },
  {
   "cell_type": "code",
   "execution_count": null,
   "metadata": {},
   "outputs": [],
   "source": [
    "category = 'developing code for others'\n",
    "results = count_diff(df, people_code, country, category, order_index=True)\n",
    "results"
   ]
  },
  {
   "cell_type": "code",
   "execution_count": null,
   "metadata": {
    "scrolled": true
   },
   "outputs": [],
   "source": [
    "plot_cat_comparison(results, country=country, category=category, order_index=True)"
   ]
  },
  {
   "cell_type": "markdown",
   "metadata": {},
   "source": [
    "### Working with same researchers"
   ]
  },
  {
   "cell_type": "code",
   "execution_count": null,
   "metadata": {},
   "outputs": [],
   "source": [
    "category = 'Working with same researchers'\n",
    "results = count_diff(df, same_researcher, country, category)\n",
    "results"
   ]
  },
  {
   "cell_type": "code",
   "execution_count": null,
   "metadata": {},
   "outputs": [],
   "source": [
    "plot_cat_comparison(results, country=country, category=category)"
   ]
  },
  {
   "cell_type": "markdown",
   "metadata": {},
   "source": [
    "### Part of dedicated group"
   ]
  },
  {
   "cell_type": "code",
   "execution_count": null,
   "metadata": {},
   "outputs": [],
   "source": [
    "category = 'member of a dedicated group'\n",
    "results = count_diff(df, dedicated_research, country, category, order_index=True)\n",
    "results"
   ]
  },
  {
   "cell_type": "code",
   "execution_count": null,
   "metadata": {},
   "outputs": [],
   "source": [
    "plot_cat_comparison(results, country=country, category=category, order_index=True)"
   ]
  },
  {
   "cell_type": "markdown",
   "metadata": {},
   "source": [
    "### Number of projects"
   ]
  },
  {
   "cell_type": "code",
   "execution_count": null,
   "metadata": {},
   "outputs": [],
   "source": [
    "category = 'Number of software projects'\n",
    "results = count_diff(df, nbr_proj_soft, country, category, order_index=True)\n",
    "results"
   ]
  },
  {
   "cell_type": "code",
   "execution_count": null,
   "metadata": {},
   "outputs": [],
   "source": [
    "plot_cat_comparison(results, country=country, category=category, order_index=True)"
   ]
  },
  {
   "cell_type": "code",
   "execution_count": null,
   "metadata": {},
   "outputs": [],
   "source": [
    "category = 'Number of software developers per projects'\n",
    "results = count_diff(df, nbr_dev_proj, country, category, order_index=True)\n",
    "results"
   ]
  },
  {
   "cell_type": "code",
   "execution_count": null,
   "metadata": {},
   "outputs": [],
   "source": [
    "plot_cat_comparison(results, country=country, category=category, order_index=True)"
   ]
  },
  {
   "cell_type": "markdown",
   "metadata": {},
   "source": [
    "### Training"
   ]
  },
  {
   "cell_type": "code",
   "execution_count": null,
   "metadata": {},
   "outputs": [],
   "source": [
    "category = 'Number of time per year providing training'\n",
    "training_time = ['train2. On average, how many times a year do you take part in providing training?']\n",
    "#training_name\n",
    "results = describe_diff(df, training_time, country, category)\n",
    "results"
   ]
  },
  {
   "cell_type": "code",
   "execution_count": null,
   "metadata": {},
   "outputs": [],
   "source": [
    "plot_density_func(df, training_time, category, country)"
   ]
  },
  {
   "cell_type": "markdown",
   "metadata": {},
   "source": [
    "### Training name"
   ]
  },
  {
   "cell_type": "code",
   "execution_count": null,
   "metadata": {},
   "outputs": [],
   "source": [
    "plot_wordcloud(df, training_name, country, category)"
   ]
  },
  {
   "cell_type": "markdown",
   "metadata": {},
   "source": [
    "## Rest of the world"
   ]
  },
  {
   "cell_type": "code",
   "execution_count": null,
   "metadata": {
    "collapsed": true
   },
   "outputs": [],
   "source": [
    "country = 'World'"
   ]
  },
  {
   "cell_type": "markdown",
   "metadata": {},
   "source": [
    "### Developing code for others"
   ]
  },
  {
   "cell_type": "code",
   "execution_count": null,
   "metadata": {},
   "outputs": [],
   "source": [
    "category = 'developing code for others'\n",
    "results = count_diff(df, people_code, country, category, order_index=True)\n",
    "results"
   ]
  },
  {
   "cell_type": "code",
   "execution_count": null,
   "metadata": {
    "scrolled": true
   },
   "outputs": [],
   "source": [
    "plot_cat_comparison(results, country=country, category=category, order_index=True)"
   ]
  },
  {
   "cell_type": "markdown",
   "metadata": {},
   "source": [
    "### Part of dedicated group"
   ]
  },
  {
   "cell_type": "code",
   "execution_count": null,
   "metadata": {},
   "outputs": [],
   "source": [
    "category = 'member of a dedicated group'\n",
    "results = count_diff(df, dedicated_research, country, category, order_index=True)\n",
    "results"
   ]
  },
  {
   "cell_type": "code",
   "execution_count": null,
   "metadata": {},
   "outputs": [],
   "source": [
    "plot_cat_comparison(results, country=country, category=category, order_index=True)"
   ]
  },
  {
   "cell_type": "markdown",
   "metadata": {},
   "source": [
    "### Working with same researchers"
   ]
  },
  {
   "cell_type": "code",
   "execution_count": null,
   "metadata": {},
   "outputs": [],
   "source": [
    "category = 'Working with same researchers'\n",
    "results = count_diff(df, same_researcher, country, category)\n",
    "results"
   ]
  },
  {
   "cell_type": "code",
   "execution_count": null,
   "metadata": {},
   "outputs": [],
   "source": [
    "plot_cat_comparison(results, country=country, category=category)"
   ]
  },
  {
   "cell_type": "markdown",
   "metadata": {},
   "source": [
    "### Number of projects"
   ]
  },
  {
   "cell_type": "code",
   "execution_count": null,
   "metadata": {},
   "outputs": [],
   "source": [
    "category = 'Number of software projects'\n",
    "results = count_diff(df, nbr_proj_soft, country, category, order_index=True)\n",
    "results"
   ]
  },
  {
   "cell_type": "code",
   "execution_count": null,
   "metadata": {},
   "outputs": [],
   "source": [
    "plot_cat_comparison(results, country=country, category=category, order_index=True)"
   ]
  },
  {
   "cell_type": "code",
   "execution_count": null,
   "metadata": {},
   "outputs": [],
   "source": [
    "category = 'Number of software developers per projects'\n",
    "results = count_diff(df, nbr_dev_proj, country, category, order_index=True)\n",
    "results"
   ]
  },
  {
   "cell_type": "code",
   "execution_count": null,
   "metadata": {},
   "outputs": [],
   "source": [
    "plot_cat_comparison(results, country=country, category=category, order_index=True)"
   ]
  },
  {
   "cell_type": "markdown",
   "metadata": {},
   "source": [
    "### Training"
   ]
  },
  {
   "cell_type": "code",
   "execution_count": null,
   "metadata": {},
   "outputs": [],
   "source": [
    "category = 'Number of time per year providing training'\n",
    "training_time = ['train2. On average, how many times a year do you take part in providing training?']\n",
    "#training_name\n",
    "results = describe_diff(df, training_time, country, category)\n",
    "results"
   ]
  },
  {
   "cell_type": "code",
   "execution_count": null,
   "metadata": {},
   "outputs": [],
   "source": [
    "plot_density_func(df, training_time, category, country)"
   ]
  },
  {
   "cell_type": "markdown",
   "metadata": {},
   "source": [
    "### Training name"
   ]
  },
  {
   "cell_type": "code",
   "execution_count": null,
   "metadata": {},
   "outputs": [],
   "source": [
    "plot_wordcloud(df, training_name, country, category)"
   ]
  },
  {
   "cell_type": "markdown",
   "metadata": {},
   "source": [
    "# Publications and citations"
   ]
  },
  {
   "cell_type": "code",
   "execution_count": null,
   "metadata": {
    "collapsed": true
   },
   "outputs": [],
   "source": [
    "paper = ['paper2mod. In general, when your software contributes to a paper, are you acknowledged in that paper?']\n",
    "order_paper = ['Not mentioned at all', 'Acknowledged in the main text', 'Acknowledged in acknowledgements section', 'Named as co-author', 'Named as main author']\n",
    "\n",
    "conf1 = ['conf1can. Have you presented your software work at a conference or workshop?']\n",
    "\n",
    "conf2 = ['conf2can. At which conference(s)/workshop(s) have you presented your software work?']"
   ]
  },
  {
   "cell_type": "markdown",
   "metadata": {},
   "source": [
    "## Australia"
   ]
  },
  {
   "cell_type": "code",
   "execution_count": null,
   "metadata": {
    "collapsed": true
   },
   "outputs": [],
   "source": [
    "country = 'Australia'"
   ]
  },
  {
   "cell_type": "markdown",
   "metadata": {},
   "source": [
    "### Acknowledgment in paper"
   ]
  },
  {
   "cell_type": "code",
   "execution_count": null,
   "metadata": {},
   "outputs": [],
   "source": [
    "category = 'Acknowledgment in paper'\n",
    "results = count_diff(df, paper, country, category, order_index=order_paper)\n",
    "results"
   ]
  },
  {
   "cell_type": "code",
   "execution_count": null,
   "metadata": {},
   "outputs": [],
   "source": [
    "plot_cat_comparison(results, country=country, category=category, order_index=order_paper)"
   ]
  },
  {
   "cell_type": "markdown",
   "metadata": {},
   "source": [
    "### Participation to conferences"
   ]
  },
  {
   "cell_type": "code",
   "execution_count": null,
   "metadata": {},
   "outputs": [],
   "source": [
    "category = 'Did you participate to conference'\n",
    "results = count_diff(df, conf1, country, category, y_n=True)\n",
    "results"
   ]
  },
  {
   "cell_type": "code",
   "execution_count": null,
   "metadata": {},
   "outputs": [],
   "source": [
    "plot_cat_comparison(results, country=country, category=category)"
   ]
  },
  {
   "cell_type": "markdown",
   "metadata": {},
   "source": [
    "### Conference name"
   ]
  },
  {
   "cell_type": "code",
   "execution_count": null,
   "metadata": {},
   "outputs": [],
   "source": [
    "plot_wordcloud(df, conf2, country, category)"
   ]
  },
  {
   "cell_type": "markdown",
   "metadata": {},
   "source": [
    "## Germany"
   ]
  },
  {
   "cell_type": "code",
   "execution_count": null,
   "metadata": {
    "collapsed": true
   },
   "outputs": [],
   "source": [
    "country = 'Germany'"
   ]
  },
  {
   "cell_type": "markdown",
   "metadata": {},
   "source": [
    "### Acknowledgment in paper"
   ]
  },
  {
   "cell_type": "code",
   "execution_count": null,
   "metadata": {},
   "outputs": [],
   "source": [
    "category = 'Acknowledgment in paper'\n",
    "results = count_diff(df, paper, country, category, order_index=order_paper)\n",
    "results"
   ]
  },
  {
   "cell_type": "code",
   "execution_count": null,
   "metadata": {},
   "outputs": [],
   "source": [
    "plot_cat_comparison(results, country=country, category=category, order_index=order_paper)"
   ]
  },
  {
   "cell_type": "markdown",
   "metadata": {},
   "source": [
    "### Participation to conferences"
   ]
  },
  {
   "cell_type": "code",
   "execution_count": null,
   "metadata": {},
   "outputs": [],
   "source": [
    "category = 'Did you participate to conference'\n",
    "results = count_diff(df, conf1, country, category, y_n=True)\n",
    "results"
   ]
  },
  {
   "cell_type": "code",
   "execution_count": null,
   "metadata": {},
   "outputs": [],
   "source": [
    "plot_cat_comparison(results, country=country, category=category)"
   ]
  },
  {
   "cell_type": "markdown",
   "metadata": {},
   "source": [
    "### Conference name"
   ]
  },
  {
   "cell_type": "code",
   "execution_count": null,
   "metadata": {},
   "outputs": [],
   "source": [
    "plot_wordcloud(df, conf2, country, category)"
   ]
  },
  {
   "cell_type": "markdown",
   "metadata": {},
   "source": [
    "## Netherlands"
   ]
  },
  {
   "cell_type": "code",
   "execution_count": null,
   "metadata": {
    "collapsed": true
   },
   "outputs": [],
   "source": [
    "country = 'Netherlands'"
   ]
  },
  {
   "cell_type": "markdown",
   "metadata": {},
   "source": [
    "### Acknowledgment in paper"
   ]
  },
  {
   "cell_type": "code",
   "execution_count": null,
   "metadata": {},
   "outputs": [],
   "source": [
    "category = 'Acknowledgment in paper'\n",
    "results = count_diff(df, paper, country, category, order_index=order_paper)\n",
    "results"
   ]
  },
  {
   "cell_type": "code",
   "execution_count": null,
   "metadata": {},
   "outputs": [],
   "source": [
    "plot_cat_comparison(results, country=country, category=category, order_index=order_paper)"
   ]
  },
  {
   "cell_type": "markdown",
   "metadata": {},
   "source": [
    "### Participation to conferences"
   ]
  },
  {
   "cell_type": "code",
   "execution_count": null,
   "metadata": {},
   "outputs": [],
   "source": [
    "category = 'Did you participate to conference'\n",
    "results = count_diff(df, conf1, country, category, y_n=True)\n",
    "results"
   ]
  },
  {
   "cell_type": "code",
   "execution_count": null,
   "metadata": {},
   "outputs": [],
   "source": [
    "plot_cat_comparison(results, country=country, category=category)"
   ]
  },
  {
   "cell_type": "markdown",
   "metadata": {},
   "source": [
    "### Conference name"
   ]
  },
  {
   "cell_type": "code",
   "execution_count": null,
   "metadata": {},
   "outputs": [],
   "source": [
    "plot_wordcloud(df, conf2, country, category)"
   ]
  },
  {
   "cell_type": "markdown",
   "metadata": {},
   "source": [
    "## New Zealand"
   ]
  },
  {
   "cell_type": "code",
   "execution_count": null,
   "metadata": {
    "collapsed": true
   },
   "outputs": [],
   "source": [
    "country = 'New Zealand'"
   ]
  },
  {
   "cell_type": "markdown",
   "metadata": {},
   "source": [
    "### Acknowledgment in paper"
   ]
  },
  {
   "cell_type": "code",
   "execution_count": null,
   "metadata": {},
   "outputs": [],
   "source": [
    "category = 'Acknowledgment in paper'\n",
    "results = count_diff(df, paper, country, category, order_index=order_paper)\n",
    "results"
   ]
  },
  {
   "cell_type": "code",
   "execution_count": null,
   "metadata": {},
   "outputs": [],
   "source": [
    "plot_cat_comparison(results, country=country, category=category, order_index=order_paper)"
   ]
  },
  {
   "cell_type": "markdown",
   "metadata": {},
   "source": [
    "### Participation to conferences"
   ]
  },
  {
   "cell_type": "code",
   "execution_count": null,
   "metadata": {},
   "outputs": [],
   "source": [
    "category = 'Did you participate to conference'\n",
    "results = count_diff(df, conf1, country, category, y_n=True)\n",
    "results"
   ]
  },
  {
   "cell_type": "code",
   "execution_count": null,
   "metadata": {},
   "outputs": [],
   "source": [
    "plot_cat_comparison(results, country=country, category=category)"
   ]
  },
  {
   "cell_type": "markdown",
   "metadata": {},
   "source": [
    "### Conference name"
   ]
  },
  {
   "cell_type": "code",
   "execution_count": null,
   "metadata": {},
   "outputs": [],
   "source": [
    "plot_wordcloud(df, conf2, country, category)"
   ]
  },
  {
   "cell_type": "markdown",
   "metadata": {},
   "source": [
    "## South Africa"
   ]
  },
  {
   "cell_type": "code",
   "execution_count": null,
   "metadata": {
    "collapsed": true
   },
   "outputs": [],
   "source": [
    "country = 'South Africa'"
   ]
  },
  {
   "cell_type": "markdown",
   "metadata": {},
   "source": [
    "### Acknowledgment in paper"
   ]
  },
  {
   "cell_type": "code",
   "execution_count": null,
   "metadata": {},
   "outputs": [],
   "source": [
    "category = 'Acknowledgment in paper'\n",
    "results = count_diff(df, paper, country, category, order_index=order_paper)\n",
    "results"
   ]
  },
  {
   "cell_type": "code",
   "execution_count": null,
   "metadata": {},
   "outputs": [],
   "source": [
    "plot_cat_comparison(results, country=country, category=category, order_index=order_paper)"
   ]
  },
  {
   "cell_type": "markdown",
   "metadata": {},
   "source": [
    "### Participation to conferences"
   ]
  },
  {
   "cell_type": "code",
   "execution_count": null,
   "metadata": {},
   "outputs": [],
   "source": [
    "category = 'Did you participate to conference'\n",
    "results = count_diff(df, conf1, country, category, y_n=True)\n",
    "results"
   ]
  },
  {
   "cell_type": "code",
   "execution_count": null,
   "metadata": {},
   "outputs": [],
   "source": [
    "plot_cat_comparison(results, country=country, category=category)"
   ]
  },
  {
   "cell_type": "markdown",
   "metadata": {},
   "source": [
    "### Conference name"
   ]
  },
  {
   "cell_type": "code",
   "execution_count": null,
   "metadata": {},
   "outputs": [],
   "source": [
    "plot_wordcloud(df, conf2, country, category)"
   ]
  },
  {
   "cell_type": "markdown",
   "metadata": {},
   "source": [
    "## United Kingdom"
   ]
  },
  {
   "cell_type": "code",
   "execution_count": null,
   "metadata": {
    "collapsed": true
   },
   "outputs": [],
   "source": [
    "country = 'United Kingdom'"
   ]
  },
  {
   "cell_type": "markdown",
   "metadata": {},
   "source": [
    "### Acknowledgment in paper"
   ]
  },
  {
   "cell_type": "code",
   "execution_count": null,
   "metadata": {},
   "outputs": [],
   "source": [
    "category = 'Acknowledgment in paper'\n",
    "results = count_diff(df, paper, country, category, order_index=order_paper)\n",
    "results"
   ]
  },
  {
   "cell_type": "code",
   "execution_count": null,
   "metadata": {},
   "outputs": [],
   "source": [
    "plot_cat_comparison(results, country=country, category=category, order_index=order_paper)"
   ]
  },
  {
   "cell_type": "markdown",
   "metadata": {},
   "source": [
    "### Participation to conferences"
   ]
  },
  {
   "cell_type": "code",
   "execution_count": null,
   "metadata": {},
   "outputs": [],
   "source": [
    "category = 'Did you participate to conference'\n",
    "results = count_diff(df, conf1, country, category, y_n=True)\n",
    "results"
   ]
  },
  {
   "cell_type": "code",
   "execution_count": null,
   "metadata": {},
   "outputs": [],
   "source": [
    "plot_cat_comparison(results, country=country, category=category)"
   ]
  },
  {
   "cell_type": "markdown",
   "metadata": {},
   "source": [
    "### Conference name"
   ]
  },
  {
   "cell_type": "code",
   "execution_count": null,
   "metadata": {},
   "outputs": [],
   "source": [
    "plot_wordcloud(df, conf2, country, category)"
   ]
  },
  {
   "cell_type": "markdown",
   "metadata": {},
   "source": [
    "## United States"
   ]
  },
  {
   "cell_type": "code",
   "execution_count": null,
   "metadata": {
    "collapsed": true
   },
   "outputs": [],
   "source": [
    "country = 'United States'"
   ]
  },
  {
   "cell_type": "markdown",
   "metadata": {},
   "source": [
    "### Acknowledgment in paper"
   ]
  },
  {
   "cell_type": "code",
   "execution_count": null,
   "metadata": {},
   "outputs": [],
   "source": [
    "category = 'Acknowledgment in paper'\n",
    "results = count_diff(df, paper, country, category, order_index=order_paper)\n",
    "results"
   ]
  },
  {
   "cell_type": "code",
   "execution_count": null,
   "metadata": {},
   "outputs": [],
   "source": [
    "plot_cat_comparison(results, country=country, category=category, order_index=order_paper)"
   ]
  },
  {
   "cell_type": "markdown",
   "metadata": {},
   "source": [
    "### Participation to conferences"
   ]
  },
  {
   "cell_type": "code",
   "execution_count": null,
   "metadata": {},
   "outputs": [],
   "source": [
    "category = 'Did you participate to conference'\n",
    "results = count_diff(df, conf1, country, category, y_n=True)\n",
    "results"
   ]
  },
  {
   "cell_type": "code",
   "execution_count": null,
   "metadata": {},
   "outputs": [],
   "source": [
    "plot_cat_comparison(results, country=country, category=category)"
   ]
  },
  {
   "cell_type": "markdown",
   "metadata": {},
   "source": [
    "### Conference name"
   ]
  },
  {
   "cell_type": "code",
   "execution_count": null,
   "metadata": {},
   "outputs": [],
   "source": [
    "plot_wordcloud(df, conf2, country, category)"
   ]
  },
  {
   "cell_type": "markdown",
   "metadata": {},
   "source": [
    "## Rest of the world"
   ]
  },
  {
   "cell_type": "code",
   "execution_count": null,
   "metadata": {
    "collapsed": true
   },
   "outputs": [],
   "source": [
    "country = 'World'"
   ]
  },
  {
   "cell_type": "markdown",
   "metadata": {},
   "source": [
    "### Acknowledgment in paper"
   ]
  },
  {
   "cell_type": "code",
   "execution_count": null,
   "metadata": {},
   "outputs": [],
   "source": [
    "category = 'Acknowledgment in paper'\n",
    "results = count_diff(df, paper, country, category, order_index=order_paper)\n",
    "results"
   ]
  },
  {
   "cell_type": "code",
   "execution_count": null,
   "metadata": {},
   "outputs": [],
   "source": [
    "plot_cat_comparison(results, country=country, category=category, order_index=order_paper)"
   ]
  },
  {
   "cell_type": "markdown",
   "metadata": {},
   "source": [
    "### Participation to conferences"
   ]
  },
  {
   "cell_type": "code",
   "execution_count": null,
   "metadata": {},
   "outputs": [],
   "source": [
    "category = 'Did you participate to conference'\n",
    "results = count_diff(df, conf1, country, category, y_n=True)\n",
    "results"
   ]
  },
  {
   "cell_type": "code",
   "execution_count": null,
   "metadata": {},
   "outputs": [],
   "source": [
    "plot_cat_comparison(results, country=country, category=category)"
   ]
  },
  {
   "cell_type": "markdown",
   "metadata": {},
   "source": [
    "### Conference name"
   ]
  },
  {
   "cell_type": "code",
   "execution_count": null,
   "metadata": {},
   "outputs": [],
   "source": [
    "plot_wordcloud(df, conf2, country, category)"
   ]
  },
  {
   "cell_type": "markdown",
   "metadata": {},
   "source": [
    "# Good practices, open source and tools"
   ]
  },
  {
   "cell_type": "code",
   "execution_count": null,
   "metadata": {
    "collapsed": true
   },
   "outputs": [],
   "source": [
    "# Good practices\n",
    "bus_factor = ['stability1. What is the bus factor of your most important software project? (The bus factor designates the minimal number of developers that have to be hit by a bus (or quit) before a project is incapacitated)']\n",
    "\n",
    "transition_plan = ['stability2. Do the projects you work on typically have a plan to cope with developers leaving the group?']\n",
    "\n",
    "version_control = [x for x in df.columns if x[:8] == 'proj5zaf']\n",
    "\n",
    "testing = [x for x in df.columns if x[:8] == 'proj4can']\n",
    "order_testing = ['No formal testing', 'No formal testing but users provide feedback', 'The developers do their own testing', 'Test engineers conduct testing']\n",
    "\n",
    "repo_tool = ['proj6zaf. Which online collaboration tools and open repositories do you use for software development?']\n",
    "\n",
    "# Open source and DOI\n",
    "open_use = ['open1can. How often do you use an open-source licence for your software?']\n",
    "order_open = ['1 (None at all)', '2', '3', '4', '5', '6', '7', '8', '9', '10 (All the time)']\n",
    "\n",
    "\n",
    "ref_soft = ['open2de. How often do you reference software directly or the papers describing the software?']\n",
    "\n",
    "doi = ['open3can. How often do you associate your software with a Digital Object Identifier (DOI)?']\n",
    "\n",
    "doi_tools = ['open3de. Which tools do you use to mint a DOI (e.g. local library, Zenodo)?']\n",
    "\n",
    "orcid = ['open1de. Do you have an ORCID ID?']\n",
    "\n",
    "# Tools and languages\n",
    "os = ['tool2. Which operating system do you primarily use for development?']\n",
    "\n",
    "prog_lang = [x for x in df.columns if x[:8] == 'tool4can']\n",
    "\n",
    "\n"
   ]
  },
  {
   "cell_type": "markdown",
   "metadata": {},
   "source": [
    "## Australia"
   ]
  },
  {
   "cell_type": "code",
   "execution_count": null,
   "metadata": {
    "collapsed": true
   },
   "outputs": [],
   "source": [
    "country = 'Australia'"
   ]
  },
  {
   "cell_type": "markdown",
   "metadata": {},
   "source": [
    "### Good practices"
   ]
  },
  {
   "cell_type": "markdown",
   "metadata": {},
   "source": [
    "#### Bus Factor"
   ]
  },
  {
   "cell_type": "code",
   "execution_count": null,
   "metadata": {},
   "outputs": [],
   "source": [
    "category = 'Bus Factor'\n",
    "results = count_diff(df, bus_factor, country, category, order_index=True)\n",
    "results"
   ]
  },
  {
   "cell_type": "code",
   "execution_count": null,
   "metadata": {},
   "outputs": [],
   "source": [
    "plot_cat_comparison(results, country=country, category=category, order_index=True)"
   ]
  },
  {
   "cell_type": "markdown",
   "metadata": {},
   "source": [
    "#### Transition plan"
   ]
  },
  {
   "cell_type": "code",
   "execution_count": null,
   "metadata": {},
   "outputs": [],
   "source": [
    "category = 'Presence of a transition plan'\n",
    "results = count_diff(df, transition_plan, country, category, y_n=True)\n",
    "results"
   ]
  },
  {
   "cell_type": "code",
   "execution_count": null,
   "metadata": {},
   "outputs": [],
   "source": [
    "plot_cat_comparison(results, country=country, category=category)"
   ]
  },
  {
   "cell_type": "markdown",
   "metadata": {},
   "source": [
    "#### Version control"
   ]
  },
  {
   "cell_type": "code",
   "execution_count": null,
   "metadata": {},
   "outputs": [],
   "source": [
    "category = 'Use of version control'\n",
    "results = count_diff(df, version_control, country, category, multi_choice=True)\n",
    "results"
   ]
  },
  {
   "cell_type": "code",
   "execution_count": null,
   "metadata": {},
   "outputs": [],
   "source": [
    "plot_cat_comparison(results, country=country, category=category)"
   ]
  },
  {
   "cell_type": "markdown",
   "metadata": {},
   "source": [
    "#### Testing"
   ]
  },
  {
   "cell_type": "code",
   "execution_count": null,
   "metadata": {},
   "outputs": [],
   "source": [
    "category = 'Testing strategies'\n",
    "results = count_diff(df, testing, country, category, multi_choice=True, order_index=order_testing)\n",
    "results"
   ]
  },
  {
   "cell_type": "code",
   "execution_count": null,
   "metadata": {},
   "outputs": [],
   "source": [
    "plot_cat_comparison(results, country=country, category=category, order_index=order_testing)"
   ]
  },
  {
   "cell_type": "markdown",
   "metadata": {},
   "source": [
    "#### Repository "
   ]
  },
  {
   "cell_type": "code",
   "execution_count": null,
   "metadata": {},
   "outputs": [],
   "source": [
    "plot_wordcloud(df, repo_tool, country, category)"
   ]
  },
  {
   "cell_type": "markdown",
   "metadata": {},
   "source": [
    "### Open source and DOI"
   ]
  },
  {
   "cell_type": "markdown",
   "metadata": {},
   "source": [
    "#### Open source use"
   ]
  },
  {
   "cell_type": "code",
   "execution_count": null,
   "metadata": {},
   "outputs": [],
   "source": [
    "category = 'Open source use'\n",
    "results = count_diff(df, open_use, country, category, order_index=order_open)\n",
    "results"
   ]
  },
  {
   "cell_type": "code",
   "execution_count": null,
   "metadata": {},
   "outputs": [],
   "source": [
    "plot_cat_comparison(results, country=country, category=category, order_index=order_open)"
   ]
  },
  {
   "cell_type": "markdown",
   "metadata": {},
   "source": [
    "#### Referencing software"
   ]
  },
  {
   "cell_type": "code",
   "execution_count": null,
   "metadata": {},
   "outputs": [],
   "source": [
    "category = 'Citation of software'\n",
    "results = count_diff(df, ref_soft, country, category, order_index=order_open)\n",
    "results"
   ]
  },
  {
   "cell_type": "code",
   "execution_count": null,
   "metadata": {},
   "outputs": [],
   "source": [
    "plot_cat_comparison(results, country=country, category=category, order_index=order_open)"
   ]
  },
  {
   "cell_type": "markdown",
   "metadata": {},
   "source": [
    "#### Use of Digital Object Identifier (DOI)"
   ]
  },
  {
   "cell_type": "code",
   "execution_count": null,
   "metadata": {},
   "outputs": [],
   "source": [
    "category = 'Use of Digital Object Identifier'\n",
    "results = count_diff(df, doi, country, category, order_index=order_open)\n",
    "results"
   ]
  },
  {
   "cell_type": "code",
   "execution_count": null,
   "metadata": {},
   "outputs": [],
   "source": [
    "plot_cat_comparison(results, country=country, category=category, order_index=order_open)"
   ]
  },
  {
   "cell_type": "markdown",
   "metadata": {},
   "source": [
    "#### Tools used for DOI"
   ]
  },
  {
   "cell_type": "code",
   "execution_count": null,
   "metadata": {},
   "outputs": [],
   "source": [
    "category = 'Which tool is used for Digital Object Identifier'\n",
    "plot_wordcloud(df, doi_tools, country, category)"
   ]
  },
  {
   "cell_type": "markdown",
   "metadata": {},
   "source": [
    "#### ORCID"
   ]
  },
  {
   "cell_type": "code",
   "execution_count": null,
   "metadata": {},
   "outputs": [],
   "source": [
    "category = 'Using ORCID'\n",
    "results = count_diff(df, orcid, country, category, y_n=True)\n",
    "results"
   ]
  },
  {
   "cell_type": "code",
   "execution_count": null,
   "metadata": {},
   "outputs": [],
   "source": [
    "plot_cat_comparison(results, country=country, category=category)"
   ]
  },
  {
   "cell_type": "markdown",
   "metadata": {},
   "source": [
    "### Tools and programing languages"
   ]
  },
  {
   "cell_type": "markdown",
   "metadata": {},
   "source": [
    "#### Programing languages"
   ]
  },
  {
   "cell_type": "code",
   "execution_count": null,
   "metadata": {},
   "outputs": [],
   "source": [
    "category = 'Programing language'\n",
    "results = count_diff(df, prog_lang, country, category, multi_choice=True)\n",
    "results"
   ]
  },
  {
   "cell_type": "code",
   "execution_count": null,
   "metadata": {},
   "outputs": [],
   "source": [
    "plot_cat_comparison(results, country=country, category=category)"
   ]
  },
  {
   "cell_type": "markdown",
   "metadata": {},
   "source": [
    "#### Operating System"
   ]
  },
  {
   "cell_type": "code",
   "execution_count": null,
   "metadata": {},
   "outputs": [],
   "source": [
    "category = 'Operating systen'\n",
    "results = count_diff(df, os, country=country, category=category)\n",
    "results"
   ]
  },
  {
   "cell_type": "code",
   "execution_count": null,
   "metadata": {},
   "outputs": [],
   "source": [
    "plot_cat_comparison(results, country=country, category=category)"
   ]
  },
  {
   "cell_type": "markdown",
   "metadata": {},
   "source": [
    "## Germany"
   ]
  },
  {
   "cell_type": "code",
   "execution_count": null,
   "metadata": {
    "collapsed": true
   },
   "outputs": [],
   "source": [
    "country = 'Germany'"
   ]
  },
  {
   "cell_type": "markdown",
   "metadata": {},
   "source": [
    "### Good practices"
   ]
  },
  {
   "cell_type": "markdown",
   "metadata": {},
   "source": [
    "#### Bus Factor"
   ]
  },
  {
   "cell_type": "code",
   "execution_count": null,
   "metadata": {},
   "outputs": [],
   "source": [
    "category = 'Bus Factor'\n",
    "results = count_diff(df, bus_factor, country, category, order_index=True)\n",
    "results"
   ]
  },
  {
   "cell_type": "code",
   "execution_count": null,
   "metadata": {},
   "outputs": [],
   "source": [
    "plot_cat_comparison(results, country=country, category=category, order_index=True)"
   ]
  },
  {
   "cell_type": "markdown",
   "metadata": {},
   "source": [
    "#### Transition plan"
   ]
  },
  {
   "cell_type": "code",
   "execution_count": null,
   "metadata": {},
   "outputs": [],
   "source": [
    "category = 'Presence of a transition plan'\n",
    "results = count_diff(df, transition_plan, country, category, y_n=True)\n",
    "results"
   ]
  },
  {
   "cell_type": "code",
   "execution_count": null,
   "metadata": {},
   "outputs": [],
   "source": [
    "plot_cat_comparison(results, country=country, category=category)"
   ]
  },
  {
   "cell_type": "markdown",
   "metadata": {},
   "source": [
    "#### Version control"
   ]
  },
  {
   "cell_type": "code",
   "execution_count": null,
   "metadata": {},
   "outputs": [],
   "source": [
    "category = 'Use of version control'\n",
    "results = count_diff(df, version_control, country, category, multi_choice=True)\n",
    "results"
   ]
  },
  {
   "cell_type": "code",
   "execution_count": null,
   "metadata": {},
   "outputs": [],
   "source": [
    "plot_cat_comparison(results, country=country, category=category)"
   ]
  },
  {
   "cell_type": "markdown",
   "metadata": {},
   "source": [
    "#### Testing"
   ]
  },
  {
   "cell_type": "code",
   "execution_count": null,
   "metadata": {},
   "outputs": [],
   "source": [
    "category = 'Testing strategies'\n",
    "results = count_diff(df, testing, country, category, multi_choice=True, order_index=order_testing)\n",
    "results"
   ]
  },
  {
   "cell_type": "code",
   "execution_count": null,
   "metadata": {},
   "outputs": [],
   "source": [
    "plot_cat_comparison(results, country=country, category=category, order_index=order_testing)"
   ]
  },
  {
   "cell_type": "markdown",
   "metadata": {},
   "source": [
    "#### Repository "
   ]
  },
  {
   "cell_type": "code",
   "execution_count": null,
   "metadata": {},
   "outputs": [],
   "source": [
    "plot_wordcloud(df, repo_tool, country, category)"
   ]
  },
  {
   "cell_type": "markdown",
   "metadata": {},
   "source": [
    "### Open source and DOI"
   ]
  },
  {
   "cell_type": "markdown",
   "metadata": {},
   "source": [
    "#### Open source use"
   ]
  },
  {
   "cell_type": "code",
   "execution_count": null,
   "metadata": {},
   "outputs": [],
   "source": [
    "category = 'Open source use'\n",
    "results = count_diff(df, open_use, country, category, order_index=order_open)\n",
    "results"
   ]
  },
  {
   "cell_type": "code",
   "execution_count": null,
   "metadata": {},
   "outputs": [],
   "source": [
    "plot_cat_comparison(results, country=country, category=category, order_index=order_open)"
   ]
  },
  {
   "cell_type": "markdown",
   "metadata": {},
   "source": [
    "#### Referencing software"
   ]
  },
  {
   "cell_type": "code",
   "execution_count": null,
   "metadata": {},
   "outputs": [],
   "source": [
    "category = 'Citation of software'\n",
    "results = count_diff(df, ref_soft, country, category, order_index=order_open)\n",
    "results"
   ]
  },
  {
   "cell_type": "code",
   "execution_count": null,
   "metadata": {},
   "outputs": [],
   "source": [
    "plot_cat_comparison(results, country=country, category=category, order_index=order_open)"
   ]
  },
  {
   "cell_type": "markdown",
   "metadata": {},
   "source": [
    "#### Use of Digital Object Identifier (DOI)"
   ]
  },
  {
   "cell_type": "code",
   "execution_count": null,
   "metadata": {},
   "outputs": [],
   "source": [
    "category = 'Use of Digital Object Identifier'\n",
    "results = count_diff(df, doi, country, category, order_index=order_open)\n",
    "results"
   ]
  },
  {
   "cell_type": "code",
   "execution_count": null,
   "metadata": {},
   "outputs": [],
   "source": [
    "plot_cat_comparison(results, country=country, category=category, order_index=order_open)"
   ]
  },
  {
   "cell_type": "markdown",
   "metadata": {},
   "source": [
    "#### Tools used for DOI"
   ]
  },
  {
   "cell_type": "code",
   "execution_count": null,
   "metadata": {},
   "outputs": [],
   "source": [
    "category = 'Which tool is used for Digital Object Identifier'\n",
    "plot_wordcloud(df, doi_tools, country, category)"
   ]
  },
  {
   "cell_type": "markdown",
   "metadata": {},
   "source": [
    "#### ORCID"
   ]
  },
  {
   "cell_type": "code",
   "execution_count": null,
   "metadata": {},
   "outputs": [],
   "source": [
    "category = 'Using ORCID'\n",
    "results = count_diff(df, orcid, country, category, y_n=True)\n",
    "results"
   ]
  },
  {
   "cell_type": "code",
   "execution_count": null,
   "metadata": {},
   "outputs": [],
   "source": [
    "plot_cat_comparison(results, country=country, category=category)"
   ]
  },
  {
   "cell_type": "markdown",
   "metadata": {},
   "source": [
    "### Tools and programing languages"
   ]
  },
  {
   "cell_type": "markdown",
   "metadata": {},
   "source": [
    "#### Programing languages"
   ]
  },
  {
   "cell_type": "code",
   "execution_count": null,
   "metadata": {},
   "outputs": [],
   "source": [
    "category = 'Programing language'\n",
    "results = count_diff(df, prog_lang, country, category, multi_choice=True)\n",
    "results"
   ]
  },
  {
   "cell_type": "code",
   "execution_count": null,
   "metadata": {},
   "outputs": [],
   "source": [
    "plot_cat_comparison(results, country=country, category=category)"
   ]
  },
  {
   "cell_type": "markdown",
   "metadata": {},
   "source": [
    "#### Operating System"
   ]
  },
  {
   "cell_type": "code",
   "execution_count": null,
   "metadata": {},
   "outputs": [],
   "source": [
    "category = 'Operating systen'\n",
    "results = count_diff(df, os, country=country, category=category)\n",
    "results"
   ]
  },
  {
   "cell_type": "code",
   "execution_count": null,
   "metadata": {},
   "outputs": [],
   "source": [
    "plot_cat_comparison(results, country=country, category=category)"
   ]
  },
  {
   "cell_type": "markdown",
   "metadata": {},
   "source": [
    "## Netherlands"
   ]
  },
  {
   "cell_type": "code",
   "execution_count": null,
   "metadata": {
    "collapsed": true
   },
   "outputs": [],
   "source": [
    "country = 'Netherlands'"
   ]
  },
  {
   "cell_type": "markdown",
   "metadata": {},
   "source": [
    "### Good practices"
   ]
  },
  {
   "cell_type": "markdown",
   "metadata": {},
   "source": [
    "#### Bus Factor"
   ]
  },
  {
   "cell_type": "code",
   "execution_count": null,
   "metadata": {},
   "outputs": [],
   "source": [
    "category = 'Bus Factor'\n",
    "results = count_diff(df, bus_factor, country, category, order_index=True)\n",
    "results"
   ]
  },
  {
   "cell_type": "code",
   "execution_count": null,
   "metadata": {},
   "outputs": [],
   "source": [
    "plot_cat_comparison(results, country=country, category=category, order_index=True)"
   ]
  },
  {
   "cell_type": "markdown",
   "metadata": {},
   "source": [
    "#### Transition plan"
   ]
  },
  {
   "cell_type": "code",
   "execution_count": null,
   "metadata": {},
   "outputs": [],
   "source": [
    "category = 'Presence of a transition plan'\n",
    "results = count_diff(df, transition_plan, country, category, y_n=True)\n",
    "results"
   ]
  },
  {
   "cell_type": "code",
   "execution_count": null,
   "metadata": {},
   "outputs": [],
   "source": [
    "plot_cat_comparison(results, country=country, category=category)"
   ]
  },
  {
   "cell_type": "markdown",
   "metadata": {},
   "source": [
    "#### Version control"
   ]
  },
  {
   "cell_type": "code",
   "execution_count": null,
   "metadata": {},
   "outputs": [],
   "source": [
    "category = 'Use of version control'\n",
    "results = count_diff(df, version_control, country, category, multi_choice=True)\n",
    "results"
   ]
  },
  {
   "cell_type": "code",
   "execution_count": null,
   "metadata": {},
   "outputs": [],
   "source": [
    "plot_cat_comparison(results, country=country, category=category)"
   ]
  },
  {
   "cell_type": "markdown",
   "metadata": {},
   "source": [
    "#### Testing"
   ]
  },
  {
   "cell_type": "code",
   "execution_count": null,
   "metadata": {},
   "outputs": [],
   "source": [
    "category = 'Testing strategies'\n",
    "results = count_diff(df, testing, country, category, multi_choice=True, order_index=order_testing)\n",
    "results"
   ]
  },
  {
   "cell_type": "code",
   "execution_count": null,
   "metadata": {},
   "outputs": [],
   "source": [
    "plot_cat_comparison(results, country=country, category=category, order_index=order_testing)"
   ]
  },
  {
   "cell_type": "markdown",
   "metadata": {},
   "source": [
    "#### Repository "
   ]
  },
  {
   "cell_type": "code",
   "execution_count": null,
   "metadata": {},
   "outputs": [],
   "source": [
    "plot_wordcloud(df, repo_tool, country, category)"
   ]
  },
  {
   "cell_type": "markdown",
   "metadata": {},
   "source": [
    "### Open source and DOI"
   ]
  },
  {
   "cell_type": "markdown",
   "metadata": {},
   "source": [
    "#### Open source use"
   ]
  },
  {
   "cell_type": "code",
   "execution_count": null,
   "metadata": {},
   "outputs": [],
   "source": [
    "category = 'Open source use'\n",
    "results = count_diff(df, open_use, country, category, order_index=order_open)\n",
    "results"
   ]
  },
  {
   "cell_type": "code",
   "execution_count": null,
   "metadata": {},
   "outputs": [],
   "source": [
    "plot_cat_comparison(results, country=country, category=category, order_index=order_open)"
   ]
  },
  {
   "cell_type": "markdown",
   "metadata": {},
   "source": [
    "#### Referencing software"
   ]
  },
  {
   "cell_type": "code",
   "execution_count": null,
   "metadata": {},
   "outputs": [],
   "source": [
    "category = 'Citation of software'\n",
    "results = count_diff(df, ref_soft, country, category, order_index=order_open)\n",
    "results"
   ]
  },
  {
   "cell_type": "code",
   "execution_count": null,
   "metadata": {},
   "outputs": [],
   "source": [
    "plot_cat_comparison(results, country=country, category=category, order_index=order_open)"
   ]
  },
  {
   "cell_type": "markdown",
   "metadata": {},
   "source": [
    "#### Use of Digital Object Identifier (DOI)"
   ]
  },
  {
   "cell_type": "code",
   "execution_count": null,
   "metadata": {},
   "outputs": [],
   "source": [
    "category = 'Use of Digital Object Identifier'\n",
    "results = count_diff(df, doi, country, category, order_index=order_open)\n",
    "results"
   ]
  },
  {
   "cell_type": "code",
   "execution_count": null,
   "metadata": {},
   "outputs": [],
   "source": [
    "plot_cat_comparison(results, country=country, category=category, order_index=order_open)"
   ]
  },
  {
   "cell_type": "markdown",
   "metadata": {},
   "source": [
    "#### Tools used for DOI"
   ]
  },
  {
   "cell_type": "code",
   "execution_count": null,
   "metadata": {},
   "outputs": [],
   "source": [
    "category = 'Which tool is used for Digital Object Identifier'\n",
    "plot_wordcloud(df, doi_tools, country, category)"
   ]
  },
  {
   "cell_type": "markdown",
   "metadata": {},
   "source": [
    "#### ORCID"
   ]
  },
  {
   "cell_type": "code",
   "execution_count": null,
   "metadata": {},
   "outputs": [],
   "source": [
    "category = 'Using ORCID'\n",
    "results = count_diff(df, orcid, country, category, y_n=True)\n",
    "results"
   ]
  },
  {
   "cell_type": "code",
   "execution_count": null,
   "metadata": {},
   "outputs": [],
   "source": [
    "plot_cat_comparison(results, country=country, category=category)"
   ]
  },
  {
   "cell_type": "markdown",
   "metadata": {},
   "source": [
    "### Tools and programing languages"
   ]
  },
  {
   "cell_type": "markdown",
   "metadata": {},
   "source": [
    "#### Programing languages"
   ]
  },
  {
   "cell_type": "code",
   "execution_count": null,
   "metadata": {},
   "outputs": [],
   "source": [
    "category = 'Programing language'\n",
    "results = count_diff(df, prog_lang, country, category, multi_choice=True)\n",
    "results"
   ]
  },
  {
   "cell_type": "code",
   "execution_count": null,
   "metadata": {},
   "outputs": [],
   "source": [
    "plot_cat_comparison(results, country=country, category=category)"
   ]
  },
  {
   "cell_type": "markdown",
   "metadata": {},
   "source": [
    "#### Operating System"
   ]
  },
  {
   "cell_type": "code",
   "execution_count": null,
   "metadata": {},
   "outputs": [],
   "source": [
    "category = 'Operating systen'\n",
    "results = count_diff(df, os, country=country, category=category)\n",
    "results"
   ]
  },
  {
   "cell_type": "code",
   "execution_count": null,
   "metadata": {},
   "outputs": [],
   "source": [
    "plot_cat_comparison(results, country=country, category=category)"
   ]
  },
  {
   "cell_type": "markdown",
   "metadata": {},
   "source": [
    "## New Zealand"
   ]
  },
  {
   "cell_type": "code",
   "execution_count": null,
   "metadata": {
    "collapsed": true
   },
   "outputs": [],
   "source": [
    "country = 'New Zealand'"
   ]
  },
  {
   "cell_type": "markdown",
   "metadata": {},
   "source": [
    "### Good practices"
   ]
  },
  {
   "cell_type": "markdown",
   "metadata": {},
   "source": [
    "#### Bus Factor"
   ]
  },
  {
   "cell_type": "code",
   "execution_count": null,
   "metadata": {},
   "outputs": [],
   "source": [
    "category = 'Bus Factor'\n",
    "results = count_diff(df, bus_factor, country, category, order_index=True)\n",
    "results"
   ]
  },
  {
   "cell_type": "code",
   "execution_count": null,
   "metadata": {},
   "outputs": [],
   "source": [
    "plot_cat_comparison(results, country=country, category=category, order_index=True)"
   ]
  },
  {
   "cell_type": "markdown",
   "metadata": {},
   "source": [
    "#### Transition plan"
   ]
  },
  {
   "cell_type": "code",
   "execution_count": null,
   "metadata": {},
   "outputs": [],
   "source": [
    "category = 'Presence of a transition plan'\n",
    "results = count_diff(df, transition_plan, country, category, y_n=True)\n",
    "results"
   ]
  },
  {
   "cell_type": "code",
   "execution_count": null,
   "metadata": {},
   "outputs": [],
   "source": [
    "plot_cat_comparison(results, country=country, category=category)"
   ]
  },
  {
   "cell_type": "markdown",
   "metadata": {},
   "source": [
    "#### Version control"
   ]
  },
  {
   "cell_type": "code",
   "execution_count": null,
   "metadata": {},
   "outputs": [],
   "source": [
    "category = 'Use of version control'\n",
    "results = count_diff(df, version_control, country, category, multi_choice=True)\n",
    "results"
   ]
  },
  {
   "cell_type": "code",
   "execution_count": null,
   "metadata": {},
   "outputs": [],
   "source": [
    "plot_cat_comparison(results, country=country, category=category)"
   ]
  },
  {
   "cell_type": "markdown",
   "metadata": {},
   "source": [
    "#### Testing"
   ]
  },
  {
   "cell_type": "code",
   "execution_count": null,
   "metadata": {},
   "outputs": [],
   "source": [
    "category = 'Testing strategies'\n",
    "results = count_diff(df, testing, country, category, multi_choice=True, order_index=order_testing)\n",
    "results"
   ]
  },
  {
   "cell_type": "code",
   "execution_count": null,
   "metadata": {},
   "outputs": [],
   "source": [
    "plot_cat_comparison(results, country=country, category=category, order_index=order_testing)"
   ]
  },
  {
   "cell_type": "markdown",
   "metadata": {},
   "source": [
    "#### Repository "
   ]
  },
  {
   "cell_type": "code",
   "execution_count": null,
   "metadata": {},
   "outputs": [],
   "source": [
    "plot_wordcloud(df, repo_tool, country, category)"
   ]
  },
  {
   "cell_type": "markdown",
   "metadata": {},
   "source": [
    "### Open source and DOI"
   ]
  },
  {
   "cell_type": "markdown",
   "metadata": {},
   "source": [
    "#### Open source use"
   ]
  },
  {
   "cell_type": "code",
   "execution_count": null,
   "metadata": {},
   "outputs": [],
   "source": [
    "category = 'Open source use'\n",
    "results = count_diff(df, open_use, country, category, order_index=order_open)\n",
    "results"
   ]
  },
  {
   "cell_type": "code",
   "execution_count": null,
   "metadata": {},
   "outputs": [],
   "source": [
    "plot_cat_comparison(results, country=country, category=category, order_index=order_open)"
   ]
  },
  {
   "cell_type": "markdown",
   "metadata": {},
   "source": [
    "#### Referencing software"
   ]
  },
  {
   "cell_type": "code",
   "execution_count": null,
   "metadata": {},
   "outputs": [],
   "source": [
    "category = 'Citation of software'\n",
    "results = count_diff(df, ref_soft, country, category, order_index=order_open)\n",
    "results"
   ]
  },
  {
   "cell_type": "code",
   "execution_count": null,
   "metadata": {},
   "outputs": [],
   "source": [
    "plot_cat_comparison(results, country=country, category=category, order_index=order_open)"
   ]
  },
  {
   "cell_type": "markdown",
   "metadata": {},
   "source": [
    "#### Use of Digital Object Identifier (DOI)"
   ]
  },
  {
   "cell_type": "code",
   "execution_count": null,
   "metadata": {},
   "outputs": [],
   "source": [
    "category = 'Use of Digital Object Identifier'\n",
    "results = count_diff(df, doi, country, category, order_index=order_open)\n",
    "results"
   ]
  },
  {
   "cell_type": "code",
   "execution_count": null,
   "metadata": {},
   "outputs": [],
   "source": [
    "plot_cat_comparison(results, country=country, category=category, order_index=order_open)"
   ]
  },
  {
   "cell_type": "markdown",
   "metadata": {},
   "source": [
    "#### Tools used for DOI"
   ]
  },
  {
   "cell_type": "code",
   "execution_count": null,
   "metadata": {},
   "outputs": [],
   "source": [
    "category = 'Which tool is used for Digital Object Identifier'\n",
    "plot_wordcloud(df, doi_tools, country, category)"
   ]
  },
  {
   "cell_type": "markdown",
   "metadata": {},
   "source": [
    "#### ORCID"
   ]
  },
  {
   "cell_type": "code",
   "execution_count": null,
   "metadata": {},
   "outputs": [],
   "source": [
    "category = 'Using ORCID'\n",
    "results = count_diff(df, orcid, country, category, y_n=True)\n",
    "results"
   ]
  },
  {
   "cell_type": "code",
   "execution_count": null,
   "metadata": {},
   "outputs": [],
   "source": [
    "plot_cat_comparison(results, country=country, category=category)"
   ]
  },
  {
   "cell_type": "markdown",
   "metadata": {},
   "source": [
    "### Tools and programing languages"
   ]
  },
  {
   "cell_type": "markdown",
   "metadata": {},
   "source": [
    "#### Programing languages"
   ]
  },
  {
   "cell_type": "code",
   "execution_count": null,
   "metadata": {},
   "outputs": [],
   "source": [
    "category = 'Programing language'\n",
    "results = count_diff(df, prog_lang, country, category, multi_choice=True)\n",
    "results"
   ]
  },
  {
   "cell_type": "code",
   "execution_count": null,
   "metadata": {},
   "outputs": [],
   "source": [
    "plot_cat_comparison(results, country=country, category=category)"
   ]
  },
  {
   "cell_type": "markdown",
   "metadata": {},
   "source": [
    "#### Operating System"
   ]
  },
  {
   "cell_type": "code",
   "execution_count": null,
   "metadata": {},
   "outputs": [],
   "source": [
    "category = 'Operating systen'\n",
    "results = count_diff(df, os, country=country, category=category)\n",
    "results"
   ]
  },
  {
   "cell_type": "code",
   "execution_count": null,
   "metadata": {},
   "outputs": [],
   "source": [
    "plot_cat_comparison(results, country=country, category=category)"
   ]
  },
  {
   "cell_type": "markdown",
   "metadata": {},
   "source": [
    "## South Africa"
   ]
  },
  {
   "cell_type": "code",
   "execution_count": null,
   "metadata": {
    "collapsed": true
   },
   "outputs": [],
   "source": [
    "country = 'South Africa'"
   ]
  },
  {
   "cell_type": "markdown",
   "metadata": {},
   "source": [
    "### Good practices"
   ]
  },
  {
   "cell_type": "markdown",
   "metadata": {},
   "source": [
    "#### Bus Factor"
   ]
  },
  {
   "cell_type": "code",
   "execution_count": null,
   "metadata": {},
   "outputs": [],
   "source": [
    "category = 'Bus Factor'\n",
    "results = count_diff(df, bus_factor, country, category, order_index=True)\n",
    "results"
   ]
  },
  {
   "cell_type": "code",
   "execution_count": null,
   "metadata": {},
   "outputs": [],
   "source": [
    "plot_cat_comparison(results, country=country, category=category, order_index=True)"
   ]
  },
  {
   "cell_type": "markdown",
   "metadata": {},
   "source": [
    "#### Transition plan"
   ]
  },
  {
   "cell_type": "code",
   "execution_count": null,
   "metadata": {},
   "outputs": [],
   "source": [
    "category = 'Presence of a transition plan'\n",
    "results = count_diff(df, transition_plan, country, category, y_n=True)\n",
    "results"
   ]
  },
  {
   "cell_type": "code",
   "execution_count": null,
   "metadata": {},
   "outputs": [],
   "source": [
    "plot_cat_comparison(results, country=country, category=category)"
   ]
  },
  {
   "cell_type": "markdown",
   "metadata": {},
   "source": [
    "#### Version control"
   ]
  },
  {
   "cell_type": "code",
   "execution_count": null,
   "metadata": {},
   "outputs": [],
   "source": [
    "category = 'Use of version control'\n",
    "results = count_diff(df, version_control, country, category, multi_choice=True)\n",
    "results"
   ]
  },
  {
   "cell_type": "code",
   "execution_count": null,
   "metadata": {},
   "outputs": [],
   "source": [
    "plot_cat_comparison(results, country=country, category=category)"
   ]
  },
  {
   "cell_type": "markdown",
   "metadata": {},
   "source": [
    "#### Testing"
   ]
  },
  {
   "cell_type": "code",
   "execution_count": null,
   "metadata": {},
   "outputs": [],
   "source": [
    "category = 'Testing strategies'\n",
    "results = count_diff(df, testing, country, category, multi_choice=True, order_index=order_testing)\n",
    "results"
   ]
  },
  {
   "cell_type": "code",
   "execution_count": null,
   "metadata": {},
   "outputs": [],
   "source": [
    "plot_cat_comparison(results, country=country, category=category, order_index=order_testing)"
   ]
  },
  {
   "cell_type": "markdown",
   "metadata": {},
   "source": [
    "#### Repository "
   ]
  },
  {
   "cell_type": "code",
   "execution_count": null,
   "metadata": {},
   "outputs": [],
   "source": [
    "plot_wordcloud(df, repo_tool, country, category)"
   ]
  },
  {
   "cell_type": "markdown",
   "metadata": {},
   "source": [
    "### Open source and DOI"
   ]
  },
  {
   "cell_type": "markdown",
   "metadata": {},
   "source": [
    "#### Open source use"
   ]
  },
  {
   "cell_type": "code",
   "execution_count": null,
   "metadata": {},
   "outputs": [],
   "source": [
    "category = 'Open source use'\n",
    "results = count_diff(df, open_use, country, category, order_index=order_open)\n",
    "results"
   ]
  },
  {
   "cell_type": "code",
   "execution_count": null,
   "metadata": {},
   "outputs": [],
   "source": [
    "plot_cat_comparison(results, country=country, category=category, order_index=order_open)"
   ]
  },
  {
   "cell_type": "markdown",
   "metadata": {},
   "source": [
    "#### Referencing software"
   ]
  },
  {
   "cell_type": "code",
   "execution_count": null,
   "metadata": {},
   "outputs": [],
   "source": [
    "category = 'Citation of software'\n",
    "results = count_diff(df, ref_soft, country, category, order_index=order_open)\n",
    "results"
   ]
  },
  {
   "cell_type": "code",
   "execution_count": null,
   "metadata": {},
   "outputs": [],
   "source": [
    "plot_cat_comparison(results, country=country, category=category, order_index=order_open)"
   ]
  },
  {
   "cell_type": "markdown",
   "metadata": {},
   "source": [
    "#### Use of Digital Object Identifier (DOI)"
   ]
  },
  {
   "cell_type": "code",
   "execution_count": null,
   "metadata": {},
   "outputs": [],
   "source": [
    "category = 'Use of Digital Object Identifier'\n",
    "results = count_diff(df, doi, country, category, order_index=order_open)\n",
    "results"
   ]
  },
  {
   "cell_type": "code",
   "execution_count": null,
   "metadata": {},
   "outputs": [],
   "source": [
    "plot_cat_comparison(results, country=country, category=category, order_index=order_open)"
   ]
  },
  {
   "cell_type": "markdown",
   "metadata": {},
   "source": [
    "#### Tools used for DOI"
   ]
  },
  {
   "cell_type": "code",
   "execution_count": null,
   "metadata": {},
   "outputs": [],
   "source": [
    "category = 'Which tool is used for Digital Object Identifier'\n",
    "plot_wordcloud(df, doi_tools, country, category)"
   ]
  },
  {
   "cell_type": "markdown",
   "metadata": {},
   "source": [
    "#### ORCID"
   ]
  },
  {
   "cell_type": "code",
   "execution_count": null,
   "metadata": {},
   "outputs": [],
   "source": [
    "category = 'Using ORCID'\n",
    "results = count_diff(df, orcid, country, category, y_n=True)\n",
    "results"
   ]
  },
  {
   "cell_type": "code",
   "execution_count": null,
   "metadata": {},
   "outputs": [],
   "source": [
    "plot_cat_comparison(results, country=country, category=category)"
   ]
  },
  {
   "cell_type": "markdown",
   "metadata": {},
   "source": [
    "### Tools and programing languages"
   ]
  },
  {
   "cell_type": "markdown",
   "metadata": {},
   "source": [
    "#### Programing languages"
   ]
  },
  {
   "cell_type": "code",
   "execution_count": null,
   "metadata": {},
   "outputs": [],
   "source": [
    "category = 'Programing language'\n",
    "results = count_diff(df, prog_lang, country, category, multi_choice=True)\n",
    "results"
   ]
  },
  {
   "cell_type": "code",
   "execution_count": null,
   "metadata": {},
   "outputs": [],
   "source": [
    "plot_cat_comparison(results, country=country, category=category)"
   ]
  },
  {
   "cell_type": "markdown",
   "metadata": {},
   "source": [
    "#### Operating System"
   ]
  },
  {
   "cell_type": "code",
   "execution_count": null,
   "metadata": {},
   "outputs": [],
   "source": [
    "category = 'Operating systen'\n",
    "results = count_diff(df, os, country=country, category=category)\n",
    "results"
   ]
  },
  {
   "cell_type": "code",
   "execution_count": null,
   "metadata": {},
   "outputs": [],
   "source": [
    "plot_cat_comparison(results, country=country, category=category)"
   ]
  },
  {
   "cell_type": "markdown",
   "metadata": {},
   "source": [
    "## United Kingdom"
   ]
  },
  {
   "cell_type": "code",
   "execution_count": null,
   "metadata": {
    "collapsed": true
   },
   "outputs": [],
   "source": [
    "country = 'United Kingdom'"
   ]
  },
  {
   "cell_type": "markdown",
   "metadata": {},
   "source": [
    "### Good practices"
   ]
  },
  {
   "cell_type": "markdown",
   "metadata": {},
   "source": [
    "#### Bus Factor"
   ]
  },
  {
   "cell_type": "code",
   "execution_count": null,
   "metadata": {},
   "outputs": [],
   "source": [
    "category = 'Bus Factor'\n",
    "results = count_diff(df, bus_factor, country, category, order_index=True)\n",
    "results"
   ]
  },
  {
   "cell_type": "code",
   "execution_count": null,
   "metadata": {},
   "outputs": [],
   "source": [
    "plot_cat_comparison(results, country=country, category=category, order_index=True)"
   ]
  },
  {
   "cell_type": "markdown",
   "metadata": {},
   "source": [
    "#### Transition plan"
   ]
  },
  {
   "cell_type": "code",
   "execution_count": null,
   "metadata": {},
   "outputs": [],
   "source": [
    "category = 'Presence of a transition plan'\n",
    "results = count_diff(df, transition_plan, country, category, y_n=True)\n",
    "results"
   ]
  },
  {
   "cell_type": "code",
   "execution_count": null,
   "metadata": {},
   "outputs": [],
   "source": [
    "plot_cat_comparison(results, country=country, category=category)"
   ]
  },
  {
   "cell_type": "markdown",
   "metadata": {},
   "source": [
    "#### Version control"
   ]
  },
  {
   "cell_type": "code",
   "execution_count": null,
   "metadata": {},
   "outputs": [],
   "source": [
    "category = 'Use of version control'\n",
    "results = count_diff(df, version_control, country, category, multi_choice=True)\n",
    "results"
   ]
  },
  {
   "cell_type": "code",
   "execution_count": null,
   "metadata": {},
   "outputs": [],
   "source": [
    "plot_cat_comparison(results, country=country, category=category)"
   ]
  },
  {
   "cell_type": "markdown",
   "metadata": {},
   "source": [
    "#### Testing"
   ]
  },
  {
   "cell_type": "code",
   "execution_count": null,
   "metadata": {},
   "outputs": [],
   "source": [
    "category = 'Testing strategies'\n",
    "results = count_diff(df, testing, country, category, multi_choice=True, order_index=order_testing)\n",
    "results"
   ]
  },
  {
   "cell_type": "code",
   "execution_count": null,
   "metadata": {},
   "outputs": [],
   "source": [
    "plot_cat_comparison(results, country=country, category=category, order_index=order_testing)"
   ]
  },
  {
   "cell_type": "markdown",
   "metadata": {},
   "source": [
    "#### Repository "
   ]
  },
  {
   "cell_type": "code",
   "execution_count": null,
   "metadata": {},
   "outputs": [],
   "source": [
    "plot_wordcloud(df, repo_tool, country, category)"
   ]
  },
  {
   "cell_type": "markdown",
   "metadata": {},
   "source": [
    "### Open source and DOI"
   ]
  },
  {
   "cell_type": "markdown",
   "metadata": {},
   "source": [
    "#### Open source use"
   ]
  },
  {
   "cell_type": "code",
   "execution_count": null,
   "metadata": {},
   "outputs": [],
   "source": [
    "category = 'Open source use'\n",
    "results = count_diff(df, open_use, country, category, order_index=order_open)\n",
    "results"
   ]
  },
  {
   "cell_type": "code",
   "execution_count": null,
   "metadata": {},
   "outputs": [],
   "source": [
    "plot_cat_comparison(results, country=country, category=category, order_index=order_open)"
   ]
  },
  {
   "cell_type": "markdown",
   "metadata": {},
   "source": [
    "#### Referencing software"
   ]
  },
  {
   "cell_type": "code",
   "execution_count": null,
   "metadata": {},
   "outputs": [],
   "source": [
    "category = 'Citation of software'\n",
    "results = count_diff(df, ref_soft, country, category, order_index=order_open)\n",
    "results"
   ]
  },
  {
   "cell_type": "code",
   "execution_count": null,
   "metadata": {},
   "outputs": [],
   "source": [
    "plot_cat_comparison(results, country=country, category=category, order_index=order_open)"
   ]
  },
  {
   "cell_type": "markdown",
   "metadata": {},
   "source": [
    "#### Use of Digital Object Identifier (DOI)"
   ]
  },
  {
   "cell_type": "code",
   "execution_count": null,
   "metadata": {},
   "outputs": [],
   "source": [
    "category = 'Use of Digital Object Identifier'\n",
    "results = count_diff(df, doi, country, category, order_index=order_open)\n",
    "results"
   ]
  },
  {
   "cell_type": "code",
   "execution_count": null,
   "metadata": {},
   "outputs": [],
   "source": [
    "plot_cat_comparison(results, country=country, category=category, order_index=order_open)"
   ]
  },
  {
   "cell_type": "markdown",
   "metadata": {},
   "source": [
    "#### Tools used for DOI"
   ]
  },
  {
   "cell_type": "code",
   "execution_count": null,
   "metadata": {},
   "outputs": [],
   "source": [
    "category = 'Which tool is used for Digital Object Identifier'\n",
    "plot_wordcloud(df, doi_tools, country, category)"
   ]
  },
  {
   "cell_type": "markdown",
   "metadata": {},
   "source": [
    "#### ORCID"
   ]
  },
  {
   "cell_type": "code",
   "execution_count": null,
   "metadata": {},
   "outputs": [],
   "source": [
    "category = 'Using ORCID'\n",
    "results = count_diff(df, orcid, country, category, y_n=True)\n",
    "results"
   ]
  },
  {
   "cell_type": "code",
   "execution_count": null,
   "metadata": {},
   "outputs": [],
   "source": [
    "plot_cat_comparison(results, country=country, category=category)"
   ]
  },
  {
   "cell_type": "markdown",
   "metadata": {},
   "source": [
    "### Tools and programing languages"
   ]
  },
  {
   "cell_type": "markdown",
   "metadata": {},
   "source": [
    "#### Programing languages"
   ]
  },
  {
   "cell_type": "code",
   "execution_count": null,
   "metadata": {},
   "outputs": [],
   "source": [
    "category = 'Programing language'\n",
    "results = count_diff(df, prog_lang, country, category, multi_choice=True)\n",
    "results"
   ]
  },
  {
   "cell_type": "code",
   "execution_count": null,
   "metadata": {},
   "outputs": [],
   "source": [
    "plot_cat_comparison(results, country=country, category=category)"
   ]
  },
  {
   "cell_type": "markdown",
   "metadata": {},
   "source": [
    "#### Operating System"
   ]
  },
  {
   "cell_type": "code",
   "execution_count": null,
   "metadata": {},
   "outputs": [],
   "source": [
    "category = 'Operating systen'\n",
    "results = count_diff(df, os, country=country, category=category)\n",
    "results"
   ]
  },
  {
   "cell_type": "code",
   "execution_count": null,
   "metadata": {},
   "outputs": [],
   "source": [
    "plot_cat_comparison(results, country=country, category=category)"
   ]
  },
  {
   "cell_type": "markdown",
   "metadata": {},
   "source": [
    "## United States"
   ]
  },
  {
   "cell_type": "code",
   "execution_count": null,
   "metadata": {
    "collapsed": true
   },
   "outputs": [],
   "source": [
    "country = 'United States'"
   ]
  },
  {
   "cell_type": "markdown",
   "metadata": {},
   "source": [
    "### Good practices"
   ]
  },
  {
   "cell_type": "markdown",
   "metadata": {},
   "source": [
    "#### Bus Factor"
   ]
  },
  {
   "cell_type": "code",
   "execution_count": null,
   "metadata": {},
   "outputs": [],
   "source": [
    "category = 'Bus Factor'\n",
    "results = count_diff(df, bus_factor, country, category, order_index=True)\n",
    "results"
   ]
  },
  {
   "cell_type": "code",
   "execution_count": null,
   "metadata": {},
   "outputs": [],
   "source": [
    "plot_cat_comparison(results, country=country, category=category, order_index=True)"
   ]
  },
  {
   "cell_type": "markdown",
   "metadata": {},
   "source": [
    "#### Transition plan"
   ]
  },
  {
   "cell_type": "code",
   "execution_count": null,
   "metadata": {},
   "outputs": [],
   "source": [
    "category = 'Presence of a transition plan'\n",
    "results = count_diff(df, transition_plan, country, category, y_n=True)\n",
    "results"
   ]
  },
  {
   "cell_type": "code",
   "execution_count": null,
   "metadata": {},
   "outputs": [],
   "source": [
    "plot_cat_comparison(results, country=country, category=category)"
   ]
  },
  {
   "cell_type": "markdown",
   "metadata": {},
   "source": [
    "#### Version control"
   ]
  },
  {
   "cell_type": "code",
   "execution_count": null,
   "metadata": {},
   "outputs": [],
   "source": [
    "category = 'Use of version control'\n",
    "results = count_diff(df, version_control, country, category, multi_choice=True)\n",
    "results"
   ]
  },
  {
   "cell_type": "code",
   "execution_count": null,
   "metadata": {},
   "outputs": [],
   "source": [
    "plot_cat_comparison(results, country=country, category=category)"
   ]
  },
  {
   "cell_type": "markdown",
   "metadata": {},
   "source": [
    "#### Testing"
   ]
  },
  {
   "cell_type": "code",
   "execution_count": null,
   "metadata": {},
   "outputs": [],
   "source": [
    "category = 'Testing strategies'\n",
    "results = count_diff(df, testing, country, category, multi_choice=True, order_index=order_testing)\n",
    "results"
   ]
  },
  {
   "cell_type": "code",
   "execution_count": null,
   "metadata": {},
   "outputs": [],
   "source": [
    "plot_cat_comparison(results, country=country, category=category, order_index=order_testing)"
   ]
  },
  {
   "cell_type": "markdown",
   "metadata": {},
   "source": [
    "#### Repository "
   ]
  },
  {
   "cell_type": "code",
   "execution_count": null,
   "metadata": {},
   "outputs": [],
   "source": [
    "plot_wordcloud(df, repo_tool, country, category)"
   ]
  },
  {
   "cell_type": "markdown",
   "metadata": {},
   "source": [
    "### Open source and DOI"
   ]
  },
  {
   "cell_type": "markdown",
   "metadata": {},
   "source": [
    "#### Open source use"
   ]
  },
  {
   "cell_type": "code",
   "execution_count": null,
   "metadata": {},
   "outputs": [],
   "source": [
    "category = 'Open source use'\n",
    "results = count_diff(df, open_use, country, category, order_index=order_open)\n",
    "results"
   ]
  },
  {
   "cell_type": "code",
   "execution_count": null,
   "metadata": {},
   "outputs": [],
   "source": [
    "plot_cat_comparison(results, country=country, category=category, order_index=order_open)"
   ]
  },
  {
   "cell_type": "markdown",
   "metadata": {},
   "source": [
    "#### Referencing software"
   ]
  },
  {
   "cell_type": "code",
   "execution_count": null,
   "metadata": {},
   "outputs": [],
   "source": [
    "category = 'Citation of software'\n",
    "results = count_diff(df, ref_soft, country, category, order_index=order_open)\n",
    "results"
   ]
  },
  {
   "cell_type": "code",
   "execution_count": null,
   "metadata": {},
   "outputs": [],
   "source": [
    "plot_cat_comparison(results, country=country, category=category, order_index=order_open)"
   ]
  },
  {
   "cell_type": "markdown",
   "metadata": {},
   "source": [
    "#### Use of Digital Object Identifier (DOI)"
   ]
  },
  {
   "cell_type": "code",
   "execution_count": null,
   "metadata": {},
   "outputs": [],
   "source": [
    "category = 'Use of Digital Object Identifier'\n",
    "results = count_diff(df, doi, country, category, order_index=order_open)\n",
    "results"
   ]
  },
  {
   "cell_type": "code",
   "execution_count": null,
   "metadata": {},
   "outputs": [],
   "source": [
    "plot_cat_comparison(results, country=country, category=category, order_index=order_open)"
   ]
  },
  {
   "cell_type": "markdown",
   "metadata": {},
   "source": [
    "#### Tools used for DOI"
   ]
  },
  {
   "cell_type": "code",
   "execution_count": null,
   "metadata": {},
   "outputs": [],
   "source": [
    "category = 'Which tool is used for Digital Object Identifier'\n",
    "plot_wordcloud(df, doi_tools, country, category)"
   ]
  },
  {
   "cell_type": "markdown",
   "metadata": {},
   "source": [
    "#### ORCID"
   ]
  },
  {
   "cell_type": "code",
   "execution_count": null,
   "metadata": {},
   "outputs": [],
   "source": [
    "category = 'Using ORCID'\n",
    "results = count_diff(df, orcid, country, category, y_n=True)\n",
    "results"
   ]
  },
  {
   "cell_type": "code",
   "execution_count": null,
   "metadata": {},
   "outputs": [],
   "source": [
    "plot_cat_comparison(results, country=country, category=category)"
   ]
  },
  {
   "cell_type": "markdown",
   "metadata": {},
   "source": [
    "### Tools and programing languages"
   ]
  },
  {
   "cell_type": "markdown",
   "metadata": {},
   "source": [
    "#### Programing languages"
   ]
  },
  {
   "cell_type": "code",
   "execution_count": null,
   "metadata": {},
   "outputs": [],
   "source": [
    "category = 'Programing language'\n",
    "results = count_diff(df, prog_lang, country, category, multi_choice=True)\n",
    "results"
   ]
  },
  {
   "cell_type": "code",
   "execution_count": null,
   "metadata": {},
   "outputs": [],
   "source": [
    "plot_cat_comparison(results, country=country, category=category)"
   ]
  },
  {
   "cell_type": "markdown",
   "metadata": {},
   "source": [
    "#### Operating System"
   ]
  },
  {
   "cell_type": "code",
   "execution_count": null,
   "metadata": {},
   "outputs": [],
   "source": [
    "category = 'Operating systen'\n",
    "results = count_diff(df, os, country=country, category=category)\n",
    "results"
   ]
  },
  {
   "cell_type": "code",
   "execution_count": null,
   "metadata": {},
   "outputs": [],
   "source": [
    "plot_cat_comparison(results, country=country, category=category)"
   ]
  },
  {
   "cell_type": "markdown",
   "metadata": {},
   "source": [
    "## Rest of the world"
   ]
  },
  {
   "cell_type": "code",
   "execution_count": null,
   "metadata": {
    "collapsed": true
   },
   "outputs": [],
   "source": [
    "country = 'World'"
   ]
  },
  {
   "cell_type": "markdown",
   "metadata": {},
   "source": [
    "### Good practices"
   ]
  },
  {
   "cell_type": "markdown",
   "metadata": {},
   "source": [
    "#### Bus Factor"
   ]
  },
  {
   "cell_type": "code",
   "execution_count": null,
   "metadata": {},
   "outputs": [],
   "source": [
    "category = 'Bus Factor'\n",
    "results = count_diff(df, bus_factor, country, category, order_index=True)\n",
    "results"
   ]
  },
  {
   "cell_type": "code",
   "execution_count": null,
   "metadata": {},
   "outputs": [],
   "source": [
    "plot_cat_comparison(results, country=country, category=category, order_index=True)"
   ]
  },
  {
   "cell_type": "markdown",
   "metadata": {},
   "source": [
    "#### Transition plan"
   ]
  },
  {
   "cell_type": "code",
   "execution_count": null,
   "metadata": {},
   "outputs": [],
   "source": [
    "category = 'Presence of a transition plan'\n",
    "results = count_diff(df, transition_plan, country, category, y_n=True)\n",
    "results"
   ]
  },
  {
   "cell_type": "code",
   "execution_count": null,
   "metadata": {},
   "outputs": [],
   "source": [
    "plot_cat_comparison(results, country=country, category=category)"
   ]
  },
  {
   "cell_type": "markdown",
   "metadata": {},
   "source": [
    "#### Version control"
   ]
  },
  {
   "cell_type": "code",
   "execution_count": null,
   "metadata": {},
   "outputs": [],
   "source": [
    "category = 'Use of version control'\n",
    "results = count_diff(df, version_control, country, category, multi_choice=True)\n",
    "results"
   ]
  },
  {
   "cell_type": "code",
   "execution_count": null,
   "metadata": {},
   "outputs": [],
   "source": [
    "plot_cat_comparison(results, country=country, category=category)"
   ]
  },
  {
   "cell_type": "markdown",
   "metadata": {},
   "source": [
    "#### Testing"
   ]
  },
  {
   "cell_type": "code",
   "execution_count": null,
   "metadata": {},
   "outputs": [],
   "source": [
    "category = 'Testing strategies'\n",
    "results = count_diff(df, testing, country, category, multi_choice=True, order_index=order_testing)\n",
    "results"
   ]
  },
  {
   "cell_type": "code",
   "execution_count": null,
   "metadata": {},
   "outputs": [],
   "source": [
    "plot_cat_comparison(results, country=country, category=category, order_index=order_testing)"
   ]
  },
  {
   "cell_type": "markdown",
   "metadata": {},
   "source": [
    "#### Repository "
   ]
  },
  {
   "cell_type": "code",
   "execution_count": null,
   "metadata": {},
   "outputs": [],
   "source": [
    "plot_wordcloud(df, repo_tool, country, category)"
   ]
  },
  {
   "cell_type": "markdown",
   "metadata": {},
   "source": [
    "### Open source and DOI"
   ]
  },
  {
   "cell_type": "markdown",
   "metadata": {},
   "source": [
    "#### Open source use"
   ]
  },
  {
   "cell_type": "code",
   "execution_count": null,
   "metadata": {},
   "outputs": [],
   "source": [
    "category = 'Open source use'\n",
    "results = count_diff(df, open_use, country, category, order_index=order_open)\n",
    "results"
   ]
  },
  {
   "cell_type": "code",
   "execution_count": null,
   "metadata": {},
   "outputs": [],
   "source": [
    "plot_cat_comparison(results, country=country, category=category, order_index=order_open)"
   ]
  },
  {
   "cell_type": "markdown",
   "metadata": {},
   "source": [
    "#### Referencing software"
   ]
  },
  {
   "cell_type": "code",
   "execution_count": null,
   "metadata": {},
   "outputs": [],
   "source": [
    "category = 'Citation of software'\n",
    "results = count_diff(df, ref_soft, country, category, order_index=order_open)\n",
    "results"
   ]
  },
  {
   "cell_type": "code",
   "execution_count": null,
   "metadata": {},
   "outputs": [],
   "source": [
    "plot_cat_comparison(results, country=country, category=category, order_index=order_open)"
   ]
  },
  {
   "cell_type": "markdown",
   "metadata": {},
   "source": [
    "#### Use of Digital Object Identifier (DOI)"
   ]
  },
  {
   "cell_type": "code",
   "execution_count": null,
   "metadata": {},
   "outputs": [],
   "source": [
    "category = 'Use of Digital Object Identifier'\n",
    "results = count_diff(df, doi, country, category, order_index=order_open)\n",
    "results"
   ]
  },
  {
   "cell_type": "code",
   "execution_count": null,
   "metadata": {},
   "outputs": [],
   "source": [
    "plot_cat_comparison(results, country=country, category=category, order_index=order_open)"
   ]
  },
  {
   "cell_type": "markdown",
   "metadata": {},
   "source": [
    "#### Tools used for DOI"
   ]
  },
  {
   "cell_type": "code",
   "execution_count": null,
   "metadata": {},
   "outputs": [],
   "source": [
    "category = 'Which tool is used for Digital Object Identifier'\n",
    "plot_wordcloud(df, doi_tools, country, category)"
   ]
  },
  {
   "cell_type": "markdown",
   "metadata": {},
   "source": [
    "#### ORCID"
   ]
  },
  {
   "cell_type": "code",
   "execution_count": null,
   "metadata": {},
   "outputs": [],
   "source": [
    "category = 'Using ORCID'\n",
    "results = count_diff(df, orcid, country, category, y_n=True)\n",
    "results"
   ]
  },
  {
   "cell_type": "code",
   "execution_count": null,
   "metadata": {},
   "outputs": [],
   "source": [
    "plot_cat_comparison(results, country=country, category=category)"
   ]
  },
  {
   "cell_type": "markdown",
   "metadata": {},
   "source": [
    "### Tools and programing languages"
   ]
  },
  {
   "cell_type": "markdown",
   "metadata": {},
   "source": [
    "#### Programing languages"
   ]
  },
  {
   "cell_type": "code",
   "execution_count": null,
   "metadata": {},
   "outputs": [],
   "source": [
    "category = 'Programing language'\n",
    "results = count_diff(df, prog_lang, country, category, multi_choice=True)\n",
    "results"
   ]
  },
  {
   "cell_type": "code",
   "execution_count": null,
   "metadata": {},
   "outputs": [],
   "source": [
    "plot_cat_comparison(results, country=country, category=category)"
   ]
  },
  {
   "cell_type": "markdown",
   "metadata": {},
   "source": [
    "#### Operating System"
   ]
  },
  {
   "cell_type": "code",
   "execution_count": null,
   "metadata": {},
   "outputs": [],
   "source": [
    "category = 'Operating systen'\n",
    "results = count_diff(df, os, country=country, category=category)\n",
    "results"
   ]
  },
  {
   "cell_type": "code",
   "execution_count": null,
   "metadata": {},
   "outputs": [],
   "source": [
    "plot_cat_comparison(results, country=country, category=category)"
   ]
  },
  {
   "cell_type": "markdown",
   "metadata": {},
   "source": [
    "# Job Satisfaction"
   ]
  },
  {
   "cell_type": "code",
   "execution_count": null,
   "metadata": {
    "collapsed": true
   },
   "outputs": [],
   "source": [
    "satis_gen = ['satisGen1. In general, how satisfied are you with your current position', 'satisGen2. In general, how satisfied are you with your career']\n",
    "\n",
    "recog = ['recog1. Do you feel that your contribution to research is recognised by your supervisor/line manager',\n",
    "         'recog2. Do you feel that your contribution to research is recognised by the researchers you work with',\n",
    "         'recog3. Do you feel that your contribution to research is recognised by your institution?']\n",
    "\n",
    "turn_over1 = ['turnOver3. How often do you consider leaving your job?']\n",
    "turn_over2 = ['turnOver6. I would accept another job at the same compensation level if I was offered it']\n",
    "\n",
    "perc_emp =['percEmp1. It would not be very difficult for me to get an equivalent job in a different institution',\n",
    "           'percEmp3. My experience is in demand on the labour market']\n",
    "\n",
    "prog_rse = ['progRSE1. It is likely that I will gain a promotion within my current group',\n",
    "            'progRSE2. The process I have to complete to gain a promotion is clear and understandable',\n",
    "            'progRSE3. There are many opportunities within my chosen career plan',\n",
    "            'progRSE5. It is likely that my next position will be an Research Software Engineer / Research Software Developer role']\n",
    "\n",
    "\n",
    "agree_scale = ['Strongly Agree', 'Agree', 'Neither agree or disagree',\n",
    "               'Strongly disagree', 'Disagree']\n",
    "\n",
    "number_scale = [str(i) for i in range(11)[1:]]"
   ]
  },
  {
   "cell_type": "markdown",
   "metadata": {},
   "source": [
    "## Australia"
   ]
  },
  {
   "cell_type": "code",
   "execution_count": null,
   "metadata": {
    "collapsed": true
   },
   "outputs": [],
   "source": [
    "country = 'United Kingdom'"
   ]
  },
  {
   "cell_type": "markdown",
   "metadata": {},
   "source": [
    "### General satisfaction"
   ]
  },
  {
   "cell_type": "code",
   "execution_count": null,
   "metadata": {},
   "outputs": [],
   "source": [
    "category = 'General satisfaction'\n",
    "plotting_likert(df, country, category, satis_gen, order_scale=number_scale)"
   ]
  },
  {
   "cell_type": "markdown",
   "metadata": {},
   "source": [
    "### Recognition"
   ]
  },
  {
   "cell_type": "code",
   "execution_count": null,
   "metadata": {},
   "outputs": [],
   "source": [
    "recog_cat = 'Recognition'\n",
    "plotting_likert(df, country, category, recog, order_scale=agree_scale)"
   ]
  },
  {
   "cell_type": "markdown",
   "metadata": {},
   "source": [
    "### Turn-over intention"
   ]
  },
  {
   "cell_type": "code",
   "execution_count": null,
   "metadata": {},
   "outputs": [],
   "source": [
    "category = 'Intention of changing position'\n",
    "plotting_likert(df, country, category, turn_over1, order_scale=number_scale)"
   ]
  },
  {
   "cell_type": "code",
   "execution_count": null,
   "metadata": {},
   "outputs": [],
   "source": [
    "category = 'Intention of changing position'\n",
    "plotting_likert(df, country, category, turn_over2, order_scale=agree_scale)"
   ]
  },
  {
   "cell_type": "markdown",
   "metadata": {},
   "source": [
    "### Perceived employability"
   ]
  },
  {
   "cell_type": "code",
   "execution_count": null,
   "metadata": {},
   "outputs": [],
   "source": [
    "category = 'Perceived employability'\n",
    "plotting_likert(df, country, category, perc_emp, order_scale=agree_scale)"
   ]
  },
  {
   "cell_type": "markdown",
   "metadata": {},
   "source": [
    "### Progression in the current role"
   ]
  },
  {
   "cell_type": "code",
   "execution_count": null,
   "metadata": {},
   "outputs": [],
   "source": [
    "category = 'Progression in the current position'\n",
    "plotting_likert(df, country, category, prog_rse, order_scale=agree_scale)"
   ]
  },
  {
   "cell_type": "markdown",
   "metadata": {},
   "source": [
    "## Germany"
   ]
  },
  {
   "cell_type": "code",
   "execution_count": null,
   "metadata": {
    "collapsed": true
   },
   "outputs": [],
   "source": [
    "country = 'Germany'"
   ]
  },
  {
   "cell_type": "markdown",
   "metadata": {},
   "source": [
    "### General satisfaction"
   ]
  },
  {
   "cell_type": "code",
   "execution_count": null,
   "metadata": {},
   "outputs": [],
   "source": [
    "category = 'General satisfaction'\n",
    "plotting_likert(df, country, category, satis_gen, order_scale=number_scale)"
   ]
  },
  {
   "cell_type": "markdown",
   "metadata": {},
   "source": [
    "### Recognition"
   ]
  },
  {
   "cell_type": "code",
   "execution_count": null,
   "metadata": {},
   "outputs": [],
   "source": [
    "recog_cat = 'Recognition'\n",
    "plotting_likert(df, country, category, recog, order_scale=agree_scale)"
   ]
  },
  {
   "cell_type": "markdown",
   "metadata": {},
   "source": [
    "### Turn-over intention"
   ]
  },
  {
   "cell_type": "code",
   "execution_count": null,
   "metadata": {},
   "outputs": [],
   "source": [
    "category = 'Intention of changing position'\n",
    "plotting_likert(df, country, category, turn_over1, order_scale=number_scale)"
   ]
  },
  {
   "cell_type": "code",
   "execution_count": null,
   "metadata": {},
   "outputs": [],
   "source": [
    "category = 'Intention of changing position'\n",
    "plotting_likert(df, country, category, turn_over2, order_scale=agree_scale)"
   ]
  },
  {
   "cell_type": "markdown",
   "metadata": {},
   "source": [
    "### Perceived employability"
   ]
  },
  {
   "cell_type": "code",
   "execution_count": null,
   "metadata": {},
   "outputs": [],
   "source": [
    "category = 'Perceived employability'\n",
    "plotting_likert(df, country, category, perc_emp, order_scale=agree_scale)"
   ]
  },
  {
   "cell_type": "markdown",
   "metadata": {},
   "source": [
    "### Progression in the current role"
   ]
  },
  {
   "cell_type": "code",
   "execution_count": null,
   "metadata": {},
   "outputs": [],
   "source": [
    "category = 'Progression in the current position'\n",
    "plotting_likert(df, country, category, prog_rse, order_scale=agree_scale)"
   ]
  },
  {
   "cell_type": "markdown",
   "metadata": {},
   "source": [
    "## Netherlands"
   ]
  },
  {
   "cell_type": "code",
   "execution_count": null,
   "metadata": {
    "collapsed": true
   },
   "outputs": [],
   "source": [
    "country = 'Netherlands'"
   ]
  },
  {
   "cell_type": "markdown",
   "metadata": {},
   "source": [
    "### General satisfaction"
   ]
  },
  {
   "cell_type": "code",
   "execution_count": null,
   "metadata": {},
   "outputs": [],
   "source": [
    "category = 'General satisfaction'\n",
    "plotting_likert(df, country, category, satis_gen, order_scale=number_scale)"
   ]
  },
  {
   "cell_type": "markdown",
   "metadata": {},
   "source": [
    "## New Zealand"
   ]
  },
  {
   "cell_type": "code",
   "execution_count": null,
   "metadata": {
    "collapsed": true
   },
   "outputs": [],
   "source": [
    "country = 'New Zealand'"
   ]
  },
  {
   "cell_type": "markdown",
   "metadata": {},
   "source": [
    "### General satisfaction"
   ]
  },
  {
   "cell_type": "code",
   "execution_count": null,
   "metadata": {},
   "outputs": [],
   "source": [
    "category = 'General satisfaction'\n",
    "plotting_likert(df, country, category, satis_gen, order_scale=number_scale)"
   ]
  },
  {
   "cell_type": "markdown",
   "metadata": {},
   "source": [
    "### Recognition"
   ]
  },
  {
   "cell_type": "code",
   "execution_count": null,
   "metadata": {},
   "outputs": [],
   "source": [
    "recog_cat = 'Recognition'\n",
    "plotting_likert(df, country, category, recog, order_scale=agree_scale)"
   ]
  },
  {
   "cell_type": "markdown",
   "metadata": {},
   "source": [
    "### Turn-over intention"
   ]
  },
  {
   "cell_type": "code",
   "execution_count": null,
   "metadata": {},
   "outputs": [],
   "source": [
    "category = 'Intention of changing position'\n",
    "plotting_likert(df, country, category, turn_over1, order_scale=number_scale)"
   ]
  },
  {
   "cell_type": "code",
   "execution_count": null,
   "metadata": {},
   "outputs": [],
   "source": [
    "category = 'Intention of changing position'\n",
    "plotting_likert(df, country, category, turn_over2, order_scale=agree_scale)"
   ]
  },
  {
   "cell_type": "markdown",
   "metadata": {},
   "source": [
    "### Perceived employability"
   ]
  },
  {
   "cell_type": "code",
   "execution_count": null,
   "metadata": {},
   "outputs": [],
   "source": [
    "category = 'Perceived employability'\n",
    "plotting_likert(df, country, category, perc_emp, order_scale=agree_scale)"
   ]
  },
  {
   "cell_type": "markdown",
   "metadata": {},
   "source": [
    "### Progression in the current role"
   ]
  },
  {
   "cell_type": "code",
   "execution_count": null,
   "metadata": {},
   "outputs": [],
   "source": [
    "category = 'Progression in the current position'\n",
    "plotting_likert(df, country, category, prog_rse, order_scale=agree_scale)"
   ]
  },
  {
   "cell_type": "markdown",
   "metadata": {},
   "source": [
    "## South Africa"
   ]
  },
  {
   "cell_type": "code",
   "execution_count": null,
   "metadata": {
    "collapsed": true
   },
   "outputs": [],
   "source": [
    "country = 'South Africa'"
   ]
  },
  {
   "cell_type": "markdown",
   "metadata": {},
   "source": [
    "### General satisfaction"
   ]
  },
  {
   "cell_type": "code",
   "execution_count": null,
   "metadata": {},
   "outputs": [],
   "source": [
    "category = 'General satisfaction'\n",
    "plotting_likert(df, country, category, satis_gen, order_scale=number_scale)"
   ]
  },
  {
   "cell_type": "markdown",
   "metadata": {},
   "source": [
    "### Recognition"
   ]
  },
  {
   "cell_type": "code",
   "execution_count": null,
   "metadata": {},
   "outputs": [],
   "source": [
    "recog_cat = 'Recognition'\n",
    "plotting_likert(df, country, category, recog, order_scale=agree_scale)"
   ]
  },
  {
   "cell_type": "markdown",
   "metadata": {},
   "source": [
    "### Turn-over intention"
   ]
  },
  {
   "cell_type": "code",
   "execution_count": null,
   "metadata": {},
   "outputs": [],
   "source": [
    "category = 'Intention of changing position'\n",
    "plotting_likert(df, country, category, turn_over1, order_scale=number_scale)"
   ]
  },
  {
   "cell_type": "code",
   "execution_count": null,
   "metadata": {},
   "outputs": [],
   "source": [
    "category = 'Intention of changing position'\n",
    "plotting_likert(df, country, category, turn_over2, order_scale=agree_scale)"
   ]
  },
  {
   "cell_type": "markdown",
   "metadata": {},
   "source": [
    "### Perceived employability"
   ]
  },
  {
   "cell_type": "code",
   "execution_count": null,
   "metadata": {},
   "outputs": [],
   "source": [
    "category = 'Perceived employability'\n",
    "plotting_likert(df, country, category, perc_emp, order_scale=agree_scale)"
   ]
  },
  {
   "cell_type": "markdown",
   "metadata": {},
   "source": [
    "### Progression in the current role"
   ]
  },
  {
   "cell_type": "code",
   "execution_count": null,
   "metadata": {},
   "outputs": [],
   "source": [
    "category = 'Progression in the current position'\n",
    "plotting_likert(df, country, category, prog_rse, order_scale=agree_scale)"
   ]
  },
  {
   "cell_type": "markdown",
   "metadata": {},
   "source": [
    "## United Kingdom"
   ]
  },
  {
   "cell_type": "code",
   "execution_count": null,
   "metadata": {
    "collapsed": true
   },
   "outputs": [],
   "source": [
    "country = 'United Kingdom'"
   ]
  },
  {
   "cell_type": "markdown",
   "metadata": {},
   "source": [
    "### General satisfaction"
   ]
  },
  {
   "cell_type": "code",
   "execution_count": null,
   "metadata": {},
   "outputs": [],
   "source": [
    "category = 'General satisfaction'\n",
    "plotting_likert(df, country, category, satis_gen, order_scale=number_scale)"
   ]
  },
  {
   "cell_type": "markdown",
   "metadata": {},
   "source": [
    "### Recognition"
   ]
  },
  {
   "cell_type": "code",
   "execution_count": null,
   "metadata": {},
   "outputs": [],
   "source": [
    "recog_cat = 'Recognition'\n",
    "plotting_likert(df, country, category, recog, order_scale=agree_scale)"
   ]
  },
  {
   "cell_type": "markdown",
   "metadata": {},
   "source": [
    "### Turn-over intention"
   ]
  },
  {
   "cell_type": "code",
   "execution_count": null,
   "metadata": {},
   "outputs": [],
   "source": [
    "category = 'Intention of changing position'\n",
    "plotting_likert(df, country, category, turn_over1, order_scale=number_scale)"
   ]
  },
  {
   "cell_type": "code",
   "execution_count": null,
   "metadata": {},
   "outputs": [],
   "source": [
    "category = 'Intention of changing position'\n",
    "plotting_likert(df, country, category, turn_over2, order_scale=agree_scale)"
   ]
  },
  {
   "cell_type": "markdown",
   "metadata": {},
   "source": [
    "### Perceived employability"
   ]
  },
  {
   "cell_type": "code",
   "execution_count": null,
   "metadata": {},
   "outputs": [],
   "source": [
    "category = 'Perceived employability'\n",
    "plotting_likert(df, country, category, perc_emp, order_scale=agree_scale)"
   ]
  },
  {
   "cell_type": "markdown",
   "metadata": {},
   "source": [
    "### Progression in the current role"
   ]
  },
  {
   "cell_type": "code",
   "execution_count": null,
   "metadata": {},
   "outputs": [],
   "source": [
    "category = 'Progression in the current position'\n",
    "plotting_likert(df, country, category, prog_rse, order_scale=agree_scale)"
   ]
  },
  {
   "cell_type": "markdown",
   "metadata": {},
   "source": [
    "## United States"
   ]
  },
  {
   "cell_type": "code",
   "execution_count": null,
   "metadata": {
    "collapsed": true
   },
   "outputs": [],
   "source": [
    "country = 'United States'"
   ]
  },
  {
   "cell_type": "markdown",
   "metadata": {},
   "source": [
    "### General satisfaction"
   ]
  },
  {
   "cell_type": "code",
   "execution_count": null,
   "metadata": {},
   "outputs": [],
   "source": [
    "category = 'General satisfaction'\n",
    "plotting_likert(df, country, category, satis_gen, order_scale=number_scale)"
   ]
  },
  {
   "cell_type": "markdown",
   "metadata": {},
   "source": [
    "### Recognition"
   ]
  },
  {
   "cell_type": "code",
   "execution_count": null,
   "metadata": {},
   "outputs": [],
   "source": [
    "recog_cat = 'Recognition'\n",
    "plotting_likert(df, country, category, recog, order_scale=agree_scale)"
   ]
  },
  {
   "cell_type": "markdown",
   "metadata": {},
   "source": [
    "### Turn-over intention"
   ]
  },
  {
   "cell_type": "code",
   "execution_count": null,
   "metadata": {},
   "outputs": [],
   "source": [
    "category = 'Intention of changing position'\n",
    "plotting_likert(df, country, category, turn_over1, order_scale=number_scale)"
   ]
  },
  {
   "cell_type": "code",
   "execution_count": null,
   "metadata": {},
   "outputs": [],
   "source": [
    "category = 'Intention of changing position'\n",
    "plotting_likert(df, country, category, turn_over2, order_scale=agree_scale)"
   ]
  },
  {
   "cell_type": "markdown",
   "metadata": {},
   "source": [
    "### Perceived employability"
   ]
  },
  {
   "cell_type": "code",
   "execution_count": null,
   "metadata": {},
   "outputs": [],
   "source": [
    "category = 'Perceived employability'\n",
    "plotting_likert(df, country, category, perc_emp, order_scale=agree_scale)"
   ]
  },
  {
   "cell_type": "markdown",
   "metadata": {},
   "source": [
    "### Progression in the current role"
   ]
  },
  {
   "cell_type": "code",
   "execution_count": null,
   "metadata": {},
   "outputs": [],
   "source": [
    "category = 'Progression in the current position'\n",
    "plotting_likert(df, country, category, prog_rse, order_scale=agree_scale)"
   ]
  },
  {
   "cell_type": "markdown",
   "metadata": {},
   "source": [
    "## Rest of the world"
   ]
  },
  {
   "cell_type": "code",
   "execution_count": null,
   "metadata": {
    "collapsed": true
   },
   "outputs": [],
   "source": [
    "country = 'World'"
   ]
  },
  {
   "cell_type": "markdown",
   "metadata": {},
   "source": [
    "### General satisfaction"
   ]
  },
  {
   "cell_type": "code",
   "execution_count": null,
   "metadata": {},
   "outputs": [],
   "source": [
    "category = 'General satisfaction'\n",
    "plotting_likert(df, country, category, satis_gen, order_scale=number_scale)"
   ]
  },
  {
   "cell_type": "markdown",
   "metadata": {},
   "source": [
    "### Recognition"
   ]
  },
  {
   "cell_type": "code",
   "execution_count": null,
   "metadata": {},
   "outputs": [],
   "source": [
    "recog_cat = 'Recognition'\n",
    "plotting_likert(df, country, category, recog, order_scale=agree_scale)"
   ]
  },
  {
   "cell_type": "markdown",
   "metadata": {},
   "source": [
    "### Turn-over intention"
   ]
  },
  {
   "cell_type": "code",
   "execution_count": null,
   "metadata": {},
   "outputs": [],
   "source": [
    "category = 'Intention of changing position'\n",
    "plotting_likert(df, country, category, turn_over1, order_scale=number_scale)"
   ]
  },
  {
   "cell_type": "code",
   "execution_count": null,
   "metadata": {},
   "outputs": [],
   "source": [
    "category = 'Intention of changing position'\n",
    "plotting_likert(df, country, category, turn_over2, order_scale=agree_scale)"
   ]
  },
  {
   "cell_type": "markdown",
   "metadata": {},
   "source": [
    "### Perceived employability"
   ]
  },
  {
   "cell_type": "code",
   "execution_count": null,
   "metadata": {},
   "outputs": [],
   "source": [
    "category = 'Perceived employability'\n",
    "plotting_likert(df, country, category, perc_emp, order_scale=agree_scale)"
   ]
  },
  {
   "cell_type": "markdown",
   "metadata": {},
   "source": [
    "### Progression in the current role"
   ]
  },
  {
   "cell_type": "code",
   "execution_count": null,
   "metadata": {},
   "outputs": [],
   "source": [
    "category = 'Progression in the current position'\n",
    "plotting_likert(df, country, category, prog_rse, order_scale=agree_scale)"
   ]
  },
  {
   "cell_type": "markdown",
   "metadata": {},
   "source": [
    "# Socio demographic"
   ]
  },
  {
   "cell_type": "code",
   "execution_count": null,
   "metadata": {
    "collapsed": true
   },
   "outputs": [],
   "source": [
    "age = ['socio3. Please select your age']\n",
    "age_order = ['18 to 24 years', '25 to 34 years', '35 to 44 years', '45 to 54 years', '55 to 64 years', 'Age 65 or older', 'Prefer not to say']\n",
    "\n",
    "gender = [\"socio2. Please select your gender\"]\n",
    "\n",
    "ethnicity = [x for x in df.columns if x[:7] == 'socio5.']\n",
    "ethn_us = ['socio5us. Do you consider yourself Hispanic or Latino']\n",
    "\n",
    "disability = ['disa1. Do you have a condition that is defined as a disability by your country?']\n"
   ]
  },
  {
   "cell_type": "markdown",
   "metadata": {},
   "source": [
    "## Australia"
   ]
  },
  {
   "cell_type": "code",
   "execution_count": null,
   "metadata": {
    "collapsed": true
   },
   "outputs": [],
   "source": [
    "country = 'Australia'"
   ]
  },
  {
   "cell_type": "markdown",
   "metadata": {},
   "source": [
    "### Age"
   ]
  },
  {
   "cell_type": "code",
   "execution_count": null,
   "metadata": {},
   "outputs": [],
   "source": [
    "category = 'Age'\n",
    "results = count_diff(df, age, country, category, order_index=age_order)\n",
    "results"
   ]
  },
  {
   "cell_type": "code",
   "execution_count": null,
   "metadata": {},
   "outputs": [],
   "source": [
    "plot_cat_comparison(results, country=country, category=category, order_index=age_order)"
   ]
  },
  {
   "cell_type": "markdown",
   "metadata": {},
   "source": [
    "### Gender"
   ]
  },
  {
   "cell_type": "code",
   "execution_count": null,
   "metadata": {},
   "outputs": [],
   "source": [
    "category = 'Gender'\n",
    "results = count_diff(df, gender, country, category)\n",
    "results"
   ]
  },
  {
   "cell_type": "code",
   "execution_count": null,
   "metadata": {},
   "outputs": [],
   "source": [
    "plot_cat_comparison(results, country=country, category=category)"
   ]
  },
  {
   "cell_type": "markdown",
   "metadata": {},
   "source": [
    "## Germany"
   ]
  },
  {
   "cell_type": "code",
   "execution_count": null,
   "metadata": {
    "collapsed": true
   },
   "outputs": [],
   "source": [
    "country = 'Germany'"
   ]
  },
  {
   "cell_type": "markdown",
   "metadata": {},
   "source": [
    "### Age"
   ]
  },
  {
   "cell_type": "code",
   "execution_count": null,
   "metadata": {},
   "outputs": [],
   "source": [
    "category = 'Age'\n",
    "results = count_diff(df, age, country, category, order_index=age_order)\n",
    "results"
   ]
  },
  {
   "cell_type": "code",
   "execution_count": null,
   "metadata": {},
   "outputs": [],
   "source": [
    "plot_cat_comparison(results, country=country, category=category, order_index=age_order)"
   ]
  },
  {
   "cell_type": "markdown",
   "metadata": {},
   "source": [
    "### Gender"
   ]
  },
  {
   "cell_type": "code",
   "execution_count": null,
   "metadata": {},
   "outputs": [],
   "source": [
    "category = 'Gender'\n",
    "results = count_diff(df, gender, country, category)\n",
    "results"
   ]
  },
  {
   "cell_type": "code",
   "execution_count": null,
   "metadata": {},
   "outputs": [],
   "source": [
    "plot_cat_comparison(results, country=country, category=category)"
   ]
  },
  {
   "cell_type": "markdown",
   "metadata": {},
   "source": [
    "## Netherlands"
   ]
  },
  {
   "cell_type": "code",
   "execution_count": null,
   "metadata": {
    "collapsed": true
   },
   "outputs": [],
   "source": [
    "country = 'Netherlands'"
   ]
  },
  {
   "cell_type": "markdown",
   "metadata": {},
   "source": [
    "### Age"
   ]
  },
  {
   "cell_type": "code",
   "execution_count": null,
   "metadata": {},
   "outputs": [],
   "source": [
    "category = 'Age'\n",
    "results = count_diff(df, age, country, category, order_index=age_order)\n",
    "results"
   ]
  },
  {
   "cell_type": "code",
   "execution_count": null,
   "metadata": {},
   "outputs": [],
   "source": [
    "plot_cat_comparison(results, country=country, category=category, order_index=age_order)"
   ]
  },
  {
   "cell_type": "markdown",
   "metadata": {},
   "source": [
    "### Gender"
   ]
  },
  {
   "cell_type": "code",
   "execution_count": null,
   "metadata": {},
   "outputs": [],
   "source": [
    "category = 'Gender'\n",
    "results = count_diff(df, gender, country, category)\n",
    "results"
   ]
  },
  {
   "cell_type": "code",
   "execution_count": null,
   "metadata": {},
   "outputs": [],
   "source": [
    "plot_cat_comparison(results, country=country, category=category)"
   ]
  },
  {
   "cell_type": "markdown",
   "metadata": {},
   "source": [
    "## New Zealand"
   ]
  },
  {
   "cell_type": "code",
   "execution_count": null,
   "metadata": {
    "collapsed": true
   },
   "outputs": [],
   "source": [
    "country = 'New Zealand'"
   ]
  },
  {
   "cell_type": "markdown",
   "metadata": {},
   "source": [
    "### Age"
   ]
  },
  {
   "cell_type": "code",
   "execution_count": null,
   "metadata": {},
   "outputs": [],
   "source": [
    "category = 'Age'\n",
    "results = count_diff(df, age, country, category, order_index=age_order)\n",
    "results"
   ]
  },
  {
   "cell_type": "code",
   "execution_count": null,
   "metadata": {},
   "outputs": [],
   "source": [
    "plot_cat_comparison(results, country=country, category=category, order_index=age_order)"
   ]
  },
  {
   "cell_type": "markdown",
   "metadata": {},
   "source": [
    "### Gender"
   ]
  },
  {
   "cell_type": "code",
   "execution_count": null,
   "metadata": {},
   "outputs": [],
   "source": [
    "category = 'Gender'\n",
    "results = count_diff(df, gender, country, category)\n",
    "results"
   ]
  },
  {
   "cell_type": "code",
   "execution_count": null,
   "metadata": {},
   "outputs": [],
   "source": [
    "plot_cat_comparison(results, country=country, category=category)"
   ]
  },
  {
   "cell_type": "markdown",
   "metadata": {},
   "source": [
    "## South Africa"
   ]
  },
  {
   "cell_type": "code",
   "execution_count": null,
   "metadata": {
    "collapsed": true
   },
   "outputs": [],
   "source": [
    "country = 'South Africa'"
   ]
  },
  {
   "cell_type": "markdown",
   "metadata": {},
   "source": [
    "### Age"
   ]
  },
  {
   "cell_type": "code",
   "execution_count": null,
   "metadata": {},
   "outputs": [],
   "source": [
    "category = 'Age'\n",
    "results = count_diff(df, age, country, category, order_index=age_order)\n",
    "results"
   ]
  },
  {
   "cell_type": "code",
   "execution_count": null,
   "metadata": {},
   "outputs": [],
   "source": [
    "plot_cat_comparison(results, country=country, category=category, order_index=age_order)"
   ]
  },
  {
   "cell_type": "markdown",
   "metadata": {},
   "source": [
    "### Gender"
   ]
  },
  {
   "cell_type": "code",
   "execution_count": null,
   "metadata": {},
   "outputs": [],
   "source": [
    "category = 'Gender'\n",
    "results = count_diff(df, gender, country, category)\n",
    "results"
   ]
  },
  {
   "cell_type": "code",
   "execution_count": null,
   "metadata": {},
   "outputs": [],
   "source": [
    "plot_cat_comparison(results, country=country, category=category)"
   ]
  },
  {
   "cell_type": "markdown",
   "metadata": {},
   "source": [
    "## United Kingdom"
   ]
  },
  {
   "cell_type": "code",
   "execution_count": null,
   "metadata": {
    "collapsed": true
   },
   "outputs": [],
   "source": [
    "country = 'United Kingdom'"
   ]
  },
  {
   "cell_type": "markdown",
   "metadata": {},
   "source": [
    "### Age"
   ]
  },
  {
   "cell_type": "code",
   "execution_count": null,
   "metadata": {},
   "outputs": [],
   "source": [
    "category = 'Age'\n",
    "results = count_diff(df, age, country, category, order_index=age_order)\n",
    "results"
   ]
  },
  {
   "cell_type": "code",
   "execution_count": null,
   "metadata": {},
   "outputs": [],
   "source": [
    "plot_cat_comparison(results, country=country, category=category, order_index=age_order)"
   ]
  },
  {
   "cell_type": "markdown",
   "metadata": {},
   "source": [
    "### Gender"
   ]
  },
  {
   "cell_type": "code",
   "execution_count": null,
   "metadata": {},
   "outputs": [],
   "source": [
    "category = 'Gender'\n",
    "results = count_diff(df, gender, country, category)\n",
    "results"
   ]
  },
  {
   "cell_type": "code",
   "execution_count": null,
   "metadata": {},
   "outputs": [],
   "source": [
    "plot_cat_comparison(results, country=country, category=category)"
   ]
  },
  {
   "cell_type": "markdown",
   "metadata": {},
   "source": [
    "### Ethnicity"
   ]
  },
  {
   "cell_type": "code",
   "execution_count": null,
   "metadata": {},
   "outputs": [],
   "source": [
    "category = 'Ethnicity'\n",
    "results = count_diff(df, ethnicity, country, category, multi_choice=True)\n",
    "results"
   ]
  },
  {
   "cell_type": "code",
   "execution_count": null,
   "metadata": {},
   "outputs": [],
   "source": [
    "plot_cat_comparison(results, country=country, category=category)"
   ]
  },
  {
   "cell_type": "markdown",
   "metadata": {},
   "source": [
    "### Disability"
   ]
  },
  {
   "cell_type": "code",
   "execution_count": null,
   "metadata": {
    "collapsed": true
   },
   "outputs": [],
   "source": [
    "category = \"Officially recognised disability\"\n",
    "results = count_diff(df, disability, country, category, y_n=True)"
   ]
  },
  {
   "cell_type": "code",
   "execution_count": null,
   "metadata": {},
   "outputs": [],
   "source": [
    "plot_cat_comparison(results, country=country, category=category)"
   ]
  },
  {
   "cell_type": "markdown",
   "metadata": {},
   "source": [
    "## United States"
   ]
  },
  {
   "cell_type": "code",
   "execution_count": null,
   "metadata": {
    "collapsed": true
   },
   "outputs": [],
   "source": [
    "country = 'United States'"
   ]
  },
  {
   "cell_type": "markdown",
   "metadata": {},
   "source": [
    "### Age"
   ]
  },
  {
   "cell_type": "code",
   "execution_count": null,
   "metadata": {},
   "outputs": [],
   "source": [
    "category = 'Age'\n",
    "results = count_diff(df, age, country, category, order_index=age_order)\n",
    "results"
   ]
  },
  {
   "cell_type": "code",
   "execution_count": null,
   "metadata": {},
   "outputs": [],
   "source": [
    "plot_cat_comparison(results, country=country, category=category, order_index=age_order)"
   ]
  },
  {
   "cell_type": "markdown",
   "metadata": {},
   "source": [
    "### Gender"
   ]
  },
  {
   "cell_type": "code",
   "execution_count": null,
   "metadata": {},
   "outputs": [],
   "source": [
    "category = 'Gender'\n",
    "results = count_diff(df, gender, country, category)\n",
    "results"
   ]
  },
  {
   "cell_type": "code",
   "execution_count": null,
   "metadata": {},
   "outputs": [],
   "source": [
    "plot_cat_comparison(results, country=country, category=category)"
   ]
  },
  {
   "cell_type": "markdown",
   "metadata": {},
   "source": [
    "### Ethnicity"
   ]
  },
  {
   "cell_type": "code",
   "execution_count": null,
   "metadata": {},
   "outputs": [],
   "source": [
    "category = 'Ethnicity'\n",
    "results = count_diff(df, ethnicity, country, category, multi_choice=True)\n",
    "results"
   ]
  },
  {
   "cell_type": "code",
   "execution_count": null,
   "metadata": {},
   "outputs": [],
   "source": [
    "plot_cat_comparison(results, country=country, category=category)"
   ]
  },
  {
   "cell_type": "markdown",
   "metadata": {},
   "source": [
    "### Hispano or Latino"
   ]
  },
  {
   "cell_type": "code",
   "execution_count": null,
   "metadata": {},
   "outputs": [],
   "source": [
    "category = 'Ethnicity USA'\n",
    "results = count_diff(df, ethn_us, country, category, y_n=True)\n",
    "results"
   ]
  },
  {
   "cell_type": "code",
   "execution_count": null,
   "metadata": {},
   "outputs": [],
   "source": [
    "plot_cat_comparison(results, country=country, category=category)"
   ]
  },
  {
   "cell_type": "markdown",
   "metadata": {},
   "source": [
    "## Rest of the world"
   ]
  },
  {
   "cell_type": "code",
   "execution_count": null,
   "metadata": {
    "collapsed": true
   },
   "outputs": [],
   "source": [
    "country = 'World'"
   ]
  },
  {
   "cell_type": "markdown",
   "metadata": {},
   "source": [
    "### Age"
   ]
  },
  {
   "cell_type": "code",
   "execution_count": null,
   "metadata": {},
   "outputs": [],
   "source": [
    "category = 'Age'\n",
    "results = count_diff(df, age, country, category, order_index=age_order)\n",
    "results"
   ]
  },
  {
   "cell_type": "code",
   "execution_count": null,
   "metadata": {},
   "outputs": [],
   "source": [
    "plot_cat_comparison(results, country=country, category=category, order_index=age_order)"
   ]
  },
  {
   "cell_type": "markdown",
   "metadata": {},
   "source": [
    "### Gender"
   ]
  },
  {
   "cell_type": "code",
   "execution_count": null,
   "metadata": {},
   "outputs": [],
   "source": [
    "category = 'Gender'\n",
    "results = count_diff(df, gender, country, category)\n",
    "results"
   ]
  },
  {
   "cell_type": "code",
   "execution_count": null,
   "metadata": {},
   "outputs": [],
   "source": [
    "plot_cat_comparison(results, country=country, category=category)"
   ]
  },
  {
   "cell_type": "markdown",
   "metadata": {},
   "source": [
    "# Research Software Engineer"
   ]
  },
  {
   "cell_type": "code",
   "execution_count": null,
   "metadata": {
    "collapsed": true
   },
   "outputs": [],
   "source": [
    "rse_member = ['ukrse1. Are you a member of an association of Research Software Developers (e.g. AUS-RSE, CANARIE, DE-RSE, NZ_RSE, UK RSE, …)?']\n",
    "rse_joining = ['org1can. Would you be interested in joining such an organisation?']\n",
    "orga_wish = [x for x in df.columns if x[:7] == 'org2can']\n",
    "rse_conf = ['ukrse12de. Would you like to attend a conference about software development in academia?']\n",
    "skill_learn = ['ukrse3. How did you learn the skills you need to become an Research Software Engineer / Research Software Developer?']\n",
    "skill_improve = ['skill2. What three skills would you like to acquire or improve to help your work as a Research Software Engineer/ Research Software Developer? The skills can be technical and non-technical.']"
   ]
  },
  {
   "cell_type": "markdown",
   "metadata": {},
   "source": [
    "## Australia"
   ]
  },
  {
   "cell_type": "code",
   "execution_count": null,
   "metadata": {
    "collapsed": true
   },
   "outputs": [],
   "source": [
    "country = 'Australia'"
   ]
  },
  {
   "cell_type": "markdown",
   "metadata": {},
   "source": [
    "### RSE member"
   ]
  },
  {
   "cell_type": "code",
   "execution_count": null,
   "metadata": {},
   "outputs": [],
   "source": [
    "category = 'Member of an association of RSE/RSD'\n",
    "results = count_diff(df, rse_member, country, category, y_n=True)\n",
    "results"
   ]
  },
  {
   "cell_type": "code",
   "execution_count": null,
   "metadata": {},
   "outputs": [],
   "source": [
    "plot_cat_comparison(results, country=country, category=category)"
   ]
  },
  {
   "cell_type": "markdown",
   "metadata": {},
   "source": [
    "### Joining a RSE/RSD association"
   ]
  },
  {
   "cell_type": "code",
   "execution_count": null,
   "metadata": {},
   "outputs": [],
   "source": [
    "category = 'Joining a RSE/RSD association'\n",
    "results = count_diff(df, rse_joining, country, category, y_n=True)\n",
    "results"
   ]
  },
  {
   "cell_type": "code",
   "execution_count": null,
   "metadata": {},
   "outputs": [],
   "source": [
    "plot_cat_comparison(results, country=country, category=category)"
   ]
  },
  {
   "cell_type": "markdown",
   "metadata": {},
   "source": [
    "### What is important for such organisation"
   ]
  },
  {
   "cell_type": "code",
   "execution_count": null,
   "metadata": {},
   "outputs": [],
   "source": [
    "category = 'What is important for such organisation'\n",
    "results = count_diff(df, orga_wish, country, category, multi_choice=True)\n",
    "results"
   ]
  },
  {
   "cell_type": "code",
   "execution_count": null,
   "metadata": {},
   "outputs": [],
   "source": [
    "plot_cat_comparison(results, country=country, category=category)"
   ]
  },
  {
   "cell_type": "markdown",
   "metadata": {},
   "source": [
    "### Attending a national conference of RSE/RSD"
   ]
  },
  {
   "cell_type": "code",
   "execution_count": null,
   "metadata": {},
   "outputs": [],
   "source": [
    "category = 'Attending a national conference of RSE/RSD'\n",
    "results = count_diff(df, rse_conf, country, category, y_n=True)\n",
    "results"
   ]
  },
  {
   "cell_type": "code",
   "execution_count": null,
   "metadata": {},
   "outputs": [],
   "source": [
    "plot_cat_comparison(results, country=country, category=category)"
   ]
  },
  {
   "cell_type": "markdown",
   "metadata": {},
   "source": [
    "### Learning skills for RSE/RSD"
   ]
  },
  {
   "cell_type": "code",
   "execution_count": null,
   "metadata": {},
   "outputs": [],
   "source": [
    "category = 'Learning skill to become a RSE/RSD'\n",
    "plot_wordcloud(df, skill_learn, country, category)"
   ]
  },
  {
   "cell_type": "markdown",
   "metadata": {},
   "source": [
    "### Which skills to improve"
   ]
  },
  {
   "cell_type": "code",
   "execution_count": null,
   "metadata": {},
   "outputs": [],
   "source": [
    "category = 'Which skill to improve as RSE/RSD'\n",
    "plot_wordcloud(df, skill_improve, country, category)"
   ]
  },
  {
   "cell_type": "markdown",
   "metadata": {},
   "source": [
    "## Germany"
   ]
  },
  {
   "cell_type": "code",
   "execution_count": null,
   "metadata": {
    "collapsed": true
   },
   "outputs": [],
   "source": [
    "country = 'Germany'"
   ]
  },
  {
   "cell_type": "markdown",
   "metadata": {},
   "source": [
    "### RSE member"
   ]
  },
  {
   "cell_type": "code",
   "execution_count": null,
   "metadata": {},
   "outputs": [],
   "source": [
    "category = 'Member of an association of RSE/RSD'\n",
    "results = count_diff(df, rse_member, country, category, y_n=True)\n",
    "results"
   ]
  },
  {
   "cell_type": "code",
   "execution_count": null,
   "metadata": {},
   "outputs": [],
   "source": [
    "plot_cat_comparison(results, country=country, category=category)"
   ]
  },
  {
   "cell_type": "markdown",
   "metadata": {},
   "source": [
    "### Joining a RSE/RSD association"
   ]
  },
  {
   "cell_type": "code",
   "execution_count": null,
   "metadata": {},
   "outputs": [],
   "source": [
    "category = 'Joining a RSE/RSD association'\n",
    "results = count_diff(df, rse_joining, country, category, y_n=True)\n",
    "results"
   ]
  },
  {
   "cell_type": "code",
   "execution_count": null,
   "metadata": {},
   "outputs": [],
   "source": [
    "plot_cat_comparison(results, country=country, category=category)"
   ]
  },
  {
   "cell_type": "markdown",
   "metadata": {},
   "source": [
    "### What is important for such organisation"
   ]
  },
  {
   "cell_type": "code",
   "execution_count": null,
   "metadata": {},
   "outputs": [],
   "source": [
    "category = 'What is important for such organisation'\n",
    "results = count_diff(df, orga_wish, country, category, multi_choice=True)\n",
    "results"
   ]
  },
  {
   "cell_type": "code",
   "execution_count": null,
   "metadata": {},
   "outputs": [],
   "source": [
    "plot_cat_comparison(results, country=country, category=category)"
   ]
  },
  {
   "cell_type": "markdown",
   "metadata": {},
   "source": [
    "### Attending a national conference of RSE/RSD"
   ]
  },
  {
   "cell_type": "code",
   "execution_count": null,
   "metadata": {},
   "outputs": [],
   "source": [
    "category = 'Attending a national conference of RSE/RSD'\n",
    "results = count_diff(df, rse_conf, country, category, y_n=True)\n",
    "results"
   ]
  },
  {
   "cell_type": "code",
   "execution_count": null,
   "metadata": {},
   "outputs": [],
   "source": [
    "plot_cat_comparison(results, country=country, category=category)"
   ]
  },
  {
   "cell_type": "markdown",
   "metadata": {},
   "source": [
    "### Learning skills for RSE/RSD"
   ]
  },
  {
   "cell_type": "code",
   "execution_count": null,
   "metadata": {},
   "outputs": [],
   "source": [
    "category = 'Learning skill to become a RSE/RSD'\n",
    "plot_wordcloud(df, skill_learn, country, category)"
   ]
  },
  {
   "cell_type": "markdown",
   "metadata": {},
   "source": [
    "### Which skills to improve"
   ]
  },
  {
   "cell_type": "code",
   "execution_count": null,
   "metadata": {},
   "outputs": [],
   "source": [
    "category = 'Which skill to improve as RSE/RSD'\n",
    "plot_wordcloud(df, skill_improve, country, category)"
   ]
  },
  {
   "cell_type": "markdown",
   "metadata": {},
   "source": [
    "## Netherlands"
   ]
  },
  {
   "cell_type": "code",
   "execution_count": null,
   "metadata": {
    "collapsed": true
   },
   "outputs": [],
   "source": [
    "country = 'Netherlands'"
   ]
  },
  {
   "cell_type": "markdown",
   "metadata": {},
   "source": [
    "### RSE member"
   ]
  },
  {
   "cell_type": "code",
   "execution_count": null,
   "metadata": {},
   "outputs": [],
   "source": [
    "category = 'Member of an association of RSE/RSD'\n",
    "results = count_diff(df, rse_member, country, category, y_n=True)\n",
    "results"
   ]
  },
  {
   "cell_type": "code",
   "execution_count": null,
   "metadata": {},
   "outputs": [],
   "source": [
    "plot_cat_comparison(results, country=country, category=category)"
   ]
  },
  {
   "cell_type": "markdown",
   "metadata": {},
   "source": [
    "### Joining a RSE/RSD association"
   ]
  },
  {
   "cell_type": "code",
   "execution_count": null,
   "metadata": {},
   "outputs": [],
   "source": [
    "category = 'Joining a RSE/RSD association'\n",
    "results = count_diff(df, rse_joining, country, category, y_n=True)\n",
    "results"
   ]
  },
  {
   "cell_type": "code",
   "execution_count": null,
   "metadata": {},
   "outputs": [],
   "source": [
    "plot_cat_comparison(results, country=country, category=category)"
   ]
  },
  {
   "cell_type": "markdown",
   "metadata": {},
   "source": [
    "### What is important for such organisation"
   ]
  },
  {
   "cell_type": "code",
   "execution_count": null,
   "metadata": {},
   "outputs": [],
   "source": [
    "category = 'What is important for such organisation'\n",
    "results = count_diff(df, orga_wish, country, category, multi_choice=True)\n",
    "results"
   ]
  },
  {
   "cell_type": "code",
   "execution_count": null,
   "metadata": {},
   "outputs": [],
   "source": [
    "plot_cat_comparison(results, country=country, category=category)"
   ]
  },
  {
   "cell_type": "markdown",
   "metadata": {},
   "source": [
    "### Attending a national conference of RSE/RSD"
   ]
  },
  {
   "cell_type": "code",
   "execution_count": null,
   "metadata": {},
   "outputs": [],
   "source": [
    "category = 'Attending a national conference of RSE/RSD'\n",
    "results = count_diff(df, rse_conf, country, category, y_n=True)\n",
    "results"
   ]
  },
  {
   "cell_type": "code",
   "execution_count": null,
   "metadata": {},
   "outputs": [],
   "source": [
    "plot_cat_comparison(results, country=country, category=category)"
   ]
  },
  {
   "cell_type": "markdown",
   "metadata": {},
   "source": [
    "### Learning skills for RSE/RSD"
   ]
  },
  {
   "cell_type": "code",
   "execution_count": null,
   "metadata": {},
   "outputs": [],
   "source": [
    "category = 'Learning skill to become a RSE/RSD'\n",
    "plot_wordcloud(df, skill_learn, country, category)"
   ]
  },
  {
   "cell_type": "markdown",
   "metadata": {},
   "source": [
    "### Which skills to improve"
   ]
  },
  {
   "cell_type": "code",
   "execution_count": null,
   "metadata": {},
   "outputs": [],
   "source": [
    "category = 'Which skill to improve as RSE/RSD'\n",
    "plot_wordcloud(df, skill_improve, country, category)"
   ]
  },
  {
   "cell_type": "markdown",
   "metadata": {},
   "source": [
    "## New Zealand"
   ]
  },
  {
   "cell_type": "code",
   "execution_count": null,
   "metadata": {
    "collapsed": true
   },
   "outputs": [],
   "source": [
    "country = 'New Zealand'"
   ]
  },
  {
   "cell_type": "markdown",
   "metadata": {},
   "source": [
    "### RSE member"
   ]
  },
  {
   "cell_type": "code",
   "execution_count": null,
   "metadata": {},
   "outputs": [],
   "source": [
    "category = 'Member of an association of RSE/RSD'\n",
    "results = count_diff(df, rse_member, country, category, y_n=True)\n",
    "results"
   ]
  },
  {
   "cell_type": "code",
   "execution_count": null,
   "metadata": {},
   "outputs": [],
   "source": [
    "plot_cat_comparison(results, country=country, category=category)"
   ]
  },
  {
   "cell_type": "markdown",
   "metadata": {},
   "source": [
    "### Joining a RSE/RSD association"
   ]
  },
  {
   "cell_type": "code",
   "execution_count": null,
   "metadata": {},
   "outputs": [],
   "source": [
    "category = 'Joining a RSE/RSD association'\n",
    "results = count_diff(df, rse_joining, country, category, y_n=True)\n",
    "results"
   ]
  },
  {
   "cell_type": "code",
   "execution_count": null,
   "metadata": {},
   "outputs": [],
   "source": [
    "plot_cat_comparison(results, country=country, category=category)"
   ]
  },
  {
   "cell_type": "markdown",
   "metadata": {},
   "source": [
    "### What is important for such organisation"
   ]
  },
  {
   "cell_type": "code",
   "execution_count": null,
   "metadata": {},
   "outputs": [],
   "source": [
    "category = 'What is important for such organisation'\n",
    "results = count_diff(df, orga_wish, country, category, multi_choice=True)\n",
    "results"
   ]
  },
  {
   "cell_type": "code",
   "execution_count": null,
   "metadata": {},
   "outputs": [],
   "source": [
    "plot_cat_comparison(results, country=country, category=category)"
   ]
  },
  {
   "cell_type": "markdown",
   "metadata": {},
   "source": [
    "### Attending a national conference of RSE/RSD"
   ]
  },
  {
   "cell_type": "code",
   "execution_count": null,
   "metadata": {},
   "outputs": [],
   "source": [
    "category = 'Attending a national conference of RSE/RSD'\n",
    "results = count_diff(df, rse_conf, country, category, y_n=True)\n",
    "results"
   ]
  },
  {
   "cell_type": "code",
   "execution_count": null,
   "metadata": {},
   "outputs": [],
   "source": [
    "plot_cat_comparison(results, country=country, category=category)"
   ]
  },
  {
   "cell_type": "markdown",
   "metadata": {},
   "source": [
    "### Learning skills for RSE/RSD"
   ]
  },
  {
   "cell_type": "code",
   "execution_count": null,
   "metadata": {},
   "outputs": [],
   "source": [
    "category = 'Learning skill to become a RSE/RSD'\n",
    "plot_wordcloud(df, skill_learn, country, category)"
   ]
  },
  {
   "cell_type": "markdown",
   "metadata": {},
   "source": [
    "### Which skills to improve"
   ]
  },
  {
   "cell_type": "code",
   "execution_count": null,
   "metadata": {},
   "outputs": [],
   "source": [
    "category = 'Which skill to improve as RSE/RSD'\n",
    "plot_wordcloud(df, skill_improve, country, category)"
   ]
  },
  {
   "cell_type": "markdown",
   "metadata": {},
   "source": [
    "## South Africa"
   ]
  },
  {
   "cell_type": "code",
   "execution_count": null,
   "metadata": {
    "collapsed": true
   },
   "outputs": [],
   "source": [
    "country = 'South Africa'"
   ]
  },
  {
   "cell_type": "markdown",
   "metadata": {},
   "source": [
    "### RSE member"
   ]
  },
  {
   "cell_type": "code",
   "execution_count": null,
   "metadata": {},
   "outputs": [],
   "source": [
    "category = 'Member of an association of RSE/RSD'\n",
    "results = count_diff(df, rse_member, country, category, y_n=True)\n",
    "results"
   ]
  },
  {
   "cell_type": "code",
   "execution_count": null,
   "metadata": {},
   "outputs": [],
   "source": [
    "plot_cat_comparison(results, country=country, category=category)"
   ]
  },
  {
   "cell_type": "markdown",
   "metadata": {},
   "source": [
    "### Joining a RSE/RSD association"
   ]
  },
  {
   "cell_type": "code",
   "execution_count": null,
   "metadata": {},
   "outputs": [],
   "source": [
    "category = 'Joining a RSE/RSD association'\n",
    "results = count_diff(df, rse_joining, country, category, y_n=True)\n",
    "results"
   ]
  },
  {
   "cell_type": "code",
   "execution_count": null,
   "metadata": {},
   "outputs": [],
   "source": [
    "plot_cat_comparison(results, country=country, category=category)"
   ]
  },
  {
   "cell_type": "markdown",
   "metadata": {},
   "source": [
    "### What is important for such organisation"
   ]
  },
  {
   "cell_type": "code",
   "execution_count": null,
   "metadata": {},
   "outputs": [],
   "source": [
    "category = 'What is important for such organisation'\n",
    "results = count_diff(df, orga_wish, country, category, multi_choice=True)\n",
    "results"
   ]
  },
  {
   "cell_type": "code",
   "execution_count": null,
   "metadata": {},
   "outputs": [],
   "source": [
    "plot_cat_comparison(results, country=country, category=category)"
   ]
  },
  {
   "cell_type": "markdown",
   "metadata": {},
   "source": [
    "### Attending a national conference of RSE/RSD"
   ]
  },
  {
   "cell_type": "code",
   "execution_count": null,
   "metadata": {},
   "outputs": [],
   "source": [
    "category = 'Attending a national conference of RSE/RSD'\n",
    "results = count_diff(df, rse_conf, country, category, y_n=True)\n",
    "results"
   ]
  },
  {
   "cell_type": "code",
   "execution_count": null,
   "metadata": {},
   "outputs": [],
   "source": [
    "plot_cat_comparison(results, country=country, category=category)"
   ]
  },
  {
   "cell_type": "markdown",
   "metadata": {},
   "source": [
    "### Learning skills for RSE/RSD"
   ]
  },
  {
   "cell_type": "code",
   "execution_count": null,
   "metadata": {},
   "outputs": [],
   "source": [
    "category = 'Learning skill to become a RSE/RSD'\n",
    "plot_wordcloud(df, skill_learn, country, category)"
   ]
  },
  {
   "cell_type": "markdown",
   "metadata": {},
   "source": [
    "### Which skills to improve"
   ]
  },
  {
   "cell_type": "code",
   "execution_count": null,
   "metadata": {},
   "outputs": [],
   "source": [
    "category = 'Which skill to improve as RSE/RSD'\n",
    "plot_wordcloud(df, skill_improve, country, category)"
   ]
  },
  {
   "cell_type": "markdown",
   "metadata": {},
   "source": [
    "## United Kingdom"
   ]
  },
  {
   "cell_type": "code",
   "execution_count": null,
   "metadata": {
    "collapsed": true
   },
   "outputs": [],
   "source": [
    "country = 'United Kingdom'"
   ]
  },
  {
   "cell_type": "markdown",
   "metadata": {},
   "source": [
    "### RSE member"
   ]
  },
  {
   "cell_type": "code",
   "execution_count": null,
   "metadata": {},
   "outputs": [],
   "source": [
    "category = 'Member of an association of RSE/RSD'\n",
    "results = count_diff(df, rse_member, country, category, y_n=True)\n",
    "results"
   ]
  },
  {
   "cell_type": "code",
   "execution_count": null,
   "metadata": {},
   "outputs": [],
   "source": [
    "plot_cat_comparison(results, country=country, category=category)"
   ]
  },
  {
   "cell_type": "markdown",
   "metadata": {},
   "source": [
    "### Joining a RSE/RSD association"
   ]
  },
  {
   "cell_type": "code",
   "execution_count": null,
   "metadata": {},
   "outputs": [],
   "source": [
    "category = 'Joining a RSE/RSD association'\n",
    "results = count_diff(df, rse_joining, country, category, y_n=True)\n",
    "results"
   ]
  },
  {
   "cell_type": "code",
   "execution_count": null,
   "metadata": {},
   "outputs": [],
   "source": [
    "plot_cat_comparison(results, country=country, category=category)"
   ]
  },
  {
   "cell_type": "markdown",
   "metadata": {},
   "source": [
    "### What is important for such organisation"
   ]
  },
  {
   "cell_type": "code",
   "execution_count": null,
   "metadata": {},
   "outputs": [],
   "source": [
    "category = 'What is important for such organisation'\n",
    "results = count_diff(df, orga_wish, country, category, multi_choice=True)\n",
    "results"
   ]
  },
  {
   "cell_type": "code",
   "execution_count": null,
   "metadata": {},
   "outputs": [],
   "source": [
    "plot_cat_comparison(results, country=country, category=category)"
   ]
  },
  {
   "cell_type": "markdown",
   "metadata": {},
   "source": [
    "### Attending a national conference of RSE/RSD"
   ]
  },
  {
   "cell_type": "code",
   "execution_count": null,
   "metadata": {},
   "outputs": [],
   "source": [
    "category = 'Attending a national conference of RSE/RSD'\n",
    "results = count_diff(df, rse_conf, country, category, y_n=True)\n",
    "results"
   ]
  },
  {
   "cell_type": "code",
   "execution_count": null,
   "metadata": {},
   "outputs": [],
   "source": [
    "plot_cat_comparison(results, country=country, category=category)"
   ]
  },
  {
   "cell_type": "markdown",
   "metadata": {},
   "source": [
    "### Learning skills for RSE/RSD"
   ]
  },
  {
   "cell_type": "code",
   "execution_count": null,
   "metadata": {},
   "outputs": [],
   "source": [
    "category = 'Learning skill to become a RSE/RSD'\n",
    "plot_wordcloud(df, skill_learn, country, category)"
   ]
  },
  {
   "cell_type": "markdown",
   "metadata": {},
   "source": [
    "### Which skills to improve"
   ]
  },
  {
   "cell_type": "code",
   "execution_count": null,
   "metadata": {},
   "outputs": [],
   "source": [
    "category = 'Which skill to improve as RSE/RSD'\n",
    "plot_wordcloud(df, skill_improve, country, category)"
   ]
  },
  {
   "cell_type": "markdown",
   "metadata": {},
   "source": [
    "## United States"
   ]
  },
  {
   "cell_type": "code",
   "execution_count": null,
   "metadata": {
    "collapsed": true
   },
   "outputs": [],
   "source": [
    "country = 'United States'"
   ]
  },
  {
   "cell_type": "markdown",
   "metadata": {},
   "source": [
    "### RSE member"
   ]
  },
  {
   "cell_type": "code",
   "execution_count": null,
   "metadata": {},
   "outputs": [],
   "source": [
    "category = 'Member of an association of RSE/RSD'\n",
    "results = count_diff(df, rse_member, country, category, y_n=True)\n",
    "results"
   ]
  },
  {
   "cell_type": "code",
   "execution_count": null,
   "metadata": {},
   "outputs": [],
   "source": [
    "plot_cat_comparison(results, country=country, category=category)"
   ]
  },
  {
   "cell_type": "markdown",
   "metadata": {},
   "source": [
    "### Joining a RSE/RSD association"
   ]
  },
  {
   "cell_type": "code",
   "execution_count": null,
   "metadata": {},
   "outputs": [],
   "source": [
    "category = 'Joining a RSE/RSD association'\n",
    "results = count_diff(df, rse_joining, country, category, y_n=True)\n",
    "results"
   ]
  },
  {
   "cell_type": "code",
   "execution_count": null,
   "metadata": {},
   "outputs": [],
   "source": [
    "plot_cat_comparison(results, country=country, category=category)"
   ]
  },
  {
   "cell_type": "markdown",
   "metadata": {},
   "source": [
    "### What is important for such organisation"
   ]
  },
  {
   "cell_type": "code",
   "execution_count": null,
   "metadata": {},
   "outputs": [],
   "source": [
    "category = 'What is important for such organisation'\n",
    "results = count_diff(df, orga_wish, country, category, multi_choice=True)\n",
    "results"
   ]
  },
  {
   "cell_type": "code",
   "execution_count": null,
   "metadata": {},
   "outputs": [],
   "source": [
    "plot_cat_comparison(results, country=country, category=category)"
   ]
  },
  {
   "cell_type": "markdown",
   "metadata": {},
   "source": [
    "### Attending a national conference of RSE/RSD"
   ]
  },
  {
   "cell_type": "code",
   "execution_count": null,
   "metadata": {},
   "outputs": [],
   "source": [
    "category = 'Attending a national conference of RSE/RSD'\n",
    "results = count_diff(df, rse_conf, country, category, y_n=True)\n",
    "results"
   ]
  },
  {
   "cell_type": "code",
   "execution_count": null,
   "metadata": {},
   "outputs": [],
   "source": [
    "plot_cat_comparison(results, country=country, category=category)"
   ]
  },
  {
   "cell_type": "markdown",
   "metadata": {},
   "source": [
    "### Learning skills for RSE/RSD"
   ]
  },
  {
   "cell_type": "code",
   "execution_count": null,
   "metadata": {},
   "outputs": [],
   "source": [
    "category = 'Learning skill to become a RSE/RSD'\n",
    "plot_wordcloud(df, skill_learn, country, category)"
   ]
  },
  {
   "cell_type": "markdown",
   "metadata": {},
   "source": [
    "### Which skills to improve"
   ]
  },
  {
   "cell_type": "code",
   "execution_count": null,
   "metadata": {},
   "outputs": [],
   "source": [
    "category = 'Which skill to improve as RSE/RSD'\n",
    "plot_wordcloud(df, skill_improve, country, category)"
   ]
  },
  {
   "cell_type": "markdown",
   "metadata": {},
   "source": [
    "## Rest of the world"
   ]
  },
  {
   "cell_type": "code",
   "execution_count": null,
   "metadata": {
    "collapsed": true
   },
   "outputs": [],
   "source": [
    "country = 'World'"
   ]
  },
  {
   "cell_type": "markdown",
   "metadata": {},
   "source": [
    "### RSE member"
   ]
  },
  {
   "cell_type": "code",
   "execution_count": null,
   "metadata": {},
   "outputs": [],
   "source": [
    "category = 'Member of an association of RSE/RSD'\n",
    "results = count_diff(df, rse_member, country, category, y_n=True)\n",
    "results"
   ]
  },
  {
   "cell_type": "code",
   "execution_count": null,
   "metadata": {},
   "outputs": [],
   "source": [
    "plot_cat_comparison(results, country=country, category=category)"
   ]
  },
  {
   "cell_type": "markdown",
   "metadata": {},
   "source": [
    "### Joining a RSE/RSD association"
   ]
  },
  {
   "cell_type": "code",
   "execution_count": null,
   "metadata": {},
   "outputs": [],
   "source": [
    "category = 'Joining a RSE/RSD association'\n",
    "results = count_diff(df, rse_joining, country, category, y_n=True)\n",
    "results"
   ]
  },
  {
   "cell_type": "code",
   "execution_count": null,
   "metadata": {},
   "outputs": [],
   "source": [
    "plot_cat_comparison(results, country=country, category=category)"
   ]
  },
  {
   "cell_type": "markdown",
   "metadata": {},
   "source": [
    "### What is important for such organisation"
   ]
  },
  {
   "cell_type": "code",
   "execution_count": null,
   "metadata": {},
   "outputs": [],
   "source": [
    "category = 'What is important for such organisation'\n",
    "results = count_diff(df, orga_wish, country, category, multi_choice=True)\n",
    "results"
   ]
  },
  {
   "cell_type": "code",
   "execution_count": null,
   "metadata": {},
   "outputs": [],
   "source": [
    "plot_cat_comparison(results, country=country, category=category)"
   ]
  },
  {
   "cell_type": "markdown",
   "metadata": {},
   "source": [
    "### Attending a national conference of RSE/RSD"
   ]
  },
  {
   "cell_type": "code",
   "execution_count": null,
   "metadata": {},
   "outputs": [],
   "source": [
    "category = 'Attending a national conference of RSE/RSD'\n",
    "results = count_diff(df, rse_conf, country, category, y_n=True)\n",
    "results"
   ]
  },
  {
   "cell_type": "code",
   "execution_count": null,
   "metadata": {},
   "outputs": [],
   "source": [
    "plot_cat_comparison(results, country=country, category=category)"
   ]
  },
  {
   "cell_type": "markdown",
   "metadata": {},
   "source": [
    "### Learning skills for RSE/RSD"
   ]
  },
  {
   "cell_type": "code",
   "execution_count": null,
   "metadata": {},
   "outputs": [],
   "source": [
    "category = 'Learning skill to become a RSE/RSD'\n",
    "plot_wordcloud(df, skill_learn, country, category)"
   ]
  },
  {
   "cell_type": "markdown",
   "metadata": {},
   "source": [
    "### Which skills to improve"
   ]
  },
  {
   "cell_type": "code",
   "execution_count": null,
   "metadata": {},
   "outputs": [],
   "source": [
    "category = 'Which skill to improve as RSE/RSD'\n",
    "plot_wordcloud(df, skill_improve, country, category)"
   ]
  },
  {
   "cell_type": "code",
   "execution_count": null,
   "metadata": {},
   "outputs": [],
   "source": [
    "current_list = ['socio1. In which country do you work?',\n",
    "                'Unnamed: 0',\n",
    "                'Academic field',\n",
    "                'Country',\n",
    "                'Unnamed: 0.1',\n",
    "                'lastpage. Last page',\n",
    "                'startlanguage. Start language',\n",
    "                'interviewtime. Total time',\n",
    "                'Year',\n",
    "                'rse1. Do you write software for academic research as part of your job',\n",
    "                'rse3. Who uses the code that you write?',\n",
    "                'soft2can. Do you consider yourself a professional software developer?',\n",
    "                'rse4de. Does the majority of your role comprise leading a group of software developers or RSEs?',\n",
    "                'edu1. What is the highest level of education you have attained?',\n",
    "                'edu2. In which discipline is your highest academic qualification?',\n",
    "                'currentEmp1. Please select your organization type',\n",
    "                'currentEmp2. Which university do you work for?',\n",
    "                'currentEmp12. Do you work full time or part time',\n",
    "                'currentEmp10. What is the nature of your current employment?',\n",
    "                'currentEmp11. What is the expected duration (in years) of your current position (in total)?',\n",
    "                'currentEmp20de. Which Fraunhofer institute do you work for?',\n",
    "                'currentEmp21de. Which Helmholtz institute do you work for?',\n",
    "                'currentEmp22de. Which Leibniz institute do you work for?',\n",
    "                'currentEmp23de. Which Max-Planck institute do you work for?',\n",
    "                'currentEmp24de. Which University of Applied Sciences?',\n",
    "                'socio4. Please select the range of your salary',\n",
    "                'socio10de. Please select your renumeration group according to your collective bargaining agreement',\n",
    "                'socio11ausnzl. What is the category of your pay-scale?',\n",
    "                'socio12ausnzl. What is your academic pay-level?',\n",
    "                'socio13ausnzl. What is your pay-level?',\n",
    "                'socio14ausnzl. What is your government pay-level?',\n",
    "                'soft2can. Do you consider yourself a professional software developer?',\n",
    "                'soft1can. How many years of software development experience do you have?',\n",
    "                'time1can. On average, how much of your time is spent developing software?',\n",
    "                'time2can. On average, how much of your time is spent on research',\n",
    "                'time3can. On average, how much of your time is spent on management',\n",
    "                'time4can. On average, how much of your time is spent on teaching',\n",
    "                'time5can. On average, how much of your time is spent on other activities',\n",
    "                'timeLike6zaf. In an average month, how much time would you like to spend on software development?',\n",
    "                'timeLike7zaf. In an average month, how much time would you like to spend on research',\n",
    "                'timeLike8zaf. In an average month, how much time would you like to spend on management',\n",
    "                'timeLike9zaf. In an average month, how much time would you like to spend on teaching',\n",
    "                'timeLike10zaf. In an average month, how much time would you like to spend on other activities',\n",
    "                'rse3. Who uses the code that you write?',\n",
    "                'currentWork2. Are you part of a dedicated research software group within your institution?',\n",
    "                'prevEmp1. Where was your previous job based?',\n",
    "                'proj1can. How many software projects are you currently involved in?',\n",
    "                'proj2can. How many software developers typically work on your projects?',\n",
    "                'proj7can. What percentage of these developers are dedicated to the project full time?',\n",
    "                'proj8can. Do your research software projects typically include a project manager?',\n",
    "                'train2. On average, how many times a year do you take part in providing training?',\n",
    "                'train3. What training programs are you involved with (comma separated list, e.g., Software Carpentry, local university training, etc.)',\n",
    "                'edu4. List any professional qualifications you hold (eg. P. Eng, PMP, …)?',\n",
    "                'fund1can. How is your current research software work funded?',\n",
    "                'paper2mod. In general, when your software contributes to a paper, are you acknowledged in that paper?',\n",
    "                'conf1can. Have you presented your software work at a conference or workshop?',\n",
    "                'conf2can. At which conference(s)/workshop(s) have you presented your software work?',\n",
    "                'plot_cat_comparison(results, country=country, category=category, order_index=True)',\n",
    "                'currentEmp5. What is your official job title?',\n",
    "                'currentEmp6. Are you known in your group by a different job title? If so, please enter the job title you use',\n",
    "                'currentEmp5. What is your official job title?',\n",
    "                'currentWork1. Do you always work with the same researchers, or do you regularly change the researchers you work with?',\n",
    "                'currentEmp6. Are you known in your group by a different job title? If so, please enter the job title you use',\n",
    "                'stability2. Do the projects you work on typically have a plan to cope with developers leaving the group?',\n",
    "                'open1can. How often do you use an open-source licence for your software?',\n",
    "                'open2de. How often do you reference software directly or the papers describing the software?',\n",
    "                'open3can. How often do you associate your software with a Digital Object Identifier (DOI)?',\n",
    "                'open3de. Which tools do you use to mint a DOI (e.g. local library, Zenodo)?',\n",
    "                'open1de. Do you have an ORCID ID?',\n",
    "                'tool2. Which operating system do you primarily use for development?',\n",
    "                'proj5can. What development methodology does your current project use?',\n",
    "                'proj6zaf. Which online collaboration tools and open repositories do you use for software development?',\n",
    "                'satisGen1. In general, how satisfied are you with your current position',\n",
    "                'satisGen2. In general, how satisfied are you with your career',\n",
    "                'recog1. Do you feel that your contribution to research is recognised by your supervisor/line manager',\n",
    "                'recog2. Do you feel that your contribution to research is recognised by the researchers you work with',\n",
    "                'recog3. Do you feel that your contribution to research is recognised by your institution?',\n",
    "                'turnOver3. How often do you consider leaving your job?',\n",
    "                'turnOver6. I would accept another job at the same compensation level if I was offered it',\n",
    "                'percEmp1. It would not be very difficult for me to get an equivalent job in a different institution',\n",
    "                'percEmp3. My experience is in demand on the labour market',\n",
    "                'progRSE1. It is likely that I will gain a promotion within my current group',\n",
    "                'progRSE2. The process I have to complete to gain a promotion is clear and understandable',\n",
    "                'progRSE3. There are many opportunities within my chosen career plan',\n",
    "                'progRSE5. It is likely that my next position will be an Research Software Engineer / Research Software Developer role',\n",
    "                'stability1. What is the bus factor of your most important software project? (The bus factor designates the minimal number of developers that have to be hit by a bus (or quit) before a project is incapacitated)',  \n",
    "                \"proj6uk. We're interested in the difference in coding habits between people who identify as RSEs and other researchers who code. Could we take a look at your code? If so, please enter your Github ID here (if you use it for your professional work). We will not share this information with anyone.\",\n",
    "                \"socio2. Please select your gender\",\n",
    "                'disa1. Do you have a condition that is defined as a disability by your country?',\n",
    "                'socio3. Please select your age',\n",
    "                'socio5us. Do you consider yourself Hispanic or Latino',\n",
    "                'ukrse1. Are you a member of an association of Research Software Developers (e.g. AUS-RSE, CANARIE, DE-RSE, NZ_RSE, UK RSE, …)?',\n",
    "                'org1can. Would you be interested in joining such an organisation?',\n",
    "                'ukrse12de. Would you like to attend a conference about software development in academia?',\n",
    "                'ukrse3. How did you learn the skills you need to become an Research Software Engineer / Research Software Developer?',\n",
    "                'skill2. What three skills would you like to acquire or improve to help your work as a Research Software Engineer/ Research Software Developer? The skills can be technical and non-technical.'\n",
    "                ]\n",
    "\n",
    "\n",
    "current_emp = [x for x in df.columns if x[:12] == 'currentEmp13']\n",
    "current_list.extend(current_emp)\n",
    "\n",
    "prev_emp = [x for x in df.columns if x[:8] == 'prevEmp2']\n",
    "current_list.extend(prev_emp)\n",
    "\n",
    "fund_col = [x for x in df.columns if x[:5] == 'fund2']\n",
    "current_list.extend(fund_col)\n",
    "\n",
    "other_raw = [x for x in df.columns if x[:11] == '[OTHER_RAW]']\n",
    "current_list.extend(other_raw)\n",
    "\n",
    "testing = [x for x in df.columns if x[:8] == 'proj4can']\n",
    "current_list.extend(testing)\n",
    "\n",
    "version_control = [x for x in df.columns if x[:8] == 'proj5zaf']\n",
    "current_list.extend(version_control)\n",
    "\n",
    "plateform_can = [x for x in df.columns if x[:8] == 'tool5can']\n",
    "current_list.extend(plateform_can)\n",
    "\n",
    "prog_lang = [x for x in df.columns if x[:8] == 'tool4can']\n",
    "current_list.extend(prog_lang)\n",
    "\n",
    "ethnicity = [x for x in df.columns if x[:7] == 'socio5.']\n",
    "current_list.extend(ethnicity)\n",
    "\n",
    "orga_wish = [x for x in df.columns if x[:7] == 'org2can']\n",
    "current_list.extend(orga_wish)\n",
    "for i in df.columns:\n",
    "    if i not in current_list:\n",
    "        print(i)"
   ]
  }
 ],
 "metadata": {
  "kernelspec": {
   "display_name": "Python 3",
   "language": "python",
   "name": "python3"
  },
  "language_info": {
   "codemirror_mode": {
    "name": "ipython",
    "version": 3
   },
   "file_extension": ".py",
   "mimetype": "text/x-python",
   "name": "python",
   "nbconvert_exporter": "python",
   "pygments_lexer": "ipython3",
   "version": "3.6.7"
  },
  "toc": {
   "base_numbering": 1,
   "colors": {
    "hover_highlight": "#DAA520",
    "navigate_num": "#000000",
    "navigate_text": "#333333",
    "running_highlight": "#FF0000",
    "selected_highlight": "#FFD700",
    "sidebar_border": "#EEEEEE",
    "wrapper_background": "#FFFFFF"
   },
   "moveMenuLeft": true,
   "nav_menu": {},
   "navigate_menu": true,
   "number_sections": true,
   "sideBar": true,
   "skip_h1_title": true,
   "threshold": 4,
   "title_cell": "Table of Contents",
   "title_sidebar": "Contents",
   "toc_cell": true,
   "toc_position": {
    "height": "985px",
    "left": "0px",
    "right": "1960px",
    "top": "108px",
    "width": "184px"
   },
   "toc_section_display": "block",
   "toc_window_display": true,
   "widenNotebook": false
  }
 },
 "nbformat": 4,
 "nbformat_minor": 2
}
